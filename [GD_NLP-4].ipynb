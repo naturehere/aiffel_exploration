{
 "cells": [
  {
   "attachments": {
    "image.png": {
     "image/png": "[encoded data removed]"
    }
   },
   "cell_type": "markdown",
   "id": "d48958c9",
   "metadata": {},
   "source": [
    "# 1. 들어가며\n",
    "  \n",
    "__머신러닝을 이용한 텍스트 분류__\n",
    "***\n",
    "- 텍스트 분류(Text Classification)란 주어진 텍스트를 사전 정의된 클래스(Pre-defined Class)들로 분류하는 자연어 처리 태스크\n",
    "- 자연어 처리 태스크 중 가장 기본\n",
    "- 비즈니스 영역에서도 가장 수요가 높습니다.\n",
    "- 예)  '스팸 메일 자동 분류', '사용자의 리뷰로부터 긍정, 부정을 판단하는 감성 분류', '포털 사이트가 언론사의 뉴스들을 문화, 정치 등으로 자동 분류하여 보여주는 뉴스 카테고리 분류' \n",
    "- AI 알고리즘의 일반적인 분류 수행 과정\n",
    "![image.png](attachment:image.png)\n",
    "> Vectorization : 워드 임베딩  \n",
    "Model : RNN, CNN, BERT, 머신러닝\n",
    "  \n",
    "- _이번에는 머신러닝, 다중분류를 해보자_\n",
    "\n",
    "__학습 목표__\n",
    "***\n",
    "- 로이터 뉴스 데이터 이해하기\n",
    "- F1-score, confusion matrix 출력해보기\n",
    "- 여러 머신러닝 모델 성능 비교하기\n",
    "- 단어 수에 따른 성능 비교하기\n",
    "  \n",
    "__준비물__\n",
    "***\n",
    "- 실습 디렉토리 생성  \n",
    "$ mkdir -p ~/aiffel/reuters_classifiaction"
   ]
  },
  {
   "cell_type": "markdown",
   "id": "38804acc",
   "metadata": {},
   "source": [
    "# 2. 로이터 뉴스 데이터 (1) 데이터 확인하기\n",
    "- 로이터 뉴스 데이터\n",
    "- 46개 클래스\n",
    "- 해당 뉴스가 어느 클래스인지 예측하는 문제\n",
    "- 텐서플로 제공이므로 쉽게 다운로드\n",
    "\n",
    "__라이브러리 및 데이터 로드__\n",
    "***"
   ]
  },
  {
   "cell_type": "code",
   "execution_count": 1,
   "id": "32d9cbcd",
   "metadata": {},
   "outputs": [
    {
     "name": "stdout",
     "output_type": "stream",
     "text": [
      "Downloading data from https://storage.googleapis.com/tensorflow/tf-keras-datasets/reuters.npz\n",
      "2113536/2110848 [==============================] - 0s 0us/step\n",
      "2121728/2110848 [==============================] - 0s 0us/step\n"
     ]
    }
   ],
   "source": [
    "from tensorflow.keras.datasets import reuters\n",
    "import matplotlib.pyplot as plt\n",
    "import seaborn as sns\n",
    "import numpy as np\n",
    "import pandas as pd\n",
    "\n",
    "# 데이터 로드 \n",
    "# num_words : 빈도수 기준 몇번째 단어 까지 사용할지\n",
    "#test_split : train, test  분리 비율\n",
    "(x_train, y_train), (x_test, y_test) = reuters.load_data(num_words=10000, test_split=0.2)"
   ]
  },
  {
   "cell_type": "markdown",
   "id": "5d364669",
   "metadata": {},
   "source": [
    "- OOV문제, 이후에 확인"
   ]
  },
  {
   "cell_type": "code",
   "execution_count": 2,
   "id": "de985bdf",
   "metadata": {},
   "outputs": [
    {
     "name": "stdout",
     "output_type": "stream",
     "text": [
      "훈련 샘플의 수: 8982\n",
      "테스트 샘플의 수: 2246\n"
     ]
    }
   ],
   "source": [
    "# 데이터 크기 확인\n",
    "print('훈련 샘플의 수: {}'.format(len(x_train)))\n",
    "print('테스트 샘플의 수: {}'.format(len(x_test)))"
   ]
  },
  {
   "cell_type": "markdown",
   "id": "953bde24",
   "metadata": {},
   "source": [
    "__데이터 출력해보기__\n",
    "***\n",
    "- 텍스트가 아니라 시퀀스이다.\n",
    "- 데이터를 로드할때, 단어 빈도수 기준으로 맵핑된 숫자로 변환되어 출력된다.\n",
    "- 텐서플로우 데이터셋에서는 이미 전처리 한 데이터를 제공하는 것."
   ]
  },
  {
   "cell_type": "code",
   "execution_count": 3,
   "id": "531793f0",
   "metadata": {},
   "outputs": [
    {
     "name": "stdout",
     "output_type": "stream",
     "text": [
      "[1, 2, 2, 8, 43, 10, 447, 5, 25, 207, 270, 5, 3095, 111, 16, 369, 186, 90, 67, 7, 89, 5, 19, 102, 6, 19, 124, 15, 90, 67, 84, 22, 482, 26, 7, 48, 4, 49, 8, 864, 39, 209, 154, 6, 151, 6, 83, 11, 15, 22, 155, 11, 15, 7, 48, 9, 4579, 1005, 504, 6, 258, 6, 272, 11, 15, 22, 134, 44, 11, 15, 16, 8, 197, 1245, 90, 67, 52, 29, 209, 30, 32, 132, 6, 109, 15, 17, 12]\n",
      "[1, 4, 1378, 2025, 9, 697, 4622, 111, 8, 25, 109, 29, 3650, 11, 150, 244, 364, 33, 30, 30, 1398, 333, 6, 2, 159, 9, 1084, 363, 13, 2, 71, 9, 2, 71, 117, 4, 225, 78, 206, 10, 9, 1214, 8, 4, 270, 5, 2, 7, 748, 48, 9, 2, 7, 207, 1451, 966, 1864, 793, 97, 133, 336, 7, 4, 493, 98, 273, 104, 284, 25, 39, 338, 22, 905, 220, 3465, 644, 59, 20, 6, 119, 61, 11, 15, 58, 579, 26, 10, 67, 7, 4, 738, 98, 43, 88, 333, 722, 12, 20, 6, 19, 746, 35, 15, 10, 9, 1214, 855, 129, 783, 21, 4, 2280, 244, 364, 51, 16, 299, 452, 16, 515, 4, 99, 29, 5, 4, 364, 281, 48, 10, 9, 1214, 23, 644, 47, 20, 324, 27, 56, 2, 2, 5, 192, 510, 17, 12]\n"
     ]
    }
   ],
   "source": [
    "print(x_train[0])\n",
    "print(x_test[0])"
   ]
  },
  {
   "cell_type": "code",
   "execution_count": 4,
   "id": "d8c95af2",
   "metadata": {},
   "outputs": [
    {
     "name": "stdout",
     "output_type": "stream",
     "text": [
      "3\n",
      "3\n",
      "클래스의 수 : 46\n"
     ]
    }
   ],
   "source": [
    "# 레이블확인\n",
    "print(y_train[0])\n",
    "print(y_test[0])\n",
    "# 각 뉴스는 정수 레이블이다.\n",
    "# 0 부터 시작하므로, 최댓값에 1을 더하면 클래스 수가 된다.\n",
    "num_classes = max(y_train) + 1\n",
    "print('클래스의 수 : {}'.format(num_classes))"
   ]
  },
  {
   "cell_type": "code",
   "execution_count": 5,
   "id": "bc6f531d",
   "metadata": {},
   "outputs": [
    {
     "data": {
      "text/plain": [
       "array([ 3,  4,  3, ..., 25,  3, 25])"
      ]
     },
     "execution_count": 5,
     "metadata": {},
     "output_type": "execute_result"
    }
   ],
   "source": [
    "y_train"
   ]
  },
  {
   "cell_type": "markdown",
   "id": "25c92c90",
   "metadata": {},
   "source": [
    "__데이터 분포 확인해보기__\n",
    "***\n",
    "- 길이 분포 확인\n",
    "- 클래스 분포 확인 및 시각화"
   ]
  },
  {
   "cell_type": "code",
   "execution_count": 6,
   "id": "3ca91be0",
   "metadata": {
    "scrolled": true
   },
   "outputs": [
    {
     "name": "stdout",
     "output_type": "stream",
     "text": [
      "훈련용 뉴스의 최대 길이 :2376\n",
      "훈련용 뉴스의 평균 길이 :145.5398574927633\n"
     ]
    },
    {
     "data": {
      "image/png": "[encoded data removed]",
      "text/plain": [
       "<Figure size 432x288 with 1 Axes>"
      ]
     },
     "metadata": {
      "needs_background": "light"
     },
     "output_type": "display_data"
    }
   ],
   "source": [
    "print('훈련용 뉴스의 최대 길이 :{}'.format(max(len(l) for l in x_train)))\n",
    "print('훈련용 뉴스의 평균 길이 :{}'.format(sum(map(len, x_train))/len(x_train)))\n",
    "\n",
    "plt.hist([len(s) for s in x_train], bins=50)\n",
    "plt.xlabel('length of samples')\n",
    "plt.ylabel('number of samples')\n",
    "plt.show()"
   ]
  },
  {
   "cell_type": "markdown",
   "id": "0101e12d",
   "metadata": {},
   "source": [
    "- 최대 길이 2376, 평균 길이 145\n",
    "- 길이가 가장 긴 뉴스는 다른 것에 비해 유독 긴 편이다."
   ]
  },
  {
   "cell_type": "code",
   "execution_count": 7,
   "id": "141a3089",
   "metadata": {},
   "outputs": [
    {
     "data": {
      "image/png": "[encoded data removed]",
      "text/plain": [
       "<Figure size 792x360 with 1 Axes>"
      ]
     },
     "metadata": {
      "needs_background": "light"
     },
     "output_type": "display_data"
    }
   ],
   "source": [
    "fig, axe = plt.subplots(ncols=1)\n",
    "fig.set_size_inches(11,5)\n",
    "sns.countplot(x=y_train)\n",
    "plt.show()"
   ]
  },
  {
   "cell_type": "markdown",
   "id": "cfc55264",
   "metadata": {},
   "source": [
    "- [subplot, subplots 차이](https://m.blog.naver.com/PostView.naver?isHttpsRedirect=true&blogId=heygun&logNo=221520454294)"
   ]
  },
  {
   "cell_type": "code",
   "execution_count": 8,
   "id": "2bafe2da",
   "metadata": {},
   "outputs": [
    {
     "name": "stdout",
     "output_type": "stream",
     "text": [
      "각 클래스 빈도수:\n",
      "[[   0    1    2    3    4    5    6    7    8    9   10   11   12   13\n",
      "    14   15   16   17   18   19   20   21   22   23   24   25   26   27\n",
      "    28   29   30   31   32   33   34   35   36   37   38   39   40   41\n",
      "    42   43   44   45]\n",
      " [  55  432   74 3159 1949   17   48   16  139  101  124  390   49  172\n",
      "    26   20  444   39   66  549  269  100   15   41   62   92   24   15\n",
      "    48   19   45   39   32   11   50   10   49   19   19   24   36   30\n",
      "    13   21   12   18]]\n"
     ]
    }
   ],
   "source": [
    "#numpy.unique(ar, return_index=False, return_inverse=False, return_counts=False, axis=None)\n",
    "## ararray_like : Input array. Unless axis is specified, this will be flattened if it is not already 1-D\n",
    "## return_counts :bool, optional : If True, also return the number of times each unique item appears in ar.New in version 1.9.0.\n",
    "##Returns: unique :ndarray : The sorted unique values.\n",
    "unique_elements, counts_elements = np.unique(y_train, return_counts=True)\n",
    "print(\"각 클래스 빈도수:\")\n",
    "print(np.asarray((unique_elements, counts_elements)))"
   ]
  },
  {
   "cell_type": "markdown",
   "id": "7e5a1473",
   "metadata": {},
   "source": [
    "- 3번, 4번 클래스가 매우 많다.\n",
    "- 다음으로 19번, 16번이 많다."
   ]
  },
  {
   "cell_type": "markdown",
   "id": "d0764e70",
   "metadata": {},
   "source": [
    "# 3. 로이터 뉴스 데이터 (2) 데이터 복원하기\n",
    "  \n",
    "__원본 뉴스 데이터로 복원해보기__\n",
    "***\n",
    "- 정수 시퀀스롤 변환된 데이터를 다시 텍스트로 돌려보자.\n",
    "- 로이터 뉴스데이터는 {key:단어, value:정수} 의 dictionary를 제공한다."
   ]
  },
  {
   "cell_type": "code",
   "execution_count": 9,
   "id": "3e125517",
   "metadata": {},
   "outputs": [
    {
     "name": "stdout",
     "output_type": "stream",
     "text": [
      "Downloading data from https://storage.googleapis.com/tensorflow/tf-keras-datasets/reuters_word_index.json\n",
      "557056/550378 [==============================] - 0s 0us/step\n",
      "565248/550378 [==============================] - 0s 0us/step\n",
      "1\n",
      "13\n"
     ]
    }
   ],
   "source": [
    "# 단어장 불러오기\n",
    "word_index = reuters.get_word_index(path = \"reuters_word_index.json\")\n",
    "# 단어장 확인\n",
    "print(word_index['the'])\n",
    "print(word_index['it'])"
   ]
  },
  {
   "cell_type": "markdown",
   "id": "070291dd",
   "metadata": {},
   "source": [
    "- 정수를 단어로 바꿀 index_word가 필요\n",
    "> 숨겨진 비밀이 하나 있는데, 뉴스 데이터 안에서 단어 'the'는 사실 1번이 아니라 4번 단어입니다. 그리고 단어 'it'은 사실 13번 단어가 아니라 16번 단어입니다. 다른 단어들도 마찬가지로 word_index에 입력으로 했을 때, 얻는 숫자보다는 +3을 한 숫자가 원래 고유한 숫자입니다. 이건 로이터 뉴스 데이터가 정의한 일종의 약속  \n",
    "reuters.get_word_index에는 실제 단어에 맵핑 한 정수에 -3을 한 정수를 입력해 놓았거든요. 그렇기 때문에 word_index에서 index_word를 만들 때, 각 정수에 +3을 해주어야 합니다"
   ]
  },
  {
   "cell_type": "code",
   "execution_count": 10,
   "id": "82acf849",
   "metadata": {},
   "outputs": [
    {
     "name": "stdout",
     "output_type": "stream",
     "text": [
      "the\n",
      "it\n"
     ]
    }
   ],
   "source": [
    "index_to_word = { index+3 : word for word, index in word_index.items() }\n",
    "print(index_to_word[4])\n",
    "print(index_to_word[16])"
   ]
  },
  {
   "cell_type": "markdown",
   "id": "dd0aabfe",
   "metadata": {},
   "source": [
    "- 0번, 1번, 2번은 사실 각각 \\<pad\\>, \\<sos\\>, \\<unk\\>라는 자연어 처리를 위한 특별한 토큰\n",
    "- index_to_word에 추가적으로 이 작업"
   ]
  },
  {
   "cell_type": "code",
   "execution_count": 11,
   "id": "9440a6f6",
   "metadata": {},
   "outputs": [],
   "source": [
    "# index_to_word에 숫자 0은 <pad>, 숫자 1은 <sos>, 숫자 2는 <unk>를 넣어줍니다.\n",
    "for index, token in enumerate((\"<pad>\", \"<sos>\", \"<unk>\")):\n",
    "    index_to_word[index]=token"
   ]
  },
  {
   "cell_type": "code",
   "execution_count": 12,
   "id": "6df7b51b",
   "metadata": {},
   "outputs": [
    {
     "name": "stdout",
     "output_type": "stream",
     "text": [
      "<sos> <unk> <unk> said as a result of its december acquisition of space co it expects earnings per share in 1987 of 1 15 to 1 30 dlrs per share up from 70 cts in 1986 the company said pretax net should rise to nine to 10 mln dlrs from six mln dlrs in 1986 and rental operation revenues to 19 to 22 mln dlrs from 12 5 mln dlrs it said cash flow per share this year should be 2 50 to three dlrs reuter 3\n"
     ]
    }
   ],
   "source": [
    "# 뉴스 기사 복원\n",
    "print(' '.join(\n",
    "    [index_to_word[index] for index in x_train[0]]\n",
    "))"
   ]
  },
  {
   "cell_type": "markdown",
   "id": "7b7b55c7",
   "metadata": {},
   "source": [
    "__OOV 문제 와 UNK 토큰__\n",
    "***\n",
    "  \n",
    "- 모르는 단어, OOV(Out-Of-Vocabulary) 또는 UNK(Unknown)\n",
    "- 해당 단어를 전부 \\<unk\\> 토큰으로 변환\n",
    "\n",
    "- num_words=10000는 정수 번호가 10,000이 넘는 단어들을 자동으로 \\<unk\\> 토큰으로 처리\n",
    "- 로이터 뉴스 데이터에서 \\<unk\\>은 정수 2번을 가지도록 약속\n",
    "- 로드과정에서 정수 번호가 10,000이 넘는 단어들은 전부 정수 2로 변환\n",
    "\n",
    "\n",
    "__전체 데이터 를 텍스트로 변환__\n",
    "***"
   ]
  },
  {
   "cell_type": "code",
   "execution_count": 13,
   "id": "1baf61b2",
   "metadata": {},
   "outputs": [
    {
     "name": "stdout",
     "output_type": "stream",
     "text": [
      "8982\n",
      "2246\n"
     ]
    }
   ],
   "source": [
    "decoded = []\n",
    "for i in range(len(x_train)):\n",
    "    t = ' '.join([index_to_word[index] for index in x_train[i]])\n",
    "    decoded.append(t)\n",
    "\n",
    "x_train = decoded\n",
    "print(len(x_train))\n",
    "\n",
    "decoded = []\n",
    "for i in range(len(x_test)):\n",
    "    t = ' '.join([index_to_word[index] for index in x_test[i]])\n",
    "    decoded.append(t)\n",
    "\n",
    "x_test = decoded\n",
    "print(len(x_test))"
   ]
  },
  {
   "cell_type": "code",
   "execution_count": 14,
   "id": "f2dc3fad",
   "metadata": {},
   "outputs": [
    {
     "data": {
      "text/plain": [
       "['<sos> <unk> <unk> said as a result of its december acquisition of space co it expects earnings per share in 1987 of 1 15 to 1 30 dlrs per share up from 70 cts in 1986 the company said pretax net should rise to nine to 10 mln dlrs from six mln dlrs in 1986 and rental operation revenues to 19 to 22 mln dlrs from 12 5 mln dlrs it said cash flow per share this year should be 2 50 to three dlrs reuter 3',\n",
       " '<sos> generale de banque sa lt <unk> br and lt heller overseas corp of chicago have each taken 50 pct stakes in <unk> company sa <unk> factors generale de banque said in a statement it gave no financial details of the transaction sa <unk> <unk> turnover in 1986 was 17 5 billion belgian francs reuter 3',\n",
       " '<sos> shr 3 28 dlrs vs 22 cts shr diluted 2 99 dlrs vs 22 cts net 46 0 mln vs 3 328 000 avg shrs 14 0 mln vs 15 2 mln year shr 5 41 dlrs vs 1 56 dlrs shr diluted 4 94 dlrs vs 1 50 dlrs net 78 2 mln vs 25 9 mln avg shrs 14 5 mln vs 15 1 mln note earnings per share reflect the two for one split effective january 6 1987 per share amounts are calculated after preferred stock dividends loss continuing operations for the qtr 1986 includes gains of sale of investments in <unk> corp of 14 mln dlrs and associated companies of 4 189 000 less writedowns of investments in national <unk> inc of 11 8 mln and <unk> corp of 15 6 mln reuter 3',\n",
       " \"<sos> the farmers home administration the u s agriculture department's farm lending arm could lose about seven billion dlrs in outstanding principal on its severely <unk> borrowers or about one fourth of its farm loan portfolio the general accounting office gao said in remarks prepared for delivery to the senate agriculture committee brian crowley senior associate director of gao also said that a preliminary analysis of proposed changes in <unk> financial eligibility standards indicated as many as one half of <unk> borrowers who received new loans from the agency in 1986 would be <unk> under the proposed system the agency has proposed evaluating <unk> credit using a variety of financial ratios instead of relying solely on <unk> ability senate agriculture committee chairman patrick leahy d vt <unk> the proposed eligibility changes telling <unk> administrator <unk> clark at a hearing that they would mark a dramatic shift in the agency's purpose away from being farmers' lender of last resort toward becoming a big city bank but clark defended the new regulations saying the agency had a responsibility to <unk> its 70 billion dlr loan portfolio in a <unk> yet <unk> manner crowley of gao <unk> <unk> arm said the proposed credit <unk> system attempted to ensure that <unk> would make loans only to borrowers who had a reasonable change of repaying their debt reuter 3\",\n",
       " '<sos> seton co said its board has received a proposal from chairman and chief executive officer philip d <unk> to acquire seton for 15 75 dlrs per share in cash seton said the acquisition bid is subject to <unk> arranging the necessary financing it said he intends to ask other members of senior management to participate the company said <unk> owns 30 pct of seton stock and other management members another 7 5 pct seton said it has formed an independent board committee to consider the offer and has deferred the annual meeting it had scheduled for march 31 reuter 3']"
      ]
     },
     "execution_count": 14,
     "metadata": {},
     "output_type": "execute_result"
    }
   ],
   "source": [
    "x_train[:5]"
   ]
  },
  {
   "cell_type": "code",
   "execution_count": 15,
   "id": "7644383f",
   "metadata": {
    "scrolled": false
   },
   "outputs": [
    {
     "data": {
      "text/plain": [
       "['<sos> the great atlantic and pacific tea co said its three year 345 mln dlr capital program will be be substantially increased to <unk> growth and expansion plans for <unk> inc and <unk> inc over the next two years a and p said the acquisition of <unk> in august 1986 and <unk> in december helped us achieve better than expected results in the fourth quarter ended february 28 its net income from continuing operations jumped 52 6 pct to 20 7 mln dlrs or 55 cts a share in the latest quarter as sales increased 48 3 pct to 1 58 billion dlrs a and p gave no details on the expanded capital program but it did say it completed the first year of the program during 1986 a and p is 52 4 pct owned by lt <unk> <unk> of west germany reuter 3',\n",
       " \"<sos> philippine sugar production in the 1987 88 crop year ending august has been set at 1 6 mln tonnes up from a provisional 1 3 mln tonnes this year sugar regulatory administration <unk> chairman <unk> yulo said yulo told reuters a survey during the current milling season which ends next month showed the 1986 87 estimate would almost certainly be met he said at least 1 2 mln tonnes of the 1987 88 crop would be earmarked for domestic consumption yulo said about 130 000 tonnes would be set aside for the u s sugar quota 150 000 tonnes for strategic reserves and 50 000 tonnes would be sold on the world market he said if the government approved a long standing <unk> recommendation to manufacture ethanol the project would take up another 150 000 tonnes slightly raising the target the government for its own reasons has been delaying approval of the project but we expect it to come through by july yulo said ethanol could make up five pct of gasoline cutting the oil import bill by about 300 mln pesos yulo said three major philippine <unk> were ready to start manufacturing ethanol if the project was approved the ethanol project would result in employment for about 100 000 people sharply reducing those thrown out of work by depressed world sugar prices and a <unk> domestic industry production quotas set for the first time in 1987 88 had been submitted to president corazon aquino i think the president would rather wait <unk> the new congress <unk> after the may elections he said but there is really no need for such quotas we are right now producing just slightly over our own consumption level the producers have never enjoyed such high prices yulo said adding sugar was currently selling locally for 320 pesos per <unk> up from 190 pesos last august yulo said prices were driven up because of speculation following the <unk> bid to control production we are no longer concerned so much with the world market he said adding producers in the <unk> region had learned from their <unk> and diversified into corn and <unk> farming and <unk> production he said diversification into products other than ethanol was also possible within the sugar industry the <unk> long ago <unk> their <unk> yulo said they have 300 sugar mills compared with our 41 but they <unk> many of them and diversified production we want to call this a <unk> <unk> instead of the sugar industry he said sugarcane could be fed to pigs and livestock used for <unk> <unk> or used in room <unk> when you cut sugarcane you don't even have to produce sugar he said yulo said the philippines was lobbying for a renewal of the international sugar agreement which expired in 1984 as a major sugar producer we are urging them to write a new agreement which would revive world prices yulo said if there is no agreement world prices will always be depressed particularly because the european community is <unk> its producers and dumping sugar on the markets he said current world prices holding steady at about 7 60 cents per pound were <unk> for the philippines where production costs ranged from 12 to 14 cents a pound if the price holds steady for a while at 7 60 cents i expect the level to rise to about 11 cents a pound by the end of this year he said yulo said economists forecast a bullish sugar market by 1990 with world consumption <unk> production he said sugar markets were holding up despite <unk> from artificial sweeteners and high fructose corn syrup but we are not happy with the reagan administration he said since <unk> we have been regular suppliers of sugar to the u s in 1982 when they restored the quota system they cut <unk> in half without any justification manila was <unk> watching washington's moves to cut domestic support prices to 12 cents a pound from 18 cents the u s agriculture department last december slashed its 12 month 1987 sugar import quota from the philippines to 143 780 short tons from 231 660 short tons in 1986 yulo said despite next year's increased production target some philippine mills were expected to shut down at least four of the 41 mills were not working during the 1986 87 season he said we expect two or three more to follow suit during the next season reuter 3\",\n",
       " \"<sos> the agriculture department's widening of louisiana gulf differentials will affect county posted prices for number two yellow corn in ten states a usda official said all counties in iowa will be affected as will counties which use the gulf to price corn in illinois indiana tennessee kentucky missouri mississippi arkansas alabama and louisiana said <unk> <unk> deputy director of commodity operations division for the usda usda last night notified the grain industry that effective immediately all gulf differentials used to price interior corn would be widened on a sliding scale basis of four to eight cts depending on what the differential is usda's action was taken to lower excessively high posted county prices for corn caused by high gulf prices we've been following this louisiana gulf situation for a month and we don't think it's going to get back in line in any nearby time <unk> said <unk> said usda will probably narrow back the gulf differentials when and if gulf prices <unk> if we're off the mark now because we're too high wouldn't we be as much off the mark if we're too low he said while forecasting more adjustments if gulf prices fall <unk> said no other changes in usda's price system are being planned right now we don't tinker we don't make changes <unk> and we don't make changes often he said reuter 3\",\n",
       " '<sos> <unk> <unk> oil and gas partnership said it completed the sale of interests in two major oil and gas fields to lt energy assets international corp for 21 mln dlrs the company said it sold about one half of its 50 pct interest in the oak hill and north <unk> fields its two largest producing properties it said it used about 20 mln dlrs of the proceeds to <unk> principal on its senior secured notes semi annual principal payments on the remaining 40 mln dlrs of notes have been satisfied until december 1988 as a result it said the company said the note agreements were amended to reflect an easing of some financial covenants and an increase of interest to 13 5 pct from 13 0 pct until december 1990 it said the <unk> exercise price for 1 125 000 warrants was also reduced to 50 cts from 1 50 dlrs the company said energy assets agreed to share the costs of increasing production at the oak hill field reuter 3',\n",
       " '<sos> strong south <unk> winds were keeping many vessels trapped in the ice off the finnish and swedish coasts in one of the worst icy periods in the baltic for many years the finnish board of navigation said in finland and sweden up to 50 vessels were reported to be stuck in the ice and even the largest of the <unk> <unk> were having difficulties in breaking through to the <unk> ships <unk> officials said however icy conditions in the southern baltic at the soviet oil ports of <unk> and <unk> had eased they said weather officials in neighbouring sweden said the icy conditions in the baltic were the worst for 30 years with ships fighting a losing battle to keep moving in the coastal stretches of the gulf of <unk> which <unk> finland and sweden the ice is up to one <unk> thick with <unk> and <unk> packing it into almost <unk> walls three metres high swedish <unk> officials said weather forecasts say winds may ease during the weekend but a further drop in temperature could bring shipping to a standstill the officials said reuter 3']"
      ]
     },
     "execution_count": 15,
     "metadata": {},
     "output_type": "execute_result"
    }
   ],
   "source": [
    "x_test[:5]"
   ]
  },
  {
   "cell_type": "code",
   "execution_count": 16,
   "id": "c9e1fbf9",
   "metadata": {},
   "outputs": [
    {
     "data": {
      "text/plain": [
       "30979"
      ]
     },
     "execution_count": 16,
     "metadata": {},
     "output_type": "execute_result"
    }
   ],
   "source": [
    "len(word_index)"
   ]
  },
  {
   "attachments": {
    "image.png": {
     "image/png": "[encoded data removed]"
    }
   },
   "cell_type": "markdown",
   "id": "e53b2fdd",
   "metadata": {},
   "source": [
    "# 4. 벡터화 하기\n",
    "  \n",
    "![image.png](attachment:image.png)\n",
    "- 벡터화 방법 Word Embedding, Document Embedding, Contextual Embedding, 머신러닝 방법 등\n",
    "- 이번에는 머신러닝 벡터화 방법 사용\n",
    "- Bag of Words 가설을 기반으로 하는 __DTM, TF-IDF__ 행렬\n",
    "\n",
    "- [위키독스: 문서 단어 행렬(DTM)](https://wikidocs.net/24559)\n",
    "\n",
    "- 사이킷런의 CountVectorizer()로 DTM 생성 및 크기를 확인해보자"
   ]
  },
  {
   "cell_type": "code",
   "execution_count": 17,
   "id": "89ba71c1",
   "metadata": {},
   "outputs": [
    {
     "name": "stdout",
     "output_type": "stream",
     "text": [
      "(8982, 9670)\n"
     ]
    }
   ],
   "source": [
    "from sklearn.feature_extraction.text import CountVectorizer\n",
    "from sklearn.feature_extraction.text import TfidfTransformer\n",
    "\n",
    "dtmvector = CountVectorizer()\n",
    "x_train_dtm = dtmvector.fit_transform(x_train)\n",
    "print(x_train_dtm.shape)"
   ]
  },
  {
   "cell_type": "markdown",
   "id": "57ffd733",
   "metadata": {},
   "source": [
    "__DTM 한 train__\n",
    "- 8982 문장, 9670단어이다.\n",
    "- DTM이 자체적인 규칙에 따라서 불필요한 토큰을 제거하기 때문에\n",
    "- 1만개 단어가 아니라, 9670개로 단어가 감소하였다.\n",
    "\n",
    "> max_dffloat in range [0.0, 1.0] or int, default=1.0\n",
    "When building the vocabulary __ignore terms that have a document frequency strictly higher than the given threshold (corpus-specific stop words)__. If float, the parameter represents a proportion of documents, integer absolute counts. This parameter is ignored if vocabulary is not None.  \n",
    "\n",
    "> min_dffloat in range [0.0, 1.0] or int, default=1\n",
    "When building the vocabulary __ignore terms that have a document frequency strictly lower than the given threshold.__ This value is also called cut-off in the literature. If float, the parameter represents a proportion of documents, integer absolute counts. This parameter is ignored if vocabulary is not None.\n",
    "\n",
    "> __단어 빈도가 구간 \\[0,1.0\\] = 0< ~ < 1.0 __. 즉 빈도가 0이거나, 1.0 이상인 단어는 제거.  \n",
    "여기서는 빈도가 1.0 이상인 즉 모두 등장하는 단어가 제거되었다(?)\n",
    "\n",
    "__TF-IDF__\n",
    "- [위키독스: TF-IDF](https://wikidocs.net/31698)\n",
    "- 추가적인 전처리를 하지 않는이상, DTM 과 동일한 크기를 가진다."
   ]
  },
  {
   "cell_type": "code",
   "execution_count": 18,
   "id": "732fb0ed",
   "metadata": {
    "scrolled": true
   },
   "outputs": [
    {
     "name": "stdout",
     "output_type": "stream",
     "text": [
      "(8982, 9670)\n"
     ]
    }
   ],
   "source": [
    "tfidf_transformer = TfidfTransformer()\n",
    "tfidfv = tfidf_transformer.fit_transform(x_train_dtm)\n",
    "print(tfidfv.shape)"
   ]
  },
  {
   "cell_type": "code",
   "execution_count": 19,
   "id": "1d54e498",
   "metadata": {},
   "outputs": [],
   "source": [
    "# 제거된 것이 맞는지 확인 해볼까?\n",
    "(x_train_seq, _), (_, _) = reuters.load_data(num_words=10000, test_split=0.2)"
   ]
  },
  {
   "cell_type": "code",
   "execution_count": 20,
   "id": "10daa72a",
   "metadata": {},
   "outputs": [
    {
     "name": "stdout",
     "output_type": "stream",
     "text": [
      "9982\n"
     ]
    }
   ],
   "source": [
    "#x_train_seq[0]\n",
    "#print(len(set(x_train_seq)))\n",
    "temp = x_train_seq[0]\n",
    "for i in x_train_seq[1:]:\n",
    "    temp = set(temp)|set(i)\n",
    "    #print(i)\n",
    "\n",
    "print(len(list(temp)))"
   ]
  },
  {
   "cell_type": "markdown",
   "id": "e601918e",
   "metadata": {},
   "source": [
    "# 5. 나이브 베이즈 분류기\n",
    "\n",
    "__나이브 베이즈 분류기(Multinomial Naive Bayes Classifier)__\n",
    "***\n",
    "- 나이브 베이즈 분류기는 사이킷런의 MultinomialNB()를 통해 사용\n",
    "- fit()으로 훈련 데이터와 해당 훈련 데이터에 대한 레이블을 인자로 사용하면 모델이 이를 학습\n",
    "- 테스트 데이터에 동일한 전처리를 거쳐야 합니다. TF-IDF 행렬로 변환\n",
    "- predict() 함수를 통해 예측값을 얻어 정확도를 측정"
   ]
  },
  {
   "cell_type": "code",
   "execution_count": 21,
   "id": "d77effd8",
   "metadata": {},
   "outputs": [],
   "source": [
    "from sklearn.naive_bayes import MultinomialNB #다항분포 나이브 베이즈 모델\n",
    "from sklearn.linear_model import LogisticRegression, SGDClassifier\n",
    "from sklearn.naive_bayes import ComplementNB\n",
    "from sklearn.tree import DecisionTreeClassifier\n",
    "from sklearn.ensemble import RandomForestClassifier\n",
    "from sklearn.ensemble import GradientBoostingClassifier\n",
    "from sklearn.ensemble import VotingClassifier\n",
    "from sklearn.svm import LinearSVC\n",
    "from sklearn.metrics import accuracy_score #정확도 계산"
   ]
  },
  {
   "cell_type": "code",
   "execution_count": 22,
   "id": "38687fa1",
   "metadata": {},
   "outputs": [
    {
     "name": "stdout",
     "output_type": "stream",
     "text": [
      "정확도: 0.6567230632235085\n"
     ]
    }
   ],
   "source": [
    "model = MultinomialNB()\n",
    "model.fit(tfidfv, y_train)\n",
    "\n",
    "x_test_dtm = dtmvector.transform(x_test) #테스트 데이터를 DTM으로 변환\n",
    "tfidfv_test = tfidf_transformer.transform(x_test_dtm) #DTM을 TF-IDF 행렬로 변환\n",
    "\n",
    "predicted = model.predict(tfidfv_test) #테스트 데이터에 대한 예측\n",
    "print(\"정확도:\", accuracy_score(y_test, predicted)) #예측값과 실제값 비교"
   ]
  },
  {
   "cell_type": "code",
   "execution_count": 23,
   "id": "23a8b20b",
   "metadata": {},
   "outputs": [
    {
     "data": {
      "text/plain": [
       "'<sos> <unk> <unk> oil and gas partnership said it completed the sale of interests in two major oil and gas fields to lt energy assets international corp for 21 mln dlrs the company said it sold about one half of its 50 pct interest in the oak hill and north <unk> fields its two largest producing properties it said it used about 20 mln dlrs of the proceeds to <unk> principal on its senior secured notes semi annual principal payments on the remaining 40 mln dlrs of notes have been satisfied until december 1988 as a result it said the company said the note agreements were amended to reflect an easing of some financial covenants and an increase of interest to 13 5 pct from 13 0 pct until december 1990 it said the <unk> exercise price for 1 125 000 warrants was also reduced to 50 cts from 1 50 dlrs the company said energy assets agreed to share the costs of increasing production at the oak hill field reuter 3'"
      ]
     },
     "execution_count": 23,
     "metadata": {},
     "output_type": "execute_result"
    }
   ],
   "source": [
    "x_test[3]"
   ]
  },
  {
   "cell_type": "code",
   "execution_count": 24,
   "id": "e5164721",
   "metadata": {},
   "outputs": [
    {
     "data": {
      "text/plain": [
       "4"
      ]
     },
     "execution_count": 24,
     "metadata": {},
     "output_type": "execute_result"
    }
   ],
   "source": [
    "y_test[3]"
   ]
  },
  {
   "cell_type": "code",
   "execution_count": 25,
   "id": "6d9b363c",
   "metadata": {},
   "outputs": [
    {
     "data": {
      "image/png": "[encoded data removed]",
      "text/plain": [
       "<Figure size 792x360 with 1 Axes>"
      ]
     },
     "metadata": {
      "needs_background": "light"
     },
     "output_type": "display_data"
    }
   ],
   "source": [
    "probability_3 = model.predict_proba(tfidfv_test[3])[0]\n",
    "\n",
    "plt.rcParams[\"figure.figsize\"] = (11,5)\n",
    "plt.bar(model.classes_, probability_3)\n",
    "plt.xlim(-1, 21)\n",
    "plt.xticks(model.classes_)\n",
    "plt.xlabel(\"Class\")\n",
    "plt.ylabel(\"Probability\")\n",
    "plt.show()"
   ]
  },
  {
   "cell_type": "code",
   "execution_count": 26,
   "id": "c2863085",
   "metadata": {},
   "outputs": [
    {
     "data": {
      "text/plain": [
       "array([4])"
      ]
     },
     "execution_count": 26,
     "metadata": {},
     "output_type": "execute_result"
    }
   ],
   "source": [
    "model.predict(tfidfv_test[3])"
   ]
  },
  {
   "cell_type": "markdown",
   "id": "641ce157",
   "metadata": {},
   "source": [
    "# 6. F1-Score, Confusion Matrix\n",
    "  \n",
    "__Precision, Recall & F1 Score__\n",
    "***\n",
    "- [분류성능평가지표 - Precision(정밀도), Recall(재현율) and Accuracy(정확도)](https://sumniya.tistory.com/26)\n",
    "- 사이킷런의 metrics 패키지에서, 정밀도, 재현율, F1점수를 구하는 classification_report() 함수를 제공\n",
    "- 이 함수는 각각의 클래스를 양성(positive) 클래스로 보았을 때의 정밀도, 재현율, F1점수를 각각 구하고 그 평균값으로 전체 모델의 성능을 평가\n",
    "\n",
    "> - macro: 단순평균\n",
    "> - weighted: 각 클래스에 속하는 표본의 개수로 가중평균\n",
    "> - accuracy: 정확도. 전체 학습 데이터의 개수에서 클래스를 정확하게 맞춘 개수의 비율"
   ]
  },
  {
   "cell_type": "code",
   "execution_count": 27,
   "id": "d5e4a018",
   "metadata": {},
   "outputs": [
    {
     "name": "stdout",
     "output_type": "stream",
     "text": [
      "              precision    recall  f1-score   support\n",
      "\n",
      "           0       0.00      0.00      0.00        12\n",
      "           1       0.62      0.69      0.65       105\n",
      "           2       0.00      0.00      0.00        20\n",
      "           3       0.81      0.90      0.85       813\n",
      "           4       0.51      0.96      0.67       474\n",
      "           5       0.00      0.00      0.00         5\n",
      "           6       0.00      0.00      0.00        14\n",
      "           7       0.00      0.00      0.00         3\n",
      "           8       0.00      0.00      0.00        38\n",
      "           9       1.00      0.08      0.15        25\n",
      "          10       0.00      0.00      0.00        30\n",
      "          11       0.66      0.63      0.64        83\n",
      "          12       0.00      0.00      0.00        13\n",
      "          13       1.00      0.03      0.05        37\n",
      "          14       0.00      0.00      0.00         2\n",
      "          15       0.00      0.00      0.00         9\n",
      "          16       0.69      0.56      0.61        99\n",
      "          17       0.00      0.00      0.00        12\n",
      "          18       0.00      0.00      0.00        20\n",
      "          19       0.60      0.78      0.68       133\n",
      "          20       1.00      0.04      0.08        70\n",
      "          21       0.00      0.00      0.00        27\n",
      "          22       0.00      0.00      0.00         7\n",
      "          23       0.00      0.00      0.00        12\n",
      "          24       0.00      0.00      0.00        19\n",
      "          25       1.00      0.03      0.06        31\n",
      "          26       0.00      0.00      0.00         8\n",
      "          27       0.00      0.00      0.00         4\n",
      "          28       0.00      0.00      0.00        10\n",
      "          29       0.00      0.00      0.00         4\n",
      "          30       0.00      0.00      0.00        12\n",
      "          31       0.00      0.00      0.00        13\n",
      "          32       0.00      0.00      0.00        10\n",
      "          33       0.00      0.00      0.00         5\n",
      "          34       0.00      0.00      0.00         7\n",
      "          35       0.00      0.00      0.00         6\n",
      "          36       0.00      0.00      0.00        11\n",
      "          37       0.00      0.00      0.00         2\n",
      "          38       0.00      0.00      0.00         3\n",
      "          39       0.00      0.00      0.00         5\n",
      "          40       0.00      0.00      0.00        10\n",
      "          41       0.00      0.00      0.00         8\n",
      "          42       0.00      0.00      0.00         3\n",
      "          43       0.00      0.00      0.00         6\n",
      "          44       0.00      0.00      0.00         5\n",
      "          45       0.00      0.00      0.00         1\n",
      "\n",
      "    accuracy                           0.66      2246\n",
      "   macro avg       0.17      0.10      0.10      2246\n",
      "weighted avg       0.59      0.66      0.58      2246\n",
      "\n"
     ]
    }
   ],
   "source": [
    "from sklearn.metrics import classification_report\n",
    "from sklearn.metrics import confusion_matrix\n",
    "\n",
    "print(classification_report(y_test, model.predict(tfidfv_test), zero_division=0))"
   ]
  },
  {
   "cell_type": "markdown",
   "id": "6559b8ed",
   "metadata": {},
   "source": [
    "__Confusion Matrix__\n",
    "***\n",
    "- [영상](https://youtu.be/M0GBAzFV9_A)\n",
    "- [Confusion Matrix](https://mjdeeplearning.tistory.com/31)"
   ]
  },
  {
   "cell_type": "code",
   "execution_count": 28,
   "id": "d6c1bd9f",
   "metadata": {},
   "outputs": [
    {
     "data": {
      "image/png": "[encoded data removed]",
      "text/plain": [
       "<Figure size 1080x1080 with 2 Axes>"
      ]
     },
     "metadata": {
      "needs_background": "light"
     },
     "output_type": "display_data"
    }
   ],
   "source": [
    "# 혼동행렬 시각화\n",
    "def graph_confusion_matrix(model, x_test, y_test):#, classes_name):\n",
    "    df_cm = pd.DataFrame(confusion_matrix(y_test, model.predict(x_test)))#, index=classes_name, columns=classes_name)\n",
    "    fig = plt.figure(figsize=(15,15))\n",
    "    heatmap = sns.heatmap(df_cm, annot=True, fmt=\"d\")\n",
    "    heatmap.yaxis.set_ticklabels(heatmap.yaxis.get_ticklabels(), rotation=0, ha='right', fontsize=12)\n",
    "    heatmap.xaxis.set_ticklabels(heatmap.xaxis.get_ticklabels(), rotation=45, ha='right', fontsize=12)\n",
    "    plt.ylabel('label')\n",
    "    plt.xlabel('predicted value')\n",
    "    \n",
    "graph_confusion_matrix(model, tfidfv_test, y_test)"
   ]
  },
  {
   "cell_type": "markdown",
   "id": "40fd6cff",
   "metadata": {},
   "source": [
    "# 7. 다양한 머신러밍 모델 사용해보기(1)\n",
    "\n",
    "__Complement Naive Bayes Classifier(CNB)__\n",
    "***\n",
    "- 나이브 베이지안 분류기\n",
    "- 독립변수가 '조건부 독립적'이라는 가정하기에 문서가 특정분류에 속할 실제 확률을 사용할 때 문제가 발생할 수 있다.\n",
    "- 예) 다수의 샘플이 특정 클래스에 치우친 경우, 결정 경계의 가중치가 한쪽으로 치우쳐져 모델이 특정 클래스를 선호할 수 있다.\n",
    "- 이러한 불균형 경우를 보완한 것이,__컴플리먼트 나이브 베이즈 분류기__이다.\n",
    "- 데이터의 불균형을 고려해 가중치를 부여하는 특징이 있다.\n",
    "- 따라서, 나이브 베이즈 분류기(MultinomialNB)보다 성능이 일반적으로 더 좋다."
   ]
  },
  {
   "cell_type": "code",
   "execution_count": 29,
   "id": "8b45adb0",
   "metadata": {},
   "outputs": [
    {
     "name": "stdout",
     "output_type": "stream",
     "text": [
      "정확도: 0.7707034728406055\n"
     ]
    }
   ],
   "source": [
    "cb = ComplementNB()\n",
    "cb.fit(tfidfv, y_train)\n",
    "\n",
    "predicted = cb.predict(tfidfv_test) #테스트 데이터에 대한 예측\n",
    "print(\"정확도:\", accuracy_score(y_test, predicted)) #예측값과 실제값 비교"
   ]
  },
  {
   "attachments": {
    "image.png": {
     "image/png": "[encoded data removed]"
    }
   },
   "cell_type": "markdown",
   "id": "f847e0b1",
   "metadata": {},
   "source": [
    "__로지스틱 회귀(Logistic Regression)__\n",
    "***\n",
    "- 선형분류알고리즘\n",
    "- 소프트맥스(softmax) 함수를 사용한 다중 클래스 분류 알고리즘을 지원\n",
    "- 다중 클래스 분류를 위한 로지스틱 회귀를 소프트맥스 회귀(Softmax Regression)라고도 한다.\n",
    "- 이름은 회귀지만, 실제로는 분류를 수행\n",
    "![image.png](attachment:image.png)\n",
    "- 소프트맥스 함수\n",
    "> 클래스가 N개일 때, N차원의 벡터가 '각 클래스가 정답일 확률'을 표현하도록 정규화해주는 함수\n",
    "> 오차와 실제값의 차이를 줄이는 과정에서 가중치와 편향이 학습\n",
    "- 사이킷런에서 소프트맥스 회귀는 LogisticRegression()을 통해서 구현"
   ]
  },
  {
   "cell_type": "code",
   "execution_count": 30,
   "id": "582921e4",
   "metadata": {},
   "outputs": [
    {
     "name": "stdout",
     "output_type": "stream",
     "text": [
      "정확도: 0.8076580587711487\n"
     ]
    },
    {
     "name": "stderr",
     "output_type": "stream",
     "text": [
      "/opt/conda/lib/python3.9/site-packages/sklearn/linear_model/_logistic.py:814: ConvergenceWarning: lbfgs failed to converge (status=1):\n",
      "STOP: TOTAL NO. of ITERATIONS REACHED LIMIT.\n",
      "\n",
      "Increase the number of iterations (max_iter) or scale the data as shown in:\n",
      "    https://scikit-learn.org/stable/modules/preprocessing.html\n",
      "Please also refer to the documentation for alternative solver options:\n",
      "    https://scikit-learn.org/stable/modules/linear_model.html#logistic-regression\n",
      "  n_iter_i = _check_optimize_result(\n"
     ]
    }
   ],
   "source": [
    "lr = LogisticRegression(C=10000, penalty='l2')\n",
    "lr.fit(tfidfv, y_train)\n",
    "\n",
    "predicted = lr.predict(tfidfv_test) #테스트 데이터에 대한 예측\n",
    "print(\"정확도:\", accuracy_score(y_test, predicted)) #예측값과 실제값 비교"
   ]
  },
  {
   "cell_type": "markdown",
   "id": "d096537c",
   "metadata": {},
   "source": [
    "__선형 서포트 벡터 머신(Linear Support Vector Machine)__\n",
    "***\n",
    "[SVM](https://youtu.be/y4CYcpRiNsw)\n",
    "- 서포트 벡터 : 결정경계와 가장 가까운 각 클래스의 데이터.\n",
    "- 사이킷런의 LinearSVC 또한 태생적으로는 이진 분류를 위한 모델\n",
    "- 일대다(one-vs.-rest 또는 one-vs.-all) 방법으로 다중 클래스 분류 알고리즘으로 사용할 수 있다.\n",
    "- 결국 클래스의 수만큼 이진 분류 모델이 만들어진다.\n",
    "- 가장 높은 점수를 내는 분류기의 클래스를 예측값으로 선택"
   ]
  },
  {
   "cell_type": "code",
   "execution_count": 31,
   "id": "b04ea2fa",
   "metadata": {},
   "outputs": [
    {
     "name": "stdout",
     "output_type": "stream",
     "text": [
      "정확도: 0.7711487088156723\n"
     ]
    },
    {
     "name": "stderr",
     "output_type": "stream",
     "text": [
      "/opt/conda/lib/python3.9/site-packages/sklearn/svm/_base.py:1199: ConvergenceWarning: Liblinear failed to converge, increase the number of iterations.\n",
      "  warnings.warn(\n"
     ]
    }
   ],
   "source": [
    "# dualbool, default=True\n",
    "# Select the algorithm to either solve the dual or primal optimization problem. \n",
    "# Prefer dual=False when n_samples > n_features.\n",
    "lsvc = LinearSVC(C=1000, penalty='l1', max_iter=500, dual=False)\n",
    "lsvc.fit(tfidfv, y_train)\n",
    "\n",
    "predicted = lsvc.predict(tfidfv_test) #테스트 데이터에 대한 예측\n",
    "print(\"정확도:\", accuracy_score(y_test, predicted)) #예측값과 실제값 비교"
   ]
  },
  {
   "cell_type": "markdown",
   "id": "c64477cd",
   "metadata": {},
   "source": [
    "# 8. 다양한 머신러닝 모델 사용해보기 (2)\n",
    "  \n",
    "__결정 트리(Decision Tree)__\n",
    "***\n",
    "- [의사결정트리](https://youtu.be/n0p0120Gxqk)\n",
    "- '예/아니오' 질문을 이어 나가면서 학습\n",
    "- 사이킷런에서는 DecisionTreeClassifier()를 사용해서 결정 트리를 구현\n",
    "- 결정 트리의 깊이는 max_depth\n",
    "- 트리 계열의 모델들은 고차원이고 희소한 데이터에 대해서는 성능이 나오지 않는다는 특징\n",
    "- DTM이나 TF-IDF 행렬의 경우 고차원이면서 대부분의 값이 0인 희소한 데이터\n",
    "- 트리 계열의 모델보다는 선형 분류 모델을 통해 접근하는 것이 더 나은 접근"
   ]
  },
  {
   "cell_type": "code",
   "execution_count": 32,
   "id": "0907b022",
   "metadata": {},
   "outputs": [
    {
     "name": "stdout",
     "output_type": "stream",
     "text": [
      "정확도: 0.6202137132680321\n"
     ]
    }
   ],
   "source": [
    "tree = DecisionTreeClassifier(max_depth=10, random_state=0)\n",
    "tree.fit(tfidfv, y_train)\n",
    "\n",
    "predicted = tree.predict(tfidfv_test) #테스트 데이터에 대한 예측\n",
    "print(\"정확도:\", accuracy_score(y_test, predicted)) #예측값과 실제값 비교"
   ]
  },
  {
   "cell_type": "markdown",
   "id": "4bb51c3e",
   "metadata": {},
   "source": [
    "__랜덤 포레스트(Random Forest)__\n",
    "***\n",
    "- 앙상블(Ensemble)이란 여러 머신러닝 모델을 연결하여 더 강력한 모델을 만드는 기법\n",
    "- 결정 트리는 훈련에서 과적합되는 경향이 있다.\n",
    "- 랜덤 포레스트는 이러한 문제를 앙상블로 해결한다.\n",
    "- 서로 다른 과적합된 트리들을 조합하면 오히려 모델 전체에서 과적합을 피할수 있다는 것."
   ]
  },
  {
   "cell_type": "code",
   "execution_count": 33,
   "id": "00db6146",
   "metadata": {},
   "outputs": [
    {
     "data": {
      "image/jpeg": "[encoded data removed]",
      "text/html": [
       "\n",
       "        <iframe\n",
       "            width=\"400\"\n",
       "            height=\"300\"\n",
       "            src=\"https://www.youtube.com/embed/nZB37IBCiSA\"\n",
       "            frameborder=\"0\"\n",
       "            allowfullscreen\n",
       "            \n",
       "        ></iframe>\n",
       "        "
      ],
      "text/plain": [
       "<IPython.lib.display.YouTubeVideo at 0x7f270b72cd60>"
      ]
     },
     "execution_count": 33,
     "metadata": {},
     "output_type": "execute_result"
    }
   ],
   "source": [
    "from IPython.display import YouTubeVideo \n",
    "YouTubeVideo('nZB37IBCiSA')"
   ]
  },
  {
   "cell_type": "code",
   "execution_count": 34,
   "id": "6cadeb81",
   "metadata": {},
   "outputs": [
    {
     "name": "stdout",
     "output_type": "stream",
     "text": [
      "정확도: 0.674087266251113\n"
     ]
    }
   ],
   "source": [
    "forest = RandomForestClassifier(n_estimators=5, random_state=0)\n",
    "forest.fit(tfidfv, y_train)\n",
    "\n",
    "predicted = forest.predict(tfidfv_test) #테스트 데이터에 대한 예측\n",
    "print(\"정확도:\", accuracy_score(y_test, predicted)) #예측값과 실제값 비교"
   ]
  },
  {
   "cell_type": "markdown",
   "id": "c1b0480e",
   "metadata": {},
   "source": [
    "__그래디언트 부스팅 트리(GradientBoostingClassifier)__\n",
    "***\n",
    "- 여러 개의 결정 트리를 묶어 만드는 앙상블 모델\n",
    "- 랜덤 포레스트와 다르게 이전 트리의 오차를 보완하는 방식으로 순차적으로 트리는 만든다.\n",
    "- 일부 특성을 무시하는 특징을 가지고 있다. 따라서, 랜덤 포레스트를 먼저 사용해보고, 성능,예측시간 면에서 만족스럽지 않은 경우 그래디언트 부스팅트리를 시도하는 것이 좋다.\n",
    "- 일반적으로 1-5 정도의 깊지 않은 트리이므로 __메모리가 적고 예측도 빠르다.__\n",
    "- 정확도도 준수하고, 특히 예측 속도가 빠르다는 점에서 데이터 경진 대회에서 많은 우승을 했던 모델\n",
    "- 다만, 훈련 시간의 속도가 좀 오래 걸리고, 트리 기반 모델의 특성으로 인해서 희소한 고차원 데이터에 대해서는 잘 동작하지 않는다는 단점\n",
    "-  TF-IDF 행렬은 희소하고 고차원 데이터지만, 결정 트리나 랜덤 포레스트보다 더 높은 성능을 얻을 수 있을지 한번 테스트 해보자\n",
    "\n",
    "- verbose=3을 GradientBoostingClassifier안에 인자로 넣어 진행 상황을 확인"
   ]
  },
  {
   "cell_type": "code",
   "execution_count": 35,
   "id": "e798ac30",
   "metadata": {},
   "outputs": [
    {
     "name": "stdout",
     "output_type": "stream",
     "text": [
      "정확도: 0.7662511130899377\n"
     ]
    }
   ],
   "source": [
    "grbt = GradientBoostingClassifier(random_state=0) # verbose=3\n",
    "grbt.fit(tfidfv, y_train)\n",
    "\n",
    "predicted = grbt.predict(tfidfv_test) #테스트 데이터에 대한 예측\n",
    "print(\"정확도:\", accuracy_score(y_test, predicted)) #예측값과 실제값 비교"
   ]
  },
  {
   "cell_type": "markdown",
   "id": "5d76b9ad",
   "metadata": {},
   "source": [
    "__보팅(Voting)__\n",
    "***\n",
    "- 투표를 통해 결과를 도출하는 보팅(Voting)\n",
    "- 하드 보팅은 결과물에 대한 최종값을 투표해서 결정\n",
    "- 소프트 보팅은 최종 결과물이 나올 확률값을 다 더해서 최종 결과물에 대한 각각의 확률을 구한 뒤 최종값을 도출\n",
    "- 세 가지 모델인 __로지스틱 회귀, CNB, 그래디언트 부스팅 트리__를 사용하여 __소프트 보팅__을 하였을 때의 성능을 비교"
   ]
  },
  {
   "cell_type": "code",
   "execution_count": 36,
   "id": "4cb7fcb5",
   "metadata": {},
   "outputs": [
    {
     "data": {
      "image/jpeg": "[encoded data removed]",
      "text/html": [
       "\n",
       "        <iframe\n",
       "            width=\"400\"\n",
       "            height=\"300\"\n",
       "            src=\"https://www.youtube.com/embed/y4Wh0E1d4oE\"\n",
       "            frameborder=\"0\"\n",
       "            allowfullscreen\n",
       "            \n",
       "        ></iframe>\n",
       "        "
      ],
      "text/plain": [
       "<IPython.lib.display.YouTubeVideo at 0x7f270b72c610>"
      ]
     },
     "execution_count": 36,
     "metadata": {},
     "output_type": "execute_result"
    }
   ],
   "source": [
    "from IPython.display import YouTubeVideo \n",
    "YouTubeVideo('y4Wh0E1d4oE')"
   ]
  },
  {
   "cell_type": "code",
   "execution_count": 37,
   "id": "9b023a58",
   "metadata": {},
   "outputs": [
    {
     "name": "stderr",
     "output_type": "stream",
     "text": [
      "/opt/conda/lib/python3.9/site-packages/sklearn/linear_model/_logistic.py:814: ConvergenceWarning: lbfgs failed to converge (status=1):\n",
      "STOP: TOTAL NO. of ITERATIONS REACHED LIMIT.\n",
      "\n",
      "Increase the number of iterations (max_iter) or scale the data as shown in:\n",
      "    https://scikit-learn.org/stable/modules/preprocessing.html\n",
      "Please also refer to the documentation for alternative solver options:\n",
      "    https://scikit-learn.org/stable/modules/linear_model.html#logistic-regression\n",
      "  n_iter_i = _check_optimize_result(\n"
     ]
    },
    {
     "name": "stdout",
     "output_type": "stream",
     "text": [
      "정확도: 0.8116651825467498\n"
     ]
    }
   ],
   "source": [
    "voting_classifier = VotingClassifier(estimators=[\n",
    "         ('lr', LogisticRegression(C=10000, penalty='l2')),\n",
    "        ('cb', ComplementNB()),\n",
    "        ('grbt', GradientBoostingClassifier(random_state=0))\n",
    "], voting='soft', n_jobs=-1)\n",
    "voting_classifier.fit(tfidfv, y_train)\n",
    "\n",
    "predicted = voting_classifier.predict(tfidfv_test) #테스트 데이터에 대한 예측\n",
    "print(\"정확도:\", accuracy_score(y_test, predicted)) #예측값과 실제값 비교"
   ]
  },
  {
   "cell_type": "markdown",
   "id": "c9ce5238",
   "metadata": {},
   "source": [
    "# 프로젝트 : Vocabulary Size를 변경해서 시도하기.\n",
    "  \n",
    "  \n",
    "- 지금까지 모델을 조합하여 성능을 향상하고자 하였다.\n",
    "- Bag of Words 기반의 DTM, TF-IDF의 경우 __단어의 수__에 따라 성능에 영향을 받을 수 있다.\n",
    "\n",
    "- 다음 것들을 시도 해보자.\n",
    "### 1. 단어수 조절_모든단어, 빈도수 상위 5000개, 그 외\n",
    "### 2. 여러 모델로 시도하기\n",
    "### 3. 딥러닝 모델과 비교해보기\n",
    "> "
   ]
  },
  {
   "cell_type": "code",
   "execution_count": 1,
   "id": "52562105",
   "metadata": {},
   "outputs": [
    {
     "name": "stdout",
     "output_type": "stream",
     "text": [
      "2.6.0\n",
      "3.4.3\n",
      "0.11.2\n",
      "1.22.2\n",
      "1.3.3\n",
      "1.0\n"
     ]
    }
   ],
   "source": [
    "# 버젼 확인\n",
    "import tensorflow\n",
    "import matplotlib\n",
    "import seaborn \n",
    "import numpy \n",
    "import pandas\n",
    "import sklearn\n",
    "\n",
    "print(tensorflow.__version__)\n",
    "print(matplotlib.__version__)\n",
    "print(seaborn.__version__)\n",
    "print(numpy.__version__)\n",
    "print(pandas.__version__)\n",
    "print(sklearn.__version__)"
   ]
  },
  {
   "cell_type": "code",
   "execution_count": 9,
   "id": "7e5fcb8e",
   "metadata": {},
   "outputs": [],
   "source": [
    "from sklearn.feature_extraction.text import CountVectorizer\n",
    "from sklearn.feature_extraction.text import TfidfTransformer\n",
    "from tensorflow.keras.datasets import reuters\n",
    "# 단어 사용 함수화\n",
    "def data_with_nwords(num_words = None):\n",
    "    # 단어수로 데이터 불러오기\n",
    "    (x_train, y_train), (x_test, y_test) = reuters.load_data(num_words=num_words, test_split=0.2)\n",
    "    \n",
    "    # 단어인덱스 불러오기\n",
    "    word_index = reuters.get_word_index(path=\"reuters_word_index.json\")\n",
    "    \n",
    "    # index to word 만들기 012 토큰 자리 밀어주기\n",
    "    index_to_word = {index + 3 : word for word, index in word_index.items()}\n",
    "    \n",
    "    # index_to_word에 숫자 0은 <pad>, 숫자 1은 <sos>, 숫자 2는 <unk>를 넣어줍니다.\n",
    "    for index, token in enumerate((\"<pad>\", \"<sos>\", \"<unk>\")):\n",
    "        index_to_word[index]=token\n",
    "        \n",
    "    # 데이터 변환\n",
    "    decoded = []\n",
    "    for i in range(len(x_train)):\n",
    "        t = ' '.join([index_to_word[index] for index in x_train[i]])\n",
    "        decoded.append(t)\n",
    "\n",
    "    x_train = decoded\n",
    "    decoded = []\n",
    "    for i in range(len(x_test)):\n",
    "        t = ' '.join([index_to_word[index] for index in x_test[i]])\n",
    "        decoded.append(t)\n",
    "\n",
    "    x_test = decoded\n",
    "    \n",
    "    # 벡터화\n",
    "    # DTM 생성\n",
    "    dtmvector = CountVectorizer()\n",
    "    x_train_dtm = dtmvector.fit_transform(x_train)\n",
    "    print('X_train DTM shape : ',x_train_dtm.shape)\n",
    "    # TF-IDF 생성\n",
    "    tfidf_transformer = TfidfTransformer()\n",
    "    tfidfv = tfidf_transformer.fit_transform(x_train_dtm)\n",
    "    print('TF-IDF shape',tfidfv.shape)\n",
    "    \n",
    "    #테스트 데이터를 DTM으로 변환\n",
    "    x_test_dtm = dtmvector.transform(x_test) \n",
    "    #DTM을 TF-IDF 행렬로 변환\n",
    "    tfidfv_test = tfidf_transformer.transform(x_test_dtm)\n",
    "    \n",
    "    return tfidfv, y_train, tfidfv_test, y_test\n"
   ]
  },
  {
   "cell_type": "code",
   "execution_count": 10,
   "id": "8f336466",
   "metadata": {},
   "outputs": [],
   "source": [
    "from sklearn.naive_bayes import MultinomialNB #다항분포 나이브 베이즈 모델\n",
    "from sklearn.linear_model import LogisticRegression, SGDClassifier\n",
    "from sklearn.naive_bayes import ComplementNB\n",
    "from sklearn.tree import DecisionTreeClassifier\n",
    "from sklearn.ensemble import RandomForestClassifier\n",
    "from sklearn.ensemble import GradientBoostingClassifier\n",
    "from sklearn.ensemble import VotingClassifier\n",
    "from sklearn.svm import LinearSVC\n",
    "from sklearn.metrics import accuracy_score #정확도 계산\n",
    "\n",
    "from sklearn.metrics import classification_report\n",
    "from sklearn.metrics import confusion_matrix\n",
    "\n",
    "def train_ml(tfidfv, y_train, tfidfv_test, y_test):\n",
    "    # 나이브 베이즈 분류기 \n",
    "    mod = MultinomialNB()\n",
    "    mod.fit(tfidfv, y_train)\n",
    "    \n",
    "    mod_predicted = mod.predict(tfidfv_test) #테스트 데이터에 대한 예측\n",
    "    mod_acc = accuracy_score(y_test, mod_predicted)\n",
    "    print(\"나이브 베이즈 정확도:\", mod_acc) #예측값과 실제값 비교\n",
    "    \n",
    "    # CNB\n",
    "    cb = ComplementNB()\n",
    "    cb.fit(tfidfv, y_train)\n",
    "    \n",
    "    cb_predicted = cb.predict(tfidfv_test) #테스트 데이터에 대한 예측\n",
    "    cb_acc = accuracy_score(y_test, cb_predicted)\n",
    "    print(\"CNB 정확도:\",cb_acc) #예측값과 실제값 비교\n",
    "    \n",
    "    # 로지스틱 회귀 \n",
    "    lr = LogisticRegression(C=10000, penalty='l2')\n",
    "    lr.fit(tfidfv, y_train)\n",
    "\n",
    "    lr_predicted = lr.predict(tfidfv_test) #테스트 데이터에 대한 예측\n",
    "    lr_acc = accuracy_score(y_test, lr_predicted)\n",
    "    print(\"로지스틱 회귀 정확도:\", lr_acc) #예측값과 실제값 비교\n",
    "    \n",
    "    # 선형 서포트 벡터 머신 \n",
    "    lsvc = LinearSVC(C=1000, penalty='l1', max_iter=500, dual=False)\n",
    "    lsvc.fit(tfidfv, y_train)\n",
    "    \n",
    "    lsvc_predicted = lsvc.predict(tfidfv_test) #테스트 데이터에 대한 예측\n",
    "    lsvc_acc = accuracy_score(y_test, lsvc_predicted)\n",
    "    print(\"SVM 정확도:\",lsvc_acc) #예측값과 실제값 비교\n",
    "    \n",
    "    # 결정 트리(Decision Tree) \n",
    "    tree = DecisionTreeClassifier(max_depth=10, random_state=0)\n",
    "    tree.fit(tfidfv, y_train)\n",
    "    \n",
    "    tree_predicted = tree.predict(tfidfv_test) #테스트 데이터에 대한 예측\n",
    "    tree_acc =  accuracy_score(y_test, tree_predicted)\n",
    "    print(\"결정 트리 정확도:\", tree_acc) #예측값과 실제값 비교\n",
    "    \n",
    "    # 랜덤 포레스트(Random Forest)\n",
    "    forest = RandomForestClassifier(n_estimators=5, random_state=0)\n",
    "    forest.fit(tfidfv, y_train)\n",
    "    \n",
    "    forest_predicted = forest.predict(tfidfv_test) #테스트 데이터에 대한 예측\n",
    "    forest_acc = accuracy_score(y_test, forest_predicted)\n",
    "    print(\"랜덤 포레스트 정확도:\", forest_acc) #예측값과 실제값 비교\n",
    "    \n",
    "    # 그래디언트 부스팅 트리(GradientBoostingClassifier)\n",
    "    grbt = GradientBoostingClassifier(random_state=0, verbose=3) # verbose=3\n",
    "    grbt.fit(tfidfv, y_train)\n",
    "\n",
    "    grbt_predicted = grbt.predict(tfidfv_test) #테스트 데이터에 대한 예측\n",
    "    grbt_acc =   accuracy_score(y_test, grbt_predicted)\n",
    "    print(\"그래디언트 부스팅 트리 정확도:\", grbt_acc) #예측값과 실제값 비교\n",
    "    \n",
    "    # 보팅(Voting)\n",
    "    voting_classifier = VotingClassifier(estimators=[\n",
    "         ('lr', LogisticRegression(C=10000, penalty='l2')),\n",
    "        ('cb', ComplementNB()),\n",
    "        ('grbt', GradientBoostingClassifier(random_state=0))\n",
    "        ], voting='soft', n_jobs=-1)\n",
    "    voting_classifier.fit(tfidfv, y_train)\n",
    "    \n",
    "    voting_classifier_predicted = voting_classifier.predict(tfidfv_test) #테스트 데이터에 대한 예측\n",
    "    voting_acc = accuracy_score(y_test, voting_classifier_predicted)\n",
    "    print(\"보팅 정확도:\", voting_acc) #예측값과 실제값 비교\n",
    "    \n",
    "    return mod_acc, cb_acc, lr_acc, lsvc_acc, tree_acc, forest_acc, grbt_acc, voting_acc"
   ]
  },
  {
   "cell_type": "code",
   "execution_count": 11,
   "id": "74893337",
   "metadata": {
    "scrolled": true
   },
   "outputs": [
    {
     "name": "stdout",
     "output_type": "stream",
     "text": [
      "500 개 단어 사용\n",
      "Downloading data from https://storage.googleapis.com/tensorflow/tf-keras-datasets/reuters.npz\n",
      "2113536/2110848 [==============================] - 0s 0us/step\n",
      "2121728/2110848 [==============================] - 0s 0us/step\n",
      "Downloading data from https://storage.googleapis.com/tensorflow/tf-keras-datasets/reuters_word_index.json\n",
      "557056/550378 [==============================] - 0s 0us/step\n",
      "565248/550378 [==============================] - 0s 0us/step\n",
      "X_train DTM shape :  (8982, 482)\n",
      "TF-IDF shape (8982, 482)\n",
      "나이브 베이즈 정확도: 0.6589492430988424\n",
      "CNB 정확도: 0.707479964381122\n"
     ]
    },
    {
     "name": "stderr",
     "output_type": "stream",
     "text": [
      "/opt/conda/lib/python3.9/site-packages/sklearn/linear_model/_logistic.py:814: ConvergenceWarning: lbfgs failed to converge (status=1):\n",
      "STOP: TOTAL NO. of ITERATIONS REACHED LIMIT.\n",
      "\n",
      "Increase the number of iterations (max_iter) or scale the data as shown in:\n",
      "    https://scikit-learn.org/stable/modules/preprocessing.html\n",
      "Please also refer to the documentation for alternative solver options:\n",
      "    https://scikit-learn.org/stable/modules/linear_model.html#logistic-regression\n",
      "  n_iter_i = _check_optimize_result(\n"
     ]
    },
    {
     "name": "stdout",
     "output_type": "stream",
     "text": [
      "로지스틱 회귀 정확도: 0.773820124666073\n"
     ]
    },
    {
     "name": "stderr",
     "output_type": "stream",
     "text": [
      "/opt/conda/lib/python3.9/site-packages/sklearn/svm/_base.py:1199: ConvergenceWarning: Liblinear failed to converge, increase the number of iterations.\n",
      "  warnings.warn(\n"
     ]
    },
    {
     "name": "stdout",
     "output_type": "stream",
     "text": [
      "SVM 정확도: 0.713713268032057\n",
      "결정 트리 정확도: 0.6108637577916296\n",
      "랜덤 포레스트 정확도: 0.6981300089047195\n",
      "      Iter       Train Loss   Remaining Time \n",
      "         1           1.7058           11.91m\n",
      "         2           1.7403           11.78m\n",
      "         3 327791665051955733955342421861979112893054976.0000           11.61m\n",
      "         4 252473705212545897862674137780010934842949632.0000           11.47m\n",
      "         5 252473705212545897862674137780010934842949632.0000           11.35m\n",
      "         6 252473705212545897862674137780010934842949632.0000           11.22m\n",
      "         7 252473705212545897862674137780010934842949632.0000           11.09m\n",
      "         8 252473705212545897862674137780010934842949632.0000           10.97m\n",
      "         9 252473705212545897862674137780010934842949632.0000           10.86m\n",
      "        10 252473705212545897862674137780010934842949632.0000           10.73m\n",
      "        11 252473705212545897862674137780010934842949632.0000           10.60m\n",
      "        12 252473705212545897862674137780010934842949632.0000           10.51m\n",
      "        13 252473705212545897862674137780010934842949632.0000           10.39m\n",
      "        14 252473705212545897862674137780010934842949632.0000           10.28m\n",
      "        15 252473705212545897862674137780010934842949632.0000           10.16m\n",
      "        16 252473705212545897862674137780010934842949632.0000           10.05m\n",
      "        17 252473705212545897862674137780010934842949632.0000            9.93m\n",
      "        18 252473705212545897862674137780010934842949632.0000            9.81m\n",
      "        19 252473705212545897862674137780010934842949632.0000            9.70m\n",
      "        20 252473705212545897862674137780010934842949632.0000            9.58m\n",
      "        21 252473705212545897862674137780010934842949632.0000            9.46m\n",
      "        22 252473705212545897862674137780010934842949632.0000            9.34m\n",
      "        23 252473705212545897862674137780010934842949632.0000            9.21m\n",
      "        24 252473705212545897862674137780010934842949632.0000            9.09m\n",
      "        25 252473705212545897862674137780010934842949632.0000            8.97m\n",
      "        26 252473705212545897862674137780010934842949632.0000            8.85m\n",
      "        27 252473705212545897862674137780010934842949632.0000            8.73m\n",
      "        28 252473705212545897862674137780010934842949632.0000            8.60m\n",
      "        29 9603433220705942507508890290917547036085340616863514624.0000            8.48m\n",
      "        30 9603433220705942507508890290917547036085340616863514624.0000            8.37m\n",
      "        31 1501026382666616728339776902836753299734190781602761035617265263919465372844032.0000            8.25m\n",
      "        32 1501026382666616728339776902836753299734190781602761035617265263919465372844032.0000            8.13m\n",
      "        33 1501026382666616728339776902836753299734190781602761035617265263919465372844032.0000            8.01m\n",
      "        34 1501026382666616728339776902836753299734190781602761035617265263919465372844032.0000            7.89m\n",
      "        35 1501026382666616728339776902836753299734190781602761035617265263919465372844032.0000            7.77m\n",
      "        36 1501026382666616728339776902836753299734190781602761035617265263919465372844032.0000            7.65m\n",
      "        37 1501026386529824753158069574763184065432028610411965054594568271805763224076288.0000            7.53m\n",
      "        38 1501026386529824753158069574763184065432028610411965054594568271805763224076288.0000            7.41m\n",
      "        39 1501026386529824753158069574763184065432028610411965054594568271805763224076288.0000            7.29m\n",
      "        40 1501026386529824753158069574763184065432028610411965054594568271805763224076288.0000            7.17m\n",
      "        41 1501026386529824753158069574763184065432028610411965054594568271805763224076288.0000            7.05m\n",
      "        42 1501026386529824753158069574763184065432028610411965054594568271805763224076288.0000            6.93m\n",
      "        43 1501026386529824753158069574763184065432028610411965054594568271805763224076288.0000            6.81m\n",
      "        44 1501026386529824753158069574763184065432028610411965054594568271805763224076288.0000            6.69m\n",
      "        45 1501026386529824753158069574763184065432028610411965054594568271805763224076288.0000            6.57m\n",
      "        46 1501026386529824753158069574763184065432028610411965054594568271805763224076288.0000            6.45m\n",
      "        47 1501026386529824753158069574763184065432028610411965054594568271805763224076288.0000            6.33m\n",
      "        48 1501026386529824753158069574763184065432028610411965054594568271805763224076288.0000            6.21m\n",
      "        49 1501026386529824753158069574763184065432028610411965054594568271805763224076288.0000            6.09m\n",
      "        50 1501026386529824753158069574763184065432028610411965054594568271805763224076288.0000            5.98m\n",
      "        51 1501026386529824753158069574763184065432028610411965054594568271805763224076288.0000            5.86m\n",
      "        52 1501026386529824753158069574763184065432028610411965054594568271805763224076288.0000            5.74m\n",
      "        53 1501026386529824753158069574763184065432028610411965054594568271805763224076288.0000            5.62m\n",
      "        54 1501026386529824753158069574763184065432028610411965054594568271805763224076288.0000            5.50m\n",
      "        55 1501026386529824753158069574763184065432028610411965054594568271805763224076288.0000            5.38m\n",
      "        56 1501026386529824753158069574763184065432028610411965054594568271805763224076288.0000            5.26m\n",
      "        57 1501026386529824753158069574763184065432028610411965054594568271805763224076288.0000            5.14m\n",
      "        58 1501026386529824753158069574763184065432028610411965054594568271805763224076288.0000            5.02m\n",
      "        59 1501026386529824753158069574763184065432028610411965054594568271805763224076288.0000            4.90m\n",
      "        60 1501026386529824753158069574763184065432028610411965054594568271805763224076288.0000            4.78m\n",
      "        61 1501026386529824753158069574763184065432028610411965054594568271805763224076288.0000            4.66m\n",
      "        62 1501026386529824753158069574763184065432028610411965054594568271805763224076288.0000            4.54m\n",
      "        63 1501026386529824753158069574763184065432028610411965054594568271805763224076288.0000            4.42m\n",
      "        64 1501026386529824753158069574763184065432028610411965054594568271805763224076288.0000            4.30m\n",
      "        65 1501026386529824753158069574763184065432028610411965054594568271805763224076288.0000            4.18m\n",
      "        66 1501026386529824753158069574763184065432028610411965054594568271805763224076288.0000            4.07m\n",
      "        67 1501026386529824753158069574763184065432028610411965054594568271805763224076288.0000            3.95m\n",
      "        68 1501026386529824753158069574763184065432028610411965054594568271805763224076288.0000            3.83m\n",
      "        69 1501026386529824753158069574763184065432028610411965054594568271805763224076288.0000            3.71m\n",
      "        70 1501026386529824753158069574763184065432028610411965054594568271805763224076288.0000            3.59m\n",
      "        71 1501026386529824753158069574763184065432028610411965054594568271805763224076288.0000            3.47m\n",
      "        72 1501026386529824753158069574763184065432028610411965054594568271805763224076288.0000            3.35m\n",
      "        73 1501026386529824753158069574763184065432028610411965054594568271805763224076288.0000            3.23m\n",
      "        74 1501026386529824753158069574763184065432028610411965054594568271805763224076288.0000            3.11m\n",
      "        75 1501026386529824753158069574763184065432028610411965054594568271805763224076288.0000            2.99m\n",
      "        76 1501026386529824753158069574763184065432028610411965054594568271805763224076288.0000            2.87m\n",
      "        77 1501026386529824753158069574763184065432028610411965054594568271805763224076288.0000            2.75m\n",
      "        78 1501026386529824753158069574763184065432028610411965054594568271805763224076288.0000            2.63m\n",
      "        79 1501026386529824753158069574763184065432028610411965054594568271805763224076288.0000            2.51m\n",
      "        80 1501026386529824753158069574763184065432028610411965054594568271805763224076288.0000            2.39m\n",
      "        81 1501026386529824753158069574763184065432028610411965054594568271805763224076288.0000            2.27m\n",
      "        82 1501026386529824753158069574763184065432028610411965054594568271805763224076288.0000            2.15m\n",
      "        83 1501026386529824753158069574763184065432028610411965054594568271805763224076288.0000            2.03m\n",
      "        84 1501026386529824753158069574763184065432028610411965054594568271805763224076288.0000            1.91m\n",
      "        85 1501026386529824753158069574763184065432028610411965054594568271805763224076288.0000            1.79m\n",
      "        86 1501026386529824753158069574763184065432028610411965054594568271805763224076288.0000            1.67m\n",
      "        87 1501026386529824753158069574763184065432028610411965054594568271805763224076288.0000            1.55m\n",
      "        88 1501026386529824753158069574763184065432028610411965054594568271805763224076288.0000            1.43m\n",
      "        89 1501026386529824753158069574763184065432028610411965054594568271805763224076288.0000            1.32m\n",
      "        90 1501026386529824753158069574763184065432028610411965054594568271805763224076288.0000            1.20m\n",
      "        91 1501026386529824753158069574763184065432028610411965054594568271805763224076288.0000            1.08m\n",
      "        92 1501026386529824753158069574763184065432028610411965054594568271805763224076288.0000           57.39s\n",
      "        93 1501026386529824753158069574763184065432028610411965054594568271805763224076288.0000           50.21s\n",
      "        94 1501026386529824753158069574763184065432028610411965054594568271805763224076288.0000           43.04s\n",
      "        95 1501026386529824753158069574763184065432028610411965054594568271805763224076288.0000           35.86s\n",
      "        96 1501026386529824753158069574763184065432028610411965054594568271805763224076288.0000           28.69s\n",
      "        97 1501026386529824753158069574763184065432028610411965054594568271805763224076288.0000           21.52s\n",
      "        98 1501026386529824753158069574763184065432028610411965054594568271805763224076288.0000           14.34s\n",
      "        99 1501026386529824753158069574763184065432028610411965054594568271805763224076288.0000            7.17s\n",
      "       100 1501026386529824753158069574763184065432028610411965054594568271805763224076288.0000            0.00s\n",
      "그래디언트 부스팅 트리 정확도: 0.7279608192341941\n"
     ]
    },
    {
     "name": "stderr",
     "output_type": "stream",
     "text": [
      "/opt/conda/lib/python3.9/site-packages/sklearn/linear_model/_logistic.py:814: ConvergenceWarning: lbfgs failed to converge (status=1):\n",
      "STOP: TOTAL NO. of ITERATIONS REACHED LIMIT.\n",
      "\n",
      "Increase the number of iterations (max_iter) or scale the data as shown in:\n",
      "    https://scikit-learn.org/stable/modules/preprocessing.html\n",
      "Please also refer to the documentation for alternative solver options:\n",
      "    https://scikit-learn.org/stable/modules/linear_model.html#logistic-regression\n",
      "  n_iter_i = _check_optimize_result(\n"
     ]
    },
    {
     "name": "stdout",
     "output_type": "stream",
     "text": [
      "보팅 정확도: 0.7724844167408726\n",
      "---------------\n",
      "1000 개 단어 사용\n",
      "X_train DTM shape :  (8982, 969)\n",
      "TF-IDF shape (8982, 969)\n",
      "나이브 베이즈 정확도: 0.6856634016028496\n",
      "CNB 정확도: 0.7346393588601959\n"
     ]
    },
    {
     "name": "stderr",
     "output_type": "stream",
     "text": [
      "/opt/conda/lib/python3.9/site-packages/sklearn/linear_model/_logistic.py:814: ConvergenceWarning: lbfgs failed to converge (status=1):\n",
      "STOP: TOTAL NO. of ITERATIONS REACHED LIMIT.\n",
      "\n",
      "Increase the number of iterations (max_iter) or scale the data as shown in:\n",
      "    https://scikit-learn.org/stable/modules/preprocessing.html\n",
      "Please also refer to the documentation for alternative solver options:\n",
      "    https://scikit-learn.org/stable/modules/linear_model.html#logistic-regression\n",
      "  n_iter_i = _check_optimize_result(\n"
     ]
    },
    {
     "name": "stdout",
     "output_type": "stream",
     "text": [
      "로지스틱 회귀 정확도: 0.780053428317008\n"
     ]
    },
    {
     "name": "stderr",
     "output_type": "stream",
     "text": [
      "/opt/conda/lib/python3.9/site-packages/sklearn/svm/_base.py:1199: ConvergenceWarning: Liblinear failed to converge, increase the number of iterations.\n",
      "  warnings.warn(\n"
     ]
    },
    {
     "name": "stdout",
     "output_type": "stream",
     "text": [
      "SVM 정확도: 0.723953695458593\n",
      "결정 트리 정확도: 0.6179875333926982\n",
      "랜덤 포레스트 정확도: 0.707479964381122\n",
      "      Iter       Train Loss   Remaining Time \n",
      "         1           1.5717           13.61m\n",
      "         2        3967.8426           13.62m\n",
      "         3        4754.6181           13.51m\n",
      "         4     1016060.1416           13.41m\n",
      "         5     1016079.3289           13.27m\n",
      "         6     6974797.9520           13.13m\n",
      "         7     6974845.8927           13.00m\n",
      "         8     6974845.8761           12.87m\n",
      "         9 67711611000699444040275566464186667477192234919406304097104172655300731568078356217856.0000           12.74m\n",
      "        10 67711611000699444040275566464186667477192234919406304097104172655300731568078356217856.0000           12.61m\n",
      "        11 67711611000699444040275566464186667477192234919406304097104172655300731568078356217856.0000           12.49m\n",
      "        12 67711611000699444040275566464186667477192234919406304097104172655300731568078356217856.0000           12.36m\n",
      "        13 67711611000699444040275566464186667477192234919406304097104172655300731568078356217856.0000           12.24m\n",
      "        14 67711611000699444040275566464186667477192234919406304097104172655300731568078356217856.0000           12.09m\n",
      "        15 67711611000699444040275566464186667477192234919406304097104172655300731568078356217856.0000           11.96m\n",
      "        16 67711611000699444040275566464186667477192234919406304097104172655300731568078356217856.0000           11.83m\n",
      "        17 67711611000699444040275566464186667477192234919406304097104172655300731568078356217856.0000           11.69m\n",
      "        18 67711611000699444040275566464186667477192234919406304097104172655300731568078356217856.0000           11.54m\n",
      "        19 67711611000699444040275566464186667477192234919406304097104172655300731568078356217856.0000           11.40m\n",
      "        20 67711611000699444040275566464186667477192234919406304097104172655300731568078356217856.0000           11.26m\n",
      "        21 67711611000699444040275566464186667477192234919406304097104172655300731568078356217856.0000           11.11m\n",
      "        22 67711611000699444040275566464186667477192234919406304097104172655300731568078356217856.0000           10.98m\n",
      "        23 67711611000699444040275566464186667477192234919406304097104172655300731568078356217856.0000           10.83m\n",
      "        24 67711611000699444040275566464186667477192234919406304097104172655300731568078356217856.0000           10.69m\n",
      "        25 67711611000699444040275566464186667477192234919406304097104172655300731568078356217856.0000           10.55m\n",
      "        26 67711611000699444040275566464186667477192234919406304097104172655300731568078356217856.0000           10.41m\n",
      "        27 67711611000699444040275566464186667477192234919406304097104172655300731568078356217856.0000           10.27m\n",
      "        28 67711611000699444040275566464186667477192234919406304097104172655300731568078356217856.0000           10.13m\n",
      "        29 67711611000699444040275566464186667477192234919406304097104172655300731568078356217856.0000            9.99m\n",
      "        30 67711611000699444040275566464186667477192234919406304097104172655300731568078356217856.0000            9.85m\n",
      "        31 67711611000699444040275566464186667477192234919406304097104172655300731568078356217856.0000            9.71m\n",
      "        32 67711611000699444040275566464186667477192234919406304097104172655300731568078356217856.0000            9.57m\n",
      "        33 67711611000699444040275566464186667477192234919406304097104172655300731568078356217856.0000            9.43m\n",
      "        34 67711611000699444040275566464186667477192234919406304097104172655300731568078356217856.0000            9.29m\n",
      "        35 67711611000699444040275566464186667477192234919406304097104172655300731568078356217856.0000            9.15m\n",
      "        36 67711611000699444040275566464186667477192234919406304097104172655300731568078356217856.0000            9.00m\n",
      "        37 67711611000699444040275566464186667477192234919406304097104172655300731568078356217856.0000            8.86m\n",
      "        38 67711611000699444040275566464186667477192234919406304097104172655300731568078356217856.0000            8.72m\n",
      "        39 67711611000699444040275566464186667477192234919406304097104172655300731568078356217856.0000            8.58m\n",
      "        40 67711611000699444040275566464186667477192234919406304097104172655300731568078356217856.0000            8.44m\n",
      "        41 67711611000699444040275566464186667477192234919406304097104172655300731568078356217856.0000            8.30m\n",
      "        42 67711611000699444040275566464186667477192234919406304097104172655300731568078356217856.0000            8.16m\n",
      "        43 67711611000699444040275566464186667477192234919406304097104172655300731568078356217856.0000            8.02m\n",
      "        44 67711611000699444040275566464186667477192234919406304097104172655300731568078356217856.0000            7.88m\n",
      "        45 67711611000699444040275566464186667477192234919406304097104172655300731568078356217856.0000            7.74m\n",
      "        46 67711611000699444040275566464186667477192234919406304097104172655300731568078356217856.0000            7.60m\n",
      "        47 67711611000699444040275566464186667477192234919406304097104172655300731568078356217856.0000            7.46m\n",
      "        48 303698365757899151117930826970160643457586921047431169716899952031599760807687627670376264625793489960960.0000            7.32m\n",
      "        49 303698365757899151117930826970160643457586921047431169716899952031599760807687627670376264625793489960960.0000            7.18m\n",
      "        50 303698365757899151117930826970160643457586921047431169716899952031599760807687627670376264625793489960960.0000            7.04m\n",
      "        51 303698365757899151117930826970160643457586921047431169716899952031599760807687627670376264625793489960960.0000            6.90m\n",
      "        52 303698365757899151117930826970160643457586921047431169716899952031599760807687627670376264625793489960960.0000            6.76m\n",
      "        53 303698365757899151117930826970160643457586921047431169716899952031599760807687627670376264625793489960960.0000            6.62m\n",
      "        54 303698365757899151117930826970160643457586921047431169716899952031599760807687627670376264625793489960960.0000            6.48m\n",
      "        55 303698365757899151117930826970160643457586921047431169716899952031599760807687627670376264625793489960960.0000            6.34m\n",
      "        56 303698365757899151117930826970160643457586921047431169716899952031599760807687627670376264625793489960960.0000            6.20m\n",
      "        57 303698365757899151117930826970160643457586921047431169716899952031599760807687627670376264625793489960960.0000            6.06m\n",
      "        58 303698365757899151117930826970160643457586921047431169716899952031599760807687627670376264625793489960960.0000            5.92m\n",
      "        59 303698365757899151117930826970160643457586921047431169716899952031599760807687627670376264625793489960960.0000            5.78m\n",
      "        60 303698365757899151117930826970160643457586921047431169716899952031599760807687627670376264625793489960960.0000            5.64m\n",
      "        61 303698365757899151117930826970160643457586921047431169716899952031599760807687627670376264625793489960960.0000            5.50m\n",
      "        62 303698365757899151117930826970160643457586921047431169716899952031599760807687627670376264625793489960960.0000            5.35m\n",
      "        63 303698365757899151117930826970160643457586921047431169716899952031599760807687627670376264625793489960960.0000            5.21m\n",
      "        64 303698365757899151117930826970160643457586921047431169716899952031599760807687627670376264625793489960960.0000            5.07m\n",
      "        65 303698365757899151117930826970160643457586921047431169716899952031599760807687627670376264625793489960960.0000            4.93m\n",
      "        66 303698365757899151117930826970160643457586921047431169716899952031599760807687627670376264625793489960960.0000            4.79m\n",
      "        67 303698365757899151117930826970160643457586921047431169716899952031599760807687627670376264625793489960960.0000            4.65m\n",
      "        68 303698365757899151117930826970160643457586921047431169716899952031599760807687627670376264625793489960960.0000            4.51m\n",
      "        69 303698365757899151117930826970160643457586921047431169716899952031599760807687627670376264625793489960960.0000            4.37m\n",
      "        70 303698365757899151117930826970160643457586921047431169716899952031599760807687627670376264625793489960960.0000            4.23m\n",
      "        71 303698365757899151117930826970160643457586921047431169716899952031599760807687627670376264625793489960960.0000            4.08m\n",
      "        72 303698365757899151117930826970160643457586921047431169716899952031599760807687627670376264625793489960960.0000            3.94m\n",
      "        73 303698365757899151117930826970160643457586921047431169716899952031599760807687627670376264625793489960960.0000            3.80m\n",
      "        74 303698365757899151117930826970160643457586921047431169716899952031599760807687627670376264625793489960960.0000            3.66m\n",
      "        75 303698365757899151117930826970160643457586921047431169716899952031599760807687627670376264625793489960960.0000            3.52m\n",
      "        76 303698365757899151117930826970160643457586921047431169716899952031599760807687627670376264625793489960960.0000            3.38m\n",
      "        77 303698365757899151117930826970160643457586921047431169716899952031599760807687627670376264625793489960960.0000            3.24m\n",
      "        78 303698365757899151117930826970160643457586921047431169716899952031599760807687627670376264625793489960960.0000            3.10m\n",
      "        79 303698365757899151117930826970160643457586921047431169716899952031599760807687627670376264625793489960960.0000            2.96m\n",
      "        80 303698365757899151117930826970160643457586921047431169716899952031599760807687627670376264625793489960960.0000            2.82m\n",
      "        81 303698365757899151117930826970160643457586921047431169716899952031599760807687627670376264625793489960960.0000            2.68m\n",
      "        82 303698365757899151117930826970160643457586921047431169716899952031599760807687627670376264625793489960960.0000            2.54m\n",
      "        83 303698365757899151117930826970160643457586921047431169716899952031599760807687627670376264625793489960960.0000            2.39m\n",
      "        84 303698365757899151117930826970160643457586921047431169716899952031599760807687627670376264625793489960960.0000            2.25m\n",
      "        85 303698365757899151117930826970160643457586921047431169716899952031599760807687627670376264625793489960960.0000            2.11m\n",
      "        86 303698365757899151117930826970160643457586921047431169716899952031599760807687627670376264625793489960960.0000            1.97m\n",
      "        87 303698365757899151117930826970160643457586921047431169716899952031599760807687627670376264625793489960960.0000            1.83m\n",
      "        88 303698365757899151117930826970160643457586921047431169716899952031599760807687627670376264625793489960960.0000            1.69m\n",
      "        89 303698365757899151117930826970160643457586921047431169716899952031599760807687627670376264625793489960960.0000            1.55m\n",
      "        90 303698365757899151117930826970160643457586921047431169716899952031599760807687627670376264625793489960960.0000            1.41m\n",
      "        91 303698365757899151117930826970160643457586921047431169716899952031599760807687627670376264625793489960960.0000            1.27m\n",
      "        92 303698365757899151117930826970160643457586921047431169716899952031599760807687627670376264625793489960960.0000            1.13m\n",
      "        93 303698365757899151117930826970160643457586921047431169716899952031599760807687627670376264625793489960960.0000           59.15s\n",
      "        94 303698365757899151117930826970160643457586921047431169716899952031599760807687627670376264625793489960960.0000           50.70s\n",
      "        95 303698365757899151117930826970160643457586921047431169716899952031599760807687627670376264625793489960960.0000           42.25s\n",
      "        96 303698365757899151117930826970160643457586921047431169716899952031599760807687627670376264625793489960960.0000           33.80s\n",
      "        97 303698365757899151117930826970160643457586921047431169716899952031599760807687627670376264625793489960960.0000           25.35s\n",
      "        98 303698365757899151117930826970160643457586921047431169716899952031599760807687627670376264625793489960960.0000           16.90s\n",
      "        99 303698365757899151117930826970160643457586921047431169716899952031599760807687627670376264625793489960960.0000            8.45s\n",
      "       100 303698365757899151117930826970160643457586921047431169716899952031599760807687627670376264625793489960960.0000            0.00s\n",
      "그래디언트 부스팅 트리 정확도: 0.7453250222617988\n"
     ]
    },
    {
     "name": "stderr",
     "output_type": "stream",
     "text": [
      "/opt/conda/lib/python3.9/site-packages/sklearn/linear_model/_logistic.py:814: ConvergenceWarning: lbfgs failed to converge (status=1):\n",
      "STOP: TOTAL NO. of ITERATIONS REACHED LIMIT.\n",
      "\n",
      "Increase the number of iterations (max_iter) or scale the data as shown in:\n",
      "    https://scikit-learn.org/stable/modules/preprocessing.html\n",
      "Please also refer to the documentation for alternative solver options:\n",
      "    https://scikit-learn.org/stable/modules/linear_model.html#logistic-regression\n",
      "  n_iter_i = _check_optimize_result(\n"
     ]
    },
    {
     "name": "stdout",
     "output_type": "stream",
     "text": [
      "보팅 정확도: 0.784060552092609\n",
      "---------------\n",
      "5000 개 단어 사용\n",
      "X_train DTM shape :  (8982, 4867)\n",
      "TF-IDF shape (8982, 4867)\n",
      "나이브 베이즈 정확도: 0.6731967943009796\n",
      "CNB 정확도: 0.7707034728406055\n"
     ]
    },
    {
     "name": "stderr",
     "output_type": "stream",
     "text": [
      "/opt/conda/lib/python3.9/site-packages/sklearn/linear_model/_logistic.py:814: ConvergenceWarning: lbfgs failed to converge (status=1):\n",
      "STOP: TOTAL NO. of ITERATIONS REACHED LIMIT.\n",
      "\n",
      "Increase the number of iterations (max_iter) or scale the data as shown in:\n",
      "    https://scikit-learn.org/stable/modules/preprocessing.html\n",
      "Please also refer to the documentation for alternative solver options:\n",
      "    https://scikit-learn.org/stable/modules/linear_model.html#logistic-regression\n",
      "  n_iter_i = _check_optimize_result(\n"
     ]
    },
    {
     "name": "stdout",
     "output_type": "stream",
     "text": [
      "로지스틱 회귀 정확도: 0.8058771148708815\n"
     ]
    },
    {
     "name": "stderr",
     "output_type": "stream",
     "text": [
      "/opt/conda/lib/python3.9/site-packages/sklearn/svm/_base.py:1199: ConvergenceWarning: Liblinear failed to converge, increase the number of iterations.\n",
      "  warnings.warn(\n"
     ]
    },
    {
     "name": "stdout",
     "output_type": "stream",
     "text": [
      "SVM 정확도: 0.7715939447907391\n",
      "결정 트리 정확도: 0.6179875333926982\n",
      "랜덤 포레스트 정확도: 0.701246660730187\n",
      "      Iter       Train Loss   Remaining Time \n",
      "         1           1.4697           16.94m\n",
      "         2     2131099.0239           16.91m\n",
      "         3 113352934366748750033493137947714414201794552363528671409179356940992512.0000           16.79m\n",
      "         4 645005367195105573487290209089081189090170195029150070319832395667206596719018218881024.0000           16.66m\n",
      "         5 443067299530301659980374363525949995629695549691559890285869350923592723545213280554158712204202745088665306932510573934053386280801140736.0000           16.50m\n",
      "         6 443067299530301659980374363525949995629695549691559890285869350923592723545213280554158712204202745088665306932510573934053386280801140736.0000           16.34m\n",
      "         7 443067299530301659980374363525949995629695549691559890285869350923592723545213280554158712204202745088665306932510573934053386280801140736.0000           16.19m\n",
      "         8 443067299530301659980374363525949995629695549691559890285869350923592723545213280554158712204202745088665306932510573934053386280801140736.0000           16.02m\n",
      "         9 443067299530301659980374363525949995629695549691559890285869350923592723545213280554158712204202745088665306932510573934053386280801140736.0000           15.89m\n",
      "        10 443067299530301659980374363525949995629695549691559890285869350923592723545213280554158712204202745088665306932510573934053386280801140736.0000           15.73m\n",
      "        11 443067299530301659980374363525949995629695549691559890285869350923592723545213280554158712204202745088665306932510573934053386280801140736.0000           15.57m\n",
      "        12 443067299530301659980374363525949995629695549691559890285869350923592723545213280554158712204202745088665306932510573934053386280801140736.0000           15.40m\n",
      "        13 443067299530301659980374363525949995629695549691559890285869350923592723545213280554158712204202745088665306932510573934053386280801140736.0000           15.23m\n",
      "        14 443067299530301659980374363525949995629695549691559890285869350923592723545213280554158712204202745088665306932510573934053386280801140736.0000           15.06m\n",
      "        15 443067299530301659980374363525949995629695549691559890285869350923592723545213280554158712204202745088665306932510573934053386280801140736.0000           14.89m\n",
      "        16 443067299530301659980374363525949995629695549691559890285869350923592723545213280554158712204202745088665306932510573934053386280801140736.0000           14.71m\n",
      "        17 443067299530301659980374363525949995629695549691559890285869350923592723545213280554158712204202745088665306932510573934053386280801140736.0000           14.53m\n",
      "        18 443067299530301659980374363525949995629695549691559890285869350923592723545213280554158712204202745088665306932510573934053386280801140736.0000           14.35m\n",
      "        19 443067299530301659980374363525949995629695549691559890285869350923592723545213280554158712204202745088665306932510573934053386280801140736.0000           14.18m\n",
      "        20 443067299530301659980374363525949995629695549691559890285869350923592723545213280554158712204202745088665306932510573934053386280801140736.0000           14.00m\n",
      "        21 443067299530301659980374363525949995629695549691559890285869350923592723545213280554158712204202745088665306932510573934053386280801140736.0000           13.83m\n",
      "        22 443067299530301659980374363525949995629695549691559890285869350923592723545213280554158712204202745088665306932510573934053386280801140736.0000           13.67m\n",
      "        23 443067299530301659980374363525949995629695549691559890285869350923592723545213280554158712204202745088665306932510573934053386280801140736.0000           13.49m\n",
      "        24 443067299530301659980374363525949995629695549691559890285869350923592723545213280554158712204202745088665306932510573934053386280801140736.0000           13.31m\n",
      "        25 443067299530301659980374363525949995629695549691559890285869350923592723545213280554158712204202745088665306932510573934053386280801140736.0000           13.14m\n",
      "        26 443067299530301659980374363525949995629695549691559890285869350923592723545213280554158712204202745088665306932510573934053386280801140736.0000           12.96m\n",
      "        27 443067299530302073140354857431324340576763070173459783038796203599354776450710327057778234898793885831921831754563603678560901920400080896.0000           12.79m\n",
      "        28 443067299530302073140354857431324340576763070173459783038796203599354776450710327057778234898793885831921831754563603678560901920400080896.0000           12.61m\n",
      "        29 443067299530302073140354857431324340576763070173459783038796203599354776450710327057778234898793885831921831754563603678560901920400080896.0000           12.43m\n",
      "        30 443067299530302073140354857431324340576763070173459783038796203599354776450710327057778234898793885831921831754563603678560901920400080896.0000           12.26m\n",
      "        31 443067299530302073140354857431324340576763070173459783038796203599354776450710327057778234898793885831921831754563603678560901920400080896.0000           12.09m\n",
      "        32 443067299530302073140354857431324340576763070173459783038796203599354776450710327057778234898793885831921831754563603678560901920400080896.0000           11.91m\n",
      "        33 443067299530302073140354857431324340576763070173459783038796203599354776450710327057778234898793885831921831754563603678560901920400080896.0000           11.74m\n",
      "        34 443067299530302073140354857431324340576763070173459783038796203599354776450710327057778234898793885831921831754563603678560901920400080896.0000           11.56m\n",
      "        35 443067299530302073140354857431324340576763070173459783038796203599354776450710327057778234898793885831921831754563603678560901920400080896.0000           11.39m\n",
      "        36 443067299530302073140354857431324340576763070173459783038796203599354776450710327057778234898793885831921831754563603678560901920400080896.0000           11.22m\n",
      "        37 443067299530302073140354857431324340576763070173459783038796203599354776450710327057778234898793885831921831754563603678560901920400080896.0000           11.04m\n",
      "        38 443067299530302073140354857431324340576763070173459783038796203599354776450710327057778234898793885831921831754563603678560901920400080896.0000           10.87m\n",
      "        39 443067299530302073140354857431324340576763070173459783038796203599354776450710327057778234898793885831921831754563603678560901920400080896.0000           10.69m\n",
      "        40 443067299530302073140354857431324340576763070173459783038796203599354776450710327057778234898793885831921831754563603678560901920400080896.0000           10.52m\n",
      "        41 443067299530302073140354857431324340576763070173459783038796203599354776450710327057778234898793885831921831754563603678560901920400080896.0000           10.35m\n",
      "        42 443067299530302073140354857431324340576763070173459783038796203599354776450710327057778234898793885831921831754563603678560901920400080896.0000           10.17m\n",
      "        43 443067299530302073140354857431324340576763070173459783038796203599354776450710327057778234898793885831921831754563603678560901920400080896.0000            9.99m\n",
      "        44 443067299530302073140354857431324340576763070173459783038796203599354776450710327057778234898793885831921831754563603678560901920400080896.0000            9.82m\n",
      "        45 443067299530302073140354857431324340576763070173459783038796203599354776450710327057778234898793885831921831754563603678560901920400080896.0000            9.64m\n",
      "        46 443067299530302073140354857431324340576763070173459783038796203599354776450710327057778234898793885831921831754563603678560901920400080896.0000            9.47m\n",
      "        47 443067299530302073140354857431324340576763070173459783038796203599354776450710327057778234898793885831921831754563603678560901920400080896.0000            9.29m\n",
      "        48 443067299530302073140354857431324340576763070173459783038796203599354776450710327057778234898793885831921831754563603678560901920400080896.0000            9.11m\n",
      "        49 443067299530302073140354857431324340576763070173459783038796203599354776450710327057778234898793885831921831754563603678560901920400080896.0000            8.94m\n",
      "        50 443067299530302073140354857431324340576763070173459783038796203599354776450710327057778234898793885831921831754563603678560901920400080896.0000            8.76m\n",
      "        51 443067299530302073140354857431324340576763070173459783038796203599354776450710327057778234898793885831921831754563603678560901920400080896.0000            8.59m\n",
      "        52 443067299530302073140354857431324340576763070173459783038796203599354776450710327057778234898793885831921831754563603678560901920400080896.0000            8.41m\n",
      "        53 443067299530302073140354857431324340576763070173459783038796203599354776450710327057778234898793885831921831754563603678560901920400080896.0000            8.24m\n",
      "        54 443067299530302073140354857431324340576763070173459783038796203599354776450710327057778234898793885831921831754563603678560901920400080896.0000            8.06m\n",
      "        55 443067299530302073140354857431324340576763070173459783038796203599354776450710327057778234898793885831921831754563603678560901920400080896.0000            7.89m\n",
      "        56 443067299530302073140354857431324340576763070173459783038796203599354776450710327057778234898793885831921831754563603678560901920400080896.0000            7.71m\n",
      "        57 443067299530302073140354857431324340576763070173459783038796203599354776450710327057778234898793885831921831754563603678560901920400080896.0000            7.53m\n",
      "        58 443067299530302073140354857431324340576763070173459783038796203599354776450710327057778234898793885831921831754563603678560901920400080896.0000            7.36m\n",
      "        59 443067299530302073140354857431324340576763070173459783038796203599354776450710327057778234898793885831921831754563603678560901920400080896.0000            7.18m\n",
      "        60 443067299530302073140354857431324340576763070173459783038796203599354776450710327057778234898793885831921831754563603678560901920400080896.0000            7.01m\n",
      "        61 443067299530302073140354857431324340576763070173459783038796203599354776450710327057778234898793885831921831754563603678560901920400080896.0000            6.83m\n",
      "        62 443067299530302073140354857431324340576763070173459783038796203599354776450710327057778234898793885831921831754563603678560901920400080896.0000            6.66m\n",
      "        63 443067299530302073140354857431324340576763070173459783038796203599354776450710327057778234898793885831921831754563603678560901920400080896.0000            6.48m\n",
      "        64 443067299530302073140354857431324340576763070173459783038796203599354776450710327057778234898793885831921831754563603678560901920400080896.0000            6.31m\n",
      "        65 443067299530302073140354857431324340576763070173459783038796203599354776450710327057778234898793885831921831754563603678560901920400080896.0000            6.13m\n",
      "        66 443067299530302073140354857431324340576763070173459783038796203599354776450710327057778234898793885831921831754563603678560901920400080896.0000            5.96m\n",
      "        67 443067299530302073140354857431324340576763070173459783038796203599354776450710327057778234898793885831921831754563603678560901920400080896.0000            5.78m\n",
      "        68 443067299530302073140354857431324340576763070173459783038796203599354776450710327057778234898793885831921831754563603678560901920400080896.0000            5.61m\n",
      "        69 443067299530302073140354857431324340576763070173459783038796203599354776450710327057778234898793885831921831754563603678560901920400080896.0000            5.43m\n",
      "        70 443067299530302073140354857431324340576763070173459783038796203599354776450710327057778234898793885831921831754563603678560901920400080896.0000            5.26m\n",
      "        71 443067299530302073140354857431324340576763070173459783038796203599354776450710327057778234898793885831921831754563603678560901920400080896.0000            5.08m\n",
      "        72 443067299530302073140354857431324340576763070173459783038796203599354776450710327057778234898793885831921831754563603678560901920400080896.0000            4.91m\n",
      "        73 443067299530302073140354857431324340576763070173459783038796203599354776450710327057778234898793885831921831754563603678560901920400080896.0000            4.73m\n",
      "        74 443067299530302073140354857431324340576763070173459783038796203599354776450710327057778234898793885831921831754563603678560901920400080896.0000            4.55m\n",
      "        75 443067299530302073140354857431324340576763070173459783038796203599354776450710327057778234898793885831921831754563603678560901920400080896.0000            4.38m\n",
      "        76 443067299530302073140354857431324340576763070173459783038796203599354776450710327057778234898793885831921831754563603678560901920400080896.0000            4.20m\n",
      "        77 443067299530302073140354857431324340576763070173459783038796203599354776450710327057778234898793885831921831754563603678560901920400080896.0000            4.03m\n",
      "        78 443067299530302073140354857431324340576763070173459783038796203599354776450710327057778234898793885831921831754563603678560901920400080896.0000            3.85m\n",
      "        79 443067299530302073140354857431324340576763070173459783038796203599354776450710327057778234898793885831921831754563603678560901920400080896.0000            3.68m\n",
      "        80 443067299530302073140354857431324340576763070173459783038796203599354776450710327057778234898793885831921831754563603678560901920400080896.0000            3.50m\n",
      "        81 443067299530302073140354857431324340576763070173459783038796203599354776450710327057778234898793885831921831754563603678560901920400080896.0000            3.33m\n",
      "        82 443067299530302073140354857431324340576763070173459783038796203599354776450710327057778234898793885831921831754563603678560901920400080896.0000            3.15m\n",
      "        83 443067299530302073140354857431324340576763070173459783038796203599354776450710327057778234898793885831921831754563603678560901920400080896.0000            2.98m\n",
      "        84 443067299530302073140354857431324340576763070173459783038796203599354776450710327057778234898793885831921831754563603678560901920400080896.0000            2.80m\n",
      "        85 443067299530302073140354857431324340576763070173459783038796203599354776450710327057778234898793885831921831754563603678560901920400080896.0000            2.63m\n",
      "        86 443067299530302073140354857431324340576763070173459783038796203599354776450710327057778234898793885831921831754563603678560901920400080896.0000            2.45m\n",
      "        87 443067299530302073140354857431324340576763070173459783038796203599354776450710327057778234898793885831921831754563603678560901920400080896.0000            2.28m\n",
      "        88 443067299530302073140354857431324340576763070173459783038796203599354776450710327057778234898793885831921831754563603678560901920400080896.0000            2.10m\n",
      "        89 443067299530302073140354857431324340576763070173459783038796203599354776450710327057778234898793885831921831754563603678560901920400080896.0000            1.93m\n",
      "        90 443067299530302073140354857431324340576763070173459783038796203599354776450710327057778234898793885831921831754563603678560901920400080896.0000            1.75m\n",
      "        91 443067299530302073140354857431324340576763070173459783038796203599354776450710327057778234898793885831921831754563603678560901920400080896.0000            1.58m\n",
      "        92 443067299530302073140354857431324340576763070173459783038796203599354776450710327057778234898793885831921831754563603678560901920400080896.0000            1.40m\n",
      "        93 443067299530302073140354857431324340576763070173459783038796203599354776450710327057778234898793885831921831754563603678560901920400080896.0000            1.22m\n",
      "        94 443067299530302073140354857431324340576763070173459783038796203599354776450710327057778234898793885831921831754563603678560901920400080896.0000            1.05m\n",
      "        95 443067299530302073140354857431324340576763070173459783038796203599354776450710327057778234898793885831921831754563603678560901920400080896.0000           52.49s\n",
      "        96 443067299530302073140354857431324340576763070173459783038796203599354776450710327057778234898793885831921831754563603678560901920400080896.0000           41.99s\n",
      "        97 443067299530302073140354857431324340576763070173459783038796203599354776450710327057778234898793885831921831754563603678560901920400080896.0000           31.49s\n",
      "        98 443067299530302073140354857431324340576763070173459783038796203599354776450710327057778234898793885831921831754563603678560901920400080896.0000           21.00s\n",
      "        99 443067299530302073140354857431324340576763070173459783038796203599354776450710327057778234898793885831921831754563603678560901920400080896.0000           10.50s\n",
      "       100 443067299530302073140354857431324340576763070173459783038796203599354776450710327057778234898793885831921831754563603678560901920400080896.0000            0.00s\n",
      "그래디언트 부스팅 트리 정확도: 0.767586821015138\n"
     ]
    },
    {
     "name": "stderr",
     "output_type": "stream",
     "text": [
      "/opt/conda/lib/python3.9/site-packages/sklearn/linear_model/_logistic.py:814: ConvergenceWarning: lbfgs failed to converge (status=1):\n",
      "STOP: TOTAL NO. of ITERATIONS REACHED LIMIT.\n",
      "\n",
      "Increase the number of iterations (max_iter) or scale the data as shown in:\n",
      "    https://scikit-learn.org/stable/modules/preprocessing.html\n",
      "Please also refer to the documentation for alternative solver options:\n",
      "    https://scikit-learn.org/stable/modules/linear_model.html#logistic-regression\n",
      "  n_iter_i = _check_optimize_result(\n"
     ]
    },
    {
     "name": "stdout",
     "output_type": "stream",
     "text": [
      "보팅 정확도: 0.8161175422974176\n",
      "---------------\n",
      "10000 개 단어 사용\n",
      "X_train DTM shape :  (8982, 9670)\n",
      "TF-IDF shape (8982, 9670)\n",
      "나이브 베이즈 정확도: 0.6567230632235085\n",
      "CNB 정확도: 0.7707034728406055\n"
     ]
    },
    {
     "name": "stderr",
     "output_type": "stream",
     "text": [
      "/opt/conda/lib/python3.9/site-packages/sklearn/linear_model/_logistic.py:814: ConvergenceWarning: lbfgs failed to converge (status=1):\n",
      "STOP: TOTAL NO. of ITERATIONS REACHED LIMIT.\n",
      "\n",
      "Increase the number of iterations (max_iter) or scale the data as shown in:\n",
      "    https://scikit-learn.org/stable/modules/preprocessing.html\n",
      "Please also refer to the documentation for alternative solver options:\n",
      "    https://scikit-learn.org/stable/modules/linear_model.html#logistic-regression\n",
      "  n_iter_i = _check_optimize_result(\n"
     ]
    },
    {
     "name": "stdout",
     "output_type": "stream",
     "text": [
      "로지스틱 회귀 정확도: 0.8076580587711487\n"
     ]
    },
    {
     "name": "stderr",
     "output_type": "stream",
     "text": [
      "/opt/conda/lib/python3.9/site-packages/sklearn/svm/_base.py:1199: ConvergenceWarning: Liblinear failed to converge, increase the number of iterations.\n",
      "  warnings.warn(\n"
     ]
    },
    {
     "name": "stdout",
     "output_type": "stream",
     "text": [
      "SVM 정확도: 0.776046304541407\n",
      "결정 트리 정확도: 0.6202137132680321\n",
      "랜덤 포레스트 정확도: 0.674087266251113\n",
      "      Iter       Train Loss   Remaining Time \n",
      "         1           1.4608           17.80m\n",
      "         2       95544.1548           17.81m\n",
      "         3      105411.1055           17.71m\n",
      "         4 26490374809120059619893320924222374741943986946048.0000           17.56m\n",
      "         5 3332464259228453694671945105465820387521328203545526380221295913764842145866429631276902168311601749602693928777633481065758720.0000           17.38m\n",
      "         6 3332464259228453694671945105465820387521328203545526380221295913764842145866429631276902168311601749602693928777633481065758720.0000           17.20m\n",
      "         7 3332464259228453694671945105465820387521328203545526380221295913764842145866429631276902168311601749602693928777633481065758720.0000           17.05m\n",
      "         8 3332464259228453694671945105465820387521328203545526380221295913764842145866429631276902168311601749602693928777633481065758720.0000           16.87m\n",
      "         9 3332464259228453694671945105465820387521328203545526380221295913764842145866429631276902168311601749602693928777633481065758720.0000           16.69m\n",
      "        10 3332464259228453694671945105465820387521328203545526380221295913764842145866429631276902168311601749602693928777633481065758720.0000           16.53m\n",
      "        11 14834291270935598097793813192422686817633454293445808551806972586635235618984506254543094943361504759490214512223227966451089408.0000           16.35m\n",
      "        12 14834291270935598097793813192422686817633454293445808551806972586635235618984506254543094943361504759490214512223227966451089408.0000           16.17m\n",
      "        13 14834291270935598097793813192422686817633454293445808551806972586635235618984506254543094943361504759490214512223227966451089408.0000           15.99m\n",
      "        14 14834291270935598097793813192422686817633454293445808551806972586635235618984506254543094943361504759490214512223227966451089408.0000           15.80m\n",
      "        15 14834291270935598097793813192422686817633454293445808551806972586635235618984506254543094943361504759490214512223227966451089408.0000           15.62m\n",
      "        16 14834291270935598097793813192422686817633454293445808551806972586635235618984506254543094943361504759490214512223227966451089408.0000           15.43m\n",
      "        17 14834291270935598097793813192422686817633454293445808551806972586635235618984506254543094943361504759490214512223227966451089408.0000           15.26m\n",
      "        18 14834291270935598097793813192422686817633454293445808551806972586635235618984506254543094943361504759490214512223227966451089408.0000           15.07m\n",
      "        19 14834291270935598097793813192422686817633454293445808551806972586635235618984506254543094943361504759490214512223227966451089408.0000           14.89m\n",
      "        20 14834291270935598097793813192422686817633454293445808551806972586635235618984506254543094943361504759490214512223227966451089408.0000           14.70m\n",
      "        21 14834291270935598097793813192422686817633454293445808551806972586635235618984506254543094943361504759490214512223227966451089408.0000           14.53m\n",
      "        22 14834291270935598097793813192422686817633454293445808551806972586635235618984506254543094943361504759490214512223227966451089408.0000           14.34m\n",
      "        23 14834291270935598097793813192422686817633454293445808551806972586635235618984506254543094943361504759490214512223227966451089408.0000           14.16m\n",
      "        24 14834291270935598097793813192422686817633454293445808551806972586635235618984506254543094943361504759490214512223227966451089408.0000           13.97m\n",
      "        25 14834291270935598097793813192422686817633454293445808551806972586635235618984506254543094943361504759490214512223227966451089408.0000           13.79m\n",
      "        26 14834291270935598097793813192422686817633454293445808551806972586635235618984506254543094943361504759490214512223227966451089408.0000           13.60m\n",
      "        27 14834291270935598097793813192422686817633454293445808551806972586635235618984506254543094943361504759490214512223227966451089408.0000           13.42m\n",
      "        28 14834291270935598097793813192422686817633454293445808551806972586635235618984506254543094943361504759490214512223227966451089408.0000           13.25m\n",
      "        29 14834291270935598097793813192422686817633454293445808551806972586635235618984506254543094943361504759490214512223227966451089408.0000           13.07m\n",
      "        30 14834291270935598097793813192422686817633454293445808551806972586635235618984506254543094943361504759490214512223227966451089408.0000           12.89m\n",
      "        31 14834291270935598097793813192422686817633454293445808551806972586635235618984506254543094943361504759490214512223227966451089408.0000           12.72m\n",
      "        32 14834291270935598097793813192422686817633454293445808551806972586635235618984506254543094943361504759490214512223227966451089408.0000           12.54m\n",
      "        33 14834291270935598097793813192422686817633454293445808551806972586635235618984506254543094943361504759490214512223227966451089408.0000           12.36m\n",
      "        34 14834291270935598097793813192422686817633454293445808551806972586635235618984506254543094943361504759490214512223227966451089408.0000           12.18m\n",
      "        35 14834291270935598097793813192422686817633454293445808551806972586635235618984506254543094943361504759490214512223227966451089408.0000           12.00m\n",
      "        36 14834291270935598097793813192422686817633454293445808551806972586635235618984506254543094943361504759490214512223227966451089408.0000           11.82m\n",
      "        37 14834291270935598097793813192422686817633454293445808551806972586635235618984506254543094943361504759490214512223227966451089408.0000           11.63m\n",
      "        38 14834291270935598097793813192422686817633454293445808551806972586635235618984506254543094943361504759490214512223227966451089408.0000           11.45m\n",
      "        39 14834291270935598097793813192422686817633454293445808551806972586635235618984506254543094943361504759490214512223227966451089408.0000           11.27m\n",
      "        40 14834291270935598097793813192422686817633454293445808551806972586635235618984506254543094943361504759490214512223227966451089408.0000           11.08m\n",
      "        41 14834291270935598097793813192422686817633454293445808551806972586635235618984506254543094943361504759490214512223227966451089408.0000           10.90m\n",
      "        42 14834291270935598097793813192422686817633454293445808551806972586635235618984506254543094943361504759490214512223227966451089408.0000           10.71m\n",
      "        43 14834291270935598097793813192422686817633454293445808551806972586635235618984506254543094943361504759490214512223227966451089408.0000           10.53m\n",
      "        44 14834291270935598097793813192422686817633454293445808551806972586635235618984506254543094943361504759490214512223227966451089408.0000           10.34m\n",
      "        45 14834291270935598097793813192422686817633454293445808551806972586635235618984506254543094943361504759490214512223227966451089408.0000           10.16m\n",
      "        46 14834291270935598097793813192422686817633454293445808551806972586635235618984506254543094943361504759490214512223227966451089408.0000            9.97m\n",
      "        47 14834291270935598097793813192422686817633454293445808551806972586635235618984506254543094943361504759490214512223227966451089408.0000            9.79m\n",
      "        48 14834291270935598097793813192422686817633454293445808551806972586635235618984506254543094943361504759490214512223227966451089408.0000            9.60m\n",
      "        49 14834291270935598097793813192422686817633454293445808551806972586635235618984506254543094943361504759490214512223227966451089408.0000            9.42m\n",
      "        50 14834291270935598097793813192422686817633454293445808551806972586635235618984506254543094943361504759490214512223227966451089408.0000            9.24m\n",
      "        51 14834291270935598097793813192422686817633454293445808551806972586635235618984506254543094943361504759490214512223227966451089408.0000            9.05m\n",
      "        52 14834291270935598097793813192422686817633454293445808551806972586635235618984506254543094943361504759490214512223227966451089408.0000            8.86m\n",
      "        53 14834291270935598097793813192422686817633454293445808551806972586635235618984506254543094943361504759490214512223227966451089408.0000            8.68m\n",
      "        54 14834291270935598097793813192422686817633454293445808551806972586635235618984506254543094943361504759490214512223227966451089408.0000            8.50m\n",
      "        55 14834291270935598097793813192422686817633454293445808551806972586635235618984506254543094943361504759490214512223227966451089408.0000            8.32m\n",
      "        56 14834291270935598097793813192422686817633454293445808551806972586635235618984506254543094943361504759490214512223227966451089408.0000            8.13m\n",
      "        57 14834291270935598097793813192422686817633454293445808551806972586635235618984506254543094943361504759490214512223227966451089408.0000            7.95m\n",
      "        58 14834291270935598097793813192422686817633454293445808551806972586635235618984506254543094943361504759490214512223227966451089408.0000            7.77m\n",
      "        59 14834291270935598097793813192422686817633454293445808551806972586635235618984506254543094943361504759490214512223227966451089408.0000            7.58m\n",
      "        60 14834291270935598097793813192422686817633454293445808551806972586635235618984506254543094943361504759490214512223227966451089408.0000            7.39m\n",
      "        61 14834291270935598097793813192422686817633454293445808551806972586635235618984506254543094943361504759490214512223227966451089408.0000            7.21m\n",
      "        62 14834291270935598097793813192422686817633454293445808551806972586635235618984506254543094943361504759490214512223227966451089408.0000            7.02m\n",
      "        63 14834291270935598097793813192422686817633454293445808551806972586635235618984506254543094943361504759490214512223227966451089408.0000            6.84m\n",
      "        64 14834291270935598097793813192422686817633454293445808551806972586635235618984506254543094943361504759490214512223227966451089408.0000            6.66m\n",
      "        65 14834291270935598097793813192422686817633454293445808551806972586635235618984506254543094943361504759490214512223227966451089408.0000            6.48m\n",
      "        66 14834291270935598097793813192422686817633454293445808551806972586635235618984506254543094943361504759490214512223227966451089408.0000            6.29m\n",
      "        67 14834291270935598097793813192422686817633454293445808551806972586635235618984506254543094943361504759490214512223227966451089408.0000            6.11m\n",
      "        68 14834291270935598097793813192422686817633454293445808551806972586635235618984506254543094943361504759490214512223227966451089408.0000            5.92m\n",
      "        69 14834291270935598097793813192422686817633454293445808551806972586635235618984506254543094943361504759490214512223227966451089408.0000            5.74m\n",
      "        70 14834291270935598097793813192422686817633454293445808551806972586635235618984506254543094943361504759490214512223227966451089408.0000            5.55m\n",
      "        71 14834291270935598097793813192422686817633454293445808551806972586635235618984506254543094943361504759490214512223227966451089408.0000            5.37m\n",
      "        72 14834291270935598097793813192422686817633454293445808551806972586635235618984506254543094943361504759490214512223227966451089408.0000            5.18m\n",
      "        73 14834291270935598097793813192422686817633454293445808551806972586635235618984506254543094943361504759490214512223227966451089408.0000            4.99m\n",
      "        74 14834291270935598097793813192422686817633454293445808551806972586635235618984506254543094943361504759490214512223227966451089408.0000            4.81m\n",
      "        75 14834291270935598097793813192422686817633454293445808551806972586635235618984506254543094943361504759490214512223227966451089408.0000            4.62m\n",
      "        76 14834291270935598097793813192422686817633454293445808551806972586635235618984506254543094943361504759490214512223227966451089408.0000            4.44m\n",
      "        77 14834291270935598097793813192422686817633454293445808551806972586635235618984506254543094943361504759490214512223227966451089408.0000            4.25m\n",
      "        78 14834291270935598097793813192422686817633454293445808551806972586635235618984506254543094943361504759490214512223227966451089408.0000            4.07m\n",
      "        79 14834291270935598097793813192422686817633454293445808551806972586635235618984506254543094943361504759490214512223227966451089408.0000            3.88m\n",
      "        80 14834291270935598097793813192422686817633454293445808551806972586635235618984506254543094943361504759490214512223227966451089408.0000            3.70m\n",
      "        81 14834291270935598097793813192422686817633454293445808551806972586635235618984506254543094943361504759490214512223227966451089408.0000            3.51m\n",
      "        82 14834291270935598097793813192422686817633454293445808551806972586635235618984506254543094943361504759490214512223227966451089408.0000            3.33m\n",
      "        83 14834291270935598097793813192422686817633454293445808551806972586635235618984506254543094943361504759490214512223227966451089408.0000            3.15m\n",
      "        84 14834291270935598097793813192422686817633454293445808551806972586635235618984506254543094943361504759490214512223227966451089408.0000            2.96m\n",
      "        85 14834291270935598097793813192422686817633454293445808551806972586635235618984506254543094943361504759490214512223227966451089408.0000            2.78m\n",
      "        86 14834291270935598097793813192422686817633454293445808551806972586635235618984506254543094943361504759490214512223227966451089408.0000            2.59m\n",
      "        87 14834291270935598097793813192422686817633454293445808551806972586635235618984506254543094943361504759490214512223227966451089408.0000            2.41m\n",
      "        88 14834291270935598097793813192422686817633454293445808551806972586635235618984506254543094943361504759490214512223227966451089408.0000            2.22m\n",
      "        89 14834291270935598097793813192422686817633454293445808551806972586635235618984506254543094943361504759490214512223227966451089408.0000            2.03m\n",
      "        90 14834291270935598097793813192422686817633454293445808551806972586635235618984506254543094943361504759490214512223227966451089408.0000            1.85m\n",
      "        91 14834291270935598097793813192422686817633454293445808551806972586635235618984506254543094943361504759490214512223227966451089408.0000            1.66m\n",
      "        92 14834291270935598097793813192422686817633454293445808551806972586635235618984506254543094943361504759490214512223227966451089408.0000            1.48m\n",
      "        93 14834291270935598097793813192422686817633454293445808551806972586635235618984506254543094943361504759490214512223227966451089408.0000            1.29m\n",
      "        94 14834291270935598097793813192422686817633454293445808551806972586635235618984506254543094943361504759490214512223227966451089408.0000            1.11m\n",
      "        95 14834291270935598097793813192422686817633454293445808551806972586635235618984506254543094943361504759490214512223227966451089408.0000           55.48s\n",
      "        96 14834291270935598097793813192422686817633454293445808551806972586635235618984506254543094943361504759490214512223227966451089408.0000           44.38s\n",
      "        97 14834291270935598097793813192422686817633454293445808551806972586635235618984506254543094943361504759490214512223227966451089408.0000           33.29s\n",
      "        98 14834291270935598097793813192422686817633454293445808551806972586635235618984506254543094943361504759490214512223227966451089408.0000           22.19s\n",
      "        99 14834291270935598097793813192422686817633454293445808551806972586635235618984506254543094943361504759490214512223227966451089408.0000           11.09s\n",
      "       100 14834291270935598097793813192422686817633454293445808551806972586635235618984506254543094943361504759490214512223227966451089408.0000            0.00s\n",
      "그래디언트 부스팅 트리 정확도: 0.7662511130899377\n"
     ]
    },
    {
     "name": "stderr",
     "output_type": "stream",
     "text": [
      "/opt/conda/lib/python3.9/site-packages/sklearn/linear_model/_logistic.py:814: ConvergenceWarning: lbfgs failed to converge (status=1):\n",
      "STOP: TOTAL NO. of ITERATIONS REACHED LIMIT.\n",
      "\n",
      "Increase the number of iterations (max_iter) or scale the data as shown in:\n",
      "    https://scikit-learn.org/stable/modules/preprocessing.html\n",
      "Please also refer to the documentation for alternative solver options:\n",
      "    https://scikit-learn.org/stable/modules/linear_model.html#logistic-regression\n",
      "  n_iter_i = _check_optimize_result(\n"
     ]
    },
    {
     "name": "stdout",
     "output_type": "stream",
     "text": [
      "보팅 정확도: 0.8116651825467498\n",
      "---------------\n",
      "20000 개 단어 사용\n",
      "X_train DTM shape :  (8982, 18479)\n",
      "TF-IDF shape (8982, 18479)\n",
      "나이브 베이즈 정확도: 0.6193232413178985\n",
      "CNB 정확도: 0.7671415850400712\n"
     ]
    },
    {
     "name": "stderr",
     "output_type": "stream",
     "text": [
      "/opt/conda/lib/python3.9/site-packages/sklearn/linear_model/_logistic.py:814: ConvergenceWarning: lbfgs failed to converge (status=1):\n",
      "STOP: TOTAL NO. of ITERATIONS REACHED LIMIT.\n",
      "\n",
      "Increase the number of iterations (max_iter) or scale the data as shown in:\n",
      "    https://scikit-learn.org/stable/modules/preprocessing.html\n",
      "Please also refer to the documentation for alternative solver options:\n",
      "    https://scikit-learn.org/stable/modules/linear_model.html#logistic-regression\n",
      "  n_iter_i = _check_optimize_result(\n"
     ]
    },
    {
     "name": "stdout",
     "output_type": "stream",
     "text": [
      "로지스틱 회귀 정확도: 0.8098842386464826\n"
     ]
    },
    {
     "name": "stderr",
     "output_type": "stream",
     "text": [
      "/opt/conda/lib/python3.9/site-packages/sklearn/svm/_base.py:1199: ConvergenceWarning: Liblinear failed to converge, increase the number of iterations.\n",
      "  warnings.warn(\n"
     ]
    },
    {
     "name": "stdout",
     "output_type": "stream",
     "text": [
      "SVM 정확도: 0.782279608192342\n",
      "결정 트리 정확도: 0.6211041852181657\n",
      "랜덤 포레스트 정확도: 0.6714158504007124\n",
      "      Iter       Train Loss   Remaining Time \n",
      "         1           1.4325           18.63m\n",
      "         2       95425.3579           18.61m\n",
      "         3      105570.6041           18.49m\n",
      "         4 593224062708261760.0000           18.29m\n",
      "         5 3774435173865725234928276254753926961504996704196152337310417818266040513071397885183910310310561420723401279705159106767064399872.0000           18.13m\n",
      "         6 3774435173865725234928276254753926961504996704196152337310417818266040513071397885183910310310561420723401279705159106767064399872.0000           17.96m\n",
      "         7 1489548745818530758244232012042654711502171239857813292906777294351633452202689035463067802524827847410009904379930627599745172362994401857765376.0000           17.82m\n",
      "         8 1489548745818530758244232012042654711502171239857813292906777294351633452202689035463067802524827847410009904379930627599745172362994401857765376.0000           17.69m\n",
      "         9 1489548745818530758244232012042654711502171239857813292906777294351633452202689035463067802524827847410009904379930627599745172362994401857765376.0000           17.54m\n",
      "        10 1489548745818530758244232012042654711502171239857813292906777294351633452202689035463067802524827847410009904379930627599745172362994401857765376.0000           17.41m\n",
      "        11 1489548745818530758244232012042654711502171239857813292906777294351633452202689035463067802524827847410009904379930627599745172362994401857765376.0000           17.26m\n",
      "        12 1489548745818530758244232012042654711502171239857813292906777294351633452202689035463067802524827847410009904379930627599745172362994401857765376.0000           17.09m\n",
      "        13 1489548745818530758244232012042654711502171239857813292906777294351633452202689035463067802524827847410009904379930627599745172362994401857765376.0000           16.91m\n",
      "        14 1489548745818530758244232012042654711502171239857813292906777294351633452202689035463067802524827847410009904379930627599745172362994401857765376.0000           16.70m\n",
      "        15 1489548745818530758244232012042654711502171239857813292906777294351633452202689035463067802524827847410009904379930627599745172362994401857765376.0000           16.51m\n",
      "        16 1489548745818530758244232012042654711502171239857813292906777294351633452202689035463067802524827847410009904379930627599745172362994401857765376.0000           16.34m\n",
      "        17 1489548745818530758244232012042654711502171239857813292906777294351633452202689035463067802524827847410009904379930627599745172362994401857765376.0000           16.14m\n",
      "        18 1489548745818530758244232012042654711502171239857813292906777294351633452202689035463067802524827847410009904379930627599745172362994401857765376.0000           15.97m\n",
      "        19 1489548745818530758244232012042654711502171239857813292906777294351633452202689035463067802524827847410009904379930627599745172362994401857765376.0000           15.77m\n",
      "        20 1489548745818530758244232012042654711502171239857813292906777294351633452202689035463067802524827847410009904379930627599745172362994401857765376.0000           15.57m\n",
      "        21 1489548745818530758244232012042654711502171239857813292906777294351633452202689035463067802524827847410009904379930627599745172362994401857765376.0000           15.37m\n",
      "        22 1489548745818530758244232012042654711502171239857813292906777294351633452202689035463067802524827847410009904379930627599745172362994401857765376.0000           15.17m\n",
      "        23 1489548745818530758244232012042654711502171239857813292906777294351633452202689035463067802524827847410009904379930627599745172362994401857765376.0000           14.98m\n",
      "        24 1489548745818530758244232012042654711502171239857813292906777294351633452202689035463067802524827847410009904379930627599745172362994401857765376.0000           14.78m\n",
      "        25 1489548745818530758244232012042654711502171239857813292906777294351633452202689035463067802524827847410009904379930627599745172362994401857765376.0000           14.58m\n",
      "        26 1489548745818530758244232012042654711502171239857813292906777294351633452202689035463067802524827847410009904379930627599745172362994401857765376.0000           14.38m\n",
      "        27 1489548745818530758244232012042654711502171239857813292906777294351633452202689035463067802524827847410009904379930627599745172362994401857765376.0000           14.18m\n",
      "        28 1489548745818530758244232012042654711502171239857813292906777294351633452202689035463067802524827847410009904379930627599745172362994401857765376.0000           13.98m\n",
      "        29 1489548745818530758244232012042654711502171239857813292906777294351633452202689035463067802524827847410009904379930627599745172362994401857765376.0000           13.78m\n",
      "        30 1489548745818530758244232012042654711502171239857813292906777294351633452202689035463067802524827847410009904379930627599745172362994401857765376.0000           13.58m\n",
      "        31 1489548745818530758244232012042654711502171239857813292906777294351633452202689035463067802524827847410009904379930627599745172362994401857765376.0000           13.39m\n",
      "        32 1489548745818530758244232012042654711502171239857813292906777294351633452202689035463067802524827847410009904379930627599745172362994401857765376.0000           13.19m\n",
      "        33 1489548745818530758244232012042654711502171239857813292906777294351633452202689035463067802524827847410009904379930627599745172362994401857765376.0000           13.00m\n",
      "        34 1489548745818530758244232012042654711502171239857813292906777294351633452202689035463067802524827847410009904379930627599745172362994401857765376.0000           12.81m\n",
      "        35 1489548745818530758244232012042654711502171239857813292906777294351633452202689035463067802524827847410009904379930627599745172362994401857765376.0000           12.62m\n",
      "        36 1489548745818530758244232012042654711502171239857813292906777294351633452202689035463067802524827847410009904379930627599745172362994401857765376.0000           12.42m\n",
      "        37 1489548745818530758244232012042654711502171239857813292906777294351633452202689035463067802524827847410009904379930627599745172362994401857765376.0000           12.23m\n",
      "        38 1489548745818530758244232012042654711502171239857813292906777294351633452202689035463067802524827847410009904379930627599745172362994401857765376.0000           12.03m\n",
      "        39 1489548745818530758244232012042654711502171239857813292906777294351633452202689035463067802524827847410009904379930627599745172362994401857765376.0000           11.83m\n",
      "        40 1489548745818530758244232012042654711502171239857813292906777294351633452202689035463067802524827847410009904379930627599745172362994401857765376.0000           11.63m\n",
      "        41 1489548745818530758244232012042654711502171239857813292906777294351633452202689035463067802524827847410009904379930627599745172362994401857765376.0000           11.44m\n",
      "        42 1489548745818530758244232012042654711502171239857813292906777294351633452202689035463067802524827847410009904379930627599745172362994401857765376.0000           11.24m\n",
      "        43 1489548745818530758244232012042654711502171239857813292906777294351633452202689035463067802524827847410009904379930627599745172362994401857765376.0000           11.05m\n",
      "        44 1489548745818530758244232012042654711502171239857813292906777294351633452202689035463067802524827847410009904379930627599745172362994401857765376.0000           10.85m\n",
      "        45 1489548745818530758244232012042654711502171239857813292906777294351633452202689035463067802524827847410009904379930627599745172362994401857765376.0000           10.66m\n",
      "        46 1489548745818530758244232012042654711502171239857813292906777294351633452202689035463067802524827847410009904379930627599745172362994401857765376.0000           10.46m\n",
      "        47 1489548745818530758244232012042654711502171239857813292906777294351633452202689035463067802524827847410009904379930627599745172362994401857765376.0000           10.27m\n",
      "        48 1489548745818530758244232012042654711502171239857813292906777294351633452202689035463067802524827847410009904379930627599745172362994401857765376.0000           10.07m\n",
      "        49 1489548745818530758244232012042654711502171239857813292906777294351633452202689035463067802524827847410009904379930627599745172362994401857765376.0000            9.88m\n",
      "        50 1489548745818530758244232012042654711502171239857813292906777294351633452202689035463067802524827847410009904379930627599745172362994401857765376.0000            9.68m\n",
      "        51 1489548745818530758244232012042654711502171239857813292906777294351633452202689035463067802524827847410009904379930627599745172362994401857765376.0000            9.49m\n",
      "        52 1489548745818530758244232012042654711502171239857813292906777294351633452202689035463067802524827847410009904379930627599745172362994401857765376.0000            9.29m\n",
      "        53 1489548745818530758244232012042654711502171239857813292906777294351633452202689035463067802524827847410009904379930627599745172362994401857765376.0000            9.10m\n",
      "        54 1489548745818530758244232012042654711502171239857813292906777294351633452202689035463067802524827847410009904379930627599745172362994401857765376.0000            8.90m\n",
      "        55 1489548745818530758244232012042654711502171239857813292906777294351633452202689035463067802524827847410009904379930627599745172362994401857765376.0000            8.71m\n",
      "        56 1489548745818530758244232012042654711502171239857813292906777294351633452202689035463067802524827847410009904379930627599745172362994401857765376.0000            8.51m\n",
      "        57 1489548745818530758244232012042654711502171239857813292906777294351633452202689035463067802524827847410009904379930627599745172362994401857765376.0000            8.32m\n",
      "        58 1489548745818530758244232012042654711502171239857813292906777294351633452202689035463067802524827847410009904379930627599745172362994401857765376.0000            8.13m\n",
      "        59 1489548745818530758244232012042654711502171239857813292906777294351633452202689035463067802524827847410009904379930627599745172362994401857765376.0000            7.93m\n",
      "        60 1489548745818530758244232012042654711502171239857813292906777294351633452202689035463067802524827847410009904379930627599745172362994401857765376.0000            7.74m\n",
      "        61 1489548745818530758244232012042654711502171239857813292906777294351633452202689035463067802524827847410009904379930627599745172362994401857765376.0000            7.55m\n",
      "        62 1489548745818530758244232012042654711502171239857813292906777294351633452202689035463067802524827847410009904379930627599745172362994401857765376.0000            7.35m\n",
      "        63 1489548745818530758244232012042654711502171239857813292906777294351633452202689035463067802524827847410009904379930627599745172362994401857765376.0000            7.16m\n",
      "        64 1489548745818530758244232012042654711502171239857813292906777294351633452202689035463067802524827847410009904379930627599745172362994401857765376.0000            6.96m\n",
      "        65 1489548745818530758244232012042654711502171239857813292906777294351633452202689035463067802524827847410009904379930627599745172362994401857765376.0000            6.77m\n",
      "        66 1489548745818530758244232012042654711502171239857813292906777294351633452202689035463067802524827847410009904379930627599745172362994401857765376.0000            6.57m\n",
      "        67 1489548745818530758244232012042654711502171239857813292906777294351633452202689035463067802524827847410009904379930627599745172362994401857765376.0000            6.38m\n",
      "        68 1489548745818530758244232012042654711502171239857813292906777294351633452202689035463067802524827847410009904379930627599745172362994401857765376.0000            6.19m\n",
      "        69 1489548745818530758244232012042654711502171239857813292906777294351633452202689035463067802524827847410009904379930627599745172362994401857765376.0000            5.99m\n",
      "        70 1489548745818530758244232012042654711502171239857813292906777294351633452202689035463067802524827847410009904379930627599745172362994401857765376.0000            5.80m\n",
      "        71 1489548745818530758244232012042654711502171239857813292906777294351633452202689035463067802524827847410009904379930627599745172362994401857765376.0000            5.60m\n",
      "        72 1489548745818530758244232012042654711502171239857813292906777294351633452202689035463067802524827847410009904379930627599745172362994401857765376.0000            5.41m\n",
      "        73 1489548745818530758244232012042654711502171239857813292906777294351633452202689035463067802524827847410009904379930627599745172362994401857765376.0000            5.22m\n",
      "        74 1489548745818530758244232012042654711502171239857813292906777294351633452202689035463067802524827847410009904379930627599745172362994401857765376.0000            5.02m\n",
      "        75 1489548745818530758244232012042654711502171239857813292906777294351633452202689035463067802524827847410009904379930627599745172362994401857765376.0000            4.83m\n",
      "        76 1489548745818530758244232012042654711502171239857813292906777294351633452202689035463067802524827847410009904379930627599745172362994401857765376.0000            4.64m\n",
      "        77 1489548745818530758244232012042654711502171239857813292906777294351633452202689035463067802524827847410009904379930627599745172362994401857765376.0000            4.44m\n",
      "        78 1489548745818530758244232012042654711502171239857813292906777294351633452202689035463067802524827847410009904379930627599745172362994401857765376.0000            4.25m\n",
      "        79 1489548745818530758244232012042654711502171239857813292906777294351633452202689035463067802524827847410009904379930627599745172362994401857765376.0000            4.06m\n",
      "        80 1489548745818530758244232012042654711502171239857813292906777294351633452202689035463067802524827847410009904379930627599745172362994401857765376.0000            3.86m\n",
      "        81 1489548745818530758244232012042654711502171239857813292906777294351633452202689035463067802524827847410009904379930627599745172362994401857765376.0000            3.67m\n",
      "        82 1489548745818530758244232012042654711502171239857813292906777294351633452202689035463067802524827847410009904379930627599745172362994401857765376.0000            3.48m\n",
      "        83 1489548745818530758244232012042654711502171239857813292906777294351633452202689035463067802524827847410009904379930627599745172362994401857765376.0000            3.28m\n",
      "        84 1489548745818530758244232012042654711502171239857813292906777294351633452202689035463067802524827847410009904379930627599745172362994401857765376.0000            3.09m\n",
      "        85 1489548745818530758244232012042654711502171239857813292906777294351633452202689035463067802524827847410009904379930627599745172362994401857765376.0000            2.90m\n",
      "        86 1489548745818530758244232012042654711502171239857813292906777294351633452202689035463067802524827847410009904379930627599745172362994401857765376.0000            2.71m\n",
      "        87 1489548745818530758244232012042654711502171239857813292906777294351633452202689035463067802524827847410009904379930627599745172362994401857765376.0000            2.51m\n",
      "        88 1489548745818530758244232012042654711502171239857813292906777294351633452202689035463067802524827847410009904379930627599745172362994401857765376.0000            2.32m\n",
      "        89 1489548745818530758244232012042654711502171239857813292906777294351633452202689035463067802524827847410009904379930627599745172362994401857765376.0000            2.13m\n",
      "        90 1489548745818530758244232012042654711502171239857813292906777294351633452202689035463067802524827847410009904379930627599745172362994401857765376.0000            1.93m\n",
      "        91 1489548745818530758244232012042654711502171239857813292906777294351633452202689035463067802524827847410009904379930627599745172362994401857765376.0000            1.74m\n",
      "        92 1489548745818530758244232012042654711502171239857813292906777294351633452202689035463067802524827847410009904379930627599745172362994401857765376.0000            1.55m\n",
      "        93 1489548745818530758244232012042654711502171239857813292906777294351633452202689035463067802524827847410009904379930627599745172362994401857765376.0000            1.35m\n",
      "        94 1489548745818530758244232012042654711502171239857813292906777294351633452202689035463067802524827847410009904379930627599745172362994401857765376.0000            1.16m\n",
      "        95 1489548745818530758244232012042654711502171239857813292906777294351633452202689035463067802524827847410009904379930627599745172362994401857765376.0000           58.01s\n",
      "        96 1489548745818530758244232012042654711502171239857813292906777294351633452202689035463067802524827847410009904379930627599745172362994401857765376.0000           46.41s\n",
      "        97 1489548745818530758244232012042654711502171239857813292906777294351633452202689035463067802524827847410009904379930627599745172362994401857765376.0000           34.80s\n",
      "        98 1489548745818530758244232012042654711502171239857813292906777294351633452202689035463067802524827847410009904379930627599745172362994401857765376.0000           23.20s\n",
      "        99 1489548745818530758244232012042654711502171239857813292906777294351633452202689035463067802524827847410009904379930627599745172362994401857765376.0000           11.60s\n",
      "       100 1489548745818530758244232012042654711502171239857813292906777294351633452202689035463067802524827847410009904379930627599745172362994401857765376.0000            0.00s\n",
      "그래디언트 부스팅 트리 정확도: 0.7702582368655387\n"
     ]
    },
    {
     "name": "stderr",
     "output_type": "stream",
     "text": [
      "/opt/conda/lib/python3.9/site-packages/sklearn/linear_model/_logistic.py:814: ConvergenceWarning: lbfgs failed to converge (status=1):\n",
      "STOP: TOTAL NO. of ITERATIONS REACHED LIMIT.\n",
      "\n",
      "Increase the number of iterations (max_iter) or scale the data as shown in:\n",
      "    https://scikit-learn.org/stable/modules/preprocessing.html\n",
      "Please also refer to the documentation for alternative solver options:\n",
      "    https://scikit-learn.org/stable/modules/linear_model.html#logistic-regression\n",
      "  n_iter_i = _check_optimize_result(\n"
     ]
    },
    {
     "name": "stdout",
     "output_type": "stream",
     "text": [
      "보팅 정확도: 0.8178984861976848\n",
      "---------------\n",
      "None 개 단어 사용\n",
      "X_train DTM shape :  (8982, 26506)\n",
      "TF-IDF shape (8982, 26506)\n",
      "나이브 베이즈 정확도: 0.5997328584149599\n",
      "CNB 정확도: 0.7649154051647373\n"
     ]
    },
    {
     "name": "stderr",
     "output_type": "stream",
     "text": [
      "/opt/conda/lib/python3.9/site-packages/sklearn/linear_model/_logistic.py:814: ConvergenceWarning: lbfgs failed to converge (status=1):\n",
      "STOP: TOTAL NO. of ITERATIONS REACHED LIMIT.\n",
      "\n",
      "Increase the number of iterations (max_iter) or scale the data as shown in:\n",
      "    https://scikit-learn.org/stable/modules/preprocessing.html\n",
      "Please also refer to the documentation for alternative solver options:\n",
      "    https://scikit-learn.org/stable/modules/linear_model.html#logistic-regression\n",
      "  n_iter_i = _check_optimize_result(\n"
     ]
    },
    {
     "name": "stdout",
     "output_type": "stream",
     "text": [
      "로지스틱 회귀 정확도: 0.813446126447017\n"
     ]
    },
    {
     "name": "stderr",
     "output_type": "stream",
     "text": [
      "/opt/conda/lib/python3.9/site-packages/sklearn/svm/_base.py:1199: ConvergenceWarning: Liblinear failed to converge, increase the number of iterations.\n",
      "  warnings.warn(\n"
     ]
    },
    {
     "name": "stdout",
     "output_type": "stream",
     "text": [
      "SVM 정확도: 0.7791629563668745\n",
      "결정 트리 정확도: 0.6211041852181657\n",
      "랜덤 포레스트 정확도: 0.6544968833481746\n",
      "      Iter       Train Loss   Remaining Time \n",
      "         1           1.4301           19.24m\n",
      "         2       76760.8864           19.23m\n",
      "         3   766490025.2967           19.26m\n",
      "         4 660857139232122368.0000           19.21m\n",
      "         5 1006529060407114004275646732312951615311370376755613476759245377256674837692003341988813591601665584394912965173495998495951159296.0000           19.14m\n",
      "         6 1006529060407114004275646732312951615311370376755613476759245377256674837692003341988813591601665584394912965173495998495951159296.0000           19.00m\n",
      "         7 1006529060407114004275646732312951615311370376755613476759245377256674837692003341988813591601665584394912965173495998495951159296.0000           18.82m\n",
      "         8 1006529060407114004275646732312951615311370376755613476759245377256674837692003341988813591601665584394912965173495998495951159296.0000           18.61m\n",
      "         9 1006529060407114004275646732312951615311370376755613476759245377256674837692003341988813591601665584394912965173495998495951159296.0000           18.40m\n",
      "        10 1006529060407114004275646732312951615311370376755613476759245377256674837692003341988813591601665584394912965173495998495951159296.0000           18.18m\n",
      "        11 1006529060407114004275646732312951615311370376755613476759245377256674837692003341988813591601665584394912965173495998495951159296.0000           17.98m\n",
      "        12 1006529060407114004275646732312951615311370376755613476759245377256674837692003341988813591601665584394912965173495998495951159296.0000           17.76m\n",
      "        13 1006529060407114004275646732312951615311370376755613476759245377256674837692003341988813591601665584394912965173495998495951159296.0000           17.54m\n",
      "        14 1006529060407114004275646732312951615311370376755613476759245377256674837692003341988813591601665584394912965173495998495951159296.0000           17.33m\n",
      "        15 1006529060407114004275646732312951615311370376755613476759245377256674837692003341988813591601665584394912965173495998495951159296.0000           17.11m\n",
      "        16 1006529060407114004275646732312951615311370376755613476759245377256674837692003341988813591601665584394912965173495998495951159296.0000           16.90m\n",
      "        17 1006529060407114004275646732312951615311370376755613476759245377256674837692003341988813591601665584394912965173495998495951159296.0000           16.71m\n",
      "        18 1006529060407114004275646732312951615311370376755613476759245377256674837692003341988813591601665584394912965173495998495951159296.0000           16.50m\n",
      "        19 1006529060407114004275646732312951615311370376755613476759245377256674837692003341988813591601665584394912965173495998495951159296.0000           16.29m\n",
      "        20 1006529060407114004275646732312951615311370376755613476759245377256674837692003341988813591601665584394912965173495998495951159296.0000           16.08m\n",
      "        21 1006529060407114004275646732312951615311370376755613476759245377256674837692003341988813591601665584394912965173495998495951159296.0000           15.88m\n",
      "        22 1006529060407114004275646732312951615311370376755613476759245377256674837692003341988813591601665584394912965173495998495951159296.0000           15.68m\n",
      "        23 1006529060407114004275646732312951615311370376755613476759245377256674837692003341988813591601665584394912965173495998495951159296.0000           15.48m\n",
      "        24 1006529060407114004275646732312951615311370376755613476759245377256674837692003341988813591601665584394912965173495998495951159296.0000           15.28m\n",
      "        25 7935486330861459413268209935908863185564832687635547920920276400843855648137909550861590845608894276096734983386906163942311234165539923296256.0000           15.07m\n",
      "        26 7935486330861459413268209935908863185564832687635547920920276400843855648137909550861590845608894276096734983386906163942311234165539923296256.0000           14.87m\n",
      "        27 7935486330861459413268209935908863185564832687635547920920276400843855648137909550861590845608894276096734983386906163942311234165539923296256.0000           14.67m\n",
      "        28 7935486330861459413268209935908863185564832687635547920920276400843855648137909550861590845608894276096734983386906163942311234165539923296256.0000           14.49m\n",
      "        29 7935486330861459413268209935908863185564832687635547920920276400843855648137909550861590845608894276096734983386906163942311234165539923296256.0000           14.29m\n",
      "        30 7935486330861459413268209935908863185564832687635547920920276400843855648137909550861590845608894276096734983386906163942311234165539923296256.0000           14.09m\n",
      "        31 7935486330861459413268209935908863185564832687635547920920276400843855648137909550861590845608894276096734983386906163942311234165539923296256.0000           13.89m\n",
      "        32 7935486330861459413268209935908863185564832687635547920920276400843855648137909550861590845608894276096734983386906163942311234165539923296256.0000           13.71m\n",
      "        33 7935486330861459413268209935908863185564832687635547920920276400843855648137909550861590845608894276096734983386906163942311234165539923296256.0000           13.50m\n",
      "        34 7935486330861459413268209935908863185564832687635547920920276400843855648137909550861590845608894276096734983386906163942311234165539923296256.0000           13.30m\n",
      "        35 7935486330861459413268209935908863185564832687635547920920276400843855648137909550861590845608894276096734983386906163942311234165539923296256.0000           13.09m\n",
      "        36 7935486330861459413268209935908863185564832687635547920920276400843855648137909550861590845608894276096734983386906163942311234165539923296256.0000           12.88m\n",
      "        37 7935486330861459413268209935908863185564832687635547920920276400843855648137909550861590845608894276096734983386906163942311234165539923296256.0000           12.68m\n",
      "        38 7935486330861459413268209935908863185564832687635547920920276400843855648137909550861590845608894276096734983386906163942311234165539923296256.0000           12.47m\n",
      "        39 7935486330861459413268209935908863185564832687635547920920276400843855648137909550861590845608894276096734983386906163942311234165539923296256.0000           12.27m\n",
      "        40 7935486330861459413268209935908863185564832687635547920920276400843855648137909550861590845608894276096734983386906163942311234165539923296256.0000           12.07m\n",
      "        41 7935486330861459413268209935908863185564832687635547920920276400843855648137909550861590845608894276096734983386906163942311234165539923296256.0000           11.86m\n",
      "        42 7935486330861459413268209935908863185564832687635547920920276400843855648137909550861590845608894276096734983386906163942311234165539923296256.0000           11.66m\n",
      "        43 7935486330861459413268209935908863185564832687635547920920276400843855648137909550861590845608894276096734983386906163942311234165539923296256.0000           11.45m\n",
      "        44 7935486330861459413268209935908863185564832687635547920920276400843855648137909550861590845608894276096734983386906163942311234165539923296256.0000           11.25m\n",
      "        45 7935486330861459413268209935908863185564832687635547920920276400843855648137909550861590845608894276096734983386906163942311234165539923296256.0000           11.05m\n",
      "        46 7935486330861459413268209935908863185564832687635547920920276400843855648137909550861590845608894276096734983386906163942311234165539923296256.0000           10.84m\n",
      "        47 7935486330861459413268209935908863185564832687635547920920276400843855648137909550861590845608894276096734983386906163942311234165539923296256.0000           10.64m\n",
      "        48 7935486330861459413268209935908863185564832687635547920920276400843855648137909550861590845608894276096734983386906163942311234165539923296256.0000           10.44m\n",
      "        49 7935486330861459413268209935908863185564832687635547920920276400843855648137909550861590845608894276096734983386906163942311234165539923296256.0000           10.24m\n",
      "        50 7935486330861459413268209935908863185564832687635547920920276400843855648137909550861590845608894276096734983386906163942311234165539923296256.0000           10.03m\n",
      "        51 7935486330861459413268209935908863185564832687635547920920276400843855648137909550861590845608894276096734983386906163942311234165539923296256.0000            9.83m\n",
      "        52 7935486330861459413268209935908863185564832687635547920920276400843855648137909550861590845608894276096734983386906163942311234165539923296256.0000            9.63m\n",
      "        53 7935486330861459413268209935908863185564832687635547920920276400843855648137909550861590845608894276096734983386906163942311234165539923296256.0000            9.43m\n",
      "        54 7935486330861459413268209935908863185564832687635547920920276400843855648137909550861590845608894276096734983386906163942311234165539923296256.0000            9.22m\n",
      "        55 7935486330861459413268209935908863185564832687635547920920276400843855648137909550861590845608894276096734983386906163942311234165539923296256.0000            9.02m\n",
      "        56 7935486330861459413268209935908863185564832687635547920920276400843855648137909550861590845608894276096734983386906163942311234165539923296256.0000            8.82m\n",
      "        57 7935486330861459413268209935908863185564832687635547920920276400843855648137909550861590845608894276096734983386906163942311234165539923296256.0000            8.62m\n",
      "        58 7935486330861459413268209935908863185564832687635547920920276400843855648137909550861590845608894276096734983386906163942311234165539923296256.0000            8.42m\n",
      "        59 7935486330861459413268209935908863185564832687635547920920276400843855648137909550861590845608894276096734983386906163942311234165539923296256.0000            8.22m\n",
      "        60 7935486330861459413268209935908863185564832687635547920920276400843855648137909550861590845608894276096734983386906163942311234165539923296256.0000            8.02m\n",
      "        61 7935486330861459413268209935908863185564832687635547920920276400843855648137909550861590845608894276096734983386906163942311234165539923296256.0000            7.81m\n",
      "        62 7935486330861459413268209935908863185564832687635547920920276400843855648137909550861590845608894276096734983386906163942311234165539923296256.0000            7.61m\n",
      "        63 7935486330861459413268209935908863185564832687635547920920276400843855648137909550861590845608894276096734983386906163942311234165539923296256.0000            7.41m\n",
      "        64 7935486330861459413268209935908863185564832687635547920920276400843855648137909550861590845608894276096734983386906163942311234165539923296256.0000            7.21m\n",
      "        65 7935486330861459413268209935908863185564832687635547920920276400843855648137909550861590845608894276096734983386906163942311234165539923296256.0000            7.01m\n",
      "        66 7935486330861459413268209935908863185564832687635547920920276400843855648137909550861590845608894276096734983386906163942311234165539923296256.0000            6.81m\n",
      "        67 7935486330861459413268209935908863185564832687635547920920276400843855648137909550861590845608894276096734983386906163942311234165539923296256.0000            6.61m\n",
      "        68 7935486330861459413268209935908863185564832687635547920920276400843855648137909550861590845608894276096734983386906163942311234165539923296256.0000            6.41m\n",
      "        69 7935486330861459413268209935908863185564832687635547920920276400843855648137909550861590845608894276096734983386906163942311234165539923296256.0000            6.20m\n",
      "        70 7935486330861459413268209935908863185564832687635547920920276400843855648137909550861590845608894276096734983386906163942311234165539923296256.0000            6.00m\n",
      "        71 7935486330861459413268209935908863185564832687635547920920276400843855648137909550861590845608894276096734983386906163942311234165539923296256.0000            5.80m\n",
      "        72 7935486330861459413268209935908863185564832687635547920920276400843855648137909550861590845608894276096734983386906163942311234165539923296256.0000            5.60m\n",
      "        73 7935486330861459413268209935908863185564832687635547920920276400843855648137909550861590845608894276096734983386906163942311234165539923296256.0000            5.40m\n",
      "        74 7935486330861459413268209935908863185564832687635547920920276400843855648137909550861590845608894276096734983386906163942311234165539923296256.0000            5.20m\n",
      "        75 7935486330861459413268209935908863185564832687635547920920276400843855648137909550861590845608894276096734983386906163942311234165539923296256.0000            5.00m\n",
      "        76 7935486330861459413268209935908863185564832687635547920920276400843855648137909550861590845608894276096734983386906163942311234165539923296256.0000            4.80m\n",
      "        77 7935486330861459413268209935908863185564832687635547920920276400843855648137909550861590845608894276096734983386906163942311234165539923296256.0000            4.60m\n",
      "        78 7935486330861459413268209935908863185564832687635547920920276400843855648137909550861590845608894276096734983386906163942311234165539923296256.0000            4.40m\n",
      "        79 7935486330861459413268209935908863185564832687635547920920276400843855648137909550861590845608894276096734983386906163942311234165539923296256.0000            4.20m\n",
      "        80 7935486330861459413268209935908863185564832687635547920920276400843855648137909550861590845608894276096734983386906163942311234165539923296256.0000            4.00m\n",
      "        81 7935486330861459413268209935908863185564832687635547920920276400843855648137909550861590845608894276096734983386906163942311234165539923296256.0000            3.80m\n",
      "        82 7935486330861459413268209935908863185564832687635547920920276400843855648137909550861590845608894276096734983386906163942311234165539923296256.0000            3.60m\n",
      "        83 7935486330861459413268209935908863185564832687635547920920276400843855648137909550861590845608894276096734983386906163942311234165539923296256.0000            3.40m\n",
      "        84 7935486330861459413268209935908863185564832687635547920920276400843855648137909550861590845608894276096734983386906163942311234165539923296256.0000            3.20m\n",
      "        85 7935486330861459413268209935908863185564832687635547920920276400843855648137909550861590845608894276096734983386906163942311234165539923296256.0000            3.00m\n",
      "        86 7935486330861459413268209935908863185564832687635547920920276400843855648137909550861590845608894276096734983386906163942311234165539923296256.0000            2.80m\n",
      "        87 7935486330861459413268209935908863185564832687635547920920276400843855648137909550861590845608894276096734983386906163942311234165539923296256.0000            2.60m\n",
      "        88 7935486330861459413268209935908863185564832687635547920920276400843855648137909550861590845608894276096734983386906163942311234165539923296256.0000            2.40m\n",
      "        89 7935486330861459413268209935908863185564832687635547920920276400843855648137909550861590845608894276096734983386906163942311234165539923296256.0000            2.20m\n",
      "        90 7935486330861459413268209935908863185564832687635547920920276400843855648137909550861590845608894276096734983386906163942311234165539923296256.0000            2.00m\n",
      "        91 7935486330861459413268209935908863185564832687635547920920276400843855648137909550861590845608894276096734983386906163942311234165539923296256.0000            1.80m\n",
      "        92 7935486330861459413268209935908863185564832687635547920920276400843855648137909550861590845608894276096734983386906163942311234165539923296256.0000            1.60m\n",
      "        93 7935486330861459413268209935908863185564832687635547920920276400843855648137909550861590845608894276096734983386906163942311234165539923296256.0000            1.40m\n",
      "        94 7935486330861459413268209935908863185564832687635547920920276400843855648137909550861590845608894276096734983386906163942311234165539923296256.0000            1.20m\n",
      "        95 7935486330861459413268209935908863185564832687635547920920276400843855648137909550861590845608894276096734983386906163942311234165539923296256.0000           59.93s\n",
      "        96 7935486330861459413268209935908863185564832687635547920920276400843855648137909550861590845608894276096734983386906163942311234165539923296256.0000           47.94s\n",
      "        97 7935486330861459413268209935908863185564832687635547920920276400843855648137909550861590845608894276096734983386906163942311234165539923296256.0000           35.95s\n",
      "        98 7935486330861459413268209935908863185564832687635547920920276400843855648137909550861590845608894276096734983386906163942311234165539923296256.0000           23.96s\n",
      "        99 7935486330861459413268209935908863185564832687635547920920276400843855648137909550861590845608894276096734983386906163942311234165539923296256.0000           11.98s\n",
      "       100 7935486330861459413268209935908863185564832687635547920920276400843855648137909550861590845608894276096734983386906163942311234165539923296256.0000            0.00s\n",
      "그래디언트 부스팅 트리 정확도: 0.7702582368655387\n"
     ]
    },
    {
     "name": "stderr",
     "output_type": "stream",
     "text": [
      "/opt/conda/lib/python3.9/site-packages/sklearn/linear_model/_logistic.py:814: ConvergenceWarning: lbfgs failed to converge (status=1):\n",
      "STOP: TOTAL NO. of ITERATIONS REACHED LIMIT.\n",
      "\n",
      "Increase the number of iterations (max_iter) or scale the data as shown in:\n",
      "    https://scikit-learn.org/stable/modules/preprocessing.html\n",
      "Please also refer to the documentation for alternative solver options:\n",
      "    https://scikit-learn.org/stable/modules/linear_model.html#logistic-regression\n",
      "  n_iter_i = _check_optimize_result(\n"
     ]
    },
    {
     "name": "stdout",
     "output_type": "stream",
     "text": [
      "보팅 정확도: 0.8187889581478184\n",
      "---------------\n"
     ]
    }
   ],
   "source": [
    "word_num_list= [500, 1000, 5000, 10000, 20000, None]\n",
    "mod_acc_list =[]\n",
    "cb_acc_list = []\n",
    "lr_acc_list = []\n",
    "lsvc_acc_list = []\n",
    "tree_acc_list = []\n",
    "forest_acc_list = []\n",
    "grbt_acc_list = []\n",
    "voting_acc_list = []\n",
    "for num in word_num_list:\n",
    "    print(num,'개 단어 사용')\n",
    "    \n",
    "    # 단어 100개 사용\n",
    "    tfidfv, y_train, tfidfv_test, y_test = data_with_nwords(num_words = num)\n",
    "    mod_acc, cb_acc, lr_acc, lsvc_acc, tree_acc, forest_acc, grbt_acc, voting_acc = train_ml(tfidfv, y_train, tfidfv_test, y_test)\n",
    "    \n",
    "    mod_acc_list.append(mod_acc)\n",
    "    cb_acc_list.append(cb_acc)\n",
    "    lr_acc_list.append(lr_acc)\n",
    "    lsvc_acc_list.append(lsvc_acc)\n",
    "    tree_acc_list.append(tree_acc)\n",
    "    forest_acc_list.append(forest_acc)\n",
    "    grbt_acc_list.append(grbt_acc)\n",
    "    voting_acc_list.append(voting_acc)\n",
    "    print('-'*15)\n",
    "    "
   ]
  },
  {
   "cell_type": "code",
   "execution_count": 16,
   "id": "b17fd8f4",
   "metadata": {
    "scrolled": false
   },
   "outputs": [
    {
     "data": {
      "image/png": "[encoded data removed]",
      "text/plain": [
       "<Figure size 432x288 with 1 Axes>"
      ]
     },
     "metadata": {
      "needs_background": "light"
     },
     "output_type": "display_data"
    },
    {
     "data": {
      "image/png": "[encoded data removed]",
      "text/plain": [
       "<Figure size 432x288 with 1 Axes>"
      ]
     },
     "metadata": {
      "needs_background": "light"
     },
     "output_type": "display_data"
    },
    {
     "data": {
      "image/png": "[encoded data removed]",
      "text/plain": [
       "<Figure size 432x288 with 1 Axes>"
      ]
     },
     "metadata": {
      "needs_background": "light"
     },
     "output_type": "display_data"
    },
    {
     "data": {
      "image/png": "[encoded data removed]",
      "text/plain": [
       "<Figure size 432x288 with 1 Axes>"
      ]
     },
     "metadata": {
      "needs_background": "light"
     },
     "output_type": "display_data"
    },
    {
     "data": {
      "image/png": "[encoded data removed]",
      "text/plain": [
       "<Figure size 432x288 with 1 Axes>"
      ]
     },
     "metadata": {
      "needs_background": "light"
     },
     "output_type": "display_data"
    },
    {
     "data": {
      "image/png": "[encoded data removed]",
      "text/plain": [
       "<Figure size 432x288 with 1 Axes>"
      ]
     },
     "metadata": {
      "needs_background": "light"
     },
     "output_type": "display_data"
    },
    {
     "data": {
      "image/png": "[encoded data removed]",
      "text/plain": [
       "<Figure size 432x288 with 1 Axes>"
      ]
     },
     "metadata": {
      "needs_background": "light"
     },
     "output_type": "display_data"
    },
    {
     "data": {
      "image/png": "[encoded data removed]",
      "text/plain": [
       "<Figure size 432x288 with 1 Axes>"
      ]
     },
     "metadata": {
      "needs_background": "light"
     },
     "output_type": "display_data"
    }
   ],
   "source": [
    "# 그리기\n",
    "import matplotlib.pyplot as plt\n",
    "# word_num_list\n",
    "# mod_acc_list\n",
    "# cb_acc_list\n",
    "# lr_acc_list\n",
    "# lsvc_acc_list\n",
    "# tree_acc_list\n",
    "# forest_acc_list\n",
    "# grbt_acc_list\n",
    "# voting_acc_list\n",
    "word_num_list_str= ['500', '1000', '5000', '10000', '20000', 'None']\n",
    "title_list = {'mod_acc': mod_acc_list,\n",
    "              'cb_acc': cb_acc_list,\n",
    "              'lr_acc': lr_acc_list,\n",
    "              'lsvc_acc': lsvc_acc_list,\n",
    "              'tree_acc': tree_acc_list,\n",
    "              'forest_acc': forest_acc_list,\n",
    "              'grbt_acc': grbt_acc_list,\n",
    "              'voting_acc': voting_acc_list}\n",
    "for title in title_list.keys():\n",
    "\n",
    "    plt.plot(word_num_list_str, title_list[title],'g^')\n",
    "    plt.xlabel('number of words')\n",
    "    plt.ylabel('accuracy')\n",
    "    plt.title(title.upper())\n",
    "    plt.show()"
   ]
  },
  {
   "cell_type": "markdown",
   "id": "386715a3",
   "metadata": {},
   "source": [
    "# 결과\n",
    "- 단어의 크기를 500에서 전체로 변화하면 정확도를 보았으나 같은 모델내에서 0.1 이상의 변동은 없었다.\n",
    "- MOD 와 FREST 의 경우 단어 1천 이후 단어수가 증가함에 따라 오히려 성능이 소폭 감소하였다.\n",
    "- 그외 나머지 방법은 단어 5천이후 소폭 증가하여 크게 변동없었다.\n",
    "# 회고\n",
    "- 단어수 '500', '1000', '5000', '10000', '20000', 'None'에서 각각 모델의 성능을 확인하였다.\n",
    "- RNN 모델시도는 못하였다.\n",
    "# 참고\n",
    "- https://github.com/miinkang/AI_Project_AIFFEL/blob/main/%5BGD-04%5DTFIDF_vectorization.ipynb"
   ]
  },
  {
   "cell_type": "code",
   "execution_count": null,
   "id": "e4e57daf",
   "metadata": {},
   "outputs": [],
   "source": []
  }
 ],
 "metadata": {
  "kernelspec": {
   "display_name": "Python 3 (ipykernel)",
   "language": "python",
   "name": "python3"
  },
  "language_info": {
   "codemirror_mode": {
    "name": "ipython",
    "version": 3
   },
   "file_extension": ".py",
   "mimetype": "text/x-python",
   "name": "python",
   "nbconvert_exporter": "python",
   "pygments_lexer": "ipython3",
   "version": "3.9.7"
  }
 },
 "nbformat": 4,
 "nbformat_minor": 5
}
