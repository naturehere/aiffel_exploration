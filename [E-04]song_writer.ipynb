{
 "cells": [
  {
   "cell_type": "code",
   "execution_count": 1,
   "id": "8a8ea438",
   "metadata": {},
   "outputs": [
    {
     "name": "stdout",
     "output_type": "stream",
     "text": [
      "Source 문장: <start> 나는 밥을 먹었다 \n",
      "Target 문장:  나는 밥을 먹었다 <end>\n"
     ]
    }
   ],
   "source": [
    "# 문장의 앞뒤에 시작과 끝을 알려주는 단어를 넣어주어 입력데이터 문제지와, 출력데이터 답안지를 만든다.\n",
    "\n",
    "sentence = \" 나는 밥을 먹었다 \"\n",
    "\n",
    "source_sentence = \"<start>\" + sentence\n",
    "target_sentence = sentence + \"<end>\"\n",
    "\n",
    "print(\"Source 문장:\", source_sentence)\n",
    "print(\"Target 문장:\", target_sentence)"
   ]
  },
  {
   "cell_type": "code",
   "execution_count": 2,
   "id": "45a8abd0",
   "metadata": {},
   "outputs": [
    {
     "name": "stdout",
     "output_type": "stream",
     "text": [
      "['First Citizen:', 'Before we proceed any further, hear me speak.', '', 'All:', 'Speak, speak.', '', 'First Citizen:', 'You are all resolved rather to die than to famish?', '']\n"
     ]
    }
   ],
   "source": [
    "## 필요한 라이브러리\n",
    "import os, re \n",
    "import numpy as np\n",
    "import tensorflow as tf\n",
    "\n",
    "# 파일을 읽기모드로 열고\n",
    "# 라인 단위로 끊어서 list 형태로 읽어옵니다.\n",
    "file_path = os.getenv('HOME') + '/aiffel/lyricist/data/shakespeare.txt'\n",
    "with open(file_path, \"r\") as f:\n",
    "    raw_corpus = f.read().splitlines()\n",
    "\n",
    "# 앞에서부터 10라인만 화면에 출력해 볼까요?\n",
    "print(raw_corpus[:9])"
   ]
  },
  {
   "cell_type": "code",
   "execution_count": 3,
   "id": "b26665dc",
   "metadata": {},
   "outputs": [
    {
     "name": "stdout",
     "output_type": "stream",
     "text": [
      "Before we proceed any further, hear me speak.\n",
      "Speak, speak.\n",
      "You are all resolved rather to die than to famish?\n"
     ]
    }
   ],
   "source": [
    "for idx, sentence in enumerate(raw_corpus):\n",
    "    if len(sentence) == 0: continue   # 길이가 0인 문장은 건너뜁니다.\n",
    "    if sentence[-1] == \":\": continue  # 문장의 끝이 : 인 문장은 건너뜁니다.\n",
    "\n",
    "    if idx > 9: break   # 일단 문장 10개만 확인해 볼 겁니다.\n",
    "        \n",
    "    print(sentence)\n",
    "    \n",
    "## 문장만 출력"
   ]
  },
  {
   "cell_type": "code",
   "execution_count": 4,
   "id": "71bd226e",
   "metadata": {},
   "outputs": [
    {
     "name": "stdout",
     "output_type": "stream",
     "text": [
      "<start> this is sample sentence . <end>\n"
     ]
    }
   ],
   "source": [
    "## 토큰화 : 문장을 일정 기준을 쪼개는 것.\n",
    "\n",
    "## 정제 함수\n",
    "# 입력된 문장을\n",
    "#     1. 소문자로 바꾸고, 양쪽 공백을 지웁니다\n",
    "#     2. 특수문자 양쪽에 공백을 넣고\n",
    "#     3. 여러개의 공백은 하나의 공백으로 바꿉니다\n",
    "#     4. a-zA-Z?.!,¿가 아닌 모든 문자를 하나의 공백으로 바꿉니다\n",
    "#     5. 다시 양쪽 공백을 지웁니다\n",
    "#     6. 문장 시작에는 <start>, 끝에는 <end>를 추가합니다\n",
    "# 이 순서로 처리해주면 문제가 되는 상황을 방지할 수 있겠네요!\n",
    "def preprocess_sentence(sentence):\n",
    "    sentence = sentence.lower().strip() # 1\n",
    "    sentence = re.sub(r\"([?.!,¿])\", r\" \\1 \", sentence) # 2\n",
    "    sentence = re.sub(r'[\" \"]+', \" \", sentence) # 3\n",
    "    sentence = re.sub(r\"[^a-zA-Z?.!,¿]+\", \" \", sentence) # 4\n",
    "    sentence = sentence.strip() # 5\n",
    "    sentence = '<start> ' + sentence + ' <end>' # 6\n",
    "    return sentence\n",
    "\n",
    "# 이 문장이 어떻게 필터링되는지 확인해 보세요.\n",
    "print(preprocess_sentence(\"This @_is ;;;sample        sentence.\"))"
   ]
  },
  {
   "cell_type": "markdown",
   "id": "60e5bcbc",
   "metadata": {},
   "source": [
    "소스 문장(source sentence) : X_train\n",
    "\n",
    "타겟 문장(Target Sentence) : y_train\n",
    "\n",
    "문장 > 정제함수 > 토큰화 > \n",
    "- end 를 없에면 소스문장\n",
    "- start 를 없에면 타겟문장"
   ]
  },
  {
   "cell_type": "code",
   "execution_count": 5,
   "id": "f1345850",
   "metadata": {},
   "outputs": [
    {
     "data": {
      "text/plain": [
       "['<start> before we proceed any further , hear me speak . <end>',\n",
       " '<start> speak , speak . <end>',\n",
       " '<start> you are all resolved rather to die than to famish ? <end>',\n",
       " '<start> resolved . resolved . <end>',\n",
       " '<start> first , you know caius marcius is chief enemy to the people . <end>',\n",
       " '<start> we know t , we know t . <end>',\n",
       " '<start> let us kill him , and we ll have corn at our own price . <end>',\n",
       " '<start> is t a verdict ? <end>',\n",
       " '<start> no more talking on t let it be done away , away ! <end>',\n",
       " '<start> one word , good citizens . <end>']"
      ]
     },
     "execution_count": 5,
     "metadata": {},
     "output_type": "execute_result"
    }
   ],
   "source": [
    "# 여기에 정제된 문장을 모을겁니다\n",
    "corpus = []\n",
    "\n",
    "for sentence in raw_corpus:\n",
    "    # 우리가 원하지 않는 문장은 건너뜁니다\n",
    "    if len(sentence) == 0: continue\n",
    "    if sentence[-1] == \":\": continue\n",
    "    \n",
    "    # 정제를 하고 담아주세요\n",
    "    preprocessed_sentence = preprocess_sentence(sentence)\n",
    "    corpus.append(preprocessed_sentence)\n",
    "        \n",
    "# 정제된 결과를 10개만 확인해보죠\n",
    "corpus[:10]"
   ]
  },
  {
   "cell_type": "markdown",
   "id": "67a8bd10",
   "metadata": {},
   "source": [
    "tf.keras.preprocessing.text.Tokenizer 패키지를 활용.\n",
    "\n",
    "데이터를 토큰화 하고 단어사전을 만든다.\n",
    "\n",
    "이를 벡터화(vectorize), 변화된 데이터를 텐서(tensor)라 한다."
   ]
  },
  {
   "cell_type": "code",
   "execution_count": 6,
   "id": "d3a49b63",
   "metadata": {},
   "outputs": [
    {
     "name": "stdout",
     "output_type": "stream",
     "text": [
      "[[   2  143   40 ...    0    0    0]\n",
      " [   2  110    4 ...    0    0    0]\n",
      " [   2   11   50 ...    0    0    0]\n",
      " ...\n",
      " [   2  149 4553 ...    0    0    0]\n",
      " [   2   34   71 ...    0    0    0]\n",
      " [   2  945   34 ...    0    0    0]] <keras_preprocessing.text.Tokenizer object at 0x7f1754d9fdf0>\n"
     ]
    }
   ],
   "source": [
    "# 토큰화 할 때 텐서플로우의 Tokenizer와 pad_sequences를 사용합니다\n",
    "# 더 잘 알기 위해 아래 문서들을 참고하면 좋습니다\n",
    "# https://www.tensorflow.org/api_docs/python/tf/keras/preprocessing/text/Tokenizer\n",
    "# https://www.tensorflow.org/api_docs/python/tf/keras/preprocessing/sequence/pad_sequences\n",
    "def tokenize(corpus):\n",
    "    # 7000단어를 기억할 수 있는 tokenizer를 만들겁니다\n",
    "    # 우리는 이미 문장을 정제했으니 filters가 필요없어요\n",
    "    # 7000단어에 포함되지 못한 단어는 '<unk>'로 바꿀거에요\n",
    "    tokenizer = tf.keras.preprocessing.text.Tokenizer(\n",
    "        num_words=7000, \n",
    "        filters=' ',\n",
    "        oov_token=\"<unk>\"\n",
    "    )\n",
    "    # corpus를 이용해 tokenizer 내부의 단어장을 완성합니다\n",
    "    tokenizer.fit_on_texts(corpus)\n",
    "    # 준비한 tokenizer를 이용해 corpus를 Tensor로 변환합니다\n",
    "    tensor = tokenizer.texts_to_sequences(corpus)   \n",
    "    # 입력 데이터의 시퀀스 길이를 일정하게 맞춰줍니다\n",
    "    # 만약 시퀀스가 짧다면 문장 뒤에 패딩을 붙여 길이를 맞춰줍니다.\n",
    "    # 문장 앞에 패딩을 붙여 길이를 맞추고 싶다면 padding='pre'를 사용합니다\n",
    "    tensor = tf.keras.preprocessing.sequence.pad_sequences(tensor, padding='post')  \n",
    "    \n",
    "    print(tensor,tokenizer)\n",
    "    return tensor, tokenizer\n",
    "\n",
    "tensor, tokenizer = tokenize(corpus)"
   ]
  },
  {
   "cell_type": "code",
   "execution_count": 11,
   "id": "61fe5915",
   "metadata": {},
   "outputs": [
    {
     "name": "stdout",
     "output_type": "stream",
     "text": [
      "[[   2  143   40  933  140  591    4  124   24  110]\n",
      " [   2  110    4  110    5    3    0    0    0    0]\n",
      " [   2   11   50   43 1201  316    9  201   74    9]]\n"
     ]
    }
   ],
   "source": [
    "print(tensor[:3, :10]) # 3행 10열 까지만 출력.\n",
    "\n",
    "# 2로 시작 한다 ? start / 0으롤 채워진 부분 : 문장이 짧아 패딩이다. 0 : <pad>"
   ]
  },
  {
   "cell_type": "code",
   "execution_count": 10,
   "id": "3c850194",
   "metadata": {
    "scrolled": true
   },
   "outputs": [
    {
     "name": "stdout",
     "output_type": "stream",
     "text": [
      "1 : <unk>\n",
      "2 : <start>\n",
      "3 : <end>\n",
      "4 : ,\n",
      "5 : .\n",
      "6 : the\n",
      "7 : and\n",
      "8 : i\n",
      "9 : to\n",
      "10 : of\n"
     ]
    }
   ],
   "source": [
    "#  tokenizer 에 구축된 단어사전 확인\n",
    "for idx in tokenizer.index_word:\n",
    "    print(idx, \":\", tokenizer.index_word[idx])\n",
    "\n",
    "    if idx >= 10: break"
   ]
  },
  {
   "cell_type": "markdown",
   "id": "2ebd3da9",
   "metadata": {},
   "source": [
    "소스데이터와 타겟 데이터를 각각 end 와 start를 잘라서 만들자."
   ]
  },
  {
   "cell_type": "code",
   "execution_count": 14,
   "id": "bbbacf9b",
   "metadata": {},
   "outputs": [
    {
     "name": "stdout",
     "output_type": "stream",
     "text": [
      "[  2 143  40 933 140 591   4 124  24 110   5   3   0   0   0   0   0   0\n",
      "   0   0]\n",
      "[143  40 933 140 591   4 124  24 110   5   3   0   0   0   0   0   0   0\n",
      "   0   0]\n"
     ]
    }
   ],
   "source": [
    "# tensor에서 마지막 토큰을 잘라내서 소스 문장을 생성합니다\n",
    "# 마지막 토큰은 <end>가 아니라 <pad>일 가능성이 높습니다.\n",
    "src_input = tensor[:, :-1]  \n",
    "# tensor에서 <start>를 잘라내서 타겟 문장을 생성합니다.\n",
    "tgt_input = tensor[:, 1:]    \n",
    "\n",
    "print(src_input[0]) # 소스는 맨마지막이 잘리고,\n",
    "print(tgt_input[0]) # 타겟은 앞의 start 가 잘림."
   ]
  },
  {
   "cell_type": "markdown",
   "id": "b185e3d1",
   "metadata": {},
   "source": [
    "데이터셋 객체 생성하자.\n",
    "- 보통은  model.fit(x_train, y_train, ...)  형태로 넘파이 배열 데이터셋을 생성하여 모델에 제공해왔다.\n",
    "- 텐서플로를 활용할 경우 tf.data.Dataset 객체를 생성하는 방법을 흔히 사용함.\n",
    "- 상기 객체는 텐서플로에서 사용할 경우, 입력 파이프라인(?)을 통한 속도 개선, 및 각종 편의 기능을 제공한다.\n",
    "- tf.data.Dataset.from_tensor_slices()메서드를 통해 tf.data.Dataset객체를 생성하자."
   ]
  },
  {
   "cell_type": "code",
   "execution_count": 15,
   "id": "83be54a9",
   "metadata": {},
   "outputs": [
    {
     "data": {
      "text/plain": [
       "<BatchDataset shapes: ((256, 20), (256, 20)), types: (tf.int32, tf.int32)>"
      ]
     },
     "execution_count": 15,
     "metadata": {},
     "output_type": "execute_result"
    }
   ],
   "source": [
    "BUFFER_SIZE = len(src_input)\n",
    "BATCH_SIZE = 256\n",
    "steps_per_epoch = len(src_input) // BATCH_SIZE\n",
    "\n",
    " # tokenizer가 구축한 단어사전 내 7000개와, 여기 포함되지 않은 0:<pad>를 포함하여 7001개\n",
    "VOCAB_SIZE = tokenizer.num_words + 1   \n",
    "\n",
    "# 준비한 데이터 소스로부터 데이터셋을 만듭니다\n",
    "# 데이터셋에 대해서는 아래 문서를 참고하세요\n",
    "# 자세히 알아둘수록 도움이 많이 되는 중요한 문서입니다\n",
    "# https://www.tensorflow.org/api_docs/python/tf/data/Dataset\n",
    "dataset = tf.data.Dataset.from_tensor_slices((src_input, tgt_input))\n",
    "dataset = dataset.shuffle(BUFFER_SIZE)\n",
    "dataset = dataset.batch(BATCH_SIZE, drop_remainder=True)\n",
    "dataset"
   ]
  },
  {
   "cell_type": "markdown",
   "id": "7df3bd3c",
   "metadata": {},
   "source": [
    "데이터 전처리 : 지금 까지의 과정\n",
    " - 정규표현식으로 corpus 말뭉치 생성\n",
    " - tf.keras.preprocessing.text.Tokenizer를 이용해 corpus를 텐서로 변환\n",
    " - tf.data.Dataset.from_tensor_slices()를 이용해 corpus 텐서를 tf.data.Dataset객체로 변환\n",
    " \n",
    " 다듬기 끝,  tf.data.Dataset에서 제공하는 shuffle(), batch() 등  이용가능"
   ]
  },
  {
   "cell_type": "markdown",
   "id": "f78192ee",
   "metadata": {},
   "source": [
    "***\n",
    "\n",
    "임베딩 : 단어의 추상화 \n",
    "- 차갑다: [0.0, 1.0]\n",
    "- 뜨겁다: [1.0, 0.0]\n",
    "- 미지근하다: [0.5, 0.5]\n",
    "\n",
    "\n",
    "\n",
    " tf.keras.Model을 Subclassing하는 방식으로 모델을 만들자.\n",
    " - 1개 임베딩 레이어\n",
    " - 2개  lstm 레이어\n",
    " - 1개 dense 레이어 로 구성\n",
    " \n",
    " "
   ]
  },
  {
   "cell_type": "code",
   "execution_count": 16,
   "id": "e879966e",
   "metadata": {},
   "outputs": [],
   "source": [
    "class TextGenerator(tf.keras.Model):\n",
    "    def __init__(self, vocab_size, embedding_size, hidden_size):  # 단어 크기, 임베딩 크기, 히든 크기를 받는다.\n",
    "        super().__init__()\n",
    "        \n",
    "        self.embedding = tf.keras.layers.Embedding(vocab_size, embedding_size) # 임베딩 레이어\n",
    "        self.rnn_1 = tf.keras.layers.LSTM(hidden_size, return_sequences=True) # lstm 레이어 2개\n",
    "        self.rnn_2 = tf.keras.layers.LSTM(hidden_size, return_sequences=True)\n",
    "        self.linear = tf.keras.layers.Dense(vocab_size)                        # dense 레이어\n",
    "        \n",
    "    def call(self, x):\n",
    "        out = self.embedding(x)\n",
    "        out = self.rnn_1(out)\n",
    "        out = self.rnn_2(out)\n",
    "        out = self.linear(out)\n",
    "        \n",
    "        return out\n",
    "    \n",
    "embedding_size = 256 # 임베딩 크기 : 추상화 차원 \n",
    "hidden_size = 1024 # 히든 크기\n",
    "model = TextGenerator(tokenizer.num_words + 1, embedding_size , hidden_size)"
   ]
  },
  {
   "cell_type": "markdown",
   "id": "afa5e76a",
   "metadata": {},
   "source": [
    "<상기 인자 설명>\n",
    "\n",
    "__데이터가 충분치 않을때, 임베딩크기가 크면 오히려 혼란만 야기 할수 있다.__\n",
    "\n",
    "이문제에서는 256이 적당해 보인다.\n",
    "\n",
    "hidden state 의 hidden size : 모델이 얼마나 많은 일꾼을 둘 것인가? 일꾼은 모두 같은 데이터를 보고 각자 생각을 갖는다.\n",
    "\n",
    "역시 충분한 데이터가 주어지지 않으면 배가 산으로 간다."
   ]
  },
  {
   "cell_type": "code",
   "execution_count": 18,
   "id": "f867f54b",
   "metadata": {
    "scrolled": true
   },
   "outputs": [
    {
     "data": {
      "text/plain": [
       "<tf.Tensor: shape=(256, 20, 7001), dtype=float32, numpy=\n",
       "array([[[-2.95946695e-04,  1.66225596e-04, -5.90102572e-05, ...,\n",
       "          3.50201095e-04,  2.12265135e-04, -2.08437283e-04],\n",
       "        [-4.94624721e-04, -2.23441966e-04,  2.11170161e-04, ...,\n",
       "          5.79748361e-04,  3.31729330e-04, -4.49428684e-04],\n",
       "        [-7.99626054e-04, -4.01565136e-04,  3.28056427e-04, ...,\n",
       "          5.28444652e-04,  1.34589165e-04, -5.45039307e-04],\n",
       "        ...,\n",
       "        [-9.81214573e-04, -5.75057406e-04, -5.39241191e-05, ...,\n",
       "          5.72032935e-04,  7.07077328e-04, -3.33299139e-03],\n",
       "        [-8.29434895e-04, -7.34498841e-04, -2.05637873e-04, ...,\n",
       "          7.45653408e-04,  6.27283240e-04, -3.46248900e-03],\n",
       "        [-6.64041610e-04, -8.90893687e-04, -3.48093599e-04, ...,\n",
       "          8.94145225e-04,  5.53846767e-04, -3.56931426e-03]],\n",
       "\n",
       "       [[-2.95946695e-04,  1.66225596e-04, -5.90102572e-05, ...,\n",
       "          3.50201095e-04,  2.12265135e-04, -2.08437283e-04],\n",
       "        [-6.12962351e-04,  5.49847144e-04,  1.73933586e-04, ...,\n",
       "          2.47751013e-04,  3.27555201e-04, -2.78594292e-04],\n",
       "        [-1.07397791e-03,  1.11935847e-03,  3.55898257e-04, ...,\n",
       "          4.52777953e-04,  4.82805626e-04, -6.84164434e-06],\n",
       "        ...,\n",
       "        [-9.17274039e-04, -5.35405066e-04,  8.28944263e-04, ...,\n",
       "         -9.65429062e-05,  1.62320124e-04, -2.02882499e-03],\n",
       "        [-8.59323307e-04, -6.76575117e-04,  6.33810763e-04, ...,\n",
       "          1.46915962e-04,  2.42521710e-04, -2.37007043e-03],\n",
       "        [-7.86568678e-04, -8.17897730e-04,  4.25859587e-04, ...,\n",
       "          3.70007794e-04,  2.87685281e-04, -2.67115142e-03]],\n",
       "\n",
       "       [[-2.95946695e-04,  1.66225596e-04, -5.90102572e-05, ...,\n",
       "          3.50201095e-04,  2.12265135e-04, -2.08437283e-04],\n",
       "        [-6.51426904e-04,  4.58026916e-05, -7.96721797e-05, ...,\n",
       "          6.27842615e-04,  9.00112718e-05, -7.12811772e-04],\n",
       "        [-1.06324372e-03,  2.11993800e-04,  6.64330728e-05, ...,\n",
       "          6.69179542e-04, -4.82716860e-06, -6.96746458e-04],\n",
       "        ...,\n",
       "        [-7.77043228e-04, -1.13178254e-03,  1.81754731e-04, ...,\n",
       "          5.78795210e-04,  2.66168063e-04, -2.68344511e-03],\n",
       "        [-6.85825420e-04, -1.24320982e-03, -2.83974005e-05, ...,\n",
       "          7.23157660e-04,  1.81393785e-04, -2.91826227e-03],\n",
       "        [-5.71312848e-04, -1.34782982e-03, -2.22383766e-04, ...,\n",
       "          8.50505137e-04,  1.16665913e-04, -3.12013365e-03]],\n",
       "\n",
       "       ...,\n",
       "\n",
       "       [[-2.95946695e-04,  1.66225596e-04, -5.90102572e-05, ...,\n",
       "          3.50201095e-04,  2.12265135e-04, -2.08437283e-04],\n",
       "        [-2.24020303e-04,  1.30537010e-04, -2.67356904e-06, ...,\n",
       "          6.67182263e-04,  4.42739372e-04, -4.79900220e-04],\n",
       "        [-1.44397200e-04,  3.37647740e-04,  6.89258595e-05, ...,\n",
       "          9.21589672e-04,  2.51462567e-04, -9.30648646e-04],\n",
       "        ...,\n",
       "        [-1.20902678e-03, -1.14378892e-03,  1.95087050e-03, ...,\n",
       "         -1.00906938e-03, -3.71996488e-04, -1.57727161e-03],\n",
       "        [-1.28695485e-03, -1.17319368e-03,  1.82033493e-03, ...,\n",
       "         -8.79205763e-04, -2.16206783e-04, -1.99016929e-03],\n",
       "        [-1.33007334e-03, -1.20979652e-03,  1.61176850e-03, ...,\n",
       "         -6.86579151e-04, -1.13495385e-04, -2.36937916e-03]],\n",
       "\n",
       "       [[-2.95946695e-04,  1.66225596e-04, -5.90102572e-05, ...,\n",
       "          3.50201095e-04,  2.12265135e-04, -2.08437283e-04],\n",
       "        [-4.14482114e-04,  3.96677460e-05, -2.17601963e-04, ...,\n",
       "          7.55837013e-04,  2.27025506e-04, -2.69004609e-04],\n",
       "        [-5.76584018e-04, -2.67015101e-04, -2.06676486e-04, ...,\n",
       "          6.76131865e-04,  4.99503294e-05, -1.80611052e-04],\n",
       "        ...,\n",
       "        [-9.97289200e-04, -7.62571057e-04,  6.36129873e-04, ...,\n",
       "         -2.88779614e-04,  6.64478866e-04, -1.69899408e-03],\n",
       "        [-9.37696139e-04, -9.21526051e-04,  5.16609347e-04, ...,\n",
       "         -6.29362985e-05,  5.85502014e-04, -2.12382898e-03],\n",
       "        [-8.62909306e-04, -1.07151631e-03,  3.52302479e-04, ...,\n",
       "          1.67382444e-04,  5.04764786e-04, -2.49005808e-03]],\n",
       "\n",
       "       [[-2.95946695e-04,  1.66225596e-04, -5.90102572e-05, ...,\n",
       "          3.50201095e-04,  2.12265135e-04, -2.08437283e-04],\n",
       "        [-6.92421221e-04,  4.65461722e-04, -3.64516891e-05, ...,\n",
       "          2.97812658e-04,  1.33269379e-04, -2.75202561e-04],\n",
       "        [-9.81490710e-04,  6.28639653e-04,  1.97118745e-04, ...,\n",
       "         -2.95110425e-04,  2.30808568e-04, -4.23881662e-04],\n",
       "        ...,\n",
       "        [-1.09587004e-03, -1.14699709e-03,  7.82540359e-04, ...,\n",
       "         -3.55312892e-04,  6.87467749e-04, -1.49863644e-03],\n",
       "        [-9.61394631e-04, -1.27023621e-03,  6.56799471e-04, ...,\n",
       "         -1.68514161e-04,  6.07956434e-04, -1.87143264e-03],\n",
       "        [-8.38719890e-04, -1.37197901e-03,  4.98284353e-04, ...,\n",
       "          2.62095309e-05,  5.24882227e-04, -2.20666942e-03]]],\n",
       "      dtype=float32)>"
      ]
     },
     "execution_count": 18,
     "metadata": {},
     "output_type": "execute_result"
    }
   ],
   "source": [
    "## 데이터 하나만 모델이 태워 보자.\n",
    "\n",
    "# 데이터셋에서 데이터 한 배치만 불러오는 방법입니다.\n",
    "# 지금은 동작 원리에 너무 빠져들지 마세요~\n",
    "for src_sample, tgt_sample in dataset.take(1): break\n",
    "\n",
    "# 한 배치만 불러온 데이터를 모델에 넣어봅니다\n",
    "model(src_sample)"
   ]
  },
  {
   "cell_type": "markdown",
   "id": "327e2eb0",
   "metadata": {},
   "source": [
    "tf.Tensor: shape=(256, 20, 7001) 의 shape 이다.\n",
    "\n",
    "- 7001 은 dense 층의 출력 차원수 이다.7001개의 단어중 확률이 어떤 단어의 확률이 가장 높을지 모델링한다.\n",
    "- 256 은 지정한 배치사이즈 이다. dataset.take(1)을 통해 1개의 배치 즉 256개의 문장을 가져온것.\n",
    "- 20 은 LSTM 레이어에서 return_sequences=True 라고 한 부분, 입력 시퀀스의 길이만큼 동일한 시퀀스를 출력한다는 뜻\n",
    "- 만약 return_sequences=False 였다면 lstm 레이어는 1개의 벡터만 출력한다.\n",
    "- 데이터셋의 max_len 을 20을 맞추면서, 스퀀스의 길이를 정해준것.\n"
   ]
  },
  {
   "cell_type": "code",
   "execution_count": 19,
   "id": "0a035ffc",
   "metadata": {},
   "outputs": [
    {
     "name": "stdout",
     "output_type": "stream",
     "text": [
      "Model: \"text_generator\"\n",
      "_________________________________________________________________\n",
      "Layer (type)                 Output Shape              Param #   \n",
      "=================================================================\n",
      "embedding (Embedding)        multiple                  1792256   \n",
      "_________________________________________________________________\n",
      "lstm (LSTM)                  multiple                  5246976   \n",
      "_________________________________________________________________\n",
      "lstm_1 (LSTM)                multiple                  8392704   \n",
      "_________________________________________________________________\n",
      "dense (Dense)                multiple                  7176025   \n",
      "=================================================================\n",
      "Total params: 22,607,961\n",
      "Trainable params: 22,607,961\n",
      "Non-trainable params: 0\n",
      "_________________________________________________________________\n"
     ]
    }
   ],
   "source": [
    "model.summary()"
   ]
  },
  {
   "cell_type": "markdown",
   "id": "5c02f168",
   "metadata": {},
   "source": [
    " 모델 서머리 확인\n",
    " \n",
    "- 파라미터 약 22밀리언\n"
   ]
  },
  {
   "cell_type": "code",
   "execution_count": 20,
   "id": "dc8ecc0e",
   "metadata": {
    "scrolled": false
   },
   "outputs": [
    {
     "name": "stdout",
     "output_type": "stream",
     "text": [
      "Epoch 1/30\n",
      "93/93 [==============================] - 22s 187ms/step - loss: 3.5059\n",
      "Epoch 2/30\n",
      "93/93 [==============================] - 18s 196ms/step - loss: 2.8132\n",
      "Epoch 3/30\n",
      "93/93 [==============================] - 19s 206ms/step - loss: 2.7315\n",
      "Epoch 4/30\n",
      "93/93 [==============================] - 19s 207ms/step - loss: 2.6382\n",
      "Epoch 5/30\n",
      "93/93 [==============================] - 19s 200ms/step - loss: 2.5655\n",
      "Epoch 6/30\n",
      "93/93 [==============================] - 18s 198ms/step - loss: 2.5150\n",
      "Epoch 7/30\n",
      "93/93 [==============================] - 19s 202ms/step - loss: 2.4679\n",
      "Epoch 8/30\n",
      "93/93 [==============================] - 19s 203ms/step - loss: 2.4149\n",
      "Epoch 9/30\n",
      "93/93 [==============================] - 19s 203ms/step - loss: 2.3693\n",
      "Epoch 10/30\n",
      "93/93 [==============================] - 19s 201ms/step - loss: 2.3295\n",
      "Epoch 11/30\n",
      "93/93 [==============================] - 19s 201ms/step - loss: 2.2881\n",
      "Epoch 12/30\n",
      "93/93 [==============================] - 19s 202ms/step - loss: 2.2484\n",
      "Epoch 13/30\n",
      "93/93 [==============================] - 19s 203ms/step - loss: 2.2095\n",
      "Epoch 14/30\n",
      "93/93 [==============================] - 19s 202ms/step - loss: 2.1746\n",
      "Epoch 15/30\n",
      "93/93 [==============================] - 19s 202ms/step - loss: 2.1359\n",
      "Epoch 16/30\n",
      "93/93 [==============================] - 19s 202ms/step - loss: 2.1010\n",
      "Epoch 17/30\n",
      "93/93 [==============================] - 19s 202ms/step - loss: 2.0647\n",
      "Epoch 18/30\n",
      "93/93 [==============================] - 19s 202ms/step - loss: 2.0298\n",
      "Epoch 19/30\n",
      "93/93 [==============================] - 19s 202ms/step - loss: 1.9934\n",
      "Epoch 20/30\n",
      "93/93 [==============================] - 19s 202ms/step - loss: 1.9595\n",
      "Epoch 21/30\n",
      "93/93 [==============================] - 19s 202ms/step - loss: 1.9248\n",
      "Epoch 22/30\n",
      "93/93 [==============================] - 19s 203ms/step - loss: 1.8905\n",
      "Epoch 23/30\n",
      "93/93 [==============================] - 19s 203ms/step - loss: 1.8559\n",
      "Epoch 24/30\n",
      "93/93 [==============================] - 19s 202ms/step - loss: 1.8212\n",
      "Epoch 25/30\n",
      "93/93 [==============================] - 19s 201ms/step - loss: 1.7864\n",
      "Epoch 26/30\n",
      "93/93 [==============================] - 19s 202ms/step - loss: 1.7531\n",
      "Epoch 27/30\n",
      "93/93 [==============================] - 19s 202ms/step - loss: 1.7177\n",
      "Epoch 28/30\n",
      "93/93 [==============================] - 19s 203ms/step - loss: 1.6852\n",
      "Epoch 29/30\n",
      "93/93 [==============================] - 19s 203ms/step - loss: 1.6530\n",
      "Epoch 30/30\n",
      "93/93 [==============================] - 19s 203ms/step - loss: 1.6186\n"
     ]
    },
    {
     "data": {
      "text/plain": [
       "<keras.callbacks.History at 0x7f16dc1c5310>"
      ]
     },
     "execution_count": 20,
     "metadata": {},
     "output_type": "execute_result"
    }
   ],
   "source": [
    "## 학습 시켜보자\n",
    "\n",
    "# optimizer와 loss등은 차차 배웁니다\n",
    "# 혹시 미리 알고 싶다면 아래 문서를 참고하세요\n",
    "# https://www.tensorflow.org/api_docs/python/tf/keras/optimizers\n",
    "# https://www.tensorflow.org/api_docs/python/tf/keras/losses\n",
    "# 양이 상당히 많은 편이니 지금 보는 것은 추천하지 않습니다\n",
    "optimizer = tf.keras.optimizers.Adam()\n",
    "loss = tf.keras.losses.SparseCategoricalCrossentropy(\n",
    "    from_logits=True,\n",
    "    reduction='none'\n",
    ")\n",
    "\n",
    "model.compile(loss=loss, optimizer=optimizer)\n",
    "model.fit(dataset, epochs=30)"
   ]
  },
  {
   "cell_type": "markdown",
   "id": "f4841b69",
   "metadata": {},
   "source": [
    "loss 는 모델이 오답을 만들고 있는 정도.(loss 가 1이라 하여, 99% 정답이라는 의미는 아니다.)\n",
    "__loss가 적은 오답률이 적으니 만큼 학습이 잘 진행 되고 있다는 의미__\n",
    "\n",
    "학습이 완료 되었으니 평가하자."
   ]
  },
  {
   "cell_type": "code",
   "execution_count": 22,
   "id": "6797bc0d",
   "metadata": {},
   "outputs": [],
   "source": [
    "# 시작문장을 전달하면 시작문장을 바탕으로 작문을 진행.\n",
    "\n",
    "def generate_text(model, tokenizer, init_sentence=\"<start>\", max_len=20):\n",
    "    # 테스트를 위해서 입력받은 init_sentence도 텐서로 변환합니다\n",
    "    test_input = tokenizer.texts_to_sequences([init_sentence])\n",
    "    test_tensor = tf.convert_to_tensor(test_input, dtype=tf.int64)\n",
    "    end_token = tokenizer.word_index[\"<end>\"]\n",
    "\n",
    "    # 단어 하나씩 예측해 문장을 만듭니다\n",
    "    #    1. 입력받은 문장의 텐서를 입력합니다\n",
    "    #    2. 예측된 값 중 가장 높은 확률인 word index를 뽑아냅니다\n",
    "    #    3. 2에서 예측된 word index를 문장 뒤에 붙입니다\n",
    "    #    4. 모델이 <end>를 예측했거나, max_len에 도달했다면 문장 생성을 마칩니다\n",
    "    while True:\n",
    "        # 1\n",
    "        predict = model(test_tensor) \n",
    "        # 2\n",
    "        predict_word = tf.argmax(tf.nn.softmax(predict, axis=-1), axis=-1)[:, -1] \n",
    "        # 3 \n",
    "        test_tensor = tf.concat([test_tensor, tf.expand_dims(predict_word, axis=0)], axis=-1)\n",
    "        # 4\n",
    "        if predict_word.numpy()[0] == end_token: break\n",
    "        if test_tensor.shape[1] >= max_len: break\n",
    "\n",
    "    generated = \"\"\n",
    "    # tokenizer를 이용해 word index를 단어로 하나씩 변환합니다 \n",
    "    for word_index in test_tensor[0].numpy():\n",
    "        generated += tokenizer.index_word[word_index] + \" \"\n",
    "\n",
    "    return generated"
   ]
  },
  {
   "cell_type": "code",
   "execution_count": 23,
   "id": "7d9f2051",
   "metadata": {},
   "outputs": [
    {
     "data": {
      "text/plain": [
       "'<start> she s not fourteen , and the earl of york <end> '"
      ]
     },
     "execution_count": 23,
     "metadata": {},
     "output_type": "execute_result"
    }
   ],
   "source": [
    "generate_text(model, tokenizer, init_sentence=\"<start> she\")"
   ]
  },
  {
   "cell_type": "markdown",
   "id": "bf034421",
   "metadata": {},
   "source": [
    "### 프로젝트 : 멋진 작사가 만들기.\n",
    "***"
   ]
  },
  {
   "cell_type": "markdown",
   "id": "78586c65",
   "metadata": {},
   "source": [
    "##### 1. 데이터 준비\n",
    "데이터 :  ~/aiffel/lyricist/data/lyrics 에있는 가사 데이터."
   ]
  },
  {
   "cell_type": "markdown",
   "id": "52d2e7e4",
   "metadata": {},
   "source": [
    "##### 2. 데이터 읽어 오기\n",
    "- glob 활용, 모든 txt 읽어온후 raw_corpus 리스트에 문장 단위로 저장.\n"
   ]
  },
  {
   "cell_type": "code",
   "execution_count": 4,
   "id": "b550cab0",
   "metadata": {},
   "outputs": [],
   "source": [
    "import glob\n",
    "import os\n",
    "import re \n",
    "import numpy as np\n",
    "import tensorflow as tf"
   ]
  },
  {
   "cell_type": "code",
   "execution_count": 5,
   "id": "38737b56",
   "metadata": {},
   "outputs": [
    {
     "name": "stdout",
     "output_type": "stream",
     "text": [
      "데이터 크기: 187088\n",
      "Examples:\n",
      " [\"Now I've heard there was a secret chord\", 'That David played, and it pleased the Lord', \"But you don't really care for music, do you?\"]\n"
     ]
    }
   ],
   "source": [
    "\n",
    "\n",
    "txt_file_path = os.getenv('HOME')+'/aiffel/lyricist/data/lyrics/*'\n",
    "\n",
    "txt_list = glob.glob(txt_file_path)\n",
    "\n",
    "raw_corpus = []\n",
    "\n",
    "# 여러개의 txt 파일을 모두 읽어서 raw_corpus 에 담습니다.\n",
    "for txt_file in txt_list:\n",
    "    with open(txt_file, \"r\") as f:\n",
    "        raw = f.read().splitlines()\n",
    "        raw_corpus.extend(raw)  # 문장단위로 가사를 저장\n",
    "\n",
    "print(\"데이터 크기:\", len(raw_corpus))\n",
    "print(\"Examples:\\n\", raw_corpus[:3])\n",
    "\n",
    "#18만7천문장"
   ]
  },
  {
   "cell_type": "markdown",
   "id": "41d9574f",
   "metadata": {},
   "source": [
    "##### 3. 데이터 정제\n",
    "- 앞서 배운 내용으로 정제하자.\n",
    "- 지나치게 긴문장은 과도한 패딩을 갖게함으로 제거하자.(너무 긴문장은 가사 작사에 어울리지 않을수도 있다.)\n",
    "- 토큰화시 토큰수가 15개를 넘는 데이터는 제거하자."
   ]
  },
  {
   "cell_type": "code",
   "execution_count": 6,
   "id": "1ae96dab",
   "metadata": {},
   "outputs": [],
   "source": [
    "# 전처리 함수. 특수문자 제거, 토크나이저 생성, 패딩처리\n",
    "def preprocess_sentence(sentence):\n",
    "    sentence = sentence.lower().strip() #     1. 소문자로 바꾸고, 양쪽 공백을 지웁니다\n",
    "    sentence = re.sub(r\"([?.!,¿])\", r\" \\1 \", sentence) # 2. 특수문자 양쪽에 공백을 넣고\n",
    "    sentence = re.sub(r'[\" \"]+', \" \", sentence) # 3. 여러개의 공백은 하나의 공백으로 바꿉니다\n",
    "    sentence = re.sub(r\"[^a-zA-Z?.!,¿]+\", \" \", sentence) # 4. a-zA-Z?.!,¿가 아닌 모든 문자를 하나의 공백으로 바꿉니다\n",
    "    sentence = sentence.strip() # 5. 다시 양쪽 공백을 지웁니다\n",
    "    sentence = '<start> ' + sentence + ' <end>' # 6. 문장 시작에는 <start>, 끝에는 <end>를 추가합니다\n",
    "    return sentence"
   ]
  },
  {
   "cell_type": "code",
   "execution_count": 8,
   "id": "a031dc1e",
   "metadata": {},
   "outputs": [
    {
     "data": {
      "text/plain": [
       "['<start> now i ve heard there was a secret chord <end>',\n",
       " '<start> that david played , and it pleased the lord <end>',\n",
       " '<start> but you don t really care for music , do you ? <end>',\n",
       " '<start> it goes like this <end>',\n",
       " '<start> the fourth , the fifth <end>',\n",
       " '<start> the minor fall , the major lift <end>',\n",
       " '<start> the baffled king composing hallelujah hallelujah <end>',\n",
       " '<start> hallelujah <end>',\n",
       " '<start> hallelujah <end>',\n",
       " '<start> hallelujah your faith was strong but you needed proof <end>']"
      ]
     },
     "execution_count": 8,
     "metadata": {},
     "output_type": "execute_result"
    }
   ],
   "source": [
    "corpus = [] # \n",
    "for sentence in raw_corpus:\n",
    "    # 원하지 않는 문장은 건너뛴다.\n",
    "    if len(sentence) == 0 :\n",
    "        continue\n",
    "    #if sentence[-1] == ':':  # 이전 코드에서 : 대본 데이터 가 아니므로 필요 없다.\n",
    "    #   continue\n",
    "    \n",
    "    # 정제하고 담아준다.\n",
    "    preprocessed_sentence = preprocess_sentence(sentence)\n",
    "    if len(preprocessed_sentence.split()) > 15 : continue\n",
    "    #    continue #15개가 넘어가는 문장 제외\n",
    "          \n",
    "    corpus.append(preprocessed_sentence)      \n",
    "# 정제된 결과를 10개만 확인하자.\n",
    "len(corpus[1:])\n",
    "corpus[:10]"
   ]
  },
  {
   "cell_type": "markdown",
   "id": "5d32851e",
   "metadata": {},
   "source": [
    "##### 4. 평가 데이터셋 분리.\n",
    "- tokenize() 함수로 tensor 변환 후,\n",
    "- sklearn 모듈의 train_test_split() 함수로 분리\n",
    "- 12000 이상 크기 단어장, 20% 의 평가 데이터셋"
   ]
  },
  {
   "cell_type": "code",
   "execution_count": 9,
   "id": "65bc2b3b",
   "metadata": {},
   "outputs": [
    {
     "name": "stdout",
     "output_type": "stream",
     "text": [
      "[[   2   50    4 ...    0    0    0]\n",
      " [   2   15 2971 ...    0    0    0]\n",
      " [   2   33    7 ...   46    3    0]\n",
      " ...\n",
      " [   2    4  117 ...    0    0    0]\n",
      " [   2  258  195 ...   12    3    0]\n",
      " [   2    7   34 ...    0    0    0]] <keras_preprocessing.text.Tokenizer object at 0x7f8c882bca90>\n"
     ]
    }
   ],
   "source": [
    "def tokenize(corpus):\n",
    "    # 프로젝트 조건대로 12천개 단어로 설정.\n",
    "    # 12000 단어에 포함되지 못한 단어는 <unk> 으로 바꾼다.\n",
    "    tokenizer = tf.keras.preprocessing.text.Tokenizer(\n",
    "        num_words = 12000,\n",
    "        filters = ' ',\n",
    "        oov_token = \"<unk>\"\n",
    "    )\n",
    "    # corpus를 이용해 tokenizer 내부의 단어장을 완성합니다.\n",
    "    tokenizer.fit_on_texts(corpus)\n",
    "    #준비한 tokenizer를 이용해 corpus를 tensor로 변환\n",
    "    tensor = tokenizer.texts_to_sequences(corpus)\n",
    "    # 입력 데이터의 시퀀스 길이를 일정하게\n",
    "    # 짧다면, 문장 뒤에 패딩.\n",
    "    # 문장앞에 패딩을 붙이고 싶다면 padding= 'pre'\n",
    "    tensor = tf.keras.preprocessing.sequence.pad_sequences(tensor,  padding='post')  \n",
    "    \n",
    "    print(tensor, tokenizer)\n",
    "    return tensor, tokenizer\n",
    "\n",
    "tensor, tokenizer = tokenize(corpus)\n",
    "\n",
    "# tensor에서 마지막 토큰을 잘라내서 소스 문장을 생성\n",
    "src_input = tensor[:, :-1]  \n",
    "# tensor에서 <start>를 잘라내서 타겟 문장을 생성\n",
    "tgt_input = tensor[:, 1:] \n",
    "\n",
    "from sklearn.model_selection import train_test_split\n",
    "\n",
    "# 프로젝트 조건제로 20프로 평가 데이터셋,\n",
    "enc_train, enc_val, dec_train, dec_val = train_test_split(src_input, \n",
    "                                                          tgt_input,\n",
    "                                                          test_size=0.2, \n",
    "                                                          shuffle=True, \n",
    "                                                          random_state=34)"
   ]
  },
  {
   "cell_type": "markdown",
   "id": "28aa33d8",
   "metadata": {},
   "source": [
    "##### 5. 인공지능 만들기\n",
    "- Embedding Size와 Hidden Size를 조절\n",
    "- 10 Epoch 안에 val_loss 값을 2.2 수준의 모델 설계!\n",
    "- 제시된 Loss 함수 그대로 사용."
   ]
  },
  {
   "cell_type": "code",
   "execution_count": 10,
   "id": "179f9e08",
   "metadata": {},
   "outputs": [],
   "source": [
    "VOCAB_SIZE = tokenizer.num_words + 1   \n",
    "# 모델 구성\n",
    "class TextGenerator(tf.keras.Model):\n",
    "    def __init__ (self, vocab_size, embedding_size, hidden_size):\n",
    "        super().__init__()\n",
    "        \n",
    "        self.embedding = tf.keras.layers.Embedding(vocab_size, embedding_size)\n",
    "        self.rnn_1 = tf.keras.layers.LSTM(hidden_size, return_sequences = True)\n",
    "        self.rnn_2 = tf.keras.layers.LSTM(hidden_size, return_sequences = True)\n",
    "        self.linear = tf.keras.layers.Dense(vocab_size)\n",
    "        \n",
    "    def call(self, x):\n",
    "        out = self.embedding(x)\n",
    "        out = self.rnn_1(out)\n",
    "        out = self.rnn_2(out)\n",
    "        out = self.linear(out)\n",
    "        return out  \n",
    "    \n",
    "# Loss, 제시된 loss 함수\n",
    "loss = tf.keras.losses.SparseCategoricalCrossentropy(\n",
    "    from_logits=True, reduction='none')"
   ]
  },
  {
   "cell_type": "code",
   "execution_count": 11,
   "id": "1a83b572",
   "metadata": {},
   "outputs": [],
   "source": [
    "# \n",
    "embedding_size = 256 # 조절할 파라미터\n",
    "hidden_size = 1024 # 조절할 파라미터\n",
    "lyricist = TextGenerator(VOCAB_SIZE, embedding_size, hidden_size) # 모델객체 만들기.\n",
    "\n",
    "optimizer = tf.keras.optimizers.Adam() # 옵티마이저 아담.\n",
    "\n"
   ]
  },
  {
   "cell_type": "code",
   "execution_count": 14,
   "id": "28e36209",
   "metadata": {
    "scrolled": false
   },
   "outputs": [
    {
     "name": "stdout",
     "output_type": "stream",
     "text": [
      "Epoch 1/10\n",
      "3906/3906 [==============================] - 151s 37ms/step - loss: 3.0755 - val_loss: 2.8128\n",
      "Epoch 2/10\n",
      "3906/3906 [==============================] - 144s 37ms/step - loss: 2.6493 - val_loss: 2.6103\n",
      "Epoch 3/10\n",
      "3906/3906 [==============================] - 144s 37ms/step - loss: 2.3705 - val_loss: 2.4916\n",
      "Epoch 4/10\n",
      "3906/3906 [==============================] - 144s 37ms/step - loss: 2.1186 - val_loss: 2.4153\n",
      "Epoch 5/10\n",
      "3906/3906 [==============================] - 144s 37ms/step - loss: 1.8984 - val_loss: 2.3717\n",
      "Epoch 6/10\n",
      "3906/3906 [==============================] - 144s 37ms/step - loss: 1.7098 - val_loss: 2.3500\n",
      "Epoch 7/10\n",
      "3906/3906 [==============================] - 144s 37ms/step - loss: 1.5508 - val_loss: 2.3504\n",
      "Epoch 8/10\n",
      "3906/3906 [==============================] - 144s 37ms/step - loss: 1.4196 - val_loss: 2.3577\n",
      "Epoch 9/10\n",
      "3906/3906 [==============================] - 144s 37ms/step - loss: 1.3142 - val_loss: 2.3794\n",
      "Epoch 10/10\n",
      "3906/3906 [==============================] - 145s 37ms/step - loss: 1.2295 - val_loss: 2.4091\n"
     ]
    },
    {
     "data": {
      "text/plain": [
       "<keras.callbacks.History at 0x7f8c7c046520>"
      ]
     },
     "execution_count": 14,
     "metadata": {},
     "output_type": "execute_result"
    }
   ],
   "source": [
    "# 학습\n",
    "lyricist.compile(loss=loss, optimizer=optimizer)\n",
    "lyricist.fit(enc_train,dec_train,\n",
    "             validation_data = (enc_val, dec_val),\n",
    "             epochs=10) # 프로젝트 조건 에폭 10으로"
   ]
  },
  {
   "cell_type": "code",
   "execution_count": 30,
   "id": "770bc640",
   "metadata": {
    "scrolled": true
   },
   "outputs": [
    {
     "name": "stdout",
     "output_type": "stream",
     "text": [
      "[3.0754616260528564, 2.6493139266967773, 2.3704731464385986, 2.1185572147369385, 1.8983515501022339, 1.7097548246383667, 1.5508168935775757, 1.4196193218231201, 1.3141851425170898, 1.2294940948486328]\n",
      "[2.8127739429473877, 2.6103031635284424, 2.4915597438812256, 2.41528058052063, 2.371746301651001, 2.3500263690948486, 2.350421667098999, 2.357670545578003, 2.3794145584106445, 2.409083366394043]\n",
      "min_loss :  1.2294940948486328\n",
      "min_val_loss :  2.3500263690948486\n"
     ]
    }
   ],
   "source": [
    "print()\n",
    "print(lyricist.history.history['loss'])\n",
    "print(lyricist.history.history['val_loss'])\n",
    "print('min_loss : ', min(lyricist.history.history['loss']))\n",
    "print('min_val_loss : ', min(lyricist.history.history['val_loss']))"
   ]
  },
  {
   "cell_type": "code",
   "execution_count": 33,
   "id": "93e332f2",
   "metadata": {},
   "outputs": [
    {
     "data": {
      "image/png": "[encoded data removed]",
      "text/plain": [
       "<Figure size 432x288 with 1 Axes>"
      ]
     },
     "metadata": {
      "needs_background": "light"
     },
     "output_type": "display_data"
    }
   ],
   "source": [
    "# loss, val_loss 추이 살펴보기\n",
    "\n",
    "import matplotlib.pyplot as plt\n",
    "\n",
    "fig, loss_ax = plt.subplots()\n",
    "\n",
    "\n",
    "loss_ax.plot(lyricist.history.history['loss'], 'y', label='train loss')\n",
    "loss_ax.plot(lyricist.history.history['val_loss'], 'r', label='val loss')\n",
    "loss_ax.set_xlabel('epoch')\n",
    "loss_ax.set_ylabel('loss')\n",
    "loss_ax.legend(loc='upper left')\n",
    "\n",
    "\n",
    "plt.show()"
   ]
  },
  {
   "cell_type": "markdown",
   "id": "9d331be9",
   "metadata": {},
   "source": [
    "##### 결과\n",
    "- loss 는 꾸준히 감소하는 형태로 학습되어 최종 및 최소 1.2295 이다.\n",
    "- val_loss 는 전체적으로 감소하는 추세이나, 에폭 후반부에서 2.3 과 2.4 사이 이다.\n",
    "- val_loss 는 최종 2.4091, 최소 2.3500 이다.\n",
    "- val_loss 는 에폭 6 이후부터 최소 2.3500 을 찍고 다시 증가하고 있다.반면 loss는 꾸준히 증가한다.\n",
    "- 에폭 6이후 과적합되고 있다고 해석된다."
   ]
  },
  {
   "cell_type": "code",
   "execution_count": 23,
   "id": "0882ae39",
   "metadata": {},
   "outputs": [],
   "source": [
    "def generate_text(model, tokenizer, init_sentence=\"<start>\", max_len=20):\n",
    "    # 테스트를 위해서 입력받은 init_sentence도 텐서로 변환합니다\n",
    "    test_input = tokenizer.texts_to_sequences([init_sentence])\n",
    "    test_tensor = tf.convert_to_tensor(test_input, dtype=tf.int64)\n",
    "    end_token = tokenizer.word_index[\"<end>\"]\n",
    "\n",
    "    # 단어 하나씩 예측해 문장을 만듭니다\n",
    "    #    1. 입력받은 문장의 텐서를 입력합니다\n",
    "    #    2. 예측된 값 중 가장 높은 확률인 word index를 뽑아냅니다\n",
    "    #    3. 2에서 예측된 word index를 문장 뒤에 붙입니다\n",
    "    #    4. 모델이 <end>를 예측했거나, max_len에 도달했다면 문장 생성을 마칩니다\n",
    "    while True:\n",
    "        # 1\n",
    "        predict = model(test_tensor) \n",
    "        # 2\n",
    "        predict_word = tf.argmax(tf.nn.softmax(predict, axis=-1), axis=-1)[:, -1] \n",
    "        # 3 \n",
    "        test_tensor = tf.concat([test_tensor, tf.expand_dims(predict_word, axis=0)], axis=-1)\n",
    "        # 4\n",
    "        if predict_word.numpy()[0] == end_token: break\n",
    "        if test_tensor.shape[1] >= max_len: break\n",
    "\n",
    "    generated = \"\"\n",
    "    # tokenizer를 이용해 word index를 단어로 하나씩 변환합니다 \n",
    "    for word_index in test_tensor[0].numpy():\n",
    "        generated += tokenizer.index_word[word_index] + \" \"\n",
    "\n",
    "    return generated"
   ]
  },
  {
   "cell_type": "code",
   "execution_count": 24,
   "id": "43f0e269",
   "metadata": {},
   "outputs": [
    {
     "data": {
      "text/plain": [
       "'<start> i love you , i love you , i love you <end> '"
      ]
     },
     "execution_count": 24,
     "metadata": {},
     "output_type": "execute_result"
    }
   ],
   "source": [
    "# 모델로 작곡 해보기.\n",
    "generate_text(lyricist, tokenizer, init_sentence=\"<start> i love\", max_len=20)"
   ]
  },
  {
   "cell_type": "markdown",
   "id": "979557b1",
   "metadata": {},
   "source": [
    "#### 텍스트 제네레이션 결과\n",
    "- 'i love you , i love you , i love you '\n",
    "- 후렴구 같은 문장이 생성 되었다."
   ]
  },
  {
   "cell_type": "markdown",
   "id": "94ffd7e7",
   "metadata": {},
   "source": [
    "### 개선해보자.\n",
    "- 상기 까지의 코드는 프로젝트에서 제안된 방향으로만 진행된 코드이다.\n",
    "- 그 결과  va_loss 는 최소 2.3500 이었다.\n",
    "-\n",
    "\n",
    "- 시도 가능한 방법은 다음과 같다.\n",
    "1. embedding_size, hidden_size를 조절하여 loss를 개선해보라 했다. 그리드 서치르 통해 두 값을 변화 하여 시도 해보자.\n",
    "\n",
    "2. 전처리 함수의 개선점은 없을까?\n",
    "\n",
    "3. 여러 가수가 있는데 왜 랜덤하게 셔플하지?"
   ]
  },
  {
   "cell_type": "markdown",
   "id": "5c39077b",
   "metadata": {},
   "source": [
    "##### 1. embedding_size, hidden_size 그리드 서치 해보자."
   ]
  },
  {
   "cell_type": "code",
   "execution_count": null,
   "id": "afc2cd35",
   "metadata": {
    "scrolled": false
   },
   "outputs": [
    {
     "name": "stdout",
     "output_type": "stream",
     "text": [
      "Epoch 1/10\n",
      "3906/3906 [==============================] - 65s 16ms/step - loss: 3.1878 - val_loss: 2.9317\n",
      "Epoch 2/10\n",
      "3906/3906 [==============================] - 61s 16ms/step - loss: 2.8172 - val_loss: 2.7831\n",
      "Epoch 3/10\n",
      "3906/3906 [==============================] - 61s 16ms/step - loss: 2.6447 - val_loss: 2.7006\n",
      "Epoch 4/10\n",
      "3906/3906 [==============================] - 61s 16ms/step - loss: 2.5027 - val_loss: 2.6518\n",
      "Epoch 5/10\n",
      "3906/3906 [==============================] - 61s 16ms/step - loss: 2.3828 - val_loss: 2.6274\n",
      "Epoch 6/10\n",
      "3906/3906 [==============================] - 61s 16ms/step - loss: 2.2798 - val_loss: 2.6162\n",
      "Epoch 7/10\n",
      "3906/3906 [==============================] - 61s 16ms/step - loss: 2.1900 - val_loss: 2.6078\n",
      "Epoch 8/10\n",
      "3906/3906 [==============================] - 61s 16ms/step - loss: 2.1097 - val_loss: 2.6011\n",
      "Epoch 9/10\n",
      "3906/3906 [==============================] - 61s 16ms/step - loss: 2.0362 - val_loss: 2.5957\n",
      "Epoch 10/10\n",
      "3906/3906 [==============================] - 61s 16ms/step - loss: 1.9679 - val_loss: 2.5968\n",
      "[3.187772512435913, 2.8172478675842285, 2.6447110176086426, 2.502695322036743, 2.3828086853027344, 2.2798407077789307, 2.1900100708007812, 2.109736680984497, 2.0361955165863037, 1.967924952507019]\n",
      "[2.9316518306732178, 2.7831006050109863, 2.700613021850586, 2.6518197059631348, 2.627415895462036, 2.6162326335906982, 2.607820510864258, 2.6010963916778564, 2.5956761837005615, 2.596773147583008]\n",
      "min_loss :  1.967924952507019\n",
      "min_val_loss :  2.5956761837005615\n"
     ]
    },
    {
     "data": {
      "image/png": "[encoded data removed]",
      "text/plain": [
       "<Figure size 432x288 with 1 Axes>"
      ]
     },
     "metadata": {
      "needs_background": "light"
     },
     "output_type": "display_data"
    },
    {
     "name": "stdout",
     "output_type": "stream",
     "text": [
      "e0h0 DONE\n",
      "Epoch 1/10\n",
      "3906/3906 [==============================] - 145s 36ms/step - loss: 3.0968 - val_loss: 2.8351\n",
      "Epoch 2/10\n",
      "3906/3906 [==============================] - 142s 36ms/step - loss: 2.6769 - val_loss: 2.6427\n",
      "Epoch 3/10\n",
      "3906/3906 [==============================] - 142s 36ms/step - loss: 2.4066 - val_loss: 2.5196\n",
      "Epoch 4/10\n",
      "3906/3906 [==============================] - 142s 36ms/step - loss: 2.1595 - val_loss: 2.4444\n",
      "Epoch 5/10\n",
      "3906/3906 [==============================] - 142s 36ms/step - loss: 1.9407 - val_loss: 2.3939\n",
      "Epoch 6/10\n",
      "3906/3906 [==============================] - 142s 36ms/step - loss: 1.7508 - val_loss: 2.3669\n",
      "Epoch 7/10\n",
      "3906/3906 [==============================] - 142s 36ms/step - loss: 1.5890 - val_loss: 2.3648\n",
      "Epoch 8/10\n",
      "3906/3906 [==============================] - 141s 36ms/step - loss: 1.4555 - val_loss: 2.3643\n",
      "Epoch 9/10\n",
      "3906/3906 [==============================] - 141s 36ms/step - loss: 1.3460 - val_loss: 2.3858\n",
      "Epoch 10/10\n",
      "3906/3906 [==============================] - 141s 36ms/step - loss: 1.2587 - val_loss: 2.4143\n",
      "[3.096780300140381, 2.6768879890441895, 2.406648635864258, 2.1594533920288086, 1.9407137632369995, 1.7508149147033691, 1.5889898538589478, 1.4555349349975586, 1.3459852933883667, 1.2586865425109863]\n",
      "[2.83514666557312, 2.6426796913146973, 2.519563674926758, 2.4443798065185547, 2.3938608169555664, 2.3668923377990723, 2.364769220352173, 2.3642728328704834, 2.385781764984131, 2.414344549179077]\n",
      "min_loss :  1.2586865425109863\n",
      "min_val_loss :  2.3642728328704834\n"
     ]
    },
    {
     "data": {
      "image/png": "[encoded data removed]",
      "text/plain": [
       "<Figure size 432x288 with 1 Axes>"
      ]
     },
     "metadata": {
      "needs_background": "light"
     },
     "output_type": "display_data"
    },
    {
     "name": "stdout",
     "output_type": "stream",
     "text": [
      "e0h1 DONE\n",
      "Epoch 1/10\n",
      "3906/3906 [==============================] - 447s 110ms/step - loss: 2.9872 - val_loss: 2.7042\n",
      "Epoch 2/10\n",
      "3906/3906 [==============================] - 431s 110ms/step - loss: 2.4731 - val_loss: 2.4562\n",
      "Epoch 3/10\n",
      "3906/3906 [==============================] - 432s 111ms/step - loss: 2.0541 - val_loss: 2.3164\n",
      "Epoch 4/10\n",
      "3906/3906 [==============================] - 432s 111ms/step - loss: 1.7171 - val_loss: 2.2542\n",
      "Epoch 5/10\n",
      "3906/3906 [==============================] - 432s 111ms/step - loss: 1.4723 - val_loss: 2.2462\n",
      "Epoch 6/10\n",
      "3906/3906 [==============================] - 432s 111ms/step - loss: 1.3060 - val_loss: 2.2717\n",
      "Epoch 7/10\n",
      "3906/3906 [==============================] - 431s 110ms/step - loss: 1.2006 - val_loss: 2.3207\n",
      "Epoch 8/10\n",
      "3906/3906 [==============================] - 430s 110ms/step - loss: 1.1365 - val_loss: 2.3554\n",
      "Epoch 9/10\n",
      "3906/3906 [==============================] - 432s 111ms/step - loss: 1.0945 - val_loss: 2.3903\n",
      "Epoch 10/10\n",
      "3906/3906 [==============================] - 431s 110ms/step - loss: 1.0684 - val_loss: 2.4187\n",
      "[2.9872140884399414, 2.4731454849243164, 2.0540611743927, 1.7171167135238647, 1.4723232984542847, 1.3060005903244019, 1.200599193572998, 1.1364632844924927, 1.0945265293121338, 1.0683977603912354]\n",
      "[2.704235792160034, 2.456166982650757, 2.316423177719116, 2.2541825771331787, 2.246192693710327, 2.271688461303711, 2.3206706047058105, 2.3553528785705566, 2.3903284072875977, 2.4186928272247314]\n",
      "min_loss :  1.0683977603912354\n",
      "min_val_loss :  2.246192693710327\n"
     ]
    },
    {
     "data": {
      "image/png": "[encoded data removed]",
      "text/plain": [
       "<Figure size 432x288 with 1 Axes>"
      ]
     },
     "metadata": {
      "needs_background": "light"
     },
     "output_type": "display_data"
    },
    {
     "name": "stdout",
     "output_type": "stream",
     "text": [
      "e0h2 DONE\n",
      "Epoch 1/10\n",
      "3906/3906 [==============================] - 68s 17ms/step - loss: 3.1571 - val_loss: 2.9032\n",
      "Epoch 2/10\n",
      "3906/3906 [==============================] - 65s 17ms/step - loss: 2.7858 - val_loss: 2.7552\n",
      "Epoch 3/10\n",
      "3906/3906 [==============================] - 65s 17ms/step - loss: 2.6002 - val_loss: 2.6671\n",
      "Epoch 4/10\n",
      "3906/3906 [==============================] - 65s 17ms/step - loss: 2.4477 - val_loss: 2.6242\n",
      "Epoch 5/10\n",
      "3906/3906 [==============================] - 65s 17ms/step - loss: 2.3188 - val_loss: 2.5981\n",
      "Epoch 6/10\n",
      "3906/3906 [==============================] - 65s 17ms/step - loss: 2.2074 - val_loss: 2.5859\n",
      "Epoch 7/10\n",
      "3906/3906 [==============================] - 65s 17ms/step - loss: 2.1104 - val_loss: 2.5782\n",
      "Epoch 8/10\n",
      "3906/3906 [==============================] - 65s 17ms/step - loss: 2.0237 - val_loss: 2.5772\n",
      "Epoch 9/10\n",
      "3906/3906 [==============================] - 65s 17ms/step - loss: 1.9455 - val_loss: 2.5729\n",
      "Epoch 10/10\n",
      "3906/3906 [==============================] - 65s 17ms/step - loss: 1.8736 - val_loss: 2.5728\n",
      "[3.1571168899536133, 2.7857587337493896, 2.600196361541748, 2.4476966857910156, 2.3188469409942627, 2.207353353500366, 2.110389471054077, 2.0237395763397217, 1.9454883337020874, 1.8736133575439453]\n",
      "[2.903198719024658, 2.7551791667938232, 2.6671295166015625, 2.624206066131592, 2.5980916023254395, 2.5859429836273193, 2.5781500339508057, 2.577209234237671, 2.5729072093963623, 2.572798013687134]\n",
      "min_loss :  1.8736133575439453\n",
      "min_val_loss :  2.572798013687134\n"
     ]
    },
    {
     "data": {
      "image/png": "[encoded data removed]",
      "text/plain": [
       "<Figure size 432x288 with 1 Axes>"
      ]
     },
     "metadata": {
      "needs_background": "light"
     },
     "output_type": "display_data"
    },
    {
     "name": "stdout",
     "output_type": "stream",
     "text": [
      "e1h0 DONE\n",
      "Epoch 1/10\n",
      "3906/3906 [==============================] - 149s 37ms/step - loss: 3.0869 - val_loss: 2.8344\n",
      "Epoch 2/10\n",
      "3906/3906 [==============================] - 144s 37ms/step - loss: 2.6780 - val_loss: 2.6431\n",
      "Epoch 3/10\n",
      "3906/3906 [==============================] - 145s 37ms/step - loss: 2.4151 - val_loss: 2.5224\n",
      "Epoch 4/10\n",
      "3906/3906 [==============================] - 145s 37ms/step - loss: 2.1768 - val_loss: 2.4516\n",
      "Epoch 5/10\n",
      "3906/3906 [==============================] - 145s 37ms/step - loss: 1.9649 - val_loss: 2.4065\n",
      "Epoch 6/10\n",
      "3906/3906 [==============================] - 145s 37ms/step - loss: 1.7775 - val_loss: 2.3768\n",
      "Epoch 7/10\n",
      "3906/3906 [==============================] - 145s 37ms/step - loss: 1.6141 - val_loss: 2.3718\n",
      "Epoch 8/10\n",
      "3906/3906 [==============================] - 145s 37ms/step - loss: 1.4768 - val_loss: 2.3778\n",
      "Epoch 9/10\n",
      "3906/3906 [==============================] - 145s 37ms/step - loss: 1.3619 - val_loss: 2.3943\n",
      "Epoch 10/10\n",
      "3906/3906 [==============================] - 145s 37ms/step - loss: 1.2680 - val_loss: 2.4257\n",
      "[3.086923122406006, 2.677961826324463, 2.415088653564453, 2.176760673522949, 1.9648982286453247, 1.7774951457977295, 1.6141366958618164, 1.4768328666687012, 1.3618903160095215, 1.2680233716964722]\n",
      "[2.8343822956085205, 2.6430764198303223, 2.5224459171295166, 2.451598644256592, 2.406453847885132, 2.3767521381378174, 2.3717541694641113, 2.3778464794158936, 2.39432692527771, 2.425677537918091]\n",
      "min_loss :  1.2680233716964722\n",
      "min_val_loss :  2.3717541694641113\n"
     ]
    },
    {
     "data": {
      "image/png": "[encoded data removed]",
      "text/plain": [
       "<Figure size 432x288 with 1 Axes>"
      ]
     },
     "metadata": {
      "needs_background": "light"
     },
     "output_type": "display_data"
    },
    {
     "name": "stdout",
     "output_type": "stream",
     "text": [
      "e1h1 DONE\n",
      "Epoch 1/10\n",
      "3906/3906 [==============================] - 452s 111ms/step - loss: 2.9612 - val_loss: 2.6729\n",
      "Epoch 2/10\n",
      "3906/3906 [==============================] - 434s 111ms/step - loss: 2.4216 - val_loss: 2.4204\n",
      "Epoch 3/10\n",
      "3906/3906 [==============================] - 434s 111ms/step - loss: 1.9889 - val_loss: 2.2762\n",
      "Epoch 4/10\n",
      "3906/3906 [==============================] - 434s 111ms/step - loss: 1.6454 - val_loss: 2.2216\n",
      "Epoch 5/10\n",
      "3906/3906 [==============================] - 434s 111ms/step - loss: 1.4056 - val_loss: 2.2248\n",
      "Epoch 6/10\n",
      "3906/3906 [==============================] - 434s 111ms/step - loss: 1.2492 - val_loss: 2.2504\n",
      "Epoch 7/10\n",
      "3906/3906 [==============================] - 434s 111ms/step - loss: 1.1560 - val_loss: 2.2934\n",
      "Epoch 8/10\n",
      "3906/3906 [==============================] - 434s 111ms/step - loss: 1.1024 - val_loss: 2.3338\n",
      "Epoch 9/10\n",
      "3906/3906 [==============================] - 434s 111ms/step - loss: 1.0696 - val_loss: 2.3674\n",
      "Epoch 10/10\n",
      "3906/3906 [==============================] - ETA: 0s - loss: 1.0481"
     ]
    }
   ],
   "source": [
    "# 그리드 서치할 파라미터를 기존 값에서 각각 절반, 2배 해주었다. 총 9개의 loss를 확인 할수 있을 것이다.\n",
    "# 2제곱수로 값을 정한이유(램덤서치를 하지 않은 이유) : 메모리 사용에서 2의 제곱수를 사용하는 것이 일반적으로 더 좋은 효율을\n",
    "# batch size 의 경우 GPU의 물리적인 구조로 인해 2의 제곱으로 한다고 한다.\n",
    "embedding_size_list = [128, 256, 512]\n",
    "hidden_size_list = [512,1024, 2048]\n",
    "\n",
    "# 간단한 for문으로 그리드 서치를 구현하자.\n",
    "result_loss = {} \n",
    "#결과 loss 값만 담을 리스트 초기화 (loss, val_loss) 의 값을 그리드 서치할 값 리스트의 인덱스에 대응하게 2차원 리스트에 넣자.\n",
    "\n",
    "for i, embedding_size in enumerate(embedding_size_list) : \n",
    "    for j, hidden_size in enumerate(hidden_size_list):\n",
    "        \n",
    "        lyricist = TextGenerator(VOCAB_SIZE, embedding_size, hidden_size) # 모델객체 만들기.\n",
    "        optimizer = tf.keras.optimizers.Adam() # 옵티마이저 아담.\n",
    "        lyricist.compile(loss=loss, optimizer=optimizer)\n",
    "        # 학습하기\n",
    "        lyricist.fit(enc_train,dec_train,\n",
    "                     validation_data = (enc_val, dec_val),\n",
    "                     epochs=10) # 프로젝트 조건 에폭 10으로\n",
    "        \n",
    "        # 학습후 loss, val_loss 저장하기.\n",
    "        print(lyricist.history.history['loss'])\n",
    "        print(lyricist.history.history['val_loss'])\n",
    "        print('min_loss : ', min(lyricist.history.history['loss']))\n",
    "        print('min_val_loss : ', min(lyricist.history.history['val_loss']))\n",
    "        key = 'e' + str(i)+'h'+str(j)\n",
    "        \n",
    "        result_loss[key]= lyricist.history.history\n",
    "        fig, loss_ax = plt.subplots()\n",
    "\n",
    "\n",
    "        loss_ax.plot(lyricist.history.history['loss'], 'y', label='train loss')\n",
    "        loss_ax.plot(lyricist.history.history['val_loss'], 'r', label='val loss')\n",
    "        loss_ax.set_xlabel('epoch')\n",
    "        loss_ax.set_ylabel('loss')\n",
    "        loss_ax.legend(loc='upper left')\n",
    "\n",
    "\n",
    "        plt.show()\n",
    "        \n",
    "        print(key, \"DONE\")"
   ]
  },
  {
   "cell_type": "markdown",
   "id": "22998fda",
   "metadata": {},
   "source": [
    "- 주피터 연결이 끊어져 e2h0~2 의 세 경우는 loss 를 확인하지 못했다.\n",
    "\n",
    "e0h0 :\n",
    "min_loss :  1.967924952507019\n",
    "min_val_loss :  2.5956761837005615\n",
    "\n",
    "e0h1 :\n",
    "min_loss :  1.2586865425109863\n",
    "min_val_loss :  2.3642728328704834\n",
    "\n",
    "e0h2 :\n",
    "min_loss :  1.0683977603912354\n",
    "min_val_loss :  2.246192693710327\n",
    "\n",
    "***\n",
    "e1h0 :\n",
    "min_loss :  1.8736133575439453\n",
    "min_val_loss :  2.572798013687134\n",
    "\n",
    "e1h1 :\n",
    "min_loss :  1.2680233716964722\n",
    "min_val_loss :  2.3717541694641113\n",
    "\n",
    "e1h2 :\n",
    "min_loss :  1.0480512380599976\n",
    "min_val_loss :  2.221614360809326\n",
    "***\n",
    "\n",
    "- 부족한 데이터이긴 하지만 몇가지 경향을 확인 할수 있었다.\n",
    "- embedding size 의 증가는 뚜렸한, val_loss 의 증가를 보여주지 않았다.\n",
    "- hidden size 의 증가는 val_loss 를 뚜렸하게 증가했다. \n",
    "- e0 : 2.59 > 2.36 > 2,24\n",
    "- e1 : 2.57 > 2.37 > 2.22\n",
    "- e2 : 학습하지 못함.\n",
    "\n",
    "\n",
    "#### 결론\n",
    "- 따라서 e1으로 기존 256의 embedding size를 유지하고,\n",
    "- h2 로 2048 의 hidden size를 각각 하이퍼파라미터 조절 하자."
   ]
  },
  {
   "cell_type": "markdown",
   "id": "6e2dfb44",
   "metadata": {},
   "source": [
    "제출시간이 없어 간단한 회고\n",
    " - 아쉬운점 제출 시간이 조급해 아쉽다.\n",
    " - 다음부터 미리하자\n",
    " - 임베딩과 히든을 꼭 2배수로 할필요는 없을것 같다. gpu 관련은 찾아보니 배치 사이즈와 관렸이 있다.\n",
    " - 꼭 추후 자료 추가하겠다."
   ]
  },
  {
   "cell_type": "code",
   "execution_count": null,
   "id": "90eecaa8",
   "metadata": {},
   "outputs": [],
   "source": []
  },
  {
   "cell_type": "code",
   "execution_count": null,
   "id": "fd0b18e7",
   "metadata": {},
   "outputs": [],
   "source": []
  },
  {
   "cell_type": "code",
   "execution_count": null,
   "id": "823dbeb6",
   "metadata": {},
   "outputs": [],
   "source": []
  },
  {
   "cell_type": "code",
   "execution_count": null,
   "id": "834407df",
   "metadata": {},
   "outputs": [],
   "source": []
  },
  {
   "cell_type": "markdown",
   "id": "7ffdebec",
   "metadata": {},
   "source": [
    "루브릭\n",
    "\n",
    "1. 가사 텍스트 생성 모델이 정상적으로 동작하는가?\n",
    "\n",
    "텍스트 제너레이션 결과가 그럴듯한 문장으로 생성되는가?\n",
    "\n",
    "2. 데이터의 전처리와 데이터셋 구성 과정이 체계적으로 진행되었는가?\n",
    "\n",
    "특수문자 제거, 토크나이저 생성, 패딩처리 등의 과정이 빠짐없이 진행되었는가?\n",
    "\n",
    "3. 텍스트 생성모델이 안정적으로 학습되었는가?\n",
    "\n",
    "텍스트 생성모델의 validation loss가 2.2 이하로 낮아졌는가?"
   ]
  },
  {
   "cell_type": "code",
   "execution_count": null,
   "id": "30be0dd8",
   "metadata": {},
   "outputs": [],
   "source": []
  }
 ],
 "metadata": {
  "kernelspec": {
   "display_name": "Python 3 (ipykernel)",
   "language": "python",
   "name": "python3"
  },
  "language_info": {
   "codemirror_mode": {
    "name": "ipython",
    "version": 3
   },
   "file_extension": ".py",
   "mimetype": "text/x-python",
   "name": "python",
   "nbconvert_exporter": "python",
   "pygments_lexer": "ipython3",
   "version": "3.9.7"
  }
 },
 "nbformat": 4,
 "nbformat_minor": 5
}
