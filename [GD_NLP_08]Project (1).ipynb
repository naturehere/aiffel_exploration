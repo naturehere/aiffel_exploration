{
 "cells": [
  {
   "cell_type": "markdown",
   "id": "77be3def",
   "metadata": {},
   "source": [
    "# 프로젝트: 한영 번역기 만들기\n",
    "\n",
    "## 목차\n",
    "1. 데이터 불러오기, 전처리, 모델 빌딩, 학습하기 평가하기 \n",
    "- 참고자료의 내용을 대부분 참고하였다.\n",
    "2. 데이터를 뜯어보자.\n",
    "- 학습결과 성능이 좋지 않은데, 다수의 데이터 샘플을 살펴보고 문제점을 찾고자 했다."
   ]
  },
  {
   "cell_type": "markdown",
   "id": "305c83c3",
   "metadata": {},
   "source": [
    "# 1. "
   ]
  },
  {
   "cell_type": "code",
   "execution_count": 2,
   "id": "366fc57d",
   "metadata": {},
   "outputs": [
    {
     "name": "stdout",
     "output_type": "stream",
     "text": [
      "2.6.0\n"
     ]
    }
   ],
   "source": [
    "import tensorflow as tf\n",
    "import numpy as np\n",
    "\n",
    "from sklearn.model_selection import train_test_split\n",
    "\n",
    "import matplotlib.ticker as ticker\n",
    "import matplotlib.pyplot as plt\n",
    "\n",
    "import time\n",
    "import re\n",
    "import os\n",
    "import io\n",
    "import random\n",
    "\n",
    "print(tf.__version__)"
   ]
  },
  {
   "cell_type": "code",
   "execution_count": 3,
   "id": "6e5331bd",
   "metadata": {},
   "outputs": [
    {
     "name": "stdout",
     "output_type": "stream",
     "text": [
      "/aiffel/aiffel/s2s_translation\n"
     ]
    }
   ],
   "source": [
    "file_path = os.getenv('HOME')+'/aiffel/s2s_translation'\n",
    "print(file_path)"
   ]
  },
  {
   "cell_type": "code",
   "execution_count": 4,
   "id": "8c5950dd",
   "metadata": {},
   "outputs": [],
   "source": [
    "def load_file(file_name):\n",
    "    with open(file_path+'/{}'.format(file_name), \"r\") as f:\n",
    "        raw = f.read().splitlines()\n",
    "\n",
    "    print(\"Data Size:\", len(raw))\n",
    "    print(\"Example:\")\n",
    "\n",
    "    for sen in raw[0:100][::20]: \n",
    "        print(\">>\", sen)\n",
    "    \n",
    "    return raw"
   ]
  },
  {
   "cell_type": "code",
   "execution_count": 5,
   "id": "de988a5e",
   "metadata": {},
   "outputs": [
    {
     "name": "stdout",
     "output_type": "stream",
     "text": [
      "Data Size: 94123\n",
      "Example:\n",
      ">> 개인용 컴퓨터 사용의 상당 부분은 \"이것보다 뛰어날 수 있느냐?\"\n",
      ">> 북한의 핵무기 계획을 포기하도록 하려는 압력이 거세지고 있는 가운데, 일본과 북한의 외교관들이 외교 관계를 정상화하려는 회담을 재개했다.\n",
      ">> \"경호 로보트가 침입자나 화재를 탐지하기 위해서 개인적으로, 그리고 전문적으로 사용되고 있습니다.\"\n",
      ">> 수자원부 당국은 논란이 되고 있고, 막대한 비용이 드는 이 사업에 대해 내년에 건설을 시작할 계획이다.\n",
      ">> 또한 근력 운동은 활발하게 걷는 것이나 최소한 20분 동안 뛰는 것과 같은 유산소 활동에서 얻는 운동 효과를 심장과 폐에 주지 않기 때문에, 연구학자들은 근력 운동이 심장에 큰 영향을 미치는지 여부에 대해 논쟁을 해왔다.\n",
      "Data Size: 1000\n",
      "Example:\n",
      ">> 세계 에서 가장 강력한 수퍼컴퓨터를 1년 동안이나 독점해 오던 정부의 연구학자들이 이 1억1천만 달러 짜리 경이로운 설비를 공개하며, 이것이 핵전쟁으로부터 세계를 구하는데 도움이 될지도 모른다고 말했다.\n",
      ">> 무기 사찰관들의 복귀에 대하여 이라크 측의 한 관리가 \"유익하고 효과적인\" 논의였다고 말한 회합에서 유엔 무기 사찰단장이 이라크 대표단을 만났다.\n",
      ">> 하드웨어를 구입하는 비용의 문제가 커다란 장애입니다.\n",
      ">> 토의에 참가한 대부분의 사람들은 정부가 통신 내용을 도청할 수 있는 권리를 보유해야 할 필요성이 있는 합법적인 부분도 있다는 데에 동의를 한다.\n",
      ">> 그는 눈에 띄지 않게 행동하는 것으로 알려져있다. 그는 영국 시사잡지 타임즈에서 “파티에 잘 참석하지 않는다”며 자신의 생활에 대한 날조된 이야기를 즐기고 있다.\n",
      "Data Size: 2000\n",
      "Example:\n",
      ">> 토론에 참여한 사람들은 법 집행과 국가 안전보장에 대한 우려를 표명해야 할 필요성을 진지하게 받아 들이고 있습니다.\n",
      ">> 비록 그 위협(의 가능성)은 적지만, 그 잠재적인 영향력은 가히 파괴적인 것이다.\n",
      ">> 한국은 세계 에서 네번째로 원유를 많이 수입하는 나라이며, 전적으로 원유 수입에 의존하고 있다.\n",
      ">> 불과 1,379년 전이다.\n",
      ">> 대신, 그들은 \"안정\"이라는 면에서 서방 세계와 똑같은 이해 관계를 갖고 있는 각 지역의 소수 엘리트를 대표하고 있다.\n",
      "total data size: 97123\n"
     ]
    }
   ],
   "source": [
    "raw_kor = load_file('korean-english-park.train.ko')\n",
    "raw_kor += load_file('korean-english-park.dev.ko')\n",
    "raw_kor += load_file('korean-english-park.test.ko')\n",
    "print('total data size:', len(raw_kor))"
   ]
  },
  {
   "cell_type": "code",
   "execution_count": 6,
   "id": "96045109",
   "metadata": {},
   "outputs": [
    {
     "name": "stdout",
     "output_type": "stream",
     "text": [
      "Data Size: 94123\n",
      "Example:\n",
      ">> Much of personal computing is about \"can you top this?\"\n",
      ">> Amid mounting pressure on North Korea to abandon its nuclear weapons program Japanese and North Korean diplomats have resumed talks on normalizing diplomatic relations.\n",
      ">> “Guard robots are used privately and professionally to detect intruders or fire,” Karlsson said.\n",
      ">> Authorities from the Water Resources Ministry plan to begin construction next year on the controversial and hugely expensive project.\n",
      ">> Researchers also have debated whether weight-training has a big impact on the heart, since it does not give the heart and lungs the kind of workout they get from aerobic activities such as brisk walking or running for at least 20 minutes.\n",
      "Data Size: 1000\n",
      "Example:\n",
      ">> After keeping the world's most powerful supercomputer to themselves for a year, government researchers showed off the $110 million wonder and said it might help save the world from nuclear war.\n",
      ">> The head of the U.N. weapons inspection team met with an Iraqi delegation in what a Baghdad official called \"useful and fruitful\" discussions on the return of weapons inspectors.\n",
      ">> \"The issue of it just being a hardware expense is a serious impediment.\n",
      ">> Most of the people involved in the discussion agree that there is a legitimate area in which the government needs to retain the right to intercept communications.\n",
      ">> He's been known to keep a low profile \"You will never see me at a party,\" he told the Times of London and delights in concocting stories about his life.\n",
      "Data Size: 2000\n",
      "Example:\n",
      ">> Those involved in the discussions do take seriously the need to address concerns of law enforcement and national security.\n",
      ">> Even though the threat is small, the potential effects are devastating.\n",
      ">> South Korea is the world's fourth largest oil importer and wholly depends on imports of crude.\n",
      ">> That is only 1,379 years ago.\n",
      ">> Instead, they represent a small elite in each place that has a common interest with the West in “stability.”\n",
      "total data size: 97123\n"
     ]
    }
   ],
   "source": [
    "raw_en = load_file('korean-english-park.train.en')\n",
    "raw_en += load_file('korean-english-park.dev.en')\n",
    "raw_en += load_file('korean-english-park.test.en')\n",
    "print('total data size:', len(raw_en))\n"
   ]
  },
  {
   "cell_type": "code",
   "execution_count": 10,
   "id": "8451d001",
   "metadata": {},
   "outputs": [
    {
     "name": "stdout",
     "output_type": "stream",
     "text": [
      "korean data size: 97123\n",
      "english data size: 97123\n"
     ]
    }
   ],
   "source": [
    "print('korean data size:', len(raw_kor))\n",
    "print('english data size:', len(raw_en))"
   ]
  },
  {
   "cell_type": "code",
   "execution_count": 11,
   "id": "f76a6632",
   "metadata": {},
   "outputs": [
    {
     "data": {
      "text/plain": [
       "<zip at 0x7f022c349dc0>"
      ]
     },
     "execution_count": 11,
     "metadata": {},
     "output_type": "execute_result"
    }
   ],
   "source": [
    "raw = zip(raw_kor, raw_en)\n",
    "raw\n"
   ]
  },
  {
   "cell_type": "code",
   "execution_count": 12,
   "id": "c09a37e2",
   "metadata": {},
   "outputs": [],
   "source": [
    "set_raw = set(raw)\n"
   ]
  },
  {
   "cell_type": "code",
   "execution_count": 13,
   "id": "9928cf71",
   "metadata": {},
   "outputs": [
    {
     "data": {
      "text/plain": [
       "81959"
      ]
     },
     "execution_count": 13,
     "metadata": {},
     "output_type": "execute_result"
    }
   ],
   "source": [
    "len(set_raw)\n"
   ]
  },
  {
   "cell_type": "code",
   "execution_count": 14,
   "id": "29aa0f0c",
   "metadata": {},
   "outputs": [],
   "source": [
    "cleaned_corpus_kor, cleaned_corpus_eng = zip(*set_raw)\n"
   ]
  },
  {
   "cell_type": "code",
   "execution_count": 15,
   "id": "555e629d",
   "metadata": {},
   "outputs": [
    {
     "name": "stdout",
     "output_type": "stream",
     "text": [
      "korean data size: 81959\n",
      "english data size: 81959\n"
     ]
    }
   ],
   "source": [
    "print('korean data size:', len(cleaned_corpus_kor))\n",
    "print('english data size:', len(cleaned_corpus_eng))"
   ]
  },
  {
   "cell_type": "code",
   "execution_count": 17,
   "id": "5eb04873",
   "metadata": {},
   "outputs": [
    {
     "name": "stdout",
     "output_type": "stream",
     "text": [
      "현재 러시아는 NATO의 동진(東晉)을 막기 위해 우크라이나와 그루지야의 NATO가입을 완강히 반대하고 있다.\n",
      "Russia opposes NATO membership for Ukraine and Georgia, concerned that the alliance's eastward march will erode its influence in those countries.\n"
     ]
    }
   ],
   "source": [
    "print(cleaned_corpus_kor[100])\n",
    "print(cleaned_corpus_eng[100])\n"
   ]
  },
  {
   "cell_type": "code",
   "execution_count": 18,
   "id": "9ccb6118",
   "metadata": {},
   "outputs": [],
   "source": [
    "# 전처리 토큰추가\n",
    "def preprocess_sentence(sentence, s_token=False, e_token=False):\n",
    "    sentence = sentence.lower().strip()\n",
    "\n",
    "    sentence = re.sub(r\"([?.!,])\", r\" \\1 \", sentence)\n",
    "    sentence = re.sub(r'[\" \"]+', \" \", sentence)\n",
    "    sentence = re.sub(r\"[^a-zA-Z?.!가-힣ㄱ-ㅎㅏ-ㅣ]+\", \" \", sentence)\n",
    "\n",
    "    sentence = sentence.strip()\n",
    "\n",
    "    if s_token:\n",
    "        sentence = '<start> ' + sentence\n",
    "\n",
    "    if e_token:\n",
    "        sentence += ' <end>'\n",
    "    \n",
    "    return sentence"
   ]
  },
  {
   "cell_type": "code",
   "execution_count": 19,
   "id": "47846f6e",
   "metadata": {},
   "outputs": [
    {
     "name": "stdout",
     "output_type": "stream",
     "text": [
      "라이스 장관은 “최근 이라크군이 용감하게 반군과 대응해 성공적으로 진압했다”며 “이를 이끌어낸 이라크 지도자들의 결정과 실행한 이라크 보안군에게 감사의 마음을 전한다”고 말했다. ¡°It is indeed a moment of opportunity in Iraq thanks to the courageous decisions taken by the prime minister and a unified Iraqi leadership,¡± Rice said Sunday. She praised ¡°the Iraqi security forces which have fought very bravely in this recent operation.\n"
     ]
    }
   ],
   "source": [
    "for kor, eng in zip(cleaned_corpus_kor, cleaned_corpus_eng):\n",
    "    print(kor, eng)\n",
    "    break"
   ]
  },
  {
   "cell_type": "code",
   "execution_count": 20,
   "id": "9c46d4b5",
   "metadata": {
    "scrolled": true
   },
   "outputs": [
    {
     "name": "stdout",
     "output_type": "stream",
     "text": [
      "korean data size: 17055\n",
      "english data size: 17055\n",
      "Korean: 멜븐 샴페인 년\n",
      "English: <start> firefighter melven champaign years <end>\n"
     ]
    }
   ],
   "source": [
    "enc_corpus = []\n",
    "dec_corpus = []\n",
    "\n",
    "# num_examples = 30000\n",
    "cnt=0\n",
    "for kor, eng in zip(cleaned_corpus_kor, cleaned_corpus_eng):\n",
    "    temp_kor = preprocess_sentence(kor)\n",
    "    temp_eng = preprocess_sentence(eng, s_token=True, e_token=True)\n",
    "\n",
    "    if len(temp_kor) <= 40:\n",
    "        enc_corpus.append(temp_kor)\n",
    "        dec_corpus.append(temp_eng)\n",
    "    \n",
    "print('korean data size:', len(enc_corpus))\n",
    "print('english data size:', len(dec_corpus))\n",
    "print(\"Korean:\", enc_corpus[500])   \n",
    "print(\"English:\", dec_corpus[500])  "
   ]
  },
  {
   "cell_type": "markdown",
   "id": "c6ae8ece",
   "metadata": {},
   "source": [
    "# 문장길이 40으로 자르고 나니 17055개 가 남는다"
   ]
  },
  {
   "cell_type": "code",
   "execution_count": 21,
   "id": "1d174263",
   "metadata": {},
   "outputs": [
    {
     "name": "stdout",
     "output_type": "stream",
     "text": [
      "Korean: 크랜리는 일간의 구류를 선고받고 수감돼있다 .\n",
      "English: <start> cranley has served nearly days in custody . <end>\n"
     ]
    }
   ],
   "source": [
    "print(\"Korean:\", enc_corpus[100])   \n",
    "print(\"English:\", dec_corpus[100]) "
   ]
  },
  {
   "cell_type": "code",
   "execution_count": 23,
   "id": "daea2532",
   "metadata": {},
   "outputs": [
    {
     "name": "stdout",
     "output_type": "stream",
     "text": [
      "Korean: 현재 러시아는 NATO의 동진(東晉)을 막기 위해 우크라이나와 그루지야의 NATO가입을 완강히 반대하고 있다.\n",
      "English: Russia opposes NATO membership for Ukraine and Georgia, concerned that the alliance's eastward march will erode its influence in those countries.\n"
     ]
    }
   ],
   "source": [
    "print(\"Korean:\", cleaned_corpus_kor[100])   \n",
    "print(\"English:\", cleaned_corpus_eng[100])  "
   ]
  },
  {
   "cell_type": "code",
   "execution_count": 25,
   "id": "3c993ea8",
   "metadata": {},
   "outputs": [],
   "source": [
    "from konlpy.tag import Mecab\n",
    "\n",
    "vocab_size = 50000\n",
    "def tokenize(corpus, kor=False, eng=True):\n",
    "    if kor:\n",
    "        mecab = Mecab()\n",
    "        morph = [\" \".join(mecab.morphs(sen)) for sen in corpus]\n",
    "        tokenizer = tf.keras.preprocessing.text.Tokenizer(filters='',\n",
    "                                                         num_words=vocab_size)\n",
    "        tokenizer.fit_on_texts(morph)\n",
    "\n",
    "        tensor = tokenizer.texts_to_sequences(morph)\n",
    "        tensor = tf.keras.preprocessing.sequence.pad_sequences(tensor, padding='post')\n",
    "\n",
    "        \n",
    "    if eng:\n",
    "        tokenizer = tf.keras.preprocessing.text.Tokenizer(filters='',\n",
    "                                                         num_words=vocab_size)\n",
    "        tokenizer.fit_on_texts(corpus)\n",
    "\n",
    "        tensor = tokenizer.texts_to_sequences(corpus)\n",
    "        tensor = tf.keras.preprocessing.sequence.pad_sequences(tensor, padding='post')\n",
    "\n",
    "    return tensor, tokenizer"
   ]
  },
  {
   "cell_type": "code",
   "execution_count": 26,
   "id": "d2b92d09",
   "metadata": {
    "scrolled": true
   },
   "outputs": [
    {
     "name": "stdout",
     "output_type": "stream",
     "text": [
      "Korean Vocab Size: 41796\n",
      "English Vocab Size: 17325\n"
     ]
    }
   ],
   "source": [
    "enc_tensor, enc_tokenizer = tokenize(enc_corpus, kor=True)\n",
    "dec_tensor, dec_tokenizer = tokenize(dec_corpus, eng=True)\n",
    "\n",
    "enc_train, enc_val, dec_train, dec_val = \\\n",
    "train_test_split(enc_tensor, dec_tensor, test_size=0.2)\n",
    "\n",
    "print(\"Korean Vocab Size:\", len(enc_tokenizer.index_word))\n",
    "print(\"English Vocab Size:\", len(dec_tokenizer.index_word))"
   ]
  },
  {
   "cell_type": "code",
   "execution_count": 27,
   "id": "c3b9b94e",
   "metadata": {},
   "outputs": [],
   "source": [
    "class BahdanauAttention(tf.keras.layers.Layer):\n",
    "    def __init__(self, units):\n",
    "        super(BahdanauAttention, self).__init__()\n",
    "        self.w_dec = tf.keras.layers.Dense(units)\n",
    "        self.w_enc = tf.keras.layers.Dense(units)\n",
    "        self.w_com = tf.keras.layers.Dense(1)\n",
    "    \n",
    "    def call(self, h_enc, h_dec):\n",
    "        # h_enc shape: [batch x length x units]\n",
    "        # h_dec shape: [batch x units]\n",
    "\n",
    "        h_enc = self.w_enc(h_enc)\n",
    "        h_dec = tf.expand_dims(h_dec, 1)\n",
    "        h_dec = self.w_dec(h_dec)\n",
    "\n",
    "        score = self.w_com(tf.nn.tanh(h_dec + h_enc))\n",
    "        \n",
    "        attn = tf.nn.softmax(score, axis=1)\n",
    "\n",
    "        context_vec = attn * h_enc\n",
    "        context_vec = tf.reduce_sum(context_vec, axis=1)\n",
    "\n",
    "        return context_vec, attn"
   ]
  },
  {
   "cell_type": "code",
   "execution_count": 28,
   "id": "2be20156",
   "metadata": {},
   "outputs": [],
   "source": [
    "class Encoder(tf.keras.Model):\n",
    "    def __init__(self, vocab_size, embedding_dim, enc_units):\n",
    "        super(Encoder, self).__init__()\n",
    "\n",
    "        self.enc_units = enc_units\n",
    "        self.embedding = tf.keras.layers.Embedding(vocab_size, embedding_dim)\n",
    "        self.gru = tf.keras.layers.GRU(enc_units,\n",
    "                                       return_sequences=True)\n",
    "\n",
    "    def call(self, x):\n",
    "        out = self.embedding(x)\n",
    "        out = self.gru(out)\n",
    "\n",
    "        return out"
   ]
  },
  {
   "cell_type": "code",
   "execution_count": 29,
   "id": "deb50a75",
   "metadata": {},
   "outputs": [],
   "source": [
    "class Decoder(tf.keras.Model):\n",
    "    def __init__(self, vocab_size, embedding_dim, dec_units):\n",
    "        super(Decoder, self).__init__()\n",
    "        self.dec_units = dec_units\n",
    "        self.embedding = tf.keras.layers.Embedding(vocab_size, embedding_dim)\n",
    "        self.gru = tf.keras.layers.GRU(dec_units,\n",
    "                                       return_sequences=True,\n",
    "                                       return_state=True)\n",
    "        self.fc = tf.keras.layers.Dense(vocab_size)\n",
    "\n",
    "        self.attention = BahdanauAttention(self.dec_units)\n",
    "\n",
    "    def call(self, x, h_dec, enc_out):\n",
    "        context_vec, attn = self.attention(enc_out, h_dec)\n",
    "\n",
    "        out = self.embedding(x)\n",
    "        out = tf.concat([tf.expand_dims(context_vec, 1), out], axis=-1)\n",
    "\n",
    "        out, h_dec = self.gru(out)\n",
    "        out = tf.reshape(out, (-1, out.shape[2]))\n",
    "        out = self.fc(out)\n",
    "\n",
    "        return out, h_dec, attn"
   ]
  },
  {
   "cell_type": "code",
   "execution_count": 30,
   "id": "8a5189fe",
   "metadata": {},
   "outputs": [
    {
     "name": "stdout",
     "output_type": "stream",
     "text": [
      "Encoder Output: (64, 40, 128)\n",
      "Decoder Output: (64, 17326)\n",
      "Decoder Hidden State: (64, 128)\n",
      "Attention: (64, 40, 1)\n"
     ]
    }
   ],
   "source": [
    "\n",
    "BATCH_SIZE     = 64\n",
    "SRC_VOCAB_SIZE = len(enc_tokenizer.index_word) + 1 # 예: len(enc_tokenizer.index_word) + 1\n",
    "TGT_VOCAB_SIZE = len(dec_tokenizer.index_word) + 1 # 예: len(dec_tokenizer.index_word) + 1\n",
    "\n",
    "units         = 128\n",
    "embedding_dim = 128\n",
    "\n",
    "encoder = Encoder(SRC_VOCAB_SIZE, embedding_dim, units)\n",
    "decoder = Decoder(TGT_VOCAB_SIZE, embedding_dim, units)\n",
    "\n",
    "# sample input\n",
    "sequence_len = 40\n",
    "\n",
    "sample_enc = tf.random.uniform((BATCH_SIZE, sequence_len))\n",
    "sample_output = encoder(sample_enc)\n",
    "\n",
    "print ('Encoder Output:', sample_output.shape)\n",
    "\n",
    "sample_state = tf.random.uniform((BATCH_SIZE, units))\n",
    "\n",
    "sample_logits, h_dec, attn = decoder(tf.random.uniform((BATCH_SIZE, 1)),\n",
    "                                     sample_state, sample_output)\n",
    "\n",
    "print ('Decoder Output:', sample_logits.shape)\n",
    "print ('Decoder Hidden State:', h_dec.shape)\n",
    "print ('Attention:', attn.shape)"
   ]
  },
  {
   "cell_type": "code",
   "execution_count": 31,
   "id": "c5da0c86",
   "metadata": {},
   "outputs": [],
   "source": [
    "optimizer = tf.keras.optimizers.Adam()\n",
    "loss_object = tf.keras.losses.SparseCategoricalCrossentropy(\n",
    "    from_logits=True, reduction='none')\n",
    "\n",
    "def loss_function(real, pred):\n",
    "    mask = tf.math.logical_not(tf.math.equal(real, 0))\n",
    "    loss = loss_object(real, pred)\n",
    "    \n",
    "    mask = tf.cast(mask, dtype=loss.dtype)\n",
    "    loss *= mask\n",
    "    \n",
    "    return tf.reduce_mean(loss)\n"
   ]
  },
  {
   "cell_type": "code",
   "execution_count": 32,
   "id": "55d85e60",
   "metadata": {},
   "outputs": [],
   "source": [
    "@tf.function\n",
    "def train_step(src, tgt, encoder, decoder, optimizer, dec_tok):\n",
    "    bsz = src.shape[0]\n",
    "    loss = 0\n",
    "\n",
    "    with tf.GradientTape() as tape:\n",
    "        enc_out = encoder(src)\n",
    "        h_dec = enc_out[:, -1]\n",
    "        \n",
    "        dec_src = tf.expand_dims([dec_tok.word_index['<start>']] * bsz, 1)\n",
    "\n",
    "        for t in range(1, tgt.shape[1]):\n",
    "            pred, h_dec, _ = decoder(dec_src, h_dec, enc_out)\n",
    "\n",
    "            loss += loss_function(tgt[:, t], pred)\n",
    "            dec_src = tf.expand_dims(tgt[:, t], 1)\n",
    "        \n",
    "    batch_loss = (loss / int(tgt.shape[1]))\n",
    "\n",
    "    variables = encoder.trainable_variables + decoder.trainable_variables\n",
    "    gradients = tape.gradient(loss, variables)\n",
    "    optimizer.apply_gradients(zip(gradients, variables))\n",
    "    \n",
    "    return batch_loss\n"
   ]
  },
  {
   "cell_type": "code",
   "execution_count": 33,
   "id": "e9375f72",
   "metadata": {},
   "outputs": [
    {
     "name": "stderr",
     "output_type": "stream",
     "text": [
      "Epoch  1: 100%|██████████| 214/214 [02:16<00:00,  1.57it/s, Loss 1.5166]\n",
      "Test Epoch  1: 100%|██████████| 54/54 [00:40<00:00,  1.32it/s, Test Loss 1.4448]\n",
      "Epoch  2: 100%|██████████| 214/214 [00:24<00:00,  8.65it/s, Loss 1.4405]\n",
      "Test Epoch  2: 100%|██████████| 54/54 [00:02<00:00, 18.57it/s, Test Loss 1.4543]\n",
      "Epoch  3: 100%|██████████| 214/214 [00:24<00:00,  8.56it/s, Loss 1.4398]\n",
      "Test Epoch  3: 100%|██████████| 54/54 [00:02<00:00, 18.36it/s, Test Loss 1.4600]\n",
      "Epoch  4: 100%|██████████| 214/214 [00:25<00:00,  8.53it/s, Loss 1.4398]\n",
      "Test Epoch  4: 100%|██████████| 54/54 [00:03<00:00, 17.54it/s, Test Loss 1.4635]\n",
      "Epoch  5: 100%|██████████| 214/214 [00:24<00:00,  8.60it/s, Loss 1.4398]\n",
      "Test Epoch  5: 100%|██████████| 54/54 [00:02<00:00, 18.25it/s, Test Loss 1.4672]\n",
      "Epoch  6: 100%|██████████| 214/214 [00:25<00:00,  8.37it/s, Loss 1.4397]\n",
      "Test Epoch  6: 100%|██████████| 54/54 [00:02<00:00, 18.38it/s, Test Loss 1.4705]\n",
      "Epoch  7: 100%|██████████| 214/214 [00:24<00:00,  8.64it/s, Loss 1.4402]\n",
      "Test Epoch  7: 100%|██████████| 54/54 [00:02<00:00, 18.78it/s, Test Loss 1.4714]\n",
      "Epoch  8: 100%|██████████| 214/214 [00:24<00:00,  8.69it/s, Loss 1.4398]\n",
      "Test Epoch  8: 100%|██████████| 54/54 [00:02<00:00, 18.81it/s, Test Loss 1.4735]\n",
      "Epoch  9: 100%|██████████| 214/214 [00:24<00:00,  8.67it/s, Loss 1.4400]\n",
      "Test Epoch  9: 100%|██████████| 54/54 [00:02<00:00, 18.59it/s, Test Loss 1.4747]\n",
      "Epoch 10: 100%|██████████| 214/214 [00:24<00:00,  8.60it/s, Loss 1.4395]\n",
      "Test Epoch 10: 100%|██████████| 54/54 [00:02<00:00, 18.90it/s, Test Loss 1.4760]\n",
      "Epoch 11: 100%|██████████| 214/214 [00:24<00:00,  8.73it/s, Loss 1.4187]\n",
      "Test Epoch 11: 100%|██████████| 54/54 [00:02<00:00, 18.49it/s, Test Loss 1.3990]\n",
      "Epoch 12: 100%|██████████| 214/214 [00:24<00:00,  8.66it/s, Loss 1.3443]\n",
      "Test Epoch 12: 100%|██████████| 54/54 [00:02<00:00, 18.48it/s, Test Loss 1.3588]\n",
      "Epoch 13: 100%|██████████| 214/214 [00:24<00:00,  8.71it/s, Loss 1.3002]\n",
      "Test Epoch 13: 100%|██████████| 54/54 [00:02<00:00, 18.75it/s, Test Loss 1.3281]\n",
      "Epoch 14: 100%|██████████| 214/214 [00:24<00:00,  8.69it/s, Loss 1.2566]\n",
      "Test Epoch 14: 100%|██████████| 54/54 [00:02<00:00, 18.67it/s, Test Loss 1.3059]\n",
      "Epoch 15: 100%|██████████| 214/214 [00:24<00:00,  8.69it/s, Loss 1.2144]\n",
      "Test Epoch 15: 100%|██████████| 54/54 [00:02<00:00, 18.16it/s, Test Loss 1.2934]\n",
      "Epoch 16: 100%|██████████| 214/214 [00:24<00:00,  8.73it/s, Loss 1.1765]\n",
      "Test Epoch 16: 100%|██████████| 54/54 [00:02<00:00, 19.20it/s, Test Loss 1.2854]\n",
      "Epoch 17: 100%|██████████| 214/214 [00:24<00:00,  8.60it/s, Loss 1.1411]\n",
      "Test Epoch 17: 100%|██████████| 54/54 [00:02<00:00, 18.60it/s, Test Loss 1.2863]\n",
      "Epoch 18: 100%|██████████| 214/214 [00:24<00:00,  8.75it/s, Loss 1.1071]\n",
      "Test Epoch 18: 100%|██████████| 54/54 [00:02<00:00, 18.72it/s, Test Loss 1.2858]\n",
      "Epoch 19: 100%|██████████| 214/214 [00:24<00:00,  8.89it/s, Loss 1.0737]\n",
      "Test Epoch 19: 100%|██████████| 54/54 [00:02<00:00, 19.52it/s, Test Loss 1.2888]\n",
      "Epoch 20: 100%|██████████| 214/214 [00:24<00:00,  8.82it/s, Loss 1.0415]\n",
      "Test Epoch 20: 100%|██████████| 54/54 [00:02<00:00, 18.54it/s, Test Loss 1.2914]\n",
      "Epoch 21: 100%|██████████| 214/214 [00:24<00:00,  8.66it/s, Loss 1.0104]\n",
      "Test Epoch 21: 100%|██████████| 54/54 [00:02<00:00, 18.61it/s, Test Loss 1.3008]\n",
      "Epoch 22: 100%|██████████| 214/214 [00:24<00:00,  8.65it/s, Loss 0.9805]\n",
      "Test Epoch 22: 100%|██████████| 54/54 [00:02<00:00, 19.53it/s, Test Loss 1.3115]\n",
      "Epoch 23: 100%|██████████| 214/214 [00:23<00:00,  8.93it/s, Loss 0.9518]\n",
      "Test Epoch 23: 100%|██████████| 54/54 [00:02<00:00, 18.59it/s, Test Loss 1.3181]\n",
      "Epoch 24: 100%|██████████| 214/214 [00:23<00:00,  8.95it/s, Loss 0.9241]\n",
      "Test Epoch 24: 100%|██████████| 54/54 [00:02<00:00, 18.87it/s, Test Loss 1.3284]\n",
      "Epoch 25: 100%|██████████| 214/214 [00:24<00:00,  8.70it/s, Loss 0.8976]\n",
      "Test Epoch 25: 100%|██████████| 54/54 [00:02<00:00, 19.64it/s, Test Loss 1.3406]\n",
      "Epoch 26: 100%|██████████| 214/214 [00:24<00:00,  8.77it/s, Loss 0.8713]\n",
      "Test Epoch 26: 100%|██████████| 54/54 [00:02<00:00, 18.71it/s, Test Loss 1.3548]\n",
      "Epoch 27: 100%|██████████| 214/214 [00:24<00:00,  8.64it/s, Loss 0.8463]\n",
      "Test Epoch 27: 100%|██████████| 54/54 [00:02<00:00, 18.47it/s, Test Loss 1.3652]\n",
      "Epoch 28: 100%|██████████| 214/214 [00:25<00:00,  8.43it/s, Loss 0.8219]\n",
      "Test Epoch 28: 100%|██████████| 54/54 [00:03<00:00, 17.92it/s, Test Loss 1.3778]\n",
      "Epoch 29: 100%|██████████| 214/214 [00:24<00:00,  8.70it/s, Loss 0.7978]\n",
      "Test Epoch 29: 100%|██████████| 54/54 [00:02<00:00, 19.16it/s, Test Loss 1.3919]\n",
      "Epoch 30: 100%|██████████| 214/214 [00:24<00:00,  8.75it/s, Loss 0.7743]\n",
      "Test Epoch 30: 100%|██████████| 54/54 [00:02<00:00, 18.53it/s, Test Loss 1.4060]\n"
     ]
    }
   ],
   "source": [
    "# eval_step() 정의하기\n",
    "# train_step() 이후 eval_step() 진행하도록 소스 수정하기\n",
    "# Define eval_step\n",
    "\n",
    "@tf.function\n",
    "def eval_step(src, tgt, encoder, decoder, dec_tok):\n",
    "    bsz = src.shape[0]\n",
    "    loss = 0\n",
    "\n",
    "    enc_out = encoder(src)\n",
    "\n",
    "    h_dec = enc_out[:, -1]\n",
    "\n",
    "    dec_src = tf.expand_dims([dec_tok.word_index['<start>']] * bsz, 1)\n",
    "\n",
    "    for t in range(1, tgt.shape[1]):\n",
    "        pred, h_dec, _ = decoder(dec_src, h_dec, enc_out)\n",
    "\n",
    "        loss += loss_function(tgt[:, t], pred)\n",
    "        dec_src = tf.expand_dims(tgt[:, t], 1)\n",
    "\n",
    "    batch_loss = (loss / int(tgt.shape[1]))\n",
    "\n",
    "    return batch_loss\n",
    "\n",
    "# Training Process\n",
    "\n",
    "from tqdm import tqdm\n",
    "\n",
    "EPOCHS = 30\n",
    "\n",
    "for epoch in range(EPOCHS):\n",
    "    total_loss = 0\n",
    "\n",
    "    idx_list = list(range(0, enc_train.shape[0], BATCH_SIZE))\n",
    "    random.shuffle(idx_list)\n",
    "    t = tqdm(idx_list)\n",
    "\n",
    "    for (batch, idx) in enumerate(t):\n",
    "        batch_loss = train_step(enc_train[idx:idx+BATCH_SIZE],\n",
    "                                dec_train[idx:idx+BATCH_SIZE],\n",
    "                                encoder,\n",
    "                                decoder,\n",
    "                                optimizer,\n",
    "                                dec_tokenizer)\n",
    "\n",
    "        total_loss += batch_loss\n",
    "\n",
    "        t.set_description_str('Epoch %2d' % (epoch + 1))\n",
    "        t.set_postfix_str('Loss %.4f' % (total_loss.numpy() / (batch + 1)))\n",
    "\n",
    "    test_loss = 0\n",
    "\n",
    "    idx_list = list(range(0, enc_val.shape[0], BATCH_SIZE))\n",
    "    random.shuffle(idx_list)\n",
    "    t = tqdm(idx_list)\n",
    "\n",
    "    for (test_batch, idx) in enumerate(t):\n",
    "        test_batch_loss = eval_step(enc_val[idx:idx+BATCH_SIZE],\n",
    "                                    dec_val[idx:idx+BATCH_SIZE],\n",
    "                                    encoder,\n",
    "                                    decoder,\n",
    "                                    dec_tokenizer)\n",
    "\n",
    "        test_loss += test_batch_loss\n",
    "\n",
    "        t.set_description_str('Test Epoch %2d' % (epoch + 1))\n",
    "        t.set_postfix_str('Test Loss %.4f' % (test_loss.numpy() / (test_batch + 1)))"
   ]
  },
  {
   "cell_type": "code",
   "execution_count": 41,
   "id": "d5b84895",
   "metadata": {},
   "outputs": [],
   "source": [
    "def evaluate(sentence, encoder, decoder):\n",
    "    attention = np.zeros((dec_train.shape[-1], enc_train.shape[-1]))\n",
    "    \n",
    "    sentence = preprocess_sentence(sentence)\n",
    "    inputs = enc_tokenizer.texts_to_sequences([sentence.split()])\n",
    "    inputs = tf.keras.preprocessing.sequence.pad_sequences(inputs,\n",
    "                                                           maxlen=enc_train.shape[-1],\n",
    "                                                           padding='post')\n",
    "\n",
    "    result = ''\n",
    "\n",
    "    enc_out = encoder(inputs)\n",
    "\n",
    "    dec_hidden = enc_out[:, -1]\n",
    "    dec_input = tf.expand_dims([dec_tokenizer.word_index['<start>']], 0)\n",
    "\n",
    "    for t in range(dec_train.shape[-1]):\n",
    "        predictions, dec_hidden, attention_weights = decoder(dec_input,\n",
    "                                                             dec_hidden,\n",
    "                                                             enc_out)\n",
    "\n",
    "        attention_weights = tf.reshape(attention_weights, (-1, ))\n",
    "        attention[t] = attention_weights.numpy()\n",
    "\n",
    "        predicted_id = \\\n",
    "        tf.argmax(tf.math.softmax(predictions, axis=-1)[0]).numpy()\n",
    "\n",
    "        result += dec_tokenizer.index_word[predicted_id] + ' '\n",
    "\n",
    "        if dec_tokenizer.index_word[predicted_id] == '<end>':\n",
    "            return result, sentence, attention\n",
    "\n",
    "        dec_input = tf.expand_dims([predicted_id], 0)\n",
    "\n",
    "    return result, sentence, attention\n",
    "\n",
    "\n",
    "def plot_attention(attention, sentence, predicted_sentence):\n",
    "    fig = plt.figure(figsize=(10,10))\n",
    "    ax = fig.add_subplot(1, 1, 1)\n",
    "    ax.matshow(attention, cmap='viridis')\n",
    "\n",
    "    fontdict = {'fontsize': 14}\n",
    "\n",
    "    ax.set_xticklabels([''] + sentence, fontdict=fontdict, rotation=90)\n",
    "    ax.set_yticklabels([''] + predicted_sentence, fontdict=fontdict)\n",
    "\n",
    "    ax.xaxis.set_major_locator(ticker.MultipleLocator(1))\n",
    "    ax.yaxis.set_major_locator(ticker.MultipleLocator(1))\n",
    "\n",
    "    plt.show()\n",
    "\n",
    "\n",
    "def translate(sentence, encoder, decoder, plot = True):\n",
    "    result, sentence, attention = evaluate(sentence, encoder, decoder)\n",
    "\n",
    "    print('Input: %s' % (sentence))\n",
    "    print('Predicted translation: {}'.format(result))\n",
    "    \n",
    "    if plot:\n",
    "        \n",
    "        attention = attention[:len(result.split()), :len(sentence.split())]\n",
    "        plot_attention(attention, sentence.split(), result.split(' '))"
   ]
  },
  {
   "cell_type": "code",
   "execution_count": 44,
   "id": "6d59c3e0",
   "metadata": {},
   "outputs": [
    {
     "name": "stdout",
     "output_type": "stream",
     "text": [
      "Input: 집에 가는 길은 이쪽입니다 .\n",
      "Predicted translation: but it . <end> \n"
     ]
    },
    {
     "name": "stderr",
     "output_type": "stream",
     "text": [
      "/tmp/ipykernel_48/3857991053.py:45: UserWarning: FixedFormatter should only be used together with FixedLocator\n",
      "  ax.set_xticklabels([''] + sentence, fontdict=fontdict, rotation=90)\n",
      "/tmp/ipykernel_48/3857991053.py:46: UserWarning: FixedFormatter should only be used together with FixedLocator\n",
      "  ax.set_yticklabels([''] + predicted_sentence, fontdict=fontdict)\n"
     ]
    },
    {
     "data": {
      "image/png": "[encoded data removed]",
      "text/plain": [
       "<Figure size 720x720 with 1 Axes>"
      ]
     },
     "metadata": {
      "needs_background": "light"
     },
     "output_type": "display_data"
    }
   ],
   "source": [
    "translate(\"집에 가는 길은 이쪽입니다.\", encoder, decoder)"
   ]
  },
  {
   "cell_type": "code",
   "execution_count": 45,
   "id": "7b3698cb",
   "metadata": {},
   "outputs": [
    {
     "name": "stdout",
     "output_type": "stream",
     "text": [
      "Input: 개인용 컴퓨터 사용의 상당 부분은 이것보다 뛰어날 수 있느냐 ?\n",
      "Predicted translation: they had been hospitalized for the same areas which is a long lines in the same areas which is a long lines in the same areas which is a long lines in the same areas which is a long lines in the same areas which is a long lines in the same areas which is a long lines in the same areas which is a long lines \n"
     ]
    },
    {
     "name": "stderr",
     "output_type": "stream",
     "text": [
      "/tmp/ipykernel_48/3857991053.py:45: UserWarning: FixedFormatter should only be used together with FixedLocator\n",
      "  ax.set_xticklabels([''] + sentence, fontdict=fontdict, rotation=90)\n",
      "/tmp/ipykernel_48/3857991053.py:46: UserWarning: FixedFormatter should only be used together with FixedLocator\n",
      "  ax.set_yticklabels([''] + predicted_sentence, fontdict=fontdict)\n"
     ]
    },
    {
     "data": {
      "image/png": "[encoded data removed]",
      "text/plain": [
       "<Figure size 720x720 with 1 Axes>"
      ]
     },
     "metadata": {
      "needs_background": "light"
     },
     "output_type": "display_data"
    }
   ],
   "source": [
    "translate(\"개인용 컴퓨터 사용의 상당 부분은 \\'이것보다 뛰어날 수 있느냐?'\", encoder, decoder)"
   ]
  },
  {
   "cell_type": "code",
   "execution_count": 46,
   "id": "425d9796",
   "metadata": {},
   "outputs": [
    {
     "name": "stdout",
     "output_type": "stream",
     "text": [
      "Input: 불과 년 전이다 .\n",
      "Predicted translation: that s not be able to be able to be able to be able to be able to be able to be able to be able to be able to be able to be able to be able to be able to be able to be able to be able to be able to be able to be able to be able to be able to be \n"
     ]
    },
    {
     "name": "stderr",
     "output_type": "stream",
     "text": [
      "/tmp/ipykernel_48/3857991053.py:45: UserWarning: FixedFormatter should only be used together with FixedLocator\n",
      "  ax.set_xticklabels([''] + sentence, fontdict=fontdict, rotation=90)\n",
      "/tmp/ipykernel_48/3857991053.py:46: UserWarning: FixedFormatter should only be used together with FixedLocator\n",
      "  ax.set_yticklabels([''] + predicted_sentence, fontdict=fontdict)\n"
     ]
    },
    {
     "data": {
      "image/png": "[encoded data removed]",
      "text/plain": [
       "<Figure size 720x720 with 1 Axes>"
      ]
     },
     "metadata": {
      "needs_background": "light"
     },
     "output_type": "display_data"
    }
   ],
   "source": [
    "translate(\"불과 1,379년 전이다.\", encoder, decoder)"
   ]
  },
  {
   "cell_type": "code",
   "execution_count": 47,
   "id": "1569cb03",
   "metadata": {},
   "outputs": [
    {
     "name": "stdout",
     "output_type": "stream",
     "text": [
      "Input: 오바마는 대통령이다 .\n",
      "Predicted translation: obama s . <end> \n"
     ]
    },
    {
     "name": "stderr",
     "output_type": "stream",
     "text": [
      "/tmp/ipykernel_48/3857991053.py:45: UserWarning: FixedFormatter should only be used together with FixedLocator\n",
      "  ax.set_xticklabels([''] + sentence, fontdict=fontdict, rotation=90)\n",
      "/tmp/ipykernel_48/3857991053.py:46: UserWarning: FixedFormatter should only be used together with FixedLocator\n",
      "  ax.set_yticklabels([''] + predicted_sentence, fontdict=fontdict)\n"
     ]
    },
    {
     "data": {
      "image/png": "[encoded data removed]",
      "text/plain": [
       "<Figure size 720x720 with 1 Axes>"
      ]
     },
     "metadata": {
      "needs_background": "light"
     },
     "output_type": "display_data"
    }
   ],
   "source": [
    "translate(\"오바마는 대통령이다.\", encoder, decoder)"
   ]
  },
  {
   "cell_type": "code",
   "execution_count": 48,
   "id": "522c3fc3",
   "metadata": {},
   "outputs": [
    {
     "name": "stdout",
     "output_type": "stream",
     "text": [
      "Input: 시민들은 도시 속에 산다 .\n",
      "Predicted translation: los angeles . <end> \n"
     ]
    },
    {
     "name": "stderr",
     "output_type": "stream",
     "text": [
      "/tmp/ipykernel_48/3857991053.py:45: UserWarning: FixedFormatter should only be used together with FixedLocator\n",
      "  ax.set_xticklabels([''] + sentence, fontdict=fontdict, rotation=90)\n",
      "/tmp/ipykernel_48/3857991053.py:46: UserWarning: FixedFormatter should only be used together with FixedLocator\n",
      "  ax.set_yticklabels([''] + predicted_sentence, fontdict=fontdict)\n"
     ]
    },
    {
     "data": {
      "image/png": "[encoded data removed]",
      "text/plain": [
       "<Figure size 720x720 with 1 Axes>"
      ]
     },
     "metadata": {
      "needs_background": "light"
     },
     "output_type": "display_data"
    }
   ],
   "source": [
    "translate(\"시민들은 도시 속에 산다.\", encoder, decoder)"
   ]
  },
  {
   "cell_type": "code",
   "execution_count": 49,
   "id": "7f314022",
   "metadata": {},
   "outputs": [
    {
     "name": "stdout",
     "output_type": "stream",
     "text": [
      "Input: 커피는 필요 없다 .\n",
      "Predicted translation: the city . <end> \n"
     ]
    },
    {
     "name": "stderr",
     "output_type": "stream",
     "text": [
      "/tmp/ipykernel_48/3857991053.py:45: UserWarning: FixedFormatter should only be used together with FixedLocator\n",
      "  ax.set_xticklabels([''] + sentence, fontdict=fontdict, rotation=90)\n",
      "/tmp/ipykernel_48/3857991053.py:46: UserWarning: FixedFormatter should only be used together with FixedLocator\n",
      "  ax.set_yticklabels([''] + predicted_sentence, fontdict=fontdict)\n"
     ]
    },
    {
     "data": {
      "image/png": "[encoded data removed]",
      "text/plain": [
       "<Figure size 720x720 with 1 Axes>"
      ]
     },
     "metadata": {
      "needs_background": "light"
     },
     "output_type": "display_data"
    }
   ],
   "source": [
    "translate(\"커피는 필요 없다.\", encoder, decoder)"
   ]
  },
  {
   "cell_type": "code",
   "execution_count": 50,
   "id": "5c650477",
   "metadata": {
    "scrolled": true
   },
   "outputs": [
    {
     "name": "stdout",
     "output_type": "stream",
     "text": [
      "Input: 일곱 명의 사망자가 발생했다 .\n",
      "Predicted translation: hundreds of the u . s . percent . <end> \n"
     ]
    },
    {
     "name": "stderr",
     "output_type": "stream",
     "text": [
      "/tmp/ipykernel_48/3857991053.py:45: UserWarning: FixedFormatter should only be used together with FixedLocator\n",
      "  ax.set_xticklabels([''] + sentence, fontdict=fontdict, rotation=90)\n",
      "/tmp/ipykernel_48/3857991053.py:46: UserWarning: FixedFormatter should only be used together with FixedLocator\n",
      "  ax.set_yticklabels([''] + predicted_sentence, fontdict=fontdict)\n"
     ]
    },
    {
     "data": {
      "image/png": "[encoded data removed]",
      "text/plain": [
       "<Figure size 720x720 with 1 Axes>"
      ]
     },
     "metadata": {
      "needs_background": "light"
     },
     "output_type": "display_data"
    }
   ],
   "source": [
    "translate(\"일곱 명의 사망자가 발생했다.\", encoder, decoder)"
   ]
  },
  {
   "cell_type": "code",
   "execution_count": 54,
   "id": "afc76352",
   "metadata": {},
   "outputs": [
    {
     "name": "stdout",
     "output_type": "stream",
     "text": [
      "Input: 오바마는 대통령이다 .\n",
      "Predicted translation: obama s . <end> \n",
      "Input: 시민들은 도시 속에 산다 .\n",
      "Predicted translation: los angeles . <end> \n",
      "Input: 커피는 필요 없다 .\n",
      "Predicted translation: the city . <end> \n",
      "Input: 일곱 명의 사망자가 발생했다 .\n",
      "Predicted translation: hundreds of the u . s . percent . <end> \n"
     ]
    }
   ],
   "source": [
    "translate(\"오바마는 대통령이다.\", encoder, decoder, plot = False)\n",
    "translate(\"시민들은 도시 속에 산다.\", encoder, decoder, plot = False)\n",
    "translate(\"커피는 필요 없다.\", encoder, decoder, plot = False)\n",
    "translate(\"일곱 명의 사망자가 발생했다.\", encoder, decoder, plot = False)"
   ]
  },
  {
   "cell_type": "markdown",
   "id": "a40d4669",
   "metadata": {},
   "source": [
    "# 2. -\n",
    "# 해석문이 깔끔하지 않다.\n",
    "# 앞에서 확인 했듯이 데이터에서 한글과 번역이 틀린부분이 더러 있는것 같다. 일일이 확인해주고 정제해주어야 할것이다."
   ]
  },
  {
   "cell_type": "code",
   "execution_count": null,
   "id": "f9bbf300",
   "metadata": {},
   "outputs": [],
   "source": [
    "\n",
    "print(\"Korean:\", enc_corpus[100])   \n",
    "print(\"English:\", dec_corpus[100]) "
   ]
  },
  {
   "cell_type": "code",
   "execution_count": 56,
   "id": "390417fe",
   "metadata": {},
   "outputs": [
    {
     "name": "stdout",
     "output_type": "stream",
     "text": [
      "17055\n",
      "17055\n"
     ]
    }
   ],
   "source": [
    "print(len(enc_corpus))\n",
    "print(len(dec_corpus))"
   ]
  },
  {
   "cell_type": "code",
   "execution_count": 67,
   "id": "d454422f",
   "metadata": {
    "scrolled": false
   },
   "outputs": [
    {
     "name": "stdout",
     "output_type": "stream",
     "text": [
      "---------------------\n",
      "0 번째\n",
      "kor\n",
      " oxford england cnn 이수지 joins\n",
      "eng\n",
      " <start> commonly referred to as oxbridge <end>\n",
      "y/n?:n\n",
      "---------------------\n",
      "1 번째\n",
      "kor\n",
      " 정말로 매혹적인 것은 하나의 동물을 하나의 생명체를 얻을 수\n",
      "eng\n",
      " <start> the creatures are independent of the player ? <end>\n",
      "y/n?:n\n",
      "---------------------\n",
      "2 번째\n",
      "kor\n",
      " 어휘\n",
      "eng\n",
      " <start> a study by australia s main scientific body found high levels of toxic emissions in cars for up to six months and longer after they leave the showroom . <end>\n",
      "y/n?:n\n",
      "---------------------\n",
      "3 번째\n",
      "kor\n",
      " 최근 미 중서부 지역에는 기록적인 강수량과 홍수로 최소 명이 사망했다 .\n",
      "eng\n",
      " <start> the governor wants the federal government to declare a major disaster in the parts of north central ohio inundated by the past week s powerful storms and record floods that were blamed for at least deaths in the midwest . <end>\n",
      "y/n?:y\n",
      "---------------------\n",
      "4 번째\n",
      "kor\n",
      " 그는 우리 모두 해들리의 목소리를 다시 듣고 싶어한다 고 덧붙였다 .\n",
      "eng\n",
      " <start> he was noticed in the late s by beverly sills then general director of the new york city opera which hired him . <end>\n",
      "y/n?:n\n",
      "---------------------\n",
      "5 번째\n",
      "kor\n",
      " attempt 을 시도 기도 하다 꾀하다 기획하다\n",
      "eng\n",
      " <start> a right wing japanese politician has attempted to justify plans to fingerprint foreigners by claiming he knows an al qaeda member who entered the country illegally . <end>\n",
      "y/n?:n\n",
      "---------------------\n",
      "6 번째\n",
      "kor\n",
      " thwart 저지하다 좌절시키다\n",
      "eng\n",
      " <start> elsewhere police there thwarted a suicide bombing . <end>\n",
      "y/n?:n\n",
      "---------------------\n",
      "7 번째\n",
      "kor\n",
      " 마드리드는 년 올림픽 유치 신청서를 제출했지만 런던이 개최권을 따냈다 .\n",
      "eng\n",
      " <start> madrid had previously bid for the summer olympics but it was awarded to london . <end>\n",
      "y/n?:y\n",
      "---------------------\n",
      "8 번째\n",
      "kor\n",
      " 그는 한 인테리어 업체에서 일했다 .\n",
      "eng\n",
      " <start> he worked for an interior decoration company . <end>\n",
      "y/n?:y\n",
      "---------------------\n",
      "9 번째\n",
      "kor\n",
      " 법률 관계 당국자는 아서 맨이 얼굴에 총상을 입었다고 말했다 .\n",
      "eng\n",
      " <start> a law enforcement source told cnn that mann was shot in the face . <end>\n",
      "y/n?:y\n",
      "---------------------\n",
      "10 번째\n",
      "kor\n",
      " 기사공유\n",
      "eng\n",
      " <start> he was wrong about those . <end>\n",
      "y/n?:n\n",
      "---------------------\n",
      "11 번째\n",
      "kor\n",
      " 부시 대통령의 지지율이 cnn 조사 동안 최저치인 만을 나타냈다 .\n",
      "eng\n",
      " <start> only percent of those polled approve of bush s job as president an all time low for a cnn survey . <end>\n",
      "y/n?:y\n",
      "---------------------\n",
      "12 번째\n",
      "kor\n",
      " 산리오가 년 디자인한 헬로키티는 비닐 동전 지갑에 처음 등장했다 .\n",
      "eng\n",
      " <start> designed in by sanrio hello kitty first appeared on a plastic coin purse . <end>\n",
      "y/n?:y\n",
      "---------------------\n",
      "13 번째\n",
      "kor\n",
      " 일부에서는 이 개정안이 인권에 위반된다고 비난하고 있다 .\n",
      "eng\n",
      " <start> critics have denounced the program as a violation of human rights . <end>\n",
      "y/n?:y\n",
      "---------------------\n",
      "14 번째\n",
      "kor\n",
      " 범인은 심에서 자신의 혐의를 완강히 부인했다 .\n",
      "eng\n",
      " <start> hilschenz declined to testify at her original trial said at <end>\n",
      "y/n?:y\n",
      "---------------------\n",
      "15 번째\n",
      "kor\n",
      " 그러나 그의 인생은 충분히 힘들었고 고통에 휩싸여 있었다 .\n",
      "eng\n",
      " <start> but much in his life was traumatic and left him in pain . <end>\n",
      "y/n?:y\n",
      "---------------------\n",
      "16 번째\n",
      "kor\n",
      " appearance 출현 출두 출연 등장\n",
      "eng\n",
      " <start> hawking had canceled an appearance at arizona state university on april because of his illness . <end>\n",
      "y/n?:n\n",
      "---------------------\n",
      "17 번째\n",
      "kor\n",
      " 정부 제주특별자치도 법안 처리 결정 .\n",
      "eng\n",
      " <start> korean government decided to pass a bill to delegate autonomy to jeju island . <end>\n",
      "y/n?:y\n",
      "---------------------\n",
      "18 번째\n",
      "kor\n",
      " new york cnn 김양희 joins\n",
      "eng\n",
      " <start> this material may not be published . <end>\n",
      "y/n?:n\n",
      "---------------------\n",
      "19 번째\n",
      "kor\n",
      " 무가베는 양측의 협상은 외부의 간섭 없이 진행될 것이라고 강조했다 .\n",
      "eng\n",
      " <start> mugabe stressed that the coming negotiations would involve no dictation from the outside . <end>\n",
      "y/n?:y\n",
      "---------------------\n",
      "20 번째\n",
      "kor\n",
      " 차기 ceo는 야후의 공동창업자 제리 양을 대신하게 된다 .\n",
      "eng\n",
      " <start> the new ceo will replace yahoo ! <end>\n",
      "y/n?:y\n",
      "---------------------\n",
      "21 번째\n",
      "kor\n",
      " 최초의 여자 주교인 자넷이 현재 주교이다 .\n",
      "eng\n",
      " <start> the current pastor a janet is the first woman on the list . <end>\n",
      "y/n?:y\n",
      "---------------------\n",
      "22 번째\n",
      "kor\n",
      " 당신들도 내 형제다 라고 말했다 .\n",
      "eng\n",
      " <start> even you in uniform are my brothers . <end>\n",
      "y/n?:y\n",
      "---------------------\n",
      "23 번째\n",
      "kor\n",
      " 아무도 통제된 시험에 관심을 갖지 않는다는 것을 나는 우려합니다 .\n",
      "eng\n",
      " <start> i m very concerned that no one is interested in a controlled test . <end>\n",
      "y/n?:y\n",
      "---------------------\n",
      "24 번째\n",
      "kor\n",
      " 자전거는 북한 주민들이 이용가능한 유일한 교통수단이다 .\n",
      "eng\n",
      " <start> bicycles are the only form of transportation that north korean families can afford . <end>\n",
      "y/n?:y\n",
      "---------------------\n",
      "25 번째\n",
      "kor\n",
      " 이번 검거는 독일 당국과 협동작전으로 이루어졌다 .\n",
      "eng\n",
      " <start> the arrests were made in a joint operation with german authorities . <end>\n",
      "y/n?:y\n",
      "---------------------\n",
      "26 번째\n",
      "kor\n",
      " 머리를 감겨주는 로봇은 이미 일본 전국 미용실에 비치됐다 .\n",
      "eng\n",
      " <start> a robot that gives shampoos is already widely deployed at hair salons across japan . <end>\n",
      "y/n?:y\n",
      "---------------------\n",
      "27 번째\n",
      "kor\n",
      " 항공사가 날씨를 탓할 때 항상 의문을 가져라 .\n",
      "eng\n",
      " <start> when your airline blames the weather question it . <end>\n",
      "y/n?:y\n",
      "---------------------\n",
      "28 번째\n",
      "kor\n",
      " 외교부 북한이 핵 폭파 실험 준비한다는 근거 없어\n",
      "eng\n",
      " <start> the foreign ministry said there is no evidence of preparation of a nuclear blast test in north korea . <end>\n",
      "y/n?:y\n",
      "---------------------\n",
      "29 번째\n",
      "kor\n",
      " 크리스천 살라자르 특파원의 보도를 들어보겠습니다 .\n",
      "eng\n",
      " <start> and as we hear from correspondent christian salazar <end>\n",
      "y/n?:y\n",
      "---------------------\n",
      "30 번째\n",
      "kor\n",
      " 비행기니 . . 틸트로터 헬기니 ?\n",
      "eng\n",
      " <start> i might play two in a row three in a row and have some momentum . <end>\n",
      "y/n?:n\n",
      "---------------------\n",
      "31 번째\n",
      "kor\n",
      " 이들이 생산한 가방 중 작은 버전의 가격은 달러 큰 것은 달러다 .\n",
      "eng\n",
      " <start> the bags some of them one of a kind are priced from about for smaller versions to about for larger ones . <end>\n",
      "y/n?:y\n",
      "---------------------\n",
      "32 번째\n",
      "kor\n",
      " 워싱턴에서 셜리 스미스 기자가 보도합니다 .\n",
      "eng\n",
      " <start> washington correspondent shirley smith . <end>\n",
      "y/n?:y\n",
      "---------------------\n",
      "33 번째\n",
      "kor\n",
      " 저희는 이런 건 전혀 본 적이 없어요 .\n",
      "eng\n",
      " <start> we ve never seen anything like this <end>\n",
      "y/n?:y\n",
      "---------------------\n",
      "34 번째\n",
      "kor\n",
      " 과연 호머 마지 바트 리사 마기 심슨에게도 비슷한 일이 벌어질까요 ?\n",
      "eng\n",
      " <start> everybody or almost everybody who ran the show or was there at the beginning took part in the first meeting for the movie brooks said . <end>\n",
      "y/n?:n\n",
      "---------------------\n",
      "35 번째\n",
      "kor\n",
      " 현재 년 nasa의 예산 청구액은 억달러 약 조원 이다 .\n",
      "eng\n",
      " <start> nasa s budget request for is . billion . <end>\n",
      "y/n?:y\n",
      "---------------------\n",
      "36 번째\n",
      "kor\n",
      " 에게 발언권을 인정하다 주다 .\n",
      "eng\n",
      " <start> all rights reserved . <end>\n",
      "y/n?:n\n",
      "---------------------\n",
      "37 번째\n",
      "kor\n",
      " 총 명의 학생들이 년 월부터 매년 입학할 수 있게 될 것이다 .\n",
      "eng\n",
      " <start> all together students will be admitted every year starting in march . <end>\n",
      "y/n?:y\n",
      "---------------------\n",
      "38 번째\n",
      "kor\n",
      " 그러나 니콜슨은 조지 w 부시 대통령을 비난하지는 않았다 .\n",
      "eng\n",
      " <start> yet he also won t criticize president bush <end>\n",
      "y/n?:y\n",
      "---------------------\n",
      "39 번째\n",
      "kor\n",
      " 아베 총리의 발언은 년 발견된 일본 자료의 증거를 부정한 것이다 .\n",
      "eng\n",
      " <start> many victims say they were kidnapped and forced into sexual slavery by japanese troops . <end>\n",
      "y/n?:n\n",
      "---------------------\n",
      "40 번째\n",
      "kor\n",
      " 원문기사보기\n",
      "eng\n",
      " <start> to persuade another company to produce the instant film . <end>\n",
      "y/n?:n\n",
      "---------------------\n",
      "41 번째\n",
      "kor\n",
      " 그러나 로마 경찰과 정부 관계자들은 이같은 주장에 대해 부인했다 .\n",
      "eng\n",
      " <start> police and government officials in rome rejected the claims insisting police had been forced to intervene after united fans trampled <end>\n",
      "y/n?:y\n",
      "---------------------\n",
      "42 번째\n",
      "kor\n",
      " 이들은 오랜 친구와 헤어지듯 서로 부둥켜안고 이별을 아쉬워했다 .\n",
      "eng\n",
      " <start> they embraced and patted each others backs as they parted company the other astronauts did the same . <end>\n",
      "y/n?:y\n",
      "---------------------\n",
      "43 번째\n",
      "kor\n",
      " 이들은 매일 같은 일상을 되풀이 한다 .\n",
      "eng\n",
      " <start> their daily routine follows the same pattern <end>\n",
      "y/n?:y\n",
      "---------------------\n",
      "44 번째\n",
      "kor\n",
      " 아이를 이용해 돈을 벌려는 사람들도 있다 .\n",
      "eng\n",
      " <start> others sought to make money from her . <end>\n",
      "y/n?:y\n",
      "---------------------\n",
      "45 번째\n",
      "kor\n",
      " 시위 참가자들은 그 후 탄핵 반대 철야 촛불 시위에 동참했다 .\n",
      "eng\n",
      " <start> the protesters later joined the anti impeachment candlelight vigil . <end>\n",
      "y/n?:y\n",
      "---------------------\n",
      "46 번째\n",
      "kor\n",
      " 베르거 변호사는 이들 부부가 피해 고용인의 주장을 부인했다고 밝혔다 .\n",
      "eng\n",
      " <start> berger said gadhafi and his wife rejected the allegations . <end>\n",
      "y/n?:y\n",
      "---------------------\n",
      "47 번째\n",
      "kor\n",
      " hiv 양성 반응자 입국금지 정책에 도전\n",
      "eng\n",
      " <start> hiv positive travelers challenge countries with no entry policy <end>\n",
      "y/n?:y\n",
      "---------------------\n",
      "48 번째\n",
      "kor\n",
      " 이바노비치는 그랜드슬램 결승전에 진출한 첫번째 세르비아 선수가 됐다 .\n",
      "eng\n",
      " <start> i knew i had to be aggressive from the beginning and that s what i tried to do said ivanovic . <end>\n",
      "y/n?:n\n",
      "---------------------\n",
      "49 번째\n",
      "kor\n",
      " 우리 나라의 노동자들이 이런 문제의 희생양이 되도록 놔둘 수 없습니다 .\n",
      "eng\n",
      " <start> we cannot allow the workers in this country to be the scapegoat for this type of a problem . <end>\n",
      "y/n?:y\n",
      "---------------------\n",
      "50 번째\n",
      "kor\n",
      " 낱개로 돌아다니는 동전과 같은 금속 품목들은 가방에 넣는다 .\n",
      "eng\n",
      " <start> put any loose metal items like coins in a carry on bag <end>\n",
      "y/n?:y\n",
      "---------------------\n",
      "51 번째\n",
      "kor\n",
      " 발끈 화냄 outburt of temper\n",
      "eng\n",
      " <start> anniversary of the end of world war ii . <end>\n",
      "y/n?:\n",
      "---------------------\n",
      "52 번째\n",
      "kor\n",
      " 남해안에 태풍 나비 주의보 .\n",
      "eng\n",
      " <start> typhoon warning issued as nabi approaches southern korea . <end>\n",
      "y/n?:y\n",
      "---------------------\n",
      "53 번째\n",
      "kor\n",
      " 월 스트리트로부터의 최근 소식입니다 .\n",
      "eng\n",
      " <start> latest from the street <end>\n",
      "y/n?:y\n",
      "---------------------\n",
      "54 번째\n",
      "kor\n",
      " predecessor 전임자\n",
      "eng\n",
      " <start> rudd said he would overturn a number of his predecessor s policies including signing the kyoto protocol and pulling troops out of iraq . <end>\n",
      "y/n?:n\n",
      "---------------------\n",
      "55 번째\n",
      "kor\n",
      " 온몸으로 말하는 기상캐스터 온몸으로 말하는 기상캐스터\n",
      "eng\n",
      " <start> and are unlikely to damage campaign signs again as the incident scared them . <end>\n",
      "y/n?:n\n",
      "---------------------\n",
      "56 번째\n",
      "kor\n",
      " 소비자들에게 좋은 소식이 생겼습니다 .\n",
      "eng\n",
      " <start> some good news for consumers <end>\n",
      "y/n?:y\n",
      "---------------------\n",
      "57 번째\n",
      "kor\n",
      " impeachment trial 탄핵 재판\n",
      "eng\n",
      " <start> on nbc s today show blagojevich says he s boycotting today s start of his impeachment trial before the state senate because it won t be fair <end>\n",
      "y/n?:n\n",
      "---------------------\n",
      "58 번째\n",
      "kor\n",
      " 영한사전 약어표 한영사전 약어표\n",
      "eng\n",
      " <start> in a related development ellen r . sauerbrey u . s . assistant secretary for the bureau of population refugees and migration in the state department will visit thailand next week to discuss the issue of north korean refugees radio free asia rfa reported . <end>\n",
      "y/n?:n\n",
      "---------------------\n",
      "59 번째\n",
      "kor\n",
      " 그중 몇몇 시위대는 미국에 죽음을 칼자이에 죽음을 을 외치며 항의했다 .\n",
      "eng\n",
      " <start> death to karzai a reference to president hamid karzai according to the associated press . <end>\n",
      "y/n?:n\n",
      "---------------------\n",
      "60 번째\n",
      "kor\n",
      " 다음 세대 편과 년 영화 파더 후드 에 출연하기도 했다 .\n",
      "eng\n",
      " <start> he later appeared in episodes of star trek the next generation and the film father hood . <end>\n",
      "y/n?:y\n",
      "---------------------\n",
      "61 번째\n",
      "kor\n",
      " ultimately 궁극적으로 최후로\n",
      "eng\n",
      " <start> sohn said in principle he agrees the people will be the beneficiaries of the deal ultimately but added there are some obstacles to the parliamentary ratification . <end>\n",
      "y/n?:n\n",
      "---------------------\n",
      "62 번째\n",
      "kor\n",
      " 의사와 솔직하게 상담한다 .\n",
      "eng\n",
      " <start> be frank with your doctor . <end>\n",
      "y/n?:y\n",
      "---------------------\n",
      "63 번째\n",
      "kor\n",
      " 우리는 이란 정부에 즉각 이와같은 행동을 중단해 줄 것을 요구한다 .\n",
      "eng\n",
      " <start> we are asking the iranian government for that to stop . <end>\n",
      "y/n?:y\n",
      "---------------------\n",
      "64 번째\n",
      "kor\n",
      " 한때 미국 위 기업이었던 엔론은 회계 부정으로 파산했다 .\n",
      "eng\n",
      " <start> the energy trading firm went from being the us s seventh largest company to bankruptcy amid allegations of accounting irregularities . <end>\n",
      "y/n?:n\n",
      "---------------------\n",
      "65 번째\n",
      "kor\n",
      " 명 이상이 가로 미터 세로 미터 크기의 컨테이너 안에 들어가 있었다 .\n",
      "eng\n",
      " <start> more than people were packed into a container measuring by meters . <end>\n",
      "y/n?:y\n",
      "---------------------\n",
      "66 번째\n",
      "kor\n",
      " tenant 거주자 주민\n",
      "eng\n",
      " <start> a landlord is promising months free rent if his apartment tenants in ohio florida north carolina and texas lose their jobs . <end>\n",
      "y/n?:n\n",
      "---------------------\n",
      "67 번째\n",
      "kor\n",
      " 신화통신은 이 위성의 수명이 년으로 고안됐다고 전했다 .\n",
      "eng\n",
      " <start> the satellite is designed to last years the agency said . <end>\n",
      "y/n?:\n",
      "---------------------\n",
      "68 번째\n",
      "kor\n",
      " 토레 신임 감독은 la 다저스와 년 계약을 체결한 것으로 밝혀졌다 .\n",
      "eng\n",
      " <start> torre moved from one storied franchise to another getting a three year contract . <end>\n",
      "y/n?:y\n",
      "---------------------\n",
      "69 번째\n",
      "kor\n",
      " 이스라엘군 가자지구 난민 캠프 공격 .\n",
      "eng\n",
      " <start> israeli forces raided refugee camps in gaza strip . <end>\n",
      "y/n?:y\n",
      "---------------------\n",
      "70 번째\n",
      "kor\n",
      " 그의 이야기를 다룬 책과 영화 제작에 대한 요청이 쇄도하기도 했다 .\n",
      "eng\n",
      " <start> the teenager is thought to have been flooded with book and film offers for her story . <end>\n",
      "y/n?:y\n",
      "---------------------\n",
      "71 번째\n",
      "kor\n",
      " 지난 밤 센생드니 현내 여개 도시에서 폭력 사태가 벌어졌었다 .\n",
      "eng\n",
      " <start> half of the department s towns were affected by violence last night . <end>\n",
      "y/n?:y\n",
      "---------------------\n",
      "72 번째\n",
      "kor\n",
      " 이 협정은 년 처음 체결됐으며 현재 개국의 조약 가맹국이 있다 .\n",
      "eng\n",
      " <start> first adopted in the agreement now has signatories . <end>\n",
      "y/n?:y\n",
      "---------------------\n",
      "73 번째\n",
      "kor\n",
      " 개장 후 분 만에 다우지수는 포인트 올랐고 나스닥은 포인트 올랐습니다 .\n",
      "eng\n",
      " <start> in the first minutes the dow up points nasdaq ahead . <end>\n",
      "y/n?:y\n",
      "---------------------\n",
      "74 번째\n",
      "kor\n",
      " 시간에 걸친 회의 후 올메르트 총리는 호위대와 함께 예리코를 떠났다 .\n",
      "eng\n",
      " <start> the meeting ended three hours later and olmert s convoy left jericho . <end>\n",
      "y/n?:y\n",
      "---------------------\n",
      "75 번째\n",
      "kor\n",
      " judicial 사법의 재판관의 분석적인 공정한 천벌의\n",
      "eng\n",
      " <start> the commission s report came a day after a un envoy accused the army of being in denial over the issue of extra judicial killings . <end>\n",
      "y/n?:n\n",
      "---------------------\n",
      "76 번째\n",
      "kor\n",
      " 프란체스카와 탈리아는 친구사이다 .\n",
      "eng\n",
      " <start> francesca and talia were friends . <end>\n",
      "y/n?:y\n",
      "---------------------\n",
      "77 번째\n",
      "kor\n",
      " iucn은 지난해보다 종 많아진 만 종이 멸종위기에 처했다고 전했다 .\n",
      "eng\n",
      " <start> in all species are threatened with extinction more than last year iucn said . <end>\n",
      "y/n?:y\n",
      "---------------------\n",
      "78 번째\n",
      "kor\n",
      " . . 입력 . . 수정\n",
      "eng\n",
      " <start> but we have a long way to go to figure out the implications of it . <end>\n",
      "y/n?:n\n",
      "---------------------\n",
      "79 번째\n",
      "kor\n",
      " 그가 영국 왕세자인 것도 꽤 좋은 일이다 .\n",
      "eng\n",
      " <start> he has made being prince of wales a pretty good thing . <end>\n",
      "y/n?:y\n",
      "---------------------\n",
      "80 번째\n",
      "kor\n",
      " 올해 월 잭은 텍사스에 있는 호수에서 열리는 여름캠프에 다녀왔다 .\n",
      "eng\n",
      " <start> cnn in august jack returned from summer camp that included swims in texas lake lbj . <end>\n",
      "y/n?:n\n",
      "---------------------\n",
      "81 번째\n",
      "kor\n",
      " 우리를 새해로 이끌어줄 타임스퀘어 볼이 보다 커지고 밝아질 것입니다 .\n",
      "eng\n",
      " <start> a brighter new year s eve crystal ball to ring in waterford crystal has doubled the ball s size . <end>\n",
      "y/n?:y\n",
      "---------------------\n",
      "82 번째\n",
      "kor\n",
      " spree 몰두 탐닉\n",
      "eng\n",
      " <start> he then went on a shooting spree . <end>\n",
      "y/n?:n\n",
      "---------------------\n",
      "83 번째\n",
      "kor\n",
      " 개헌안은 월 일 국민투표를 거쳐 최종 승인된다 .\n",
      "eng\n",
      " <start> to take effect the reforms must be approved by voters in a december referendum . <end>\n",
      "y/n?:n\n",
      "---------------------\n",
      "84 번째\n",
      "kor\n",
      " 버락 오바마는 오늘 수행해야 할 중요 업무가 두어가지 있습니다 .\n",
      "eng\n",
      " <start> barack obama has a couple of important jobs to do today . <end>\n",
      "y/n?:y\n",
      "---------------------\n",
      "85 번째\n",
      "kor\n",
      " 일곱 중 여섯이 결혼해 다섯이 어린애가 있다 .\n",
      "eng\n",
      " <start> six of the seven astronauts were married and five had children . <end>\n",
      "y/n?:y\n",
      "---------------------\n",
      "86 번째\n",
      "kor\n",
      " 이란 정권은 이러한 행위를 중지해야 한다 고 그는 요구했다 .\n",
      "eng\n",
      " <start> the iranian regime must halt these actions he demanded . <end>\n",
      "y/n?:y\n",
      "---------------------\n",
      "87 번째\n",
      "kor\n",
      " 독일은 이후 신예 판더의 m 중거리 슛으로 경기를 뒤집었다 .\n",
      "eng\n",
      " <start> the misses proved costly as germany went in front thanks to a meter strike from new boy pander . <end>\n",
      "y/n?:y\n",
      "---------------------\n",
      "88 번째\n",
      "kor\n",
      " 이번 암살테러는 그가 년 대통령이 된 이래 세 번째 일어난 사건이었다 .\n",
      "eng\n",
      " <start> it was the third attempt on karzai s life since he became president following the ouster of the taliban regime in . <end>\n",
      "y/n?:y\n",
      "---------------------\n",
      "89 번째\n",
      "kor\n",
      " 모든 토끼들은 서로 접촉하고 있고 알다시피 급속도로 증식하고 있다 .\n",
      "eng\n",
      " <start> all the rabbits are interconnected and as we know they multiply fast . <end>\n",
      "y/n?:y\n",
      "---------------------\n",
      "90 번째\n",
      "kor\n",
      " nasa 우주에서 수업하실 선생님 모십니다\n",
      "eng\n",
      " <start> astronaut teachers to inspire next generation <end>\n",
      "y/n?:n\n",
      "---------------------\n",
      "91 번째\n",
      "kor\n",
      " 개 섬들은 완전히 수몰됐으며 개 이상 섬들은 절반이 물에 잠겼다 .\n",
      "eng\n",
      " <start> sixty nine islands were completely flooded and a further islands half flooded . <end>\n",
      "y/n?:y\n",
      "---------------------\n",
      "92 번째\n",
      "kor\n",
      " 새 방송국이 탄생하면 정부가 개입하려 할 염려가 있다 .\n",
      "eng\n",
      " <start> the fear is that the new entity would be a government mouthpiece . <end>\n",
      "y/n?:n\n",
      "---------------------\n",
      "93 번째\n",
      "kor\n",
      " 잠시 후 이란어 정부 방송에서 더빙되지 않은 영어 방송이 방영됐다 .\n",
      "eng\n",
      " <start> a short time later a version with sound and in english appeared on a different government run channel that broadcasts in farsi . <end>\n",
      "y/n?:n\n",
      "---------------------\n",
      "94 번째\n",
      "kor\n",
      " drop in traffic death 년 교통사고 사망률 감소 .\n",
      "eng\n",
      " <start> getting back to traffic <end>\n",
      "y/n?:n\n",
      "---------------------\n",
      "95 번째\n",
      "kor\n",
      " 그는 주전 그 두상을 오바마의 얼굴로 정했다 .\n",
      "eng\n",
      " <start> then six weeks ago he decided it should be obama s face . <end>\n",
      "y/n?:y\n",
      "---------------------\n",
      "96 번째\n",
      "kor\n",
      " 크메르루즈의 잔당은 년대 중반까지 캄보디아 정부군과 대치하기도 했다 .\n",
      "eng\n",
      " <start> remnants of the khmer rouge continued to battle cambodia s government into the s before they fragmented in the middle of the decade . <end>\n",
      "y/n?:y\n",
      "---------------------\n",
      "97 번째\n",
      "kor\n",
      " 사건 현장을 방문한 그는 사고 원인이 업무 태만일 가능성을 일축했다 .\n",
      "eng\n",
      " <start> australia s downer who attended the scene of the crash dismissed concerns that the cause of the crash was sabotage . <end>\n",
      "y/n?:n\n",
      "---------------------\n",
      "98 번째\n",
      "kor\n",
      " hanukah 유대교의 성전헌당기념일\n",
      "eng\n",
      " <start> the obamas are scheduled to spend twelve days in hawaii . <end>\n",
      "y/n?:n\n",
      "---------------------\n",
      "99 번째\n",
      "kor\n",
      " . 여성은 건강에 있어서 지나칠 정도로 정보에 의존한다 .\n",
      "eng\n",
      " <start> . women tend to over research <end>\n",
      "y/n?:n\n",
      "---------------------\n",
      "100 번째\n",
      "kor\n",
      " 크랜리는 일간의 구류를 선고받고 수감돼있다 .\n",
      "eng\n",
      " <start> cranley has served nearly days in custody . <end>\n",
      "y/n?:y\n",
      "---------------------\n",
      "101 번째\n",
      "kor\n",
      " 이스라엘은 자국에 테러를 가하는 그를 공공연하게 비난했다 .\n",
      "eng\n",
      " <start> israel has openly blamed him for terror attacks across their country . <end>\n"
     ]
    },
    {
     "ename": "KeyboardInterrupt",
     "evalue": "Interrupted by user",
     "output_type": "error",
     "traceback": [
      "\u001b[0;31m---------------------------------------------------------------------------\u001b[0m",
      "\u001b[0;31mKeyboardInterrupt\u001b[0m                         Traceback (most recent call last)",
      "\u001b[0;32m/tmp/ipykernel_48/3568815621.py\u001b[0m in \u001b[0;36m<module>\u001b[0;34m\u001b[0m\n\u001b[1;32m     11\u001b[0m     \u001b[0mprint\u001b[0m\u001b[0;34m(\u001b[0m\u001b[0;34m'kor\\n'\u001b[0m\u001b[0;34m,\u001b[0m \u001b[0mkor\u001b[0m\u001b[0;34m)\u001b[0m\u001b[0;34m\u001b[0m\u001b[0;34m\u001b[0m\u001b[0m\n\u001b[1;32m     12\u001b[0m     \u001b[0mprint\u001b[0m\u001b[0;34m(\u001b[0m\u001b[0;34m'eng\\n'\u001b[0m\u001b[0;34m,\u001b[0m \u001b[0meng\u001b[0m\u001b[0;34m)\u001b[0m\u001b[0;34m\u001b[0m\u001b[0;34m\u001b[0m\u001b[0m\n\u001b[0;32m---> 13\u001b[0;31m     \u001b[0mx\u001b[0m \u001b[0;34m=\u001b[0m \u001b[0minput\u001b[0m\u001b[0;34m(\u001b[0m\u001b[0;34m'y/n?:'\u001b[0m\u001b[0;34m)\u001b[0m\u001b[0;34m\u001b[0m\u001b[0;34m\u001b[0m\u001b[0m\n\u001b[0m\u001b[1;32m     14\u001b[0m     \u001b[0;32mif\u001b[0m \u001b[0mx\u001b[0m \u001b[0;34m==\u001b[0m\u001b[0;34m'y'\u001b[0m\u001b[0;34m:\u001b[0m\u001b[0;34m\u001b[0m\u001b[0;34m\u001b[0m\u001b[0m\n\u001b[1;32m     15\u001b[0m         \u001b[0mfiltered_enc_corpus\u001b[0m\u001b[0;34m.\u001b[0m\u001b[0mappend\u001b[0m\u001b[0;34m(\u001b[0m\u001b[0mkor\u001b[0m\u001b[0;34m)\u001b[0m\u001b[0;34m\u001b[0m\u001b[0;34m\u001b[0m\u001b[0m\n",
      "\u001b[0;32m/opt/conda/lib/python3.9/site-packages/ipykernel/kernelbase.py\u001b[0m in \u001b[0;36mraw_input\u001b[0;34m(self, prompt)\u001b[0m\n\u001b[1;32m   1005\u001b[0m                 \u001b[0;34m\"raw_input was called, but this frontend does not support input requests.\"\u001b[0m\u001b[0;34m\u001b[0m\u001b[0;34m\u001b[0m\u001b[0m\n\u001b[1;32m   1006\u001b[0m             )\n\u001b[0;32m-> 1007\u001b[0;31m         return self._input_request(\n\u001b[0m\u001b[1;32m   1008\u001b[0m             \u001b[0mstr\u001b[0m\u001b[0;34m(\u001b[0m\u001b[0mprompt\u001b[0m\u001b[0;34m)\u001b[0m\u001b[0;34m,\u001b[0m\u001b[0;34m\u001b[0m\u001b[0;34m\u001b[0m\u001b[0m\n\u001b[1;32m   1009\u001b[0m             \u001b[0mself\u001b[0m\u001b[0;34m.\u001b[0m\u001b[0m_parent_ident\u001b[0m\u001b[0;34m[\u001b[0m\u001b[0;34m\"shell\"\u001b[0m\u001b[0;34m]\u001b[0m\u001b[0;34m,\u001b[0m\u001b[0;34m\u001b[0m\u001b[0;34m\u001b[0m\u001b[0m\n",
      "\u001b[0;32m/opt/conda/lib/python3.9/site-packages/ipykernel/kernelbase.py\u001b[0m in \u001b[0;36m_input_request\u001b[0;34m(self, prompt, ident, parent, password)\u001b[0m\n\u001b[1;32m   1050\u001b[0m             \u001b[0;32mexcept\u001b[0m \u001b[0mKeyboardInterrupt\u001b[0m\u001b[0;34m:\u001b[0m\u001b[0;34m\u001b[0m\u001b[0;34m\u001b[0m\u001b[0m\n\u001b[1;32m   1051\u001b[0m                 \u001b[0;31m# re-raise KeyboardInterrupt, to truncate traceback\u001b[0m\u001b[0;34m\u001b[0m\u001b[0;34m\u001b[0m\u001b[0m\n\u001b[0;32m-> 1052\u001b[0;31m                 \u001b[0;32mraise\u001b[0m \u001b[0mKeyboardInterrupt\u001b[0m\u001b[0;34m(\u001b[0m\u001b[0;34m\"Interrupted by user\"\u001b[0m\u001b[0;34m)\u001b[0m \u001b[0;32mfrom\u001b[0m \u001b[0;32mNone\u001b[0m\u001b[0;34m\u001b[0m\u001b[0;34m\u001b[0m\u001b[0m\n\u001b[0m\u001b[1;32m   1053\u001b[0m             \u001b[0;32mexcept\u001b[0m \u001b[0mException\u001b[0m\u001b[0;34m:\u001b[0m\u001b[0;34m\u001b[0m\u001b[0;34m\u001b[0m\u001b[0m\n\u001b[1;32m   1054\u001b[0m                 \u001b[0mself\u001b[0m\u001b[0;34m.\u001b[0m\u001b[0mlog\u001b[0m\u001b[0;34m.\u001b[0m\u001b[0mwarning\u001b[0m\u001b[0;34m(\u001b[0m\u001b[0;34m\"Invalid Message:\"\u001b[0m\u001b[0;34m,\u001b[0m \u001b[0mexc_info\u001b[0m\u001b[0;34m=\u001b[0m\u001b[0;32mTrue\u001b[0m\u001b[0;34m)\u001b[0m\u001b[0;34m\u001b[0m\u001b[0;34m\u001b[0m\u001b[0m\n",
      "\u001b[0;31mKeyboardInterrupt\u001b[0m: Interrupted by user"
     ]
    }
   ],
   "source": [
    "filtered_enc_corpus = []\n",
    "filtered_dec_corpus = []\n",
    "wrong_enc_corpus = []\n",
    "wrong_dec_corpus = []\n",
    "\n",
    "\n",
    "c = 0\n",
    "for kor, eng in zip(enc_corpus, dec_corpus):\n",
    "    print('---'*7)\n",
    "    print(c, '번째')\n",
    "    print('kor\\n', kor)\n",
    "    print('eng\\n', eng)\n",
    "    x = input('y/n?:')\n",
    "    if x =='y':\n",
    "        filtered_enc_corpus.append(kor)\n",
    "        filtered_dec_corpus.append(eng)\n",
    "            \n",
    "    elif x == 'n':\n",
    "        wrong_enc_corpus.append(kor)\n",
    "        wrong_dec_corpus.append(eng)\n",
    "            \n",
    "    else:\n",
    "        pass\n",
    "    c += 1"
   ]
  },
  {
   "cell_type": "code",
   "execution_count": 68,
   "id": "82762e6f",
   "metadata": {
    "scrolled": true
   },
   "outputs": [
    {
     "name": "stdout",
     "output_type": "stream",
     "text": [
      "64\n",
      "64\n",
      "35\n",
      "35\n"
     ]
    }
   ],
   "source": [
    "print(len(filtered_enc_corpus))\n",
    "print(len(filtered_dec_corpus))\n",
    "print(len(wrong_enc_corpus))\n",
    "print(len(wrong_dec_corpus))"
   ]
  },
  {
   "cell_type": "code",
   "execution_count": 71,
   "id": "1969b88a",
   "metadata": {
    "scrolled": false
   },
   "outputs": [
    {
     "name": "stdout",
     "output_type": "stream",
     "text": [
      "----------------------------\n",
      "0 번째\n",
      "| oxford england cnn 이수지 joins | <start> commonly referred to as oxbridge <end> |\n",
      "----------------------------\n",
      "1 번째\n",
      "| 정말로 매혹적인 것은 하나의 동물을 하나의 생명체를 얻을 수 | <start> the creatures are independent of the player ? <end> |\n",
      "----------------------------\n",
      "2 번째\n",
      "| 어휘 | <start> a study by australia s main scientific body found high levels of toxic emissions in cars for up to six months and longer after they leave the showroom . <end> |\n",
      "----------------------------\n",
      "3 번째\n",
      "| 그는 우리 모두 해들리의 목소리를 다시 듣고 싶어한다 고 덧붙였다 . | <start> he was noticed in the late s by beverly sills then general director of the new york city opera which hired him . <end> |\n",
      "----------------------------\n",
      "4 번째\n",
      "| attempt 을 시도 기도 하다 꾀하다 기획하다 | <start> a right wing japanese politician has attempted to justify plans to fingerprint foreigners by claiming he knows an al qaeda member who entered the country illegally . <end> |\n",
      "----------------------------\n",
      "5 번째\n",
      "| thwart 저지하다 좌절시키다 | <start> elsewhere police there thwarted a suicide bombing . <end> |\n",
      "----------------------------\n",
      "6 번째\n",
      "| 기사공유 | <start> he was wrong about those . <end> |\n",
      "----------------------------\n",
      "7 번째\n",
      "| appearance 출현 출두 출연 등장 | <start> hawking had canceled an appearance at arizona state university on april because of his illness . <end> |\n",
      "----------------------------\n",
      "8 번째\n",
      "| new york cnn 김양희 joins | <start> this material may not be published . <end> |\n",
      "----------------------------\n",
      "9 번째\n",
      "| 비행기니 . . 틸트로터 헬기니 ? | <start> i might play two in a row three in a row and have some momentum . <end> |\n",
      "----------------------------\n",
      "10 번째\n",
      "| 과연 호머 마지 바트 리사 마기 심슨에게도 비슷한 일이 벌어질까요 ? | <start> everybody or almost everybody who ran the show or was there at the beginning took part in the first meeting for the movie brooks said . <end> |\n",
      "----------------------------\n",
      "11 번째\n",
      "| 에게 발언권을 인정하다 주다 . | <start> all rights reserved . <end> |\n",
      "----------------------------\n",
      "12 번째\n",
      "| 아베 총리의 발언은 년 발견된 일본 자료의 증거를 부정한 것이다 . | <start> many victims say they were kidnapped and forced into sexual slavery by japanese troops . <end> |\n",
      "----------------------------\n",
      "13 번째\n",
      "| 원문기사보기 | <start> to persuade another company to produce the instant film . <end> |\n",
      "----------------------------\n",
      "14 번째\n",
      "| 이바노비치는 그랜드슬램 결승전에 진출한 첫번째 세르비아 선수가 됐다 . | <start> i knew i had to be aggressive from the beginning and that s what i tried to do said ivanovic . <end> |\n",
      "----------------------------\n",
      "15 번째\n",
      "| predecessor 전임자 | <start> rudd said he would overturn a number of his predecessor s policies including signing the kyoto protocol and pulling troops out of iraq . <end> |\n",
      "----------------------------\n",
      "16 번째\n",
      "| 온몸으로 말하는 기상캐스터 온몸으로 말하는 기상캐스터 | <start> and are unlikely to damage campaign signs again as the incident scared them . <end> |\n",
      "----------------------------\n",
      "17 번째\n",
      "| impeachment trial 탄핵 재판 | <start> on nbc s today show blagojevich says he s boycotting today s start of his impeachment trial before the state senate because it won t be fair <end> |\n",
      "----------------------------\n",
      "18 번째\n",
      "| 영한사전 약어표 한영사전 약어표 | <start> in a related development ellen r . sauerbrey u . s . assistant secretary for the bureau of population refugees and migration in the state department will visit thailand next week to discuss the issue of north korean refugees radio free asia rfa reported . <end> |\n",
      "----------------------------\n",
      "19 번째\n",
      "| 그중 몇몇 시위대는 미국에 죽음을 칼자이에 죽음을 을 외치며 항의했다 . | <start> death to karzai a reference to president hamid karzai according to the associated press . <end> |\n",
      "----------------------------\n",
      "20 번째\n",
      "| ultimately 궁극적으로 최후로 | <start> sohn said in principle he agrees the people will be the beneficiaries of the deal ultimately but added there are some obstacles to the parliamentary ratification . <end> |\n",
      "----------------------------\n",
      "21 번째\n",
      "| 한때 미국 위 기업이었던 엔론은 회계 부정으로 파산했다 . | <start> the energy trading firm went from being the us s seventh largest company to bankruptcy amid allegations of accounting irregularities . <end> |\n",
      "----------------------------\n",
      "22 번째\n",
      "| tenant 거주자 주민 | <start> a landlord is promising months free rent if his apartment tenants in ohio florida north carolina and texas lose their jobs . <end> |\n",
      "----------------------------\n",
      "23 번째\n",
      "| judicial 사법의 재판관의 분석적인 공정한 천벌의 | <start> the commission s report came a day after a un envoy accused the army of being in denial over the issue of extra judicial killings . <end> |\n",
      "----------------------------\n",
      "24 번째\n",
      "| . . 입력 . . 수정 | <start> but we have a long way to go to figure out the implications of it . <end> |\n",
      "----------------------------\n",
      "25 번째\n",
      "| 올해 월 잭은 텍사스에 있는 호수에서 열리는 여름캠프에 다녀왔다 . | <start> cnn in august jack returned from summer camp that included swims in texas lake lbj . <end> |\n",
      "----------------------------\n",
      "26 번째\n",
      "| spree 몰두 탐닉 | <start> he then went on a shooting spree . <end> |\n",
      "----------------------------\n",
      "27 번째\n",
      "| 개헌안은 월 일 국민투표를 거쳐 최종 승인된다 . | <start> to take effect the reforms must be approved by voters in a december referendum . <end> |\n",
      "----------------------------\n",
      "28 번째\n",
      "| nasa 우주에서 수업하실 선생님 모십니다 | <start> astronaut teachers to inspire next generation <end> |\n",
      "----------------------------\n",
      "29 번째\n",
      "| 새 방송국이 탄생하면 정부가 개입하려 할 염려가 있다 . | <start> the fear is that the new entity would be a government mouthpiece . <end> |\n",
      "----------------------------\n",
      "30 번째\n",
      "| 잠시 후 이란어 정부 방송에서 더빙되지 않은 영어 방송이 방영됐다 . | <start> a short time later a version with sound and in english appeared on a different government run channel that broadcasts in farsi . <end> |\n",
      "----------------------------\n",
      "31 번째\n",
      "| drop in traffic death 년 교통사고 사망률 감소 . | <start> getting back to traffic <end> |\n",
      "----------------------------\n",
      "32 번째\n",
      "| 사건 현장을 방문한 그는 사고 원인이 업무 태만일 가능성을 일축했다 . | <start> australia s downer who attended the scene of the crash dismissed concerns that the cause of the crash was sabotage . <end> |\n",
      "----------------------------\n",
      "33 번째\n",
      "| hanukah 유대교의 성전헌당기념일 | <start> the obamas are scheduled to spend twelve days in hawaii . <end> |\n",
      "----------------------------\n",
      "34 번째\n",
      "| . 여성은 건강에 있어서 지나칠 정도로 정보에 의존한다 . | <start> . women tend to over research <end> |\n"
     ]
    }
   ],
   "source": [
    "for i in range(len(wrong_dec_corpus)):\n",
    "    print('----'*7)\n",
    "    print(i,'번째')\n",
    "    print('|',wrong_enc_corpus[i],\"|\",wrong_dec_corpus[i],'|')"
   ]
  },
  {
   "cell_type": "markdown",
   "id": "0c3898df",
   "metadata": {},
   "source": [
    "# 실제로 100개 가량의 데이터를 살펴보고 하나하나 번역이 맞는지 분류해 보았다.\n",
    "## 그중 35개의 문장의 한글과 영어 데이터쌍이 잘못 레이블된 데이터였다. 전체 데이터중 약 35%의 오류가 있는 것이다.\n",
    "### 오류의 종류는 다음과 같다.\n",
    "__뉴스 기사,크롤링__\n",
    "\n",
    "|한글|번역|\n",
    "|------|---|\n",
    "|oxford england cnn 이수지 joins|commonly referred to as oxbridge|\n",
    "|기사공유|he was wrong about those .|\n",
    "| new york cnn 김양희 joins | <start> this material may not be published . <end> |\n",
    "    | 원문기사보기 | <start> to persuade another company to produce the instant film . <end> |\n",
    "    | . . 입력 . . 수정 | <start> but we have a long way to go to figure out the implications of it . <end> |\n",
    "\n",
    "__사전, 예문(?)__\n",
    "\n",
    "|한글|번역|\n",
    "|------|---|\n",
    "| 어휘 | <start> a study by australia s main scientific body found high levels of toxic emissions in cars for up to six months and longer after they leave the showroom . <end> |\n",
    "| attempt 을 시도 기도 하다 꾀하다 기획하다 | <start> a right wing japanese politician has attempted to justify plans to fingerprint foreigners by claiming he knows an al qaeda member who entered the country illegally . <end> |\n",
    "| thwart 저지하다 좌절시키다 | <start> elsewhere police there thwarted a suicide bombing . <end> |\n",
    "| appearance 출현 출두 출연 등장 | <start> hawking had canceled an appearance at arizona state university on april because of his illness . <end> |\n",
    "    | predecessor 전임자 | <start> rudd said he would overturn a number of his predecessor s policies including signing the kyoto protocol and pulling troops out of iraq . <end> |\n",
    "    | impeachment trial 탄핵 재판 | <start> on nbc s today show blagojevich says he s boycotting today s start of his impeachment trial before the state senate because it won t be fair <end> |\n",
    "    | 영한사전 약어표 한영사전 약어표 | <start> in a related development ellen r . sauerbrey u . s . assistant secretary for the bureau of population refugees and migration in the state department will visit thailand next week to discuss the issue of north korean refugees radio free asia rfa reported . <end> |\n",
    "| ultimately 궁극적으로 최후로 | <start> sohn said in principle he agrees the people will be the beneficiaries of the deal ultimately but added there are some obstacles to the parliamentary ratification . <end> |\n",
    "| tenant 거주자 주민 | <start> a landlord is promising months free rent if his apartment tenants in ohio florida north carolina and texas lose their jobs . <end> |\n",
    "    | judicial 사법의 재판관의 분석적인 공정한 천벌의 | <start> the commission s report came a day after a un envoy accused the army of being in denial over the issue of extra judicial killings . <end> |\n",
    "    | spree 몰두 탐닉 | <start> he then went on a shooting spree . <end> |\n",
    "    | drop in traffic death 년 교통사고 사망률 감소 . | <start> getting back to traffic <end> |\n",
    "    | hanukah 유대교의 성전헌당기념일 | <start> the obamas are scheduled to spend twelve days in hawaii . <end> |\n",
    "    \n",
    "__오역, 의역__\n",
    "    \n",
    "|한글|번역|\n",
    "|------|---|\n",
    "|정말로 매혹적인 것은 하나의 동물을 하나의 생명체를 얻을 수|commonly referred to as oxbridge|\n",
    "| 그는 우리 모두 해들리의 목소리를 다시 듣고 싶어한다 고 덧붙였다 . | <start> he was noticed in the late s by beverly sills then general director of the new york city opera which hired him . <end> |\n",
    "    | 비행기니 . . 틸트로터 헬기니 ? | <start> i might play two in a row three in a row and have some momentum . <end> |\n",
    "    | 과연 호머 마지 바트 리사 마기 심슨에게도 비슷한 일이 벌어질까요 ? | <start> everybody or almost everybody who ran the show or was there at the beginning took part in the first meeting for the movie brooks said . <end> |\n",
    "    | 에게 발언권을 인정하다 주다 . | <start> all rights reserved . <end> |\n",
    "    | 아베 총리의 발언은 년 발견된 일본 자료의 증거를 부정한 것이다 . | <start> many victims say they were kidnapped and forced into sexual slavery by japanese troops . <end> |\n",
    "    | 이바노비치는 그랜드슬램 결승전에 진출한 첫번째 세르비아 선수가 됐다 . | <start> i knew i had to be aggressive from the beginning and that s what i tried to do said ivanovic . <end> |\n",
    "    | 온몸으로 말하는 기상캐스터 온몸으로 말하는 기상캐스터 | <start> and are unlikely to damage campaign signs again as the incident scared them . <end> |\n",
    "    | 그중 몇몇 시위대는 미국에 죽음을 칼자이에 죽음을 을 외치며 항의했다 . | <start> death to karzai a reference to president hamid karzai according to the associated press . <end> |\n",
    "    | 올해 월 잭은 텍사스에 있는 호수에서 열리는 여름캠프에 다녀왔다 . | <start> cnn in august jack returned from summer camp that included swims in texas lake lbj . <end> |\n",
    "    | 개헌안은 월 일 국민투표를 거쳐 최종 승인된다 . | <start> to take effect the reforms must be approved by voters in a december referendum . <end> |\n",
    "    | nasa 우주에서 수업하실 선생님 모십니다 | <start> astronaut teachers to inspire next generation <end> |\n",
    "    | 새 방송국이 탄생하면 정부가 개입하려 할 염려가 있다 . | <start> the fear is that the new entity would be a government mouthpiece . <end> |\n",
    "| 잠시 후 이란어 정부 방송에서 더빙되지 않은 영어 방송이 방영됐다 . | <start> a short time later a version with sound and in english appeared on a different government run channel that broadcasts in farsi . <end> |\n",
    "    | 사건 현장을 방문한 그는 사고 원인이 업무 태만일 가능성을 일축했다 . | <start> australia s downer who attended the scene of the crash dismissed concerns that the cause of the crash was sabotage . <end> |\n",
    "    | . 여성은 건강에 있어서 지나칠 정도로 정보에 의존한다 . | <start> . women tend to over research <end> |"
   ]
  },
  {
   "cell_type": "markdown",
   "id": "aa1fea53",
   "metadata": {},
   "source": [
    "# 회고\n",
    "- [참고자료](https://github.com/miinkang/AI_Project_AIFFEL/blob/main/%5BGD-08%5Dattention_based_seq2seq_translation.ipynb)에서도 __데이터의 신뢰도__에 의문을 제기하고 있다. \n",
    "- 실제로 다수의 샘플을 살펴본 결과. 원데이터에서 발생할수있는 오류(오역,의역) 이외에도, 기사와 사전 에서 크롤링하면서 발생할수 있는는 __데이터 수집가의 실수, 오류__ 가 다수 발견되었다.\n",
    "- 1만7천 개중 100여개의 일부만 살펴보았지만 약 35%가 잘못된 데이터로 이는 매우 큰수치라 할수 있겠다.\n",
    "- 실제로 이러한 데이터로 학습을 한다면 모델의 성능을 기대하지도 신뢰할 수 도 없을것이다. 즉, __garbage in garbage out__이다.\n",
    "- 이러한 오류가 많을 데이터를 실무에서 받게 된다면 어떻게 할까?우선 수집단계에서 크롤링 방식의 오류를 찾아서 수정하는 한편, 오류 샘플들의 공통점을 찾아내고 최대한 제거하려고 노력해야 할것이다.\n"
   ]
  },
  {
   "cell_type": "code",
   "execution_count": null,
   "id": "cefe1b56",
   "metadata": {},
   "outputs": [],
   "source": []
  }
 ],
 "metadata": {
  "kernelspec": {
   "display_name": "Python 3 (ipykernel)",
   "language": "python",
   "name": "python3"
  },
  "language_info": {
   "codemirror_mode": {
    "name": "ipython",
    "version": 3
   },
   "file_extension": ".py",
   "mimetype": "text/x-python",
   "name": "python",
   "nbconvert_exporter": "python",
   "pygments_lexer": "ipython3",
   "version": "3.9.7"
  }
 },
 "nbformat": 4,
 "nbformat_minor": 5
}
