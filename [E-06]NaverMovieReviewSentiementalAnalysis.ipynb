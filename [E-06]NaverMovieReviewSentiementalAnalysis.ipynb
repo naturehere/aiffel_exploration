{
 "cells": [
  {
   "cell_type": "markdown",
   "id": "c8cd1c42",
   "metadata": {},
   "source": [
    "# [E-06] 영화리뷰 텍스트 감성분석하기\n",
    "***\n",
    "## 목차\n",
    "### 1. LMS 따라하기\n",
    "### 2. IMDB 영화리뷰 따라하기\n",
    "### 3. 프로젝트 : 네이버 영화리뷰 감성분석\n",
    "### 4. 회고\n",
    "***"
   ]
  },
  {
   "cell_type": "markdown",
   "id": "98557a09",
   "metadata": {},
   "source": [
    "> 영화리뷰에 대한 감성분석을 통해 자연어 처리, RNN 을 배워보자. CNN 으로도 자연어 처리가 가능하다\n",
    "***"
   ]
  },
  {
   "cell_type": "markdown",
   "id": "ae6a7869",
   "metadata": {},
   "source": [
    "### 1.1 LMS 따라하기_텍스트를 숫자로 표현하는 방법"
   ]
  },
  {
   "cell_type": "code",
   "execution_count": 1,
   "id": "9a322b7f",
   "metadata": {},
   "outputs": [
    {
     "name": "stdout",
     "output_type": "stream",
     "text": [
      "['i', 'feel', 'hungry']\n"
     ]
    }
   ],
   "source": [
    "# 처리해야 할 문장을 파이썬 리스트에 옮겨 담았습니다.\n",
    "sentences=['i feel hungry', 'i eat lunch', 'now i feel happy']\n",
    "\n",
    "# 파이썬 split() 메소드를 이용해 단어 단위로 문장을 쪼개 봅니다.\n",
    "word_list = 'i feel hungry'.split()\n",
    "print(word_list)"
   ]
  },
  {
   "cell_type": "code",
   "execution_count": 2,
   "id": "5eae0d11",
   "metadata": {},
   "outputs": [
    {
     "name": "stdout",
     "output_type": "stream",
     "text": [
      "{0: '<PAD>', 1: '<BOS>', 2: '<UNK>', 3: 'i', 4: 'feel', 5: 'hungry', 6: 'eat', 7: 'lunch', 8: 'now', 9: 'happy'}\n"
     ]
    }
   ],
   "source": [
    "# 모든 문장을 단어로 쪼개서 딕셔너리를 만들자\n",
    "index_to_word={}  # 빈 딕셔너리를 만들어서\n",
    "\n",
    "# 단어들을 하나씩 채워 봅니다. 채우는 순서는 일단 임의로 하였습니다. 그러나 사실 순서는 중요하지 않습니다. \n",
    "# <BOS>, <PAD>, <UNK>는 관례적으로 딕셔너리 맨 앞에 넣어줍니다. \n",
    "index_to_word[0]='<PAD>'  # 패딩용 단어\n",
    "index_to_word[1]='<BOS>'  # 문장의 시작지점\n",
    "index_to_word[2]='<UNK>'  # 사전에 없는(Unknown) 단어\n",
    "index_to_word[3]='i'\n",
    "index_to_word[4]='feel'\n",
    "index_to_word[5]='hungry'\n",
    "index_to_word[6]='eat'\n",
    "index_to_word[7]='lunch'\n",
    "index_to_word[8]='now'\n",
    "index_to_word[9]='happy'\n",
    "\n",
    "print(index_to_word)"
   ]
  },
  {
   "cell_type": "code",
   "execution_count": 3,
   "id": "564a39c7",
   "metadata": {},
   "outputs": [
    {
     "name": "stdout",
     "output_type": "stream",
     "text": [
      "{'<PAD>': 0, '<BOS>': 1, '<UNK>': 2, 'i': 3, 'feel': 4, 'hungry': 5, 'eat': 6, 'lunch': 7, 'now': 8, 'happy': 9}\n"
     ]
    }
   ],
   "source": [
    "# 텍스트를 숫자로 바꾸려면 위의 딕셔너리가 {텍스트:인덱스} 구조 여야한다,\n",
    "word_to_index={word:index for index, word in index_to_word.items()}\n",
    "print(word_to_index)"
   ]
  },
  {
   "cell_type": "code",
   "execution_count": 4,
   "id": "eba89cd4",
   "metadata": {},
   "outputs": [
    {
     "name": "stdout",
     "output_type": "stream",
     "text": [
      "4\n"
     ]
    }
   ],
   "source": [
    "print(word_to_index['feel'])  # 단어 'feel'은 숫자 인덱스 4로 바뀝니다."
   ]
  },
  {
   "cell_type": "code",
   "execution_count": 5,
   "id": "0280ca62",
   "metadata": {},
   "outputs": [
    {
     "name": "stdout",
     "output_type": "stream",
     "text": [
      "[1, 3, 6, 7]\n"
     ]
    }
   ],
   "source": [
    "# 문장 1개를 활용할 딕셔너리와 함께 주면, 단어 인덱스 리스트로 변환해 주는 함수를 만들어 봅시다.\n",
    "# 단, 모든 문장은 <BOS>로 시작하는 것으로 합니다. \n",
    "def get_encoded_sentence(sentence, word_to_index):\n",
    "    return [word_to_index['<BOS>']]+[word_to_index[word] if word in word_to_index else word_to_index['<UNK>'] for word in sentence.split()]\n",
    "\n",
    "print(get_encoded_sentence('i eat lunch', word_to_index))"
   ]
  },
  {
   "cell_type": "code",
   "execution_count": 6,
   "id": "270e1563",
   "metadata": {
    "scrolled": true
   },
   "outputs": [
    {
     "name": "stdout",
     "output_type": "stream",
     "text": [
      "[[1, 3, 4, 5], [1, 3, 6, 7], [1, 8, 3, 4, 9]]\n"
     ]
    }
   ],
   "source": [
    "# 여러 개의 문장 리스트를 한꺼번에 숫자 텐서로 encode해 주는 함수입니다. \n",
    "def get_encoded_sentences(sentences, word_to_index):\n",
    "    return [get_encoded_sentence(sentence, word_to_index) for sentence in sentences]\n",
    "\n",
    "# sentences=['i feel hungry', 'i eat lunch', 'now i feel happy'] 가 아래와 같이 변환됩니다. \n",
    "encoded_sentences = get_encoded_sentences(sentences, word_to_index)\n",
    "print(encoded_sentences)"
   ]
  },
  {
   "cell_type": "code",
   "execution_count": 7,
   "id": "0c6d977a",
   "metadata": {},
   "outputs": [
    {
     "name": "stdout",
     "output_type": "stream",
     "text": [
      "i feel hungry\n"
     ]
    }
   ],
   "source": [
    "# 숫자 벡터로 encode된 문장을 원래대로 decode하는 함수입니다. \n",
    "def get_decoded_sentence(encoded_sentence, index_to_word):\n",
    "    return ' '.join(index_to_word[index] if index in index_to_word else '<UNK>' for index in encoded_sentence[1:])  #[1:]를 통해 <BOS>를 제외\n",
    "\n",
    "print(get_decoded_sentence([1, 3, 4, 5], index_to_word))"
   ]
  },
  {
   "cell_type": "code",
   "execution_count": 8,
   "id": "f50d7838",
   "metadata": {},
   "outputs": [
    {
     "name": "stdout",
     "output_type": "stream",
     "text": [
      "['i feel hungry', 'i eat lunch', 'now i feel happy']\n"
     ]
    }
   ],
   "source": [
    "# 여러 개의 숫자 벡터로 encode된 문장을 한꺼번에 원래대로 decode하는 함수입니다. \n",
    "def get_decoded_sentences(encoded_sentences, index_to_word):\n",
    "    return [get_decoded_sentence(encoded_sentence, index_to_word) for encoded_sentence in encoded_sentences]\n",
    "\n",
    "# encoded_sentences=[[1, 3, 4, 5], [1, 3, 6, 7], [1, 8, 3, 4, 9]] 가 아래와 같이 변환됩니다.\n",
    "print(get_decoded_sentences(encoded_sentences, index_to_word))"
   ]
  },
  {
   "cell_type": "markdown",
   "id": "96a1c70c",
   "metadata": {},
   "source": [
    "### 1.2 LMS 따라하기_Embedding 레이어의 등장.\n",
    "> 단어의 의미를 나타내는 벡터를 훈련 가능한 파라미터로 놓고 이를 딥러닝을 통해 학습, 최적화 한다.\n",
    "- input 문장의 길이가 일정해야 한다."
   ]
  },
  {
   "cell_type": "code",
   "execution_count": 10,
   "id": "5dc972d4",
   "metadata": {
    "scrolled": true
   },
   "outputs": [
    {
     "ename": "ValueError",
     "evalue": "Failed to convert a NumPy array to a Tensor (Unsupported object type list).",
     "output_type": "error",
     "traceback": [
      "\u001b[0;31m---------------------------------------------------------------------------\u001b[0m",
      "\u001b[0;31mValueError\u001b[0m                                Traceback (most recent call last)",
      "\u001b[0;32m/tmp/ipykernel_2143/2733197300.py\u001b[0m in \u001b[0;36m<module>\u001b[0;34m\u001b[0m\n\u001b[1;32m     12\u001b[0m \u001b[0;31m# 숫자로 변환된 텍스트 데이터 [[1, 3, 4, 5], [1, 3, 6, 7], [1, 8, 3, 4, 9]] 에 Embedding 레이어를 적용합니다.\u001b[0m\u001b[0;34m\u001b[0m\u001b[0;34m\u001b[0m\u001b[0m\n\u001b[1;32m     13\u001b[0m \u001b[0mraw_inputs\u001b[0m \u001b[0;34m=\u001b[0m \u001b[0mnp\u001b[0m\u001b[0;34m.\u001b[0m\u001b[0marray\u001b[0m\u001b[0;34m(\u001b[0m\u001b[0mget_encoded_sentences\u001b[0m\u001b[0;34m(\u001b[0m\u001b[0msentences\u001b[0m\u001b[0;34m,\u001b[0m \u001b[0mword_to_index\u001b[0m\u001b[0;34m)\u001b[0m\u001b[0;34m,\u001b[0m \u001b[0mdtype\u001b[0m\u001b[0;34m=\u001b[0m\u001b[0;34m'object'\u001b[0m\u001b[0;34m)\u001b[0m\u001b[0;34m\u001b[0m\u001b[0;34m\u001b[0m\u001b[0m\n\u001b[0;32m---> 14\u001b[0;31m \u001b[0moutput\u001b[0m \u001b[0;34m=\u001b[0m \u001b[0membedding\u001b[0m\u001b[0;34m(\u001b[0m\u001b[0mraw_inputs\u001b[0m\u001b[0;34m)\u001b[0m\u001b[0;34m\u001b[0m\u001b[0;34m\u001b[0m\u001b[0m\n\u001b[0m\u001b[1;32m     15\u001b[0m \u001b[0mprint\u001b[0m\u001b[0;34m(\u001b[0m\u001b[0moutput\u001b[0m\u001b[0;34m)\u001b[0m\u001b[0;34m\u001b[0m\u001b[0;34m\u001b[0m\u001b[0m\n",
      "\u001b[0;32m/opt/conda/lib/python3.9/site-packages/keras/engine/base_layer.py\u001b[0m in \u001b[0;36m__call__\u001b[0;34m(self, *args, **kwargs)\u001b[0m\n\u001b[1;32m    983\u001b[0m     if any(isinstance(x, (\n\u001b[1;32m    984\u001b[0m         tf.Tensor, np.ndarray, float, int)) for x in input_list):\n\u001b[0;32m--> 985\u001b[0;31m       \u001b[0minputs\u001b[0m \u001b[0;34m=\u001b[0m \u001b[0mtf\u001b[0m\u001b[0;34m.\u001b[0m\u001b[0mnest\u001b[0m\u001b[0;34m.\u001b[0m\u001b[0mmap_structure\u001b[0m\u001b[0;34m(\u001b[0m\u001b[0m_convert_numpy_or_python_types\u001b[0m\u001b[0;34m,\u001b[0m \u001b[0minputs\u001b[0m\u001b[0;34m)\u001b[0m\u001b[0;34m\u001b[0m\u001b[0;34m\u001b[0m\u001b[0m\n\u001b[0m\u001b[1;32m    986\u001b[0m       \u001b[0minput_list\u001b[0m \u001b[0;34m=\u001b[0m \u001b[0mtf\u001b[0m\u001b[0;34m.\u001b[0m\u001b[0mnest\u001b[0m\u001b[0;34m.\u001b[0m\u001b[0mflatten\u001b[0m\u001b[0;34m(\u001b[0m\u001b[0minputs\u001b[0m\u001b[0;34m)\u001b[0m\u001b[0;34m\u001b[0m\u001b[0;34m\u001b[0m\u001b[0m\n\u001b[1;32m    987\u001b[0m \u001b[0;34m\u001b[0m\u001b[0m\n",
      "\u001b[0;32m/opt/conda/lib/python3.9/site-packages/tensorflow/python/util/nest.py\u001b[0m in \u001b[0;36mmap_structure\u001b[0;34m(func, *structure, **kwargs)\u001b[0m\n\u001b[1;32m    867\u001b[0m \u001b[0;34m\u001b[0m\u001b[0m\n\u001b[1;32m    868\u001b[0m   return pack_sequence_as(\n\u001b[0;32m--> 869\u001b[0;31m       \u001b[0mstructure\u001b[0m\u001b[0;34m[\u001b[0m\u001b[0;36m0\u001b[0m\u001b[0;34m]\u001b[0m\u001b[0;34m,\u001b[0m \u001b[0;34m[\u001b[0m\u001b[0mfunc\u001b[0m\u001b[0;34m(\u001b[0m\u001b[0;34m*\u001b[0m\u001b[0mx\u001b[0m\u001b[0;34m)\u001b[0m \u001b[0;32mfor\u001b[0m \u001b[0mx\u001b[0m \u001b[0;32min\u001b[0m \u001b[0mentries\u001b[0m\u001b[0;34m]\u001b[0m\u001b[0;34m,\u001b[0m\u001b[0;34m\u001b[0m\u001b[0;34m\u001b[0m\u001b[0m\n\u001b[0m\u001b[1;32m    870\u001b[0m       expand_composites=expand_composites)\n\u001b[1;32m    871\u001b[0m \u001b[0;34m\u001b[0m\u001b[0m\n",
      "\u001b[0;32m/opt/conda/lib/python3.9/site-packages/tensorflow/python/util/nest.py\u001b[0m in \u001b[0;36m<listcomp>\u001b[0;34m(.0)\u001b[0m\n\u001b[1;32m    867\u001b[0m \u001b[0;34m\u001b[0m\u001b[0m\n\u001b[1;32m    868\u001b[0m   return pack_sequence_as(\n\u001b[0;32m--> 869\u001b[0;31m       \u001b[0mstructure\u001b[0m\u001b[0;34m[\u001b[0m\u001b[0;36m0\u001b[0m\u001b[0;34m]\u001b[0m\u001b[0;34m,\u001b[0m \u001b[0;34m[\u001b[0m\u001b[0mfunc\u001b[0m\u001b[0;34m(\u001b[0m\u001b[0;34m*\u001b[0m\u001b[0mx\u001b[0m\u001b[0;34m)\u001b[0m \u001b[0;32mfor\u001b[0m \u001b[0mx\u001b[0m \u001b[0;32min\u001b[0m \u001b[0mentries\u001b[0m\u001b[0;34m]\u001b[0m\u001b[0;34m,\u001b[0m\u001b[0;34m\u001b[0m\u001b[0;34m\u001b[0m\u001b[0m\n\u001b[0m\u001b[1;32m    870\u001b[0m       expand_composites=expand_composites)\n\u001b[1;32m    871\u001b[0m \u001b[0;34m\u001b[0m\u001b[0m\n",
      "\u001b[0;32m/opt/conda/lib/python3.9/site-packages/keras/engine/base_layer.py\u001b[0m in \u001b[0;36m_convert_numpy_or_python_types\u001b[0;34m(x)\u001b[0m\n\u001b[1;32m   3297\u001b[0m \u001b[0;32mdef\u001b[0m \u001b[0m_convert_numpy_or_python_types\u001b[0m\u001b[0;34m(\u001b[0m\u001b[0mx\u001b[0m\u001b[0;34m)\u001b[0m\u001b[0;34m:\u001b[0m\u001b[0;34m\u001b[0m\u001b[0;34m\u001b[0m\u001b[0m\n\u001b[1;32m   3298\u001b[0m   \u001b[0;32mif\u001b[0m \u001b[0misinstance\u001b[0m\u001b[0;34m(\u001b[0m\u001b[0mx\u001b[0m\u001b[0;34m,\u001b[0m \u001b[0;34m(\u001b[0m\u001b[0mtf\u001b[0m\u001b[0;34m.\u001b[0m\u001b[0mTensor\u001b[0m\u001b[0;34m,\u001b[0m \u001b[0mnp\u001b[0m\u001b[0;34m.\u001b[0m\u001b[0mndarray\u001b[0m\u001b[0;34m,\u001b[0m \u001b[0mfloat\u001b[0m\u001b[0;34m,\u001b[0m \u001b[0mint\u001b[0m\u001b[0;34m)\u001b[0m\u001b[0;34m)\u001b[0m\u001b[0;34m:\u001b[0m\u001b[0;34m\u001b[0m\u001b[0;34m\u001b[0m\u001b[0m\n\u001b[0;32m-> 3299\u001b[0;31m     \u001b[0;32mreturn\u001b[0m \u001b[0mtf\u001b[0m\u001b[0;34m.\u001b[0m\u001b[0mconvert_to_tensor\u001b[0m\u001b[0;34m(\u001b[0m\u001b[0mx\u001b[0m\u001b[0;34m)\u001b[0m\u001b[0;34m\u001b[0m\u001b[0;34m\u001b[0m\u001b[0m\n\u001b[0m\u001b[1;32m   3300\u001b[0m   \u001b[0;32mreturn\u001b[0m \u001b[0mx\u001b[0m\u001b[0;34m\u001b[0m\u001b[0;34m\u001b[0m\u001b[0m\n\u001b[1;32m   3301\u001b[0m \u001b[0;34m\u001b[0m\u001b[0m\n",
      "\u001b[0;32m/opt/conda/lib/python3.9/site-packages/tensorflow/python/util/dispatch.py\u001b[0m in \u001b[0;36mwrapper\u001b[0;34m(*args, **kwargs)\u001b[0m\n\u001b[1;32m    204\u001b[0m     \u001b[0;34m\"\"\"Call target, and fall back on dispatchers if there is a TypeError.\"\"\"\u001b[0m\u001b[0;34m\u001b[0m\u001b[0;34m\u001b[0m\u001b[0m\n\u001b[1;32m    205\u001b[0m     \u001b[0;32mtry\u001b[0m\u001b[0;34m:\u001b[0m\u001b[0;34m\u001b[0m\u001b[0;34m\u001b[0m\u001b[0m\n\u001b[0;32m--> 206\u001b[0;31m       \u001b[0;32mreturn\u001b[0m \u001b[0mtarget\u001b[0m\u001b[0;34m(\u001b[0m\u001b[0;34m*\u001b[0m\u001b[0margs\u001b[0m\u001b[0;34m,\u001b[0m \u001b[0;34m**\u001b[0m\u001b[0mkwargs\u001b[0m\u001b[0;34m)\u001b[0m\u001b[0;34m\u001b[0m\u001b[0;34m\u001b[0m\u001b[0m\n\u001b[0m\u001b[1;32m    207\u001b[0m     \u001b[0;32mexcept\u001b[0m \u001b[0;34m(\u001b[0m\u001b[0mTypeError\u001b[0m\u001b[0;34m,\u001b[0m \u001b[0mValueError\u001b[0m\u001b[0;34m)\u001b[0m\u001b[0;34m:\u001b[0m\u001b[0;34m\u001b[0m\u001b[0;34m\u001b[0m\u001b[0m\n\u001b[1;32m    208\u001b[0m       \u001b[0;31m# Note: convert_to_eager_tensor currently raises a ValueError, not a\u001b[0m\u001b[0;34m\u001b[0m\u001b[0;34m\u001b[0m\u001b[0m\n",
      "\u001b[0;32m/opt/conda/lib/python3.9/site-packages/tensorflow/python/framework/ops.py\u001b[0m in \u001b[0;36mconvert_to_tensor_v2_with_dispatch\u001b[0;34m(value, dtype, dtype_hint, name)\u001b[0m\n\u001b[1;32m   1428\u001b[0m     \u001b[0mValueError\u001b[0m\u001b[0;34m:\u001b[0m \u001b[0mIf\u001b[0m \u001b[0mthe\u001b[0m\u001b[0;31m \u001b[0m\u001b[0;31m`\u001b[0m\u001b[0mvalue\u001b[0m\u001b[0;31m`\u001b[0m \u001b[0;32mis\u001b[0m \u001b[0ma\u001b[0m \u001b[0mtensor\u001b[0m \u001b[0;32mnot\u001b[0m \u001b[0mof\u001b[0m \u001b[0mgiven\u001b[0m\u001b[0;31m \u001b[0m\u001b[0;31m`\u001b[0m\u001b[0mdtype\u001b[0m\u001b[0;31m`\u001b[0m \u001b[0;32min\u001b[0m \u001b[0mgraph\u001b[0m \u001b[0mmode\u001b[0m\u001b[0;34m.\u001b[0m\u001b[0;34m\u001b[0m\u001b[0;34m\u001b[0m\u001b[0m\n\u001b[1;32m   1429\u001b[0m   \"\"\"\n\u001b[0;32m-> 1430\u001b[0;31m   return convert_to_tensor_v2(\n\u001b[0m\u001b[1;32m   1431\u001b[0m       value, dtype=dtype, dtype_hint=dtype_hint, name=name)\n\u001b[1;32m   1432\u001b[0m \u001b[0;34m\u001b[0m\u001b[0m\n",
      "\u001b[0;32m/opt/conda/lib/python3.9/site-packages/tensorflow/python/framework/ops.py\u001b[0m in \u001b[0;36mconvert_to_tensor_v2\u001b[0;34m(value, dtype, dtype_hint, name)\u001b[0m\n\u001b[1;32m   1434\u001b[0m \u001b[0;32mdef\u001b[0m \u001b[0mconvert_to_tensor_v2\u001b[0m\u001b[0;34m(\u001b[0m\u001b[0mvalue\u001b[0m\u001b[0;34m,\u001b[0m \u001b[0mdtype\u001b[0m\u001b[0;34m=\u001b[0m\u001b[0;32mNone\u001b[0m\u001b[0;34m,\u001b[0m \u001b[0mdtype_hint\u001b[0m\u001b[0;34m=\u001b[0m\u001b[0;32mNone\u001b[0m\u001b[0;34m,\u001b[0m \u001b[0mname\u001b[0m\u001b[0;34m=\u001b[0m\u001b[0;32mNone\u001b[0m\u001b[0;34m)\u001b[0m\u001b[0;34m:\u001b[0m\u001b[0;34m\u001b[0m\u001b[0;34m\u001b[0m\u001b[0m\n\u001b[1;32m   1435\u001b[0m   \u001b[0;34m\"\"\"Converts the given `value` to a `Tensor`.\"\"\"\u001b[0m\u001b[0;34m\u001b[0m\u001b[0;34m\u001b[0m\u001b[0m\n\u001b[0;32m-> 1436\u001b[0;31m   return convert_to_tensor(\n\u001b[0m\u001b[1;32m   1437\u001b[0m       \u001b[0mvalue\u001b[0m\u001b[0;34m=\u001b[0m\u001b[0mvalue\u001b[0m\u001b[0;34m,\u001b[0m\u001b[0;34m\u001b[0m\u001b[0;34m\u001b[0m\u001b[0m\n\u001b[1;32m   1438\u001b[0m       \u001b[0mdtype\u001b[0m\u001b[0;34m=\u001b[0m\u001b[0mdtype\u001b[0m\u001b[0;34m,\u001b[0m\u001b[0;34m\u001b[0m\u001b[0;34m\u001b[0m\u001b[0m\n",
      "\u001b[0;32m/opt/conda/lib/python3.9/site-packages/tensorflow/python/profiler/trace.py\u001b[0m in \u001b[0;36mwrapped\u001b[0;34m(*args, **kwargs)\u001b[0m\n\u001b[1;32m    161\u001b[0m         \u001b[0;32mwith\u001b[0m \u001b[0mTrace\u001b[0m\u001b[0;34m(\u001b[0m\u001b[0mtrace_name\u001b[0m\u001b[0;34m,\u001b[0m \u001b[0;34m**\u001b[0m\u001b[0mtrace_kwargs\u001b[0m\u001b[0;34m)\u001b[0m\u001b[0;34m:\u001b[0m\u001b[0;34m\u001b[0m\u001b[0;34m\u001b[0m\u001b[0m\n\u001b[1;32m    162\u001b[0m           \u001b[0;32mreturn\u001b[0m \u001b[0mfunc\u001b[0m\u001b[0;34m(\u001b[0m\u001b[0;34m*\u001b[0m\u001b[0margs\u001b[0m\u001b[0;34m,\u001b[0m \u001b[0;34m**\u001b[0m\u001b[0mkwargs\u001b[0m\u001b[0;34m)\u001b[0m\u001b[0;34m\u001b[0m\u001b[0;34m\u001b[0m\u001b[0m\n\u001b[0;32m--> 163\u001b[0;31m       \u001b[0;32mreturn\u001b[0m \u001b[0mfunc\u001b[0m\u001b[0;34m(\u001b[0m\u001b[0;34m*\u001b[0m\u001b[0margs\u001b[0m\u001b[0;34m,\u001b[0m \u001b[0;34m**\u001b[0m\u001b[0mkwargs\u001b[0m\u001b[0;34m)\u001b[0m\u001b[0;34m\u001b[0m\u001b[0;34m\u001b[0m\u001b[0m\n\u001b[0m\u001b[1;32m    164\u001b[0m \u001b[0;34m\u001b[0m\u001b[0m\n\u001b[1;32m    165\u001b[0m     \u001b[0;32mreturn\u001b[0m \u001b[0mwrapped\u001b[0m\u001b[0;34m\u001b[0m\u001b[0;34m\u001b[0m\u001b[0m\n",
      "\u001b[0;32m/opt/conda/lib/python3.9/site-packages/tensorflow/python/framework/ops.py\u001b[0m in \u001b[0;36mconvert_to_tensor\u001b[0;34m(value, dtype, name, as_ref, preferred_dtype, dtype_hint, ctx, accepted_result_types)\u001b[0m\n\u001b[1;32m   1564\u001b[0m \u001b[0;34m\u001b[0m\u001b[0m\n\u001b[1;32m   1565\u001b[0m     \u001b[0;32mif\u001b[0m \u001b[0mret\u001b[0m \u001b[0;32mis\u001b[0m \u001b[0;32mNone\u001b[0m\u001b[0;34m:\u001b[0m\u001b[0;34m\u001b[0m\u001b[0;34m\u001b[0m\u001b[0m\n\u001b[0;32m-> 1566\u001b[0;31m       \u001b[0mret\u001b[0m \u001b[0;34m=\u001b[0m \u001b[0mconversion_func\u001b[0m\u001b[0;34m(\u001b[0m\u001b[0mvalue\u001b[0m\u001b[0;34m,\u001b[0m \u001b[0mdtype\u001b[0m\u001b[0;34m=\u001b[0m\u001b[0mdtype\u001b[0m\u001b[0;34m,\u001b[0m \u001b[0mname\u001b[0m\u001b[0;34m=\u001b[0m\u001b[0mname\u001b[0m\u001b[0;34m,\u001b[0m \u001b[0mas_ref\u001b[0m\u001b[0;34m=\u001b[0m\u001b[0mas_ref\u001b[0m\u001b[0;34m)\u001b[0m\u001b[0;34m\u001b[0m\u001b[0;34m\u001b[0m\u001b[0m\n\u001b[0m\u001b[1;32m   1567\u001b[0m \u001b[0;34m\u001b[0m\u001b[0m\n\u001b[1;32m   1568\u001b[0m     \u001b[0;32mif\u001b[0m \u001b[0mret\u001b[0m \u001b[0;32mis\u001b[0m \u001b[0mNotImplemented\u001b[0m\u001b[0;34m:\u001b[0m\u001b[0;34m\u001b[0m\u001b[0;34m\u001b[0m\u001b[0m\n",
      "\u001b[0;32m/opt/conda/lib/python3.9/site-packages/tensorflow/python/framework/tensor_conversion_registry.py\u001b[0m in \u001b[0;36m_default_conversion_function\u001b[0;34m(***failed resolving arguments***)\u001b[0m\n\u001b[1;32m     50\u001b[0m \u001b[0;32mdef\u001b[0m \u001b[0m_default_conversion_function\u001b[0m\u001b[0;34m(\u001b[0m\u001b[0mvalue\u001b[0m\u001b[0;34m,\u001b[0m \u001b[0mdtype\u001b[0m\u001b[0;34m,\u001b[0m \u001b[0mname\u001b[0m\u001b[0;34m,\u001b[0m \u001b[0mas_ref\u001b[0m\u001b[0;34m)\u001b[0m\u001b[0;34m:\u001b[0m\u001b[0;34m\u001b[0m\u001b[0;34m\u001b[0m\u001b[0m\n\u001b[1;32m     51\u001b[0m   \u001b[0;32mdel\u001b[0m \u001b[0mas_ref\u001b[0m  \u001b[0;31m# Unused.\u001b[0m\u001b[0;34m\u001b[0m\u001b[0;34m\u001b[0m\u001b[0m\n\u001b[0;32m---> 52\u001b[0;31m   \u001b[0;32mreturn\u001b[0m \u001b[0mconstant_op\u001b[0m\u001b[0;34m.\u001b[0m\u001b[0mconstant\u001b[0m\u001b[0;34m(\u001b[0m\u001b[0mvalue\u001b[0m\u001b[0;34m,\u001b[0m \u001b[0mdtype\u001b[0m\u001b[0;34m,\u001b[0m \u001b[0mname\u001b[0m\u001b[0;34m=\u001b[0m\u001b[0mname\u001b[0m\u001b[0;34m)\u001b[0m\u001b[0;34m\u001b[0m\u001b[0;34m\u001b[0m\u001b[0m\n\u001b[0m\u001b[1;32m     53\u001b[0m \u001b[0;34m\u001b[0m\u001b[0m\n\u001b[1;32m     54\u001b[0m \u001b[0;34m\u001b[0m\u001b[0m\n",
      "\u001b[0;32m/opt/conda/lib/python3.9/site-packages/tensorflow/python/framework/constant_op.py\u001b[0m in \u001b[0;36mconstant\u001b[0;34m(value, dtype, shape, name)\u001b[0m\n\u001b[1;32m    269\u001b[0m     \u001b[0mValueError\u001b[0m\u001b[0;34m:\u001b[0m \u001b[0;32mif\u001b[0m \u001b[0mcalled\u001b[0m \u001b[0mon\u001b[0m \u001b[0ma\u001b[0m \u001b[0msymbolic\u001b[0m \u001b[0mtensor\u001b[0m\u001b[0;34m.\u001b[0m\u001b[0;34m\u001b[0m\u001b[0;34m\u001b[0m\u001b[0m\n\u001b[1;32m    270\u001b[0m   \"\"\"\n\u001b[0;32m--> 271\u001b[0;31m   return _constant_impl(value, dtype, shape, name, verify_shape=False,\n\u001b[0m\u001b[1;32m    272\u001b[0m                         allow_broadcast=True)\n\u001b[1;32m    273\u001b[0m \u001b[0;34m\u001b[0m\u001b[0m\n",
      "\u001b[0;32m/opt/conda/lib/python3.9/site-packages/tensorflow/python/framework/constant_op.py\u001b[0m in \u001b[0;36m_constant_impl\u001b[0;34m(value, dtype, shape, name, verify_shape, allow_broadcast)\u001b[0m\n\u001b[1;32m    281\u001b[0m       \u001b[0;32mwith\u001b[0m \u001b[0mtrace\u001b[0m\u001b[0;34m.\u001b[0m\u001b[0mTrace\u001b[0m\u001b[0;34m(\u001b[0m\u001b[0;34m\"tf.constant\"\u001b[0m\u001b[0;34m)\u001b[0m\u001b[0;34m:\u001b[0m\u001b[0;34m\u001b[0m\u001b[0;34m\u001b[0m\u001b[0m\n\u001b[1;32m    282\u001b[0m         \u001b[0;32mreturn\u001b[0m \u001b[0m_constant_eager_impl\u001b[0m\u001b[0;34m(\u001b[0m\u001b[0mctx\u001b[0m\u001b[0;34m,\u001b[0m \u001b[0mvalue\u001b[0m\u001b[0;34m,\u001b[0m \u001b[0mdtype\u001b[0m\u001b[0;34m,\u001b[0m \u001b[0mshape\u001b[0m\u001b[0;34m,\u001b[0m \u001b[0mverify_shape\u001b[0m\u001b[0;34m)\u001b[0m\u001b[0;34m\u001b[0m\u001b[0;34m\u001b[0m\u001b[0m\n\u001b[0;32m--> 283\u001b[0;31m     \u001b[0;32mreturn\u001b[0m \u001b[0m_constant_eager_impl\u001b[0m\u001b[0;34m(\u001b[0m\u001b[0mctx\u001b[0m\u001b[0;34m,\u001b[0m \u001b[0mvalue\u001b[0m\u001b[0;34m,\u001b[0m \u001b[0mdtype\u001b[0m\u001b[0;34m,\u001b[0m \u001b[0mshape\u001b[0m\u001b[0;34m,\u001b[0m \u001b[0mverify_shape\u001b[0m\u001b[0;34m)\u001b[0m\u001b[0;34m\u001b[0m\u001b[0;34m\u001b[0m\u001b[0m\n\u001b[0m\u001b[1;32m    284\u001b[0m \u001b[0;34m\u001b[0m\u001b[0m\n\u001b[1;32m    285\u001b[0m   \u001b[0mg\u001b[0m \u001b[0;34m=\u001b[0m \u001b[0mops\u001b[0m\u001b[0;34m.\u001b[0m\u001b[0mget_default_graph\u001b[0m\u001b[0;34m(\u001b[0m\u001b[0;34m)\u001b[0m\u001b[0;34m\u001b[0m\u001b[0;34m\u001b[0m\u001b[0m\n",
      "\u001b[0;32m/opt/conda/lib/python3.9/site-packages/tensorflow/python/framework/constant_op.py\u001b[0m in \u001b[0;36m_constant_eager_impl\u001b[0;34m(ctx, value, dtype, shape, verify_shape)\u001b[0m\n\u001b[1;32m    306\u001b[0m \u001b[0;32mdef\u001b[0m \u001b[0m_constant_eager_impl\u001b[0m\u001b[0;34m(\u001b[0m\u001b[0mctx\u001b[0m\u001b[0;34m,\u001b[0m \u001b[0mvalue\u001b[0m\u001b[0;34m,\u001b[0m \u001b[0mdtype\u001b[0m\u001b[0;34m,\u001b[0m \u001b[0mshape\u001b[0m\u001b[0;34m,\u001b[0m \u001b[0mverify_shape\u001b[0m\u001b[0;34m)\u001b[0m\u001b[0;34m:\u001b[0m\u001b[0;34m\u001b[0m\u001b[0;34m\u001b[0m\u001b[0m\n\u001b[1;32m    307\u001b[0m   \u001b[0;34m\"\"\"Creates a constant on the current device.\"\"\"\u001b[0m\u001b[0;34m\u001b[0m\u001b[0;34m\u001b[0m\u001b[0m\n\u001b[0;32m--> 308\u001b[0;31m   \u001b[0mt\u001b[0m \u001b[0;34m=\u001b[0m \u001b[0mconvert_to_eager_tensor\u001b[0m\u001b[0;34m(\u001b[0m\u001b[0mvalue\u001b[0m\u001b[0;34m,\u001b[0m \u001b[0mctx\u001b[0m\u001b[0;34m,\u001b[0m \u001b[0mdtype\u001b[0m\u001b[0;34m)\u001b[0m\u001b[0;34m\u001b[0m\u001b[0;34m\u001b[0m\u001b[0m\n\u001b[0m\u001b[1;32m    309\u001b[0m   \u001b[0;32mif\u001b[0m \u001b[0mshape\u001b[0m \u001b[0;32mis\u001b[0m \u001b[0;32mNone\u001b[0m\u001b[0;34m:\u001b[0m\u001b[0;34m\u001b[0m\u001b[0;34m\u001b[0m\u001b[0m\n\u001b[1;32m    310\u001b[0m     \u001b[0;32mreturn\u001b[0m \u001b[0mt\u001b[0m\u001b[0;34m\u001b[0m\u001b[0;34m\u001b[0m\u001b[0m\n",
      "\u001b[0;32m/opt/conda/lib/python3.9/site-packages/tensorflow/python/framework/constant_op.py\u001b[0m in \u001b[0;36mconvert_to_eager_tensor\u001b[0;34m(value, ctx, dtype)\u001b[0m\n\u001b[1;32m    104\u001b[0m       \u001b[0mdtype\u001b[0m \u001b[0;34m=\u001b[0m \u001b[0mdtypes\u001b[0m\u001b[0;34m.\u001b[0m\u001b[0mas_dtype\u001b[0m\u001b[0;34m(\u001b[0m\u001b[0mdtype\u001b[0m\u001b[0;34m)\u001b[0m\u001b[0;34m.\u001b[0m\u001b[0mas_datatype_enum\u001b[0m\u001b[0;34m\u001b[0m\u001b[0;34m\u001b[0m\u001b[0m\n\u001b[1;32m    105\u001b[0m   \u001b[0mctx\u001b[0m\u001b[0;34m.\u001b[0m\u001b[0mensure_initialized\u001b[0m\u001b[0;34m(\u001b[0m\u001b[0;34m)\u001b[0m\u001b[0;34m\u001b[0m\u001b[0;34m\u001b[0m\u001b[0m\n\u001b[0;32m--> 106\u001b[0;31m   \u001b[0;32mreturn\u001b[0m \u001b[0mops\u001b[0m\u001b[0;34m.\u001b[0m\u001b[0mEagerTensor\u001b[0m\u001b[0;34m(\u001b[0m\u001b[0mvalue\u001b[0m\u001b[0;34m,\u001b[0m \u001b[0mctx\u001b[0m\u001b[0;34m.\u001b[0m\u001b[0mdevice_name\u001b[0m\u001b[0;34m,\u001b[0m \u001b[0mdtype\u001b[0m\u001b[0;34m)\u001b[0m\u001b[0;34m\u001b[0m\u001b[0;34m\u001b[0m\u001b[0m\n\u001b[0m\u001b[1;32m    107\u001b[0m \u001b[0;34m\u001b[0m\u001b[0m\n\u001b[1;32m    108\u001b[0m \u001b[0;34m\u001b[0m\u001b[0m\n",
      "\u001b[0;31mValueError\u001b[0m: Failed to convert a NumPy array to a Tensor (Unsupported object type list)."
     ]
    }
   ],
   "source": [
    "# 아래 코드는 그대로 실행하시면 에러가 발생할 것입니다. \n",
    "\n",
    "import numpy as np\n",
    "import tensorflow as tf\n",
    "import os\n",
    "\n",
    "vocab_size = len(word_to_index)  # 위 예시에서 딕셔너리에 포함된 단어 개수는 10\n",
    "word_vector_dim = 4    # 위 그림과 같이 4차원의 워드 벡터를 가정합니다. \n",
    "\n",
    "embedding = tf.keras.layers.Embedding(input_dim=vocab_size, output_dim=word_vector_dim, mask_zero=True)\n",
    "\n",
    "# 숫자로 변환된 텍스트 데이터 [[1, 3, 4, 5], [1, 3, 6, 7], [1, 8, 3, 4, 9]] 에 Embedding 레이어를 적용합니다. \n",
    "raw_inputs = np.array(get_encoded_sentences(sentences, word_to_index), dtype='object')\n",
    "output = embedding(raw_inputs)\n",
    "print(output)"
   ]
  },
  {
   "cell_type": "code",
   "execution_count": 11,
   "id": "8694da9c",
   "metadata": {
    "scrolled": true
   },
   "outputs": [
    {
     "name": "stdout",
     "output_type": "stream",
     "text": [
      "[[1 3 4 5 0]\n",
      " [1 3 6 7 0]\n",
      " [1 8 3 4 9]]\n"
     ]
    }
   ],
   "source": [
    "# 앞선 문장의 길이는 4,4,5 였다.\n",
    "# 텐서플로의 tf.keras.preprocessing.sequence.pad_sequences 함수로 <PAD> 를 준다.\n",
    "raw_inputs = tf.keras.preprocessing.sequence.pad_sequences(raw_inputs,\n",
    "                                                       value=word_to_index['<PAD>'],\n",
    "                                                       padding='post',\n",
    "                                                       maxlen=5)\n",
    "print(raw_inputs)"
   ]
  },
  {
   "cell_type": "code",
   "execution_count": 12,
   "id": "51cdc94b",
   "metadata": {},
   "outputs": [
    {
     "name": "stdout",
     "output_type": "stream",
     "text": [
      "tf.Tensor(\n",
      "[[[-3.29986215e-05  4.85595502e-02  2.00428702e-02  2.21046247e-02]\n",
      "  [ 1.41698755e-02  1.54452436e-02 -2.55142581e-02 -1.07015967e-02]\n",
      "  [ 3.03592347e-02  2.98679359e-02  8.29406828e-03  3.10229324e-02]\n",
      "  [ 3.95267494e-02  2.21518986e-02 -4.50669304e-02  3.91530059e-02]\n",
      "  [-2.89646741e-02 -2.75485758e-02 -4.92882840e-02  3.05444002e-03]]\n",
      "\n",
      " [[-3.29986215e-05  4.85595502e-02  2.00428702e-02  2.21046247e-02]\n",
      "  [ 1.41698755e-02  1.54452436e-02 -2.55142581e-02 -1.07015967e-02]\n",
      "  [-2.27639563e-02 -2.96230074e-02 -3.80906574e-02  3.32366936e-02]\n",
      "  [ 2.58850791e-02  1.70723312e-02  1.63183473e-02 -4.06875238e-02]\n",
      "  [-2.89646741e-02 -2.75485758e-02 -4.92882840e-02  3.05444002e-03]]\n",
      "\n",
      " [[-3.29986215e-05  4.85595502e-02  2.00428702e-02  2.21046247e-02]\n",
      "  [ 1.59494914e-02 -9.21032578e-03 -1.98549032e-03  5.22224978e-03]\n",
      "  [ 1.41698755e-02  1.54452436e-02 -2.55142581e-02 -1.07015967e-02]\n",
      "  [ 3.03592347e-02  2.98679359e-02  8.29406828e-03  3.10229324e-02]\n",
      "  [-1.85740590e-02  3.26963179e-02 -2.94711124e-02  1.37991421e-02]]], shape=(3, 5, 4), dtype=float32)\n"
     ]
    }
   ],
   "source": [
    "vocab_size = len(word_to_index)  # 위 예시에서 딕셔너리에 포함된 단어 개수는 10\n",
    "word_vector_dim = 4    # 그림과 같이 4차원의 워드 벡터를 가정합니다.\n",
    "\n",
    "embedding = tf.keras.layers.Embedding(input_dim=vocab_size, output_dim=word_vector_dim, mask_zero=True)\n",
    "\n",
    "# tf.keras.preprocessing.sequence.pad_sequences를 통해 word vector를 모두 일정 길이로 맞춰주어야 \n",
    "# embedding 레이어의 input이 될 수 있음에 주의해 주세요. \n",
    "raw_inputs = np.array(get_encoded_sentences(sentences, word_to_index), dtype=object)\n",
    "raw_inputs = tf.keras.preprocessing.sequence.pad_sequences(raw_inputs,\n",
    "                                                       value=word_to_index['<PAD>'],\n",
    "                                                       padding='post',\n",
    "                                                       maxlen=5)\n",
    "output = embedding(raw_inputs)\n",
    "print(output)"
   ]
  },
  {
   "cell_type": "markdown",
   "id": "7060734b",
   "metadata": {},
   "source": [
    "- 위에서 output 의 shape 3,5,4 는 각각 문장수, 단어 길이, 임베딩 벡터의 차원수 를 의미한다."
   ]
  },
  {
   "cell_type": "markdown",
   "id": "2f7d52ff",
   "metadata": {},
   "source": [
    "### 1.3 LMS 따라하기_시퀀스 데이터, RNN\n",
    "> Recurrent Neural Network, 순환신경망으로 시퀀스 형태의 데이터 처리 최적의 모델.\n",
    "- 음성데이터, 문장 등\n",
    "- 새롭게 들어오는 입력에 따라 변하는 현재 상태를 묘사하는 state machine으로 설계되었다.\n"
   ]
  },
  {
   "cell_type": "code",
   "execution_count": 13,
   "id": "645b4904",
   "metadata": {},
   "outputs": [
    {
     "name": "stdout",
     "output_type": "stream",
     "text": [
      "Model: \"sequential\"\n",
      "_________________________________________________________________\n",
      "Layer (type)                 Output Shape              Param #   \n",
      "=================================================================\n",
      "embedding_2 (Embedding)      (None, None, 4)           40        \n",
      "_________________________________________________________________\n",
      "lstm (LSTM)                  (None, 8)                 416       \n",
      "_________________________________________________________________\n",
      "dense (Dense)                (None, 8)                 72        \n",
      "_________________________________________________________________\n",
      "dense_1 (Dense)              (None, 1)                 9         \n",
      "=================================================================\n",
      "Total params: 537\n",
      "Trainable params: 537\n",
      "Non-trainable params: 0\n",
      "_________________________________________________________________\n"
     ]
    }
   ],
   "source": [
    "# RNN 모델로 앞의 텍스트 데이터를 처리하는 예제코드\n",
    "vocab_size = 10  # 어휘 사전의 크기입니다(10개의 단어)\n",
    "word_vector_dim = 4  # 단어 하나를 표현하는 임베딩 벡터의 차원수입니다. \n",
    "\n",
    "model = tf.keras.Sequential()\n",
    "model.add(tf.keras.layers.Embedding(vocab_size, word_vector_dim, input_shape=(None,)))\n",
    "model.add(tf.keras.layers.LSTM(8))   # 가장 널리 쓰이는 RNN인 LSTM 레이어를 사용하였습니다. 이때 LSTM state 벡터의 차원수는 8로 하였습니다. (변경 가능)\n",
    "model.add(tf.keras.layers.Dense(8, activation='relu'))\n",
    "model.add(tf.keras.layers.Dense(1, activation='sigmoid'))  # 최종 출력은 긍정/부정을 나타내는 1dim 입니다.\n",
    "\n",
    "model.summary()"
   ]
  },
  {
   "cell_type": "markdown",
   "id": "4e29aff5",
   "metadata": {},
   "source": [
    "### 1.4 LMS 따라하기_CNN으로 텍스트 처리하기\n",
    "> 1-D CNN 으로 텍스트를 처리 할 수 있다.\n",
    "- 문장 전체를 한꺼분에 한 방향으로 길이 7짜리 필터로 스캔.\n",
    "- 7단어 이내의 특징을 추출, 문장을 분류하는 방식.\n",
    "- CNN 계열은 RNN 계열보다 병렬처리가 효율적이기 때문에 학습 속도도 훨씬 빠르다."
   ]
  },
  {
   "cell_type": "code",
   "execution_count": 15,
   "id": "ef607efd",
   "metadata": {},
   "outputs": [
    {
     "name": "stdout",
     "output_type": "stream",
     "text": [
      "Model: \"sequential_1\"\n",
      "_________________________________________________________________\n",
      "Layer (type)                 Output Shape              Param #   \n",
      "=================================================================\n",
      "embedding_3 (Embedding)      (None, None, 4)           40        \n",
      "_________________________________________________________________\n",
      "conv1d (Conv1D)              (None, None, 16)          464       \n",
      "_________________________________________________________________\n",
      "max_pooling1d (MaxPooling1D) (None, None, 16)          0         \n",
      "_________________________________________________________________\n",
      "conv1d_1 (Conv1D)            (None, None, 16)          1808      \n",
      "_________________________________________________________________\n",
      "global_max_pooling1d (Global (None, 16)                0         \n",
      "_________________________________________________________________\n",
      "dense_2 (Dense)              (None, 8)                 136       \n",
      "_________________________________________________________________\n",
      "dense_3 (Dense)              (None, 1)                 9         \n",
      "=================================================================\n",
      "Total params: 2,457\n",
      "Trainable params: 2,457\n",
      "Non-trainable params: 0\n",
      "_________________________________________________________________\n"
     ]
    }
   ],
   "source": [
    "# 1-D CNN 모델\n",
    "vocab_size = 10  # 어휘 사전의 크기입니다(10개의 단어)\n",
    "word_vector_dim = 4   # 단어 하나를 표현하는 임베딩 벡터의 차원 수입니다. \n",
    "\n",
    "model = tf.keras.Sequential()\n",
    "model.add(tf.keras.layers.Embedding(vocab_size, word_vector_dim, input_shape=(None,)))\n",
    "model.add(tf.keras.layers.Conv1D(16, 7, activation='relu'))\n",
    "model.add(tf.keras.layers.MaxPooling1D(5))\n",
    "model.add(tf.keras.layers.Conv1D(16, 7, activation='relu'))\n",
    "model.add(tf.keras.layers.GlobalMaxPooling1D())\n",
    "model.add(tf.keras.layers.Dense(8, activation='relu'))\n",
    "model.add(tf.keras.layers.Dense(1, activation='sigmoid'))  # 최종 출력은 긍정/부정을 나타내는 1dim 입니다.\n",
    "\n",
    "\n",
    "model.summary()"
   ]
  },
  {
   "cell_type": "code",
   "execution_count": 16,
   "id": "d8678bff",
   "metadata": {
    "scrolled": true
   },
   "outputs": [
    {
     "name": "stdout",
     "output_type": "stream",
     "text": [
      "Model: \"sequential_2\"\n",
      "_________________________________________________________________\n",
      "Layer (type)                 Output Shape              Param #   \n",
      "=================================================================\n",
      "embedding_4 (Embedding)      (None, None, 4)           40        \n",
      "_________________________________________________________________\n",
      "global_max_pooling1d_1 (Glob (None, 4)                 0         \n",
      "_________________________________________________________________\n",
      "dense_4 (Dense)              (None, 8)                 40        \n",
      "_________________________________________________________________\n",
      "dense_5 (Dense)              (None, 1)                 9         \n",
      "=================================================================\n",
      "Total params: 89\n",
      "Trainable params: 89\n",
      "Non-trainable params: 0\n",
      "_________________________________________________________________\n"
     ]
    }
   ],
   "source": [
    "# GlobalMaxPooling1D() 레이어 하나만 사용\n",
    "# 전체 문장 중에서 단 하나의 가장 중요한 단어만 피처로 추출 하여 긍정/부정 평가하는 방식.\n",
    "# 의외로 성능이 잘 나올 수도 있다.\n",
    "\n",
    "vocab_size = 10  # 어휘 사전의 크기입니다(10개의 단어)\n",
    "word_vector_dim = 4   # 단어 하나를 표현하는 임베딩 벡터의 차원 수입니다. \n",
    "\n",
    "model = tf.keras.Sequential()\n",
    "model.add(tf.keras.layers.Embedding(vocab_size, word_vector_dim, input_shape=(None,)))\n",
    "model.add(tf.keras.layers.GlobalMaxPooling1D())\n",
    "model.add(tf.keras.layers.Dense(8, activation='relu'))\n",
    "model.add(tf.keras.layers.Dense(1, activation='sigmoid'))  # 최종 출력은 긍정/부정을 나타내는 1dim 입니다.\n",
    "\n",
    "model.summary()"
   ]
  },
  {
   "cell_type": "markdown",
   "id": "9542597f",
   "metadata": {},
   "source": [
    "> 이 외에도 1-D CNN 과 RNN 을 섞어 사용한다거나, FNN(Feed Forward Network) 레이어만 으로 구성, Transformer 레이어 사용 등 다양한 시도가 가능하다."
   ]
  },
  {
   "cell_type": "markdown",
   "id": "012f50e1",
   "metadata": {},
   "source": [
    "### 2.1 IMDB 영화리뷰 감성분석_IMDB 데이터셋 분석\n",
    "> 5만개 영어, 영화리뷰 텍스트로 구성. 긍정 1, 부정 0 라벨. 2만5천개 훈련용, 2만5천개 테스트용. tf keras 에 포함."
   ]
  },
  {
   "cell_type": "code",
   "execution_count": 17,
   "id": "9d9a4973",
   "metadata": {},
   "outputs": [
    {
     "name": "stdout",
     "output_type": "stream",
     "text": [
      "Downloading data from https://storage.googleapis.com/tensorflow/tf-keras-datasets/imdb.npz\n",
      "17465344/17464789 [==============================] - 0s 0us/step\n",
      "17473536/17464789 [==============================] - 0s 0us/step\n",
      "훈련 샘플 개수: 25000, 테스트 개수: 25000\n"
     ]
    }
   ],
   "source": [
    "imdb = tf.keras.datasets.imdb\n",
    "\n",
    "# IMDb 데이터셋 다운로드 \n",
    "(x_train, y_train), (x_test, y_test) = imdb.load_data(num_words=10000)\n",
    "print(\"훈련 샘플 개수: {}, 테스트 개수: {}\".format(len(x_train), len(x_test)))"
   ]
  },
  {
   "cell_type": "markdown",
   "id": "7880eec1",
   "metadata": {},
   "source": [
    "- num_word = 1만 으로 load_data 하였다. 1만개 word_to_index 딕셔너리가 생성된 형태로 데이터 셋이 생성된다."
   ]
  },
  {
   "cell_type": "code",
   "execution_count": 18,
   "id": "e887de0f",
   "metadata": {
    "scrolled": true
   },
   "outputs": [
    {
     "name": "stdout",
     "output_type": "stream",
     "text": [
      "[1, 14, 22, 16, 43, 530, 973, 1622, 1385, 65, 458, 4468, 66, 3941, 4, 173, 36, 256, 5, 25, 100, 43, 838, 112, 50, 670, 2, 9, 35, 480, 284, 5, 150, 4, 172, 112, 167, 2, 336, 385, 39, 4, 172, 4536, 1111, 17, 546, 38, 13, 447, 4, 192, 50, 16, 6, 147, 2025, 19, 14, 22, 4, 1920, 4613, 469, 4, 22, 71, 87, 12, 16, 43, 530, 38, 76, 15, 13, 1247, 4, 22, 17, 515, 17, 12, 16, 626, 18, 2, 5, 62, 386, 12, 8, 316, 8, 106, 5, 4, 2223, 5244, 16, 480, 66, 3785, 33, 4, 130, 12, 16, 38, 619, 5, 25, 124, 51, 36, 135, 48, 25, 1415, 33, 6, 22, 12, 215, 28, 77, 52, 5, 14, 407, 16, 82, 2, 8, 4, 107, 117, 5952, 15, 256, 4, 2, 7, 3766, 5, 723, 36, 71, 43, 530, 476, 26, 400, 317, 46, 7, 4, 2, 1029, 13, 104, 88, 4, 381, 15, 297, 98, 32, 2071, 56, 26, 141, 6, 194, 7486, 18, 4, 226, 22, 21, 134, 476, 26, 480, 5, 144, 30, 5535, 18, 51, 36, 28, 224, 92, 25, 104, 4, 226, 65, 16, 38, 1334, 88, 12, 16, 283, 5, 16, 4472, 113, 103, 32, 15, 16, 5345, 19, 178, 32]\n",
      "라벨:  1\n",
      "1번째 리뷰 문장 길이:  218\n",
      "2번째 리뷰 문장 길이:  189\n"
     ]
    }
   ],
   "source": [
    "# 데이터 확인\n",
    "print(x_train[0])  # 1번째 리뷰데이터\n",
    "print('라벨: ', y_train[0])  # 1번째 리뷰데이터의 라벨\n",
    "print('1번째 리뷰 문장 길이: ', len(x_train[0]))\n",
    "print('2번째 리뷰 문장 길이: ', len(x_train[1]))"
   ]
  },
  {
   "cell_type": "markdown",
   "id": "562c750b",
   "metadata": {},
   "source": [
    "- 숫자로 encode 된 텍스트 데이터이다.\n",
    "- encode 되었으므로, IMDB는 딕셔너리와 함께 제공한다."
   ]
  },
  {
   "cell_type": "code",
   "execution_count": 19,
   "id": "eaaeb866",
   "metadata": {},
   "outputs": [
    {
     "name": "stdout",
     "output_type": "stream",
     "text": [
      "Downloading data from https://storage.googleapis.com/tensorflow/tf-keras-datasets/imdb_word_index.json\n",
      "1646592/1641221 [==============================] - 0s 0us/step\n",
      "1654784/1641221 [==============================] - 0s 0us/step\n",
      "the\n",
      "1\n"
     ]
    }
   ],
   "source": [
    "# 인코딩에 사용한 딕셔너리 받기.\n",
    "word_to_index = imdb.get_word_index() # word to index 받기\n",
    "index_to_word = {index:word for word, index in word_to_index.items()} #  index to word로 변환\n",
    "print(index_to_word[1])     # 'the' 가 출력됩니다. \n",
    "print(word_to_index['the'])  # 1 이 출력됩니다."
   ]
  },
  {
   "cell_type": "markdown",
   "id": "53f1b1d7",
   "metadata": {},
   "source": [
    "- tf 튜토리얼 가이드에 맞게 보정.\n",
    "- word_to_index는 IMDB 텍스트 데이터셋의 단어 출현 빈도 기준으로 내림차순 정렬되어 있다."
   ]
  },
  {
   "cell_type": "code",
   "execution_count": 23,
   "id": "e24b0588",
   "metadata": {},
   "outputs": [
    {
     "name": "stdout",
     "output_type": "stream",
     "text": [
      "<BOS>\n",
      "4\n",
      "the\n"
     ]
    }
   ],
   "source": [
    "#실제 인코딩 인덱스는 제공된 word_to_index에서 index 기준으로 3씩 뒤로 밀려 있습니다.  \n",
    "word_to_index = {k:(v+3) for k,v in word_to_index.items()}\n",
    "\n",
    "# 처음 몇 개 인덱스는 사전에 정의되어 있습니다\n",
    "word_to_index[\"<PAD>\"] = 0\n",
    "word_to_index[\"<BOS>\"] = 1\n",
    "word_to_index[\"<UNK>\"] = 2  # unknown\n",
    "word_to_index[\"<UNUSED>\"] = 3\n",
    "\n",
    "index_to_word = {index:word for word, index in word_to_index.items()}\n",
    "\n",
    "print(index_to_word[1])     # '<BOS>' 가 출력됩니다. \n",
    "print(word_to_index['the'])  # 4 이 출력됩니다. \n",
    "print(index_to_word[4])     # 'the' 가 출력됩니다."
   ]
  },
  {
   "cell_type": "code",
   "execution_count": 24,
   "id": "234e2f6c",
   "metadata": {
    "scrolled": true
   },
   "outputs": [
    {
     "name": "stdout",
     "output_type": "stream",
     "text": [
      "this film was just brilliant casting location scenery story direction everyone's really suited the part they played and you could just imagine being there robert <UNK> is an amazing actor and now the same being director <UNK> father came from the same scottish island as myself so i loved the fact there was a real connection with this film the witty remarks throughout the film were great it was just brilliant so much that i bought the film as soon as it was released for <UNK> and would recommend it to everyone to watch and the fly fishing was amazing really cried at the end it was so sad and you know what they say if you cry at a film it must have been good and this definitely was also <UNK> to the two little boy's that played the <UNK> of norman and paul they were just brilliant children are often left out of the <UNK> list i think because the stars that play them all grown up are such a big profile for the whole film but these children are amazing and should be praised for what they have done don't you think the whole story was so lovely because it was true and was someone's life after all that was shared with us all\n",
      "라벨 :  1\n"
     ]
    }
   ],
   "source": [
    "# decode 가 정상적으로 작동하는지 확인\n",
    "print(get_decoded_sentence(x_train[0], index_to_word))\n",
    "print('라벨 : ', y_train[0])"
   ]
  },
  {
   "cell_type": "markdown",
   "id": "1d33c22c",
   "metadata": {},
   "source": [
    "- pad_sequences 로 문장길이를 통일 하자.\n",
    "- 문장의 최대 길이, maxlen 값 또한, 전체 모델의 성능에 영향을 미친다.\n",
    "- 적절한 길이를 찾기 위해서 전체데이터셋의 분포를 확인하자"
   ]
  },
  {
   "cell_type": "code",
   "execution_count": 25,
   "id": "59d4cadd",
   "metadata": {},
   "outputs": [
    {
     "name": "stdout",
     "output_type": "stream",
     "text": [
      "문장길이 평균 :  234.75892\n",
      "문장길이 최대 :  2494\n",
      "문장길이 표준편차 :  172.91149458735703\n",
      "pad_sequences maxlen :  580\n",
      "전체 문장의 0.94536%가 maxlen 설정값 이내에 포함됩니다. \n"
     ]
    }
   ],
   "source": [
    "total_data_text = list(x_train) + list(x_test) # 전체 문장을 담는다. \n",
    "# 텍스트 데이터 문장길이의 리스트를 생성한 후 \n",
    "num_tokens = [len(tokens) for tokens in total_data_text] #전체 문장에서 각 문장의 길이를 담은 리스트 생성.\n",
    "num_tokens = np.array(num_tokens) # np 연산을 위해, np.array로 변환.\n",
    "\n",
    "# 문장길이의 편균, max, 표준편차를 계산.\n",
    "print('문장길이 평균 : ', np.mean(num_tokens))\n",
    "print('문장길이 최대 : ', np.max(num_tokens))\n",
    "print('문장길이 표준편차 : ', np.std(num_tokens))\n",
    "\n",
    "\n",
    "# 예를들어, 최대 길이를 (평균 + 2*표준편차)로 한다면,  \n",
    "max_tokens = np.mean(num_tokens) + 2 * np.std(num_tokens)\n",
    "maxlen = int(max_tokens)\n",
    "print('pad_sequences maxlen : ', maxlen)\n",
    "print('전체 문장의 {}%가 maxlen 설정값 이내에 포함됩니다. '.format(np.sum(num_tokens < max_tokens) / len(num_tokens)))"
   ]
  },
  {
   "cell_type": "code",
   "execution_count": 36,
   "id": "0a1e3146",
   "metadata": {},
   "outputs": [
    {
     "data": {
      "image/png": "[encoded data removed]",
      "text/plain": [
       "<Figure size 432x288 with 1 Axes>"
      ]
     },
     "metadata": {
      "needs_background": "light"
     },
     "output_type": "display_data"
    }
   ],
   "source": [
    "# 히스토 그램으로 문장길이 분포 시각화\n",
    "from matplotlib import pyplot as plt \n",
    "\n",
    "plt.hist(num_tokens, bins = 80) \n",
    "plt.title(\"histogram\") \n",
    "plt.xlabel('# words') \n",
    "plt.ylabel('# sentences')\n",
    "plt.show()"
   ]
  },
  {
   "cell_type": "markdown",
   "id": "d6c12670",
   "metadata": {},
   "source": [
    "- maxlen을 580으로 적용하자.\n",
    "- 패딩방식(post/뒤, pre/앞)에 따라 성능차이가 발생한다. 직접 결과를 비교해 보자.\n"
   ]
  },
  {
   "cell_type": "code",
   "execution_count": 37,
   "id": "ccf80185",
   "metadata": {},
   "outputs": [
    {
     "name": "stdout",
     "output_type": "stream",
     "text": [
      "(25000, 580)\n"
     ]
    }
   ],
   "source": [
    "# 훈련셋과 테스트 셋에 maxlen으로 자르고, 패팅을 주자.\n",
    "x_train = tf.keras.preprocessing.sequence.pad_sequences(x_train,\n",
    "                                                        value=word_to_index[\"<PAD>\"],\n",
    "                                                        padding='post', # 혹은 'pre'\n",
    "                                                        maxlen=maxlen)\n",
    "\n",
    "x_test = tf.keras.preprocessing.sequence.pad_sequences(x_test,\n",
    "                                                       value=word_to_index[\"<PAD>\"],\n",
    "                                                       padding='post', # 혹은 'pre'\n",
    "                                                       maxlen=maxlen)\n",
    "\n",
    "print(x_train.shape)"
   ]
  },
  {
   "cell_type": "markdown",
   "id": "42c3b93e",
   "metadata": {},
   "source": [
    "***\n",
    "[패딩 post 와 pre 중 무엇이 유리할까?]\n",
    "> RNN 은 입력데이터가 순차적으로 처리된다. 따라서 마지막 입력이 최정 state 값에 가장 많은 영향을 미치게 된다. 그러므로 마지막 입력이 무의미한 패딩으로 채워지는 것은 비효율적이다. 결론적으로 'pre' 패딩이 훨씬 유리하며, 10% 이상 테스트 성능 차이를 보이게 된다."
   ]
  },
  {
   "cell_type": "markdown",
   "id": "fe5ab282",
   "metadata": {},
   "source": [
    "### 2.2 IMDB 영화리뷰 감성분석_딥러닝 모델 설계와 훈련\n",
    "> RNN 모델을 설계하자"
   ]
  },
  {
   "cell_type": "code",
   "execution_count": 38,
   "id": "90a225fa",
   "metadata": {},
   "outputs": [
    {
     "name": "stdout",
     "output_type": "stream",
     "text": [
      "Model: \"sequential_3\"\n",
      "_________________________________________________________________\n",
      "Layer (type)                 Output Shape              Param #   \n",
      "=================================================================\n",
      "embedding_5 (Embedding)      (None, None, 16)          160000    \n",
      "_________________________________________________________________\n",
      "lstm_1 (LSTM)                (None, 8)                 800       \n",
      "_________________________________________________________________\n",
      "dense_6 (Dense)              (None, 8)                 72        \n",
      "_________________________________________________________________\n",
      "dense_7 (Dense)              (None, 1)                 9         \n",
      "=================================================================\n",
      "Total params: 160,881\n",
      "Trainable params: 160,881\n",
      "Non-trainable params: 0\n",
      "_________________________________________________________________\n"
     ]
    }
   ],
   "source": [
    "vocab_size = 10000    # 어휘 사전의 크기입니다(10,000개의 단어)\n",
    "word_vector_dim = 16  # 워드 벡터의 차원 수 (변경 가능한 하이퍼파라미터)\n",
    "\n",
    "# model 설계 - 딥러닝 모델 코드를 직접 작성해 주세요.\n",
    "model = tf.keras.Sequential()\n",
    "model.add(tf.keras.layers.Embedding(vocab_size, word_vector_dim, input_shape=(None,)))\n",
    "model.add(tf.keras.layers.LSTM(8))# state 벡터 차원서 8, 변경가능\n",
    "model.add(tf.keras.layers.Dense(8, activation='relu'))\n",
    "model.add(tf.keras.layers.Dense(1, activation='sigmoid'))#최종 출력은 긍정/부정을 나타내는 1dim 입니다.\n",
    "model.summary()"
   ]
  },
  {
   "cell_type": "markdown",
   "id": "83a0b587",
   "metadata": {},
   "source": [
    "- 훈련데이터 2만5천중 1만건을 검증셋으로 분리하자.\n",
    "- 적절한 검증셋은 몇개 일지 고민해보자."
   ]
  },
  {
   "cell_type": "code",
   "execution_count": 39,
   "id": "f793bc36",
   "metadata": {},
   "outputs": [
    {
     "name": "stdout",
     "output_type": "stream",
     "text": [
      "(15000, 580)\n",
      "(15000,)\n"
     ]
    }
   ],
   "source": [
    "# validation set 10000건 분리\n",
    "x_val = x_train[:10000]   \n",
    "y_val = y_train[:10000]\n",
    "\n",
    "# validation set을 제외한 나머지 15000건\n",
    "partial_x_train = x_train[10000:]  \n",
    "partial_y_train = y_train[10000:]\n",
    "\n",
    "print(partial_x_train.shape)\n",
    "print(partial_y_train.shape)"
   ]
  },
  {
   "cell_type": "markdown",
   "id": "5c5869e2",
   "metadata": {},
   "source": [
    "- 모델 학습하기"
   ]
  },
  {
   "cell_type": "code",
   "execution_count": 40,
   "id": "52f66620",
   "metadata": {},
   "outputs": [
    {
     "name": "stdout",
     "output_type": "stream",
     "text": [
      "Epoch 1/20\n",
      "30/30 [==============================] - 21s 48ms/step - loss: 0.6931 - accuracy: 0.5075 - val_loss: 0.6932 - val_accuracy: 0.5010\n",
      "Epoch 2/20\n",
      "30/30 [==============================] - 1s 30ms/step - loss: 0.6928 - accuracy: 0.5113 - val_loss: 0.6930 - val_accuracy: 0.5011\n",
      "Epoch 3/20\n",
      "30/30 [==============================] - 1s 29ms/step - loss: 0.6924 - accuracy: 0.5125 - val_loss: 0.6929 - val_accuracy: 0.5016\n",
      "Epoch 4/20\n",
      "30/30 [==============================] - 1s 30ms/step - loss: 0.6914 - accuracy: 0.5161 - val_loss: 0.6926 - val_accuracy: 0.5024\n",
      "Epoch 5/20\n",
      "30/30 [==============================] - 1s 30ms/step - loss: 0.6877 - accuracy: 0.5171 - val_loss: 0.6908 - val_accuracy: 0.5063\n",
      "Epoch 6/20\n",
      "30/30 [==============================] - 1s 29ms/step - loss: 0.6800 - accuracy: 0.5304 - val_loss: 0.6901 - val_accuracy: 0.5093\n",
      "Epoch 7/20\n",
      "30/30 [==============================] - 1s 30ms/step - loss: 0.6757 - accuracy: 0.5343 - val_loss: 0.6892 - val_accuracy: 0.5106\n",
      "Epoch 8/20\n",
      "30/30 [==============================] - 1s 29ms/step - loss: 0.6683 - accuracy: 0.5367 - val_loss: 0.6885 - val_accuracy: 0.5122\n",
      "Epoch 9/20\n",
      "30/30 [==============================] - 1s 29ms/step - loss: 0.6596 - accuracy: 0.5621 - val_loss: 1.2906 - val_accuracy: 0.5144\n",
      "Epoch 10/20\n",
      "30/30 [==============================] - 1s 29ms/step - loss: 0.7135 - accuracy: 0.5373 - val_loss: 0.6983 - val_accuracy: 0.5029\n",
      "Epoch 11/20\n",
      "30/30 [==============================] - 1s 29ms/step - loss: 0.6741 - accuracy: 0.5298 - val_loss: 0.6873 - val_accuracy: 0.5085\n",
      "Epoch 12/20\n",
      "30/30 [==============================] - 1s 29ms/step - loss: 0.6675 - accuracy: 0.5353 - val_loss: 0.6876 - val_accuracy: 0.5108\n",
      "Epoch 13/20\n",
      "30/30 [==============================] - 1s 30ms/step - loss: 0.6651 - accuracy: 0.5358 - val_loss: 0.6881 - val_accuracy: 0.5118\n",
      "Epoch 14/20\n",
      "30/30 [==============================] - 1s 29ms/step - loss: 0.6632 - accuracy: 0.5367 - val_loss: 0.6880 - val_accuracy: 0.5126\n",
      "Epoch 15/20\n",
      "30/30 [==============================] - 1s 30ms/step - loss: 0.6617 - accuracy: 0.5370 - val_loss: 0.6881 - val_accuracy: 0.5124\n",
      "Epoch 16/20\n",
      "30/30 [==============================] - 1s 29ms/step - loss: 0.6602 - accuracy: 0.5371 - val_loss: 0.6883 - val_accuracy: 0.5125\n",
      "Epoch 17/20\n",
      "30/30 [==============================] - 1s 29ms/step - loss: 0.6588 - accuracy: 0.5372 - val_loss: 0.6897 - val_accuracy: 0.5127\n",
      "Epoch 18/20\n",
      "30/30 [==============================] - 1s 30ms/step - loss: 0.6573 - accuracy: 0.5373 - val_loss: 0.6918 - val_accuracy: 0.5125\n",
      "Epoch 19/20\n",
      "30/30 [==============================] - 1s 29ms/step - loss: 0.6562 - accuracy: 0.5373 - val_loss: 0.6931 - val_accuracy: 0.5130\n",
      "Epoch 20/20\n",
      "30/30 [==============================] - 1s 29ms/step - loss: 0.6552 - accuracy: 0.5374 - val_loss: 0.6957 - val_accuracy: 0.5133\n"
     ]
    }
   ],
   "source": [
    "# 옵티마이저 아담, 로스함수는 2진 분류이므로 바이너리 크로스엔트로피 사용.\n",
    "model.compile(optimizer='adam',\n",
    "              loss='binary_crossentropy',\n",
    "              metrics=['accuracy'])\n",
    "              \n",
    "epochs=20  # 몇 epoch를 훈련하면 좋을지 결과를 보면서 바꾸어 봅시다. \n",
    "\n",
    "history = model.fit(partial_x_train,\n",
    "                    partial_y_train,\n",
    "                    epochs=epochs,\n",
    "                    batch_size=512,\n",
    "                    validation_data=(x_val, y_val),\n",
    "                    verbose=1)"
   ]
  },
  {
   "cell_type": "markdown",
   "id": "f734ed21",
   "metadata": {},
   "source": [
    "- 학습이 끝났다. 테스트 셋으로 평가해 보자."
   ]
  },
  {
   "cell_type": "code",
   "execution_count": 41,
   "id": "3355cd35",
   "metadata": {},
   "outputs": [
    {
     "name": "stdout",
     "output_type": "stream",
     "text": [
      "782/782 - 5s - loss: 0.6972 - accuracy: 0.5146\n",
      "[0.6972497701644897, 0.5146399736404419]\n"
     ]
    }
   ],
   "source": [
    "results = model.evaluate(x_test,  y_test, verbose=2)\n",
    "\n",
    "print(results)"
   ]
  },
  {
   "cell_type": "markdown",
   "id": "cb09a616",
   "metadata": {},
   "source": [
    "- 0.5146 의 정확도\n",
    "- history.history 에 훈련셋 검증셋의 매 에폭 마다 loss와 acc 등 이 저장되어있다.\n",
    "- 그래프로 그려, 학습이 잘되었는지, 오버피딩, 언더피팅 등을 파악하여 성능 개선을 위한 아이디어를 얻을 수 있다."
   ]
  },
  {
   "cell_type": "code",
   "execution_count": 42,
   "id": "ef5b644e",
   "metadata": {},
   "outputs": [
    {
     "name": "stdout",
     "output_type": "stream",
     "text": [
      "dict_keys(['loss', 'accuracy', 'val_loss', 'val_accuracy'])\n"
     ]
    }
   ],
   "source": [
    "history_dict = history.history\n",
    "print(history_dict.keys()) # epoch에 따른 그래프를 그려볼 수 있는 항목들"
   ]
  },
  {
   "cell_type": "code",
   "execution_count": 43,
   "id": "81893e91",
   "metadata": {},
   "outputs": [
    {
     "data": {
      "image/png": "[encoded data removed]",
      "text/plain": [
       "<Figure size 432x288 with 1 Axes>"
      ]
     },
     "metadata": {
      "needs_background": "light"
     },
     "output_type": "display_data"
    }
   ],
   "source": [
    "import matplotlib.pyplot as plt\n",
    "\n",
    "acc = history_dict['accuracy']\n",
    "val_acc = history_dict['val_accuracy']\n",
    "loss = history_dict['loss']\n",
    "val_loss = history_dict['val_loss']\n",
    "\n",
    "epochs = range(1, len(acc) + 1)\n",
    "\n",
    "# \"bo\"는 \"파란색 점\"입니다\n",
    "plt.plot(epochs, loss, 'bo', label='Training loss')\n",
    "# b는 \"파란 실선\"입니다\n",
    "plt.plot(epochs, val_loss, 'b', label='Validation loss')\n",
    "plt.title('Training and validation loss')\n",
    "plt.xlabel('Epochs')\n",
    "plt.ylabel('Loss')\n",
    "plt.legend()\n",
    "\n",
    "plt.show()"
   ]
  },
  {
   "cell_type": "markdown",
   "id": "0c9aeb19",
   "metadata": {},
   "source": [
    "- loss 를 통해 몇 에폿 까지의 학습이 적절한지 최적점을 추정할 수 있다.\n",
    "- val_loss와 loss 의 이격이 발생하면 더 이상 학습이 무의미 하다."
   ]
  },
  {
   "cell_type": "code",
   "execution_count": 44,
   "id": "46a2b233",
   "metadata": {
    "scrolled": true
   },
   "outputs": [
    {
     "data": {
      "image/png": "[encoded data removed]",
      "text/plain": [
       "<Figure size 432x288 with 1 Axes>"
      ]
     },
     "metadata": {
      "needs_background": "light"
     },
     "output_type": "display_data"
    }
   ],
   "source": [
    "plt.clf()   # 그림을 초기화합니다\n",
    "\n",
    "plt.plot(epochs, acc, 'bo', label='Training acc')\n",
    "plt.plot(epochs, val_acc, 'b', label='Validation acc')\n",
    "plt.title('Training and validation accuracy')\n",
    "plt.xlabel('Epochs')\n",
    "plt.ylabel('Accuracy')\n",
    "plt.legend()\n",
    "\n",
    "plt.show()"
   ]
  },
  {
   "cell_type": "markdown",
   "id": "3ffad384",
   "metadata": {},
   "source": [
    "***\n",
    " 상기 훈련에서 성능이 좋지 못했다. 에폭을 100까지 증가해보자\n",
    "***"
   ]
  },
  {
   "cell_type": "code",
   "execution_count": 46,
   "id": "f1f92e6a",
   "metadata": {
    "scrolled": true
   },
   "outputs": [
    {
     "name": "stdout",
     "output_type": "stream",
     "text": [
      "Epoch 1/100\n",
      "30/30 [==============================] - 3s 45ms/step - loss: 0.6544 - accuracy: 0.5307 - val_loss: 0.7011 - val_accuracy: 0.5134\n",
      "Epoch 2/100\n",
      "30/30 [==============================] - 1s 29ms/step - loss: 0.6532 - accuracy: 0.5373 - val_loss: 0.7067 - val_accuracy: 0.5127\n",
      "Epoch 3/100\n",
      "30/30 [==============================] - 1s 29ms/step - loss: 0.6522 - accuracy: 0.5338 - val_loss: 0.7068 - val_accuracy: 0.5150\n",
      "Epoch 4/100\n",
      "30/30 [==============================] - 1s 29ms/step - loss: 0.6515 - accuracy: 0.5339 - val_loss: 0.7120 - val_accuracy: 0.5123\n",
      "Epoch 5/100\n",
      "30/30 [==============================] - 1s 29ms/step - loss: 0.6519 - accuracy: 0.5325 - val_loss: 0.7113 - val_accuracy: 0.5105\n",
      "Epoch 6/100\n",
      "30/30 [==============================] - 1s 29ms/step - loss: 0.6511 - accuracy: 0.5270 - val_loss: 0.7185 - val_accuracy: 0.5105\n",
      "Epoch 7/100\n",
      "30/30 [==============================] - 1s 29ms/step - loss: 0.6501 - accuracy: 0.5384 - val_loss: 0.7255 - val_accuracy: 0.5111\n",
      "Epoch 8/100\n",
      "30/30 [==============================] - 1s 29ms/step - loss: 0.6496 - accuracy: 0.5385 - val_loss: 0.7277 - val_accuracy: 0.5101\n",
      "Epoch 9/100\n",
      "30/30 [==============================] - 1s 29ms/step - loss: 0.6492 - accuracy: 0.5386 - val_loss: 0.7337 - val_accuracy: 0.5107\n",
      "Epoch 10/100\n",
      "30/30 [==============================] - 1s 30ms/step - loss: 0.6489 - accuracy: 0.5386 - val_loss: 0.7355 - val_accuracy: 0.5099\n",
      "Epoch 11/100\n",
      "30/30 [==============================] - 1s 29ms/step - loss: 0.6486 - accuracy: 0.5387 - val_loss: 0.7411 - val_accuracy: 0.5101\n",
      "Epoch 12/100\n",
      "30/30 [==============================] - 1s 29ms/step - loss: 0.6484 - accuracy: 0.5386 - val_loss: 0.7426 - val_accuracy: 0.5100\n",
      "Epoch 13/100\n",
      "30/30 [==============================] - 1s 29ms/step - loss: 0.6483 - accuracy: 0.5387 - val_loss: 0.7491 - val_accuracy: 0.5102\n",
      "Epoch 14/100\n",
      "30/30 [==============================] - 1s 28ms/step - loss: 0.6481 - accuracy: 0.5387 - val_loss: 0.7480 - val_accuracy: 0.5090\n",
      "Epoch 15/100\n",
      "30/30 [==============================] - 1s 28ms/step - loss: 0.6477 - accuracy: 0.5388 - val_loss: 0.7607 - val_accuracy: 0.5093\n",
      "Epoch 16/100\n",
      "30/30 [==============================] - 1s 29ms/step - loss: 0.6517 - accuracy: 0.5377 - val_loss: 0.7433 - val_accuracy: 0.5092\n",
      "Epoch 17/100\n",
      "30/30 [==============================] - 1s 29ms/step - loss: 0.6493 - accuracy: 0.5383 - val_loss: 0.7519 - val_accuracy: 0.5104\n",
      "Epoch 18/100\n",
      "30/30 [==============================] - 1s 28ms/step - loss: 0.6478 - accuracy: 0.5394 - val_loss: 0.7530 - val_accuracy: 0.5103\n",
      "Epoch 19/100\n",
      "30/30 [==============================] - 1s 28ms/step - loss: 0.6475 - accuracy: 0.5387 - val_loss: 0.7558 - val_accuracy: 0.5098\n",
      "Epoch 20/100\n",
      "30/30 [==============================] - 1s 28ms/step - loss: 0.6473 - accuracy: 0.5391 - val_loss: 0.7564 - val_accuracy: 0.5087\n",
      "Epoch 21/100\n",
      "30/30 [==============================] - 1s 28ms/step - loss: 0.6472 - accuracy: 0.5398 - val_loss: 0.7565 - val_accuracy: 0.5094\n",
      "Epoch 22/100\n",
      "30/30 [==============================] - 1s 29ms/step - loss: 0.6471 - accuracy: 0.5393 - val_loss: 0.7630 - val_accuracy: 0.5096\n",
      "Epoch 23/100\n",
      "30/30 [==============================] - 1s 29ms/step - loss: 0.6470 - accuracy: 0.5399 - val_loss: 0.7663 - val_accuracy: 0.5087\n",
      "Epoch 24/100\n",
      "30/30 [==============================] - 1s 29ms/step - loss: 0.6470 - accuracy: 0.5401 - val_loss: 0.7673 - val_accuracy: 0.5088\n",
      "Epoch 25/100\n",
      "30/30 [==============================] - 1s 29ms/step - loss: 0.6470 - accuracy: 0.5405 - val_loss: 0.7672 - val_accuracy: 0.5073\n",
      "Epoch 26/100\n",
      "30/30 [==============================] - 1s 30ms/step - loss: 0.6470 - accuracy: 0.5407 - val_loss: 0.7715 - val_accuracy: 0.5100\n",
      "Epoch 27/100\n",
      "30/30 [==============================] - 1s 29ms/step - loss: 0.6469 - accuracy: 0.5414 - val_loss: 0.7745 - val_accuracy: 0.5089\n",
      "Epoch 28/100\n",
      "30/30 [==============================] - 1s 29ms/step - loss: 0.6469 - accuracy: 0.5407 - val_loss: 0.7763 - val_accuracy: 0.5099\n",
      "Epoch 29/100\n",
      "30/30 [==============================] - 1s 29ms/step - loss: 0.6469 - accuracy: 0.5397 - val_loss: 0.7795 - val_accuracy: 0.5088\n",
      "Epoch 30/100\n",
      "30/30 [==============================] - 1s 29ms/step - loss: 0.6474 - accuracy: 0.5390 - val_loss: 0.7755 - val_accuracy: 0.5097\n",
      "Epoch 31/100\n",
      "30/30 [==============================] - 1s 29ms/step - loss: 0.6472 - accuracy: 0.5391 - val_loss: 0.7758 - val_accuracy: 0.5089\n",
      "Epoch 32/100\n",
      "30/30 [==============================] - 1s 28ms/step - loss: 0.6479 - accuracy: 0.5400 - val_loss: 0.7843 - val_accuracy: 0.5097\n",
      "Epoch 33/100\n",
      "30/30 [==============================] - 1s 29ms/step - loss: 0.6477 - accuracy: 0.5394 - val_loss: 0.7786 - val_accuracy: 0.5103\n",
      "Epoch 34/100\n",
      "30/30 [==============================] - 1s 29ms/step - loss: 0.6471 - accuracy: 0.5398 - val_loss: 0.7735 - val_accuracy: 0.5096\n",
      "Epoch 35/100\n",
      "30/30 [==============================] - 1s 29ms/step - loss: 0.6469 - accuracy: 0.5413 - val_loss: 0.7783 - val_accuracy: 0.5097\n",
      "Epoch 36/100\n",
      "30/30 [==============================] - 1s 29ms/step - loss: 0.6469 - accuracy: 0.5404 - val_loss: 0.7766 - val_accuracy: 0.5099\n",
      "Epoch 37/100\n",
      "30/30 [==============================] - 1s 29ms/step - loss: 0.6470 - accuracy: 0.5394 - val_loss: 0.7890 - val_accuracy: 0.5101\n",
      "Epoch 38/100\n",
      "30/30 [==============================] - 1s 30ms/step - loss: 0.6471 - accuracy: 0.5393 - val_loss: 0.7761 - val_accuracy: 0.5089\n",
      "Epoch 39/100\n",
      "30/30 [==============================] - 1s 29ms/step - loss: 0.6470 - accuracy: 0.5414 - val_loss: 0.7798 - val_accuracy: 0.5088\n",
      "Epoch 40/100\n",
      "30/30 [==============================] - 1s 29ms/step - loss: 0.6469 - accuracy: 0.5420 - val_loss: 0.7821 - val_accuracy: 0.5091\n",
      "Epoch 41/100\n",
      "30/30 [==============================] - 1s 29ms/step - loss: 0.6469 - accuracy: 0.5410 - val_loss: 0.7844 - val_accuracy: 0.5095\n",
      "Epoch 42/100\n",
      "30/30 [==============================] - 1s 29ms/step - loss: 0.6470 - accuracy: 0.5400 - val_loss: 0.7781 - val_accuracy: 0.5089\n",
      "Epoch 43/100\n",
      "30/30 [==============================] - 1s 29ms/step - loss: 0.6471 - accuracy: 0.5408 - val_loss: 0.7844 - val_accuracy: 0.5075\n",
      "Epoch 44/100\n",
      "30/30 [==============================] - 1s 29ms/step - loss: 0.6473 - accuracy: 0.5395 - val_loss: 0.7906 - val_accuracy: 0.5103\n",
      "Epoch 45/100\n",
      "30/30 [==============================] - 1s 30ms/step - loss: 0.6470 - accuracy: 0.5411 - val_loss: 0.7800 - val_accuracy: 0.5095\n",
      "Epoch 46/100\n",
      "30/30 [==============================] - 1s 29ms/step - loss: 0.6470 - accuracy: 0.5391 - val_loss: 0.7861 - val_accuracy: 0.5089\n",
      "Epoch 47/100\n",
      "30/30 [==============================] - 1s 29ms/step - loss: 0.6469 - accuracy: 0.5392 - val_loss: 0.7913 - val_accuracy: 0.5103\n",
      "Epoch 48/100\n",
      "30/30 [==============================] - 1s 29ms/step - loss: 0.6472 - accuracy: 0.5395 - val_loss: 0.7835 - val_accuracy: 0.5091\n",
      "Epoch 49/100\n",
      "30/30 [==============================] - 1s 29ms/step - loss: 0.6468 - accuracy: 0.5417 - val_loss: 0.7852 - val_accuracy: 0.5089\n",
      "Epoch 50/100\n",
      "30/30 [==============================] - 1s 29ms/step - loss: 0.6469 - accuracy: 0.5390 - val_loss: 0.7928 - val_accuracy: 0.5100\n",
      "Epoch 51/100\n",
      "30/30 [==============================] - 1s 29ms/step - loss: 0.6468 - accuracy: 0.5419 - val_loss: 0.7873 - val_accuracy: 0.5092\n",
      "Epoch 52/100\n",
      "30/30 [==============================] - 1s 29ms/step - loss: 0.6468 - accuracy: 0.5423 - val_loss: 0.7966 - val_accuracy: 0.5105\n",
      "Epoch 53/100\n",
      "30/30 [==============================] - 1s 29ms/step - loss: 0.6468 - accuracy: 0.5410 - val_loss: 0.7861 - val_accuracy: 0.5108\n",
      "Epoch 54/100\n",
      "30/30 [==============================] - 1s 29ms/step - loss: 0.6468 - accuracy: 0.5419 - val_loss: 0.7897 - val_accuracy: 0.5086\n",
      "Epoch 55/100\n",
      "30/30 [==============================] - 1s 29ms/step - loss: 0.6468 - accuracy: 0.5392 - val_loss: 0.8005 - val_accuracy: 0.5097\n",
      "Epoch 56/100\n",
      "30/30 [==============================] - 1s 29ms/step - loss: 0.6468 - accuracy: 0.5407 - val_loss: 0.7950 - val_accuracy: 0.5079\n",
      "Epoch 57/100\n",
      "30/30 [==============================] - 1s 29ms/step - loss: 0.6468 - accuracy: 0.5421 - val_loss: 0.7957 - val_accuracy: 0.5086\n",
      "Epoch 58/100\n",
      "30/30 [==============================] - 1s 29ms/step - loss: 0.6468 - accuracy: 0.5408 - val_loss: 0.8100 - val_accuracy: 0.5098\n",
      "Epoch 59/100\n",
      "30/30 [==============================] - 1s 29ms/step - loss: 0.6468 - accuracy: 0.5403 - val_loss: 0.8065 - val_accuracy: 0.5093\n",
      "Epoch 60/100\n",
      "30/30 [==============================] - 1s 29ms/step - loss: 0.6467 - accuracy: 0.5423 - val_loss: 0.8082 - val_accuracy: 0.5088\n",
      "Epoch 61/100\n",
      "30/30 [==============================] - 1s 29ms/step - loss: 0.6468 - accuracy: 0.5423 - val_loss: 0.8062 - val_accuracy: 0.5092\n",
      "Epoch 62/100\n",
      "30/30 [==============================] - 1s 29ms/step - loss: 0.6467 - accuracy: 0.5417 - val_loss: 0.8105 - val_accuracy: 0.5095\n",
      "Epoch 63/100\n",
      "30/30 [==============================] - 1s 29ms/step - loss: 0.6468 - accuracy: 0.5402 - val_loss: 0.8063 - val_accuracy: 0.5087\n",
      "Epoch 64/100\n",
      "30/30 [==============================] - 1s 28ms/step - loss: 0.6468 - accuracy: 0.5438 - val_loss: 0.8066 - val_accuracy: 0.5079\n",
      "Epoch 65/100\n",
      "30/30 [==============================] - 1s 29ms/step - loss: 0.6467 - accuracy: 0.5424 - val_loss: 0.8054 - val_accuracy: 0.5072\n",
      "Epoch 66/100\n",
      "30/30 [==============================] - 1s 29ms/step - loss: 0.6468 - accuracy: 0.5404 - val_loss: 0.8107 - val_accuracy: 0.5072\n",
      "Epoch 67/100\n",
      "30/30 [==============================] - 1s 29ms/step - loss: 0.6470 - accuracy: 0.5398 - val_loss: 0.7986 - val_accuracy: 0.5087\n",
      "Epoch 68/100\n",
      "30/30 [==============================] - 1s 29ms/step - loss: 0.6468 - accuracy: 0.5401 - val_loss: 0.8027 - val_accuracy: 0.5084\n",
      "Epoch 69/100\n",
      "30/30 [==============================] - 1s 29ms/step - loss: 0.6468 - accuracy: 0.5421 - val_loss: 0.8065 - val_accuracy: 0.5079\n",
      "Epoch 70/100\n",
      "30/30 [==============================] - 1s 28ms/step - loss: 0.6467 - accuracy: 0.5411 - val_loss: 0.8126 - val_accuracy: 0.5091\n",
      "Epoch 71/100\n",
      "30/30 [==============================] - 1s 29ms/step - loss: 0.6467 - accuracy: 0.5419 - val_loss: 0.8161 - val_accuracy: 0.5094\n",
      "Epoch 72/100\n",
      "30/30 [==============================] - 1s 28ms/step - loss: 0.6468 - accuracy: 0.5433 - val_loss: 0.8076 - val_accuracy: 0.5072\n",
      "Epoch 73/100\n",
      "30/30 [==============================] - 1s 29ms/step - loss: 0.6468 - accuracy: 0.5417 - val_loss: 0.8171 - val_accuracy: 0.5073\n",
      "Epoch 74/100\n",
      "30/30 [==============================] - 1s 29ms/step - loss: 0.6467 - accuracy: 0.5432 - val_loss: 0.8159 - val_accuracy: 0.5094\n",
      "Epoch 75/100\n",
      "30/30 [==============================] - 1s 29ms/step - loss: 0.6467 - accuracy: 0.5422 - val_loss: 0.8095 - val_accuracy: 0.5093\n",
      "Epoch 76/100\n",
      "30/30 [==============================] - 1s 30ms/step - loss: 0.6468 - accuracy: 0.5421 - val_loss: 0.8046 - val_accuracy: 0.5078\n",
      "Epoch 77/100\n",
      "30/30 [==============================] - 1s 29ms/step - loss: 0.6470 - accuracy: 0.5413 - val_loss: 0.8101 - val_accuracy: 0.5073\n",
      "Epoch 78/100\n",
      "30/30 [==============================] - 1s 29ms/step - loss: 0.6471 - accuracy: 0.5395 - val_loss: 0.8213 - val_accuracy: 0.5112\n",
      "Epoch 79/100\n",
      "30/30 [==============================] - 1s 29ms/step - loss: 0.6470 - accuracy: 0.5307 - val_loss: 0.8077 - val_accuracy: 0.5089\n",
      "Epoch 80/100\n",
      "30/30 [==============================] - 1s 30ms/step - loss: 0.6469 - accuracy: 0.5393 - val_loss: 0.8210 - val_accuracy: 0.5097\n",
      "Epoch 81/100\n",
      "30/30 [==============================] - 1s 29ms/step - loss: 0.6468 - accuracy: 0.5428 - val_loss: 0.8198 - val_accuracy: 0.5088\n",
      "Epoch 82/100\n",
      "30/30 [==============================] - 1s 30ms/step - loss: 0.6468 - accuracy: 0.5416 - val_loss: 0.8269 - val_accuracy: 0.5073\n",
      "Epoch 83/100\n",
      "30/30 [==============================] - 1s 30ms/step - loss: 0.6468 - accuracy: 0.5412 - val_loss: 0.8192 - val_accuracy: 0.5071\n",
      "Epoch 84/100\n",
      "30/30 [==============================] - 1s 29ms/step - loss: 0.6468 - accuracy: 0.5414 - val_loss: 0.8183 - val_accuracy: 0.5091\n",
      "Epoch 85/100\n",
      "30/30 [==============================] - 1s 29ms/step - loss: 0.6468 - accuracy: 0.5397 - val_loss: 0.8226 - val_accuracy: 0.5092\n",
      "Epoch 86/100\n",
      "30/30 [==============================] - 1s 29ms/step - loss: 0.6468 - accuracy: 0.5419 - val_loss: 0.8165 - val_accuracy: 0.5065\n",
      "Epoch 87/100\n",
      "30/30 [==============================] - 1s 28ms/step - loss: 0.6468 - accuracy: 0.5417 - val_loss: 0.8273 - val_accuracy: 0.5100\n",
      "Epoch 88/100\n",
      "30/30 [==============================] - 1s 29ms/step - loss: 0.6468 - accuracy: 0.5403 - val_loss: 0.8223 - val_accuracy: 0.5082\n",
      "Epoch 89/100\n",
      "30/30 [==============================] - 1s 28ms/step - loss: 0.6482 - accuracy: 0.5399 - val_loss: 0.8060 - val_accuracy: 0.5073\n",
      "Epoch 90/100\n",
      "30/30 [==============================] - 1s 28ms/step - loss: 0.6579 - accuracy: 0.5357 - val_loss: 0.7556 - val_accuracy: 0.5067\n",
      "Epoch 91/100\n",
      "30/30 [==============================] - 1s 29ms/step - loss: 0.6506 - accuracy: 0.5375 - val_loss: 0.7677 - val_accuracy: 0.5086\n",
      "Epoch 92/100\n",
      "30/30 [==============================] - 1s 29ms/step - loss: 0.6499 - accuracy: 0.5367 - val_loss: 0.7692 - val_accuracy: 0.5087\n",
      "Epoch 93/100\n",
      "30/30 [==============================] - 1s 29ms/step - loss: 0.6494 - accuracy: 0.5369 - val_loss: 0.7736 - val_accuracy: 0.5094\n",
      "Epoch 94/100\n",
      "30/30 [==============================] - 1s 29ms/step - loss: 0.6487 - accuracy: 0.5381 - val_loss: 0.7833 - val_accuracy: 0.5094\n",
      "Epoch 95/100\n",
      "30/30 [==============================] - 1s 30ms/step - loss: 0.6480 - accuracy: 0.5386 - val_loss: 0.7869 - val_accuracy: 0.5092\n",
      "Epoch 96/100\n",
      "30/30 [==============================] - 1s 29ms/step - loss: 0.6477 - accuracy: 0.5402 - val_loss: 0.7894 - val_accuracy: 0.5079\n",
      "Epoch 97/100\n",
      "30/30 [==============================] - 1s 29ms/step - loss: 0.6472 - accuracy: 0.5411 - val_loss: 0.8094 - val_accuracy: 0.5084\n",
      "Epoch 98/100\n",
      "30/30 [==============================] - 1s 29ms/step - loss: 0.6471 - accuracy: 0.5404 - val_loss: 0.8016 - val_accuracy: 0.5066\n",
      "Epoch 99/100\n",
      "30/30 [==============================] - 1s 29ms/step - loss: 0.6469 - accuracy: 0.5419 - val_loss: 0.8010 - val_accuracy: 0.5082\n",
      "Epoch 100/100\n",
      "30/30 [==============================] - 1s 29ms/step - loss: 0.6468 - accuracy: 0.5421 - val_loss: 0.7956 - val_accuracy: 0.5076\n"
     ]
    }
   ],
   "source": [
    "# 상기 훈련에서 성능이 좋지 못했다. 에폭을 증가해보자\n",
    "# 옵티마이저 아담, 로스함수는 2진 분류이므로 바이너리 크로스엔트로피 사용.\n",
    "model.compile(optimizer='adam',\n",
    "              loss='binary_crossentropy',\n",
    "              metrics=['accuracy'])\n",
    "              \n",
    "epochs=100  # 몇 epoch를 훈련하면 좋을지 결과를 보면서 바꾸어 봅시다. \n",
    "\n",
    "history = model.fit(partial_x_train,\n",
    "                    partial_y_train,\n",
    "                    epochs=epochs,\n",
    "                    batch_size=512,\n",
    "                    validation_data=(x_val, y_val),\n",
    "                    verbose=1)"
   ]
  },
  {
   "cell_type": "code",
   "execution_count": 47,
   "id": "cb442794",
   "metadata": {
    "scrolled": false
   },
   "outputs": [
    {
     "name": "stdout",
     "output_type": "stream",
     "text": [
      "782/782 - 5s - loss: 0.7740 - accuracy: 0.5114\n",
      "[0.7740244269371033, 0.5114399790763855]\n",
      "\n",
      "dict_keys(['loss', 'accuracy', 'val_loss', 'val_accuracy'])\n"
     ]
    },
    {
     "data": {
      "image/png": "[encoded data removed]",
      "text/plain": [
       "<Figure size 432x288 with 1 Axes>"
      ]
     },
     "metadata": {
      "needs_background": "light"
     },
     "output_type": "display_data"
    },
    {
     "data": {
      "image/png": "[encoded data removed]",
      "text/plain": [
       "<Figure size 432x288 with 1 Axes>"
      ]
     },
     "metadata": {
      "needs_background": "light"
     },
     "output_type": "display_data"
    }
   ],
   "source": [
    "results = model.evaluate(x_test,  y_test, verbose=2)\n",
    "\n",
    "print(results)\n",
    "print()\n",
    "history_dict = history.history\n",
    "print(history_dict.keys()) # epoch에 따른 그래프를 그려볼 수 있는 항목들\n",
    "\n",
    "import matplotlib.pyplot as plt\n",
    "\n",
    "plt.clf()   # 그림을 초기화합니다\n",
    "acc = history_dict['accuracy']\n",
    "val_acc = history_dict['val_accuracy']\n",
    "loss = history_dict['loss']\n",
    "val_loss = history_dict['val_loss']\n",
    "\n",
    "epochs = range(1, len(acc) + 1)\n",
    "\n",
    "# \"bo\"는 \"파란색 점\"입니다\n",
    "plt.plot(epochs, loss, 'bo', label='Training loss')\n",
    "# b는 \"파란 실선\"입니다\n",
    "plt.plot(epochs, val_loss, 'b', label='Validation loss')\n",
    "plt.title('Training and validation loss')\n",
    "plt.xlabel('Epochs')\n",
    "plt.ylabel('Loss')\n",
    "plt.legend()\n",
    "\n",
    "plt.show()\n",
    "\n",
    "plt.clf()   # 그림을 초기화합니다\n",
    "\n",
    "plt.plot(epochs, acc, 'bo', label='Training acc')\n",
    "plt.plot(epochs, val_acc, 'b', label='Validation acc')\n",
    "plt.title('Training and validation accuracy')\n",
    "plt.xlabel('Epochs')\n",
    "plt.ylabel('Accuracy')\n",
    "plt.legend()\n",
    "\n",
    "plt.show()"
   ]
  },
  {
   "cell_type": "markdown",
   "id": "00d1a539",
   "metadata": {},
   "source": [
    "/앞선 에폭 20에서 에폭에 따른 성능 향상을 관찰 할 수 없었다. 따라서 에폭을 100으로 변경하여 다시 학습해 보았다./\n",
    "\n",
    "[해석]\n",
    "- loss 는 에폭이 증가함에 따라 큰변화가 없다.\n",
    "- val_loss 는 구준히 증가 한다.\n",
    "- acc 는 0.54 근처에서 튄다.\n",
    "- val_acc 는 0.51에서 0.50으로 튀며 감소 한다.\n",
    "> acc 가 0.51 로 단순이 찍은 확률과 같은 성능이다. 에폭을 늘려도 학습이 되지 않기에 언더피팅되었다고 해석할 수 있다. 에폭이 아니라 데이터셋이나, 모델 구조의 개선을 시도할 필요가 있다.\n",
    "***"
   ]
  },
  {
   "cell_type": "markdown",
   "id": "a8321382",
   "metadata": {},
   "source": [
    "### 2.3 IMDB 영화리뷰 감성분석_Word2Vec 적용\n",
    "- 이전 과정에서 워드 임베딩을 사용하였다.\n",
    "- 단어의 특성을 저차원 벡터값으로 표현한다.\n",
    "- 임베딩 레이어는 (단어사전의 개수 x 워드벡터 사이즈) 크기의 학습 파라미터를 갖는 레이어였다.\n",
    "- 학습이 잘 되었다면, 학습된 워드 벡터들도 **'의미 공간상'에 유의미한 형태**로 학습되었을 것이다.\n",
    "- 확인해 보자."
   ]
  },
  {
   "cell_type": "code",
   "execution_count": 48,
   "id": "25327564",
   "metadata": {},
   "outputs": [
    {
     "name": "stdout",
     "output_type": "stream",
     "text": [
      "(10000, 16)\n"
     ]
    }
   ],
   "source": [
    "embedding_layer = model.layers[0]\n",
    "weights = embedding_layer.get_weights()[0]\n",
    "print(weights.shape)    # shape: (vocab_size, embedding_dim)"
   ]
  },
  {
   "cell_type": "code",
   "execution_count": 49,
   "id": "d807dcfc",
   "metadata": {},
   "outputs": [],
   "source": [
    "# 학습한 Embedding 파라미터를 파일에 써서 저장합니다. \n",
    "word2vec_file_path = os.getenv('HOME')+'/aiffel/sentiment_classification/data/word2vec.txt'\n",
    "f = open(word2vec_file_path, 'w')\n",
    "f.write('{} {}\\n'.format(vocab_size-4, word_vector_dim))  # 몇개의 벡터를 얼마 사이즈로 기재할지 타이틀을 씁니다.\n",
    "\n",
    "# 단어 개수(에서 특수문자 4개는 제외하고)만큼의 워드 벡터를 파일에 기록합니다. \n",
    "vectors = model.get_weights()[0]\n",
    "for i in range(4,vocab_size):\n",
    "    f.write('{} {}\\n'.format(index_to_word[i], ' '.join(map(str, list(vectors[i, :])))))\n",
    "f.close()"
   ]
  },
  {
   "cell_type": "markdown",
   "id": "a232c328",
   "metadata": {},
   "source": [
    "- gensim 의 패키지로, 상기 임베딩 파라미터를 읽어들여 word vector로 활용할 수 있다."
   ]
  },
  {
   "cell_type": "code",
   "execution_count": 50,
   "id": "455ce083",
   "metadata": {},
   "outputs": [
    {
     "data": {
      "text/plain": [
       "array([ 0.01174831,  0.00602984, -0.01110123, -0.05112463,  0.02092644,\n",
       "       -0.04311644,  0.05319917, -0.0362718 ,  0.04535187,  0.06950343,\n",
       "        0.05928158,  0.06730494, -0.00212136,  0.09066048,  0.00599825,\n",
       "       -0.02536545], dtype=float32)"
      ]
     },
     "execution_count": 50,
     "metadata": {},
     "output_type": "execute_result"
    }
   ],
   "source": [
    "from gensim.models.keyedvectors import Word2VecKeyedVectors\n",
    "\n",
    "word_vectors = Word2VecKeyedVectors.load_word2vec_format(word2vec_file_path, binary=False)\n",
    "vector = word_vectors['computer']\n",
    "vector"
   ]
  },
  {
   "cell_type": "markdown",
   "id": "9e8abc43",
   "metadata": {},
   "source": [
    "- 워드 벡터가 의미 공간상 유의미하게 학습되었는지 확인하는 방법으로 gensim을 사용하여 가장 유사한 단어를 확인하는 방법이 있다."
   ]
  },
  {
   "cell_type": "code",
   "execution_count": 51,
   "id": "9ac8d03d",
   "metadata": {},
   "outputs": [
    {
     "data": {
      "text/plain": [
       "[(\"can't\", 0.7816762328147888),\n",
       " ('yourself', 0.7625768184661865),\n",
       " ('stopping', 0.7609211802482605),\n",
       " ('future', 0.7497736811637878),\n",
       " ('still', 0.74878990650177),\n",
       " ('musicals', 0.7425988912582397),\n",
       " ('us', 0.7413322329521179),\n",
       " ('superior', 0.736118495464325),\n",
       " ('not', 0.734872043132782),\n",
       " ('woefully', 0.7330211400985718)]"
      ]
     },
     "execution_count": 51,
     "metadata": {},
     "output_type": "execute_result"
    }
   ],
   "source": [
    "word_vectors.similar_by_word(\"love\")"
   ]
  },
  {
   "cell_type": "markdown",
   "id": "4020c3ae",
   "metadata": {},
   "source": [
    "- love 라는 단어와 유사한 단어를 찾았다고 판단되지 않는다.\n",
    "- 감성분류 문제를 잠깐 학습한것으로  워드 벡터가 유의미하게 학습되기는 어려워 보인다.\n",
    "- 훈련데이터가 부족한 이유일 것이다.\n",
    "- 구글에서 제공하는 Word2Vec 이라는 사전학습된(pretrained) 워드 임베딩모데을 가져다 활용해 보자.\n",
    "> [Word2Vec] : 1억개의 단어로 구성된 구글 뉴스 데이터를 바탕으로 학습. 300만개 단어를 300차원 벡터로 표현한것, \n",
    "\n",
    "- 이와 같이 사전에 학습된 임베딩을 활용하는 것이 유리하다.\n",
    "[참고] :https://ratsgo.github.io/natural%20language%20processing/2019/09/12/embedding/"
   ]
  },
  {
   "cell_type": "code",
   "execution_count": 52,
   "id": "285113b2",
   "metadata": {
    "scrolled": true
   },
   "outputs": [
    {
     "data": {
      "text/plain": [
       "array([ 1.07421875e-01, -2.01171875e-01,  1.23046875e-01,  2.11914062e-01,\n",
       "       -9.13085938e-02,  2.16796875e-01, -1.31835938e-01,  8.30078125e-02,\n",
       "        2.02148438e-01,  4.78515625e-02,  3.66210938e-02, -2.45361328e-02,\n",
       "        2.39257812e-02, -1.60156250e-01, -2.61230469e-02,  9.71679688e-02,\n",
       "       -6.34765625e-02,  1.84570312e-01,  1.70898438e-01, -1.63085938e-01,\n",
       "       -1.09375000e-01,  1.49414062e-01, -4.65393066e-04,  9.61914062e-02,\n",
       "        1.68945312e-01,  2.60925293e-03,  8.93554688e-02,  6.49414062e-02,\n",
       "        3.56445312e-02, -6.93359375e-02, -1.46484375e-01, -1.21093750e-01,\n",
       "       -2.27539062e-01,  2.45361328e-02, -1.24511719e-01, -3.18359375e-01,\n",
       "       -2.20703125e-01,  1.30859375e-01,  3.66210938e-02, -3.63769531e-02,\n",
       "       -1.13281250e-01,  1.95312500e-01,  9.76562500e-02,  1.26953125e-01,\n",
       "        6.59179688e-02,  6.93359375e-02,  1.02539062e-02,  1.75781250e-01,\n",
       "       -1.68945312e-01,  1.21307373e-03, -2.98828125e-01, -1.15234375e-01,\n",
       "        5.66406250e-02, -1.77734375e-01, -2.08984375e-01,  1.76757812e-01,\n",
       "        2.38037109e-02, -2.57812500e-01, -4.46777344e-02,  1.88476562e-01,\n",
       "        5.51757812e-02,  5.02929688e-02, -1.06933594e-01,  1.89453125e-01,\n",
       "       -1.16210938e-01,  8.49609375e-02, -1.71875000e-01,  2.45117188e-01,\n",
       "       -1.73828125e-01, -8.30078125e-03,  4.56542969e-02, -1.61132812e-02,\n",
       "        1.86523438e-01, -6.05468750e-02, -4.17480469e-02,  1.82617188e-01,\n",
       "        2.20703125e-01, -1.22558594e-01, -2.55126953e-02, -3.08593750e-01,\n",
       "        9.13085938e-02,  1.60156250e-01,  1.70898438e-01,  1.19628906e-01,\n",
       "        7.08007812e-02, -2.64892578e-02, -3.08837891e-02,  4.06250000e-01,\n",
       "       -1.01562500e-01,  5.71289062e-02, -7.26318359e-03, -9.17968750e-02,\n",
       "       -1.50390625e-01, -2.55859375e-01,  2.16796875e-01, -3.63769531e-02,\n",
       "        2.24609375e-01,  8.00781250e-02,  1.56250000e-01,  5.27343750e-02,\n",
       "        1.50390625e-01, -1.14746094e-01, -8.64257812e-02,  1.19140625e-01,\n",
       "       -7.17773438e-02,  2.73437500e-01, -1.64062500e-01,  7.29370117e-03,\n",
       "        4.21875000e-01, -1.12792969e-01, -1.35742188e-01, -1.31835938e-01,\n",
       "       -1.37695312e-01, -7.66601562e-02,  6.25000000e-02,  4.98046875e-02,\n",
       "       -1.91406250e-01, -6.03027344e-02,  2.27539062e-01,  5.88378906e-02,\n",
       "       -3.24218750e-01,  5.41992188e-02, -1.35742188e-01,  8.17871094e-03,\n",
       "       -5.24902344e-02, -1.74713135e-03, -9.81445312e-02, -2.86865234e-02,\n",
       "        3.61328125e-02,  2.15820312e-01,  5.98144531e-02, -3.08593750e-01,\n",
       "       -2.27539062e-01,  2.61718750e-01,  9.86328125e-02, -5.07812500e-02,\n",
       "        1.78222656e-02,  1.31835938e-01, -5.35156250e-01, -1.81640625e-01,\n",
       "        1.38671875e-01, -3.10546875e-01, -9.71679688e-02,  1.31835938e-01,\n",
       "       -1.16210938e-01,  7.03125000e-02,  2.85156250e-01,  3.51562500e-02,\n",
       "       -1.01562500e-01, -3.75976562e-02,  1.41601562e-01,  1.42578125e-01,\n",
       "       -5.68847656e-02,  2.65625000e-01, -2.09960938e-01,  9.64355469e-03,\n",
       "       -6.68945312e-02, -4.83398438e-02, -6.10351562e-02,  2.45117188e-01,\n",
       "       -9.66796875e-02,  1.78222656e-02, -1.27929688e-01, -4.78515625e-02,\n",
       "       -7.26318359e-03,  1.79687500e-01,  2.78320312e-02, -2.10937500e-01,\n",
       "       -1.43554688e-01, -1.27929688e-01,  1.73339844e-02, -3.60107422e-03,\n",
       "       -2.04101562e-01,  3.63159180e-03, -1.19628906e-01, -6.15234375e-02,\n",
       "        5.93261719e-02, -3.23486328e-03, -1.70898438e-01, -3.14941406e-02,\n",
       "       -8.88671875e-02, -2.89062500e-01,  3.44238281e-02, -1.87500000e-01,\n",
       "        2.94921875e-01,  1.58203125e-01, -1.19628906e-01,  7.61718750e-02,\n",
       "        6.39648438e-02, -4.68750000e-02, -6.83593750e-02,  1.21459961e-02,\n",
       "       -1.44531250e-01,  4.54101562e-02,  3.68652344e-02,  3.88671875e-01,\n",
       "        1.45507812e-01, -2.55859375e-01, -4.46777344e-02, -1.33789062e-01,\n",
       "       -1.38671875e-01,  6.59179688e-02,  1.37695312e-01,  1.14746094e-01,\n",
       "        2.03125000e-01, -4.78515625e-02,  1.80664062e-02, -8.54492188e-02,\n",
       "       -2.48046875e-01, -3.39843750e-01, -2.83203125e-02,  1.05468750e-01,\n",
       "       -2.14843750e-01, -8.74023438e-02,  7.12890625e-02,  1.87500000e-01,\n",
       "       -1.12304688e-01,  2.73437500e-01, -3.26171875e-01, -1.77734375e-01,\n",
       "       -4.24804688e-02, -2.69531250e-01,  6.64062500e-02, -6.88476562e-02,\n",
       "       -1.99218750e-01, -7.03125000e-02, -2.43164062e-01, -3.66210938e-02,\n",
       "       -7.37304688e-02, -1.77734375e-01,  9.17968750e-02, -1.25000000e-01,\n",
       "       -1.65039062e-01, -3.57421875e-01, -2.85156250e-01, -1.66992188e-01,\n",
       "        1.97265625e-01, -1.53320312e-01,  2.31933594e-02,  2.06054688e-01,\n",
       "        1.80664062e-01, -2.74658203e-02, -1.92382812e-01, -9.61914062e-02,\n",
       "       -1.06811523e-02, -4.73632812e-02,  6.54296875e-02, -1.25732422e-02,\n",
       "        1.78222656e-02, -8.00781250e-02, -2.59765625e-01,  9.37500000e-02,\n",
       "       -7.81250000e-02,  4.68750000e-02, -2.22167969e-02,  1.86767578e-02,\n",
       "        3.11279297e-02,  1.04980469e-02, -1.69921875e-01,  2.58789062e-02,\n",
       "       -3.41796875e-02, -1.44042969e-02, -5.46875000e-02, -8.78906250e-02,\n",
       "        1.96838379e-03,  2.23632812e-01, -1.36718750e-01,  1.75781250e-01,\n",
       "       -1.63085938e-01,  1.87500000e-01,  3.44238281e-02, -5.63964844e-02,\n",
       "       -2.27689743e-05,  4.27246094e-02,  5.81054688e-02, -1.07910156e-01,\n",
       "       -3.88183594e-02, -2.69531250e-01,  3.34472656e-02,  9.81445312e-02,\n",
       "        5.63964844e-02,  2.23632812e-01, -5.49316406e-02,  1.46484375e-01,\n",
       "        5.93261719e-02, -2.19726562e-01,  6.39648438e-02,  1.66015625e-02,\n",
       "        4.56542969e-02,  3.26171875e-01, -3.80859375e-01,  1.70898438e-01,\n",
       "        5.66406250e-02, -1.04492188e-01,  1.38671875e-01, -1.57226562e-01,\n",
       "        3.23486328e-03, -4.80957031e-02, -2.48046875e-01, -6.20117188e-02],\n",
       "      dtype=float32)"
      ]
     },
     "execution_count": 52,
     "metadata": {},
     "output_type": "execute_result"
    }
   ],
   "source": [
    "from gensim.models import KeyedVectors\n",
    "\n",
    "word2vec_path = os.getenv('HOME')+'/aiffel/sentiment_classification/data/GoogleNews-vectors-negative300.bin.gz'\n",
    "word2vec = KeyedVectors.load_word2vec_format(word2vec_path, binary=True, limit=1000000)\n",
    "vector = word2vec['computer']\n",
    "vector     # 무려 300dim의 워드 벡터입니다."
   ]
  },
  {
   "cell_type": "markdown",
   "id": "f958c855",
   "metadata": {},
   "source": [
    "- 300 차원의 단어가 300 만개이다.\n",
    "- 모두 로딩한다면 시습환경 에러가 날것이다.\n",
    "- 워드 벡터 단어중 사용빈도가 높은 100만개로 limit 조건을 주어 로딩했다.\n",
    "- 메모리가 충분하다면 limit = None 으로 로딩하면 된다"
   ]
  },
  {
   "cell_type": "code",
   "execution_count": 56,
   "id": "2d43ae98",
   "metadata": {},
   "outputs": [
    {
     "data": {
      "text/plain": [
       "[('loved', 0.6907791495323181),\n",
       " ('adore', 0.6816873550415039),\n",
       " ('loves', 0.661863386631012),\n",
       " ('passion', 0.6100708842277527),\n",
       " ('hate', 0.600395679473877),\n",
       " ('loving', 0.5886635780334473),\n",
       " ('affection', 0.5664337873458862),\n",
       " ('undying_love', 0.5547304749488831),\n",
       " ('absolutely_adore', 0.5536840558052063),\n",
       " ('adores', 0.5440906882286072)]"
      ]
     },
     "execution_count": 56,
     "metadata": {},
     "output_type": "execute_result"
    }
   ],
   "source": [
    "# 다시 유사한 단어를 출력해보자\n",
    "# 메모리를 다소 많이 소비하는 작업이니 유의해 주세요.\n",
    "word2vec.similar_by_word(\"love\")"
   ]
  },
  {
   "cell_type": "markdown",
   "id": "a6d3e55a",
   "metadata": {},
   "source": [
    "- 꽤나 의미적 유사도가 가까운 단어들이 확인되었다.\n",
    "- 학습이 잘된 임베딩이다.\n",
    "- 학습했던 모델의 임베딩 레이어를 Word2Vec으로 교체하여 다시 학습해보자."
   ]
  },
  {
   "cell_type": "code",
   "execution_count": 57,
   "id": "825fa108",
   "metadata": {},
   "outputs": [],
   "source": [
    "vocab_size = 10000    # 어휘 사전의 크기입니다(10,000개의 단어)\n",
    "word_vector_dim = 300  # 워드 벡터의 차원수\n",
    "embedding_matrix = np.random.rand(vocab_size, word_vector_dim)\n",
    "\n",
    "# embedding_matrix에 Word2Vec 워드 벡터를 단어 하나씩마다 차례차례 카피한다.\n",
    "for i in range(4,vocab_size):\n",
    "    if index_to_word[i] in word2vec:\n",
    "        embedding_matrix[i] = word2vec[index_to_word[i]]"
   ]
  },
  {
   "cell_type": "code",
   "execution_count": 58,
   "id": "791f0611",
   "metadata": {},
   "outputs": [
    {
     "name": "stdout",
     "output_type": "stream",
     "text": [
      "Model: \"sequential_4\"\n",
      "_________________________________________________________________\n",
      "Layer (type)                 Output Shape              Param #   \n",
      "=================================================================\n",
      "embedding_6 (Embedding)      (None, 580, 300)          3000000   \n",
      "_________________________________________________________________\n",
      "conv1d_2 (Conv1D)            (None, 574, 16)           33616     \n",
      "_________________________________________________________________\n",
      "max_pooling1d_1 (MaxPooling1 (None, 114, 16)           0         \n",
      "_________________________________________________________________\n",
      "conv1d_3 (Conv1D)            (None, 108, 16)           1808      \n",
      "_________________________________________________________________\n",
      "global_max_pooling1d_2 (Glob (None, 16)                0         \n",
      "_________________________________________________________________\n",
      "dense_8 (Dense)              (None, 8)                 136       \n",
      "_________________________________________________________________\n",
      "dense_9 (Dense)              (None, 1)                 9         \n",
      "=================================================================\n",
      "Total params: 3,035,569\n",
      "Trainable params: 3,035,569\n",
      "Non-trainable params: 0\n",
      "_________________________________________________________________\n"
     ]
    }
   ],
   "source": [
    "from tensorflow.keras.initializers import Constant\n",
    "\n",
    "vocab_size = 10000    # 어휘 사전의 크기입니다(10,000개의 단어)\n",
    "word_vector_dim = 300  # 워드 벡터의 차원 수 \n",
    "\n",
    "# 모델 구성\n",
    "model = tf.keras.Sequential()\n",
    "model.add(tf.keras.layers.Embedding(vocab_size, \n",
    "                                 word_vector_dim, \n",
    "                                 embeddings_initializer=Constant(embedding_matrix),  # 카피한 임베딩을 여기서 활용\n",
    "                                 input_length=maxlen, \n",
    "                                 trainable=True))   # trainable을 True로 주면 Fine-tuning\n",
    "model.add(tf.keras.layers.Conv1D(16, 7, activation='relu'))\n",
    "model.add(tf.keras.layers.MaxPooling1D(5))\n",
    "model.add(tf.keras.layers.Conv1D(16, 7, activation='relu'))\n",
    "model.add(tf.keras.layers.GlobalMaxPooling1D())\n",
    "model.add(tf.keras.layers.Dense(8, activation='relu'))\n",
    "model.add(tf.keras.layers.Dense(1, activation='sigmoid')) \n",
    "\n",
    "model.summary()"
   ]
  },
  {
   "cell_type": "code",
   "execution_count": 59,
   "id": "dbefd813",
   "metadata": {},
   "outputs": [
    {
     "name": "stdout",
     "output_type": "stream",
     "text": [
      "Epoch 1/20\n",
      "30/30 [==============================] - 16s 84ms/step - loss: 0.6830 - accuracy: 0.5625 - val_loss: 0.6659 - val_accuracy: 0.6036\n",
      "Epoch 2/20\n",
      "30/30 [==============================] - 2s 66ms/step - loss: 0.6267 - accuracy: 0.6668 - val_loss: 0.5896 - val_accuracy: 0.7152\n",
      "Epoch 3/20\n",
      "30/30 [==============================] - 2s 66ms/step - loss: 0.5029 - accuracy: 0.7801 - val_loss: 0.4423 - val_accuracy: 0.8082\n",
      "Epoch 4/20\n",
      "30/30 [==============================] - 2s 66ms/step - loss: 0.3436 - accuracy: 0.8633 - val_loss: 0.3443 - val_accuracy: 0.8512\n",
      "Epoch 5/20\n",
      "30/30 [==============================] - 2s 66ms/step - loss: 0.2523 - accuracy: 0.8999 - val_loss: 0.3205 - val_accuracy: 0.8627\n",
      "Epoch 6/20\n",
      "30/30 [==============================] - 2s 67ms/step - loss: 0.1841 - accuracy: 0.9363 - val_loss: 0.3222 - val_accuracy: 0.8662\n",
      "Epoch 7/20\n",
      "30/30 [==============================] - 2s 67ms/step - loss: 0.1478 - accuracy: 0.9505 - val_loss: 0.3106 - val_accuracy: 0.8705\n",
      "Epoch 8/20\n",
      "30/30 [==============================] - 2s 67ms/step - loss: 0.1080 - accuracy: 0.9709 - val_loss: 0.3149 - val_accuracy: 0.8751\n",
      "Epoch 9/20\n",
      "30/30 [==============================] - 2s 67ms/step - loss: 0.0786 - accuracy: 0.9834 - val_loss: 0.3311 - val_accuracy: 0.8731\n",
      "Epoch 10/20\n",
      "30/30 [==============================] - 2s 67ms/step - loss: 0.0570 - accuracy: 0.9897 - val_loss: 0.3406 - val_accuracy: 0.8723\n",
      "Epoch 11/20\n",
      "30/30 [==============================] - 2s 67ms/step - loss: 0.0403 - accuracy: 0.9953 - val_loss: 0.3570 - val_accuracy: 0.8726\n",
      "Epoch 12/20\n",
      "30/30 [==============================] - 2s 67ms/step - loss: 0.0279 - accuracy: 0.9973 - val_loss: 0.3755 - val_accuracy: 0.8713\n",
      "Epoch 13/20\n",
      "30/30 [==============================] - 2s 67ms/step - loss: 0.0198 - accuracy: 0.9990 - val_loss: 0.3958 - val_accuracy: 0.8702\n",
      "Epoch 14/20\n",
      "30/30 [==============================] - 2s 67ms/step - loss: 0.0145 - accuracy: 0.9994 - val_loss: 0.4110 - val_accuracy: 0.8703\n",
      "Epoch 15/20\n",
      "30/30 [==============================] - 2s 67ms/step - loss: 0.0105 - accuracy: 0.9996 - val_loss: 0.4269 - val_accuracy: 0.8696\n",
      "Epoch 16/20\n",
      "30/30 [==============================] - 2s 67ms/step - loss: 0.0081 - accuracy: 0.9996 - val_loss: 0.4505 - val_accuracy: 0.8678\n",
      "Epoch 17/20\n",
      "30/30 [==============================] - 2s 68ms/step - loss: 0.0066 - accuracy: 0.9999 - val_loss: 0.4554 - val_accuracy: 0.8695\n",
      "Epoch 18/20\n",
      "30/30 [==============================] - 2s 67ms/step - loss: 0.0050 - accuracy: 0.9998 - val_loss: 0.4696 - val_accuracy: 0.8686\n",
      "Epoch 19/20\n",
      "30/30 [==============================] - 2s 68ms/step - loss: 0.0042 - accuracy: 0.9999 - val_loss: 0.4811 - val_accuracy: 0.8693\n",
      "Epoch 20/20\n",
      "30/30 [==============================] - 2s 68ms/step - loss: 0.0037 - accuracy: 0.9999 - val_loss: 0.4926 - val_accuracy: 0.8683\n"
     ]
    }
   ],
   "source": [
    "# 학습의 진행\n",
    "model.compile(optimizer='adam',\n",
    "              loss='binary_crossentropy',\n",
    "              metrics=['accuracy'])\n",
    "              \n",
    "epochs=20  # 몇 epoch를 훈련하면 좋을지 결과를 보면서 바꾸어 봅시다. \n",
    "\n",
    "history = model.fit(partial_x_train,\n",
    "                    partial_y_train,\n",
    "                    epochs=epochs,\n",
    "                    batch_size=512,\n",
    "                    validation_data=(x_val, y_val),\n",
    "                    verbose=1)"
   ]
  },
  {
   "cell_type": "code",
   "execution_count": 60,
   "id": "95667ca2",
   "metadata": {},
   "outputs": [
    {
     "name": "stdout",
     "output_type": "stream",
     "text": [
      "782/782 - 2s - loss: 0.5402 - accuracy: 0.8596\n",
      "[0.5402491688728333, 0.8595600128173828]\n"
     ]
    }
   ],
   "source": [
    "# 테스트셋을 통한 모델 평가\n",
    "results = model.evaluate(x_test,  y_test, verbose=2)\n",
    "\n",
    "print(results)"
   ]
  },
  {
   "cell_type": "code",
   "execution_count": 62,
   "id": "e0bd1c53",
   "metadata": {},
   "outputs": [
    {
     "data": {
      "image/png": "[encoded data removed]",
      "text/plain": [
       "<Figure size 432x288 with 1 Axes>"
      ]
     },
     "metadata": {
      "needs_background": "light"
     },
     "output_type": "display_data"
    }
   ],
   "source": [
    "history_dict = history.history\n",
    "\n",
    "import matplotlib.pyplot as plt\n",
    "\n",
    "plt.clf()   # 그림을 초기화합니다\n",
    "acc = history_dict['accuracy']\n",
    "val_acc = history_dict['val_accuracy']\n",
    "loss = history_dict['loss']\n",
    "val_loss = history_dict['val_loss']\n",
    "\n",
    "epochs = range(1, len(acc) + 1)\n",
    "\n",
    "# \"bo\"는 \"파란색 점\"입니다\n",
    "plt.plot(epochs, loss, 'bo', label='Training loss')\n",
    "# b는 \"파란 실선\"입니다\n",
    "plt.plot(epochs, val_loss, 'b', label='Validation loss')\n",
    "plt.title('Training and validation loss')\n",
    "plt.xlabel('Epochs')\n",
    "plt.ylabel('Loss')\n",
    "plt.legend()\n",
    "\n",
    "\n",
    "plt.plot(epochs, acc, 'ro', label='Training acc')\n",
    "plt.plot(epochs, val_acc, 'r', label='Validation acc')\n",
    "plt.title('Training and validation accuracy')\n",
    "plt.xlabel('Epochs')\n",
    "plt.ylabel('Accuracy')\n",
    "plt.legend()\n",
    "\n",
    "plt.show()"
   ]
  },
  {
   "cell_type": "markdown",
   "id": "e0685e14",
   "metadata": {},
   "source": [
    "[Word2Vec 을 임베딩으로 사용한 결과]\n",
    "- loss, acc, val_loss, val_acc 모두 크개 개선되었다.\n",
    "- acc는 10 에폭 이후 0.99에 수렴하고 있다.\n",
    "- val_acc는 4 에폭 이후 0.87에 수렴하고 있다.\n",
    "- loss는 13 에폭 이후 0.004까지 감소하고 있으며\n",
    "- val_loss 는 3 ~ 7 에폭에서 최저를 찍고, 이후 다시 꾸준히 증가하고 있다.\n",
    "- 테스트 셋의 acc 와 loss 는 각각 0.859, 0.540 이다.\n",
    "\n",
    "[해석]\n",
    "- 에폭 7이후 오버피팅되었다고 해석할 수 있다.\n",
    "- 3~7에폭 사이의 모델을 사용하는 것이 가장 합리적이다.\n",
    "\n",
    "[힝]\n",
    "- Word2Vec을 잘 활용하면 5% 이상 성능 향상 한다고 한다. \n",
    "> **적절한 모델 구성, 하이퍼 파라미터를 고려하여 감성분석 모델의 성능을 최대한으로 끌어올려 보자**\n",
    "***"
   ]
  },
  {
   "cell_type": "markdown",
   "id": "c2537561",
   "metadata": {},
   "source": [
    "## 3 프로젝트 : 네이버 영화리뷰 감성분석\n",
    "[프로젝트 시작 전 루브릭 확인!]\n",
    "\n",
    "|평가문항|상세기준|\n",
    "|:------|:---|\n",
    "|1. 다양한 방법으로 Text Classification 태스크를 성공적으로 구현하였다.|**3가지 이상의 모델**이 성공적으로 시도됨|\n",
    "|2. gensim을 활용하여 자체학습된 혹은 사전학습된 임베딩 레이어를 분석하였다.|gensim의 유사단어 찾기를 활용하여 자체학습한 임베딩과 사전학습 임베딩을 적절히 분석함|\n",
    "|3. 한국어 Word2Vec을 활용하여 가시적인 성능향상을 달성했다.|네이버 영화리뷰 데이터 감성분석 **정확도를 85%** 이상 달성함|"
   ]
  },
  {
   "cell_type": "markdown",
   "id": "4cd403b4",
   "metadata": {},
   "source": [
    "### 3.1 프로젝트 : 네이버 영화리뷰 감성분석_데이터 준비와 확인\n",
    "- 한국어 텍스트 감성분석을 해보자.\n",
    "- 네이버 영화의 댓글로 구성된 데이터이다.\n",
    "[데이터셋] : https://github.com/e9t/nsmc"
   ]
  },
  {
   "cell_type": "code",
   "execution_count": 13,
   "id": "2dd6168e",
   "metadata": {},
   "outputs": [
    {
     "data": {
      "text/html": [
       "<div>\n",
       "<style scoped>\n",
       "    .dataframe tbody tr th:only-of-type {\n",
       "        vertical-align: middle;\n",
       "    }\n",
       "\n",
       "    .dataframe tbody tr th {\n",
       "        vertical-align: top;\n",
       "    }\n",
       "\n",
       "    .dataframe thead th {\n",
       "        text-align: right;\n",
       "    }\n",
       "</style>\n",
       "<table border=\"1\" class=\"dataframe\">\n",
       "  <thead>\n",
       "    <tr style=\"text-align: right;\">\n",
       "      <th></th>\n",
       "      <th>id</th>\n",
       "      <th>document</th>\n",
       "      <th>label</th>\n",
       "    </tr>\n",
       "  </thead>\n",
       "  <tbody>\n",
       "    <tr>\n",
       "      <th>0</th>\n",
       "      <td>9976970</td>\n",
       "      <td>아 더빙.. 진짜 짜증나네요 목소리</td>\n",
       "      <td>0</td>\n",
       "    </tr>\n",
       "    <tr>\n",
       "      <th>1</th>\n",
       "      <td>3819312</td>\n",
       "      <td>흠...포스터보고 초딩영화줄....오버연기조차 가볍지 않구나</td>\n",
       "      <td>1</td>\n",
       "    </tr>\n",
       "    <tr>\n",
       "      <th>2</th>\n",
       "      <td>10265843</td>\n",
       "      <td>너무재밓었다그래서보는것을추천한다</td>\n",
       "      <td>0</td>\n",
       "    </tr>\n",
       "    <tr>\n",
       "      <th>3</th>\n",
       "      <td>9045019</td>\n",
       "      <td>교도소 이야기구먼 ..솔직히 재미는 없다..평점 조정</td>\n",
       "      <td>0</td>\n",
       "    </tr>\n",
       "    <tr>\n",
       "      <th>4</th>\n",
       "      <td>6483659</td>\n",
       "      <td>사이몬페그의 익살스런 연기가 돋보였던 영화!스파이더맨에서 늙어보이기만 했던 커스틴 ...</td>\n",
       "      <td>1</td>\n",
       "    </tr>\n",
       "  </tbody>\n",
       "</table>\n",
       "</div>"
      ],
      "text/plain": [
       "         id                                           document  label\n",
       "0   9976970                                아 더빙.. 진짜 짜증나네요 목소리      0\n",
       "1   3819312                  흠...포스터보고 초딩영화줄....오버연기조차 가볍지 않구나      1\n",
       "2  10265843                                  너무재밓었다그래서보는것을추천한다      0\n",
       "3   9045019                      교도소 이야기구먼 ..솔직히 재미는 없다..평점 조정      0\n",
       "4   6483659  사이몬페그의 익살스런 연기가 돋보였던 영화!스파이더맨에서 늙어보이기만 했던 커스틴 ...      1"
      ]
     },
     "execution_count": 13,
     "metadata": {},
     "output_type": "execute_result"
    }
   ],
   "source": [
    "import pandas as pd\n",
    "\n",
    "# 데이터를 읽어봅시다. \n",
    "train_data = pd.read_table('~/aiffel/sentiment_classification/data/ratings_train.txt')\n",
    "test_data = pd.read_table('~/aiffel/sentiment_classification/data/ratings_test.txt')\n",
    "\n",
    "train_data.head()"
   ]
  },
  {
   "cell_type": "code",
   "execution_count": 14,
   "id": "14ceefa9",
   "metadata": {
    "scrolled": true
   },
   "outputs": [
    {
     "name": "stdout",
     "output_type": "stream",
     "text": [
      "훈련 샘플 개수: 150000, 테스트 개수: 50000\n"
     ]
    }
   ],
   "source": [
    "print(\"훈련 샘플 개수: {}, 테스트 개수: {}\".format(len(train_data), len(test_data)))"
   ]
  },
  {
   "cell_type": "code",
   "execution_count": 15,
   "id": "cd00b4b3",
   "metadata": {},
   "outputs": [
    {
     "name": "stdout",
     "output_type": "stream",
     "text": [
      "훈련셋 비율\n",
      "0    75173\n",
      "1    74827\n",
      "Name: label, dtype: int64\n",
      "1.0046239993585204\n"
     ]
    }
   ],
   "source": [
    "print('훈련셋 비율')\n",
    "print(train_data['label'].value_counts())\n",
    "print(train_data['label'].value_counts()[0]/train_data['label'].value_counts()[1])\n"
   ]
  },
  {
   "cell_type": "code",
   "execution_count": 16,
   "id": "85679f5e",
   "metadata": {},
   "outputs": [
    {
     "name": "stdout",
     "output_type": "stream",
     "text": [
      "테스트셋 비율\n",
      "1    25173\n",
      "0    24827\n",
      "Name: label, dtype: int64\n",
      "0.9862551146069201\n"
     ]
    }
   ],
   "source": [
    "print('테스트셋 비율')\n",
    "print(test_data['label'].value_counts())\n",
    "print(test_data['label'].value_counts()[0]/test_data['label'].value_counts()[1])"
   ]
  },
  {
   "cell_type": "markdown",
   "id": "df6908d2",
   "metadata": {},
   "source": [
    "[데이터 확인]\n",
    "- 데이터는 id, document,label 3개 컬럼을 구성되어 있다.\n",
    "- 앞의 데이터셋과 마찬가지로 0 : 부정, 1 : 긍정 리뷰로 라벨되어있다.\n",
    "- 훈련 데이터 15만개, 테스트 데이터 5만개 이다.\n",
    "- 긍정 부정 비율이 약 1로 비슷하다.\n",
    "- 앞선 검증 데이터 분리에서 40%(2만5천 중 1만개)를 검증 데이터로 분리했다.\n",
    "- 검증 데이터로 15만개 훈련데이터 중 5만개를 사용하자.(33%)\n",
    "***"
   ]
  },
  {
   "cell_type": "markdown",
   "id": "72b12dcd",
   "metadata": {},
   "source": [
    "### 3.2 프로젝트 : 네이버 영화리뷰 감성분석_데이터로더 구성\n",
    "- 실습 IMDB 데이터 셋과 달리, 이번 데이터 셋은 전혀 가공되어있지 않다.\n",
    "- 상기 imdb.data_loader() 와 동일하게 작동하는 data_loader를 만들자.\n",
    "- data_loader에서는 다음을 수행한다.\n",
    "> 1. 데이터의 중복 제거\n",
    "> 2. NaN 결측치 제거\n",
    "> 3. 한국어 토크나이저로 토큰화\n",
    "> 4. 불용어(Stopwords) 제거\n",
    "> 5. 사전word_to_index 구성\n",
    "> 6. 텍스트 스트링을 사전 인덱스 스트링으로 변환\n",
    "> 7. X_train, y_train, X_test, y_test, word_to_index 리턴"
   ]
  },
  {
   "cell_type": "markdown",
   "id": "48f7fb53",
   "metadata": {},
   "source": [
    "토크나이저로 메캅 형태소 분석기를 사용한다.\n",
    "\n",
    "> [메캅? Mecab?] : [참고] : https://konlpy-ko.readthedocs.io/ko/v0.4.3/api/konlpy.tag/#mecab-class\n",
    "> - 교토대학교 정보대학원에서 개발한 일본어 형태소 분석기이자 POS 태거 이다.\n",
    "> - 은전프로젝트를 통해 한국어 버전으로 수정되었다.\n",
    "\n",
    "> [POS tagger?] : [참고] : https://m.blog.naver.com/bycho211/221893460325\n",
    "> - POS tagger 는 형태소 분석기와 같은 말이다.\n",
    "> - 원시 말뭉치(Corpus)를 형태소 단위로 쪼개고 각 형태소에 품사 정보를 부착하는 작업을 POS-tagging 이라 한다.\n",
    "\n",
    "\n",
    "- 한국어 형태소 분석기(품사 태그 정리, 형태소 분석기 비교) 참고 : https://velog.io/@metterian/series/%ED%95%9C%EA%B5%AD%EC%96%B4-%ED%98%95%ED%83%9C%EC%86%8C-%EB%B6%84%EC%84%9D%EA%B8%B0POS\n"
   ]
  },
  {
   "cell_type": "code",
   "execution_count": 17,
   "id": "9c288296",
   "metadata": {},
   "outputs": [],
   "source": [
    "from konlpy.tag import Mecab\n",
    "import numpy as np\n",
    "from collections import Counter\n",
    "\n",
    "tokenizer = Mecab() \n",
    "stopwords = ['의','가','이','은','들','는','좀','잘','걍','과','도','를','으로','자','에','와','한','하다']\n",
    "\n",
    "def load_data(train_data, test_data, num_words=10000):\n",
    "    train_data.drop_duplicates(subset=['document'], inplace=True) # 1. 데이터 중복 제거\n",
    "    train_data = train_data.dropna(how = 'any')  # 2. 결측치 제거\n",
    "    test_data.drop_duplicates(subset=['document'], inplace=True) # 1. 데이터 중복 제거\n",
    "    test_data = test_data.dropna(how = 'any') # 2. 결측치 제거\n",
    "    \n",
    "    X_train = []\n",
    "    for sentence in train_data['document']:\n",
    "        temp_X = tokenizer.morphs(sentence) # 3. 토큰화\n",
    "        temp_X = [word for word in temp_X if not word in stopwords] # 4. 불용어 제거\n",
    "        X_train.append(temp_X)\n",
    "\n",
    "    X_test = []\n",
    "    for sentence in test_data['document']:\n",
    "        temp_X = tokenizer.morphs(sentence) # 3. 토큰화\n",
    "        temp_X = [word for word in temp_X if not word in stopwords] # 4. 불용어 제거\n",
    "        X_test.append(temp_X)\n",
    "    \n",
    "    words = np.concatenate(X_train).tolist()\n",
    "    counter = Counter(words)\n",
    "    counter = counter.most_common(10000-4) # 1만개 단어사전인데, PAD, BOS, UNK, UNUSED가 추가된다.\n",
    "    \n",
    "    vocab = ['<PAD>', '<BOS>', '<UNK>', '<UNUSED>'] + [key for key, _ in counter] # PAD, BOS, UNK, UNUSED 추가\n",
    "    word_to_index = {word:index for index, word in enumerate(vocab)} # 5. 사전  word_to_index 구성\n",
    "        \n",
    "    def wordlist_to_indexlist(wordlist): \n",
    "        # <BOS>의 인덱스를  문장 앞 추가\n",
    "        # 단어사전에 있으면 index 변환, 없으면(else) '<UNK>' 의 인덱스로 된 리스트를 반환.\n",
    "        return [word_to_index['<BOS>']]+[word_to_index[word] if word in word_to_index else word_to_index['<UNK>'] for word in wordlist]\n",
    "    \n",
    "    # 6. 텍스트 스트링을 사전 인덱스 스트링을 변환\n",
    "    X_train = list(map(wordlist_to_indexlist, X_train))\n",
    "    X_test = list(map(wordlist_to_indexlist, X_test))\n",
    "    # 7. 훈련셋, 테스트셋, word_to_index 리턴\n",
    "    return X_train, np.array(list(train_data['label'])), X_test, np.array(list(test_data['label'])), word_to_index\n",
    "    \n",
    "X_train, y_train, X_test, y_test, word_to_index = load_data(train_data, test_data)\n",
    "\n"
   ]
  },
  {
   "cell_type": "code",
   "execution_count": 18,
   "id": "bc23160a",
   "metadata": {},
   "outputs": [
    {
     "name": "stdout",
     "output_type": "stream",
     "text": [
      "[1, 5232, 2, 2]\n"
     ]
    }
   ],
   "source": [
    "\n",
    "def get_encoded_sentence(sentence, word_to_index):\n",
    "    return [word_to_index['<BOS>']]+[word_to_index[word] if word in word_to_index else word_to_index['<UNK>'] for word in sentence.split()]\n",
    "\n",
    "print(get_encoded_sentence('i eat lunch', word_to_index))"
   ]
  },
  {
   "cell_type": "code",
   "execution_count": 19,
   "id": "9ab40876",
   "metadata": {},
   "outputs": [],
   "source": [
    "# word to index를 index to word로 변환\n",
    "index_to_word = {index:word for word, index in word_to_index.items()}"
   ]
  },
  {
   "cell_type": "code",
   "execution_count": 20,
   "id": "ec043fb5",
   "metadata": {},
   "outputs": [
    {
     "data": {
      "text/plain": [
       "dict_items([(0, '<PAD>'), (1, '<BOS>'), (2, '<UNK>'), (3, '<UNUSED>'), (4, '.'), (5, '영화'), (6, '다'), (7, '고'), (8, '하'), (9, '을'), (10, '보'), (11, '..'), (12, '게'), (13, ','), (14, '!'), (15, '지'), (16, '있'), (17, '없'), (18, '?'), (19, '좋'), (20, '나'), (21, '었'), (22, '만'), (23, '는데'), (24, '너무'), (25, '봤'), (26, '적'), (27, '안'), (28, '정말'), (29, '로'), (30, '음'), (31, '것'), (32, '아'), (33, '네요'), (34, '재밌'), (35, '어'), (36, '같'), (37, '점'), (38, '지만'), (39, '진짜'), (40, '했'), (41, '에서'), (42, '기'), (43, '네'), (44, '않'), (45, '거'), (46, '았'), (47, '수'), (48, '되'), (49, '면'), (50, 'ㅋㅋ'), (51, '말'), (52, '연기'), (53, '인'), (54, '주'), (55, '내'), (56, '최고'), (57, '~'), (58, '평점'), (59, '이런'), (60, '던'), (61, '어요'), (62, '할'), (63, '왜'), (64, '겠'), (65, '1'), (66, '스토리'), (67, '해'), (68, '습니다'), (69, 'ㅋㅋㅋ'), (70, '...'), (71, '드라마'), (72, '생각'), (73, '아니'), (74, '더'), (75, '그'), (76, '싶'), (77, '사람'), (78, '듯'), (79, '때'), (80, '감동'), (81, '함'), (82, '배우'), (83, '본'), (84, '까지'), (85, '뭐'), (86, '알'), (87, '만들'), (88, '내용'), (89, '볼'), (90, '감독'), (91, '보다'), (92, '라'), (93, '그냥'), (94, '재미'), (95, '시간'), (96, '지루'), (97, '중'), (98, '재미있'), (99, '년'), (100, '10'), (101, '였'), (102, '잼'), (103, '사랑'), (104, '못'), (105, '냐'), (106, '재미없'), (107, '쓰레기'), (108, '서'), (109, '2'), (110, '라고'), (111, '야'), (112, '니'), (113, '면서'), (114, '번'), (115, '다시'), (116, '나오'), (117, '작품'), (118, '이거'), (119, '하나'), (120, '줄'), (121, '해서'), (122, '개'), (123, '남'), (124, '정도'), (125, '마지막'), (126, '끝'), (127, '이건'), (128, '액션'), (129, '임'), (130, 'ㅋ'), (131, '3'), (132, '기대'), (133, '입니다'), (134, '건'), (135, '라는'), (136, '분'), (137, '완전'), (138, '다는'), (139, '참'), (140, '많'), (141, '처음'), (142, '장면'), (143, '대'), (144, '아깝'), (145, '다가'), (146, '으면'), (147, '지금'), (148, '모르'), (149, '이렇게'), (150, \"'\"), (151, '편'), (152, '일'), (153, '돈'), (154, '이게'), (155, '성'), (156, '느낌'), (157, '시'), (158, '이야기'), (159, '최악'), (160, '된'), (161, '봐도'), (162, '님'), (163, '어서'), (164, '애'), (165, '전'), (166, '넘'), (167, 'ㅠㅠ'), (168, '인데'), (169, '다고'), (170, '이해'), (171, '별로'), (172, '그리고'), (173, '명작'), (174, '여자'), (175, '^^'), (176, '역시'), (177, '난'), (178, '이상'), (179, '또'), (180, '걸'), (181, '한국'), (182, '는지'), (183, '많이'), (184, '에게'), (185, '부터'), (186, '만든'), (187, '주인공'), (188, '받'), (189, '합니다'), (190, '우리'), (191, '두'), (192, '살'), (193, '!!'), (194, '길'), (195, '엔'), (196, '괜찮'), (197, '기억'), (198, '연출'), (199, '한다'), (200, '때문'), (201, '이나'), (202, 'ㅎㅎ'), (203, '요'), (204, '저'), (205, '재'), (206, '꼭'), (207, '랑'), (208, '며'), (209, '현실'), (210, '긴'), (211, 'ㅡㅡ'), (212, '무슨'), (213, '내내'), (214, '결말'), (215, '죽'), (216, '남자'), (217, '세요'), (218, '전개'), (219, '마음'), (220, '소재'), (221, '속'), (222, '공포'), (223, '아서'), (224, '다른'), (225, '씨'), (226, '인생'), (227, '~~'), (228, '짜증'), (229, '짱'), (230, '뿐'), (231, '은데'), (232, '별'), (233, '아요'), (234, '유치'), (235, '가장'), (236, '필요'), (237, '음악'), (238, ')'), (239, '일본'), (240, '낮'), (241, '아이'), (242, ';;'), (243, '오'), (244, '반전'), (245, '수준'), (246, '다니'), (247, '웃'), (248, '매력'), (249, '맞'), (250, '인지'), (251, '가슴'), (252, '없이'), (253, '원작'), (254, 'ㄷ'), (255, '인간'), (256, '데'), (257, '굿'), (258, 'ㅠ'), (259, '높'), (260, '밋'), (261, '('), (262, '만드'), (263, '급'), (264, '눈물'), (265, '보여'), (266, '준'), (267, '찍'), (268, '인가'), (269, '노'), (270, '을까'), (271, '용'), (272, '코미디'), (273, '마'), (274, '화'), (275, '신'), (276, '모든'), (277, '쓰'), (278, '여'), (279, '5'), (280, '아직'), (281, '추천'), (282, '처럼'), (283, '눈'), (284, '아닌'), (285, '자체'), (286, '울'), (287, '몰입'), (288, '4'), (289, '대박'), (290, '몇'), (291, '스럽'), (292, '실망'), (293, '는다'), (294, '대한'), (295, '죠'), (296, '란'), (297, '그런'), (298, '솔직히'), (299, '캐릭터'), (300, 'ㅎ'), (301, '모두'), (302, '아주'), (303, '-'), (304, '가족'), (305, '여운'), (306, '건지'), (307, '전혀'), (308, '연기력'), (309, '나라'), (310, '후'), (311, '될'), (312, '다면'), (313, '뭔가'), (314, '그래도'), (315, ';'), (316, '시리즈'), (317, '근데'), (318, '작'), (319, '표현'), (320, '모습'), (321, '공감'), (322, '계속'), (323, '먹'), (324, '\"\"'), (325, '제목'), (326, '7'), (327, '이랑'), (328, '극장'), (329, '치'), (330, '비'), (331, '이걸'), (332, '진'), (333, '바'), (334, '대사'), (335, '부분'), (336, '그렇'), (337, '개봉'), (338, '0'), (339, 'OO'), (340, '대단'), (341, '어디'), (342, '작가'), (343, '된다'), (344, '아쉽'), (345, '기분'), (346, '제'), (347, '진심'), (348, '타임'), (349, '/'), (350, '웃기'), (351, '보이'), (352, '놓'), (353, '해도'), (354, '이제'), (355, '물'), (356, '봐야'), (357, '막장'), (358, '삶'), (359, '친구'), (360, '잔잔'), (361, '조금'), (362, '씬'), (363, '딱'), (364, '영상'), (365, '억지'), (366, '찾'), (367, '요즘'), (368, '같이'), (369, '중간'), (370, '\"'), (371, '구'), (372, '라도'), (373, '스릴러'), (374, '가지'), (375, '8'), (376, '믿'), (377, '싫'), (378, '....'), (379, '나왔'), (380, '아까운'), (381, '긴장감'), (382, '점수'), (383, '개인'), (384, '제대로'), (385, '부족'), (386, '이유'), (387, '노래'), (388, '만큼'), (389, '라면'), (390, '시작'), (391, '구나'), (392, '잇'), (393, '특히'), (394, '한테'), (395, '날'), (396, '려고'), (397, '제일'), (398, '아름다운'), (399, '시대'), (400, 'ㅜㅜ'), (401, '어떻게'), (402, '엔딩'), (403, '당시'), (404, '하지만'), (405, '나름'), (406, '봐'), (407, '무섭'), (408, '나온'), (409, '명'), (410, '사'), (411, '니까'), (412, '오랜만'), (413, '이것'), (414, '해요'), (415, '9'), (416, '팬'), (417, '차라리'), (418, '절대'), (419, '세상'), (420, '세'), (421, '못하'), (422, '의미'), (423, '던데'), (424, '봄'), (425, '욕'), (426, '훌륭'), (427, '너무나'), (428, '강추'), (429, '감'), (430, '됨'), (431, 'ㅡ'), (432, '따뜻'), (433, '빼'), (434, '느끼'), (435, '해야'), (436, '드'), (437, '도대체'), (438, '어야'), (439, '답답'), (440, '마다'), (441, '준다'), (442, '글'), (443, '전쟁'), (444, '놈'), (445, '설정'), (446, '무엇'), (447, '수작'), (448, '만화'), (449, '흥미'), (450, '그저'), (451, '감정'), (452, '미국'), (453, '신선'), (454, '행복'), (455, '뻔'), (456, '형'), (457, '앞'), (458, '허접'), (459, '어도'), (460, '군'), (461, '시절'), (462, '관객'), (463, '배경'), (464, '6'), (465, '초반'), (466, '사실'), (467, '웃음'), (468, '답'), (469, '엄청'), (470, '더라'), (471, '라니'), (472, '질'), (473, '자신'), (474, '추억'), (475, '캐스팅'), (476, '첨'), (477, '멋있'), (478, '류'), (479, '어색'), (480, '시나리오'), (481, '머'), (482, '밖에'), (483, 'OOO'), (484, '슬프'), (485, '정신'), (486, '분위기'), (487, '소름'), (488, '멋진'), (489, '힘들'), (490, '오늘'), (491, '어이없'), (492, '봐서'), (493, '잡'), (494, '구성'), (495, '엄마'), (496, '함께'), (497, '문제'), (498, '위해'), (499, '졸작'), (500, '잊'), (501, '이딴'), (502, '등'), (503, '집'), (504, '유쾌'), (505, '뻔한'), (506, '킬링'), (507, '스러운'), (508, '결국'), (509, '낫'), (510, '한데'), (511, '나요'), (512, '뭘'), (513, '소리'), (514, '간'), (515, '20'), (516, '역사'), (517, '뭔'), (518, '제발'), (519, '포스터'), (520, '아무리'), (521, '코믹'), (522, '어떤'), (523, '완벽'), (524, '~~~'), (525, '맘'), (526, '얼마나'), (527, '애니메이션'), (528, '!!!'), (529, '러'), (530, '주연'), (531, '원'), (532, '난다'), (533, '버리'), (534, '어릴'), (535, '♥'), (536, '후회'), (537, '진부'), (538, '나올'), (539, '됐'), (540, '보단'), (541, '책'), (542, '장난'), (543, '더니'), (544, '영화관'), (545, '큰'), (546, '개연'), (547, '둘'), (548, '출연'), (549, '보고'), (550, '극'), (551, 'ㅅ'), (552, '밖'), (553, '충격'), (554, '여기'), (555, '엇'), (556, '잔인'), (557, '아름답'), (558, '얘기'), (559, '줬'), (560, '평가'), (561, '꺼'), (562, '예술'), (563, '갈수록'), (564, '매우'), (565, '든'), (566, '자기'), (567, '위한'), (568, '이리'), (569, '봐라'), (570, '이후'), (571, '읽'), (572, '반'), (573, '얼굴'), (574, '꽤'), (575, '티비'), (576, '이쁘'), (577, '으나'), (578, '별점'), (579, '깊'), (580, '옛날'), (581, '불쌍'), (582, '못한'), (583, '겟'), (584, '불'), (585, '시청'), (586, '순수'), (587, '라서'), (588, '낭비'), (589, '언제'), (590, '건가'), (591, '비디오'), (592, '애니'), (593, '머리'), (594, '장르'), (595, '생각나'), (596, '텐데'), (597, '+'), (598, '미'), (599, '배'), (600, '그래서'), (601, ':'), (602, '다운'), (603, '주제'), (604, '다큐'), (605, '다음'), (606, '궁금'), (607, '아님'), (608, '시키'), (609, '누구'), (610, '예전'), (611, '그렇게'), (612, '크'), (613, '동안'), (614, '뒤'), (615, '그만'), (616, '인상'), (617, '상황'), (618, '??'), (619, '이름'), (620, '미친'), (621, '스릴'), (622, '감사'), (623, '시즌'), (624, '아무'), (625, '너'), (626, '오래'), (627, 'B'), (628, '집중'), (629, '힘'), (630, '어느'), (631, '본다'), (632, '그러'), (633, '로맨스'), (634, '약간'), (635, '나와서'), (636, '진정'), (637, '식'), (638, '방송'), (639, '그나마'), (640, '까'), (641, '짜리'), (642, '마세요'), (643, '소설'), (644, '여주인공'), (645, '몰'), (646, '걸작'), (647, '존나'), (648, '그대로'), (649, '죽이'), (650, '인물'), (651, '났'), (652, '그것'), (653, '회'), (654, '떨어지'), (655, '평'), (656, '케'), (657, '왔'), (658, '에요'), (659, '실화'), (660, '꿈'), (661, '대체'), (662, '해라'), (663, '훨씬'), (664, '짓'), (665, '무'), (666, '사회'), (667, '만점'), (668, '발연기'), (669, '구만'), (670, '~!'), (671, '전체'), (672, 'ㅜ'), (673, '비슷'), (674, '누가'), (675, '막'), (676, '30'), (677, '햇'), (678, '끝나'), (679, 'CG'), (680, '엉성'), (681, '귀엽'), (682, '여주'), (683, '단'), (684, '영상미'), (685, '중국'), (686, '비교'), (687, '초딩'), (688, '감성'), (689, '네이버'), (690, '세계'), (691, '여배우'), (692, '는가'), (693, 'ㅎㅎㅎ'), (694, '순간'), (695, '망'), (696, '느껴'), (697, '려는'), (698, '나이'), (699, ';;;'), (700, '대해'), (701, '상'), (702, '첫'), (703, '어렸'), (704, '쯤'), (705, '판'), (706, '입'), (707, '꿀'), (708, '갔'), (709, '어설픈'), (710, '돋'), (711, '셨'), (712, '학교'), (713, '더럽'), (714, '타'), (715, '생'), (716, '100'), (717, '혼자'), (718, '아들'), (719, '느낄'), (720, '성룡'), (721, '아야'), (722, '가능'), (723, '졸'), (724, '어린'), (725, '교훈'), (726, '멋지'), (727, '바로'), (728, '나가'), (729, '잘못'), (730, '맛'), (731, '.....'), (732, '한마디'), (733, '존'), (734, '딸'), (735, '당신'), (736, '화려'), (737, '길래'), (738, '끌'), (739, '티'), (740, '판타지'), (741, '삼류'), (742, '잠'), (743, '땜'), (744, '든다'), (745, '달'), (746, '빨리'), (747, '맨'), (748, '목소리'), (749, '똥'), (750, '아까움'), (751, '영'), (752, '당'), (753, '거의'), (754, '듣'), (755, '봤었'), (756, '나온다'), (757, '전부'), (758, '차'), (759, '독특'), (760, '건데'), (761, '다르'), (762, '초'), (763, 'ㅉㅉ'), (764, '어른'), (765, '가치'), (766, '위'), (767, '률'), (768, '상당히'), (769, '씩'), (770, '90'), (771, '다만'), (772, '질질'), (773, '아버지'), (774, '넣'), (775, '평론가'), (776, '줄거리'), (777, '한번'), (778, '이번'), (779, '갑자기'), (780, '스타일'), (781, '이러'), (782, '그러나'), (783, '여러'), (784, '군요'), (785, 'ㅂ'), (786, '의도'), (787, '저런'), (788, '존재'), (789, '허무'), (790, '밑'), (791, '%'), (792, '부'), (793, '대로'), (794, '에선'), (795, '째'), (796, '각본'), (797, '예상'), (798, '성우'), (799, '으면서'), (800, '그녀'), (801, '버린'), (802, '화면'), (803, '너무너무'), (804, 'ㄱ'), (805, '떠나'), (806, '예쁘'), (807, '비해'), (808, '자연'), (809, '담'), (810, '그런지'), (811, '뻔하'), (812, '평범'), (813, '굉장히'), (814, '만나'), (815, '슬픈'), (816, '돼'), (817, '못했'), (818, '지루함'), (819, '복수'), (820, '관람'), (821, '스'), (822, '단순'), (823, '댓글'), (824, '중요'), (825, '낸'), (826, '새로운'), (827, '피'), (828, '앗'), (829, '극장판'), (830, '줌'), (831, '갖'), (832, '굳'), (833, '제작'), (834, '버렸'), (835, '일단'), (836, '만족'), (837, '쉽'), (838, '선택'), (839, '아빠'), (840, '쓴'), (841, 'TV'), (842, '요소'), (843, '한편'), (844, '불편'), (845, '항상'), (846, '거기'), (847, '연출력'), (848, '그때'), (849, '롭'), (850, '에로'), (851, '산'), (852, '탄탄'), (853, '잃'), (854, '한다는'), (855, '발'), (856, '나옴'), (857, '예요'), (858, '한심'), (859, '흥행'), (860, '물론'), (861, '려'), (862, '지나'), (863, '따라'), (864, '진행'), (865, '점점'), (866, '관계'), (867, '전형'), (868, '역대'), (869, '편집'), (870, '조'), (871, '거나'), (872, '아까워'), (873, '법'), (874, '던가'), (875, '총'), (876, '짧'), (877, '이하'), (878, '충분히'), (879, '따'), (880, '안타깝'), (881, '에겐'), (882, '아닌가'), (883, '식상'), (884, '몰랐'), (885, '자꾸'), (886, '훈훈'), (887, '80'), (888, '미안'), (889, '김'), (890, '화이팅'), (891, '도록'), (892, '게임'), (893, '-_-'), (894, '멜'), (895, '원래'), (896, '곳'), (897, '그게'), (898, '자극'), (899, '몸'), (900, '삼'), (901, '손'), (902, '장'), (903, '구요'), (904, '~!!'), (905, '어쩔'), (906, '팔'), (907, '똑같'), (908, '간다'), (909, '나쁜'), (910, '뭔지'), (911, '사건'), (912, '풀'), (913, '설명'), (914, '어울리'), (915, '짜'), (916, '귀신'), (917, '잖아'), (918, '과거'), (919, '빙'), (920, '노력'), (921, '짐'), (922, '그래픽'), (923, '도저히'), (924, '황당'), (925, '조차'), (926, '닿'), (927, '됬'), (928, '아프'), (929, '중반'), (930, '개그'), (931, '듬'), (932, '프랑스'), (933, '코메디'), (934, '홍콩'), (935, '취향'), (936, '빠져'), (937, '죽음'), (938, '했었'), (939, '미치'), (940, '역'), (941, '속편'), (942, '무조건'), (943, '소중'), (944, '프로'), (945, '빠'), (946, '무비'), (947, '참신'), (948, '이란'), (949, '쳐'), (950, '나쁘'), (951, '멋'), (952, '좋아하'), (953, '아쉬운'), (954, '더욱'), (955, '넘치'), (956, '병맛'), (957, '괜히'), (958, '진지'), (959, '빠지'), (960, '척'), (961, '특유'), (962, '또한'), (963, '상상'), (964, '숨'), (965, '상영'), (966, '결혼'), (967, '리'), (968, '짱짱'), (969, '유명'), (970, 'ost'), (971, '심리'), (972, '전설'), (973, '무서운'), (974, '헐'), (975, '엄청난'), (976, '오히려'), (977, '인듯'), (978, '비추'), (979, '예고편'), (980, '후반부'), (981, '틀'), (982, '더빙'), (983, '아저씨'), (984, '으니'), (985, '고자'), (986, '심하'), (987, '바보'), (988, '왕'), (989, '연기자'), (990, '촬영'), (991, '그리'), (992, '소녀'), (993, '느꼈'), (994, '끝내'), (995, '로맨틱'), (996, '조연'), (997, '천재'), (998, '아도'), (999, '쩔'), (1000, '희망'), (1001, '최근'), (1002, '간만에'), (1003, '는구나'), (1004, 'ㄴ'), (1005, '억지로'), (1006, '가볍'), (1007, '하고'), (1008, '그닥'), (1009, '마무리'), (1010, 'SF'), (1011, '표정'), (1012, '어라'), (1013, '새끼'), (1014, '현재'), (1015, '전편'), (1016, '그랬'), (1017, '아무것'), (1018, '힘든'), (1019, '로서'), (1020, '저질'), (1021, '던지'), (1022, '부모'), (1023, '동화'), (1024, '온'), (1025, '순'), (1026, '대작'), (1027, '아쉬움'), (1028, '흠'), (1029, '진실'), (1030, '노출'), (1031, '즐겁'), (1032, '대한민국'), (1033, '서로'), (1034, '우연히'), (1035, '이미'), (1036, '빨'), (1037, '>'), (1038, '메세지'), (1039, '그림'), (1040, '묘사'), (1041, '여성'), (1042, '오빠'), (1043, '땐'), (1044, '네여'), (1045, '경찰'), (1046, '그런데'), (1047, '엉망'), (1048, '우'), (1049, '프로그램'), (1050, '졌'), (1051, '쩌'), (1052, '청춘'), (1053, '허술'), (1054, '어설프'), (1055, '유머'), (1056, 'tv'), (1057, '남기'), (1058, '이래'), (1059, '암'), (1060, '지난'), (1061, '나와'), (1062, '왠만'), (1063, '나중'), (1064, '십'), (1065, '갈'), (1066, '일까'), (1067, '으'), (1068, '등장'), (1069, '셈'), (1070, '돌'), (1071, '졸라'), (1072, '살인'), (1073, '역할'), (1074, '전작'), (1075, '멍청'), (1076, '신기'), (1077, '전달'), (1078, '열'), (1079, '먼저'), (1080, 'ㅠㅠㅠ'), (1081, '계'), (1082, '왠지'), (1083, '사이'), (1084, 'ㅈ'), (1085, '끄'), (1086, '놔'), (1087, '별루'), (1088, '외'), (1089, '흥미진진'), (1090, '써'), (1091, '감상'), (1092, '알바'), (1093, '해피'), (1094, '15'), (1095, '환상'), (1096, '범죄'), (1097, '마치'), (1098, '적당'), (1099, '거리'), (1100, '낚'), (1101, '능력'), (1102, '예'), (1103, '문화'), (1104, '이젠'), (1105, '다행'), (1106, '철학'), (1107, '리메이크'), (1108, '스런'), (1109, '행동'), (1110, '효과'), (1111, '잊혀'), (1112, '곤'), (1113, '할까'), (1114, 'D'), (1115, '슴'), (1116, '디'), (1117, '미래'), (1118, '어렵'), (1119, '그래'), (1120, '분명'), (1121, '호러'), (1122, '로운'), (1123, '......'), (1124, '걸까'), (1125, '아닌데'), (1126, '먹먹'), (1127, '어떻'), (1128, '봣는데'), (1129, '랄까'), (1130, '실제'), (1131, '바람'), (1132, '엿'), (1133, '더군요'), (1134, '새'), (1135, '되게'), (1136, '병'), (1137, '백'), (1138, '인정'), (1139, '대충'), (1140, '마시'), (1141, '위대'), (1142, '\"\"\"'), (1143, '군대'), (1144, '관심'), (1145, '후반'), (1146, '마저'), (1147, '깊이'), (1148, '그런가'), (1149, '으며'), (1150, '핵'), (1151, '성공'), (1152, '카메라'), (1153, '탄'), (1154, '선생'), (1155, '올'), (1156, '꼴'), (1157, 'OST'), (1158, '악'), (1159, '범인'), (1160, '과정'), (1161, '차이'), (1162, '생애'), (1163, '제작비'), (1164, '아닐까'), (1165, '손발'), (1166, '빵'), (1167, '키'), (1168, '보여준'), (1169, '사극'), (1170, '시도'), (1171, '젊'), (1172, '천'), (1173, '드립니다'), (1174, '가득'), (1175, '언니'), (1176, '겁나'), (1177, '귀여운'), (1178, '께'), (1179, '성인'), (1180, '박수'), (1181, '='), (1182, '웃긴'), (1183, '봅니다'), (1184, '은지'), (1185, '심'), (1186, '매'), (1187, '늘'), (1188, '늙'), (1189, '미소'), (1190, '평생'), (1191, '가끔'), (1192, '억'), (1193, '^'), (1194, '그럼'), (1195, '스케일'), (1196, '바라'), (1197, '됩니다'), (1198, '어쩌'), (1199, '케이블'), (1200, '우울'), (1201, '동생'), (1202, '낚였'), (1203, '결론'), (1204, '광고'), (1205, '젤'), (1206, '다소'), (1207, '확실히'), (1208, '얻'), (1209, 'cg'), (1210, '여서'), (1211, '벗'), (1212, '심심'), (1213, '남주'), (1214, '한계'), (1215, '괴물'), (1216, '영웅'), (1217, '모'), (1218, '메시지'), (1219, '일상'), (1220, '12'), (1221, '자유'), (1222, '리얼'), (1223, '귀'), (1224, '채널'), (1225, '러브'), (1226, '소'), (1227, '당하'), (1228, '거지'), (1229, '산만'), (1230, '<'), (1231, 'ㅇ'), (1232, '충분'), (1233, '폭력'), (1234, '가진'), (1235, '잤'), (1236, '고민'), (1237, '슬픔'), (1238, '커플'), (1239, '아침'), (1240, '제작진'), (1241, '볼수록'), (1242, '의리'), (1243, '질리'), (1244, '조폭'), (1245, '자막'), (1246, '독립영화'), (1247, '율'), (1248, '정'), (1249, '걸로'), (1250, '올리'), (1251, '연애'), (1252, '져'), (1253, '리뷰'), (1254, '기본'), (1255, '훨'), (1256, '싸우'), (1257, '아까웠'), (1258, '성장'), (1259, '.?'), (1260, '끼'), (1261, '흐름'), (1262, '표절'), (1263, '밤'), (1264, '쩐'), (1265, '아라'), (1266, '퀄리티'), (1267, '뮤지컬'), (1268, '정말로'), (1269, '자는'), (1270, '소장'), (1271, '여행'), (1272, '상상력'), (1273, '시선'), (1274, '스타'), (1275, '개판'), (1276, '짝'), (1277, '코드'), (1278, '살짝'), (1279, '여전히'), (1280, '박'), (1281, '한다고'), (1282, '시청자'), (1283, '♡'), (1284, '악역'), (1285, '어린이'), (1286, '굳이'), (1287, '열심히'), (1288, '덕분'), (1289, '줘야'), (1290, '유일'), (1291, '포장'), (1292, '웃겨'), (1293, '몸매'), (1294, '통해'), (1295, '완성도'), (1296, '포기'), (1297, '우정'), (1298, '감탄'), (1299, '동물'), (1300, '막판'), (1301, '불륜'), (1302, '알려'), (1303, '듯이'), (1304, '최'), (1305, '생겼'), (1306, '반성'), (1307, '인기'), (1308, '분노'), (1309, '테'), (1310, '정서'), (1311, '40'), (1312, '과연'), (1313, '베'), (1314, '느'), (1315, '덜'), (1316, '어찌'), (1317, '깔끔'), (1318, '실패'), (1319, '고전'), (1320, '드럽'), (1321, '입도'), (1322, '쫌'), (1323, '자식'), (1324, '상처'), (1325, '~~~~'), (1326, '&'), (1327, '용서'), (1328, '정치'), (1329, '이연걸'), (1330, '몰라도'), (1331, '딴'), (1332, '딩'), (1333, '불가'), (1334, '종교'), (1335, '약'), (1336, '선'), (1337, '빡'), (1338, '섹시'), (1339, '방'), (1340, '싸이코'), (1341, '귀여워'), (1342, '압권'), (1343, '난해'), (1344, '니깐'), (1345, '달리'), (1346, '의심'), (1347, '섹스'), (1348, '고생'), (1349, '으론'), (1350, '저예산'), (1351, '예쁜'), (1352, '까진'), (1353, '업'), (1354, '터지'), (1355, '빛'), (1356, '코'), (1357, '북한'), (1358, '언제나'), (1359, '70'), (1360, '블랙'), (1361, '홍보'), (1362, '끼리'), (1363, '힐링'), (1364, '더만'), (1365, '공부'), (1366, '특별'), (1367, '비하'), (1368, 'ㅇㅇ'), (1369, 'b'), (1370, '~^^'), (1371, '긴장'), (1372, '춤'), (1373, '시켜'), (1374, '루'), (1375, '살아가'), (1376, '국민'), (1377, '등장인물'), (1378, '본방'), (1379, 'ㅁ'), (1380, '에휴'), (1381, '트'), (1382, '느와르'), (1383, '통쾌'), (1384, '권'), (1385, '웃겼'), (1386, '죄'), (1387, '보인다'), (1388, '어제'), (1389, '휴'), (1390, '니다'), (1391, '쉬'), (1392, '돌아가'), (1393, '불쾌'), (1394, '펑펑'), (1395, '남편'), (1396, '재난'), (1397, '나머지'), (1398, '눈빛'), (1399, '하나하나'), (1400, '지겹'), (1401, '더라구요'), (1402, '먼'), (1403, '보내'), (1404, '더라도'), (1405, '놀랍'), (1406, '다큐멘터리'), (1407, '열정'), (1408, '아까'), (1409, '그립'), (1410, '봐요'), (1411, '이기'), (1412, '쪽'), (1413, '뜨'), (1414, '늦'), (1415, '신경'), (1416, '누나'), (1417, '의외'), (1418, '찡'), (1419, '아오'), (1420, '올해'), (1421, '_'), (1422, '연결'), (1423, '볼거리'), (1424, '줘서'), (1425, '밥'), (1426, '남녀'), (1427, '암튼'), (1428, '조잡'), (1429, '씁쓸'), (1430, '깨'), (1431, '그럭저럭'), (1432, '파'), (1433, '표'), (1434, '입장'), (1435, '우주'), (1436, 'ㄹ'), (1437, '쓰래'), (1438, '디즈니'), (1439, '비극'), (1440, '비판'), (1441, '시원'), (1442, '연예인'), (1443, '못할'), (1444, '지구'), (1445, '오락'), (1446, '으로서'), (1447, '아쉬웠'), (1448, '살리'), (1449, '비주얼'), (1450, '반개'), (1451, '와서'), (1452, '아픔'), (1453, '11'), (1454, '아련'), (1455, '출연진'), (1456, '그다지'), (1457, '줘'), (1458, '스러움'), (1459, '무시'), (1460, '반복'), (1461, '무협'), (1462, '그걸'), (1463, '생기'), (1464, '게다가'), (1465, '이제야'), (1466, '히어로'), (1467, '심각'), (1468, '자리'), (1469, '려면'), (1470, '바뀌'), (1471, '불구'), (1472, '실력'), (1473, '게이'), (1474, '50'), (1475, '딱히'), (1476, '돌려'), (1477, '닮'), (1478, '을지'), (1479, '악당'), (1480, '썼'), (1481, '결과'), (1482, '헐리우드'), (1483, '과장'), (1484, '한지'), (1485, '강렬'), (1486, '아줌마'), (1487, '설마'), (1488, '러닝'), (1489, '실'), (1490, '지요'), (1491, '뜻'), (1492, '때리'), (1493, '로써'), (1494, '의문'), (1495, '들어가'), (1496, '방금'), (1497, '하루'), (1498, '쓸'), (1499, '션'), (1500, '부르'), (1501, '냐고'), (1502, '한다면'), (1503, '그거'), (1504, '썩'), (1505, '영환'), (1506, '시사회'), (1507, '단지'), (1508, '싸구려'), (1509, '맞추'), (1510, '한국인'), (1511, '아픈'), (1512, '깨닫'), (1513, '발견'), (1514, '소소'), (1515, '맨날'), (1516, '태어나'), (1517, '이때'), (1518, '덕'), (1519, '존경'), (1520, '라지만'), (1521, '희생'), (1522, '시각'), (1523, '오글거리'), (1524, '낳'), (1525, '어머니'), (1526, '뛰어난'), (1527, '벌'), (1528, '놀랐'), (1529, '이영화'), (1530, '대화'), (1531, '방식'), (1532, '생활'), (1533, '싸'), (1534, '섬세'), (1535, '돌리'), (1536, '청소년'), (1537, '흔한'), (1538, '확'), (1539, '풋풋'), (1540, '방법'), (1541, '새벽'), (1542, '본인'), (1543, '입감'), (1544, '무서웠'), (1545, '로봇'), (1546, '무언가'), (1547, '초등'), (1548, '조절'), (1549, '갑니다'), (1550, '진리'), (1551, '고통'), (1552, '발전'), (1553, '버'), (1554, '밋밋'), (1555, '아역'), (1556, '그린'), (1557, '외모'), (1558, '따위'), (1559, '쇼'), (1560, '찝찝'), (1561, '벌써'), (1562, '베스트'), (1563, '흐르'), (1564, '심장'), (1565, '전문가'), (1566, '야한'), (1567, '인도'), (1568, '아이돌'), (1569, '외국'), (1570, '이따위'), (1571, '필름'), (1572, '세기'), (1573, '누군가'), (1574, '견자단'), (1575, '이미지'), (1576, '짝퉁'), (1577, '아류'), (1578, '어려운'), (1579, '느낀'), (1580, '푹'), (1581, '묻'), (1582, '헐리'), (1583, '19'), (1584, '글쎄'), (1585, '기에'), (1586, '로그인'), (1587, '사수'), (1588, '야하'), (1589, '시킨'), (1590, '완'), (1591, '유'), (1592, '시트콤'), (1593, '장애'), (1594, '갈등'), (1595, '창'), (1596, '스스로'), (1597, '상업'), (1598, '김기덕'), (1599, '테러'), (1600, '영어'), (1601, '진다'), (1602, '기다리'), (1603, '고요'), (1604, '이쁜'), (1605, '미스'), (1606, '죄다'), (1607, '했으나'), (1608, '그려'), (1609, '연속'), (1610, '스러웠'), (1611, '???'), (1612, '본다면'), (1613, '애기'), (1614, '한가'), (1615, '국내'), (1616, '['), (1617, '느라'), (1618, '월'), (1619, '끼치'), (1620, '뭉클'), (1621, '쩝'), (1622, '미드'), (1623, '교육'), (1624, '특이'), (1625, '국가'), (1626, '기술'), (1627, '시걸'), (1628, '자살'), (1629, '와우'), (1630, '명품'), (1631, '인해'), (1632, '깜짝'), (1633, '대중'), (1634, '..?'), (1635, '오브'), (1636, '쏘'), (1637, '사기'), (1638, '앤'), (1639, '오버'), (1640, '학생'), (1641, '망했'), (1642, '세월'), (1643, '영원'), (1644, '주말'), (1645, '특수'), (1646, '어여'), (1647, '극치'), (1648, '미모'), (1649, '쥐'), (1650, '주변'), (1651, '겨울'), (1652, '지나치'), (1653, ']'), (1654, '라인'), (1655, '점주'), (1656, '착한'), (1657, '조합'), (1658, '레전드'), (1659, '형편없'), (1660, '18'), (1661, '봐야지'), (1662, '갠'), (1663, '그지'), (1664, '경험'), (1665, '래'), (1666, '에피소드'), (1667, '해석'), (1668, '해야지'), (1669, '탑'), (1670, '13'), (1671, '녀'), (1672, '아름다움'), (1673, '갑'), (1674, '한참'), (1675, '편견'), (1676, '무지'), (1677, '신고'), (1678, '슬펐'), (1679, '는군'), (1680, '채'), (1681, '새롭'), (1682, '치밀'), (1683, '참고'), (1684, '명화'), (1685, '솔직'), (1686, '챙겨'), (1687, '고양이'), (1688, '륜'), (1689, '꼬'), (1690, '어휴'), (1691, '터'), (1692, '양'), (1693, '검색'), (1694, '학년'), (1695, '포'), (1696, '단연'), (1697, '영국'), (1698, '투자'), (1699, '캐'), (1700, '이용'), (1701, '시시'), (1702, '엉'), (1703, '스크린'), (1704, '뽑'), (1705, '할지'), (1706, '우와'), (1707, '멀'), (1708, '양심'), (1709, '007'), (1710, '뇌'), (1711, '포인트'), (1712, '찌질'), (1713, '등등'), (1714, '무척'), (1715, '다양'), (1716, '영혼'), (1717, '사진'), (1718, '민망'), (1719, '대부분'), (1720, '저렇게'), (1721, '허세'), (1722, '확실'), (1723, '자면'), (1724, '.......'), (1725, '꼽'), (1726, '싸움'), (1727, '기독교'), (1728, '돋보이'), (1729, '대표'), (1730, '21'), (1731, '으로써'), (1732, '형사'), (1733, '찾아보'), (1734, '즐거운'), (1735, '놀'), (1736, '그럴'), (1737, '완성'), (1738, '인가요'), (1739, 'C'), (1740, '맡'), (1741, '복잡'), (1742, '갓'), (1743, '위해서'), (1744, '달달'), (1745, '초등학생'), (1746, '레알'), (1747, '실제로'), (1748, '호'), (1749, '놀라'), (1750, '외계인'), (1751, '빈'), (1752, '마이너스'), (1753, '용기'), (1754, '겁니다'), (1755, '생생'), (1756, '일어나'), (1757, '패러디'), (1758, '링'), (1759, '옆'), (1760, '줍니다'), (1761, '망한'), (1762, '꽝'), (1763, '기자'), (1764, 'good'), (1765, '명성'), (1766, '보였'), (1767, '카리스마'), (1768, '조작'), (1769, '셔서'), (1770, '즐기'), (1771, '더러운'), (1772, '변화'), (1773, '응원'), (1774, '기억나'), (1775, '유발'), (1776, '아내'), (1777, '력'), (1778, '된다는'), (1779, '죽여'), (1780, '코난'), (1781, '못해'), (1782, '포르노'), (1783, '도전'), (1784, '대해서'), (1785, '개념'), (1786, '미쳤'), (1787, '땅'), (1788, '적절'), (1789, '관점'), (1790, '드림'), (1791, '풍경'), (1792, '센스'), (1793, '완전히'), (1794, '망치'), (1795, '더라면'), (1796, '인상깊'), (1797, '개막'), (1798, '개뿔'), (1799, '얘'), (1800, '직접'), (1801, '이야'), (1802, '더불'), (1803, '레'), (1804, '개성'), (1805, '화끈'), (1806, '버림'), (1807, '내요'), (1808, '틈'), (1809, '크리스마스'), (1810, '따로'), (1811, '할머니'), (1812, '허'), (1813, '전반'), (1814, '아냐'), (1815, 'x'), (1816, '잠깐'), (1817, '의식'), (1818, '스트레스'), (1819, '역겹'), (1820, '느껴진다'), (1821, '꽃'), (1822, '일품'), (1823, '대본'), (1824, '피해자'), (1825, '변태'), (1826, '전기세'), (1827, '수고'), (1828, '형제'), (1829, '아름다웠'), (1830, '악마'), (1831, '탓'), (1832, '빌려'), (1833, 'ㅠㅠㅠㅠ'), (1834, 'M'), (1835, '당연'), (1836, '가수'), (1837, '기준'), (1838, '공짜'), (1839, '무술'), (1840, '@'), (1841, '디테일'), (1842, '흘리'), (1843, '모를'), (1844, '데리'), (1845, '욕망'), (1846, '기법'), (1847, '야동'), (1848, '젠장'), (1849, '몇몇'), (1850, '관한'), (1851, '자고'), (1852, '아까울'), (1853, '빵점'), (1854, '정상'), (1855, '★'), (1856, ';;;;'), (1857, '는데요'), (1858, '내면'), (1859, '울리'), (1860, '전투'), (1861, '칼'), (1862, '기회'), (1863, '그건'), (1864, '전문'), (1865, '씀'), (1866, '어용'), (1867, '선물'), (1868, '다룬'), (1869, '빈약'), (1870, '열받'), (1871, '패'), (1872, '뜬금없'), (1873, '성격'), (1874, '아마'), (1875, '이렇'), (1876, '잔'), (1877, '주성치'), (1878, '2014'), (1879, '감흥'), (1880, '방영'), (1881, '정의'), (1882, '움'), (1883, '오바'), (1884, '상태'), (1885, '감히'), (1886, 'DVD'), (1887, '뛰어넘'), (1888, '보통'), (1889, '공'), (1890, '비밀'), (1891, '참으로'), (1892, '졸리'), (1893, '따구'), (1894, '얼마'), (1895, '안습'), (1896, '해결'), (1897, '칠'), (1898, '효'), (1899, '현대'), (1900, '바꾸'), (1901, 'ㅣ'), (1902, '팀'), (1903, '감명깊'), (1904, '옷'), (1905, '사상'), (1906, '레딧'), (1907, '골'), (1908, '배역'), (1909, 'the'), (1910, '흑인'), (1911, '미화'), (1912, '근래'), (1913, '이래서'), (1914, '어야지'), (1915, '픈'), (1916, '기발'), (1917, '이럴'), (1918, '거짓말'), (1919, '단어'), (1920, '쵝오'), (1921, '정체'), (1922, '무리'), (1923, '단편'), (1924, '만남'), (1925, '흘러가'), (1926, '조아'), (1927, '앉'), (1928, '감각'), (1929, '웬만'), (1930, '제로'), (1931, '남겨'), (1932, '캬'), (1933, '말아먹'), (1934, '젼'), (1935, '볼려고'), (1936, '지났'), (1937, '으니까'), (1938, '색감'), (1939, '아래'), (1940, '라기'), (1941, '껏'), (1942, '아동'), (1943, '내생'), (1944, '아예'), (1945, '최초'), (1946, '떨어진다'), (1947, '아기'), (1948, '.;;'), (1949, '여름'), (1950, '부부'), (1951, '빛나'), (1952, '끝난'), (1953, '영원히'), (1954, '투'), (1955, '안타까운'), (1956, '어쩜'), (1957, '잔뜩'), (1958, '심오'), (1959, '보임'), (1960, '뛰'), (1961, '설레'), (1962, '공포물'), (1963, '세련'), (1964, '보여준다'), (1965, '시기'), (1966, '작위'), (1967, '껐'), (1968, '!!!!'), (1969, '생각없이'), (1970, '부실'), (1971, '바랍니다'), (1972, '차별'), (1973, '약하'), (1974, '동시'), (1975, '겨우'), (1976, '살린'), (1977, '여러분'), (1978, '탄생'), (1979, '구하'), (1980, '영환데'), (1981, '조화'), (1982, '키스'), (1983, '이끌'), (1984, '이쁨'), (1985, '확인'), (1986, '정보'), (1987, '다루'), (1988, '깎'), (1989, '강력'), (1990, '진정한'), (1991, '꼬마'), (1992, '그만큼'), (1993, '빠져들'), (1994, '예능'), (1995, '빠진'), (1996, '모험'), (1997, '관련'), (1998, '왜곡'), (1999, '슈퍼'), (2000, '승리'), (2001, '왠'), (2002, '치곤'), (2003, '삭제'), (2004, '자주'), (2005, '최강'), (2006, '이루'), (2007, '넹'), (2008, '........'), (2009, '풍자'), (2010, 'A'), (2011, '씹'), (2012, '살려'), (2013, '아닙니다'), (2014, '색다른'), (2015, '해진다'), (2016, '겪'), (2017, '폐지'), (2018, '여태'), (2019, '운'), (2020, '는대'), (2021, '포스'), (2022, '결코'), (2023, '흉내'), (2024, '강하'), (2025, '사고'), (2026, '촌스럽'), (2027, '토'), (2028, '운명'), (2029, '느껴졌'), (2030, 'X'), (2031, 'sf'), (2032, '매일'), (2033, '목'), (2034, '본지'), (2035, '려다'), (2036, '연극'), (2037, '히'), (2038, '연인'), (2039, '겨'), (2040, '매니아'), (2041, '제외'), (2042, '낚시'), (2043, '망쳐'), (2044, '목적'), (2045, '호구'), (2046, '꾼'), (2047, '드리'), (2048, '혹은'), (2049, '아이디어'), (2050, '앞뒤'), (2051, '드라'), (2052, '무서움'), (2053, '이어지'), (2054, '감안'), (2055, '심지어'), (2056, '오랫만'), (2057, '한숨'), (2058, '컷'), (2059, '떼'), (2060, '요리'), (2061, '적당히'), (2062, '절'), (2063, '먼가'), (2064, '하늘'), (2065, '빵빵'), (2066, '내리'), (2067, '을까요'), (2068, '혹시'), (2069, '블록버스터'), (2070, '끔찍'), (2071, '신비'), (2072, '올려'), (2073, '냄새'), (2074, '아무런'), (2075, '짠'), (2076, '꾸'), (2077, '60'), (2078, '플'), (2079, '♥♥'), (2080, '따라가'), (2081, '넌'), (2082, '걸리'), (2083, '찌'), (2084, '즈'), (2085, '열연'), (2086, '모양'), (2087, '멜로'), (2088, '건가요'), (2089, '일반'), (2090, '공주'), (2091, '할아버지'), (2092, '시점'), (2093, '후속작'), (2094, 'ㅠㅜ'), (2095, '무료'), (2096, '내일'), (2097, '바라보'), (2098, '대놓고'), (2099, '못함'), (2100, '담배'), (2101, '대신'), (2102, 'ㅉㅉㅉ'), (2103, '곡'), (2104, '버전'), (2105, '천국'), (2106, '닥'), (2107, '즐거웠'), (2108, '빠르'), (2109, '바다'), (2110, '가요'), (2111, '혀'), (2112, '브'), (2113, '이제서야'), (2114, '파괴'), (2115, '살렸'), (2116, '구리'), (2117, '라곤'), (2118, '당황'), (2119, '주기'), (2120, '수많'), (2121, '플롯'), (2122, '그야말로'), (2123, '이전'), (2124, '우분'), (2125, '조카'), (2126, '호감'), (2127, '화나'), (2128, '건만'), (2129, '장국영'), (2130, '돌아보'), (2131, '금'), (2132, '안감'), (2133, '중독'), (2134, '버릴'), (2135, '중심'), (2136, '신파'), (2137, '부탁'), (2138, '심형래'), (2139, '.^^'), (2140, '과학'), (2141, '예산'), (2142, '다섯'), (2143, '추리'), (2144, '소년'), (2145, '사투리'), (2146, '집착'), (2147, '잠시'), (2148, '술'), (2149, '마디'), (2150, '논리'), (2151, '가정'), (2152, '울컥'), (2153, '마냥'), (2154, '교과서'), (2155, '마리'), (2156, '예수'), (2157, '임팩트'), (2158, '야구'), (2159, '따름'), (2160, '대통령'), (2161, '이뻐서'), (2162, '욕심'), (2163, '신나'), (2164, '강한'), (2165, '못한다'), (2166, '종영'), (2167, '워'), (2168, '잭'), (2169, '여친'), (2170, '~!!!'), (2171, '터짐'), (2172, '의사'), (2173, '야지'), (2174, '체'), (2175, '옛'), (2176, '망하'), (2177, '동네'), (2178, '막히'), (2179, '별반'), (2180, '카'), (2181, '엠'), (2182, '끊'), (2183, '다를'), (2184, '쓸데없이'), (2185, '수입'), (2186, '거부'), (2187, '색'), (2188, '사라지'), (2189, '힘내'), (2190, '따분'), (2191, '정작'), (2192, '어처구니'), (2193, '강'), (2194, '볼까'), (2195, '일부러'), (2196, '뭘까'), (2197, '고맙'), (2198, '조선'), (2199, '마이클'), (2200, '상영관'), (2201, '손가락'), (2202, '명배우'), (2203, '놀라운'), (2204, '당연히'), (2205, '영화제'), (2206, '위험'), (2207, '깍'), (2208, '고등학교'), (2209, '뛰어나'), (2210, '멋졌'), (2211, '처'), (2212, '탈출'), (2213, '환경'), (2214, '명장면'), (2215, '설득력'), (2216, '네유'), (2217, '터미네이터'), (2218, '르'), (2219, '컨셉'), (2220, '는군요'), (2221, '문'), (2222, '하품'), (2223, '실수'), (2224, '공간'), (2225, '난리'), (2226, '잔혹'), (2227, '쿡'), (2228, '일깨워'), (2229, '미녀'), (2230, '클레멘타인'), (2231, '만약'), (2232, '무서워'), (2233, '고서'), (2234, '끼워'), (2235, '중학교'), (2236, '당할'), (2237, '가벼운'), (2238, '로코'), (2239, '뱀파이어'), (2240, '바탕'), (2241, '때우'), (2242, 'dvd'), (2243, '최대'), (2244, '콩'), (2245, '혹시나'), (2246, '껄'), (2247, '따지'), (2248, '결정'), (2249, '짜임새'), (2250, '주윤발'), (2251, '자랑'), (2252, '지경'), (2253, '반드시'), (2254, '론'), (2255, '해리포터'), (2256, '음식'), (2257, '동심'), (2258, '사운드'), (2259, '해진'), (2260, '14'), (2261, '저급'), (2262, '인형'), (2263, '든지'), (2264, '착각'), (2265, '루즈'), (2266, '구역'), (2267, '잖'), (2268, '베드'), (2269, '고어'), (2270, '망친'), (2271, '재능'), (2272, '스러워'), (2273, '마약'), (2274, '멍'), (2275, '따듯'), (2276, 'd'), (2277, '조니뎁'), (2278, '숨겨진'), (2279, '반대'), (2280, '빠른'), (2281, '그대'), (2282, '나간'), (2283, '우뢰매'), (2284, '밝'), (2285, '값'), (2286, '자동차'), (2287, '거장'), (2288, '박진감'), (2289, '2000'), (2290, '발상'), (2291, '심한'), (2292, '친'), (2293, '희대'), (2294, '선동'), (2295, '놨'), (2296, '단순히'), (2297, '뭥미'), (2298, '--'), (2299, '다신'), (2300, '사용'), (2301, '홍상수'), (2302, '동성애'), (2303, '하지원'), (2304, '침'), (2305, 'I'), (2306, '부럽'), (2307, '애매'), (2308, '려다가'), (2309, '옴'), (2310, '책임'), (2311, '편안'), (2312, '생긴'), (2313, '이소룡'), (2314, '인내심'), (2315, '틱'), (2316, '다크'), (2317, '떠오르'), (2318, '국판'), (2319, '살인마'), (2320, '폭발'), (2321, '여인'), (2322, '극단'), (2323, '선정'), (2324, '평균'), (2325, '만화책'), (2326, '걱정'), (2327, '실험'), (2328, '기적'), (2329, '분장'), (2330, '절정'), (2331, '의상'), (2332, '잠들'), (2333, '군인'), (2334, '나이트'), (2335, '☆'), (2336, '빌'), (2337, '디워'), (2338, '하정우'), (2339, '익숙'), (2340, '버려'), (2341, '간만'), (2342, '엄청나'), (2343, '피해'), (2344, '저렇'), (2345, '엇다'), (2346, '귀여움'), (2347, '리즈'), (2348, '정신병자'), (2349, '뽕'), (2350, '으시'), (2351, '누군지'), (2352, '떨어짐'), (2353, '및'), (2354, '참나'), (2355, '해졌'), (2356, '난잡'), (2357, '아무튼'), (2358, '우려먹'), (2359, '부작'), (2360, '전하'), (2361, 'of'), (2362, '이토록'), (2363, '섞'), (2364, '동영상'), (2365, '의지'), (2366, '블'), (2367, '나레이션'), (2368, '쓸데없'), (2369, '분량'), (2370, '세대'), (2371, '붙'), (2372, '만난'), (2373, '적어도'), (2374, '할리우드'), (2375, '끈'), (2376, '목숨'), (2377, '메'), (2378, '느니'), (2379, '상대'), (2380, '돼지'), (2381, '민폐'), (2382, '도움'), (2383, '준비'), (2384, '주일'), (2385, '검'), (2386, '떄'), (2387, '연상'), (2388, '인터넷'), (2389, '도무지'), (2390, '당한'), (2391, '흑'), (2392, '빠져서'), (2393, 'a'), (2394, '인종'), (2395, '탈'), (2396, '남성'), (2397, '영향'), (2398, '마이'), (2399, '반지'), (2400, '22'), (2401, '여신'), (2402, '요새'), (2403, '패스'), (2404, '믿기'), (2405, '우연'), (2406, '응'), (2407, '킹'), (2408, '솔'), (2409, '낚이'), (2410, '짐캐리'), (2411, '거품'), (2412, '중간중간'), (2413, '줘도'), (2414, '샘'), (2415, '재개봉'), (2416, '명대사'), (2417, '다리'), (2418, '평화'), (2419, '원조'), (2420, '출신'), (2421, '뗄'), (2422, '하하'), (2423, '흑백'), (2424, '배트맨'), (2425, '소화'), (2426, '아놀드'), (2427, '진수'), (2428, '처절'), (2429, '장난치'), (2430, '서울'), (2431, '저리'), (2432, '네티즌'), (2433, '퍼'), (2434, '광'), (2435, '국'), (2436, '죄송'), (2437, '기존'), (2438, '송강호'), (2439, '유럽'), (2440, '김치'), (2441, '격'), (2442, '평소'), (2443, '흥'), (2444, '어쩌면'), (2445, '에다'), (2446, '겉멋'), (2447, '하아'), (2448, '부끄럽'), (2449, '발음'), (2450, '하도'), (2451, '건강'), (2452, '비중'), (2453, '배급사'), (2454, '25'), (2455, '옹'), (2456, '축구'), (2457, '조용'), (2458, '소개'), (2459, '굉장'), (2460, '위로'), (2461, '놓치'), (2462, '뭣'), (2463, '이라도'), (2464, '계기'), (2465, '수록'), (2466, '놀이'), (2467, '스포츠'), (2468, '유지'), (2469, '생각난다'), (2470, '충실'), (2471, '극복'), (2472, '빠졌'), (2473, '거림'), (2474, '벗어나'), (2475, '판단'), (2476, '쌍'), (2477, '도시'), (2478, '선수'), (2479, '애절'), (2480, '깡패'), (2481, '으려고'), (2482, '양아치'), (2483, '봣'), (2484, '라스트'), (2485, '왤케'), (2486, '쭉'), (2487, '인류'), (2488, '오프닝'), (2489, '언젠가'), (2490, '각'), (2491, '리얼리티'), (2492, '러시아'), (2493, '거북'), (2494, '능'), (2495, '꿈꾸'), (2496, '즐겨'), (2497, '정우성'), (2498, '구조'), (2499, '려나'), (2500, '망할'), (2501, '제이슨'), (2502, '반영'), (2503, '.........'), (2504, '설'), (2505, '그동안'), (2506, '곧'), (2507, '글자'), (2508, '제임스'), (2509, '무대'), (2510, '눈물나'), (2511, '담백'), (2512, '일본인'), (2513, '`'), (2514, '떨'), (2515, '무한'), (2516, '최고봉'), (2517, '아까워서'), (2518, '끔'), (2519, '변하'), (2520, '에다가'), (2521, '게스트'), (2522, '왕국'), (2523, '톰'), (2524, '무겁'), (2525, '으리'), (2526, '재미나'), (2527, '찾아볼'), (2528, '차원'), (2529, '로드'), (2530, '달콤'), (2531, '반담'), (2532, '가까운'), (2533, '어둡'), (2534, '으신'), (2535, '말투'), (2536, '류승범'), (2537, '만났'), (2538, '은근히'), (2539, '납니다'), (2540, '탁월'), (2541, '넘어가'), (2542, '빨갱이'), (2543, '로버트'), (2544, '품'), (2545, '잉'), (2546, '제왕'), (2547, '찬'), (2548, '단체'), (2549, '파리'), (2550, '도데체'), (2551, '온다'), (2552, '최소한'), (2553, '압도'), (2554, '역량'), (2555, '최소'), (2556, '독일'), (2557, '파격'), (2558, '느리'), (2559, '연'), (2560, '개콘'), (2561, '호기심'), (2562, '과하'), (2563, '정당'), (2564, '부정'), (2565, '컴퓨터'), (2566, '는다는'), (2567, '진한'), (2568, '단점'), (2569, '둘째치'), (2570, '멘'), (2571, '각색'), (2572, '몽환'), (2573, '드디어'), (2574, '접'), (2575, '상어'), (2576, '유아'), (2577, '각자'), (2578, '자마자'), (2579, '날리'), (2580, '깨알'), (2581, '전화'), (2582, '세여'), (2583, '범죄자'), (2584, '선사'), (2585, '깨달'), (2586, '바꿔'), (2587, '도와'), (2588, '치유'), (2589, '중년'), (2590, '2012'), (2591, '헛웃음'), (2592, '우리나라'), (2593, '즐길'), (2594, '아닐'), (2595, '부리'), (2596, '아쉬워'), (2597, '편하'), (2598, '옥'), (2599, '브루스'), (2600, '글고'), (2601, '죤'), (2602, '쏟'), (2603, '올라가'), (2604, '명불허전'), (2605, '부인'), (2606, '킬러'), (2607, '좌'), (2608, '정리'), (2609, '튼'), (2610, 'ㅉ'), (2611, '뎅'), (2612, '엄'), (2613, '당했'), (2614, '배꼽'), (2615, '하나님'), (2616, '신하균'), (2617, '폭풍'), (2618, '비행기'), (2619, '세포'), (2620, '이병헌'), (2621, '로웠'), (2622, '움직이'), (2623, '해선'), (2624, '뮤직'), (2625, '죽인'), (2626, '아팠'), (2627, '나왓'), (2628, '밀'), (2629, '녀석'), (2630, '화장실'), (2631, '그라'), (2632, '어두운'), (2633, '부활'), (2634, '촌'), (2635, '오글오글'), (2636, '임창정'), (2637, '대결'), (2638, '향수'), (2639, '말씀'), (2640, '불안'), (2641, '지나가'), (2642, '본능'), (2643, '닥치'), (2644, '짠하'), (2645, '신인'), (2646, '역겨운'), (2647, '졸업'), (2648, '림'), (2649, '하이틴'), (2650, '무게'), (2651, '나타나'), (2652, '된다고'), (2653, '징'), (2654, '만세'), (2655, '웰메이드'), (2656, '억울'), (2657, '흐'), (2658, '교회'), (2659, '고뇌'), (2660, '현'), (2661, '슬'), (2662, '폰'), (2663, '락'), (2664, '민족'), (2665, 'you'), (2666, '짜릿'), (2667, '매번'), (2668, '매미'), (2669, '대상'), (2670, 'EBS'), (2671, '캐릭'), (2672, '미스터리'), (2673, '엽기'), (2674, '노인'), (2675, '명복'), (2676, '백인'), (2677, '덩어리'), (2678, '스티븐'), (2679, '일부'), (2680, '베리'), (2681, '지르'), (2682, '등록'), (2683, '애초'), (2684, '드문'), (2685, '진진'), (2686, '바닥'), (2687, '액션물'), (2688, '튀'), (2689, '실감'), (2690, '처리'), (2691, '이만'), (2692, '가히'), (2693, '무거운'), (2694, '짬뽕'), (2695, '껀'), (2696, '타란티노'), (2697, '순위'), (2698, '몬'), (2699, '대전'), (2700, '44'), (2701, '..........'), (2702, '쓸쓸'), (2703, '뜬금없이'), (2704, '닼'), (2705, '똑같이'), (2706, '좋아할'), (2707, '제니퍼'), (2708, '명연기'), (2709, '습니까'), (2710, '착하'), (2711, '시장'), (2712, '해준다'), (2713, '연습'), (2714, '무간도'), (2715, '불과'), (2716, '직업'), (2717, '높이'), (2718, '상징'), (2719, '녹'), (2720, '구분'), (2721, '유덕화'), (2722, '아만다'), (2723, '기사'), (2724, '털'), (2725, '예측'), (2726, '공유'), (2727, '발랄'), (2728, '절망'), (2729, '재방'), (2730, '슈'), (2731, '오로지'), (2732, '맞춘'), (2733, '은근'), (2734, '개그맨'), (2735, '전이'), (2736, '회사'), (2737, '창피'), (2738, '여전'), (2739, '소통'), (2740, '담긴'), (2741, '♥♥♥'), (2742, '천만'), (2743, '지키'), (2744, '총체'), (2745, '박보영'), (2746, '미국식'), (2747, '박중훈'), (2748, '맛있'), (2749, '강간'), (2750, '지식'), (2751, '필'), (2752, '얼'), (2753, 'T'), (2754, '미스테리'), (2755, '채우'), (2756, '준거'), (2757, '내게'), (2758, '스파이더맨'), (2759, '절제'), (2760, '올레'), (2761, '담겨'), (2762, '떠'), (2763, '초월'), (2764, '짜집기'), (2765, '생명'), (2766, '특집'), (2767, '흡입력'), (2768, '정부'), (2769, '.!'), (2770, '신화'), (2771, '우린'), (2772, '스타뎀'), (2773, '거대'), (2774, '킬'), (2775, '관'), (2776, '공룡'), (2777, '흘렸'), (2778, '모른다'), (2779, '경우'), (2780, '연관'), (2781, '향연'), (2782, '간지'), (2783, '무식'), (2784, '개꿀'), (2785, '마누라'), (2786, '부산'), (2787, '듭니다'), (2788, '대부'), (2789, '장점'), (2790, '알파치노'), (2791, '변신'), (2792, '레옹'), (2793, '칭찬'), (2794, '깔'), (2795, '재앙'), (2796, '김수현'), (2797, '.........................'), (2798, '다시금'), (2799, '왓'), (2800, '강동원'), (2801, '아쉬울'), (2802, '존스'), (2803, '도둑'), (2804, '풍'), (2805, '영화사'), (2806, '비록'), (2807, 'movie'), (2808, '배신'), (2809, '의한'), (2810, '사과'), (2811, '오그라드'), (2812, '미션'), (2813, '혐오'), (2814, '웬'), (2815, '본질'), (2816, '한방'), (2817, '동양'), (2818, '암울'), (2819, '최후'), (2820, '묘한'), (2821, '늘어지'), (2822, '뒷'), (2823, '원숭이'), (2824, '뒤죽박죽'), (2825, '커서'), (2826, '포함'), (2827, '도중'), (2828, '혁명'), (2829, '던데요'), (2830, '들어간'), (2831, '서부'), (2832, '돋보였'), (2833, '무난'), (2834, '클래식'), (2835, '지옥'), (2836, '땡'), (2837, '합시다'), (2838, '왕조현'), (2839, '땀'), (2840, '라이언'), (2841, '망쳤'), (2842, '스타워즈'), (2843, '케미'), (2844, '전기'), (2845, '고독'), (2846, '레이'), (2847, '마녀'), (2848, '천사'), (2849, '병원'), (2850, '고딩'), (2851, '디카프리오'), (2852, '방향'), (2853, '보일'), (2854, '담담'), (2855, '보소'), (2856, '절로'), (2857, '인권'), (2858, '..^^'), (2859, '엮'), (2860, '킥'), (2861, '픽사'), (2862, '고문'), (2863, '여러모로'), (2864, '기괴'), (2865, '했어요'), (2866, '권력'), (2867, '나무'), (2868, '딩크'), (2869, '넘기'), (2870, '작화'), (2871, '심사'), (2872, '매끄럽'), (2873, '철'), (2874, '영구'), (2875, '건질'), (2876, '쌩'), (2877, '뚱'), (2878, '독립'), (2879, '페이크'), (2880, '쿨'), (2881, '잖아요'), (2882, '낭만'), (2883, '섹'), (2884, '16'), (2885, '댄스'), (2886, '런닝'), (2887, '오그라들'), (2888, '혼란'), (2889, '시험'), (2890, '상당'), (2891, '워낙'), (2892, '전해'), (2893, '쥬얼'), (2894, '예고'), (2895, '고인'), (2896, '당장'), (2897, '상실'), (2898, '대학'), (2899, '귀여웠'), (2900, '국어'), (2901, '운동'), (2902, '나을'), (2903, '인식'), (2904, '가짜'), (2905, '진짜로'), (2906, '광구'), (2907, '…'), (2908, '렷'), (2909, '고증'), (2910, '스텝'), (2911, '시종일관'), (2912, '낼'), (2913, '은가'), (2914, '스릴러물'), (2915, '제작자'), (2916, '줘야지'), (2917, '추격'), (2918, '화질'), (2919, '절대로'), (2920, '사이코'), (2921, '정신없'), (2922, '미학'), (2923, '맥'), (2924, '늑대'), (2925, '의해'), (2926, '뻔뻔'), (2927, '찬양'), (2928, '우기'), (2929, '~~^^'), (2930, '섬'), (2931, 'ㅜㅠ'), (2932, '남친'), (2933, '너희'), (2934, '어수선'), (2935, '수면제'), (2936, '상관없'), (2937, '우선'), (2938, '엄정화'), (2939, '욕먹'), (2940, '어떠'), (2941, '젖'), (2942, 'Good'), (2943, '전성기'), (2944, '셋'), (2945, '유치찬란'), (2946, '위트'), (2947, '반응'), (2948, '곱'), (2949, '상식'), (2950, '공연'), (2951, '환자'), (2952, 's'), (2953, '기다려'), (2954, '호불호'), (2955, '주인'), (2956, '월드'), (2957, '한석규'), (2958, '김혜수'), (2959, '언'), (2960, '허나'), (2961, '무기'), (2962, '별거'), (2963, '능가'), (2964, '머릿속'), (2965, '나와야'), (2966, '아닌가요'), (2967, '가까이'), (2968, '매주'), (2969, '하하하'), (2970, '짱구'), (2971, '렉'), (2972, '터졌'), (2973, '감명'), (2974, '이별'), (2975, '덤'), (2976, '빕'), (2977, '세트'), (2978, '멋져'), (2979, '환장'), (2980, '떡밥'), (2981, '걷'), (2982, '~~!!'), (2983, '옳'), (2984, '차승원'), (2985, '센'), (2986, '중학생'), (2987, '웃겨서'), (2988, '드립'), (2989, '놀란'), (2990, '아마추어'), (2991, '였을'), (2992, '회상'), (2993, '17'), (2994, '폼'), (2995, '모자라'), (2996, '빠질'), (2997, '아우'), (2998, '거짓'), (2999, '쳤'), (3000, '추가'), (3001, '께서'), (3002, '바란다'), (3003, '마찬가지'), (3004, '모아'), (3005, '기획'), (3006, '구려'), (3007, '릭터'), (3008, '아이유'), (3009, '부자연'), (3010, '치고'), (3011, '호흡'), (3012, '쥬'), (3013, '누님'), (3014, '공중'), (3015, '실사'), (3016, '낮추'), (3017, '슈퍼맨'), (3018, '^-^'), (3019, '외국인'), (3020, '어린애'), (3021, '보물'), (3022, '활용'), (3023, '애잔'), (3024, '오해'), (3025, '안타까움'), (3026, '주관'), (3027, '컸'), (3028, '흥분'), (3029, '훈'), (3030, '온갖'), (3031, '구경'), (3032, '허허'), (3033, '음향'), (3034, '형식'), (3035, '니매'), (3036, '오르'), (3037, '애틋'), (3038, '멋져요'), (3039, '어정쩡'), (3040, '셧'), (3041, '택시'), (3042, '쳐도'), (3043, '99'), (3044, '컨'), (3045, '답니다'), (3046, '문득'), (3047, '어차피'), (3048, '세계관'), (3049, '집니다'), (3050, '방해'), (3051, '뜬'), (3052, '긴박'), (3053, '김희선'), (3054, '랄'), (3055, '걸린'), (3056, '널'), (3057, '개똥'), (3058, '테이큰'), (3059, '방황'), (3060, '서양'), (3061, 'bb'), (3062, '납득'), (3063, '재탕'), (3064, '아니면'), (3065, '파워'), (3066, '즐거움'), (3067, '낀'), (3068, '권상우'), (3069, '픽션'), (3070, '에라이'), (3071, '나루토'), (3072, '거려서'), (3073, '종'), (3074, '본격'), (3075, '괴'), (3076, '스릴감'), (3077, '봣다'), (3078, '태국'), (3079, '나열'), (3080, '향기'), (3081, '안녕'), (3082, '살아남'), (3083, '구할'), (3084, '승부'), (3085, '으러'), (3086, '캐리'), (3087, '겉'), (3088, '칸'), (3089, '->'), (3090, '어쨌든'), (3091, '메이'), (3092, '상큼'), (3093, '보석'), (3094, '애정'), (3095, '폴'), (3096, '수사'), (3097, '장진'), (3098, '위주'), (3099, '언어'), (3100, '속도'), (3101, '섬뜩'), (3102, '이뻐'), (3103, '역작'), (3104, '의견'), (3105, 'is'), (3106, '나았'), (3107, '복선'), (3108, '먹칠'), (3109, '틀리'), (3110, '할려고'), (3111, '전지현'), (3112, '한동안'), (3113, '타인'), (3114, '어째'), (3115, '곰'), (3116, '쉬운'), (3117, '닥터'), (3118, '인연'), (3119, '오랫동안'), (3120, '헉'), (3121, '뒤늦'), (3122, '해외'), (3123, '스파이'), (3124, '케빈'), (3125, '생겨서'), (3126, '고향'), (3127, '봐줄'), (3128, '장소'), (3129, '냥'), (3130, '검사'), (3131, '느낀다'), (3132, '독'), (3133, '지대'), (3134, '비참'), (3135, '슬퍼요'), (3136, '광기'), (3137, '모호'), (3138, '두고두고'), (3139, '귀찮'), (3140, '나갔'), (3141, '반갑'), (3142, '외면'), (3143, '든가'), (3144, '자세'), (3145, '느껴질'), (3146, '내놓'), (3147, '냈'), (3148, '기영'), (3149, '로빈'), (3150, '저것'), (3151, '어울림'), (3152, '!!!!!'), (3153, '난무'), (3154, '막상'), (3155, '떡'), (3156, '성형'), (3157, '대역'), (3158, '수다'), (3159, '재수없'), (3160, '신부'), (3161, '..!'), (3162, '보여서'), (3163, '약한'), (3164, '나온다고'), (3165, '어린아이'), (3166, '에이'), (3167, '유익'), (3168, '극본'), (3169, '치료'), (3170, '집단'), (3171, '풀어낸'), (3172, '민'), (3173, '지내'), (3174, '고작'), (3175, '시체'), (3176, '추'), (3177, '목사'), (3178, '애인'), (3179, '기타'), (3180, '류영화'), (3181, 'MBC'), (3182, '나서'), (3183, '영웅본색'), (3184, '나머진'), (3185, '어딘가'), (3186, '깜놀'), (3187, '주온'), (3188, '원하'), (3189, '참여'), (3190, '흠잡'), (3191, '-_-;;'), (3192, '간직'), (3193, '홀로'), (3194, '뻥'), (3195, '블루'), (3196, '질문'), (3197, '아야지'), (3198, '어울린다'), (3199, '영화판'), (3200, '가리'), (3201, '찾아가'), (3202, '감정선'), (3203, '더라고요'), (3204, '일반인'), (3205, '엉뚱'), (3206, '..('), (3207, '피아노'), (3208, '원피스'), (3209, '시켰'), (3210, '정확'), (3211, '나올까'), (3212, '톤'), (3213, '시킬'), (3214, '커버'), (3215, '짙'), (3216, '무서울'), (3217, '박찬욱'), (3218, '벨'), (3219, '버스'), (3220, '친절'), (3221, '이럼'), (3222, '이것저것'), (3223, '고등학생'), (3224, '오로라'), (3225, '유행'), (3226, '괴수'), (3227, '커'), (3228, '셔야'), (3229, '더군'), (3230, '국산'), (3231, '런'), (3232, '금지'), (3233, '조기'), (3234, '묻어나'), (3235, '묵직'), (3236, '남긴다'), (3237, '비해서'), (3238, '설경구'), (3239, 'c'), (3240, '왕자'), (3241, '찬사'), (3242, '부담'), (3243, '다가오'), (3244, '가시'), (3245, '아바타'), (3246, '이뻤'), (3247, '줘요'), (3248, '죽일'), (3249, '흔하'), (3250, '여유'), (3251, '도라에몽'), (3252, '정사'), (3253, '빅'), (3254, '오직'), (3255, '몰라'), (3256, '던져'), (3257, '^^*'), (3258, '클라스'), (3259, '.!!'), (3260, '저러'), (3261, '개발'), (3262, '귀여워서'), (3263, 'vs'), (3264, '쟈'), (3265, '될까'), (3266, '최민수'), (3267, '집안'), (3268, '사나이'), (3269, '떠올리'), (3270, '시민'), (3271, '2015'), (3272, '유령'), (3273, '드니로'), (3274, '대하'), (3275, '유혹'), (3276, '터져'), (3277, '일찍'), (3278, '겻'), (3279, '강요'), (3280, '미쳐'), (3281, '지우'), (3282, '시골'), (3283, '흔적'), (3284, '이정재'), (3285, '환'), (3286, '볼일'), (3287, '아아'), (3288, '지도'), (3289, '한국어'), (3290, '쏘우'), (3291, '200'), (3292, '가관'), (3293, '투성이'), (3294, '맞춰'), (3295, '따스'), (3296, '힙합'), (3297, '갖춘'), (3298, '닷'), (3299, '난국'), (3300, '앙'), (3301, '프'), (3302, '기다렸'), (3303, '하이'), (3304, '는다고'), (3305, '구혜선'), (3306, '렸'), (3307, '드려요'), (3308, '개소리'), (3309, '로망'), (3310, '오랜'), (3311, '차분'), (3312, '뿌'), (3313, '인디'), (3314, '마블'), (3315, '꺼버렸'), (3316, '욤'), (3317, '데뷔작'), (3318, '납치'), (3319, '엉망진창'), (3320, '맥스'), (3321, '나갈'), (3322, '성적'), (3323, '군더더기'), (3324, '분명히'), (3325, '실상'), (3326, '커피'), (3327, '날려'), (3328, '될지'), (3329, '반감'), (3330, '차리'), (3331, '김명민'), (3332, '팍팍'), (3333, '심정'), (3334, '예뻐서'), (3335, '미달'), (3336, '번역'), (3337, '저희'), (3338, '쯧쯧'), (3339, '송승헌'), (3340, '제시카'), (3341, '롱'), (3342, '밧'), (3343, '스페인'), (3344, '둔'), (3345, '팝콘'), (3346, '연주'), (3347, '새삼'), (3348, '열라'), (3349, '소품'), (3350, '멘탈'), (3351, '레기'), (3352, '。'), (3353, '좆'), (3354, '충'), (3355, '농담'), (3356, '손색'), (3357, '소지섭'), (3358, '학원'), (3359, '외로움'), (3360, '게끔'), (3361, '좋아해서'), (3362, '람보'), (3363, '시끄럽'), (3364, '수위'), (3365, '쓴다'), (3366, '웃긴다'), (3367, '뉴스'), (3368, '짱나'), (3369, '강아지'), (3370, '볼꺼'), (3371, '동감'), (3372, '나온다는'), (3373, '나마'), (3374, '모욕'), (3375, '정점'), (3376, '최민식'), (3377, '추구'), (3378, '듦'), (3379, '믿음'), (3380, '뮤'), (3381, '리스트'), (3382, '없애'), (3383, '드만'), (3384, '그냥저냥'), (3385, '버린다'), (3386, '셔'), (3387, '불러'), (3388, '색깔'), (3389, '지저분'), (3390, '알리'), (3391, '맑'), (3392, '다이하드'), (3393, '신데렐라'), (3394, '컬트'), (3395, '28'), (3396, '적나라'), (3397, '아리'), (3398, '왕가위'), (3399, '았었'), (3400, '뿌리'), (3401, '도저'), (3402, '멈추'), (3403, '산다'), (3404, '스필버그'), (3405, '우롱'), (3406, '먹먹해'), (3407, '느냐'), (3408, '평론'), (3409, '성경'), (3410, '끝판'), (3411, '숲'), (3412, '할배'), (3413, '안타까웠'), (3414, '오페라'), (3415, '통해서'), (3416, '젊은이'), (3417, '이은주'), (3418, '모독'), (3419, '모방'), (3420, '들어오'), (3421, '끝난다'), (3422, '어중간'), (3423, '향한'), (3424, '만든다'), (3425, '쳐서'), (3426, '열자'), (3427, '피곤'), (3428, '폭'), (3429, '청년'), (3430, '떨어졌'), (3431, '놀랬'), (3432, '예뻤'), (3433, '공허'), (3434, '손예진'), (3435, '클라라'), (3436, '학창'), (3437, '모순'), (3438, '보낸다'), (3439, '김태희'), (3440, '~~~~~'), (3441, '마마'), (3442, '..;;'), (3443, '주위'), (3444, '증말'), (3445, '관람객'), (3446, '푸'), (3447, '층'), (3448, '사장'), (3449, '각각'), (3450, '경악'), (3451, '본성'), (3452, '눈치'), (3453, '고수'), (3454, '쟁이'), (3455, '여왕'), (3456, '기업'), (3457, '붕'), (3458, '장동건'), (3459, '태양'), (3460, '드래곤볼'), (3461, '자격'), (3462, '새록새록'), (3463, '엑스맨'), (3464, '애국심'), (3465, '탐'), (3466, '슬퍼'), (3467, '조심'), (3468, '괴담'), (3469, '스킵'), (3470, '드물'), (3471, '-_-;'), (3472, '고르'), (3473, '아이언맨'), (3474, '클'), (3475, '썸'), (3476, '열광'), (3477, '짜내'), (3478, '머지'), (3479, '조정'), (3480, '학살'), (3481, '재방송'), (3482, '람'), (3483, '몰락'), (3484, '감기'), (3485, '울림'), (3486, '함부로'), (3487, '타이틀'), (3488, '김민종'), (3489, '전라도'), (3490, '피디'), (3491, '성유리'), (3492, '부여'), (3493, '마법'), (3494, '임신'), (3495, '유리'), (3496, '울음'), (3497, '상관'), (3498, '부끄러운'), (3499, '풀어내'), (3500, '어지럽'), (3501, '한정'), (3502, '김구라'), (3503, '후기'), (3504, '첩보'), (3505, '위하'), (3506, '신세경'), (3507, '남매'), (3508, '할게요'), (3509, '피식'), (3510, '추악'), (3511, '절묘'), (3512, '고급'), (3513, '2013'), (3514, '저주'), (3515, '지역'), (3516, '겁'), (3517, '가난'), (3518, '구라'), (3519, '감옥'), (3520, '자본'), (3521, '남긴'), (3522, '끊기'), (3523, '재료'), (3524, '으세요'), (3525, '커녕'), (3526, '관리'), (3527, '출발'), (3528, '이입'), (3529, '혐'), (3530, '냉정'), (3531, '거려'), (3532, '국제'), (3533, '니콜'), (3534, 'O'), (3535, '지극히'), (3536, '그렇지만'), (3537, '지켜'), (3538, '간간히'), (3539, '돌아오'), (3540, '려는지'), (3541, '이외'), (3542, '이탈리아'), (3543, '키우'), (3544, '영활'), (3545, '나와라'), (3546, '과도'), (3547, '정화'), (3548, '색채'), (3549, '아닌지'), (3550, '미장센'), (3551, '안성기'), (3552, '이어'), (3553, '2005'), (3554, '누'), (3555, '장난감'), (3556, '앞서'), (3557, '더더욱'), (3558, '통'), (3559, '입니까'), (3560, '우승'), (3561, '북'), (3562, '신세계'), (3563, '때로'), (3564, '묘하'), (3565, '적극'), (3566, '일어날'), (3567, '재현'), (3568, '서정'), (3569, '차태현'), (3570, '범'), (3571, '동'), (3572, '카피'), (3573, '베일'), (3574, '법정'), (3575, '조악'), (3576, '정석'), (3577, '졸려'), (3578, '영광'), (3579, '흐지부지'), (3580, '전도연'), (3581, '춤추'), (3582, '먼지'), (3583, '황정민'), (3584, '들리'), (3585, '객관'), (3586, '존재감'), (3587, '덮'), (3588, '예쁨'), (3589, '만날'), (3590, '공원'), (3591, '아카데미'), (3592, '벽'), (3593, '더욱더'), (3594, '흔들'), (3595, '슨'), (3596, '사전'), (3597, '이민기'), (3598, '지독'), (3599, '들어도'), (3600, '말리'), (3601, '거슬리'), (3602, 'ㅄ'), (3603, '일지'), (3604, '예술가'), (3605, '성찰'), (3606, 'ㅜㅜㅜ'), (3607, '소피마르소'), (3608, '미국인'), (3609, '엽문'), (3610, '경의'), (3611, '했어도'), (3612, '꽉'), (3613, '뭔가요'), (3614, '부각'), (3615, 'OOOO'), (3616, '노예'), (3617, '또는'), (3618, '파라'), (3619, '요약'), (3620, '꺼내'), (3621, '양반'), (3622, '해냈'), (3623, '할수록'), (3624, '행위'), (3625, '감수'), (3626, '마을'), (3627, '쓰레'), (3628, '싼'), (3629, '이연희'), (3630, '다운로드'), (3631, '그지없'), (3632, '외치'), (3633, '려니'), (3634, '부디'), (3635, '규'), (3636, '다름'), (3637, '빌리'), (3638, '한텐'), (3639, '헤'), (3640, '라구'), (3641, '박평식'), (3642, '기도'), (3643, '엉터리'), (3644, '공감대'), (3645, '임청하'), (3646, '걸릴'), (3647, '이웃'), (3648, '기록'), (3649, '자아'), (3650, '토할'), (3651, '대비'), (3652, '틀림없'), (3653, '최선'), (3654, '으려'), (3655, '단역'), (3656, '정통'), (3657, '에드워드'), (3658, '트랜스포머'), (3659, '원했'), (3660, '직'), (3661, '와중'), (3662, '지브리'), (3663, '초기'), (3664, '댓'), (3665, '출현'), (3666, '실패작'), (3667, '아끼'), (3668, '호텔'), (3669, '뿜'), (3670, '뭔데'), (3671, '색다르'), (3672, '합'), (3673, '티나'), (3674, '놀래키'), (3675, '어떡'), (3676, '는디'), (3677, '배속'), (3678, '거든'), (3679, '스러울'), (3680, '해짐'), (3681, '띄'), (3682, '배려'), (3683, '수십'), (3684, '톰크루즈'), (3685, '크루즈'), (3686, '과대평가'), (3687, 'o'), (3688, '교수'), (3689, '유지태'), (3690, '데이'), (3691, '파이팅'), (3692, '섭외'), (3693, '마스터'), (3694, '배울'), (3695, '계시'), (3696, '깨끗'), (3697, '식스'), (3698, '차마'), (3699, '정확히'), (3700, '뚝뚝'), (3701, '공식'), (3702, '조명'), (3703, '평이'), (3704, '멤버'), (3705, '조승우'), (3706, '구원'), (3707, '뜨거운'), (3708, '저게'), (3709, '신념'), (3710, '봐왔'), (3711, '혹평'), (3712, '에러'), (3713, '져서'), (3714, '신민아'), (3715, '드러나'), (3716, '허구'), (3717, '빙판'), (3718, '어딜'), (3719, '써요'), (3720, '300'), (3721, '윌리스'), (3722, '대학생'), (3723, '포켓몬'), (3724, '사냥'), (3725, '통수'), (3726, '데스'), (3727, '주먹'), (3728, '남발'), (3729, '멀리'), (3730, 'CGV'), (3731, '미묘'), (3732, '빠져드'), (3733, '역활'), (3734, '키아누'), (3735, '밴드'), (3736, '붙이'), (3737, '우아'), (3738, '2003'), (3739, '서극'), (3740, '생략'), (3741, '송혜교'), (3742, '풍부'), (3743, '빨간'), (3744, '원표'), (3745, '오인혜'), (3746, '가을'), (3747, '퇴보'), (3748, '순진'), (3749, '격투'), (3750, '다지만'), (3751, '기간'), (3752, '토끼'), (3753, '주원'), (3754, '백배'), (3755, '호강'), (3756, '데드'), (3757, '절반'), (3758, 'The'), (3759, '^^;'), (3760, '아프리카'), (3761, '라며'), (3762, '정신병'), (3763, '고질라'), (3764, '심했'), (3765, '고마운'), (3766, '효주'), (3767, '저거'), (3768, '마니'), (3769, '극찬'), (3770, '생김'), (3771, '가깝'), (3772, '작전'), (3773, '뉴욕'), (3774, '꼬맹이'), (3775, '위기'), (3776, '부를'), (3777, '작인'), (3778, '특징'), (3779, '증명'), (3780, '그럼에도'), (3781, '몽'), (3782, '송'), (3783, '강조'), (3784, '힘드'), (3785, '취급'), (3786, '뽀'), (3787, '때려'), (3788, '노튼'), (3789, '메인'), (3790, '노골'), (3791, '지겨워'), (3792, '젊음'), (3793, '인터뷰'), (3794, '장혁'), (3795, '경제'), (3796, '2004'), (3797, '흐뭇'), (3798, '사무라이'), (3799, '마구'), (3800, '여기저기'), (3801, '거듭'), (3802, '데이빗'), (3803, '초점'), (3804, '미이라'), (3805, '만하다'), (3806, '할꺼'), (3807, '전락'), (3808, '행'), (3809, '스피드'), (3810, '대단히'), (3811, '활동'), (3812, '뒤집'), (3813, '니콜라스'), (3814, '서프라이즈'), (3815, '겄'), (3816, '그나저나'), (3817, '구멍'), (3818, '접근'), (3819, '타령'), (3820, '획'), (3821, '모성애'), (3822, '일관'), (3823, '흑역사'), (3824, '하드'), (3825, '생존'), (3826, '퀴어'), (3827, '스텝업'), (3828, '24'), (3829, '부자'), (3830, '뻔히'), (3831, '로마'), (3832, '붉'), (3833, '쿠'), (3834, '재주'), (3835, '떨어진'), (3836, '닫'), (3837, '롤'), (3838, '무너지'), (3839, '송지효'), (3840, '강지환'), (3841, '제정신'), (3842, '구도'), (3843, '배드'), (3844, '경계'), (3845, '쥬라기'), (3846, '들어왔'), (3847, '갈리'), (3848, '모델'), (3849, '벌어지'), (3850, '비롯'), (3851, '반했'), (3852, '난감'), (3853, '이뻐요'), (3854, '그래요'), (3855, '패턴'), (3856, '줘라'), (3857, '장근석'), (3858, '이스트우드'), (3859, '오만'), (3860, '아나'), (3861, '똑바로'), (3862, '시사'), (3863, '논'), (3864, '지원'), (3865, '앞부분'), (3866, 'http'), (3867, '와이프'), (3868, '찜찜'), (3869, '깨달음'), (3870, '예의'), (3871, '었었'), (3872, '무서워서'), (3873, 'ㅏ'), (3874, '헤어지'), (3875, '불행'), (3876, '씨발'), (3877, '장나라'), (3878, '맹'), (3879, '순이'), (3880, '쌈'), (3881, '마케팅'), (3882, '종류'), (3883, '떠들'), (3884, '봉'), (3885, '퍼즐'), (3886, '임수정'), (3887, '오유'), (3888, '주의'), (3889, '강시'), (3890, '내보내'), (3891, '지배'), (3892, '한글'), (3893, '크리스찬'), (3894, '수애'), (3895, '작렬'), (3896, '중후'), (3897, '어쩌다'), (3898, '등급'), (3899, 'PD'), (3900, '는다면'), (3901, '곁'), (3902, '풀리'), (3903, '뺏'), (3904, '관대'), (3905, '예뻐'), (3906, '짜여진'), (3907, '홧팅'), (3908, '조용히'), (3909, '장군'), (3910, '척하'), (3911, '우왕'), (3912, '꼬라지'), (3913, '제작사'), (3914, '찢'), (3915, '나참'), (3916, '비싼'), (3917, '돼서'), (3918, '땜시'), (3919, '우익'), (3920, '런닝맨'), (3921, '더러'), (3922, '두려움'), (3923, '저번'), (3924, '받아들이'), (3925, '구먼'), (3926, '이범수'), (3927, '패션'), (3928, '바랬'), (3929, '나타내'), (3930, '복'), (3931, '불후'), (3932, '죽임'), (3933, '웅장'), (3934, '안타까울'), (3935, '아기자기'), (3936, '미남'), (3937, '끌리'), (3938, '플레이'), (3939, '어울려'), (3940, '삐'), (3941, '걸렸'), (3942, '일요일'), (3943, '임권택'), (3944, '의학'), (3945, '수정'), (3946, '고발'), (3947, 'com'), (3948, '맞음'), (3949, '빅뱅'), (3950, '인한'), (3951, '질주'), (3952, '느슨'), (3953, '작년'), (3954, '역쉬'), (3955, '낙'), (3956, '이나영'), (3957, '투표'), (3958, '장치'), (3959, '미인'), (3960, '그분'), (3961, '초능력'), (3962, '원주율'), (3963, '향해'), (3964, '빼놓'), (3965, '합니까'), (3966, '부른'), (3967, '원인'), (3968, '보여줌'), (3969, '써서'), (3970, '성숙'), (3971, '깁니다'), (3972, '극한'), (3973, '큐'), (3974, '무색'), (3975, '연령'), (3976, '잭슨'), (3977, '메리'), (3978, '죽였'), (3979, '침묵'), (3980, '과잉'), (3981, '자본주의'), (3982, '홍금보'), (3983, '1000'), (3984, '반부'), (3985, '엉엉'), (3986, '마요'), (3987, '체험'), (3988, '어설퍼'), (3989, '채워'), (3990, '파악'), (3991, '즘'), (3992, '뻔해서'), (3993, '케릭'), (3994, '이순신'), (3995, '딱딱'), (3996, '난생'), (3997, 'ebs'), (3998, '드림웍스'), (3999, '간단'), (4000, '가식'), (4001, '돋보인다'), (4002, '뭡니까'), (4003, 'it'), (4004, '넘어선'), (4005, '지나친'), (4006, '주상욱'), (4007, '피터'), (4008, '랫'), (4009, '일탈'), (4010, '물건'), (4011, '서기'), (4012, '가상'), (4013, '서스펜스'), (4014, '딸리'), (4015, '펭귄'), (4016, 't'), (4017, '짐승'), (4018, '밝혀'), (4019, '즐'), (4020, '습니당'), (4021, '기쁨'), (4022, '로움'), (4023, '된다면'), (4024, '자위'), (4025, '두말'), (4026, '남아돌'), (4027, '태도'), (4028, '접하'), (4029, '클린트'), (4030, '분석'), (4031, '지적'), (4032, '타지'), (4033, 'to'), (4034, '안다'), (4035, '토니'), (4036, '마음속'), (4037, '외화'), (4038, '철없'), (4039, '증거'), (4040, '파워레인저'), (4041, '가해자'), (4042, '알려준'), (4043, '스텔라'), (4044, '몫'), (4045, '계획'), (4046, '녹화'), (4047, '이혼'), (4048, '기억난다'), (4049, '느린'), (4050, '팀버튼'), (4051, '용감'), (4052, '희'), (4053, '모티브'), (4054, '저녁'), (4055, '코스프레'), (4056, '지인'), (4057, '해질'), (4058, '드러내'), (4059, '더러워'), (4060, '..\"'), (4061, '담아내'), (4062, '잃어버린'), (4063, '글구'), (4064, '죽인다'), (4065, '사라졌'), (4066, '당당'), (4067, '학대'), (4068, '작정'), (4069, '써라'), (4070, '고스란히'), (4071, '별다른'), (4072, '엉덩이'), (4073, '묘미'), (4074, '...........'), (4075, '휴먼'), (4076, '하차'), (4077, '쉴'), (4078, '서방'), (4079, '자세히'), (4080, '제미'), (4081, '단언'), (4082, '불면증'), (4083, '봐야겠다'), (4084, '박신양'), (4085, '양동근'), (4086, '다는데'), (4087, '조지'), (4088, '선율'), (4089, '카메론'), (4090, '존중'), (4091, '온몸'), (4092, '여정'), (4093, '긍정'), (4094, '98'), (4095, '간첩'), (4096, '준다는'), (4097, '생각났'), (4098, '글쎄요'), (4099, '엑소시스트'), (4100, '사망'), (4101, '박사'), (4102, '도통'), (4103, '물씬'), (4104, '무리수'), (4105, '무어'), (4106, '다구'), (4107, '일세'), (4108, '이여'), (4109, '날렸'), (4110, '때메'), (4111, 'best'), (4112, '기차'), (4113, '양조위'), (4114, '어우'), (4115, '진작'), (4116, '애쓰'), (4117, '추락'), (4118, '아이고'), (4119, '멘붕'), (4120, '강제'), (4121, '겁니까'), (4122, '명확'), (4123, '유치뽕'), (4124, '위안'), (4125, '손색없'), (4126, '숀'), (4127, '웃겨요'), (4128, '심히'), (4129, '니당'), (4130, '랩'), (4131, '사연'), (4132, '.;'), (4133, 'mbc'), (4134, '레이첼'), (4135, '한때'), (4136, '차지'), (4137, '띵'), (4138, '볼땐'), (4139, '헐크'), (4140, '앓'), (4141, '피트'), (4142, '허무맹랑'), (4143, '총질'), (4144, '어우러진'), (4145, '따윈'), (4146, '대만'), (4147, '로선'), (4148, '봣어요'), (4149, '파이'), (4150, '적절히'), (4151, '올라갈'), (4152, '고정'), (4153, '익'), (4154, '보스'), (4155, '예뻐요'), (4156, '강호동'), (4157, '오타쿠'), (4158, '히트'), (4159, '또라이'), (4160, '잠수함'), (4161, '곱씹'), (4162, '조직'), (4163, '경'), (4164, '속지'), (4165, '살인자'), (4166, '용가리'), (4167, '못생긴'), (4168, '이승기'), (4169, '맛깔'), (4170, '2010'), (4171, '어마어마'), (4172, '인척'), (4173, '소리지르'), (4174, '곳곳'), (4175, '싸울'), (4176, '최저'), (4177, '강혜정'), (4178, '저렴'), (4179, '주목'), (4180, '이성재'), (4181, '장편'), (4182, '으라고'), (4183, '필수'), (4184, '한수'), (4185, '당최'), (4186, '매혹'), (4187, '수지'), (4188, '오류'), (4189, '언론'), (4190, '웹툰'), (4191, '띠'), (4192, '뉴'), (4193, '나누'), (4194, '가졌'), (4195, '재치'), (4196, '논하'), (4197, '흡사'), (4198, '바꾼'), (4199, '실소'), (4200, '고로'), (4201, '삼가'), (4202, '후한'), (4203, '껴'), (4204, '인터'), (4205, '지리'), (4206, '은퇴'), (4207, '노동자'), (4208, '마라'), (4209, '욕구'), (4210, '나옵니다'), (4211, '이름값'), (4212, '뜸'), (4213, '마틴'), (4214, '떨어져'), (4215, '달까'), (4216, '자라'), (4217, '500'), (4218, '거창'), (4219, '투신'), (4220, '닌자'), (4221, '봣음'), (4222, '미스터'), (4223, '내겐'), (4224, '명곡'), (4225, '한효주'), (4226, '슬래셔'), (4227, '슬퍼서'), (4228, '홈'), (4229, '가질'), (4230, '동기'), (4231, '흑흑'), (4232, '태어난'), (4233, '김강우'), (4234, '뱀'), (4235, '금요일'), (4236, 'ocn'), (4237, '클리셰'), (4238, '은데요'), (4239, '*'), (4240, '종일'), (4241, '져요'), (4242, '고는'), (4243, '쩜'), (4244, '자제'), (4245, '미술'), (4246, '엘'), (4247, '스탈'), (4248, '도망가'), (4249, 'KBS'), (4250, '조조'), (4251, '베트남'), (4252, '고리'), (4253, '지금껏'), (4254, '이동욱'), (4255, '제시'), (4256, '써도'), (4257, '더니만'), (4258, '몬스터'), (4259, '지네'), (4260, '위원'), (4261, '오우삼'), (4262, '소박'), (4263, '열린'), (4264, '본다고'), (4265, '오우'), (4266, '탕웨이'), (4267, '했을까'), (4268, '귀요미'), (4269, '미흡'), (4270, '우습'), (4271, '쏴'), (4272, '수치'), (4273, '끝남'), (4274, '마인드'), (4275, '대형'), (4276, '윤아'), (4277, '들여'), (4278, '팔아먹'), (4279, '나발'), (4280, '근'), (4281, '에일리언'), (4282, '공존'), (4283, '떄문에'), (4284, '임파서블'), (4285, '용두사미'), (4286, '해본다'), (4287, '합리'), (4288, '습작'), (4289, '그룹'), (4290, '동호'), (4291, '환불'), (4292, '흔히'), (4293, '이준기'), (4294, '서부극'), (4295, '언급'), (4296, '자료'), (4297, '든데'), (4298, '졌으면'), (4299, '이념'), (4300, '멸망'), (4301, '디자인'), (4302, '쳐먹'), (4303, '주행'), (4304, '저절로'), (4305, '건진'), (4306, '재발견'), (4307, '경기'), (4308, '23'), (4309, '기대감'), (4310, '느껴짐'), (4311, '공개'), (4312, '장쯔이'), (4313, '린'), (4314, '모여'), (4315, '황비홍'), (4316, '헛'), (4317, '오리지널'), (4318, '서우'), (4319, '남김'), (4320, '주체'), (4321, '진하'), (4322, '실컷'), (4323, '이겨'), (4324, '에게서'), (4325, '팩'), (4326, '꺼져'), (4327, '발생'), (4328, '놀라울'), (4329, '였으면'), (4330, '랴'), (4331, '연장'), (4332, '아오이'), (4333, '차기'), (4334, '츄'), (4335, '발레'), (4336, '철저'), (4337, '바리'), (4338, '법칙'), (4339, '덜덜'), (4340, '노무'), (4341, '콘서트'), (4342, '.\"'), (4343, '걸까요'), (4344, '민주'), (4345, '읍'), (4346, '고찰'), (4347, '다니엘'), (4348, '!!!!!!'), (4349, '인디아나'), (4350, '어이'), (4351, '집어넣'), (4352, '태'), (4353, '거든요'), (4354, '어거지'), (4355, '은은'), (4356, '120'), (4357, '수백'), (4358, '현대인'), (4359, '휴가'), (4360, '문학'), (4361, '큐브'), (4362, '.,'), (4363, '박스'), (4364, '지존'), (4365, '똑똑'), (4366, '찐'), (4367, '경쾌'), (4368, '정재영'), (4369, '추잡'), (4370, '나약'), (4371, '허탈'), (4372, '도덕'), (4373, '솜씨'), (4374, '이랬'), (4375, '어의'), (4376, '엑'), (4377, '두근두근'), (4378, '라길래'), (4379, '으려는'), (4380, '바치'), (4381, '허전'), (4382, '안정'), (4383, '가르쳐'), (4384, '비명'), (4385, '저기'), (4386, '어처구니없'), (4387, '‥'), (4388, '달러'), (4389, '샤론스톤'), (4390, '회장'), (4391, '여동생'), (4392, '일대기'), (4393, '총알'), (4394, '그곳'), (4395, '넋'), (4396, '관가'), (4397, '달라'), (4398, '소나'), (4399, '동료'), (4400, '~~!'), (4401, '악평'), (4402, '감당'), (4403, '비난'), (4404, '브래드피트'), (4405, '아용'), (4406, '대책'), (4407, '김하늘'), (4408, '설레임'), (4409, '갑갑'), (4410, '예매'), (4411, '거울'), (4412, '첩'), (4413, '동일'), (4414, '욱'), (4415, '사라진'), (4416, '고백'), (4417, '스무'), (4418, '2001'), (4419, '구지'), (4420, '홍'), (4421, '진보'), (4422, '짜임'), (4423, '카드'), (4424, '대가리'), (4425, '팅'), (4426, '여고'), (4427, '스콧'), (4428, '흘렀'), (4429, '어찌나'), (4430, '제국'), (4431, '쓰레기통'), (4432, '러셀'), (4433, '지겨운'), (4434, '아무래도'), (4435, '동아리'), (4436, '매회'), (4437, '보냅니다'), (4438, '매트릭스'), (4439, '졸려서'), (4440, '활약'), (4441, '침몰'), (4442, '믿겨'), (4443, '비유'), (4444, '염'), (4445, '진화'), (4446, '뇌리'), (4447, '담아낸'), (4448, '하구'), (4449, '클럽'), (4450, '쿵'), (4451, '마초'), (4452, '혹성탈출'), (4453, '리암니슨'), (4454, '일생'), (4455, '형성'), (4456, '직원'), (4457, '넓'), (4458, '졸음'), (4459, '짓거리'), (4460, '박해일'), (4461, '럼'), (4462, '화신'), (4463, '투박'), (4464, '기엔'), (4465, '상쾌'), (4466, '쏙'), (4467, '사다코'), (4468, '신현준'), (4469, '즉'), (4470, '2009'), (4471, '긔'), (4472, '잡히'), (4473, '흘러도'), (4474, '밟'), (4475, '에릭'), (4476, '한예슬'), (4477, '미군'), (4478, '록키'), (4479, '스러워서'), (4480, '측면'), (4481, '궁'), (4482, '그러니까'), (4483, '뻣'), (4484, '몰라서'), (4485, '살아나'), (4486, '상투'), (4487, '자매'), (4488, '썰'), (4489, '멀쩡'), (4490, '병사'), (4491, '꾹'), (4492, '관념'), (4493, '푸른'), (4494, '보장'), (4495, '싹'), (4496, '붙여'), (4497, '내려'), (4498, '으셨'), (4499, '타락'), (4500, '가운데'), (4501, '잘생긴'), (4502, '불법'), (4503, '콧물'), (4504, '제리'), (4505, '했으면'), (4506, '주지훈'), (4507, '미리'), (4508, '그놈'), (4509, '배운'), (4510, '모자'), (4511, '뻔했'), (4512, '레이싱'), (4513, '내려가'), (4514, '투자자'), (4515, 'kbs'), (4516, '여야'), (4517, '본다는'), (4518, '맙시다'), (4519, '대표작'), (4520, '벤'), (4521, '어렷'), (4522, '켜'), (4523, '전환'), (4524, '끈다'), (4525, '어떨까'), (4526, '지워'), (4527, '가치관'), (4528, '어지간'), (4529, '설렘'), (4530, '무얼'), (4531, '진솔'), (4532, '에너지'), (4533, '밀라'), (4534, '종합'), (4535, '개독'), (4536, '시스템'), (4537, '슈렉'), (4538, '수술'), (4539, '채플린'), (4540, '습'), (4541, '한없이'), (4542, '선배'), (4543, '므로'), (4544, '미개'), (4545, '지성'), (4546, '어느새'), (4547, '수준급'), (4548, '찡하'), (4549, '조선족'), (4550, '퉤'), (4551, '붕괴'), (4552, '미야자키'), (4553, '쫓'), (4554, 'in'), (4555, '콤비'), (4556, '쏠쏠'), (4557, '부재'), (4558, '한두'), (4559, '어땠'), (4560, '중국인'), (4561, '..;;;'), (4562, '바이러스'), (4563, '망함'), (4564, '영상물'), (4565, '요구'), (4566, '><'), (4567, '함정'), (4568, '갖추'), (4569, '평정'), (4570, '유혼'), (4571, '포드'), (4572, '창조'), (4573, '누르'), (4574, '믄'), (4575, '고래'), (4576, '옛다'), (4577, '뻔해'), (4578, '그리운'), (4579, '이중'), (4580, '나와요'), (4581, '갱'), (4582, '人'), (4583, '재회'), (4584, '놨다'), (4585, '하나같이'), (4586, '어딨'), (4587, '치열'), (4588, '직장'), (4589, '휴머니즘'), (4590, '대략'), (4591, '비오'), (4592, '효민'), (4593, '앵글'), (4594, '따라서'), (4595, '배웠'), (4596, '가사'), (4597, '현장'), (4598, '멍청이'), (4599, '안목'), (4600, '교감'), (4601, '정적'), (4602, '아담'), (4603, '.??'), (4604, '소문'), (4605, '매년'), (4606, '씨네'), (4607, '욕할'), (4608, '어려서'), (4609, '쎄'), (4610, '록'), (4611, '을려고'), (4612, '근거'), (4613, '홍진호'), (4614, '파티'), (4615, '긋'), (4616, '와이어'), (4617, '표본'), (4618, '97'), (4619, '로보캅'), (4620, '짜집'), (4621, '회복'), (4622, '샤'), (4623, '대구'), (4624, '파일'), (4625, '암살'), (4626, '에서부터'), (4627, '이놈'), (4628, '어설픔'), (4629, '놓친'), (4630, '광주'), (4631, '훼손'), (4632, '어려움'), (4633, '↓'), (4634, '조인성'), (4635, '집중력'), (4636, 'F'), (4637, '머신'), (4638, '는구만'), (4639, '조재현'), (4640, 'K'), (4641, '기보단'), (4642, '줄리아'), (4643, '뜬금'), (4644, '김남길'), (4645, '화해'), (4646, '그릇'), (4647, '위원회'), (4648, '요원'), (4649, '웩'), (4650, '동급'), (4651, '직전'), (4652, '연기파'), (4653, '다듬'), (4654, '가문'), (4655, '아메리칸'), (4656, '토마스'), (4657, '이민정'), (4658, '박자'), (4659, '윤계상'), (4660, '들어갔'), (4661, '망상'), (4662, '고소영'), (4663, '프레디'), (4664, '사소'), (4665, '개떡'), (4666, '처먹'), (4667, '스캔들'), (4668, '얼른'), (4669, '어째서'), (4670, '어려울'), (4671, '맺'), (4672, '전국'), (4673, '뎁'), (4674, '출연료'), (4675, '깜찍'), (4676, '루이스'), (4677, '백만'), (4678, '유사'), (4679, '어깨'), (4680, '안겨'), (4681, '새로'), (4682, '에바'), (4683, '질투'), (4684, '릴'), (4685, '텐'), (4686, '씁니다'), (4687, '인데요'), (4688, '쾌감'), (4689, '에이리언'), (4690, '황제'), (4691, '성의'), (4692, '나왔었'), (4693, '지진희'), (4694, '운운'), (4695, '묻혀'), (4696, '버티'), (4697, '그려냈'), (4698, '줄리엣'), (4699, '안타까워'), (4700, '원빈'), (4701, '호평'), (4702, '보호'), (4703, '기묘'), (4704, '이만큼'), (4705, '^_^'), (4706, '황홀'), (4707, '프레데터'), (4708, '드신'), (4709, '증'), (4710, '엑스트라'), (4711, '안티'), (4712, '친다'), (4713, '정권'), (4714, '구석'), (4715, '조각'), (4716, '따라한'), (4717, '오토바이'), (4718, '............'), (4719, '~~~~~~'), (4720, 'and'), (4721, '오싹'), (4722, '무능'), (4723, 'very'), (4724, '신파극'), (4725, '겠다'), (4726, '실존'), (4727, '평하'), (4728, '작업'), (4729, '미루'), (4730, '진구'), (4731, '미칠'), (4732, '현빈'), (4733, '웨슬리'), (4734, '각성'), (4735, '가게'), (4736, '확신'), (4737, '..!!'), (4738, '몰래'), (4739, '잠든'), (4740, '제법'), (4741, '촌스러운'), (4742, '좌파'), (4743, '인셉션'), (4744, '봉작'), (4745, '고기'), (4746, '쒸'), (4747, '신들린'), (4748, '는겨'), (4749, '진주'), (4750, '충무로'), (4751, '문근영'), (4752, '댐'), (4753, '알맹이'), (4754, '도박'), (4755, '고려'), (4756, '데려다'), (4757, '듣보잡'), (4758, '쌍욕'), (4759, '완소'), (4760, '결합'), (4761, '장인'), (4762, '모른'), (4763, '핸드폰'), (4764, '김선아'), (4765, '초심'), (4766, '발휘'), (4767, '슈스케'), (4768, '잘난'), (4769, '변호사'), (4770, '중세'), (4771, '눈뜨'), (4772, '적응'), (4773, '음모'), (4774, '자칫'), (4775, '변명'), (4776, '였으나'), (4777, '발톱'), (4778, '핀'), (4779, '대변'), (4780, '기술력'), (4781, '소피'), (4782, '잎'), (4783, '이슈'), (4784, '턴'), (4785, '선가'), (4786, '일본식'), (4787, '악몽'), (4788, '줄려고'), (4789, '스탤론'), (4790, '써야'), (4791, '유작'), (4792, '우디'), (4793, '어울렸'), (4794, '고현정'), (4795, '승화'), (4796, '기부'), (4797, '까먹'), (4798, '어둠'), (4799, '케이지'), (4800, '그래두'), (4801, '내공'), (4802, '피스'), (4803, '2008'), (4804, '지지'), (4805, '실종'), (4806, '모자란'), (4807, '건물'), (4808, '쥐어짜'), (4809, '리암'), (4810, '의외로'), (4811, '후지'), (4812, '!!!!!!!'), (4813, '영감'), (4814, '압박'), (4815, '팍'), (4816, '아마도'), (4817, '아시아'), (4818, '들인'), (4819, '토요'), (4820, '여진구'), (4821, '급하'), (4822, '액'), (4823, '둘째'), (4824, '낯'), (4825, '유치원생'), (4826, '밀려오'), (4827, '큼'), (4828, '니콜키드먼'), (4829, '연쇄'), (4830, '사춘기'), (4831, '마땅'), (4832, '흔들리'), (4833, '멜깁슨'), (4834, '똥폼'), (4835, '평타'), (4836, '백미'), (4837, '현상'), (4838, '금방'), (4839, '룡'), (4840, '이성'), (4841, '나타난'), (4842, '늘리'), (4843, '종말'), (4844, '옹호'), (4845, '보영'), (4846, '각인'), (4847, '메오'), (4848, '스틸'), (4849, '무적'), (4850, '닭'), (4851, '차가운'), (4852, '닦'), (4853, '개미'), (4854, '맴'), (4855, '족'), (4856, '팝'), (4857, '사라져'), (4858, '떠오른다'), (4859, '여지'), (4860, '시리'), (4861, '논란'), (4862, '사로잡'), (4863, '완벽히'), (4864, '훈련'), (4865, '정유미'), (4866, '공효진'), (4867, '못생겼'), (4868, '이론'), (4869, '작중'), (4870, '이선균'), (4871, '풍기'), (4872, '조커'), (4873, '쪼'), (4874, '싱'), (4875, '마련'), (4876, '옴니버스'), (4877, '지하철'), (4878, '희한'), (4879, '저버리'), (4880, '윤'), (4881, '린치'), (4882, '정답'), (4883, '원맨쇼'), (4884, '낯선'), (4885, '공기'), (4886, '허준'), (4887, '축'), (4888, '하얀'), (4889, '서서히'), (4890, '감독판'), (4891, '어메이징'), (4892, '프로젝트'), (4893, '시킴'), (4894, '요란'), (4895, '이종석'), (4896, '피하'), (4897, '나미'), (4898, '싱겁'), (4899, '벗기'), (4900, 'my'), (4901, '고마워요'), (4902, '써먹'), (4903, '매기'), (4904, '져야'), (4905, '인증'), (4906, '스탭'), (4907, '화난다'), (4908, 'MC'), (4909, '선전'), (4910, '후유증'), (4911, '소방관'), (4912, '농구'), (4913, '헌터'), (4914, '나비'), (4915, '소수'), (4916, '공리'), (4917, '창의'), (4918, '기계'), (4919, '참혹'), (4920, '나와도'), (4921, '그치만'), (4922, 'naver'), (4923, '실망감'), (4924, 'OCN'), (4925, '김수로'), (4926, '끝날'), (4927, '유역비'), (4928, '졸립'), (4929, 'no'), (4930, '그리워'), (4931, '여도'), (4932, '란다'), (4933, '그딴'), (4934, '본드'), (4935, '일으키'), (4936, '시티'), (4937, '-.-'), (4938, '잉여'), (4939, '첨보'), (4940, '성괴'), (4941, '찬란'), (4942, '예정'), (4943, '알아보'), (4944, '아웃'), (4945, '독백'), (4946, '독도'), (4947, '십니다'), (4948, '밝히'), (4949, '어벤져스'), (4950, '타입'), (4951, '독창'), (4952, '찰리'), (4953, '사형'), (4954, '제도'), (4955, '채민서'), (4956, '망가지'), (4957, '접한'), (4958, '폐'), (4959, '비급'), (4960, '빠짐'), (4961, '지민'), (4962, '악인'), (4963, '가미'), (4964, '말기'), (4965, '본받'), (4966, '하긴'), (4967, '--;'), (4968, '약속'), (4969, '사막'), (4970, '망신'), (4971, '크리스토퍼'), (4972, '다녀온'), (4973, '달려'), (4974, '스펙타클'), (4975, '원망'), (4976, '시킨다'), (4977, '도입부'), (4978, '공격'), (4979, '가만히'), (4980, '경이'), (4981, '일방'), (4982, '샷'), (4983, '후하'), (4984, '어유'), (4985, '일제'), (4986, '딘'), (4987, '서민'), (4988, '거시기'), (4989, '...?'), (4990, '결과물'), (4991, '지상파'), (4992, '똘'), (4993, '돌렸'), (4994, '타짜'), (4995, '로부터'), (4996, '오디션'), (4997, '주장'), (4998, '로렌스'), (4999, '히치콕'), (5000, '허비'), (5001, '조건'), (5002, '오래오래'), (5003, '관계자'), (5004, '다수'), (5005, '하우스'), (5006, '넘겨'), (5007, '상자'), (5008, '정돈'), (5009, '서인국'), (5010, '터진다'), (5011, '퀸'), (5012, '황금'), (5013, '복제'), (5014, '무의미'), (5015, '케로로'), (5016, '지켜보'), (5017, '사라'), (5018, '헬'), (5019, '생뚱맞'), (5020, '으려나'), (5021, '주옥같'), (5022, '아날로그'), (5023, '셜록'), (5024, '눈요기'), (5025, '로다'), (5026, '낌'), (5027, '우울증'), (5028, '라스'), (5029, '김래원'), (5030, '일기'), (5031, '다기'), (5032, '어리석'), (5033, '작작'), (5034, '여실히'), (5035, '봤으니'), (5036, '신분'), (5037, '키드'), (5038, '끊임없이'), (5039, '노무현'), (5040, '원초'), (5041, '수업'), (5042, '낭'), (5043, '연계'), (5044, 'm'), (5045, '성지'), (5046, '하네'), (5047, '신앙'), (5048, '시켜서'), (5049, '라이'), (5050, '동원'), (5051, '브루스윌리스'), (5052, '주제곡'), (5053, '행운'), (5054, '계단'), (5055, '골든'), (5056, 'cgv'), (5057, '제공'), (5058, '봅시다'), (5059, '농락'), (5060, '못지않'), (5061, '2002'), (5062, '2007'), (5063, '에니'), (5064, '교차'), (5065, '최대한'), (5066, '얄팍'), (5067, '짐작'), (5068, '유승준'), (5069, '양산'), (5070, '구해'), (5071, '각지'), (5072, '암시'), (5073, '그렸'), (5074, '피라냐'), (5075, '구매'), (5076, '버튼'), (5077, '페이지'), (5078, '인내'), (5079, '하필'), (5080, '동경'), (5081, '지속'), (5082, '잡아먹'), (5083, '서세원'), (5084, '엄태웅'), (5085, '외로운'), (5086, '이분'), (5087, '호소'), (5088, '장녀'), (5089, '이면'), (5090, '.............'), (5091, '막스'), (5092, '둥'), (5093, '폴워커'), (5094, '관심없'), (5095, '드래곤'), (5096, '토르'), (5097, '볼라고'), (5098, '비씨'), (5099, '쉬워요'), (5100, '향'), (5101, '거슬린다'), (5102, '..-_-'), (5103, '형태'), (5104, '취미'), (5105, '맙'), (5106, '성향'), (5107, '절절'), (5108, '내놔'), (5109, '압축'), (5110, '화제'), (5111, '고고'), (5112, '구림'), (5113, '탔'), (5114, '천녀'), (5115, '리그'), (5116, '카타르시스'), (5117, '으리으리'), (5118, '삼총사'), (5119, '균형'), (5120, '최하'), (5121, '퍼펙트'), (5122, '궁금증'), (5123, '근육'), (5124, '신동엽'), (5125, '어려웠'), (5126, '한다니'), (5127, '불꽃'), (5128, '버려서'), (5129, '할까요'), (5130, '애썼'), (5131, '디스'), (5132, '희극'), (5133, '아휴'), (5134, '매치'), (5135, '톰행크스'), (5136, '걸레'), (5137, 'me'), (5138, '대리'), (5139, '장만옥'), (5140, '왕따'), (5141, '우수'), (5142, '끼친다'), (5143, '유도'), (5144, '부턴'), (5145, '박힌'), (5146, '어울릴'), (5147, '통일'), (5148, '시바'), (5149, '전통'), (5150, '경지'), (5151, '졸린'), (5152, '~♥'), (5153, '뒤통수'), (5154, '시망'), (5155, '우드'), (5156, '탁'), (5157, '사례'), (5158, '편히'), (5159, '테스트'), (5160, '지웠'), (5161, '이완'), (5162, '벌레'), (5163, '바램'), (5164, '명량'), (5165, '자존심'), (5166, '도다'), (5167, '어쨋든'), (5168, '형편'), (5169, '친일파'), (5170, '찌르'), (5171, '샀'), (5172, '손꼽히'), (5173, '맥라이언'), (5174, '재연'), (5175, '망해'), (5176, '육체'), (5177, '아파'), (5178, '한몫'), (5179, '결제'), (5180, '로멘'), (5181, '톱'), (5182, '유행어'), (5183, '탐욕'), (5184, '토이'), (5185, '펙'), (5186, '충동'), (5187, '약해'), (5188, '선입견'), (5189, '때론'), (5190, '발암'), (5191, '장사'), (5192, '명예'), (5193, '마루'), (5194, '하루하루'), (5195, '혼'), (5196, '누워'), (5197, '아름다워'), (5198, '2011'), (5199, '나빠'), (5200, '내린'), (5201, '비용'), (5202, '무도'), (5203, '브래드'), (5204, '모드'), (5205, '레오'), (5206, '아담샌들러'), (5207, '유우'), (5208, '신은경'), (5209, '됌'), (5210, '봉태규'), (5211, '치명'), (5212, '로버츠'), (5213, '강인'), (5214, '개웃'), (5215, '~!!!!'), (5216, '개지'), (5217, '한니발'), (5218, '인피니트'), (5219, '윌스미스'), (5220, '핵심'), (5221, '초콜릿'), (5222, '끝났으면'), (5223, '마피아'), (5224, '바비'), (5225, '걸려'), (5226, '깜'), (5227, '여군'), (5228, '질린다'), (5229, '못지'), (5230, '모를까'), (5231, '폭탄'), (5232, 'i'), (5233, '베낀'), (5234, '도가니'), (5235, '자녀'), (5236, '♡♡'), (5237, '다길래'), (5238, '도로'), (5239, '444'), (5240, '부류'), (5241, '헬기'), (5242, '콜린'), (5243, '아이리스'), (5244, '덴젤'), (5245, '놔서'), (5246, '보상'), (5247, '일어났'), (5248, '그럴싸하'), (5249, '공포감'), (5250, '대학교'), (5251, '아트'), (5252, '꺼라'), (5253, '웃길'), (5254, '췌'), (5255, '사신'), (5256, '제한'), (5257, '무장'), (5258, '맘대로'), (5259, '의존'), (5260, 'but'), (5261, '대가'), (5262, '흘러'), (5263, '뽀로로'), (5264, '차인표'), (5265, '쥔'), (5266, '일까요'), (5267, '소속'), (5268, '특성'), (5269, '뚫'), (5270, '테이크'), (5271, '허니'), (5272, '마크'), (5273, '근본'), (5274, '무려'), (5275, '블레이드'), (5276, '감정이입'), (5277, '공상'), (5278, '민주주의'), (5279, '설치'), (5280, '따라했'), (5281, '무표정'), (5282, '강박'), (5283, '지닌'), (5284, '천박'), (5285, '가만'), (5286, '랏'), (5287, '브라이언'), (5288, '맥어보이'), (5289, '야수'), (5290, '편지'), (5291, '초라'), (5292, '최진실'), (5293, '버금가'), (5294, '2006'), (5295, 'S'), (5296, '지치'), (5297, 'No'), (5298, '유산'), (5299, '넘친다'), (5300, '징그럽'), (5301, '기승'), (5302, '머피'), (5303, '밍'), (5304, '이길'), (5305, '그걸로'), (5306, 'love'), (5307, '처참'), (5308, '소스'), (5309, 'AV'), (5310, '’'), (5311, '드라마틱'), (5312, '물고기'), (5313, '화장'), (5314, '데미무어'), (5315, '다케시'), (5316, '부담없이'), (5317, '정글'), (5318, '외롭'), (5319, '단계'), (5320, '물질'), (5321, '숭고'), (5322, '공익'), (5323, '한국식'), (5324, '리라'), (5325, '안경'), (5326, '브금'), (5327, '끼쳤'), (5328, '목표'), (5329, '밖엔'), (5330, '기반'), (5331, '핑'), (5332, '문제점'), (5333, '불멸'), (5334, '최지우'), (5335, '해운대'), (5336, '릭'), (5337, '문구'), (5338, '이상실'), (5339, '귀한'), (5340, '도망'), (5341, '실체'), (5342, '동참'), (5343, '해학'), (5344, '잔잔히'), (5345, '위치'), (5346, '바뀐'), (5347, '남동생'), (5348, '이터'), (5349, '타이밍'), (5350, '윤리'), (5351, 'L'), (5352, '샹'), (5353, '빈디젤'), (5354, '자전거'), (5355, '기리'), (5356, '릿'), (5357, '욕하'), (5358, '갔었'), (5359, '부성애'), (5360, '당대'), (5361, '펼치'), (5362, '쌤'), (5363, '무튼'), (5364, '다가온다'), (5365, '데뷔'), (5366, '호화'), (5367, '-_'), (5368, '박신혜'), (5369, '삼국지'), (5370, '원작자'), (5371, '소유'), (5372, '빠진다'), (5373, '되돌아보'), (5374, '놀래'), (5375, '가져다'), (5376, '떠올랐'), (5377, '해놨'), (5378, '부대'), (5379, '바래'), (5380, '방학'), (5381, '엑소'), (5382, '하여튼'), (5383, '담주'), (5384, '캡틴'), (5385, '하군'), (5386, '케이스'), (5387, '쿵푸'), (5388, '미만'), (5389, '불만'), (5390, '동의'), (5391, '최강희'), (5392, '터질'), (5393, '슬로우'), (5394, '모션'), (5395, '이정현'), (5396, '권리'), (5397, '퓨'), (5398, '마동석'), (5399, '판치'), (5400, '썰렁'), (5401, '저건'), (5402, '챙기'), (5403, '강도'), (5404, '1990'), (5405, '반면'), (5406, '만만'), (5407, '먹이'), (5408, '좋아한다면'), (5409, '잘라'), (5410, '한결'), (5411, '어필'), (5412, '자비'), (5413, '치킨'), (5414, '며칠'), (5415, '움직임'), (5416, '모니터'), (5417, 'ㅐ'), (5418, '4000'), (5419, '29'), (5420, '봣습니다'), (5421, '헛소리'), (5422, '언더'), (5423, '아함'), (5424, '좌절'), (5425, '아일랜드'), (5426, '무성'), (5427, '이나마'), (5428, '^^;;'), (5429, '변한'), (5430, 'sbs'), (5431, '맙소사'), (5432, '스페셜'), (5433, '27'), (5434, '기념'), (5435, '추석'), (5436, '.,,'), (5437, '콜린퍼스'), (5438, '묶'), (5439, '넘쳐나'), (5440, '약자'), (5441, '취'), (5442, '별개'), (5443, '장담'), (5444, '김승우'), (5445, '상승'), (5446, '종이'), (5447, '오늘날'), (5448, '힌'), (5449, '문명'), (5450, '진국'), (5451, '트와일라잇'), (5452, '읍니다'), (5453, '과제'), (5454, '개봉관'), (5455, '으라면'), (5456, 'so'), (5457, '좁'), (5458, '인칭'), (5459, '무모'), (5460, '그림자'), (5461, 'av'), (5462, '소외'), (5463, '욕설'), (5464, '청'), (5465, '브로디'), (5466, '장미'), (5467, '재미난'), (5468, '오지'), (5469, '부드럽'), (5470, '스님'), (5471, '충만'), (5472, '꽁'), (5473, '성장기'), (5474, '생명체'), (5475, '포근'), (5476, '크리스틴'), (5477, '부수'), (5478, '기승전결'), (5479, '엠마'), (5480, '잠자'), (5481, '밉'), (5482, '팬티'), (5483, '개월'), (5484, '아키라'), (5485, '냄'), (5486, '하야오'), (5487, '마니아'), (5488, '심해'), (5489, '저지르'), (5490, '88'), (5491, '놓칠'), (5492, '수상'), (5493, '웬지'), (5494, '적합'), (5495, '거린다'), (5496, '저딴'), (5497, '여전사'), (5498, '웨'), (5499, '켠'), (5500, '진출'), (5501, '역부족'), (5502, '테러리스트'), (5503, '빤'), (5504, '중구난방'), (5505, '파멸'), (5506, '전후'), (5507, '케이'), (5508, '한쪽'), (5509, '델'), (5510, '들으면'), (5511, '건달'), (5512, '쫄깃'), (5513, '철저히'), (5514, '수단'), (5515, '배슬기'), (5516, '해리'), (5517, '떠난'), (5518, '륵'), (5519, '으아'), (5520, '잣'), (5521, '95'), (5522, '나대'), (5523, '탕'), (5524, '섞인'), (5525, '돋보인'), (5526, '통하'), (5527, '흘러나오'), (5528, '배두나'), (5529, '돼요'), (5530, '테이프'), (5531, '이걸로'), (5532, '조성'), (5533, '망침'), (5534, '픽'), (5535, '결투'), (5536, '조롱'), (5537, '꼽히'), (5538, '럽'), (5539, '고스트'), (5540, '산업'), (5541, '·'), (5542, '빠다'), (5543, '머니'), (5544, '라면서'), (5545, '윌'), (5546, '어줍잖'), (5547, '느껴져서'), (5548, '돌아온'), (5549, '볼란다'), (5550, '떨어져서'), (5551, '헌신'), (5552, '자질'), (5553, '원스'), (5554, '와나'), (5555, '케이트'), (5556, '열차'), (5557, '단막극'), (5558, '라이트'), (5559, '기대치'), (5560, '금발'), (5561, '국적'), (5562, '오줌'), (5563, '경쟁'), (5564, 'E'), (5565, '비됴'), (5566, '출연자'), (5567, '서사시'), (5568, '윤시윤'), (5569, '연민'), (5570, '워킹'), (5571, '웨이'), (5572, '뻘'), (5573, '웅'), (5574, '박정희'), (5575, '공각'), (5576, '기동대'), (5577, '통한'), (5578, '이슬람'), (5579, '초호'), (5580, '전범'), (5581, '두뇌'), (5582, '손오공'), (5583, '타이타닉'), (5584, '해져'), (5585, '뚜렷'), (5586, '엿볼'), (5587, '지니어스'), (5588, '뒷부분'), (5589, '짤'), (5590, '뜯'), (5591, '충족'), (5592, '폭소'), (5593, '모처럼'), (5594, '서양인'), (5595, '승'), (5596, '미친다'), (5597, '하여금'), (5598, '데이트'), (5599, '탈락'), (5600, '꺼리'), (5601, '쿠바'), (5602, '맴도'), (5603, '단다'), (5604, '니미'), (5605, '생각날'), (5606, '계신'), (5607, '초한지'), (5608, '스티브'), (5609, '에로틱'), (5610, '늘어놓'), (5611, '앵'), (5612, '이제껏'), (5613, '떨리'), (5614, '돌림'), (5615, '살아갈'), (5616, '스칼렛'), (5617, '고마워'), (5618, '순간순간'), (5619, 'ㅊ'), (5620, '지라'), (5621, '하여간'), (5622, '위안부'), (5623, '어울려요'), (5624, '윽'), (5625, '울려'), (5626, '쯧'), (5627, '이야말로'), (5628, '재일'), (5629, '우월주의'), (5630, '송중기'), (5631, '맞먹'), (5632, '드릅'), (5633, '10000'), (5634, '근대'), (5635, '라라'), (5636, '버무려'), (5637, '풋'), (5638, '태권'), (5639, '살림'), (5640, '라더니'), (5641, '아가'), (5642, '기운'), (5643, '민영화'), (5644, '날림'), (5645, '바꿀'), (5646, '급급'), (5647, '금치'), (5648, '의아'), (5649, '낯설'), (5650, '숭'), (5651, '부조리'), (5652, '이스라엘'), (5653, '뜨겁'), (5654, '치중'), (5655, '으니깐'), (5656, '느껴야'), (5657, '밉상'), (5658, '대립'), (5659, '다던데'), (5660, '래도'), (5661, '끝냈'), (5662, '세력'), (5663, 'ㅠㅠㅠㅠㅠ'), (5664, '귀여'), (5665, '새로울'), (5666, '마져'), (5667, '돕'), (5668, '다가왔'), (5669, '이수근'), (5670, '원제'), (5671, '발차기'), (5672, '군데'), (5673, '축하'), (5674, '생겨'), (5675, '치닫'), (5676, '루지'), (5677, '클래스'), (5678, '텅'), (5679, '폭파'), (5680, '뛰어났'), (5681, '동정'), (5682, '괴롭히'), (5683, '아이러니'), (5684, '시위'), (5685, '지연'), (5686, '화내'), (5687, '히틀러'), (5688, '그런대로'), (5689, '할텐데'), (5690, '거친'), (5691, '사골'), (5692, '이틀'), (5693, '바른'), (5694, '건담'), (5695, '정치인'), (5696, '^.^'), (5697, '워터'), (5698, '속이'), (5699, '심은하'), (5700, '이득'), (5701, '평작'), (5702, '스키'), (5703, '뚝'), (5704, '고릴라'), (5705, '~~~~~~~'), (5706, '크리스'), (5707, '주민'), (5708, '헤어'), (5709, '침대'), (5710, '****'), (5711, '미니'), (5712, '곽지민'), (5713, '전투기'), (5714, '후진'), (5715, '서른'), (5716, '쇼생크'), (5717, '올라오'), (5718, '올린'), (5719, '못해서'), (5720, '불러일으키'), (5721, '음모론'), (5722, '고개'), (5723, '운지'), (5724, '장진영'), (5725, '서비스'), (5726, '상평'), (5727, '자르'), (5728, '분신'), (5729, '26'), (5730, '무방'), (5731, '에반'), (5732, '..!!!'), (5733, '아무렇'), (5734, '물결'), (5735, '앞서간'), (5736, '획기'), (5737, '접했'), (5738, '으려다'), (5739, 'ㅗ'), (5740, '와라'), (5741, '걸음'), (5742, '도구'), (5743, '기원'), (5744, '구입'), (5745, '정성'), (5746, '노다메'), (5747, '니슨'), (5748, '이대로'), (5749, '살인범'), (5750, '아자'), (5751, '박스오피스'), (5752, '버려라'), (5753, '봣네요'), (5754, '견디'), (5755, '일어난'), (5756, '류승룡'), (5757, '권하'), (5758, '조여정'), (5759, '어떨지'), (5760, '슴다'), (5761, '멋대로'), (5762, '해소'), (5763, '눈감'), (5764, '..............'), (5765, '입가'), (5766, '월드컵'), (5767, '고루'), (5768, '죄책감'), (5769, '대영'), (5770, '오죽'), (5771, '댈'), (5772, '명언'), (5773, '허각'), (5774, '별론데'), (5775, '랍니다'), (5776, '캐서린'), (5777, '샤말란'), (5778, '시어머니'), (5779, '김규리'), (5780, 'lt'), (5781, '어쩐지'), (5782, '보수'), (5783, '지껄이'), (5784, '변'), (5785, '새드'), (5786, '소련'), (5787, '고선'), (5788, '간절'), (5789, '‘'), (5790, '유치원'), (5791, '퍼지'), (5792, '붙잡'), (5793, '양키'), (5794, '박유천'), (5795, '레터'), (5796, '나기'), (5797, '????'), (5798, '그로테스크'), (5799, '여우'), (5800, '패기'), (5801, '셔요'), (5802, '억압'), (5803, '고집'), (5804, '여사'), (5805, '스톤'), (5806, '바꿔라'), (5807, '모자이크'), (5808, '넘쳤'), (5809, '으다'), (5810, '할래'), (5811, '유승호'), (5812, '쉣'), (5813, '변해'), (5814, '종북'), (5815, '연락'), (5816, '눈물샘'), (5817, 'ㅓ'), (5818, '되돌'), (5819, '조국'), (5820, '이상우'), (5821, '금포'), (5822, '구린'), (5823, '알차'), (5824, '강예원'), (5825, '갈릴'), (5826, '마이크'), (5827, '그려진'), (5828, '이리저리'), (5829, '유준상'), (5830, '전파'), (5831, '헷갈리'), (5832, '무작정'), (5833, '신다면'), (5834, '닝'), (5835, '불우'), (5836, '올시다'), (5837, '!!!!!!!!'), (5838, '레드'), (5839, '종종'), (5840, '다면서'), (5841, '공장'), (5842, '제인'), (5843, '쓰리'), (5844, '쫄'), (5845, '호랑이'), (5846, '방울'), (5847, '여고생'), (5848, '변질'), (5849, '낸다'), (5850, '똥칠'), (5851, '지혜'), (5852, '클라'), (5853, '미키'), (5854, '야쿠자'), (5855, '동화책'), (5856, '빛났'), (5857, '튀기'), (5858, '동방'), (5859, '산타'), (5860, '유루'), (5861, '원한'), (5862, '과대'), (5863, '숀펜'), (5864, '덴'), (5865, '인격'), (5866, '소원'), (5867, '완존'), (5868, '훅'), (5869, '모아서'), (5870, '휘'), (5871, 'this'), (5872, '후속'), (5873, '르네'), (5874, '기절'), (5875, 'ㅜㅜㅜㅜ'), (5876, '린다'), (5877, '광해'), (5878, '일병'), (5879, '비트'), (5880, '솔로'), (5881, '저래'), (5882, '93'), (5883, '오오'), (5884, '장선우'), (5885, '떨어뜨리'), (5886, '크리'), (5887, '씨리'), (5888, '결'), (5889, '장동민'), (5890, '나인'), (5891, '노리'), (5892, '정준호'), (5893, '상하'), (5894, '이자벨'), (5895, '정신없이'), (5896, '성동일'), (5897, '밴'), (5898, '늘려'), (5899, '맥주'), (5900, '모름'), (5901, '리티'), (5902, '파트너'), (5903, '게리온'), (5904, '결혼식'), (5905, '이브'), (5906, '객관적으로'), (5907, '두렵'), (5908, '신뢰'), (5909, '쓰러지'), (5910, '데스노트'), (5911, '쉐'), (5912, '호프만'), (5913, '놀랄'), (5914, '소서'), (5915, '영화배우'), (5916, '사정'), (5917, '아녀'), (5918, '다임'), (5919, '라이브'), (5920, '모야'), (5921, '괴리'), (5922, '지능'), (5923, '1980'), (5924, '넷'), (5925, '올드보이'), (5926, '아유'), (5927, '십시오'), (5928, '강했'), (5929, '스크림'), (5930, '부시'), (5931, '진자'), (5932, '시원시원'), (5933, '어리'), (5934, '펼쳐지'), (5935, '저능아'), (5936, '원한다면'), (5937, '유덕'), (5938, '주요'), (5939, '울린다'), (5940, '놀람'), (5941, '라이프'), (5942, '짝사랑'), (5943, '된장'), (5944, '미숙'), (5945, '간다는'), (5946, '반해'), (5947, '모범'), (5948, '기이'), (5949, '여명'), (5950, '막힌'), (5951, '동성애자'), (5952, '섞여'), (5953, '♥♥♥♥'), (5954, '봉준호'), (5955, '창작'), (5956, '홀'), (5957, '했으니'), (5958, 'It'), (5959, '환영'), (5960, 'gt'), (5961, '서사'), (5962, '김민준'), (5963, '제레미'), (5964, '할께요'), (5965, '정책'), (5966, '휴잭맨'), (5967, '쿠엔틴'), (5968, '독재'), (5969, '중고'), (5970, '나른'), (5971, '주문'), (5972, '권선징악'), (5973, '과감'), (5974, '붐'), (5975, '역겨웠'), (5976, '교사'), (5977, '시계'), (5978, '흠뻑'), (5979, '인디언'), (5980, '“'), (5981, '스포일러'), (5982, '나아가'), (5983, '헌'), (5984, '높여'), (5985, '뎀'), (5986, '비행'), (5987, '창문'), (5988, '따르'), (5989, '늬'), (5990, '장백지'), (5991, '후배'), (5992, '달랐'), (5993, '썅'), (5994, '서바이벌'), (5995, '보편'), (5996, '오묘'), (5997, '이문식'), (5998, '네임'), (5999, '서태지'), (6000, '사자'), (6001, '메이저'), (6002, '탱고'), (6003, '슬슬'), (6004, '남겼'), (6005, '색기'), (6006, '이민호'), (6007, '유머러스'), (6008, '활'), (6009, '힛'), (6010, '거슬렸'), (6011, '중도'), (6012, '오덕'), (6013, '장기'), (6014, '롯데'), (6015, '인위'), (6016, '랍시고'), (6017, '총격전'), (6018, '무명'), (6019, '돌려줘'), (6020, '가라'), (6021, '소비'), (6022, '완결'), (6023, '설레이'), (6024, '지상'), (6025, '싱크로'), (6026, 'XX'), (6027, '훗'), (6028, '김정은'), (6029, '푼'), (6030, '깔려'), (6031, '추격전'), (6032, '진상'), (6033, '순례'), (6034, '밍밍'), (6035, '재벌'), (6036, '비포'), (6037, '윌리엄스'), (6038, '사이코패스'), (6039, '당해'), (6040, '떳'), (6041, '니까요'), (6042, '살릴'), (6043, '전사'), (6044, '극대'), (6045, '됀'), (6046, '하이라이트'), (6047, '타워'), (6048, '그땐'), (6049, '삽입'), (6050, '굿바이'), (6051, '일거'), (6052, '드러난'), (6053, '녹음'), (6054, '뻑'), (6055, '컴'), (6056, '후련'), (6057, '핑계'), (6058, '알맞'), (6059, '을걸'), (6060, '성기'), (6061, '스토리텔링'), (6062, '라이더'), (6063, '다닐'), (6064, '삽질'), (6065, '주로'), (6066, '페미니즘'), (6067, '영화인'), (6068, '천천히'), (6069, '영화광'), (6070, '미성년자'), (6071, '설리'), (6072, '맷데이먼'), (6073, '중견'), (6074, '훌쩍'), (6075, '서부터'), (6076, '습니'), (6077, '콤'), (6078, '특선'), (6079, '최수종'), (6080, '당함'), (6081, '이질감'), (6082, '넘쳐'), (6083, '해줘서'), (6084, '붙인'), (6085, '주진모'), (6086, '아이디'), (6087, '시퀀스'), (6088, '서커스'), (6089, '온통'), (6090, '배제'), (6091, '시간대'), (6092, '기다'), (6093, '남음'), (6094, '보너스'), (6095, '리부트'), (6096, '세끼'), (6097, '웨스턴'), (6098, '마모루'), (6099, '긴박감'), (6100, '삼성'), (6101, '돌아왔'), (6102, '로즈'), (6103, '비둘기'), (6104, '김현주'), (6105, '쑈'), (6106, '다간'), (6107, '톱스타'), (6108, '주제가'), (6109, '기어'), (6110, '전반부'), (6111, '인과'), (6112, '흘릴'), (6113, '지만은'), (6114, '싸이'), (6115, '웃긴데'), (6116, '경각심'), (6117, '주려'), (6118, '개운'), (6119, '햐'), (6120, '들어갈'), (6121, '!!!!!!!!!!!!!!!!!!!!!!!!!'), (6122, '감점'), (6123, 'bgm'), (6124, '후레쉬'), (6125, '파치노'), (6126, '인정받'), (6127, '싱어'), (6128, '현란'), (6129, '보고서'), (6130, '유이'), (6131, '파도'), (6132, '싫어하'), (6133, '큐라'), (6134, '자빠졌'), (6135, 'f'), (6136, '디비'), (6137, '업그레이드'), (6138, '관우'), (6139, '수습'), (6140, '후후'), (6141, '달린'), (6142, '컨데'), (6143, '반가웠'), (6144, '새기'), (6145, '김민희'), (6146, 'ㅡㅜ'), (6147, '봤으나'), (6148, '취지'), (6149, '김보성'), (6150, '말장난'), (6151, '달라서'), (6152, '협박'), (6153, '점대'), (6154, '유해진'), (6155, '쌍둥이'), (6156, '만행'), (6157, '멘스'), (6158, '무서워요'), (6159, '타잔'), (6160, '이준'), (6161, '존나게'), (6162, '과언'), (6163, '어쩌구'), (6164, '콩가루'), (6165, '역겨움'), (6166, '취하'), (6167, '액티비티'), (6168, '억지웃음'), (6169, '범작'), (6170, '애환'), (6171, '유튜브'), (6172, '멀미'), (6173, '빌려서'), (6174, '죄악'), (6175, '폴리스'), (6176, '발리'), (6177, '이따'), (6178, '맡기'), (6179, 'CF'), (6180, '유진'), (6181, '장수'), (6182, '무지하'), (6183, '볼려'), (6184, '이정진'), (6185, '우려'), (6186, '여느'), (6187, '재해석'), (6188, '총격'), (6189, '일본어'), (6190, '멈출'), (6191, '마주'), (6192, '몸부림'), (6193, '둠'), (6194, '끼칠'), (6195, '쟝'), (6196, '오리지날'), (6197, '골랐'), (6198, '김창완'), (6199, '투쟁'), (6200, '추적'), (6201, '보리'), (6202, 'G'), (6203, '악어'), (6204, 'z'), (6205, '나치'), (6206, '안드로메다'), (6207, '모여서'), (6208, '발악'), (6209, '막무가내'), (6210, '오름'), (6211, '피노키오'), (6212, 'ㅡㅡㅋ'), (6213, '낡'), (6214, '스물'), (6215, '올랐'), (6216, '테론'), (6217, '키드먼'), (6218, '자아내'), (6219, '힐'), (6220, '이루어지'), (6221, '디아즈'), (6222, '펴'), (6223, '아가씨'), (6224, '한구석'), (6225, '영하'), (6226, '이미연'), (6227, '베끼'), (6228, '김주혁'), (6229, '우상'), (6230, '지쳐'), (6231, '므'), (6232, '해설'), (6233, '쌓'), (6234, '재생'), (6235, '주년'), (6236, '무고'), (6237, '안개'), (6238, '츠'), (6239, '맞서'), (6240, '박물관'), (6241, '간신히'), (6242, '비약'), (6243, '드릴'), (6244, '답습'), (6245, '본데'), (6246, '쏠'), (6247, '~.'), (6248, '꾸준히'), (6249, '운적'), (6250, '쳐다보'), (6251, '조쉬'), (6252, '불교'), (6253, '어게인'), (6254, '새로움'), (6255, '장애인'), (6256, '데요'), (6257, '사도'), (6258, '해리슨'), (6259, '인성'), (6260, '지켜라'), (6261, '혹'), (6262, '딥'), (6263, '펜'), (6264, '초보'), (6265, '장비'), (6266, '울렸'), (6267, '야말로'), (6268, '공정'), (6269, '잡스'), (6270, '강우석'), (6271, '존쿠삭'), (6272, '기다린'), (6273, '외계'), (6274, '김옥빈'), (6275, '작살'), (6276, '겜'), (6277, '유선'), (6278, '보삼'), (6279, '마이너'), (6280, '출생'), (6281, '벅찬'), (6282, '건조'), (6283, '감싸'), (6284, '놀라움'), (6285, '참으'), (6286, '김준호'), (6287, '후보'), (6288, '기여'), (6289, '고난'), (6290, '퀼'), (6291, '룰'), (6292, '노라'), (6293, '루시'), (6294, '합쳐'), (6295, '눈살'), (6296, '아름다워요'), (6297, '울버린'), (6298, '박용우'), (6299, 'ㅇㅅㅇ'), (6300, '이어서'), (6301, '걸맞'), (6302, '환희'), (6303, '흐른다'), (6304, '다가가'), (6305, '투모로우'), (6306, '작성'), (6307, '얕'), (6308, '끝내준다'), (6309, '겠다는'), (6310, '끓'), (6311, '떤'), (6312, '92'), (6313, '나눠'), (6314, '특정'), (6315, '요기'), (6316, '다세포'), (6317, '경력'), (6318, '인사'), (6319, '젬'), (6320, '140'), (6321, '김소연'), (6322, '심함'), (6323, '같잖'), (6324, '단조'), (6325, '쿵푸팬더'), (6326, '입체'), (6327, '킹콩'), (6328, '퍼센트'), (6329, '박진영'), (6330, '에스'), (6331, '123'), (6332, '뵈'), (6333, '씻'), (6334, '그럴듯한'), (6335, '리얼리즘'), (6336, '루비'), (6337, '울부짖'), (6338, '크크'), (6339, '윤재'), (6340, '보낸'), (6341, '출시'), (6342, '윤발'), (6343, '시덥잖'), (6344, '대다수'), (6345, '인내력'), (6346, '해봐도'), (6347, '쇼킹'), (6348, '저지른'), (6349, '쫙'), (6350, '삭'), (6351, '플러스'), (6352, '파탄'), (6353, '혼났'), (6354, '여태껏'), (6355, '심금'), (6356, '기타노'), (6357, '반점'), (6358, '달려가'), (6359, '비열'), (6360, '도배'), (6361, '지울'), (6362, '지못미'), (6363, '칙칙'), (6364, '울린'), (6365, '엥'), (6366, '배워라'), (6367, '개병'), (6368, '아메리카'), (6369, '명절'), (6370, 'k'), (6371, '연출자'), (6372, '다물'), (6373, '주저'), (6374, '-;'), (6375, '성질'), (6376, '넘어서'), (6377, '무릎'), (6378, '색히'), (6379, '맛보'), (6380, '흔해빠진'), (6381, '신발'), (6382, '나무랄'), (6383, '..;'), (6384, '고만'), (6385, '박현지'), (6386, '무미건조'), (6387, '준다고'), (6388, '그래야'), (6389, '돌아다니'), (6390, '빠짐없이'), (6391, '눈앞'), (6392, '번방'), (6393, '잘생김'), (6394, '와인'), (6395, '줄께'), (6396, '~?'), (6397, '망쳐놨'), (6398, '딸아이'), (6399, '극도'), (6400, '애비'), (6401, '소린지'), (6402, '사귀'), (6403, '세심'), (6404, '알려진'), (6405, '간접'), (6406, '먹히'), (6407, '증오'), (6408, '머리카락'), (6409, '으휴'), (6410, '뺀'), (6411, '실천'), (6412, '떠날'), (6413, '길거리'), (6414, '대처'), (6415, '편향'), (6416, '슬플'), (6417, '불리'), (6418, '조한선'), (6419, '앨리스'), (6420, '~~~~~~~~'), (6421, '릴리'), (6422, '포커스'), (6423, '치부'), (6424, '따른'), (6425, '겁나게'), (6426, '맞춰서'), (6427, '모지'), (6428, '꼴리'), (6429, '~~!!!'), (6430, '수영'), (6431, '33'), (6432, '바꿔서'), (6433, '연설'), (6434, '화이트'), (6435, '프리퀄'), (6436, '손잡'), (6437, '시대상'), (6438, '헤헤'), (6439, '위협'), (6440, '맷'), (6441, '콜'), (6442, '.-_-'), (6443, '뜰'), (6444, '빌린'), (6445, '인시디어스'), (6446, '강소라'), (6447, '키워'), (6448, '35'), (6449, '디지'), (6450, '대답'), (6451, '진다는'), (6452, '갈망'), (6453, '혈압'), (6454, '이익'), (6455, '성시경'), (6456, '남상미'), (6457, '김윤석'), (6458, '불패'), (6459, '관찰'), (6460, '마른'), (6461, '지친'), (6462, '달인'), (6463, '버려야'), (6464, '부패'), (6465, '甲'), (6466, '뻔할'), (6467, '왠만해서'), (6468, '복귀'), (6469, '찬다'), (6470, '눈부신'), (6471, '핫'), (6472, '교양'), (6473, '그리움'), (6474, '뵙'), (6475, '절실'), (6476, '희생자'), (6477, '사업'), (6478, '안쓰럽'), (6479, '특별히'), (6480, '민간인'), (6481, '그토록'), (6482, '통제'), (6483, '지향'), (6484, '설득'), (6485, '으루'), (6486, '구식'), (6487, '상품'), (6488, '94'), (6489, '화보'), (6490, '짜장면'), (6491, '편성'), (6492, '축복'), (6493, '결승전'), (6494, '묵'), (6495, '조니'), (6496, '사악'), (6497, '수학'), (6498, '제시카알바'), (6499, 'up'), (6500, '모음'), (6501, '천하'), (6502, '개척'), (6503, 'be'), (6504, '알렉스'), (6505, '입력'), (6506, '혼합'), (6507, '보냈'), (6508, '명감독'), (6509, '봣던'), (6510, '종결'), (6511, '당당히'), (6512, '명장'), (6513, '났었'), (6514, '무죄'), (6515, '떠서'), (6516, '괴기'), (6517, '혜'), (6518, '시네마'), (6519, '기영화'), (6520, '댜'), (6521, '뼈'), (6522, '을라나'), (6523, '마법사'), (6524, '거참'), (6525, '스나입스'), (6526, '해져서'), (6527, '매드'), (6528, '헝'), (6529, '깡'), (6530, '자국'), (6531, \".'\"), (6532, '눈알'), (6533, '성폭행'), (6534, '잔상'), (6535, '아랫'), (6536, '히스레저'), (6537, '떡칠'), (6538, '연구'), (6539, '비우'), (6540, '누드'), (6541, '하찮'), (6542, '나래'), (6543, '샌들러'), (6544, '으악'), (6545, '아하'), (6546, '밸런스'), (6547, '거늘'), (6548, '아따'), (6549, '모니카'), (6550, '아아아'), (6551, '조지클루니'), (6552, '오래간만'), (6553, '황'), (6554, '워크'), (6555, '마스크'), (6556, '남녀노소'), (6557, '댄'), (6558, '으므로'), (6559, '캠프'), (6560, '반하'), (6561, '스머프'), (6562, 'SBS'), (6563, '호주'), (6564, '할려는'), (6565, 'ㅇㅇㅇ'), (6566, '레고'), (6567, '오션스'), (6568, '세금'), (6569, '리들리'), (6570, '비평'), (6571, '망가진'), (6572, '乃'), (6573, '이룬'), (6574, '그리스'), (6575, '꾸역꾸역'), (6576, '수식어'), (6577, '이서진'), (6578, '조장'), (6579, '떨어질'), (6580, '박한별'), (6581, '송윤아'), (6582, '비슷비슷'), (6583, '발가락'), (6584, '직설'), (6585, '봉전'), (6586, '콘'), (6587, '해줌'), (6588, '제자'), (6589, '식당'), (6590, '무시무시'), (6591, '유아인'), (6592, '어떨'), (6593, '현지'), (6594, '참내'), (6595, '골라'), (6596, '오점'), (6597, '분열'), (6598, '보라'), (6599, '매튜'), (6600, '표지'), (6601, '스팅'), (6602, '학예회'), (6603, '짖'), (6604, '아포칼립토'), (6605, '숫자'), (6606, '킹왕짱'), (6607, '어염'), (6608, '지상주의'), (6609, '곤란'), (6610, '히스'), (6611, '허망'), (6612, '피부'), (6613, '박하'), (6614, '베를린'), (6615, '합격'), (6616, '달라지'), (6617, '송새벽'), (6618, '은유'), (6619, '총기'), (6620, '운영'), (6621, '건전'), (6622, '날아가'), (6623, '미지근'), (6624, '................'), (6625, '절친'), (6626, '스토커'), (6627, '베토벤'), (6628, '터진'), (6629, '즈음'), (6630, '윤은혜'), (6631, '!^^'), (6632, '요가'), (6633, '흘려'), (6634, '깐'), (6635, '다지'), (6636, '청순'), (6637, '클로즈업'), (6638, '소심'), (6639, '올바른'), (6640, '85'), (6641, '”'), (6642, '이빨'), (6643, '다며'), (6644, '산다는'), (6645, '에리카'), (6646, '우디앨런'), (6647, '꽃미남'), (6648, '하모니'), (6649, '짜맞추'), (6650, '지날수록'), (6651, '영역'), (6652, '반쪽'), (6653, '블러드'), (6654, '하하하하'), (6655, '찐한'), (6656, '쌍벽'), (6657, '가르침'), (6658, '다짐'), (6659, '춘'), (6660, '눈높이'), (6661, '중점'), (6662, '맛없'), (6663, '라는데'), (6664, '특색'), (6665, '굴'), (6666, '다녀왔'), (6667, '..)'), (6668, '괴상'), (6669, '오정세'), (6670, '긴급조치'), (6671, '현우'), (6672, '주식'), (6673, 'boring'), (6674, '쪼금'), (6675, '고대'), (6676, '풀어냈'), (6677, '싸인'), (6678, '비리'), (6679, '표출'), (6680, '가위'), (6681, '.;;;'), (6682, '밀려'), (6683, '진가'), (6684, '스페이스'), (6685, '장황'), (6686, '판타스틱'), (6687, '대견'), (6688, '신랑'), (6689, '분류'), (6690, '현명'), (6691, '부천'), (6692, '가르치'), (6693, '여지껏'), (6694, '토하'), (6695, '재판'), (6696, '패밀리'), (6697, '은행'), (6698, '닭살'), (6699, '샤를리즈'), (6700, '침략'), (6701, '!!!!!!!!!!!'), (6702, '레즈'), (6703, '포스트'), (6704, '훌'), (6705, '더구만'), (6706, '사이트'), (6707, '로썬'), (6708, '꼬집'), (6709, '후편'), (6710, '영애'), (6711, '련'), (6712, 'SM'), (6713, '그날'), (6714, '노아'), (6715, '댔'), (6716, '말코비치'), (6717, '찜'), (6718, '이미숙'), (6719, '붕가'), (6720, '왤캐'), (6721, '투더'), (6722, '유부녀'), (6723, '기막힌'), (6724, '틀린'), (6725, '핡'), (6726, '틴'), (6727, '준수'), (6728, '구로사와'), (6729, '발정'), (6730, '고추'), (6731, '명백'), (6732, '박시환'), (6733, '문자'), (6734, '모건'), (6735, '어땠을까'), (6736, '코너'), (6737, '쌀'), (6738, '1997'), (6739, '여부'), (6740, '우베볼'), (6741, '시켜라'), (6742, '두근거리'), (6743, '압'), (6744, '몸짓'), (6745, '쇠'), (6746, '...;;'), (6747, '이라고'), (6748, '샤워'), (6749, '저격'), (6750, '비긴'), (6751, '쯔'), (6752, '리쉬'), (6753, '유오'), (6754, '누워서'), (6755, '얼음'), (6756, '폰부스'), (6757, '지겨움'), (6758, '이집트'), (6759, '류덕환'), (6760, '기만'), (6761, '미사일'), (6762, '봇'), (6763, '예감'), (6764, '늘어진다'), (6765, '날라'), (6766, '감우성'), (6767, '게리올드만'), (6768, '냉소'), (6769, '들려'), (6770, '누리'), (6771, '주네'), (6772, '떴'), (6773, '킴'), (6774, '강철'), (6775, '무한도전'), (6776, '재수'), (6777, '이쁜데'), (6778, '한반도'), (6779, '을수록'), (6780, '레벨'), (6781, '김아중'), (6782, '맥락'), (6783, '이지아'), (6784, '면은'), (6785, '기초'), (6786, '냉혹'), (6787, '직장인'), (6788, '에바그린'), (6789, '끌어내'), (6790, '내릴'), (6791, '김우빈'), (6792, '아름다우'), (6793, '생길'), (6794, '복싱'), (6795, '애요'), (6796, '홈즈'), (6797, '권장'), (6798, '두세'), (6799, '퍼포먼스'), (6800, '에라'), (6801, '워쇼스키'), (6802, '뱉'), (6803, '막막'), (6804, '럭'), (6805, '인하'), (6806, '가물가물'), (6807, '정복'), (6808, '도서관'), (6809, '야겠다'), (6810, '트리'), (6811, '쟤'), (6812, '파이널'), (6813, '다더니'), (6814, '애서'), (6815, '목숨걸'), (6816, '갚'), (6817, '똑'), (6818, '소유진'), (6819, '세우'), (6820, '워스트'), (6821, '1998'), (6822, '김수미'), (6823, '동양인'), (6824, '모시'), (6825, '빚'), (6826, '제라드'), (6827, '디젤'), (6828, '뇬'), (6829, '산드라'), (6830, '토요일'), (6831, '꾀'), (6832, '석'), (6833, '강남'), (6834, '초중'), (6835, '장엄'), (6836, '잡탕'), (6837, '세용'), (6838, '해적'), (6839, '웡'), (6840, '을껄'), (6841, '45'), (6842, '데려다가'), (6843, '통찰'), (6844, '89'), (6845, '징징대'), (6846, '추상'), (6847, '엎'), (6848, '민호'), (6849, '거침없이'), (6850, '애쓴'), (6851, '악한'), (6852, '뜻깊'), (6853, '아파서'), (6854, '시한부'), (6855, '걔'), (6856, '대왕'), (6857, '벨라'), (6858, '짝짝'), (6859, '꼬이'), (6860, '토크'), (6861, '기능'), (6862, '으으'), (6863, '캡'), (6864, '이안'), (6865, '치매'), (6866, '안젤리나'), (6867, '광대'), (6868, '견줄'), (6869, '함축'), (6870, '묘'), (6871, '연대기'), (6872, '클레이'), (6873, '눌러'), (6874, '소수자'), (6875, '세이'), (6876, '밀라요보비치'), (6877, '데기'), (6878, '정이건'), (6879, '개구리'), (6880, '허락'), (6881, '저럴'), (6882, '멎'), (6883, '유희'), (6884, '계급'), (6885, '*^^*'), (6886, '화살'), (6887, '허리'), (6888, '몽골'), (6889, '오래가'), (6890, '마돈나'), (6891, '브라질'), (6892, '삼촌'), (6893, '상관없이'), (6894, '투입'), (6895, '반항'), (6896, '쟁쟁'), (6897, '문소리'), (6898, '오컬트'), (6899, '테일러'), (6900, '세븐'), (6901, '댄싱'), (6902, '공군'), (6903, '땡기'), (6904, '박진희'), (6905, '종편'), (6906, '납'), (6907, '뿌려'), (6908, '바래요'), (6909, '파이트'), (6910, '노란'), (6911, '올려야'), (6912, '명분'), (6913, '윌리엄'), (6914, '84'), (6915, '쿼터'), (6916, '빽'), (6917, '레이스'), (6918, '변함없'), (6919, '워싱턴'), (6920, '장예모'), (6921, '^^~'), (6922, '자니'), (6923, '월화'), (6924, '비웃'), (6925, '돌아갈'), (6926, '오가'), (6927, '경치'), (6928, '안함'), (6929, '달래'), (6930, '퇴폐'), (6931, '보람'), (6932, '자연스레'), (6933, '휴지'), (6934, '격투기'), (6935, '아파트'), (6936, '싱크'), (6937, '쪄'), (6938, '탱크'), (6939, '파고드'), (6940, '이동진'), (6941, '바르'), (6942, '내주'), (6943, '받쳐'), (6944, '닉'), (6945, '여럿'), (6946, '갤'), (6947, '과분'), (6948, '돌프'), (6949, '고아라'), (6950, 'ever'), (6951, '총싸움'), (6952, '배틀'), (6953, '아름다워서'), (6954, '하트'), (6955, '어우러져'), (6956, '에잇'), (6957, '해집니다'), (6958, '바이블'), (6959, '비비'), (6960, '라네'), (6961, '00'), (6962, '권투'), (6963, '뛴다'), (6964, '음산'), (6965, '교통사고'), (6966, '배트'), (6967, '소위'), (6968, '고른'), (6969, '써본다'), (6970, '이보영'), (6971, '김대희'), (6972, '허허허'), (6973, '흔치'), (6974, '이런지'), (6975, '오열'), (6976, '꺼버린'), (6977, '톰하디'), (6978, '버디'), (6979, '뚜'), (6980, '당위'), (6981, '누굴'), (6982, '일리'), (6983, '강원도'), (6984, '다이'), (6985, '산뜻'), (6986, '!♥'), (6987, '내인생의'), (6988, '싱거운'), (6989, '차갑'), (6990, '나나'), (6991, '단면'), (6992, '믹스'), (6993, '면상'), (6994, '순정'), (6995, '강수연'), (6996, '월요일'), (6997, '줄게'), (6998, '류승완'), (6999, '남북'), (7000, '앤드류'), (7001, '사촌'), (7002, '페이스'), (7003, '다라'), (7004, '줄이'), (7005, '돌아간'), (7006, '장교'), (7007, '민국'), (7008, '카메오'), (7009, '괴로웠'), (7010, '마술'), (7011, '싸대'), (7012, '뷰'), (7013, '낮춰야'), (7014, '처벌'), (7015, '배틀로얄'), (7016, '국회의원'), (7017, '드러운'), (7018, '나위'), (7019, '루크'), (7020, '싯'), (7021, '김윤진'), (7022, '싸웠'), (7023, '들어와'), (7024, '에여'), (7025, '중독자'), (7026, '펑'), (7027, '감격'), (7028, '조안'), (7029, '건너'), (7030, '라운드'), (7031, '토미'), (7032, '박시후'), (7033, '사물'), (7034, '김지수'), (7035, '신다'), (7036, '아나운서'), (7037, '감출'), (7038, '무덤'), (7039, '바라본'), (7040, '이이'), (7041, '사바'), (7042, '댄서'), (7043, '취해'), (7044, '인줄'), (7045, '뭍'), (7046, '정식'), (7047, '영호'), (7048, '바쁜'), (7049, '놔두'), (7050, '방송국'), (7051, '토비'), (7052, '을래'), (7053, '이해력'), (7054, '들여서'), (7055, '이요원'), (7056, '강용석'), (7057, '약함'), (7058, '대요'), (7059, '#'), (7060, '!!!!!!!!!'), (7061, '비노쉬'), (7062, '개고생'), (7063, '탐정'), (7064, '나락'), (7065, '감회'), (7066, '대세'), (7067, '서영희'), (7068, '닌'), (7069, '전무후무'), (7070, '선한'), (7071, '당께'), (7072, '자칭'), (7073, '배신감'), (7074, '퍼시픽'), (7075, '전두환'), (7076, '화재'), (7077, '견딜'), (7078, '바디'), (7079, '패틴슨'), (7080, '사토시'), (7081, '탄압'), (7082, '버스터'), (7083, '일치'), (7084, '스마트폰'), (7085, '좃'), (7086, '여학생'), (7087, '포레스트'), (7088, '서유기'), (7089, '총각'), (7090, '호모'), (7091, '으실'), (7092, '바꼈'), (7093, '유전자'), (7094, '올라'), (7095, '미생'), (7096, '보태'), (7097, '챙피'), (7098, '세세'), (7099, '박력'), (7100, '식구'), (7101, '할라고'), (7102, '드팔마'), (7103, '이모'), (7104, '초대'), (7105, '그럴싸'), (7106, '고조'), (7107, '시켜야'), (7108, '진전'), (7109, '레즈비언'), (7110, '이곳'), (7111, '입술'), (7112, '생생히'), (7113, '역동'), (7114, '따라잡'), (7115, '개똥철학'), (7116, '영점'), (7117, '쌔'), (7118, '그루'), (7119, '이루어진'), (7120, '수천'), (7121, '매료'), (7122, '더러움'), (7123, '크로우'), (7124, '판사'), (7125, '심판'), (7126, '고파'), (7127, '이경영'), (7128, '꼬꼬마'), (7129, '쨩'), (7130, '영리'), (7131, '문채원'), (7132, '스틱'), (7133, '이기심'), (7134, '소시'), (7135, '정무문'), (7136, '남길'), (7137, '낚일'), (7138, 'what'), (7139, '필립'), (7140, '지니'), (7141, '생전'), (7142, '체인지'), (7143, '넘버'), (7144, '리플'), (7145, '막말'), (7146, '할리'), (7147, '고마'), (7148, '묻히'), (7149, '안소니'), (7150, '금성무'), (7151, '노고'), (7152, '부처'), (7153, '요거'), (7154, '이태임'), (7155, '쪽팔리'), (7156, '뛰어다니'), (7157, '크기'), (7158, '무심코'), (7159, '주구장창'), (7160, '옮겨'), (7161, '루카스'), (7162, '프리'), (7163, '정준영'), (7164, '무관'), (7165, '입맛'), (7166, '귀여우'), (7167, '김지운'), (7168, '필모그래피'), (7169, '뽀뽀'), (7170, '만지'), (7171, '고소'), (7172, '주의자'), (7173, '미련'), (7174, '불신'), (7175, '의의'), (7176, '볼걸'), (7177, '보듬'), (7178, '썬'), (7179, '곽부성'), (7180, '좀비'), (7181, '주변인'), (7182, '흥겹'), (7183, '들어감'), (7184, '수도'), (7185, '탐험'), (7186, '믹'), (7187, '부드러운'), (7188, '아오이유우'), (7189, '천상'), (7190, '징징'), (7191, '악행'), (7192, '각외'), (7193, '오드리'), (7194, '따라올'), (7195, '벌이'), (7196, '연발'), (7197, '제국주의'), (7198, '승자'), (7199, '아이덴티티'), (7200, '차려'), (7201, 'am'), (7202, '큰일'), (7203, '♡♡♡'), (7204, '노린'), (7205, 'Best'), (7206, '한층'), (7207, '괴롭'), (7208, '해당'), (7209, '한대'), (7210, '거칠'), (7211, '방대'), (7212, '..................'), (7213, '저냥'), (7214, '쇼크'), (7215, '꼬박꼬박'), (7216, '말론'), (7217, 'sm'), (7218, '챔피언'), (7219, '가득찬'), (7220, '깨지'), (7221, '평온'), (7222, '수퍼'), (7223, '스티'), (7224, '러블리'), (7225, '한낱'), (7226, '손꼽'), (7227, '올인'), (7228, '연평해전'), (7229, '게리'), (7230, '합작'), (7231, '위선'), (7232, '파이터'), (7233, '김대중'), (7234, '공평'), (7235, '우스꽝'), (7236, '강의'), (7237, 'GOOD'), (7238, '경고'), (7239, '제격'), (7240, '만드신'), (7241, '개재'), (7242, '가필드'), (7243, '발성'), (7244, '신지'), (7245, '나비효과'), (7246, '이내'), (7247, '는데도'), (7248, '달린다'), (7249, '될까요'), (7250, '탱'), (7251, '해내'), (7252, '읎'), (7253, ',..'), (7254, 'top'), (7255, '기다림'), (7256, 'ㅠㅠㅠㅠㅠㅠ'), (7257, '흘린'), (7258, '1970'), (7259, '타격'), (7260, '쭈욱'), (7261, '유코'), (7262, '.!!!'), (7263, '안중근'), (7264, '반가운'), (7265, '퓨전'), (7266, '출동'), (7267, '방어'), (7268, '껍데기'), (7269, '역경'), (7270, '힘든데'), (7271, '싸가지'), (7272, '쵸'), (7273, '거미'), (7274, '욜'), (7275, '생일'), (7276, '죵'), (7277, '뺨'), (7278, '쏟아지'), (7279, '뒷맛'), (7280, '정극'), (7281, '둔갑'), (7282, '두려워'), (7283, '할매'), (7284, '소금'), (7285, '담당'), (7286, '짱깨'), (7287, '넘침'), (7288, '자신감'), (7289, '라이토'), (7290, '스펙터클'), (7291, '추모'), (7292, '주리'), (7293, 'p'), (7294, '|'), (7295, '달라진'), (7296, '꺼지'), (7297, '들어맞'), (7298, '고은'), (7299, '만든다고'), (7300, '가져야'), (7301, '무당'), (7302, '벗어난'), (7303, '펀치'), (7304, '연속극'), (7305, '줄리아로버츠'), (7306, '베테랑'), (7307, '한창'), (7308, '검술'), (7309, '흘러간다'), (7310, '최신'), (7311, '리브스'), (7312, 'for'), (7313, '끌려'), (7314, '밀려온다'), (7315, '코끼리'), (7316, '느껴집니다'), (7317, '홍경인'), (7318, '스승'), (7319, '효과음'), (7320, '국민학교'), (7321, '나오코'), (7322, '낚시질'), (7323, '쨋'), (7324, '충돌'), (7325, '소림사'), (7326, '돠'), (7327, '꾸미'), (7328, '선교'), (7329, '무력'), (7330, '이겼'), (7331, '착오'), (7332, '바둑'), (7333, '최곤데'), (7334, '연예'), (7335, '널리'), (7336, '도리'), (7337, '브레이크'), (7338, 'not'), (7339, 'that'), (7340, '야마카시'), (7341, '내세운'), (7342, '식겁'), (7343, '다던'), (7344, '오버액션'), (7345, '키아누리브스'), (7346, '클릭'), (7347, '유죄'), (7348, '출'), (7349, '미지'), (7350, '.('), (7351, '도발'), (7352, '먹방'), (7353, '긴데'), (7354, '느껴진'), (7355, '볼래'), (7356, '→'), (7357, '비운'), (7358, '발하'), (7359, '다람쥐'), (7360, '티켓'), (7361, '세밀'), (7362, '기념비'), (7363, '약했'), (7364, '랭'), (7365, '힝'), (7366, '현대판'), (7367, '어따'), (7368, '렸다'), (7369, '더락'), (7370, '경향'), (7371, '올드'), (7372, '수녀'), (7373, '수년'), (7374, '알포인트'), (7375, '지켜야'), (7376, '해맑'), (7377, '티라노'), (7378, 'Z'), (7379, '미미'), (7380, '나잇'), (7381, '어우러지'), (7382, '옮기'), (7383, '지나쳤'), (7384, '절실히'), (7385, '눈꼽'), (7386, '시궁창'), (7387, '충실하'), (7388, '안전'), (7389, '아닐까요'), (7390, '명탐정'), (7391, '로우'), (7392, '블럭'), (7393, '워라'), (7394, '가두'), (7395, '라디오'), (7396, '전원'), (7397, '빙의'), (7398, '거꾸로'), (7399, '유동근'), (7400, '건드리'), (7401, '회자'), (7402, '운다'), (7403, '팬텀'), (7404, '링컨'), (7405, '언젠간'), (7406, '스티븐시걸'), (7407, '대회'), (7408, '코스트너'), (7409, '기세'), (7410, '할로윈'), (7411, '벌리'), (7412, '테마'), (7413, '숨기'), (7414, '울궈먹'), (7415, '트라우마'), (7416, '허점'), (7417, '주걸륜'), (7418, '코폴라'), (7419, '긴말'), (7420, '재희'), (7421, '요한슨'), (7422, '김동완'), (7423, '구속'), (7424, '기름'), (7425, '램'), (7426, '바꿔야'), (7427, '미니언'), (7428, '그은'), (7429, '삽입곡'), (7430, '크로넨버그'), (7431, '극우'), (7432, '성냥팔이'), (7433, '재림'), (7434, '무서워하'), (7435, '데려가'), (7436, '절벽'), (7437, '참패'), (7438, '홍련'), (7439, '리오'), (7440, '수긍'), (7441, '밑바닥'), (7442, '부러웠'), (7443, '수행'), (7444, '동포'), (7445, '보여요'), (7446, '생긴다'), (7447, '원본'), (7448, '리더'), (7449, '샤론'), (7450, '회수'), (7451, '한들'), (7452, '결여'), (7453, '바랄'), (7454, '어리버리'), (7455, '진영'), (7456, '뤽'), (7457, '내심'), (7458, 'v'), (7459, '불문'), (7460, '끊이'), (7461, '깬다'), (7462, '잼따'), (7463, '틸'), (7464, '배끼'), (7465, '느라고'), (7466, '초저'), (7467, '>_<'), (7468, '리언'), (7469, '띄우'), (7470, '순서'), (7471, '설계'), (7472, '애교'), (7473, '눈시울'), (7474, '느려'), (7475, '졸이'), (7476, '바이올린'), (7477, '황정음'), (7478, '정경호'), (7479, '자이언트'), (7480, '끝장'), (7481, '해바라기'), (7482, '정주'), (7483, '정직'), (7484, 'But'), (7485, '일진'), (7486, '덴젤워싱턴'), (7487, '툭'), (7488, '바쁘'), (7489, '서영'), (7490, '화성'), (7491, '요세'), (7492, '호연'), (7493, '대륙'), (7494, '소망'), (7495, '비스'), (7496, 'pd'), (7497, '역겨워'), (7498, '음란'), (7499, '노릇'), (7500, 'BGM'), (7501, '개오'), (7502, '비틀즈'), (7503, '태극기'), (7504, '자란'), (7505, '돌고래'), (7506, '32'), (7507, '하녀'), (7508, '네이션'), (7509, '감추'), (7510, '날개'), (7511, '모던'), (7512, '코끝'), (7513, 'are'), (7514, '과한'), (7515, '투명'), (7516, '삘'), (7517, '911'), (7518, '걸림'), (7519, '귓가'), (7520, '오후'), (7521, '악령'), (7522, '써니'), (7523, '하루카'), (7524, '극히'), (7525, '질려'), (7526, '괘'), (7527, '끈끈'), (7528, '해병대'), (7529, '본래'), (7530, '이제훈'), (7531, '브란도'), (7532, '김고은'), (7533, '정수'), (7534, '헨리'), (7535, '처지'), (7536, '몰르'), (7537, '방지'), (7538, '우마서먼'), (7539, '꺄'), (7540, '재즈'), (7541, '폐인'), (7542, '제타'), (7543, '파란만장'), (7544, '저걸'), (7545, '고리타분'), (7546, '간결'), (7547, '마더'), (7548, 'ㄲ'), (7549, '애써'), (7550, '지망'), (7551, '오감'), (7552, '내부'), (7553, '쫄딱'), (7554, '씽'), (7555, '보네'), (7556, '친근'), (7557, '여백'), (7558, \"..'\"), (7559, '에밀리'), (7560, '프랭크'), (7561, '컬러'), (7562, '남아도'), (7563, '아닙니까'), (7564, '올리비아'), (7565, '래디'), (7566, '한류'), (7567, '매체'), (7568, '못난이'), (7569, '04'), (7570, '여성부'), (7571, '천지'), (7572, '덧'), (7573, '운전'), (7574, '입양'), (7575, '뒷모습'), (7576, '애청자'), (7577, '쳐라'), (7578, '심플'), (7579, '보낼'), (7580, '닳'), (7581, '시끄러워서'), (7582, '큽니다'), (7583, '고군분투'), (7584, '빈틈'), (7585, '매길'), (7586, '염정아'), (7587, '홍석천'), (7588, '모였'), (7589, '니모'), (7590, '당첨'), (7591, '흙'), (7592, '태권브이'), (7593, '스트립'), (7594, '으로부터'), (7595, '메가'), (7596, '케이온'), (7597, '유방'), (7598, '라디오스타'), (7599, '튀어나오'), (7600, '공략'), (7601, '권총'), (7602, '바스코'), (7603, '키이라'), (7604, '머금'), (7605, ',.'), (7606, '은희'), (7607, '팜'), (7608, '!!!!!!!!!!!!!'), (7609, '뚱뚱'), (7610, '참가자'), (7611, '우물'), (7612, '빼앗'), (7613, '가발'), (7614, '제대'), (7615, '버킷'), (7616, '개그콘서트'), (7617, '살해'), (7618, '정은지'), (7619, '빔'), (7620, '태어났'), (7621, '재기'), (7622, '온전히'), (7623, '아이언'), (7624, '점차'), (7625, '친척'), (7626, '살아온'), (7627, '갈팡질팡'), (7628, '숨막히'), (7629, '빙빙'), (7630, '생동감'), (7631, '사치'), (7632, '아이템'), (7633, '능청'), (7634, '인대'), (7635, '솜'), (7636, '공자'), (7637, '+_+'), (7638, '부러'), (7639, '문란'), (7640, '파트'), (7641, '아씨'), (7642, '유투'), (7643, '밤새'), (7644, 'P'), (7645, '룸'), (7646, '시내'), (7647, 'H'), (7648, '로드리게즈'), (7649, '넘사벽'), (7650, '체제'), (7651, '드릴게요'), (7652, '하느님'), (7653, '수능'), (7654, '성욕'), (7655, '미덕'), (7656, '균'), (7657, '넘버원'), (7658, 'or'), (7659, '홍어'), (7660, '슈퍼스타'), (7661, '템포'), (7662, '귀여니'), (7663, '오픈'), (7664, '뉘'), (7665, '놓쳤'), (7666, '뺐'), (7667, '지지부진'), (7668, '컬'), (7669, '외설'), (7670, '물중'), (7671, '쓸모없'), (7672, '맹목'), (7673, '훔치'), (7674, '시초'), (7675, '편협'), (7676, '찰리채플린'), (7677, '카페'), (7678, '떨어뜨린다'), (7679, '요청'), (7680, '휴대폰'), (7681, '말년'), (7682, '더구나'), (7683, '돌릴'), (7684, '카이'), (7685, '임요환'), (7686, '모른다는'), (7687, '썩어빠진'), (7688, '교묘'), (7689, '신랄'), (7690, '별생각'), (7691, '쪙'), (7692, '꼬리'), (7693, '천안'), (7694, '여긴'), (7695, '뒷이야기'), (7696, '번지르르'), (7697, '임금'), (7698, '멜로디'), (7699, '클로이'), (7700, '데이즈'), (7701, '발킬머'), (7702, '소중히'), (7703, '존트라볼타'), (7704, '나타낸'), (7705, '순식간'), (7706, '아까우'), (7707, '맬'), (7708, '암것도'), (7709, '!!!!!!!!!!'), (7710, '차려라'), (7711, '범벅'), (7712, '죽여도'), (7713, '존슨'), (7714, '댄다'), (7715, '소릴'), (7716, '멍하니'), (7717, '몰라요'), (7718, '프렌즈'), (7719, '정보석'), (7720, '몹시'), (7721, '우산'), (7722, '스콜세지'), (7723, '평등'), (7724, '트루'), (7725, '난장판'), (7726, '숨죽이'), (7727, 'V'), (7728, '양념'), (7729, '바뀔'), (7730, '남여'), (7731, '겠어요'), (7732, '치우'), (7733, '런지'), (7734, '일부분'), (7735, '패닝'), (7736, '애뜻'), (7737, '도망치'), (7738, '통속'), (7739, 'bbbb'), (7740, '샤이니'), (7741, '오락물'), (7742, '최종'), (7743, '베꼈'), (7744, '불렀'), (7745, '코미'), (7746, '48'), (7747, 'blog'), (7748, '동성'), (7749, '경상도'), (7750, '승질'), (7751, '소지'), (7752, 'on'), (7753, '일류'), (7754, '82'), (7755, '카펜터'), (7756, '모조리'), (7757, '갸'), (7758, '크리스찬베일'), (7759, '하울'), (7760, '밥맛'), (7761, '남겨진'), (7762, '최상'), (7763, '이명박'), (7764, '과자'), (7765, '히로'), (7766, '특공대'), (7767, '허영'), (7768, '느림'), (7769, '빙자'), (7770, '전우치'), (7771, '은밀'), (7772, '웰'), (7773, '얽히'), (7774, '이소연'), (7775, '르노'), (7776, '비춰'), (7777, '따라간다'), (7778, '엘리베이터'), (7779, '비장'), (7780, '이시영'), (7781, '장학우'), (7782, '조마조마'), (7783, '투니'), (7784, '니라'), (7785, '우마'), (7786, '했어야'), (7787, '토토'), (7788, '미친놈'), (7789, '장화'), (7790, '제이콥'), (7791, '삼각'), (7792, '놈놈놈'), (7793, '벗어날'), (7794, '희열'), (7795, '사탄'), (7796, '클리프'), (7797, '다이빙'), (7798, '사뭇'), (7799, '스미스'), (7800, ';;;;;'), (7801, '얼간이'), (7802, '요괴'), (7803, '증언'), (7804, '어스'), (7805, '무협물'), (7806, '이지나'), (7807, '판빙빙'), (7808, '...............'), (7809, '마미'), (7810, '피어스'), (7811, '아담스'), (7812, '96'), (7813, '컨대'), (7814, '이하늬'), (7815, '속터지'), (7816, '다네요'), (7817, '오염'), (7818, '최시원'), (7819, '중국어'), (7820, '모자르'), (7821, '백제'), (7822, '폭동'), (7823, '옆집'), (7824, '할려면'), (7825, '79'), (7826, '정녕'), (7827, '줄까'), (7828, '불타'), (7829, '놀라웠'), (7830, '짠해'), (7831, '갇힌'), (7832, '대장'), (7833, '습격'), (7834, '바란'), (7835, '대인'), (7836, '닮음'), (7837, '풍광'), (7838, '이불'), (7839, '150'), (7840, '.-_-;;'), (7841, '십니까'), (7842, '주부'), (7843, '흐믓'), (7844, '더이다'), (7845, '깎아내리'), (7846, '생산'), (7847, '복장'), (7848, '가져'), (7849, 'REC'), (7850, '턱'), (7851, '디지털'), (7852, '김병만'), (7853, '\\\\'), (7854, '시네'), (7855, '알아듣'), (7856, '87'), (7857, '내지'), (7858, '굵'), (7859, '돌이켜'), (7860, '펼쳐'), (7861, '정교'), (7862, '소송'), (7863, '넘길'), (7864, '렌'), (7865, '오마이갓'), (7866, '핑크'), (7867, '때묻'), (7868, '회차'), (7869, '려구요'), (7870, '알콩달콩'), (7871, '훔쳐'), (7872, '예쁘다'), (7873, '유재석'), (7874, '마력'), (7875, '사납'), (7876, '독수리'), (7877, '올립니다'), (7878, '사기극'), (7879, '김정화'), (7880, '벌려'), (7881, '브레드'), (7882, '어려워'), (7883, '자다'), (7884, '그리도'), (7885, '대머리'), (7886, '푸하하'), (7887, '시대극'), (7888, '육'), (7889, '한잔'), (7890, '유오성'), (7891, '떨어집니다'), (7892, '심보'), (7893, '만드셨'), (7894, '종족'), (7895, '레인져'), (7896, '바람둥이'), (7897, '한판'), (7898, '기생'), (7899, '찾아왔'), (7900, '조크'), (7901, '나탈리'), (7902, '던질'), (7903, '구해서'), (7904, '했으며'), (7905, '어려'), (7906, '카지노'), (7907, '표방'), (7908, '훗날'), (7909, '고창석'), (7910, '스텔론'), (7911, '욕했'), (7912, '역겨울'), (7913, '메이드'), (7914, '박혀'), (7915, '나선'), (7916, '칼싸움'), (7917, '될수록'), (7918, '퍽'), (7919, '먹여'), (7920, '알아주'), (7921, '어렴풋이'), (7922, '바위'), (7923, '반미'), (7924, '외노'), (7925, '네버'), (7926, '레미제라블'), (7927, '겹치'), (7928, '비호'), (7929, '밀도'), (7930, '장식'), (7931, '뺨치'), (7932, '근친'), (7933, '페넬로페'), (7934, '잣대'), (7935, '유사라'), (7936, '찰스'), (7937, '소란'), (7938, '숙제'), (7939, '올까'), (7940, '꼈'), (7941, '멕시코'), (7942, '..??'), (7943, '남한'), (7944, '각종'), (7945, '갱스터'), (7946, '보트'), (7947, '오광록'), (7948, '해리슨포드'), (7949, '주어진'), (7950, '발칙'), (7951, '결핍'), (7952, '심야'), (7953, '이래야'), (7954, '차례'), (7955, '왔다갔다'), (7956, '터져서'), (7957, '붓'), (7958, 'we'), (7959, '편승'), (7960, '추운'), (7961, '기쁘'), (7962, '줄줄'), (7963, '엑스파일'), (7964, '외전'), (7965, '핀처'), (7966, '-_-;;;'), (7967, '임무'), (7968, '마다가스카'), (7969, '조이'), (7970, '톡톡'), (7971, '응징'), (7972, '안달'), (7973, '놀아나'), (7974, '서리'), (7975, '윤제문'), (7976, '툭하면'), (7977, '들어간다'), (7978, '민중'), (7979, '불법체류'), (7980, '미아'), (7981, '금물'), (7982, '햇살'), (7983, '모녀'), (7984, '조디포스터'), (7985, '뜻밖'), (7986, '센세이션'), (7987, '일으킨'), (7988, '개답'), (7989, '걸쳐'), (7990, '감수성'), (7991, '유괴'), (7992, '툭툭'), (7993, '지아'), (7994, '박장대소'), (7995, '느껴져'), (7996, '대우'), (7997, '최루성'), (7998, '자시'), (7999, '어르신'), (8000, '잔치'), (8001, '~~!!!!'), (8002, '통틀'), (8003, '마이클베이'), (8004, '모텔'), (8005, '퀴즈'), (8006, '한채영'), (8007, '니콜라스케이지'), (8008, '나오미'), (8009, '복습'), (8010, '개신교'), (8011, '돌려서'), (8012, '포켓몬스터'), (8013, 'Ost'), (8014, '뷁'), (8015, '잡다'), (8016, '죽도'), (8017, '000'), (8018, '강해서'), (8019, '비스트'), (8020, '약점'), (8021, '해용'), (8022, '>.<'), (8023, '고도'), (8024, '까요'), (8025, '볼륨'), (8026, '한지민'), (8027, '번개'), (8028, '사족'), (8029, '긁'), (8030, '엘리트'), (8031, '지현우'), (8032, '엘리자베스'), (8033, '배워야'), (8034, '뻣뻣'), (8035, '욧'), (8036, '어떤지'), (8037, '듬뿍'), (8038, '쩍'), (8039, '추기경'), (8040, '타리'), (8041, '、'), (8042, '가면'), (8043, '료코'), (8044, '들이'), (8045, '교체'), (8046, '김정훈'), (8047, '얍'), (8048, '가방'), (8049, '할께'), (8050, '끝맺'), (8051, '지하'), (8052, '라이즈'), (8053, '반데라스'), (8054, '심취'), (8055, '품달'), (8056, '뿌린'), (8057, '횡설수설'), (8058, '성장통'), (8059, '까말까'), (8060, '구상'), (8061, '스웨덴'), (8062, '면모'), (8063, '장르노'), (8064, '비로소'), (8065, '78'), (8066, '좋아'), (8067, '봣으면'), (8068, '참다참다'), (8069, '장판'), (8070, '흉내내'), (8071, '타고난'), (8072, '야호'), (8073, '공공'), (8074, '러셀크로우'), (8075, '화났'), (8076, '책임감'), (8077, '궁극'), (8078, '자부'), (8079, '결심'), (8080, '덤덤'), (8081, '서구'), (8082, '갈증'), (8083, '수박'), (8084, '더운'), (8085, '유학'), (8086, '결정판'), (8087, '눈깔'), (8088, '배급'), (8089, '버무린'), (8090, '오달수'), (8091, '1995'), (8092, '고평'), (8093, '때릴'), (8094, '검프'), (8095, '녹아들'), (8096, '해서인지'), (8097, '썸머'), (8098, '1999'), (8099, '노트북'), (8100, '사고방식'), (8101, '.~'), (8102, '김민정'), (8103, '넘겼'), (8104, '달성'), (8105, '도시락'), (8106, '전직'), (8107, '슬랩스틱'), (8108, '생명력'), (8109, 'bbb'), (8110, 'www'), (8111, '사리'), (8112, '일색'), (8113, '조진웅'), (8114, '레디'), (8115, '갔다왔'), (8116, '첩혈쌍웅'), (8117, '시갈'), (8118, '점줄'), (8119, '통틀어'), (8120, '껴서'), (8121, '은혜'), (8122, '난도질'), (8123, '오즈'), (8124, '규모'), (8125, '의구심'), (8126, '팔레스타인'), (8127, '로지'), (8128, '뒀'), (8129, 'ㅇㅋ'), (8130, '재이'), (8131, '슬립'), (8132, '상기'), (8133, '밋기'), (8134, '라푼젤'), (8135, '탄식'), (8136, '광수'), (8137, '김유정'), (8138, 'mc'), (8139, '벤쳐'), (8140, '?????'), (8141, '김청기'), (8142, '저학년'), (8143, '공백'), (8144, '우디알렌'), (8145, '음성'), (8146, '간절히'), (8147, '돌아간다'), (8148, '요정'), (8149, '내게는'), (8150, '건축'), (8151, '사운드트랙'), (8152, '안구'), (8153, '뒤돌아보'), (8154, '풉'), (8155, '잔다'), (8156, '왕정'), (8157, '모자랄'), (8158, '변했'), (8159, '출품'), (8160, '날까'), (8161, '독보'), (8162, '음미'), (8163, '분단'), (8164, '발달'), (8165, '루피'), (8166, '이수정'), (8167, '김원효'), (8168, '기독교인'), (8169, '분야'), (8170, '방화'), (8171, '풀어놓'), (8172, '기관'), (8173, '차예련'), (8174, '능력자'), (8175, '베이비'), (8176, '유년'), (8177, '사태'), (8178, '윈'), (8179, '짬'), (8180, '아려'), (8181, '예체능'), (8182, '인제'), (8183, '브로스넌'), (8184, '예외'), (8185, '헤매'), (8186, '이빠이'), (8187, '귀여운데'), (8188, '68'), (8189, '작자'), (8190, '달렸'), (8191, '갈피'), (8192, '터널'), (8193, '쫓기'), (8194, '아멘'), (8195, '한단'), (8196, '구지성'), (8197, '졸림'), (8198, '류급'), (8199, '바가지'), (8200, '올리버'), (8201, '진중'), (8202, '됐었'), (8203, '꽥꽥'), (8204, '하비에르'), (8205, '홍콩식'), (8206, '내려놓'), (8207, '마당'), (8208, '생소'), (8209, '마비'), (8210, '망설이'), (8211, '박재정'), (8212, '강풀'), (8213, '아싸'), (8214, '스카이'), (8215, '건졌'), (8216, '희진'), (8217, '파고들'), (8218, '이스트'), (8219, '지겨워서'), (8220, '꺼져라'), (8221, '83'), (8222, '코리아'), (8223, '포맷'), (8224, '러쉬'), (8225, '수수'), (8226, 'OUT'), (8227, '기교'), (8228, '대체로'), (8229, '고치'), (8230, '따질'), (8231, '모래'), (8232, '멕'), (8233, '어쩌다가'), (8234, '전적'), (8235, '담임'), (8236, '심은경'), (8237, '이뭐병'), (8238, '비서'), (8239, '검색어'), (8240, '우주선'), (8241, '주름'), (8242, '시원찮'), (8243, '발매'), (8244, '노민우'), (8245, '흡혈귀'), (8246, '턱없이'), (8247, '아름다울'), (8248, '다행히'), (8249, '샵'), (8250, '시크릿'), (8251, '워커'), (8252, '케빈코스트너'), (8253, '순정만화'), (8254, '김지영'), (8255, '묻힌'), (8256, '것다'), (8257, '서툰'), (8258, '드류'), (8259, '불친절'), (8260, '맞췄'), (8261, '글로리아'), (8262, '서동요'), (8263, '어드벤처'), (8264, '표면'), (8265, '섭'), (8266, '갑시다'), (8267, '앙상블'), (8268, '스턴트맨'), (8269, '치도'), (8270, '올릴'), (8271, '최선정'), (8272, '이룰'), (8273, '바람직'), (8274, '박철수'), (8275, '사이프리드'), (8276, '컴백'), (8277, '메마른'), (8278, '선장'), (8279, '옵니다'), (8280, '관능'), (8281, '였음을'), (8282, '곽경택'), (8283, '떨어트리'), (8284, '생물'), (8285, '절규'), (8286, '레지던트'), (8287, '낭패'), (8288, '베이'), (8289, '포로'), (8290, '참된'), (8291, '샤크'), (8292, '인공'), (8293, '박하선'), (8294, '피터팬'), (8295, '출근'), (8296, '비틀'), (8297, '서늘'), (8298, '박상민'), (8299, '경주'), (8300, '요번'), (8301, '지만서도'), (8302, '안다고'), (8303, '제멋대로'), (8304, '문제작'), (8305, '쭉쭉'), (8306, '이색'), (8307, '뒤떨어지'), (8308, '연애시대'), (8309, '견뎌'), (8310, '어느덧'), (8311, '아껴'), (8312, '아픕니다'), (8313, '위상'), (8314, '내기'), (8315, '신자'), (8316, '표한다'), (8317, '고갈'), (8318, '김두한'), (8319, '이르'), (8320, '힙'), (8321, '늠'), (8322, '교'), (8323, '키는'), (8324, '상위'), (8325, '취재'), (8326, '생방'), (8327, '정해'), (8328, '과감히'), (8329, '망설임'), (8330, '걸친'), (8331, '아플'), (8332, '백진희'), (8333, '핫세'), (8334, '정려원'), (8335, '갑툭튀'), (8336, '구마'), (8337, '김인권'), (8338, '로울'), (8339, '코넬리'), (8340, '인천'), (8341, '도착'), (8342, '행오버'), (8343, '다분'), (8344, '퉷'), (8345, '갑작스런'), (8346, '정우'), (8347, '천포'), (8348, '！'), (8349, '돈다'), (8350, '디자이너'), (8351, '조미료'), (8352, '모세'), (8353, '갇혀'), (8354, '무민'), (8355, '아이큐'), (8356, '업적'), (8357, '웁'), (8358, '오마'), (8359, '성준'), (8360, '고은아'), (8361, '영회'), (8362, '깨어나'), (8363, '이끄'), (8364, '카모'), (8365, '발광'), (8366, '골라서'), (8367, '영웅주의'), (8368, '김영철'), (8369, '히히'), (8370, '쉐프'), (8371, '윤진서'), (8372, '포즈'), (8373, '한가요'), (8374, '현주소'), (8375, '개도'), (8376, '망칠'), (8377, '페인'), (8378, '공무원'), (8379, '찌꺼기'), (8380, '시스'), (8381, '사세요'), (8382, '켄'), (8383, ';;;;;;'), (8384, '아닐지'), (8385, '먼데'), (8386, 'J'), (8387, '시놉시스'), (8388, '관서'), (8389, '겸'), (8390, '기미'), (8391, '다치'), (8392, '우왕좌왕'), (8393, 'You'), (8394, '못생김'), (8395, '개밥'), (8396, '연개'), (8397, '다른가'), (8398, '공영'), (8399, '초짜'), (8400, '보성'), (8401, '털리'), (8402, 'km'), (8403, '쑤'), (8404, '시린'), (8405, '다이애나'), (8406, '메르스'), (8407, '머저리'), (8408, '찰'), (8409, '교도소'), (8410, '보도'), (8411, '위력'), (8412, 'ㅜㅡ'), (8413, '리스'), (8414, '빨리빨리'), (8415, '가슴속'), (8416, '조미'), (8417, '스러'), (8418, '김혜선'), (8419, '미로'), (8420, '1996'), (8421, '~~♥'), (8422, '아이스'), (8423, '다투'), (8424, '애니스톤'), (8425, '헤드'), (8426, '끌어가'), (8427, '사색'), (8428, '원주민'), (8429, '대강'), (8430, '상술'), (8431, '찰지'), (8432, '작품상'), (8433, '만한'), (8434, '부진'), (8435, '마구잡이'), (8436, '거라'), (8437, '베트'), (8438, '브리짓'), (8439, '아부'), (8440, '지미'), (8441, '노이'), (8442, '정조'), (8443, '중복'), (8444, '단독'), (8445, '통화'), (8446, '웃길려고'), (8447, '연예계'), (8448, '다스'), (8449, '알콜'), (8450, '.................'), (8451, '빌딩'), (8452, '편도'), (8453, '요런'), (8454, '미키루크'), (8455, '공산당'), (8456, '뿌듯'), (8457, 'NO'), (8458, '파커'), (8459, '파헤치'), (8460, '패트'), (8461, '트릭'), (8462, '용어'), (8463, '만든지'), (8464, '다죠'), (8465, '두사부일체'), (8466, '시인'), (8467, '허슬'), (8468, '』'), (8469, '올렸'), (8470, '55'), (8471, '후딱'), (8472, '소신'), (8473, '얹'), (8474, '버러지'), (8475, '들어서'), (8476, '화가'), (8477, '김효진'), (8478, '가격'), (8479, '직시'), (8480, '쏟아져'), (8481, '돌아올'), (8482, '궈'), (8483, '거절'), (8484, '담겨져'), (8485, '산드라블록'), (8486, '감탄사'), (8487, '느그'), (8488, '전용'), (8489, '퇴화'), (8490, '돌아볼'), (8491, '정윤희'), (8492, '돌파'), (8493, '씁시다'), (8494, '별것'), (8495, '떠드'), (8496, '개선'), (8497, '찌푸려'), (8498, '...................'), (8499, '엄지원'), (8500, '드럼'), (8501, '폭행'), (8502, '거린'), (8503, '제주도'), (8504, '어이없이'), (8505, '덩달'), (8506, '마감'), (8507, '레슬링'), (8508, '도쿄'), (8509, '본연'), (8510, '뇨'), (8511, '아선'), (8512, '강정'), (8513, '기립'), (8514, '스며드'), (8515, '꼇다'), (8516, '방가'), (8517, '징기스칸'), (8518, '그리울'), (8519, '왜냐하면'), (8520, '욘'), (8521, '슬레이터'), (8522, '맹탕'), (8523, '엑스'), (8524, '지점'), (8525, '랄프'), (8526, '나간다'), (8527, '정준하'), (8528, '주류'), (8529, '영향력'), (8530, '음울'), (8531, '겉도'), (8532, '돌아와'), (8533, '매너'), (8534, '슬픕니다'), (8535, '관광'), (8536, '취업'), (8537, '빠이'), (8538, '질색'), (8539, '~♡'), (8540, '역설'), (8541, '꼽힐'), (8542, '흐미'), (8543, '토렌트'), (8544, '조타'), (8545, '홀딱'), (8546, '은정'), (8547, '여균동'), (8548, '무분별'), (8549, '겸손'), (8550, '안겨준'), (8551, '태민'), (8552, '홍길동'), (8553, '알렌'), (8554, '볼께'), (8555, '욕한'), (8556, 'CSI'), (8557, '눈길'), (8558, '67'), (8559, '개무'), (8560, '막혀'), (8561, '히트맨'), (8562, '돌려주'), (8563, '감자'), (8564, '잭블랙'), (8565, '태극'), (8566, '풀어낼'), (8567, '소림축구'), (8568, '찾아봐도'), (8569, '사라질'), (8570, '험'), (8571, '벅차'), (8572, '자화상'), (8573, '황진미'), (8574, '웨폰'), (8575, '몰두'), (8576, 'r'), (8577, '얼렁뚱땅'), (8578, '군사'), (8579, '소동'), (8580, '거북이'), (8581, '웹'), (8582, '도신'), (8583, '욥'), (8584, '유료'), (8585, '양자경'), (8586, '횽'), (8587, '세뇌'), (8588, '아찔'), (8589, '게이트'), (8590, '그러면'), (8591, '한꺼번에'), (8592, '킨'), (8593, '질러'), (8594, '고든'), (8595, '브이'), (8596, '궁굼'), (8597, '은지원'), (8598, '비율'), (8599, '매장'), (8600, '이현우'), (8601, '발끝'), (8602, '주몽'), (8603, '과욕'), (8604, '메릴스트립'), (8605, '지킬'), (8606, '토리'), (8607, '천정명'), (8608, '불사신'), (8609, '딕'), (8610, '토대'), (8611, '스러우'), (8612, '볼게요'), (8613, '허영심'), (8614, '접속'), (8615, '슥'), (8616, '군국주의'), (8617, '엘리'), (8618, '감미'), (8619, '와요'), (8620, '자동'), (8621, '자평'), (8622, '전병'), (8623, '저따위'), (8624, '히든'), (8625, '살아간다'), (8626, '여장'), (8627, '로라'), (8628, '나니아'), (8629, '남배우'), (8630, '씌'), (8631, '콱'), (8632, '알모도바르'), (8633, '더러워서'), (8634, '구토'), (8635, '냉철'), (8636, '성실'), (8637, '애국'), (8638, '김사랑'), (8639, '망정'), (8640, '테니스'), (8641, '망각'), (8642, '목욕'), (8643, '수호'), (8644, '그만두'), (8645, '급작'), (8646, '장난아'), (8647, '전라'), (8648, '에로티시즘'), (8649, '쌓인'), (8650, '들어온다'), (8651, '들어와서'), (8652, '시답잖'), (8653, '>.'), (8654, '경이롭'), (8655, '려던'), (8656, '양쪽'), (8657, '죽여야'), (8658, '제압'), (8659, '도현'), (8660, '폄하'), (8661, '찌질이'), (8662, '3500'), (8663, '한걸'), (8664, '꺅'), (8665, '만족감'), (8666, '폐해'), (8667, 'Very'), (8668, '위해선'), (8669, '애미'), (8670, '세기말'), (8671, '원수'), (8672, '맞춤'), (8673, '때린다'), (8674, '오경'), (8675, '인크레더블'), (8676, '예상외'), (8677, '토시오'), (8678, '에어'), (8679, '청각'), (8680, '제길'), (8681, '구현'), (8682, '08'), (8683, '긴지'), (8684, '봐두'), (8685, '아야세'), (8686, '코치'), (8687, '으니라고'), (8688, '요샌'), (8689, '흰'), (8690, '얽힌'), (8691, '서유리'), (8692, '이주승'), (8693, '괸'), (8694, '로군'), (8695, '즐거워'), (8696, '이라니'), (8697, '대안'), (8698, '모모'), (8699, '맴돌'), (8700, '날아다니'), (8701, '이요'), (8702, '세나'), (8703, '초창기'), (8704, '이럴까'), (8705, '원판'), (8706, '우월'), (8707, '득'), (8708, '아티스트'), (8709, '쯧쯧쯧'), (8710, '여섯'), (8711, '덕화'), (8712, '늑대인간'), (8713, '특촬물'), (8714, '노홍철'), (8715, '잰'), (8716, '라다'), (8717, '미셸'), (8718, '어지간히'), (8719, '~~~!!'), (8720, '에디'), (8721, '신작'), (8722, '무사'), (8723, '한껏'), (8724, '~~~^^'), (8725, '줬었'), (8726, '소주'), (8727, '박시연'), (8728, '견'), (8729, '더러워지'), (8730, '찡해'), (8731, '피우'), (8732, '끈기'), (8733, '휘날리'), (8734, '회의'), (8735, '각오'), (8736, '질러대'), (8737, '비겁'), (8738, '애새끼'), (8739, '제주'), (8740, '매염방'), (8741, '로미오'), (8742, '니콜슨'), (8743, '이순재'), (8744, '괜한'), (8745, '화딱지'), (8746, '춤출'), (8747, '떠났'), (8748, '간혹'), (8749, '대서'), (8750, '하난'), (8751, '마징가'), (8752, '선라이즈'), (8753, '스트리트'), (8754, '조사'), (8755, '피라미드'), (8756, '한회'), (8757, '시달리'), (8758, '추하'), (8759, '터무니없'), (8760, '공사'), (8761, '클루니'), (8762, '보복'), (8763, '힘겹'), (8764, '저랬'), (8765, '철철'), (8766, 'time'), (8767, '바꿨'), (8768, '엽'), (8769, '반말'), (8770, '무서'), (8771, '도달'), (8772, '친일'), (8773, '슈트'), (8774, '난다고'), (8775, '올슨'), (8776, '캠코더'), (8777, '쬐금'), (8778, '비꼬'), (8779, '로워'), (8780, '던진'), (8781, 'VOD'), (8782, '햄버거'), (8783, '구름'), (8784, '굴욕'), (8785, '홉킨스'), (8786, '빼먹'), (8787, '-)'), (8788, '오징어'), (8789, '열매'), (8790, '옵'), (8791, '닐'), (8792, '십쇼'), (8793, '상속자'), (8794, '볼라'), (8795, '조셉'), (8796, '논할'), (8797, '항'), (8798, '깼'), (8799, '질림'), (8800, '애슐리'), (8801, '가스'), (8802, '호수'), (8803, '사무엘'), (8804, '베티'), (8805, '리딕'), (8806, '환생'), (8807, '무진장'), (8808, '추격자'), (8809, '망한다는'), (8810, '원장'), (8811, '반짝'), (8812, '시급'), (8813, '청법'), (8814, '모자람'), (8815, '각본가'), (8816, '불량'), (8817, '일지라도'), (8818, '시공간'), (8819, '다름없'), (8820, '트렁크'), (8821, '줄여'), (8822, '미침'), (8823, '더냐'), (8824, '컨텐츠'), (8825, '맥아담스'), (8826, '이국'), (8827, '거니'), (8828, '생각납니다'), (8829, '메기'), (8830, '올림'), (8831, '31'), (8832, '입담'), (8833, '부들부들'), (8834, '레니'), (8835, '창고'), (8836, '늑대소년'), (8837, '앍'), (8838, '과소평가'), (8839, '리틀'), (8840, '성별'), (8841, '수목'), (8842, '들이대'), (8843, '깨우치'), (8844, '편파'), (8845, '바야'), (8846, '악녀'), (8847, '찌푸리'), (8848, '부유'), (8849, '동거'), (8850, '감춰진'), (8851, '체자'), (8852, '성과'), (8853, '레인'), (8854, '의자'), (8855, '--;;'), (8856, '김재원'), (8857, '동떨어진'), (8858, '유기'), (8859, '헤어진'), (8860, '격정'), (8861, '날씨'), (8862, '연말'), (8863, '라던지'), (8864, '막힐'), (8865, '참담'), (8866, '신음'), (8867, '은주'), (8868, '사투'), (8869, '블록'), (8870, '제트'), (8871, 'This'), (8872, '쿵후'), (8873, '메릴'), (8874, '준다면'), (8875, '마르'), (8876, '보입니다'), (8877, '하하하하하'), (8878, '봐선'), (8879, '더블'), (8880, '내포'), (8881, '헛점'), (8882, '향하'), (8883, '해답'), (8884, '낄낄'), (8885, '예기'), (8886, '활극'), (8887, '질린'), (8888, '남다른'), (8889, '기다려집니다'), (8890, '울트라'), (8891, '손해'), (8892, '숫'), (8893, '젝'), (8894, '익살'), (8895, '감금'), (8896, 'g'), (8897, '안나'), (8898, '저그'), (8899, '빨라서'), (8900, '때려잡'), (8901, '프리먼'), (8902, '웟음'), (8903, '꼭두각시'), (8904, '가져가'), (8905, '푸하하하'), (8906, '그럴싸한'), (8907, '비정'), (8908, '대적'), (8909, '살아오'), (8910, '왼쪽'), (8911, '유태인'), (8912, '만끽'), (8913, '불협화음'), (8914, '수니'), (8915, '계몽'), (8916, '심혜진'), (8917, '본전'), (8918, '강자'), (8919, '정상인'), (8920, '해군'), (8921, '호호'), (8922, '지나갔'), (8923, '들어온'), (8924, '설교'), (8925, '허황'), (8926, '잘라서'), (8927, '세자'), (8928, '탁재훈'), (8929, '괴짜'), (8930, '값진'), (8931, '현기증'), (8932, '밀리'), (8933, '베이더'), (8934, '뮬란'), (8935, '신사'), (8936, '순결'), (8937, '실물'), (8938, '근디'), (8939, '랜턴'), (8940, '^^♥'), (8941, '넉'), (8942, '어다'), (8943, '랙'), (8944, '앨런'), (8945, '찔끔'), (8946, '용의자'), (8947, '애국가'), (8948, '댕기'), (8949, '실질'), (8950, '최상급'), (8951, '아이폰'), (8952, '종료'), (8953, '마는'), (8954, '~~~!!!'), (8955, '주유소'), (8956, '탐구'), (8957, '중계'), (8958, '수치심'), (8959, '채웠'), (8960, '지식인'), (8961, '『'), (8962, '스피릿'), (8963, '어긋나'), (8964, '나온다면'), (8965, '정겨운'), (8966, '이유리'), (8967, '단조로운'), (8968, '으리라'), (8969, '현저히'), (8970, '이편'), (8971, '조쉬하트넷'), (8972, '군상'), (8973, '구닥다리'), (8974, '리들리스콧'), (8975, '아부지'), (8976, '숨바꼭질'), (8977, '81'), (8978, '미확인'), (8979, '고쳐'), (8980, '새로웠'), (8981, '때려치'), (8982, '냐구'), (8983, '민세연'), (8984, '제자리'), (8985, '트렌드'), (8986, '이종혁'), (8987, '김범'), (8988, '동시대'), (8989, '당근'), (8990, '모차르트'), (8991, '남이'), (8992, '..♥'), (8993, '멕라이언'), (8994, '드려야'), (8995, '상담'), (8996, '반대편'), (8997, '다라마'), (8998, '조상'), (8999, '바뀜'), (9000, '중단'), (9001, '저스틴'), (9002, '리차드'), (9003, '76'), (9004, '밨는데'), (9005, '그럴듯'), (9006, '수없이'), (9007, '캠'), (9008, '사마'), (9009, '이수경'), (9010, '편의점'), (9011, '빈다'), (9012, '조디'), (9013, '넘나드'), (9014, '후퇴'), (9015, '얌'), (9016, '터트리'), (9017, '됩니까'), (9018, '예스'), (9019, '단연코'), (9020, '캔'), (9021, '린즈링'), (9022, '덩'), (9023, '어눌'), (9024, '당기'), (9025, '미워할'), (9026, '박은혜'), (9027, '벅스'), (9028, '유효'), (9029, '줍시다'), (9030, '실현'), (9031, '어후'), (9032, '장난질'), (9033, '치가'), (9034, '왕가'), (9035, '전무'), (9036, '유감'), (9037, '그리워지'), (9038, '딜레마'), (9039, '최다니엘'), (9040, '판도'), (9041, '자의식'), (9042, '버틀러'), (9043, '포토'), (9044, '맥그리거'), (9045, '아우라'), (9046, '지어다'), (9047, '퉁'), (9048, '오케이'), (9049, '프랑스인'), (9050, '시련'), (9051, '끗'), (9052, '이영애'), (9053, '앨범'), (9054, '셔도'), (9055, '후진국'), (9056, '나부랭이'), (9057, '뷰티'), (9058, '캐리비안'), (9059, '수잔'), (9060, '망한다'), (9061, '펀'), (9062, '더한'), (9063, '하곤'), (9064, '결정체'), (9065, '알린'), (9066, '만능'), (9067, '버프'), (9068, '에어컨'), (9069, '심도'), (9070, '의혹'), (9071, '전도'), (9072, '지효'), (9073, '힐러리'), (9074, '뺏기'), (9075, '무렵'), (9076, '해져요'), (9077, '홍성진'), (9078, '미디어'), (9079, '음침'), (9080, '넘어갈'), (9081, '아쉬워서'), (9082, '여하튼'), (9083, '채시라'), (9084, '논스톱'), (9085, '박지성'), (9086, '감도'), (9087, '다이아몬드'), (9088, '온주완'), (9089, '에이미'), (9090, '피로'), (9091, '폭스'), (9092, '예지원'), (9093, '달라졌'), (9094, '인간미'), (9095, '겁내'), (9096, '잡힌'), (9097, '캐미'), (9098, '개방'), (9099, '반열'), (9100, '해골'), (9101, '소라'), (9102, '하치'), (9103, '백야'), (9104, '백설'), (9105, '도자기'), (9106, '전역'), (9107, '무덤덤'), (9108, '적시'), (9109, '대조'), (9110, '피아니스트'), (9111, '암만'), (9112, '순박'), (9113, '느낍니다'), (9114, '도끼'), (9115, '소모'), (9116, '커다란'), (9117, '렛'), (9118, '뎌'), (9119, '끝없이'), (9120, '주도'), (9121, '볼려면'), (9122, '순전히'), (9123, '끊임없'), (9124, '친숙'), (9125, '갓파더'), (9126, '떨림'), (9127, '마린'), (9128, '메디컬'), (9129, '브라보'), (9130, '이청아'), (9131, '노노'), (9132, '기황후'), (9133, '엿같'), (9134, '테드'), (9135, '재대로'), (9136, '찾아본'), (9137, '동반'), (9138, '스킬'), (9139, '욕정'), (9140, '첫째'), (9141, '확률'), (9142, '송일국'), (9143, '짚'), (9144, '열혈'), (9145, '남겨요'), (9146, '건네'), (9147, '교제'), (9148, '반장'), (9149, '땔'), (9150, '1500'), (9151, '잴'), (9152, '투캅스'), (9153, '불사조'), (9154, '바르뎀'), (9155, '집시'), (9156, '찬성'), (9157, '쉰'), (9158, '이프로'), (9159, '머물'), (9160, '위장'), (9161, '신물'), (9162, '인주'), (9163, '승승장구'), (9164, '58'), (9165, '할땐'), (9166, '예쁜데'), (9167, '만드세요'), (9168, '신성'), (9169, '올린다'), (9170, '겐'), (9171, '하희라'), (9172, '특급'), (9173, '이긴'), (9174, '스쳐'), (9175, '거저'), (9176, '판타'), (9177, '나눈'), (9178, '배달'), (9179, '최우식'), (9180, '기네스'), (9181, '명목'), (9182, '바이'), (9183, '친한'), (9184, '횟수'), (9185, '드러워'), (9186, '천장지구'), (9187, '김신'), (9188, '추종'), (9189, '자네'), (9190, '낙원'), (9191, '엇갈리'), (9192, '돼야'), (9193, '한지훈'), (9194, '사지'), (9195, '퍼레이드'), (9196, '정규'), (9197, '아마존'), (9198, '오케스트라'), (9199, '충이'), (9200, '선조'), (9201, '셜'), (9202, '양익준'), (9203, '분발'), (9204, '제약'), (9205, '다짜고짜'), (9206, '빨려'), (9207, '팝송'), (9208, '안다면'), (9209, '리처드'), (9210, '홍수'), (9211, '소식'), (9212, '도입'), (9213, '귀환'), (9214, '이라크'), (9215, '미끼'), (9216, '아무거'), (9217, 'xx'), (9218, '사후'), (9219, '.???'), (9220, '김동욱'), (9221, '김상경'), (9222, '뽕짝'), (9223, '66'), (9224, '걸려서'), (9225, '금고'), (9226, '석양'), (9227, '사탕'), (9228, '경비'), (9229, '상대방'), (9230, '無'), (9231, '랍'), (9232, '민아'), (9233, '미사'), (9234, '허공'), (9235, '주룩주룩'), (9236, '정기'), (9237, '셀'), (9238, '남주의'), (9239, '기질'), (9240, '러니'), (9241, '점프'), (9242, '축제'), (9243, '잡지'), (9244, '노랑머리'), (9245, '망가'), (9246, '엣'), (9247, '아앙'), (9248, '대성'), (9249, '띄워'), (9250, '되새기'), (9251, '무공'), (9252, '래쉬'), (9253, '연제욱'), (9254, '다코타패닝'), (9255, '눈썹'), (9256, '퇴'), (9257, '파란'), (9258, '신중'), (9259, '다잉'), (9260, '부당'), (9261, '드셨'), (9262, '댕'), (9263, '함량'), (9264, '눈동자'), (9265, '리플리'), (9266, '며느리'), (9267, '마나'), (9268, '빚어낸'), (9269, '번호'), (9270, '황당무계'), (9271, '김새론'), (9272, 'one'), (9273, '맥빠지'), (9274, '모으'), (9275, '나타났'), (9276, '평면'), (9277, '비해선'), (9278, '지나갈'), (9279, '굴곡'), (9280, '.-'), (9281, '김일성'), (9282, '식사'), (9283, '따라오'), (9284, '화법'), (9285, '세라'), (9286, '신체'), (9287, '가려'), (9288, '오리엔탈리즘'), (9289, ',,'), (9290, '행성'), (9291, '리턴즈'), (9292, '당혹'), (9293, '오스카'), (9294, '변함'), (9295, '망친다'), (9296, '적도'), (9297, '고대로'), (9298, '세주'), (9299, '박한'), (9300, '세염'), (9301, '민비'), (9302, '카메론디아즈'), (9303, '코스모스'), (9304, '무상'), (9305, '온데'), (9306, '간데'), (9307, '입증'), (9308, '연출가'), (9309, '개취'), (9310, '힘찬'), (9311, '간다고'), (9312, '놀리'), (9313, '혼신'), (9314, '말다'), (9315, '감방'), (9316, '대명사'), (9317, '발단'), (9318, '이사'), (9319, '쌓이'), (9320, '곽'), (9321, '방치'), (9322, '유부남'), (9323, '갑옷'), (9324, '돌이'), (9325, '탈북자'), (9326, '피눈물'), (9327, '냔'), (9328, '가벼움'), (9329, '터무니없이'), (9330, '그레'), (9331, '뼈저리'), (9332, '계약'), (9333, '더글라스'), (9334, '없음'), (9335, '잠재'), (9336, '베송'), (9337, '노년'), (9338, '끝났어야'), (9339, '인육'), (9340, '이루어질'), (9341, '기획사'), (9342, '핏줄'), (9343, '맞출'), (9344, '청소년기'), (9345, '지방'), (9346, '라마'), (9347, '토로'), (9348, '트리오'), (9349, '롤러코스터'), (9350, '임상수'), (9351, '행세'), (9352, '신성일'), (9353, '무법자'), (9354, '겁난다'), (9355, '부려'), (9356, '다냐'), (9357, '크레이지'), (9358, '메가폰'), (9359, '크림슨'), (9360, '불평'), (9361, '동전'), (9362, '주의보'), (9363, '줄리안'), (9364, '청불'), (9365, '즐겼'), (9366, '연정훈'), (9367, '독자'), (9368, '이재은'), (9369, '기르'), (9370, '하악'), (9371, '또래'), (9372, '팬더'), (9373, '쯔쯔'), (9374, '문성근'), (9375, '1992'), (9376, '동남아'), (9377, '키운'), (9378, '이어질'), (9379, '립니'), (9380, '가출'), (9381, '보인'), (9382, '그간'), (9383, '닉쿤'), (9384, '토마토'), (9385, '못된'), (9386, '노래방'), (9387, '램버트'), (9388, '이벤트'), (9389, '후손'), (9390, '다이스'), (9391, '내전'), (9392, '아아아아'), (9393, '티아라'), (9394, '얄밉'), (9395, '정자'), (9396, '환호'), (9397, '로빈윌리엄스'), (9398, '헝거'), (9399, '돌연변이'), (9400, '중경삼림'), (9401, '다가온'), (9402, '기뻤'), (9403, '박지윤'), (9404, '쾌락'), (9405, '조형기'), (9406, '치즈'), (9407, '코피'), (9408, '으뜸'), (9409, '오버랩'), (9410, '너머'), (9411, '색즉시공'), (9412, '헷'), (9413, '재산'), (9414, '이어졌'), (9415, '떳떳'), (9416, '흠흠'), (9417, '떠올라서'), (9418, '티격태격'), (9419, '찍히'), (9420, '아랑'), (9421, '배용준'), (9422, '중립'), (9423, '쬐끔'), (9424, '마르소'), (9425, '겅'), (9426, '중사'), (9427, '게시판'), (9428, '신문'), (9429, '죄인'), (9430, '근친상간'), (9431, '무자비'), (9432, '맘마'), (9433, '후세'), (9434, '화남'), (9435, '뿅'), (9436, '동서양'), (9437, '반공'), (9438, '매니저'), (9439, '려구'), (9440, '패자'), (9441, '서글픈'), (9442, '퇴색'), (9443, '명치'), (9444, '예민'), (9445, '유대인'), (9446, '관해'), (9447, '정정'), (9448, '얼간'), (9449, '나감'), (9450, '콜린파렐'), (9451, '퍼스'), (9452, '상류층'), (9453, '챔프'), (9454, '할려'), (9455, '휴일'), (9456, '영화채널'), (9457, '증인'), (9458, '성취'), (9459, '차안'), (9460, '나와야지'), (9461, '달기'), (9462, '돌려도'), (9463, '에이즈'), (9464, '싸워'), (9465, '못한다면'), (9466, '지겨웠'), (9467, '민감'), (9468, '맘껏'), (9469, '합쳐서'), (9470, '망해라'), (9471, '그레이'), (9472, '해봄'), (9473, '풍선'), (9474, '움직인다'), (9475, '미술관'), (9476, '복고'), (9477, '엄연히'), (9478, '손자'), (9479, '별명'), (9480, '애국자'), (9481, '멋진데'), (9482, '온라인'), (9483, '졌어요'), (9484, '제니'), (9485, '아낌없'), (9486, '아자니'), (9487, '전쟁터'), (9488, '제프'), (9489, '사만다'), (9490, '근처'), (9491, '통할'), (9492, '그릴'), (9493, 'KTX'), (9494, '컴플렉스'), (9495, '불태우'), (9496, '똥파리'), (9497, '화난'), (9498, '유전'), (9499, '자나'), (9500, '좋아함'), (9501, '읭'), (9502, '샘레이미'), (9503, '해명'), (9504, '구사'), (9505, '잠기'), (9506, '의료'), (9507, 'cctv'), (9508, 'life'), (9509, '故'), (9510, '이영활'), (9511, '외우'), (9512, '과유불급'), (9513, '배신자'), (9514, 'do'), (9515, '명확히'), (9516, '희생양'), (9517, '따먹'), (9518, '물어내'), (9519, '레슬리'), (9520, '개입'), (9521, '死'), (9522, '자무시'), (9523, '몰상식'), (9524, '빨랑'), (9525, 'great'), (9526, '.♥'), (9527, '스토'), (9528, '아슬아슬'), (9529, '한테서'), (9530, '사형수'), (9531, '스마트'), (9532, '벤에플렉'), (9533, '와일드'), (9534, '은희수'), (9535, '할거'), (9536, '강함'), (9537, '박준형'), (9538, '나뉘'), (9539, '급박'), (9540, '도그'), (9541, '급조'), (9542, '하락세'), (9543, '대원'), (9544, '시시껄렁'), (9545, '다움'), (9546, '워낭'), (9547, '스타크래프트'), (9548, '****)'), (9549, '이준익'), (9550, '설렜'), (9551, '멘토'), (9552, '이장우'), (9553, '이끈'), (9554, '모리꼬네'), (9555, '우울해'), (9556, '문장'), (9557, '로얄'), (9558, '계절'), (9559, '짜깁'), (9560, '소이다'), (9561, '구두'), (9562, '노르웨이'), (9563, '동해'), (9564, '현혹'), (9565, '센터'), (9566, '티브이'), (9567, '가량'), (9568, '아비'), (9569, '여잔데'), (9570, '넴'), (9571, '팔마'), (9572, '할라'), (9573, '숨소리'), (9574, '스탠리'), (9575, '그따위'), (9576, '원생'), (9577, '떠나보내'), (9578, '요보비치'), (9579, '트루먼'), (9580, '드라큘라'), (9581, '변할'), (9582, '베스트셀러'), (9583, '이래도'), (9584, '시끄러워'), (9585, '스턴트'), (9586, '커트'), (9587, '주군'), (9588, '실태'), (9589, 'bad'), (9590, '어설펐'), (9591, '련지'), (9592, '사생활'), (9593, '관통'), (9594, '나문희'), (9595, '왕창'), (9596, '알아들'), (9597, 'with'), (9598, '블리'), (9599, '본느'), (9600, '터리'), (9601, '떵'), (9602, '을려나'), (9603, '로또'), (9604, '처녀'), (9605, '휴우'), (9606, '우연찮'), (9607, 'BEST'), (9608, '솔까말'), (9609, '물든'), (9610, '몰아가'), (9611, '예언'), (9612, '한눈'), (9613, '으려면'), (9614, '이즈'), (9615, '노동'), (9616, '줄라고'), (9617, '틀렸'), (9618, '처분'), (9619, '어긋난'), (9620, '위태'), (9621, '일침'), (9622, '소이현'), (9623, '겉돌'), (9624, '짤린'), (9625, '메이퀸'), (9626, '주입'), (9627, '철수'), (9628, '사살'), (9629, '택'), (9630, '나사'), (9631, '박차'), (9632, '선언'), (9633, '투영'), (9634, '관상'), (9635, '하드코어'), (9636, '규칙'), (9637, '잊혀질'), (9638, '들어야'), (9639, '빛난다'), (9640, '마음껏'), (9641, '밥상'), (9642, '조율'), (9643, '제기'), (9644, '라기에'), (9645, '저하'), (9646, '수염'), (9647, 'So'), (9648, '끝냈으면'), (9649, '홀리'), (9650, '삭막'), (9651, '례'), (9652, '배출'), (9653, '다중'), (9654, '그해'), (9655, '에유'), (9656, '인용'), (9657, '껌'), (9658, '룬드그렌'), (9659, '나쁨'), (9660, '남궁민'), (9661, '게라도'), (9662, '레이놀즈'), (9663, '동굴'), (9664, '드레스'), (9665, '식민지'), (9666, '오지랖'), (9667, '지수'), (9668, '수출'), (9669, '그려지'), (9670, '그물'), (9671, '광신도'), (9672, '콜라'), (9673, '꾸며'), (9674, '몰랐었'), (9675, '안보'), (9676, '인게'), (9677, '무스'), (9678, '수식'), (9679, '선하'), (9680, '으랴'), (9681, '색채감'), (9682, '갈구'), (9683, '까대'), (9684, '풍성'), (9685, '횡포'), (9686, '무거울'), (9687, '콘택트'), (9688, '왕년'), (9689, '이창동'), (9690, '시미'), (9691, '막힌다'), (9692, '가이'), (9693, '임다'), (9694, '이치'), (9695, '디질'), (9696, '랜드'), (9697, '분열증'), (9698, '볼지'), (9699, '매즈'), (9700, '마리오'), (9701, '박선영'), (9702, '비범'), (9703, '로리타'), (9704, '소고기'), (9705, '헤어짐'), (9706, 'ok'), (9707, '희미'), (9708, '태풍'), (9709, '련다'), (9710, '들마'), (9711, '버틸'), (9712, '갯'), (9713, '혁'), (9714, '경직'), (9715, 'imdb'), (9716, '퇴물'), (9717, '부조'), (9718, '사라짐'), (9719, '바지'), (9720, '끌려서'), (9721, '곤충'), (9722, '낙태'), (9723, '아이콘'), (9724, '론가'), (9725, '냉장고'), (9726, '숙면'), (9727, '가져다준'), (9728, '..-'), (9729, '``'), (9730, '거렸'), (9731, '비견'), (9732, '이광수'), (9733, '눌'), (9734, '불릴'), (9735, '개차반'), (9736, '전율'), (9737, '휴잇'), (9738, '앤더슨'), (9739, '허접쓰레기'), (9740, '이뤄'), (9741, '더군다나'), (9742, '맥클레인'), (9743, '젓'), (9744, '...!'), (9745, '벼'), (9746, '사실감'), (9747, '거침없'), (9748, '고사'), (9749, '그레이스'), (9750, '성당'), (9751, '바티칸'), (9752, '동작'), (9753, 'ㅠㅠ진짜'), (9754, '혼돈'), (9755, '에단호크'), (9756, '봐온'), (9757, '...;;;'), (9758, '진지희'), (9759, '가정부'), (9760, '이태리'), (9761, '미치광이'), (9762, '지로'), (9763, '갔다온'), (9764, '심리전'), (9765, '발표'), (9766, '상호'), (9767, '다아'), (9768, '츠마부키'), (9769, '부질없'), (9770, '매진'), (9771, '안면'), (9772, '흥하'), (9773, '!~~'), (9774, '래서'), (9775, '혁신'), (9776, '할껄'), (9777, '트럭'), (9778, '나눠서'), (9779, '치장'), (9780, '이덕화'), (9781, '다웠'), (9782, '주르륵'), (9783, '강해'), (9784, '대런'), (9785, '사단'), (9786, '피터잭슨'), (9787, '막혀서'), (9788, '공드리'), (9789, '서편제'), (9790, '91'), (9791, '콜린스'), (9792, '한다면서'), (9793, 'know'), (9794, '맴돈'), (9795, '취소'), (9796, '편한'), (9797, '디게'), (9798, '따라다니'), (9799, '피자'), (9800, '톡'), (9801, '을라고'), (9802, '약해서'), (9803, '56'), (9804, '스타쉽'), (9805, '립'), (9806, '비치'), (9807, '바람난'), (9808, '왔음'), (9809, '>_'), (9810, '처한'), (9811, '렵니다'), (9812, '세워'), (9813, '괜춘'), (9814, '신디'), (9815, '들으면서'), (9816, '점령'), (9817, '연작'), (9818, '경음'), (9819, '이세상'), (9820, '보드'), (9821, '박철민'), (9822, '자장가'), (9823, '공권력'), (9824, ';;;;;;;'), (9825, '였으며'), (9826, '시저'), (9827, '올드만'), (9828, '속물'), (9829, '웨스'), (9830, '통통'), (9831, '똘똘'), (9832, '술집'), (9833, '꿀리'), (9834, '농장'), (9835, '팽'), (9836, '은대'), (9837, '갑작스럽'), (9838, 'ㅑ'), (9839, '이해도'), (9840, 'world'), (9841, '태권도'), (9842, '신났'), (9843, '57'), (9844, '까이'), (9845, '물리치'), (9846, '초특급'), (9847, '조로리'), (9848, '외침'), (9849, '정해진'), (9850, '열중'), (9851, '적용'), (9852, '좌충우돌'), (9853, '어짜피'), (9854, '훤히'), (9855, '데미'), (9856, '당한다'), (9857, '장이'), (9858, '웟다'), (9859, '트립'), (9860, '쿄코'), (9861, '소울'), (9862, '글씨'), (9863, '데로'), (9864, '정체불명'), (9865, '미어지'), (9866, '용인'), (9867, '만일'), (9868, '어선'), (9869, '지체'), (9870, '커리어'), (9871, 'TOP'), (9872, 'IMDB'), (9873, '플래툰'), (9874, '발버둥'), (9875, '흐릿'), (9876, '넘어갔'), (9877, '냉전'), (9878, '고흐'), (9879, '속상하'), (9880, '첫날'), (9881, '퇴마'), (9882, '여요'), (9883, '체가'), (9884, '정색'), (9885, '막연'), (9886, '41'), (9887, '날로'), (9888, '여타'), (9889, '흐흐'), (9890, '마츠코'), (9891, '짜린'), (9892, '부감'), (9893, '오래도록'), (9894, '야이'), (9895, '끔직'), (9896, '프레임'), (9897, '창의력'), (9898, '설원'), (9899, '칭하'), (9900, '가려진'), (9901, '꿀꿀'), (9902, '학도'), (9903, '국정원'), (9904, '스틸러'), (9905, '180'), (9906, '콩콩'), (9907, '내고'), (9908, '소나기'), (9909, '드러낸'), (9910, 'cm'), (9911, '이래저래'), (9912, '인질극'), (9913, '평행'), (9914, '줄라'), (9915, '라구요'), (9916, '아파하'), (9917, '헌데'), (9918, '단절'), (9919, '질까'), (9920, '주다'), (9921, '실버'), (9922, '런던'), (9923, '설레였'), (9924, '된다니'), (9925, '^^^'), (9926, '차량'), (9927, '미혼모'), (9928, '비긴즈'), (9929, '휴식'), (9930, '야망'), (9931, '께요'), (9932, '육성'), (9933, '모임'), (9934, '라고요'), (9935, '가혹'), (9936, '실베스타'), (9937, '마우스'), (9938, '리치'), (9939, '일수록'), (9940, '오호'), (9941, '이다해'), (9942, '구타'), (9943, '블레어'), (9944, '110'), (9945, '미라'), (9946, '미쳐서'), (9947, '수레'), (9948, '덥'), (9949, '랭보'), (9950, '토나'), (9951, '메카'), (9952, '베이커'), (9953, '부제'), (9954, '할린'), (9955, '누적'), (9956, '사위'), (9957, '♡♡♡♡'), (9958, '준영'), (9959, '조음'), (9960, '86'), (9961, '모이'), (9962, '복수초'), (9963, '물음표'), (9964, '판정'), (9965, 'out'), (9966, '따라갈'), (9967, '뻥튀기'), (9968, '이영환'), (9969, '골고루'), (9970, '피닉스'), (9971, '패배'), (9972, '첨가'), (9973, '꼬인'), (9974, '정겹'), (9975, '_-'), (9976, '못난'), (9977, '...^^'), (9978, '쭈쭈'), (9979, '드러난다'), (9980, '블로그'), (9981, '냉무'), (9982, '내년'), (9983, '합친'), (9984, '적벽'), (9985, '여잔'), (9986, '수퍼맨'), (9987, '위인'), (9988, '까놓'), (9989, '다뤘'), (9990, '줄리'), (9991, '해체'), (9992, '밀어주'), (9993, '늘어나'), (9994, '축축'), (9995, '근원'), (9996, '각시탈'), (9997, '징그러운'), (9998, '장가휘'), (9999, '실로')])"
      ]
     },
     "execution_count": 20,
     "metadata": {},
     "output_type": "execute_result"
    }
   ],
   "source": [
    "index_to_word.items()"
   ]
  },
  {
   "cell_type": "code",
   "execution_count": 21,
   "id": "ad6faaf1",
   "metadata": {},
   "outputs": [
    {
     "name": "stdout",
     "output_type": "stream",
     "text": [
      "['아 더 빙 . . 진짜 짜증 나 네요 목소리', '흠 . .. 포스터 보고 초딩 영화 줄 . ... 오버 연기 조차 가볍 지 않 구나', '너무 재 <UNK>']\n"
     ]
    }
   ],
   "source": [
    "# 토큰화 된 문장을 확인하자.훈련셋 확인하기\n",
    "decoded_sentences = get_decoded_sentences(X_train, index_to_word)\n",
    "print(decoded_sentences[0:3])"
   ]
  },
  {
   "cell_type": "code",
   "execution_count": 22,
   "id": "7bc41ab8",
   "metadata": {},
   "outputs": [
    {
     "data": {
      "text/plain": [
       "[[1, 32, 74, 919, 4, 4, 39, 228, 20, 33, 748],\n",
       " [1,\n",
       "  1028,\n",
       "  4,\n",
       "  11,\n",
       "  519,\n",
       "  549,\n",
       "  687,\n",
       "  5,\n",
       "  120,\n",
       "  4,\n",
       "  70,\n",
       "  1639,\n",
       "  52,\n",
       "  925,\n",
       "  1006,\n",
       "  15,\n",
       "  44,\n",
       "  391],\n",
       " [1, 24, 205, 2]]"
      ]
     },
     "execution_count": 22,
     "metadata": {},
     "output_type": "execute_result"
    }
   ],
   "source": [
    "X_train[0:3]"
   ]
  },
  {
   "cell_type": "markdown",
   "id": "2a633210",
   "metadata": {},
   "source": [
    "- ***LMS 코드만 따라가다가, '&#60;PAD>', '&#60;BOS>', '&#60;UNK>', '&#60;UNUSED>' 가 단어사전에 없어서 당황했다.***\n",
    "- 하지만, 예시 답안의 빈칸을 힌트로 수정할 부분을 알 수 있었다.\n",
    "- 수정 후, 1 : '&#60;BOS>' 와 2:'&#60;UNK>' 가 잘 나온다.\n",
    "- 인코딩이 잘 되었다."
   ]
  },
  {
   "cell_type": "markdown",
   "id": "208e2b13",
   "metadata": {},
   "source": [
    "### 3.3 프로젝트 : 네이버 영화리뷰 감성분석_모델 구성을 위한 데이터 분석 및 가공\n",
    "- 데이터셋 내 문장 길이 분포\n",
    "- 적절한 최대 문장길이 지정\n",
    "- keras.preprocessing.sequence.pad_sequences 을 활용한 패딩 추가"
   ]
  },
  {
   "cell_type": "code",
   "execution_count": 23,
   "id": "837b5506",
   "metadata": {},
   "outputs": [
    {
     "name": "stdout",
     "output_type": "stream",
     "text": [
      "문장길이 평균 :  16.96940191154864\n",
      "문장길이 최대 :  117\n",
      "문장길이 표준편차 :  12.843571191092\n"
     ]
    }
   ],
   "source": [
    "# 데이터셋 내 문장 길이 분포\n",
    "total_data_text = list(X_train) + list(X_test) # 전체 문장을 담는다. \n",
    "# 텍스트 데이터 문장길이의 리스트를 생성한 후 \n",
    "num_tokens = [len(tokens) for tokens in total_data_text] #전체 문장에서 각 문장의 길이를 담은 리스트 생성.\n",
    "num_tokens = np.array(num_tokens) # np 연산을 위해, np.array로 변환.\n",
    "\n",
    "# 문장길이의 편균, max, 표준편차를 계산.\n",
    "print('문장길이 평균 : ', np.mean(num_tokens))\n",
    "print('문장길이 최대 : ', np.max(num_tokens))\n",
    "print('문장길이 표준편차 : ', np.std(num_tokens))"
   ]
  },
  {
   "cell_type": "code",
   "execution_count": 24,
   "id": "eb6dfbb0",
   "metadata": {},
   "outputs": [
    {
     "data": {
      "image/png": "[encoded data removed]",
      "text/plain": [
       "<Figure size 432x288 with 1 Axes>"
      ]
     },
     "metadata": {
      "needs_background": "light"
     },
     "output_type": "display_data"
    }
   ],
   "source": [
    "# 데이터셋 내 문장 길이 분포\n",
    "\n",
    "# 히스토 그램으로 문장길이 분포 시각화\n",
    "from matplotlib import pyplot as plt \n",
    "\n",
    "plt.hist(num_tokens, bins = 100) \n",
    "plt.title(\"histogram\") \n",
    "plt.xlabel('# words') \n",
    "plt.ylabel('# sentences')\n",
    "plt.show()"
   ]
  },
  {
   "cell_type": "code",
   "execution_count": 26,
   "id": "88d4fc7f",
   "metadata": {},
   "outputs": [
    {
     "name": "stdout",
     "output_type": "stream",
     "text": [
      "pad_sequences maxlen :  42\n",
      "전체 문장의 0.9342988343341575%가 maxlen 설정값 이내에 포함됩니다. \n"
     ]
    }
   ],
   "source": [
    "# 최대 길이를 (평균 + 2*표준편차)로 한다면,  \n",
    "max_tokens = np.mean(num_tokens) + 2 * np.std(num_tokens)\n",
    "maxlen = int(max_tokens)\n",
    "print('pad_sequences maxlen : ', maxlen)\n",
    "print('전체 문장의 {}%가 maxlen 설정값 이내에 포함됩니다. '.format(np.sum(num_tokens < max_tokens) / len(num_tokens)))"
   ]
  },
  {
   "cell_type": "markdown",
   "id": "e7f0d447",
   "metadata": {},
   "source": [
    "[최대 문장 길이 지정]\n",
    "- 상기 예제와 동일 하게 maxlen을 평균 + 2*표준편차로 지정하자.\n",
    "- maxlen 은 42 이다."
   ]
  },
  {
   "cell_type": "code",
   "execution_count": 27,
   "id": "55b17932",
   "metadata": {
    "scrolled": true
   },
   "outputs": [
    {
     "name": "stdout",
     "output_type": "stream",
     "text": [
      "(146182, 42)\n",
      "(49157, 42)\n"
     ]
    }
   ],
   "source": [
    "# 훈련셋과 테스트 셋에 maxlen으로 자르고, 패팅을 주자.\n",
    "# 이번에는 앞서 훈련 성능이 더 좋다고 한 pre로 앞에 패딩을 주었다.\n",
    "# 이번에는 앞\n",
    "X_train = tf.keras.preprocessing.sequence.pad_sequences(X_train,\n",
    "                                                        value=word_to_index[\"<PAD>\"],\n",
    "                                                        padding='pre',\n",
    "                                                        maxlen=maxlen)\n",
    "\n",
    "X_test = tf.keras.preprocessing.sequence.pad_sequences(X_test,\n",
    "                                                       value=word_to_index[\"<PAD>\"],\n",
    "                                                       padding='pre',\n",
    "                                                       maxlen=maxlen)\n",
    "\n",
    "print(X_train.shape)\n",
    "print(X_test.shape)"
   ]
  },
  {
   "cell_type": "markdown",
   "id": "e97939dc",
   "metadata": {},
   "source": [
    "- 중복을 제거하니 훈련셋 테스트셋 각각 약 14만 6천개, 4만 9천개 가량으로 감소 하였지만, 적은 비중이므로 괜찮다."
   ]
  },
  {
   "cell_type": "markdown",
   "id": "fc2332ba",
   "metadata": {},
   "source": [
    "### 3.4 프로젝트 : 네이버 영화리뷰 감성분석_모델 구성 및 validation set 구성\n",
    "- 모델은 3가지 이상 다양하게 구성하자\n",
    "- 앞선 검증 데이터 분리에서 40%(2만5천 중 1만개)를 검증 데이터로 분리했다.\n",
    "- 검증 데이터로 40% 분리하자."
   ]
  },
  {
   "cell_type": "code",
   "execution_count": 28,
   "id": "ca38f83c",
   "metadata": {},
   "outputs": [],
   "source": [
    "from sklearn.model_selection import train_test_split\n",
    "# stratify 를 주어 분할 후 클래스 비율이 유지되도록 하자\n",
    "partial_x_train, x_val, partial_y_train, y_val = train_test_split(X_train, y_train, stratify=y_train, test_size=0.4, random_state=42)"
   ]
  },
  {
   "cell_type": "code",
   "execution_count": 29,
   "id": "e625fd25",
   "metadata": {
    "scrolled": true
   },
   "outputs": [
    {
     "name": "stdout",
     "output_type": "stream",
     "text": [
      "훈련셋 비율\n",
      "[44005 43704] 비율:  1.0068872414424308\n",
      "검증셋 비율\n",
      "[29337 29136] 비율:  1.0068986820428336\n"
     ]
    }
   ],
   "source": [
    "def get_class_ratio(y):\n",
    "    _, arr = np.unique(y, return_counts = True)\n",
    "    print(arr, '비율: ',arr[0]/arr[1])\n",
    "    \n",
    "print('훈련셋 비율')\n",
    "get_class_ratio(partial_y_train)\n",
    "print('검증셋 비율')\n",
    "get_class_ratio(y_val)"
   ]
  },
  {
   "cell_type": "code",
   "execution_count": 30,
   "id": "5b25b290",
   "metadata": {},
   "outputs": [
    {
     "name": "stdout",
     "output_type": "stream",
     "text": [
      "훈련셋 크기\n",
      "(87709, 42)\n",
      "검증셋 크기\n",
      "(58473, 42)\n"
     ]
    }
   ],
   "source": [
    "print('훈련셋 크기')\n",
    "print(partial_x_train.shape)\n",
    "print('검증셋 크기')\n",
    "print(x_val.shape)"
   ]
  },
  {
   "cell_type": "markdown",
   "id": "e1149c1c",
   "metadata": {},
   "source": [
    "- 클래스 비율이 약 1로 일정하게 잘 나누어졌다.\n",
    "- 훈련셋 약 8만7천개, 검증셋 약 5만8천개이다.\n",
    "***"
   ]
  },
  {
   "cell_type": "markdown",
   "id": "456d101c",
   "metadata": {},
   "source": [
    "### 3.5 프로젝트 : 네이버 영화리뷰 감성분석_훈련, loss/acc 시각화, 임베딩 학습 분석\n",
    "> - 모델 훈련 개시\n",
    "> - Loss, Acc 그래프 시각화\n",
    "> - 학습된 임베딩 분석"
   ]
  },
  {
   "cell_type": "markdown",
   "id": "9acbf675",
   "metadata": {},
   "source": [
    "#### 첫번째 모델 : 앞서 사용한 LSTM 모델에 임베딩 차원을 100으로 키웠다."
   ]
  },
  {
   "cell_type": "code",
   "execution_count": 167,
   "id": "736e62ef",
   "metadata": {},
   "outputs": [
    {
     "name": "stdout",
     "output_type": "stream",
     "text": [
      "Model: \"sequential_8\"\n",
      "_________________________________________________________________\n",
      "Layer (type)                 Output Shape              Param #   \n",
      "=================================================================\n",
      "embedding_10 (Embedding)     (None, None, 100)         1000000   \n",
      "_________________________________________________________________\n",
      "lstm_4 (LSTM)                (None, 8)                 3488      \n",
      "_________________________________________________________________\n",
      "dense_16 (Dense)             (None, 8)                 72        \n",
      "_________________________________________________________________\n",
      "dense_17 (Dense)             (None, 1)                 9         \n",
      "=================================================================\n",
      "Total params: 1,003,569\n",
      "Trainable params: 1,003,569\n",
      "Non-trainable params: 0\n",
      "_________________________________________________________________\n"
     ]
    }
   ],
   "source": [
    "\n",
    "# \n",
    "vocab_size = 10000    # 어휘 사전의 크기입니다(10,000개의 단어)\n",
    "word_vector_dim = 100  # 워드 벡터의 차원 수 (변경 가능한 하이퍼파라미터)\n",
    "\n",
    "# model 설계 - 딥러닝 모델 코드를 직접 작성해 주세요.\n",
    "model = tf.keras.Sequential()\n",
    "model.add(tf.keras.layers.Embedding(vocab_size, word_vector_dim, input_shape=(None,)))\n",
    "model.add(tf.keras.layers.LSTM(8))# state 벡터 차원서 8, 변경가능\n",
    "model.add(tf.keras.layers.Dense(8, activation='relu'))\n",
    "model.add(tf.keras.layers.Dense(1, activation='sigmoid'))#최종 출력은 긍정/부정을 나타내는 1dim 입니다.\n",
    "model.summary()"
   ]
  },
  {
   "cell_type": "code",
   "execution_count": 168,
   "id": "bb9bad4b",
   "metadata": {
    "scrolled": false
   },
   "outputs": [
    {
     "name": "stdout",
     "output_type": "stream",
     "text": [
      "Epoch 1/20\n",
      "172/172 [==============================] - 3s 12ms/step - loss: 0.5352 - accuracy: 0.7631 - val_loss: 0.4075 - val_accuracy: 0.8390\n",
      "Epoch 2/20\n",
      "172/172 [==============================] - 1s 7ms/step - loss: 0.3575 - accuracy: 0.8571 - val_loss: 0.3633 - val_accuracy: 0.8464\n",
      "Epoch 3/20\n",
      "172/172 [==============================] - 1s 7ms/step - loss: 0.3107 - accuracy: 0.8753 - val_loss: 0.3581 - val_accuracy: 0.8438\n",
      "Epoch 4/20\n",
      "172/172 [==============================] - 1s 7ms/step - loss: 0.2868 - accuracy: 0.8844 - val_loss: 0.3553 - val_accuracy: 0.8485\n",
      "Epoch 5/20\n",
      "172/172 [==============================] - 1s 7ms/step - loss: 0.2662 - accuracy: 0.8928 - val_loss: 0.3685 - val_accuracy: 0.8469\n",
      "Epoch 6/20\n",
      "172/172 [==============================] - 1s 7ms/step - loss: 0.2478 - accuracy: 0.9018 - val_loss: 0.3712 - val_accuracy: 0.8466\n",
      "Epoch 7/20\n",
      "172/172 [==============================] - 1s 7ms/step - loss: 0.2277 - accuracy: 0.9098 - val_loss: 0.3936 - val_accuracy: 0.8444\n",
      "Epoch 8/20\n",
      "172/172 [==============================] - 1s 7ms/step - loss: 0.2118 - accuracy: 0.9165 - val_loss: 0.4041 - val_accuracy: 0.8433\n",
      "Epoch 9/20\n",
      "172/172 [==============================] - 1s 7ms/step - loss: 0.1975 - accuracy: 0.9233 - val_loss: 0.4292 - val_accuracy: 0.8411\n",
      "Epoch 10/20\n",
      "172/172 [==============================] - 1s 7ms/step - loss: 0.1872 - accuracy: 0.9283 - val_loss: 0.4380 - val_accuracy: 0.8413\n",
      "Epoch 11/20\n",
      "172/172 [==============================] - 1s 7ms/step - loss: 0.1710 - accuracy: 0.9361 - val_loss: 0.4678 - val_accuracy: 0.8384\n",
      "Epoch 12/20\n",
      "172/172 [==============================] - 1s 7ms/step - loss: 0.1601 - accuracy: 0.9414 - val_loss: 0.5207 - val_accuracy: 0.8377\n",
      "Epoch 13/20\n",
      "172/172 [==============================] - 1s 7ms/step - loss: 0.1502 - accuracy: 0.9449 - val_loss: 0.5215 - val_accuracy: 0.8376\n",
      "Epoch 14/20\n",
      "172/172 [==============================] - 1s 7ms/step - loss: 0.1406 - accuracy: 0.9498 - val_loss: 0.5626 - val_accuracy: 0.8354\n",
      "Epoch 15/20\n",
      "172/172 [==============================] - 1s 7ms/step - loss: 0.1305 - accuracy: 0.9548 - val_loss: 0.5585 - val_accuracy: 0.8309\n",
      "Epoch 16/20\n",
      "172/172 [==============================] - 1s 7ms/step - loss: 0.1220 - accuracy: 0.9580 - val_loss: 0.5881 - val_accuracy: 0.8320\n",
      "Epoch 17/20\n",
      "172/172 [==============================] - 1s 7ms/step - loss: 0.1151 - accuracy: 0.9603 - val_loss: 0.6232 - val_accuracy: 0.8292\n",
      "Epoch 18/20\n",
      "172/172 [==============================] - 1s 7ms/step - loss: 0.1076 - accuracy: 0.9637 - val_loss: 0.6501 - val_accuracy: 0.8313\n",
      "Epoch 19/20\n",
      "172/172 [==============================] - 1s 7ms/step - loss: 0.1014 - accuracy: 0.9666 - val_loss: 0.6994 - val_accuracy: 0.8305\n",
      "Epoch 20/20\n",
      "172/172 [==============================] - 1s 7ms/step - loss: 0.0986 - accuracy: 0.9676 - val_loss: 0.6765 - val_accuracy: 0.8263\n"
     ]
    }
   ],
   "source": [
    "# 학습의 진행\n",
    "model.compile(optimizer='adam',\n",
    "              loss='binary_crossentropy',\n",
    "              metrics=['accuracy'])\n",
    "              \n",
    "epochs=20  # 몇 epoch를 훈련하면 좋을지 결과를 보면서 바꾸어 봅시다. \n",
    "\n",
    "history = model.fit(partial_x_train,\n",
    "                    partial_y_train,\n",
    "                    epochs=epochs,\n",
    "                    batch_size=512,\n",
    "                    validation_data=(x_val, y_val),\n",
    "                    verbose=1)"
   ]
  },
  {
   "cell_type": "code",
   "execution_count": 61,
   "id": "ed192338",
   "metadata": {},
   "outputs": [],
   "source": [
    "# 테스트셋을 통한 모델 평가 및 학습 시각화 함수화\n",
    "\n",
    "def eval_model(model, X_test, y_test):\n",
    "    results = model.evaluate(X_test,  y_test, verbose=2)\n",
    "    print(results)\n",
    "    \n",
    "import matplotlib.pyplot as plt\n",
    "\n",
    "def visual_history(history):\n",
    "    history_dict = history.history\n",
    "\n",
    "    plt.clf()   # 그림을 초기화합니다\n",
    "    acc = history_dict['accuracy']\n",
    "    val_acc = history_dict['val_accuracy']\n",
    "    loss = history_dict['loss']\n",
    "    val_loss = history_dict['val_loss']\n",
    "\n",
    "    epochs = range(1, len(acc) + 1)\n",
    "\n",
    "    # \"bo\"는 \"파란색 점\"입니다\n",
    "    plt.plot(epochs, loss, 'bo', label='Training loss')\n",
    "    # b는 \"파란 실선\"입니다\n",
    "    plt.plot(epochs, val_loss, 'b', label='Validation loss')\n",
    "    plt.title('Training and validation loss')\n",
    "    plt.xlabel('Epochs')\n",
    "    plt.ylabel('Loss')\n",
    "    plt.legend()\n",
    "\n",
    "\n",
    "    plt.plot(epochs, acc, 'ro', label='Training acc')\n",
    "    plt.plot(epochs, val_acc, 'r', label='Validation acc')\n",
    "    plt.title('Training and validation accuracy')\n",
    "    plt.xlabel('Epochs')\n",
    "    plt.ylabel('Accuracy')\n",
    "    plt.legend()\n",
    "\n",
    "    plt.show()"
   ]
  },
  {
   "cell_type": "code",
   "execution_count": 62,
   "id": "2891f6d5",
   "metadata": {},
   "outputs": [],
   "source": [
    "# word2vec 만들고 저장 함수화\n",
    "def save_w2v(word2vec_file_path, vocab_size, word_vector_dim):\n",
    "    # 학습한 Embedding 파라미터를 파일에 써서 저장합니다. \n",
    "\n",
    "    f = open(word2vec_file_path, 'w')\n",
    "    f.write('{} {}\\n'.format(vocab_size-4, word_vector_dim))  # 몇개의 벡터를 얼마 사이즈로 기재할지 타이틀을 씁니다.\n",
    "\n",
    "    # 단어 개수(에서 특수문자 4개는 제외하고)만큼의 워드 벡터를 파일에 기록합니다. \n",
    "    vectors = model.get_weights()[0]\n",
    "    for i in range(4,vocab_size):\n",
    "        f.write('{} {}\\n'.format(index_to_word[i], ' '.join(map(str, list(vectors[i, :])))))\n",
    "    f.close()\n",
    "    \n",
    "from gensim.models.keyedvectors import Word2VecKeyedVectors\n",
    "# 불러오기\n",
    "def read_w2v(word2vec_file_path):\n",
    "    word_vectors = Word2VecKeyedVectors.load_word2vec_format(word2vec_file_path, binary=False)\n",
    "    return word_vectors"
   ]
  },
  {
   "cell_type": "code",
   "execution_count": 173,
   "id": "cfb4e867",
   "metadata": {},
   "outputs": [
    {
     "data": {
      "text/plain": [
       "[('색다른', 0.8567714691162109),\n",
       " ('은대', 0.8330176472663879),\n",
       " ('놀란', 0.8312519192695618),\n",
       " ('충실', 0.8281551003456116),\n",
       " ('찬사', 0.8268294930458069),\n",
       " ('소장', 0.8261317014694214),\n",
       " ('주일', 0.825094997882843),\n",
       " ('슬펐', 0.8240748643875122),\n",
       " ('멋있', 0.8239524364471436),\n",
       " ('떠서', 0.8219249844551086)]"
      ]
     },
     "execution_count": 173,
     "metadata": {},
     "output_type": "execute_result"
    }
   ],
   "source": [
    "word2vec_file_path = os.getenv('HOME')+'/aiffel/sentiment_classification/data/word2vecM1.txt' # 모델1 : M1\n",
    "save_w2v(word2vec_file_path, vocab_size, word_vector_dim)\n",
    "read_w2v(word2vec_file_path).similar_by_word(\"사랑\")"
   ]
  },
  {
   "cell_type": "code",
   "execution_count": 156,
   "id": "e17c0a5e",
   "metadata": {},
   "outputs": [
    {
     "name": "stdout",
     "output_type": "stream",
     "text": [
      "1537/1537 - 3s - loss: 0.7218 - accuracy: 0.8227\n",
      "[0.7218298316001892, 0.8226702213287354]\n"
     ]
    }
   ],
   "source": [
    "eval_model(model, X_test, y_test)"
   ]
  },
  {
   "cell_type": "code",
   "execution_count": 157,
   "id": "b0338a63",
   "metadata": {
    "scrolled": true
   },
   "outputs": [
    {
     "data": {
      "image/png": "[encoded data removed]",
      "text/plain": [
       "<Figure size 432x288 with 1 Axes>"
      ]
     },
     "metadata": {
      "needs_background": "light"
     },
     "output_type": "display_data"
    }
   ],
   "source": [
    "visual_history(history)"
   ]
  },
  {
   "cell_type": "markdown",
   "id": "aed90be0",
   "metadata": {},
   "source": [
    "[결과] : **임베딩차원 :100** , 에폭 20, batch_size=512, state 벡터 차원 : 8\n",
    "- 테스트 정확도 0.8226이다.\n",
    "- acc 꾸준히 증가, val_acc 미소하게 감소\n",
    "- loss 꾸준히 감소, val_loss 2 에폭 부터 증가.\n",
    "- val_acc 최대 0.845\n",
    "\n",
    "\n",
    "[해석]\n",
    "- val_acc 0.845로 테스트 정확도 기준 0.85에 가깝게 나타났지만 모자란다.\n",
    "- 정확도는 0.8 수준으로 나왔으나, 초기 에폭 이후 학습을 거듭하여도 성능이 향상되지 않음.\n",
    "- 에폭 2부터 val_acc 증가 없이 val_loss 가 증가하여 오버피팅이 예상된다.\n",
    "- 사랑과 유사한 단어 목록이 다소 애매한듯 하다. 확실히 사랑과 연관된 단어(찬사, 멋있)도 있지만, 앞선 Word2Vec 에서 love와 유사한 단어를 확인했을때 만큼 확실하게 유사한 단어나오진 않았다. 의미 공간상 학습이 부족하다고 판단된다."
   ]
  },
  {
   "cell_type": "markdown",
   "id": "d4eb5757",
   "metadata": {},
   "source": [
    "#### 두번째 모델 : 첫번째 모델에서 state 벡터 차원을 키워보자."
   ]
  },
  {
   "cell_type": "code",
   "execution_count": 174,
   "id": "f356a2ef",
   "metadata": {
    "scrolled": true
   },
   "outputs": [
    {
     "name": "stdout",
     "output_type": "stream",
     "text": [
      "Model: \"sequential_9\"\n",
      "_________________________________________________________________\n",
      "Layer (type)                 Output Shape              Param #   \n",
      "=================================================================\n",
      "embedding_11 (Embedding)     (None, None, 100)         1000000   \n",
      "_________________________________________________________________\n",
      "lstm_5 (LSTM)                (None, 16)                7488      \n",
      "_________________________________________________________________\n",
      "dense_18 (Dense)             (None, 8)                 136       \n",
      "_________________________________________________________________\n",
      "dense_19 (Dense)             (None, 1)                 9         \n",
      "=================================================================\n",
      "Total params: 1,007,633\n",
      "Trainable params: 1,007,633\n",
      "Non-trainable params: 0\n",
      "_________________________________________________________________\n"
     ]
    }
   ],
   "source": [
    "\n",
    "# \n",
    "vocab_size = 10000    # 어휘 사전의 크기입니다(10,000개의 단어)\n",
    "word_vector_dim = 100  # 워드 벡터의 차원 수 (변경 가능한 하이퍼파라미터)\n",
    "\n",
    "# model 설계 - 딥러닝 모델 코드를 직접 작성해 주세요.\n",
    "model = tf.keras.Sequential()\n",
    "model.add(tf.keras.layers.Embedding(vocab_size, word_vector_dim, input_shape=(None,)))\n",
    "model.add(tf.keras.layers.LSTM(16)) # state 벡처 차원 16으로 변경\n",
    "model.add(tf.keras.layers.Dense(8, activation='relu'))\n",
    "model.add(tf.keras.layers.Dense(1, activation='sigmoid'))#최종 출력은 긍정/부정을 나타내는 1dim 입니다.\n",
    "model.summary()"
   ]
  },
  {
   "cell_type": "code",
   "execution_count": 175,
   "id": "0102bb7a",
   "metadata": {},
   "outputs": [
    {
     "name": "stdout",
     "output_type": "stream",
     "text": [
      "Epoch 1/20\n",
      "172/172 [==============================] - 3s 9ms/step - loss: 0.4697 - accuracy: 0.7904 - val_loss: 0.3622 - val_accuracy: 0.8447\n",
      "Epoch 2/20\n",
      "172/172 [==============================] - 1s 7ms/step - loss: 0.3315 - accuracy: 0.8605 - val_loss: 0.3529 - val_accuracy: 0.8470\n",
      "Epoch 3/20\n",
      "172/172 [==============================] - 1s 7ms/step - loss: 0.3026 - accuracy: 0.8750 - val_loss: 0.3508 - val_accuracy: 0.8472\n",
      "Epoch 4/20\n",
      "172/172 [==============================] - 1s 7ms/step - loss: 0.2809 - accuracy: 0.8852 - val_loss: 0.3556 - val_accuracy: 0.8458\n",
      "Epoch 5/20\n",
      "172/172 [==============================] - 1s 7ms/step - loss: 0.2595 - accuracy: 0.8943 - val_loss: 0.3679 - val_accuracy: 0.8485\n",
      "Epoch 6/20\n",
      "172/172 [==============================] - 1s 7ms/step - loss: 0.2379 - accuracy: 0.9033 - val_loss: 0.3822 - val_accuracy: 0.8435\n",
      "Epoch 7/20\n",
      "172/172 [==============================] - 1s 7ms/step - loss: 0.2170 - accuracy: 0.9125 - val_loss: 0.4025 - val_accuracy: 0.8452\n",
      "Epoch 8/20\n",
      "172/172 [==============================] - 1s 7ms/step - loss: 0.1970 - accuracy: 0.9212 - val_loss: 0.4175 - val_accuracy: 0.8429\n",
      "Epoch 9/20\n",
      "172/172 [==============================] - 1s 7ms/step - loss: 0.1783 - accuracy: 0.9304 - val_loss: 0.4529 - val_accuracy: 0.8410\n",
      "Epoch 10/20\n",
      "172/172 [==============================] - 1s 7ms/step - loss: 0.1648 - accuracy: 0.9358 - val_loss: 0.4773 - val_accuracy: 0.8393\n",
      "Epoch 11/20\n",
      "172/172 [==============================] - 1s 7ms/step - loss: 0.1493 - accuracy: 0.9431 - val_loss: 0.5196 - val_accuracy: 0.8384\n",
      "Epoch 12/20\n",
      "172/172 [==============================] - 1s 7ms/step - loss: 0.1376 - accuracy: 0.9482 - val_loss: 0.5627 - val_accuracy: 0.8365\n",
      "Epoch 13/20\n",
      "172/172 [==============================] - 1s 7ms/step - loss: 0.1290 - accuracy: 0.9513 - val_loss: 0.5821 - val_accuracy: 0.8383\n",
      "Epoch 14/20\n",
      "172/172 [==============================] - 1s 7ms/step - loss: 0.1199 - accuracy: 0.9551 - val_loss: 0.6060 - val_accuracy: 0.8386\n",
      "Epoch 15/20\n",
      "172/172 [==============================] - 1s 7ms/step - loss: 0.1123 - accuracy: 0.9588 - val_loss: 0.6559 - val_accuracy: 0.8342\n",
      "Epoch 16/20\n",
      "172/172 [==============================] - 1s 7ms/step - loss: 0.1011 - accuracy: 0.9632 - val_loss: 0.6662 - val_accuracy: 0.8319\n",
      "Epoch 17/20\n",
      "172/172 [==============================] - 1s 7ms/step - loss: 0.0978 - accuracy: 0.9647 - val_loss: 0.6948 - val_accuracy: 0.8327\n",
      "Epoch 18/20\n",
      "172/172 [==============================] - 1s 7ms/step - loss: 0.0916 - accuracy: 0.9666 - val_loss: 0.7249 - val_accuracy: 0.8290\n",
      "Epoch 19/20\n",
      "172/172 [==============================] - 1s 7ms/step - loss: 0.0859 - accuracy: 0.9690 - val_loss: 0.7440 - val_accuracy: 0.8260\n",
      "Epoch 20/20\n",
      "172/172 [==============================] - 1s 7ms/step - loss: 0.0763 - accuracy: 0.9733 - val_loss: 0.7990 - val_accuracy: 0.8309\n"
     ]
    }
   ],
   "source": [
    "# 학습의 진행\n",
    "model.compile(optimizer='adam',\n",
    "              loss='binary_crossentropy',\n",
    "              metrics=['accuracy'])\n",
    "              \n",
    "epochs=20  # 몇 epoch를 훈련하면 좋을지 결과를 보면서 바꾸어 봅시다. \n",
    "\n",
    "history = model.fit(partial_x_train,\n",
    "                    partial_y_train,\n",
    "                    epochs=epochs,\n",
    "                    batch_size=512,\n",
    "                    validation_data=(x_val, y_val),\n",
    "                    verbose=1)"
   ]
  },
  {
   "cell_type": "code",
   "execution_count": 176,
   "id": "a81fac69",
   "metadata": {},
   "outputs": [
    {
     "name": "stdout",
     "output_type": "stream",
     "text": [
      "1537/1537 - 3s - loss: 0.8018 - accuracy: 0.8285\n",
      "[0.8018162250518799, 0.828549325466156]\n"
     ]
    }
   ],
   "source": [
    "eval_model(model, X_test, y_test)"
   ]
  },
  {
   "cell_type": "code",
   "execution_count": 177,
   "id": "f7d4914b",
   "metadata": {
    "scrolled": true
   },
   "outputs": [
    {
     "data": {
      "image/png": "[encoded data removed]",
      "text/plain": [
       "<Figure size 432x288 with 1 Axes>"
      ]
     },
     "metadata": {
      "needs_background": "light"
     },
     "output_type": "display_data"
    }
   ],
   "source": [
    "visual_history(history)"
   ]
  },
  {
   "cell_type": "code",
   "execution_count": 178,
   "id": "82c42798",
   "metadata": {},
   "outputs": [
    {
     "data": {
      "text/plain": [
       "[('소울', 0.8848583102226257),\n",
       " ('모델', 0.8816930651664734),\n",
       " ('원제', 0.8792485594749451),\n",
       " ('명작', 0.8775777816772461),\n",
       " ('소장', 0.8754878640174866),\n",
       " ('완벽', 0.8744290471076965),\n",
       " ('재미있', 0.8732012510299683),\n",
       " ('흥미진진', 0.8711851835250854),\n",
       " ('빠져', 0.8614887595176697),\n",
       " ('소주', 0.8535388708114624)]"
      ]
     },
     "execution_count": 178,
     "metadata": {},
     "output_type": "execute_result"
    }
   ],
   "source": [
    "word2vec_file_path = os.getenv('HOME')+'/aiffel/sentiment_classification/data/word2vecM2.txt' # 모델1 : M1\n",
    "save_w2v(word2vec_file_path, vocab_size, word_vector_dim)\n",
    "read_w2v(word2vec_file_path).similar_by_word(\"사랑\")"
   ]
  },
  {
   "cell_type": "markdown",
   "id": "3b44b1c2",
   "metadata": {},
   "source": [
    "[결과] : 임베딩차원 :100 , 에폭 20, batch_size=512, **state 벡터 차원 : 16**\n",
    "- 테스트 정확도 0.8285이다.\n",
    "- acc 꾸준히 증가, val_acc 미소하게 감소\n",
    "- loss 꾸준히 감소, val_loss 2 에폭 부터 증가.\n",
    "- val_acc 최대 0.848\n",
    "- 학습된 임베딩 벡터를 살펴본 결과, **사랑**과 유사한 단어로 **소울, 모델, 원제, 명작, 소장, 완벽, 재미있, 흥미진진, 바져, 소주**가 나왔다.\n",
    "\n",
    "[해석]\n",
    "- val_acc 0.848로 테스트 정확도 기준 0.85에 가깝게 나타났지만 모자란다.\n",
    "- val_acc는 0.83 수준으로 나왔으나, 초기 에폭 이후 학습을 거듭하여도 성능이 향상되지 않음.\n",
    "- 에폭 2부터 val_acc 증가 없이 val_loss 가 증가하여 오버피팅이 예상된다.\n",
    "- state 벡터 차원 증가가 크게 효과가 없다고 해석 된다.\n",
    "- 사랑과 유사한 단어 목록이 개선되었다. 확실히 사랑과 연관된 단어 혹은 긍정적 단어(명작, 소장, 완벽, 재미있, 흥미진진)가 나왔다. 하지만 역시 애매한 단어들도 있고, 앞선 Word2Vec 에서 love와 유사한 단어를 확인했을때 만큼 확실하게 유사한 단어는 나오진 않았다. 의미 공간상 학습이 다소 부족하다고 판단된다."
   ]
  },
  {
   "cell_type": "markdown",
   "id": "48e5c742",
   "metadata": {},
   "source": [
    "#### 세번째 모델 : Word2Vec을 사용한 1D Conv를 사용해보자."
   ]
  },
  {
   "cell_type": "code",
   "execution_count": 179,
   "id": "8b41ac28",
   "metadata": {
    "scrolled": true
   },
   "outputs": [
    {
     "name": "stdout",
     "output_type": "stream",
     "text": [
      "Model: \"sequential_10\"\n",
      "_________________________________________________________________\n",
      "Layer (type)                 Output Shape              Param #   \n",
      "=================================================================\n",
      "embedding_12 (Embedding)     (None, None, 100)         1000000   \n",
      "_________________________________________________________________\n",
      "conv1d_6 (Conv1D)            (None, None, 16)          11216     \n",
      "_________________________________________________________________\n",
      "max_pooling1d_3 (MaxPooling1 (None, None, 16)          0         \n",
      "_________________________________________________________________\n",
      "conv1d_7 (Conv1D)            (None, None, 16)          1808      \n",
      "_________________________________________________________________\n",
      "global_max_pooling1d_4 (Glob (None, 16)                0         \n",
      "_________________________________________________________________\n",
      "dense_20 (Dense)             (None, 8)                 136       \n",
      "_________________________________________________________________\n",
      "dense_21 (Dense)             (None, 1)                 9         \n",
      "=================================================================\n",
      "Total params: 1,013,169\n",
      "Trainable params: 1,013,169\n",
      "Non-trainable params: 0\n",
      "_________________________________________________________________\n"
     ]
    }
   ],
   "source": [
    "vocab_size = 10000    # 어휘 사전의 크기입니다(10,000개의 단어)\n",
    "word_vector_dim = 100  # 워드 벡터의 차원 수 \n",
    "\n",
    "# 모델 구성\n",
    "model = tf.keras.Sequential()\n",
    "model.add(tf.keras.layers.Embedding(vocab_size, word_vector_dim, input_shape=(None,)))\n",
    "model.add(tf.keras.layers.Conv1D(16, 7, activation='relu'))\n",
    "model.add(tf.keras.layers.MaxPooling1D(5))\n",
    "model.add(tf.keras.layers.Conv1D(16, 7, activation='relu'))\n",
    "model.add(tf.keras.layers.GlobalMaxPooling1D())\n",
    "model.add(tf.keras.layers.Dense(8, activation='relu'))\n",
    "model.add(tf.keras.layers.Dense(1, activation='sigmoid')) \n",
    "\n",
    "model.summary()"
   ]
  },
  {
   "cell_type": "code",
   "execution_count": 180,
   "id": "3bf875aa",
   "metadata": {},
   "outputs": [
    {
     "name": "stdout",
     "output_type": "stream",
     "text": [
      "Epoch 1/20\n",
      "172/172 [==============================] - 2s 7ms/step - loss: 0.5018 - accuracy: 0.7424 - val_loss: 0.3733 - val_accuracy: 0.8318\n",
      "Epoch 2/20\n",
      "172/172 [==============================] - 1s 6ms/step - loss: 0.3273 - accuracy: 0.8595 - val_loss: 0.3572 - val_accuracy: 0.8402\n",
      "Epoch 3/20\n",
      "172/172 [==============================] - 1s 6ms/step - loss: 0.2694 - accuracy: 0.8907 - val_loss: 0.3643 - val_accuracy: 0.8392\n",
      "Epoch 4/20\n",
      "172/172 [==============================] - 1s 6ms/step - loss: 0.2074 - accuracy: 0.9214 - val_loss: 0.4002 - val_accuracy: 0.8351\n",
      "Epoch 5/20\n",
      "172/172 [==============================] - 1s 6ms/step - loss: 0.1452 - accuracy: 0.9492 - val_loss: 0.4493 - val_accuracy: 0.8307\n",
      "Epoch 6/20\n",
      "172/172 [==============================] - 1s 6ms/step - loss: 0.0989 - accuracy: 0.9671 - val_loss: 0.5076 - val_accuracy: 0.8276\n",
      "Epoch 7/20\n",
      "172/172 [==============================] - 1s 6ms/step - loss: 0.0691 - accuracy: 0.9772 - val_loss: 0.5924 - val_accuracy: 0.8264\n",
      "Epoch 8/20\n",
      "172/172 [==============================] - 1s 6ms/step - loss: 0.0516 - accuracy: 0.9832 - val_loss: 0.6539 - val_accuracy: 0.8237\n",
      "Epoch 9/20\n",
      "172/172 [==============================] - 1s 6ms/step - loss: 0.0398 - accuracy: 0.9865 - val_loss: 0.7265 - val_accuracy: 0.8206\n",
      "Epoch 10/20\n",
      "172/172 [==============================] - 1s 6ms/step - loss: 0.0328 - accuracy: 0.9890 - val_loss: 0.7871 - val_accuracy: 0.8188\n",
      "Epoch 11/20\n",
      "172/172 [==============================] - 1s 6ms/step - loss: 0.0281 - accuracy: 0.9901 - val_loss: 0.8490 - val_accuracy: 0.8195\n",
      "Epoch 12/20\n",
      "172/172 [==============================] - 1s 6ms/step - loss: 0.0249 - accuracy: 0.9908 - val_loss: 0.8881 - val_accuracy: 0.8177\n",
      "Epoch 13/20\n",
      "172/172 [==============================] - 1s 6ms/step - loss: 0.0228 - accuracy: 0.9914 - val_loss: 0.9594 - val_accuracy: 0.8174\n",
      "Epoch 14/20\n",
      "172/172 [==============================] - 1s 6ms/step - loss: 0.0214 - accuracy: 0.9915 - val_loss: 1.0202 - val_accuracy: 0.8172\n",
      "Epoch 15/20\n",
      "172/172 [==============================] - 1s 6ms/step - loss: 0.0202 - accuracy: 0.9916 - val_loss: 1.0624 - val_accuracy: 0.8137\n",
      "Epoch 16/20\n",
      "172/172 [==============================] - 1s 6ms/step - loss: 0.0230 - accuracy: 0.9907 - val_loss: 1.0930 - val_accuracy: 0.8141\n",
      "Epoch 17/20\n",
      "172/172 [==============================] - 1s 6ms/step - loss: 0.0356 - accuracy: 0.9862 - val_loss: 1.0645 - val_accuracy: 0.8138\n",
      "Epoch 18/20\n",
      "172/172 [==============================] - 1s 6ms/step - loss: 0.0381 - accuracy: 0.9848 - val_loss: 1.0414 - val_accuracy: 0.8145\n",
      "Epoch 19/20\n",
      "172/172 [==============================] - 1s 6ms/step - loss: 0.0256 - accuracy: 0.9893 - val_loss: 1.1057 - val_accuracy: 0.8130\n",
      "Epoch 20/20\n",
      "172/172 [==============================] - 1s 6ms/step - loss: 0.0184 - accuracy: 0.9926 - val_loss: 1.1737 - val_accuracy: 0.8131\n"
     ]
    }
   ],
   "source": [
    "# 학습의 진행\n",
    "model.compile(optimizer='adam',\n",
    "              loss='binary_crossentropy',\n",
    "              metrics=['accuracy'])\n",
    "              \n",
    "epochs=20  # 몇 epoch를 훈련하면 좋을지 결과를 보면서 바꾸어 봅시다. \n",
    "\n",
    "history = model.fit(partial_x_train,\n",
    "                    partial_y_train,\n",
    "                    epochs=epochs,\n",
    "                    batch_size=512,\n",
    "                    validation_data=(x_val, y_val),\n",
    "                    verbose=1)"
   ]
  },
  {
   "cell_type": "code",
   "execution_count": 181,
   "id": "86e7f178",
   "metadata": {},
   "outputs": [
    {
     "name": "stdout",
     "output_type": "stream",
     "text": [
      "1537/1537 - 3s - loss: 1.2020 - accuracy: 0.8099\n",
      "[1.2020076513290405, 0.8099355101585388]\n"
     ]
    }
   ],
   "source": [
    "eval_model(model, X_test, y_test)"
   ]
  },
  {
   "cell_type": "code",
   "execution_count": 182,
   "id": "0f222a39",
   "metadata": {
    "scrolled": true
   },
   "outputs": [
    {
     "data": {
      "image/png": "[encoded data removed]",
      "text/plain": [
       "<Figure size 432x288 with 1 Axes>"
      ]
     },
     "metadata": {
      "needs_background": "light"
     },
     "output_type": "display_data"
    }
   ],
   "source": [
    "visual_history(history)"
   ]
  },
  {
   "cell_type": "code",
   "execution_count": 183,
   "id": "79a79cda",
   "metadata": {},
   "outputs": [
    {
     "data": {
      "text/plain": [
       "[('빠짐', 0.7066069841384888),\n",
       " ('두세', 0.6865543723106384),\n",
       " ('재발견', 0.6723327040672302),\n",
       " ('콜린파렐', 0.6721801161766052),\n",
       " ('풍성', 0.6687554717063904),\n",
       " ('정점', 0.6595333814620972),\n",
       " ('이만', 0.6588178873062134),\n",
       " ('탐', 0.6583957076072693),\n",
       " ('멋져요', 0.6568005681037903),\n",
       " ('리딕', 0.6546502113342285)]"
      ]
     },
     "execution_count": 183,
     "metadata": {},
     "output_type": "execute_result"
    }
   ],
   "source": [
    "word2vec_file_path = os.getenv('HOME')+'/aiffel/sentiment_classification/data/word2vecM3.txt' # 모델1 : M1\n",
    "save_w2v(word2vec_file_path, vocab_size, word_vector_dim)\n",
    "read_w2v(word2vec_file_path).similar_by_word(\"사랑\")"
   ]
  },
  {
   "cell_type": "markdown",
   "id": "36611c59",
   "metadata": {},
   "source": [
    "[결과] : 임베딩차원 :100 , 에폭 20, batch_size=512, **1D-conv 모델**\n",
    "- 테스트 정확도 0.8099이다.\n",
    "- acc 꾸준히 증가, val_acc 미소하게 감소\n",
    "- loss 꾸준히 감소, val_loss 2 에폭 부터 증가.\n",
    "- val_acc 최대 0.8411\n",
    "- 학습된 임베딩 벡터를 살펴본 결과, **사랑**과 유사한 단어로 **빠짐, 두세, 재발견, 콜린파렐, 풍성, 정점, 이만, 탐, 멋져요, 리딕**가 나왔다.\n",
    "\n",
    "[해석]\n",
    "- val_acc 0.8402 로 테스트 정확도 기준 0.85에 가깝게 나타났지만 모자란다.\n",
    "- val_acc는 0.81 수준으로 나왔으나, 초기 에폭 이후 학습을 거듭하여도 성능이 향상되지 않음.\n",
    "- 에폭 2부터 val_acc 증가 없이 val_loss 가 증가하여 오버피팅이 예상된다.\n",
    "- 사랑과 유사한 단어 목록이 앞선 모델보다 더 부정확해 보인다. 그나마 사랑과 연관된 단어(풍성, 정점, 멋져요)가 있지만, 앞선 두번째 모델의 단어들과 비교해 볼때 많이 차이가 난다. 의미 공간상 학습이 많이 부족하다고 판단된다.\n",
    "- 1-D conv 모델은 정확도는 첫번째 두번째 (RNN)모델과 유사하게 나왔지만, 실제 임베딩 학습의 성능은 많이 부족하다고 판단된다."
   ]
  },
  {
   "cell_type": "markdown",
   "id": "533c470e",
   "metadata": {},
   "source": [
    "### 3.6 프로젝트 : 네이버 영화리뷰 감성분석_한국어 Word2Vec으로 성능 개선\n",
    "> - 학습된 Word2Vec ko.bin을 가져온다.\n",
    "> - gensim 버전 3.8.3\n",
    "> - vector_size = 200, coupus_size = 339M, vocabulary_size = 30185 이다.\n",
    "> - [참고자료]: https://github.com/Kyubyong/wordvectors"
   ]
  },
  {
   "cell_type": "code",
   "execution_count": 199,
   "id": "ebc43579",
   "metadata": {
    "scrolled": true
   },
   "outputs": [
    {
     "name": "stdout",
     "output_type": "stream",
     "text": [
      "Requirement already satisfied: gensim==3.8.3 in /opt/conda/lib/python3.9/site-packages (3.8.3)\n",
      "Requirement already satisfied: six>=1.5.0 in /opt/conda/lib/python3.9/site-packages (from gensim==3.8.3) (1.16.0)\n",
      "Requirement already satisfied: smart-open>=1.8.1 in /opt/conda/lib/python3.9/site-packages (from gensim==3.8.3) (5.2.1)\n",
      "Requirement already satisfied: numpy>=1.11.3 in /opt/conda/lib/python3.9/site-packages (from gensim==3.8.3) (1.21.4)\n",
      "Requirement already satisfied: scipy>=0.18.1 in /opt/conda/lib/python3.9/site-packages (from gensim==3.8.3) (1.7.1)\n",
      "\u001b[33mWARNING: Running pip as the 'root' user can result in broken permissions and conflicting behaviour with the system package manager. It is recommended to use a virtual environment instead: https://pip.pypa.io/warnings/venv\u001b[0m\n"
     ]
    }
   ],
   "source": [
    "!pip install --upgrade gensim==3.8.3"
   ]
  },
  {
   "cell_type": "code",
   "execution_count": 31,
   "id": "ed6c0ed8",
   "metadata": {},
   "outputs": [
    {
     "data": {
      "text/plain": [
       "'3.8.3'"
      ]
     },
     "execution_count": 31,
     "metadata": {},
     "output_type": "execute_result"
    }
   ],
   "source": [
    "from gensim.models import KeyedVectors\n",
    "import gensim\n",
    "gensim.__version__"
   ]
  },
  {
   "cell_type": "code",
   "execution_count": 91,
   "id": "18f3823c",
   "metadata": {},
   "outputs": [
    {
     "data": {
      "text/plain": [
       "array([-1.3740246 , -1.7353463 ,  3.3915305 , -2.569253  , -1.4016607 ,\n",
       "        1.4556127 ,  0.9414557 ,  1.9207907 ,  0.16471806,  0.4838317 ,\n",
       "       -0.8547181 ,  2.0879807 ,  0.86741775,  0.87539405, -0.09962013,\n",
       "        0.22928311, -1.1858722 ,  0.00858838,  1.4999928 , -0.16196461,\n",
       "       -0.35184434, -0.92390764,  1.0849575 ,  0.3025011 ,  2.7021565 ,\n",
       "       -1.0263684 ,  0.32864776, -0.76589465, -2.510981  , -0.66225356,\n",
       "        2.8434615 ,  0.50130975, -1.021874  , -1.4366034 ,  1.1110784 ,\n",
       "        0.5812605 , -0.5830406 , -0.5785423 ,  1.3634988 ,  2.3074338 ,\n",
       "       -1.4314893 ,  0.45745876,  1.1073523 , -3.2135262 , -0.2898375 ,\n",
       "       -1.1622221 ,  1.2369208 , -0.7622987 , -0.37757635,  1.1376442 ,\n",
       "        0.01065568, -0.69105595,  1.5159112 ,  1.1534518 , -1.0119992 ,\n",
       "       -0.5757404 ,  1.1349088 , -1.1289831 ,  0.13004152,  2.0451715 ,\n",
       "       -0.23940353,  1.3604902 ,  0.72700524,  0.32545742,  1.0612459 ,\n",
       "        0.42252553,  1.1442151 ,  2.8774905 ,  2.4377263 , -1.340305  ,\n",
       "        0.12629706, -0.07772489, -0.59053177, -0.19007324,  0.1396541 ,\n",
       "       -1.8655105 ,  0.9401054 ,  0.5150856 ,  0.7795373 , -0.86505556,\n",
       "        0.11842118, -1.8303713 ,  1.337177  , -1.0102932 , -0.37180334,\n",
       "        0.00893255, -0.49141577, -1.05802   , -2.5987291 ,  0.9731856 ,\n",
       "        0.34080654, -2.5973568 ,  1.0046519 , -1.3914212 , -0.6504351 ,\n",
       "       -0.9010805 , -1.1341541 ,  0.75565654,  1.2941337 ,  0.0880572 ,\n",
       "       -1.0341461 , -0.1750075 , -0.01880708, -1.0835075 , -2.0333962 ,\n",
       "        1.1372623 ,  1.0626172 , -1.8369784 , -2.2662086 , -3.382057  ,\n",
       "        1.6751666 , -0.2988223 , -0.25563756, -1.5594274 ,  0.6313433 ,\n",
       "       -1.2667153 , -1.6857744 , -1.0949599 ,  0.7742313 , -0.6095523 ,\n",
       "        3.19503   ,  0.13200459,  1.7937473 , -2.8782516 ,  1.3821276 ,\n",
       "        2.2895143 ,  0.0741943 , -0.41046414,  1.438796  ,  0.19373988,\n",
       "        1.4294034 ,  1.5025262 ,  1.4849502 ,  1.5754777 ,  2.7793512 ,\n",
       "       -0.6885003 , -0.30154693, -1.708323  ,  1.1030879 , -2.2597387 ,\n",
       "        1.1909146 ,  2.4399316 ,  0.3990314 ,  0.904154  ,  0.5454401 ,\n",
       "       -1.3235748 , -0.64812386,  0.22390233,  0.9657619 , -0.47360668,\n",
       "       -0.10278235, -1.0679734 , -0.91414386,  0.92069   ,  0.3549338 ,\n",
       "        0.32858834,  0.84870636,  3.596926  , -1.6651102 ,  0.23658653,\n",
       "        1.0515738 ,  0.40531915, -0.773514  , -0.93460965, -0.3946274 ,\n",
       "       -1.5657727 ,  1.183652  ,  2.5277    ,  0.57700926,  1.7051374 ,\n",
       "       -1.8249958 , -2.0328498 ,  0.6617798 ,  0.85747904,  0.31782728,\n",
       "       -1.1660796 ,  0.32923874,  2.2055087 , -0.12782003,  2.0455444 ,\n",
       "       -0.1724252 ,  0.46001154,  1.559042  , -1.6152996 , -0.84242785,\n",
       "        0.7553168 ,  0.39734274,  0.07714175,  0.05610155,  0.32837135,\n",
       "        1.0220716 ,  1.3816743 ,  0.8049544 ,  0.28728685, -0.97610044,\n",
       "        0.8861181 , -0.01250968, -1.4845604 , -1.5236791 , -1.5451258 ],\n",
       "      dtype=float32)"
      ]
     },
     "execution_count": 91,
     "metadata": {},
     "output_type": "execute_result"
    }
   ],
   "source": [
    "ko_word2vec_path = os.getenv('HOME')+'/aiffel/sentiment_classification/data/ko.bin'\n",
    "ko_word2vec = gensim.models.Word2Vec.load(ko_word2vec_path)\n",
    "ko_vector = ko_word2vec.wv['사랑']\n",
    "ko_vector     # 무려 200dim의 워드 벡터입니다."
   ]
  },
  {
   "cell_type": "code",
   "execution_count": 92,
   "id": "e8709375",
   "metadata": {
    "scrolled": true
   },
   "outputs": [
    {
     "data": {
      "text/plain": [
       "[('슬픔', 0.7216662764549255),\n",
       " ('행복', 0.6759077310562134),\n",
       " ('절망', 0.6468985080718994),\n",
       " ('기쁨', 0.6458414196968079),\n",
       " ('이별', 0.6334798336029053),\n",
       " ('추억', 0.6320937275886536),\n",
       " ('인생', 0.6216273307800293),\n",
       " ('애정', 0.6206069588661194),\n",
       " ('연인', 0.6186063289642334),\n",
       " ('유혹', 0.5965287685394287)]"
      ]
     },
     "execution_count": 92,
     "metadata": {},
     "output_type": "execute_result"
    }
   ],
   "source": [
    "ko_word2vec.wv.similar_by_word(\"사랑\")"
   ]
  },
  {
   "cell_type": "markdown",
   "id": "95762a74",
   "metadata": {},
   "source": [
    "- 한글 Word2Vec 를 불러와 '사랑' 과 유사한 단어를 보니 연관된 단어들을 확인할 수 있다.\n",
    "- 학습해보자."
   ]
  },
  {
   "cell_type": "code",
   "execution_count": 93,
   "id": "06f43e9b",
   "metadata": {},
   "outputs": [],
   "source": [
    "vocab_size = 10000    # 어휘 사전의 크기입니다(10,000개의 단어)\n",
    "word_vector_dim = 200  # 워드 벡터의 차원수\n",
    "embedding_matrix = np.random.rand(vocab_size, word_vector_dim)\n",
    "\n",
    "# embedding_matrix에 Word2Vec 워드 벡터를 단어 하나씩마다 차례차례 카피한다.\n",
    "for i in range(4,vocab_size):\n",
    "    if index_to_word[i] in ko_word2vec.wv:\n",
    "        embedding_matrix[i] = ko_word2vec.wv[index_to_word[i]]"
   ]
  },
  {
   "cell_type": "markdown",
   "id": "4b48d349",
   "metadata": {},
   "source": [
    "- 앞서 영어 Word2vec을 가져와 사용한 모델과 같은 모델로 먼저 해보자"
   ]
  },
  {
   "cell_type": "markdown",
   "id": "3e7bfccc",
   "metadata": {},
   "source": [
    "#### 네번째 모델 : 한글 w2v적용, 1D-conv"
   ]
  },
  {
   "cell_type": "code",
   "execution_count": 94,
   "id": "83e2be61",
   "metadata": {},
   "outputs": [
    {
     "name": "stdout",
     "output_type": "stream",
     "text": [
      "Model: \"sequential_8\"\n",
      "_________________________________________________________________\n",
      "Layer (type)                 Output Shape              Param #   \n",
      "=================================================================\n",
      "embedding_10 (Embedding)     (None, 42, 200)           2000000   \n",
      "_________________________________________________________________\n",
      "conv1d_4 (Conv1D)            (None, 36, 16)            22416     \n",
      "_________________________________________________________________\n",
      "max_pooling1d_2 (MaxPooling1 (None, 7, 16)             0         \n",
      "_________________________________________________________________\n",
      "conv1d_5 (Conv1D)            (None, 1, 16)             1808      \n",
      "_________________________________________________________________\n",
      "global_max_pooling1d_2 (Glob (None, 16)                0         \n",
      "_________________________________________________________________\n",
      "dense_10 (Dense)             (None, 8)                 136       \n",
      "_________________________________________________________________\n",
      "dense_11 (Dense)             (None, 1)                 9         \n",
      "=================================================================\n",
      "Total params: 2,024,369\n",
      "Trainable params: 2,024,369\n",
      "Non-trainable params: 0\n",
      "_________________________________________________________________\n"
     ]
    }
   ],
   "source": [
    "from tensorflow.keras.initializers import Constant\n",
    "\n",
    "vocab_size = 10000    # 어휘 사전의 크기입니다(10,000개의 단어)\n",
    "word_vector_dim = 200  # 워드 벡터의 차원 수 \n",
    "\n",
    "# 모델 구성\n",
    "model = tf.keras.Sequential()\n",
    "model.add(tf.keras.layers.Embedding(vocab_size, \n",
    "                                 word_vector_dim, \n",
    "                                 embeddings_initializer=Constant(embedding_matrix),  # 카피한 임베딩을 여기서 활용\n",
    "                                 input_length=maxlen, \n",
    "                                 trainable=True))   # trainable을 True로 주면 Fine-tuning\n",
    "model.add(tf.keras.layers.Conv1D(16, 7, activation='relu'))\n",
    "model.add(tf.keras.layers.MaxPooling1D(5))\n",
    "model.add(tf.keras.layers.Conv1D(16, 7, activation='relu'))\n",
    "model.add(tf.keras.layers.GlobalMaxPooling1D())\n",
    "model.add(tf.keras.layers.Dense(8, activation='relu'))\n",
    "model.add(tf.keras.layers.Dense(1, activation='sigmoid')) \n",
    "\n",
    "model.summary()"
   ]
  },
  {
   "cell_type": "code",
   "execution_count": 95,
   "id": "0a76c5cf",
   "metadata": {
    "scrolled": true
   },
   "outputs": [
    {
     "name": "stdout",
     "output_type": "stream",
     "text": [
      "Epoch 1/20\n",
      "172/172 [==============================] - 2s 8ms/step - loss: 0.5870 - accuracy: 0.6736 - val_loss: 0.4923 - val_accuracy: 0.7628\n",
      "Epoch 2/20\n",
      "172/172 [==============================] - 1s 7ms/step - loss: 0.4392 - accuracy: 0.7967 - val_loss: 0.4275 - val_accuracy: 0.8047\n",
      "Epoch 3/20\n",
      "172/172 [==============================] - 1s 7ms/step - loss: 0.3710 - accuracy: 0.8363 - val_loss: 0.4033 - val_accuracy: 0.8146\n",
      "Epoch 4/20\n",
      "172/172 [==============================] - 1s 7ms/step - loss: 0.3246 - accuracy: 0.8620 - val_loss: 0.3919 - val_accuracy: 0.8249\n",
      "Epoch 5/20\n",
      "172/172 [==============================] - 1s 7ms/step - loss: 0.2883 - accuracy: 0.8801 - val_loss: 0.3950 - val_accuracy: 0.8282\n",
      "Epoch 6/20\n",
      "172/172 [==============================] - 1s 7ms/step - loss: 0.2587 - accuracy: 0.8956 - val_loss: 0.4076 - val_accuracy: 0.8253\n",
      "Epoch 7/20\n",
      "172/172 [==============================] - 1s 7ms/step - loss: 0.2320 - accuracy: 0.9085 - val_loss: 0.4292 - val_accuracy: 0.8248\n",
      "Epoch 8/20\n",
      "172/172 [==============================] - 1s 7ms/step - loss: 0.2090 - accuracy: 0.9197 - val_loss: 0.4475 - val_accuracy: 0.8244\n",
      "Epoch 9/20\n",
      "172/172 [==============================] - 1s 7ms/step - loss: 0.1857 - accuracy: 0.9306 - val_loss: 0.4706 - val_accuracy: 0.8222\n",
      "Epoch 10/20\n",
      "172/172 [==============================] - 1s 7ms/step - loss: 0.1625 - accuracy: 0.9407 - val_loss: 0.5210 - val_accuracy: 0.8203\n",
      "Epoch 11/20\n",
      "172/172 [==============================] - 1s 7ms/step - loss: 0.1457 - accuracy: 0.9470 - val_loss: 0.5381 - val_accuracy: 0.8184\n",
      "Epoch 12/20\n",
      "172/172 [==============================] - 1s 7ms/step - loss: 0.1279 - accuracy: 0.9550 - val_loss: 0.5932 - val_accuracy: 0.8155\n",
      "Epoch 13/20\n",
      "172/172 [==============================] - 1s 7ms/step - loss: 0.1089 - accuracy: 0.9627 - val_loss: 0.6386 - val_accuracy: 0.8172\n",
      "Epoch 14/20\n",
      "172/172 [==============================] - 1s 7ms/step - loss: 0.0989 - accuracy: 0.9659 - val_loss: 0.6613 - val_accuracy: 0.8144\n",
      "Epoch 15/20\n",
      "172/172 [==============================] - 1s 7ms/step - loss: 0.0888 - accuracy: 0.9695 - val_loss: 0.7080 - val_accuracy: 0.8129\n",
      "Epoch 16/20\n",
      "172/172 [==============================] - 1s 7ms/step - loss: 0.0825 - accuracy: 0.9717 - val_loss: 0.7472 - val_accuracy: 0.8137\n",
      "Epoch 17/20\n",
      "172/172 [==============================] - 1s 7ms/step - loss: 0.0714 - accuracy: 0.9759 - val_loss: 0.7964 - val_accuracy: 0.8123\n",
      "Epoch 18/20\n",
      "172/172 [==============================] - 1s 7ms/step - loss: 0.0653 - accuracy: 0.9778 - val_loss: 0.8696 - val_accuracy: 0.8111\n",
      "Epoch 19/20\n",
      "172/172 [==============================] - 1s 7ms/step - loss: 0.0613 - accuracy: 0.9786 - val_loss: 0.8724 - val_accuracy: 0.8129\n",
      "Epoch 20/20\n",
      "172/172 [==============================] - 1s 7ms/step - loss: 0.0571 - accuracy: 0.9801 - val_loss: 0.9163 - val_accuracy: 0.8125\n"
     ]
    }
   ],
   "source": [
    "# 학습의 진행\n",
    "model.compile(optimizer='adam',\n",
    "              loss='binary_crossentropy',\n",
    "              metrics=['accuracy'])\n",
    "              \n",
    "epochs=20  # 몇 epoch를 훈련하면 좋을지 결과를 보면서 바꾸어 봅시다. \n",
    "\n",
    "history = model.fit(partial_x_train,\n",
    "                    partial_y_train,\n",
    "                    epochs=epochs,\n",
    "                    batch_size=512,\n",
    "                    validation_data=(x_val, y_val),\n",
    "                    verbose=1)"
   ]
  },
  {
   "cell_type": "code",
   "execution_count": 96,
   "id": "0a56d452",
   "metadata": {},
   "outputs": [
    {
     "name": "stdout",
     "output_type": "stream",
     "text": [
      "1537/1537 - 3s - loss: 0.9370 - accuracy: 0.8083\n",
      "[0.9369605779647827, 0.8082877397537231]\n"
     ]
    }
   ],
   "source": [
    "eval_model(model, X_test, y_test)"
   ]
  },
  {
   "cell_type": "code",
   "execution_count": 97,
   "id": "4c662dea",
   "metadata": {},
   "outputs": [
    {
     "data": {
      "image/png": "[encoded data removed]",
      "text/plain": [
       "<Figure size 432x288 with 1 Axes>"
      ]
     },
     "metadata": {
      "needs_background": "light"
     },
     "output_type": "display_data"
    }
   ],
   "source": [
    "visual_history(history)"
   ]
  },
  {
   "cell_type": "code",
   "execution_count": 98,
   "id": "54d6be4e",
   "metadata": {
    "scrolled": false
   },
   "outputs": [
    {
     "data": {
      "text/plain": [
       "[('슬픔', 0.7047433257102966),\n",
       " ('행복', 0.6705141067504883),\n",
       " ('절망', 0.6359759569168091),\n",
       " ('기쁨', 0.6349973678588867),\n",
       " ('애정', 0.631896436214447),\n",
       " ('이별', 0.6288449764251709),\n",
       " ('추억', 0.6244515180587769),\n",
       " ('인생', 0.6210952997207642),\n",
       " ('연인', 0.6203098297119141),\n",
       " ('고독', 0.6109744906425476)]"
      ]
     },
     "execution_count": 98,
     "metadata": {},
     "output_type": "execute_result"
    }
   ],
   "source": [
    "word2vec_file_path = os.getenv('HOME')+'/aiffel/sentiment_classification/data/word2vecM4.txt' # 모델4\n",
    "save_w2v(word2vec_file_path, vocab_size, word_vector_dim)\n",
    "read_w2v(word2vec_file_path).similar_by_word(\"사랑\")"
   ]
  },
  {
   "cell_type": "markdown",
   "id": "68698691",
   "metadata": {},
   "source": [
    "#### 다섯번째 모델 : 한글 w2v적용, lstm 16"
   ]
  },
  {
   "cell_type": "code",
   "execution_count": 117,
   "id": "376082a1",
   "metadata": {},
   "outputs": [],
   "source": [
    "# 임베딩 메트릭스 초기화\n",
    "vocab_size = 10000    # 어휘 사전의 크기입니다(10,000개의 단어)\n",
    "word_vector_dim = 200  # 워드 벡터의 차원수\n",
    "embedding_matrix = np.random.rand(vocab_size, word_vector_dim)\n",
    "\n",
    "# embedding_matrix에 Word2Vec 워드 벡터를 단어 하나씩마다 차례차례 카피한다.\n",
    "for i in range(4,vocab_size):\n",
    "    if index_to_word[i] in ko_word2vec.wv:\n",
    "        embedding_matrix[i] = ko_word2vec.wv[index_to_word[i]]"
   ]
  },
  {
   "cell_type": "code",
   "execution_count": 118,
   "id": "c298c256",
   "metadata": {},
   "outputs": [
    {
     "name": "stdout",
     "output_type": "stream",
     "text": [
      "Model: \"sequential_14\"\n",
      "_________________________________________________________________\n",
      "Layer (type)                 Output Shape              Param #   \n",
      "=================================================================\n",
      "embedding_16 (Embedding)     (None, 42, 200)           2000000   \n",
      "_________________________________________________________________\n",
      "lstm_9 (LSTM)                (None, 16)                13888     \n",
      "_________________________________________________________________\n",
      "dense_22 (Dense)             (None, 8)                 136       \n",
      "_________________________________________________________________\n",
      "dense_23 (Dense)             (None, 1)                 9         \n",
      "=================================================================\n",
      "Total params: 2,014,033\n",
      "Trainable params: 2,014,033\n",
      "Non-trainable params: 0\n",
      "_________________________________________________________________\n"
     ]
    }
   ],
   "source": [
    "# \n",
    "vocab_size = 10000    # 어휘 사전의 크기입니다(10,000개의 단어)\n",
    "word_vector_dim = 200  # 워드 벡터의 차원 수 (변경 가능한 하이퍼파라미터)\n",
    "\n",
    "# model 설계 - 딥러닝 모델 코드를 직접 작성해 주세요.\n",
    "model = tf.keras.Sequential()\n",
    "model.add(tf.keras.layers.Embedding(vocab_size, \n",
    "                                 word_vector_dim, \n",
    "                                 embeddings_initializer=Constant(embedding_matrix),  # 카피한 임베딩을 여기서 활용\n",
    "                                 input_length=maxlen, \n",
    "                                 trainable=True))   # trainable을 True로 주면 Fine-tuning\n",
    "model.add(tf.keras.layers.LSTM(16)) # state 벡처 차원 16으로 변경\n",
    "model.add(tf.keras.layers.Dense(8, activation='relu'))\n",
    "model.add(tf.keras.layers.Dense(1, activation='sigmoid'))#최종 출력은 긍정/부정을 나타내는 1dim 입니다.\n",
    "model.summary()"
   ]
  },
  {
   "cell_type": "code",
   "execution_count": 120,
   "id": "a48398b2",
   "metadata": {},
   "outputs": [
    {
     "name": "stdout",
     "output_type": "stream",
     "text": [
      "Epoch 1/20\n",
      "172/172 [==============================] - 3s 10ms/step - loss: 0.2080 - accuracy: 0.9195 - val_loss: 0.3979 - val_accuracy: 0.8482\n",
      "Epoch 2/20\n",
      "172/172 [==============================] - 1s 8ms/step - loss: 0.1922 - accuracy: 0.9272 - val_loss: 0.4009 - val_accuracy: 0.8445\n",
      "Epoch 3/20\n",
      "172/172 [==============================] - 1s 8ms/step - loss: 0.1824 - accuracy: 0.9313 - val_loss: 0.4160 - val_accuracy: 0.8451\n"
     ]
    }
   ],
   "source": [
    "# 학습의 진행, 얼리스탑 추가\n",
    "model.compile(optimizer='adam',\n",
    "              loss='binary_crossentropy',\n",
    "              metrics=['accuracy'])\n",
    "\n",
    "from keras.callbacks import EarlyStopping\n",
    "early_stopping = EarlyStopping(monitor = 'val_loss', min_delta = 0, patience = 2, mode = 'auto')\n",
    "\n",
    "epochs=20  # 몇 epoch를 훈련하면 좋을지 결과를 보면서 바꾸어 봅시다. \n",
    "\n",
    "history = model.fit(partial_x_train,\n",
    "                    partial_y_train,\n",
    "                    epochs=epochs,\n",
    "                    batch_size=512,\n",
    "                    validation_data=(x_val, y_val),\n",
    "                    callbacks = [early_stopping],\n",
    "                    verbose=1)"
   ]
  },
  {
   "cell_type": "code",
   "execution_count": 121,
   "id": "f08ad50d",
   "metadata": {},
   "outputs": [
    {
     "name": "stdout",
     "output_type": "stream",
     "text": [
      "1537/1537 - 3s - loss: 0.4270 - accuracy: 0.8417\n",
      "[0.4269861876964569, 0.8416502475738525]\n"
     ]
    }
   ],
   "source": [
    "eval_model(model, X_test, y_test)"
   ]
  },
  {
   "cell_type": "markdown",
   "id": "d4e8b90b",
   "metadata": {},
   "source": [
    "#### 여섯번째 모델 : 한글 w2v적용, lstm, dropout 추가"
   ]
  },
  {
   "cell_type": "code",
   "execution_count": 128,
   "id": "bd93e457",
   "metadata": {},
   "outputs": [],
   "source": [
    "# 임베딩 메트릭스 초기화\n",
    "vocab_size = 10000    # 어휘 사전의 크기입니다(10,000개의 단어)\n",
    "word_vector_dim = 200  # 워드 벡터의 차원수\n",
    "embedding_matrix = np.random.rand(vocab_size, word_vector_dim)\n",
    "\n",
    "# embedding_matrix에 Word2Vec 워드 벡터를 단어 하나씩마다 차례차례 카피한다.\n",
    "for i in range(4,vocab_size):\n",
    "    if index_to_word[i] in ko_word2vec.wv:\n",
    "        embedding_matrix[i] = ko_word2vec.wv[index_to_word[i]]"
   ]
  },
  {
   "cell_type": "code",
   "execution_count": 129,
   "id": "2d9977d7",
   "metadata": {},
   "outputs": [
    {
     "name": "stdout",
     "output_type": "stream",
     "text": [
      "WARNING:tensorflow:Layer lstm_11 will not use cuDNN kernels since it doesn't meet the criteria. It will use a generic GPU kernel as fallback when running on GPU.\n",
      "Model: \"sequential_16\"\n",
      "_________________________________________________________________\n",
      "Layer (type)                 Output Shape              Param #   \n",
      "=================================================================\n",
      "embedding_18 (Embedding)     (None, 42, 200)           2000000   \n",
      "_________________________________________________________________\n",
      "lstm_11 (LSTM)               (None, 32)                29824     \n",
      "_________________________________________________________________\n",
      "dense_26 (Dense)             (None, 8)                 264       \n",
      "_________________________________________________________________\n",
      "dense_27 (Dense)             (None, 1)                 9         \n",
      "=================================================================\n",
      "Total params: 2,030,097\n",
      "Trainable params: 2,030,097\n",
      "Non-trainable params: 0\n",
      "_________________________________________________________________\n"
     ]
    }
   ],
   "source": [
    "from tensorflow.keras.layers import Dropout\n",
    "vocab_size = 10000    # 어휘 사전의 크기입니다(10,000개의 단어)\n",
    "word_vector_dim = 200  # 워드 벡터의 차원 수 (변경 가능한 하이퍼파라미터)\n",
    "\n",
    "# model 설계 - 딥러닝 모델 코드를 직접 작성해 주세요.\n",
    "model = tf.keras.Sequential()\n",
    "model.add(tf.keras.layers.Embedding(vocab_size, \n",
    "                                 word_vector_dim, \n",
    "                                 embeddings_initializer=Constant(embedding_matrix),  # 카피한 임베딩을 여기서 활용\n",
    "                                 input_length=maxlen, \n",
    "                                 trainable=True))   # trainable을 True로 주면 Fine-tuning\n",
    "model.add(tf.keras.layers.LSTM(32, dropout= 0.2,  recurrent_dropout=0.2)) # state 벡처 차원 16으로 변경\n",
    "\n",
    "model.add(tf.keras.layers.Dense(8, activation='relu'))\n",
    "model.add(tf.keras.layers.Dense(1, activation='sigmoid'))#최종 출력은 긍정/부정을 나타내는 1dim 입니다.\n",
    "model.summary()"
   ]
  },
  {
   "cell_type": "code",
   "execution_count": 130,
   "id": "a124fe73",
   "metadata": {},
   "outputs": [
    {
     "name": "stdout",
     "output_type": "stream",
     "text": [
      "Epoch 1/20\n",
      "172/172 [==============================] - 35s 186ms/step - loss: 0.6391 - accuracy: 0.6574 - val_loss: 0.5526 - val_accuracy: 0.7824\n",
      "Epoch 2/20\n",
      "172/172 [==============================] - 31s 183ms/step - loss: 0.5307 - accuracy: 0.7919 - val_loss: 0.4861 - val_accuracy: 0.8245\n",
      "Epoch 3/20\n",
      "172/172 [==============================] - 31s 183ms/step - loss: 0.4723 - accuracy: 0.8267 - val_loss: 0.4539 - val_accuracy: 0.8375\n",
      "Epoch 4/20\n",
      "172/172 [==============================] - 31s 182ms/step - loss: 0.4330 - accuracy: 0.8436 - val_loss: 0.4273 - val_accuracy: 0.8441\n",
      "Epoch 5/20\n",
      "172/172 [==============================] - 31s 182ms/step - loss: 0.4038 - accuracy: 0.8561 - val_loss: 0.4124 - val_accuracy: 0.8473\n",
      "Epoch 6/20\n",
      "172/172 [==============================] - 31s 182ms/step - loss: 0.3778 - accuracy: 0.8640 - val_loss: 0.3981 - val_accuracy: 0.8483\n",
      "Epoch 7/20\n",
      "172/172 [==============================] - 31s 180ms/step - loss: 0.3585 - accuracy: 0.8710 - val_loss: 0.3948 - val_accuracy: 0.8516\n",
      "Epoch 8/20\n",
      "172/172 [==============================] - 31s 180ms/step - loss: 0.3400 - accuracy: 0.8766 - val_loss: 0.3948 - val_accuracy: 0.8537\n",
      "Epoch 9/20\n",
      "172/172 [==============================] - 31s 179ms/step - loss: 0.3241 - accuracy: 0.8828 - val_loss: 0.3802 - val_accuracy: 0.8546\n",
      "Epoch 10/20\n",
      "172/172 [==============================] - 31s 178ms/step - loss: 0.3125 - accuracy: 0.8861 - val_loss: 0.3748 - val_accuracy: 0.8493\n",
      "Epoch 11/20\n",
      "172/172 [==============================] - 31s 179ms/step - loss: 0.2995 - accuracy: 0.8902 - val_loss: 0.3743 - val_accuracy: 0.8551\n",
      "Epoch 12/20\n",
      "172/172 [==============================] - 31s 178ms/step - loss: 0.2868 - accuracy: 0.8956 - val_loss: 0.3893 - val_accuracy: 0.8549\n"
     ]
    }
   ],
   "source": [
    "# 학습의 진행\n",
    "model.compile(optimizer='adam',\n",
    "              loss='binary_crossentropy',\n",
    "              metrics=['accuracy'])\n",
    "              \n",
    "\n",
    "from keras.callbacks import EarlyStopping\n",
    "early_stopping = EarlyStopping(monitor = 'val_loss', min_delta = 0, patience = 1, mode = 'auto')\n",
    "\n",
    "epochs=20  # 몇 epoch를 훈련하면 좋을지 결과를 보면서 바꾸어 봅시다. \n",
    "\n",
    "history = model.fit(partial_x_train,\n",
    "                    partial_y_train,\n",
    "                    epochs=epochs,\n",
    "                    batch_size=512,\n",
    "                    validation_data=(x_val, y_val),\n",
    "                    callbacks = [early_stopping],\n",
    "                    verbose=1)"
   ]
  },
  {
   "cell_type": "code",
   "execution_count": 131,
   "id": "84773f8d",
   "metadata": {},
   "outputs": [
    {
     "name": "stdout",
     "output_type": "stream",
     "text": [
      "1537/1537 - 19s - loss: 0.3979 - accuracy: 0.8521\n",
      "[0.3979156017303467, 0.8520861864089966]\n"
     ]
    }
   ],
   "source": [
    "eval_model(model, X_test, y_test)"
   ]
  },
  {
   "cell_type": "code",
   "execution_count": 132,
   "id": "1f741d2c",
   "metadata": {},
   "outputs": [
    {
     "data": {
      "image/png": "[encoded data removed]",
      "text/plain": [
       "<Figure size 432x288 with 1 Axes>"
      ]
     },
     "metadata": {
      "needs_background": "light"
     },
     "output_type": "display_data"
    }
   ],
   "source": [
    "visual_history(history)"
   ]
  },
  {
   "cell_type": "code",
   "execution_count": 133,
   "id": "aa1c25d9",
   "metadata": {},
   "outputs": [
    {
     "data": {
      "text/plain": [
       "[('슬픔', 0.7265310287475586),\n",
       " ('행복', 0.6947134137153625),\n",
       " ('이별', 0.6423642039299011),\n",
       " ('인생', 0.6400826573371887),\n",
       " ('추억', 0.6357772350311279),\n",
       " ('기쁨', 0.6286667585372925),\n",
       " ('연인', 0.6218015551567078),\n",
       " ('절망', 0.6177339553833008),\n",
       " ('애정', 0.6121349930763245),\n",
       " ('고독', 0.6006474494934082)]"
      ]
     },
     "execution_count": 133,
     "metadata": {},
     "output_type": "execute_result"
    }
   ],
   "source": [
    "word2vec_file_path = os.getenv('HOME')+'/aiffel/sentiment_classification/data/word2vecM5.txt' # 모델6\n",
    "save_w2v(word2vec_file_path, vocab_size, word_vector_dim)\n",
    "read_w2v(word2vec_file_path).similar_by_word(\"사랑\")"
   ]
  },
  {
   "cell_type": "markdown",
   "id": "94bf6bff",
   "metadata": {},
   "source": [
    "[결과] : 임베딩차원 :100 , 에폭 20, batch_size=512, **1D-conv 모델**\n",
    "- 테스트 정확도 0.8099이다.\n",
    "- acc 꾸준히 증가, val_acc 미소하게 감소\n",
    "- loss 꾸준히 감소, val_loss 2 에폭 부터 증가.\n",
    "- val_acc 최대 0.8411\n",
    "- 학습된 임베딩 벡터를 살펴본 결과, **사랑**과 유사한 단어로 **빠짐, 두세, 재발견, 콜린파렐, 풍성, 정점, 이만, 탐, 멋져요, 리딕**가 나왔다.\n",
    "\n",
    "[해석]\n",
    "- val_acc 0.8402 로 테스트 정확도 기준 0.85에 가깝게 나타났지만 모자란다.\n",
    "- val_acc는 0.81 수준으로 나왔으나, 초기 에폭 이후 학습을 거듭하여도 성능이 향상되지 않음.\n",
    "- 에폭 2부터 val_acc 증가 없이 val_loss 가 증가하여 오버피팅이 예상된다.\n",
    "- 사랑과 유사한 단어 목록이 앞선 모델보다 더 부정확해 보인다. 그나마 사랑과 연관된 단어(풍성, 정점, 멋져요)가 있지만, 앞선 두번째 모델의 단어들과 비교해 볼때 많이 차이가 난다. 의미 공간상 학습이 많이 부족하다고 판단된다.\n",
    "- 1-D conv 모델은 정확도는 첫번째 두번째 (RNN)모델과 유사하게 나왔지만, 실제 임베딩 학습의 성능은 많이 부족하다고 판단된다."
   ]
  },
  {
   "cell_type": "markdown",
   "id": "508adcbc",
   "metadata": {},
   "source": [
    "### 4. 회고\n",
    "- 어려웠던 점 : \n",
    "> 예시 코드 load_data 함수에서 '&#60;PAD>', '&#60;BOS>', '&#60;UNK>', '&#60;UNUSED>'가 단어사전에 없어서 수정하는 부분을 찾는라 조금 애먹었다.\n",
    "> 한글 w2v없이 성능을 개선하고자 할 때 어떻게 해보아도 되지 않아 애먹었다.\n",
    "> 한글 w2v 환경을 위해 버전과 파일을 읽을 load함수를 바꿔서 사용해야 했다.\n",
    "> 한글 w2v 으로도 성능을 개선 하기 어려워 이것저것 해보았다.\n",
    "- 알아낸점 : LSTM 층에 state 증가와 드롭아웃을 추가하는 것이 성능개선에 작은 도움이 되었다.\n",
    "- 시도한 것 : lstm 모델과 1D-cnn 모델 여러가지 를 시도하였다. 유사단어를 확이하여 단순히 정확도가 아닌 의미공간상 학습이 잘되는지 살펴보았다. 함글 w2v을 적용하고, lstm 모델의 state 증가, 드롭아웃을 추가하였다. 얼리스타핑을 추가하여 최적의 성능을 주는 모델을 가져올수 있도록 했다.\n",
    "- 자기 다짐 : 자연어가 매우 흥미로운 주제임에는 틀림 없다. 과정이 어려웠지만 가장 보람있는 익스였다. 스탑워드를 추가하는 개선을 시도하지 못해 아쉽다.\n"
   ]
  },
  {
   "cell_type": "code",
   "execution_count": null,
   "id": "241b7d46",
   "metadata": {},
   "outputs": [],
   "source": []
  }
 ],
 "metadata": {
  "kernelspec": {
   "display_name": "Python 3 (ipykernel)",
   "language": "python",
   "name": "python3"
  },
  "language_info": {
   "codemirror_mode": {
    "name": "ipython",
    "version": 3
   },
   "file_extension": ".py",
   "mimetype": "text/x-python",
   "name": "python",
   "nbconvert_exporter": "python",
   "pygments_lexer": "ipython3",
   "version": "3.9.7"
  }
 },
 "nbformat": 4,
 "nbformat_minor": 5
}
